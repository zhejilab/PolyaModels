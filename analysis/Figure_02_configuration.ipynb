{
 "cells": [
  {
   "cell_type": "markdown",
   "metadata": {},
   "source": [
    "# Figure 2: Motif configurations\n",
    "\n",
    "**Description:** Analyzing significant motifs for all models (classification, cleavage, strength) using a variety of approaches. (Main Figure)\n",
    "\n",
    "&rarr; Run this notebook with the `tf-train` kernel\n"
   ]
  },
  {
   "cell_type": "code",
   "execution_count": 1,
   "metadata": {},
   "outputs": [],
   "source": [
    "%load_ext autoreload"
   ]
  },
  {
   "cell_type": "code",
   "execution_count": 2,
   "metadata": {},
   "outputs": [],
   "source": [
    "%autoreload 2"
   ]
  },
  {
   "cell_type": "code",
   "execution_count": 3,
   "metadata": {},
   "outputs": [
    {
     "name": "stderr",
     "output_type": "stream",
     "text": [
      "Using TensorFlow backend.\n"
     ]
    }
   ],
   "source": [
    "%run -i notebook_setup.py"
   ]
  },
  {
   "cell_type": "markdown",
   "metadata": {},
   "source": [
    "## IMPORTS AND SETUP"
   ]
  },
  {
   "cell_type": "code",
   "execution_count": 4,
   "metadata": {},
   "outputs": [],
   "source": [
    "import utilities\n",
    "from utilities import sequence, model_builder, classification_cleavage, motifs, relative_strength, genomic_context\n",
    "\n",
    "from collections import defaultdict\n",
    "from matplotlib_venn import venn3, venn3_circles\n",
    "from statsmodels.stats.proportion import test_proportions_2indep\n",
    "\n",
    "from venn import venn\n"
   ]
  },
  {
   "cell_type": "code",
   "execution_count": 5,
   "metadata": {},
   "outputs": [],
   "source": [
    "## specify working directories\n",
    "\n",
    "PROJECT = \"/projects/b1080/eks/polyadenylation\"\n",
    "DATADIR = os.path.join(PROJECT, \"manuscripts\", \"01_development\", \"data\")\n",
    "RESDIR  = os.path.join(PROJECT, \"manuscripts\", \"01_development\", \"analysis\", \"resources\")\n",
    "OUTDIR  = os.path.join(PROJECT, \"manuscripts\", \"01_development\", \"figures\", \"Figure_02\")\n",
    "os.makedirs(OUTDIR, exist_ok = True)\n"
   ]
  },
  {
   "cell_type": "markdown",
   "metadata": {},
   "source": [
    "## IMPORT DATA"
   ]
  },
  {
   "cell_type": "markdown",
   "metadata": {},
   "source": [
    "### Motif threshold lists"
   ]
  },
  {
   "cell_type": "code",
   "execution_count": 6,
   "metadata": {},
   "outputs": [],
   "source": [
    "with open(os.path.join(RESDIR, 'motif_list_negative.median_then_mean.cutoff_background.pickle'), mode = 'rb') as handle:\n",
    "    final_background_list = pickle.load(handle)\n"
   ]
  },
  {
   "cell_type": "code",
   "execution_count": 7,
   "metadata": {},
   "outputs": [],
   "source": [
    "variants_patterns = ['TATAAA', 'AGTAAA', 'TTTAAA', 'AATACA', 'CATAAA', 'GATAAA', 'AATATA', 'AATGAA', 'AAGAAA']\n",
    "\n",
    "a_patterns = ['AAAAAA','AAAAA[C|G|T]','AAAA[C|G|T]A','AAA[C|G|T]AA','AA[C|G|T]AAA','A[C|G|T]AAAA']\n",
    "t_patterns = ['TTTTTT','TTTTT[A|C|G]','TTTT[A|C|G]T','TTT[A|C|G]TT','TT[A|C|G]TTT','T[A|C|G]TTTT']\n",
    "g_patterns = ['GGGGGG','GGGGG[A|C|T]','GGGG[A|C|T]G','GGG[A|C|T]GG','GG[A|C|T]GGG','G[A|C|T]GGGG']\n",
    "\n",
    "variants = [x for x in variants_patterns if x in final_background_list]\n",
    "a_rich = list(set([x for x in final_background_list if (re.search(\"|\".join(a_patterns), x) is not None) and (x not in ['AATAAA','ATTAAA'])]))\n",
    "t_rich = list(set([x for x in final_background_list if (re.search(\"|\".join(t_patterns), x) is not None)]))\n",
    "g_rich = list(set([x for x in final_background_list if (re.search(\"|\".join(g_patterns), x) is not None)]))\n",
    "\n",
    "gt_patterns = ['GTGT','TGTG','GTCT','CTGT','TCTG','TGTC']\n",
    "gt_rich = list(set([x for x in final_background_list for gt in gt_patterns if (gt in x) and (\"TGTA\" not in x) and ((x.count(\"T\") >= 3) or (x.count(\"G\") >= 3) or (x.count(\"C\") >= 3))]))\n",
    "\n",
    "tgta_rich = list(set([x for x in final_background_list if (\"TGTA\" in x)]))\n"
   ]
  },
  {
   "cell_type": "code",
   "execution_count": 8,
   "metadata": {},
   "outputs": [
    {
     "name": "stdout",
     "output_type": "stream",
     "text": [
      "AATAAA            1\n",
      "ATTAAA            1\n",
      "Variants          9\n",
      "A-rich           15\n",
      "TGTA-containing  43\n",
      "TGTA-only         1\n",
      "T-rich           16\n",
      "GT/CT-rich      122\n",
      "G-rich           16\n"
     ]
    }
   ],
   "source": [
    "motif_counts = {\n",
    "    'AATAAA'         : 1,\n",
    "    'ATTAAA'         : 1,\n",
    "    'Variants'       : len(variants),\n",
    "    'A-rich'         : len(a_rich),\n",
    "    'TGTA-containing': len(tgta_rich),\n",
    "    'TGTA-only'      : 1,\n",
    "    'T-rich'         : len(t_rich),\n",
    "    'GT/CT-rich'     : len(gt_rich),\n",
    "    'G-rich'         : len(g_rich),\n",
    "}\n",
    "\n",
    "for k,v in motif_counts.items(): print(f'{k:15} {v:3}')\n"
   ]
  },
  {
   "cell_type": "code",
   "execution_count": 9,
   "metadata": {},
   "outputs": [],
   "source": [
    "center = 120\n",
    "slop = 5\n",
    "\n",
    "ideal_clv_config = {\n",
    "    'AATAAA'     : {'motifs' : ['AATAAA'] , 'relpos' : -21, 'region' : (-30,-10)},\n",
    "    'TGTA'       : {'motifs' : tgta_rich,   'relpos' : -43, 'region' : (-90,-10)},\n",
    "    'T-rich_up'  : {'motifs' : t_rich,      'relpos' : -15, 'region' : (-20,0)},\n",
    "    'GT/CT-rich' : {'motifs' : gt_rich,     'relpos' : +10, 'region' : (0,30)},\n",
    "    'T-rich_dn'  : {'motifs' : t_rich,      'relpos' : +18, 'region' : (0,30)},\n",
    "    'G-rich'     : {'motifs' : g_rich,      'relpos' : +37, 'region' : (20,90)},\n",
    "}\n"
   ]
  },
  {
   "cell_type": "markdown",
   "metadata": {},
   "source": [
    "## Analyze motif configurations"
   ]
  },
  {
   "cell_type": "code",
   "execution_count": 10,
   "metadata": {},
   "outputs": [],
   "source": [
    "with open(os.path.join(DATADIR, 'comprehensive_predictions', 'reads3_golden_sites.processed.pickle'), mode = 'rb') as handle:\n",
    "    gold_data = pickle.load(handle)\n"
   ]
  },
  {
   "cell_type": "code",
   "execution_count": 11,
   "metadata": {},
   "outputs": [
    {
     "name": "stderr",
     "output_type": "stream",
     "text": [
      "32682it [00:03, 10135.53it/s]\n"
     ]
    }
   ],
   "source": [
    "gold_sites = {}\n",
    "\n",
    "for i,row in tqdm.tqdm(gold_data.iterrows()):\n",
    "    \n",
    "    rowkey = (row['gene'],row['chrom'],row['strand'])\n",
    "    \n",
    "    if not (rowkey in gold_sites):\n",
    "        gold_sites[rowkey] = [row['start']]\n",
    "    else:\n",
    "        gold_sites[rowkey].append(row['start'])\n",
    "    "
   ]
  },
  {
   "cell_type": "code",
   "execution_count": 12,
   "metadata": {},
   "outputs": [],
   "source": [
    "gold_sites_labels = {}\n",
    "\n",
    "for rk,pl in gold_sites.items():\n",
    "    \n",
    "    gold_sites_labels[rk] = {}\n",
    "    \n",
    "    if (len(pl) == 1):\n",
    "        gold_sites_labels[rk][pl[0]] = 'single'\n",
    "        \n",
    "    else:\n",
    "        spl = sorted(pl)\n",
    "        g,c,s = rk\n",
    "            \n",
    "        gold_sites_labels[rk][spl[0]] = 'first' if (s == '+') else 'last'\n",
    "        gold_sites_labels[rk][spl[-1]] = 'last' if (s == '+') else 'first'\n",
    "\n",
    "        for p in spl[1:-1]:\n",
    "            gold_sites_labels[rk][p] = 'middle'\n",
    "        "
   ]
  },
  {
   "cell_type": "code",
   "execution_count": 13,
   "metadata": {},
   "outputs": [
    {
     "name": "stdout",
     "output_type": "stream",
     "text": [
      "middle    9650\n",
      "first     7962\n",
      "last      7962\n",
      "single    7108\n",
      "Name: position, dtype: int64\n"
     ]
    }
   ],
   "source": [
    "gold_data['position'] = gold_data.apply(lambda row : gold_sites_labels.get((row['gene'],row['chrom'],row['strand']), {}).get(row['start'], 'NA'), axis = 1)\n",
    "print(gold_data['position'].value_counts())\n"
   ]
  },
  {
   "cell_type": "markdown",
   "metadata": {},
   "source": [
    "#### Identifying motif positions relative to the max cleavage site"
   ]
  },
  {
   "cell_type": "code",
   "execution_count": 14,
   "metadata": {},
   "outputs": [],
   "source": [
    "gold_data['idx_max_clv'] = gold_data['scorevec'].apply(lambda x : np.argmax(x) + 95)\n"
   ]
  },
  {
   "cell_type": "code",
   "execution_count": 15,
   "metadata": {},
   "outputs": [
    {
     "name": "stderr",
     "output_type": "stream",
     "text": [
      "100%|██████████| 6/6 [00:22<00:00,  3.82s/it]\n"
     ]
    }
   ],
   "source": [
    "for var,vdict in tqdm.tqdm(ideal_clv_config.items()):\n",
    "    gold_data[f'idx_{var}'] = gold_data.apply(lambda row : motifs.find_motif(row['sequence'], vdict['motifs'], motif_type = 'all', region = vdict['region'], max_clv = row['idx_max_clv']), axis = 1)\n"
   ]
  },
  {
   "cell_type": "code",
   "execution_count": 16,
   "metadata": {},
   "outputs": [],
   "source": [
    "for var in ideal_clv_config.keys():\n",
    "    gold_data[f'pres_{var}'] = ~gold_data[f'idx_{var}'].isna()\n",
    "    "
   ]
  },
  {
   "cell_type": "code",
   "execution_count": 17,
   "metadata": {},
   "outputs": [
    {
     "name": "stdout",
     "output_type": "stream",
     "text": [
      "(815017, 54)\n"
     ]
    }
   ],
   "source": [
    "gold_long = gold_data.copy()\n",
    "\n",
    "gold_long = gold_long.explode('idx_AATAAA')\n",
    "gold_long = gold_long.explode('idx_GT/CT-rich')\n",
    "gold_long = gold_long.explode('idx_T-rich_dn')\n",
    "\n",
    "print(gold_long.shape)\n"
   ]
  },
  {
   "cell_type": "markdown",
   "metadata": {},
   "source": [
    "#### Identifying motif positions relative to the anchor motifs"
   ]
  },
  {
   "cell_type": "code",
   "execution_count": 18,
   "metadata": {},
   "outputs": [],
   "source": [
    "gold_long['dist_T-rich_dn_GT/CT-rich'] = gold_long['idx_T-rich_dn'] - gold_long['idx_GT/CT-rich']\n",
    "gold_long['dist_TGTA_AATAAA']          = gold_long['idx_TGTA']      - gold_long['idx_AATAAA']\n",
    "gold_long['dist_T-rich_up_AATAAA']     = gold_long['idx_T-rich_up'] - gold_long['idx_AATAAA']\n",
    "gold_long['dist_G-rich_dn_GT/CT-rich'] = gold_long['idx_G-rich']    - gold_long['idx_GT/CT-rich']\n",
    "\n",
    "gold_long['order_T-rich_dn_GT/CT-rich'] = gold_long['dist_T-rich_dn_GT/CT-rich'].between(6,20)\n",
    "gold_long['order_TGTA_AATAAA']          = gold_long['dist_TGTA_AATAAA'].apply(lambda x : np.any((x >= -46) & (x <= -6)))\n",
    "gold_long['order_T-rich_up_AATAAA']     = gold_long['dist_T-rich_up_AATAAA'].apply(lambda x : np.any((x >= 6)))\n",
    "gold_long['order_G-rich_dn_GT/CT-rich'] = gold_long['dist_G-rich_dn_GT/CT-rich'].apply(lambda x : np.any((x >= 6) & (x <= 56)))\n"
   ]
  },
  {
   "cell_type": "code",
   "execution_count": 19,
   "metadata": {},
   "outputs": [
    {
     "name": "stdout",
     "output_type": "stream",
     "text": [
      "422189 13876\n",
      "Group counts for anchor motifs:\n",
      " {'100': 3976, '010': 4662, '110': 6071, '001': 3024, '101': 3737, '011': 4361, '111': 4068}\n",
      "Group counts for accesory motifs in anchored sites:\n",
      " {'100': 3498, '010': 1644, '110': 1034, '001': 1064, '101': 407, '011': 179, '111': 81}\n"
     ]
    }
   ],
   "source": [
    "condAATAAA = gold_long['pres_AATAAA']\n",
    "condGTCT   = gold_long['pres_GT/CT-rich']\n",
    "condTdn    = gold_long['pres_T-rich_dn']\n",
    "condANCHOR = (condAATAAA & (condGTCT | condTdn))\n",
    "print(condANCHOR.sum(), gold_long.loc[condANCHOR, 'cluster'].nunique())\n",
    "\n",
    "condTwoDn  = condANCHOR & gold_long['order_T-rich_dn_GT/CT-rich']\n",
    "condTGTA   = condANCHOR & gold_long['order_TGTA_AATAAA']\n",
    "condTup    = condANCHOR & gold_long['order_T-rich_up_AATAAA']\n",
    "condGdn    = condANCHOR & gold_long['order_G-rich_dn_GT/CT-rich']\n",
    "\n",
    "countsANCHOR = {\n",
    "    '100' : gold_long.loc[( condAATAAA) & (~condGTCT) & (~condTdn), 'cluster'].nunique(),\n",
    "    '010' : gold_long.loc[(~condAATAAA) & ( condGTCT) & (~condTdn), 'cluster'].nunique(),\n",
    "    '110' : gold_long.loc[( condAATAAA) & ( condGTCT) & (~condTdn), 'cluster'].nunique(),\n",
    "    '001' : gold_long.loc[(~condAATAAA) & (~condGTCT) & ( condTdn), 'cluster'].nunique(),\n",
    "    '101' : gold_long.loc[( condAATAAA) & (~condGTCT) & ( condTdn), 'cluster'].nunique(),\n",
    "    '011' : gold_long.loc[(~condAATAAA) & ( condGTCT) & ( condTdn), 'cluster'].nunique(),\n",
    "    '111' : gold_long.loc[( condAATAAA) & ( condGTCT) & ( condTdn), 'cluster'].nunique(),\n",
    "}\n",
    "print(\"Group counts for anchor motifs:\\n\", countsANCHOR)\n",
    "\n",
    "\n",
    "countsACCESSORY = {\n",
    "    '100' : gold_long.loc[( condTGTA) & (~condTup) & (~condGdn), 'cluster'].nunique(),\n",
    "    '010' : gold_long.loc[(~condTGTA) & ( condTup) & (~condGdn), 'cluster'].nunique(),\n",
    "    '110' : gold_long.loc[( condTGTA) & ( condTup) & (~condGdn), 'cluster'].nunique(),\n",
    "    '001' : gold_long.loc[(~condTGTA) & (~condTup) & ( condGdn), 'cluster'].nunique(),\n",
    "    '101' : gold_long.loc[( condTGTA) & (~condTup) & ( condGdn), 'cluster'].nunique(),\n",
    "    '011' : gold_long.loc[(~condTGTA) & ( condTup) & ( condGdn), 'cluster'].nunique(),\n",
    "    '111' : gold_long.loc[( condTGTA) & ( condTup) & ( condGdn), 'cluster'].nunique(),\n",
    "}\n",
    "print(\"Group counts for accesory motifs in anchored sites:\\n\", countsACCESSORY)\n"
   ]
  },
  {
   "cell_type": "markdown",
   "metadata": {},
   "source": [
    "#### Tabulate the number of optimally-positioned motifs"
   ]
  },
  {
   "cell_type": "code",
   "execution_count": 25,
   "metadata": {},
   "outputs": [
    {
     "name": "stdout",
     "output_type": "stream",
     "text": [
      "0    392828\n",
      "3    202832\n",
      "2    131427\n",
      "4     75848\n",
      "5     11563\n",
      "6       519\n",
      "Name: number, dtype: int64\n"
     ]
    }
   ],
   "source": [
    "order_cols = ['order_T-rich_dn_GT/CT-rich','order_TGTA_AATAAA','order_T-rich_up_AATAAA','order_G-rich_dn_GT/CT-rich']\n",
    "\n",
    "gold_long['number'] = 0\n",
    "gold_long.loc[condANCHOR, 'number'] = (2 + gold_long.loc[condANCHOR, order_cols].to_numpy().sum(axis=1)).astype(int)\n",
    "\n",
    "print(gold_long['number'].value_counts())\n"
   ]
  },
  {
   "cell_type": "markdown",
   "metadata": {},
   "source": [
    "#### Categorize sites into groups based on motifs present"
   ]
  },
  {
   "cell_type": "code",
   "execution_count": 28,
   "metadata": {},
   "outputs": [],
   "source": [
    "category_ranks = {\n",
    "    'CPSF-CstF anchors' : 1,\n",
    "    \n",
    "    '+CFI'     : 2,\n",
    "    '+FIP1'    : 3,\n",
    "    '+2ndCstF' : 4,\n",
    "    '+hnRNP'   : 5,\n",
    "    \n",
    "    '+CFI +FIP1'      : 6,\n",
    "    '+CFI +2ndCstF'   : 7,\n",
    "    '+CFI +hnRNP'     : 8,\n",
    "    '+FIP1 +2ndCstF'  : 9,\n",
    "    '+FIP1 +hnRNP'    : 10,\n",
    "    '+2ndCstF +hnRNP' : 11,\n",
    "    \n",
    "    '+CFI +FIP1 +2ndCstF'   : 12,\n",
    "    '+CFI +FIP1 +hnRNP'     : 13,\n",
    "    '+CFI +2ndCstF +hnRNP'  : 14,\n",
    "    '+FIP1 +2ndCstF +hnRNP' : 15,\n",
    "    \n",
    "    '+CFI +FIP1 +2ndCstF +hnRNP' : 16,\n",
    "}\n",
    "\n",
    "\n",
    "gold_long['category'] = np.nan\n",
    "\n",
    "gold_long.loc[condANCHOR, 'category'] = 'CPSF-CstF anchors'\n",
    "\n",
    "gold_long.loc[( condTGTA) & (~condTup) & (~condTwoDn) & (~condGdn), 'category'] = '+CFI'\n",
    "gold_long.loc[(~condTGTA) & ( condTup) & (~condTwoDn) & (~condGdn), 'category'] = '+FIP1'\n",
    "gold_long.loc[(~condTGTA) & (~condTup) & ( condTwoDn) & (~condGdn), 'category'] = '+2ndCstF'\n",
    "gold_long.loc[(~condTGTA) & (~condTup) & (~condTwoDn) & ( condGdn), 'category'] = '+hnRNP'\n",
    "\n",
    "gold_long.loc[( condTGTA) & ( condTup) & (~condTwoDn) & (~condGdn), 'category'] = '+CFI +FIP1'\n",
    "gold_long.loc[( condTGTA) & (~condTup) & ( condTwoDn) & (~condGdn), 'category'] = '+CFI +2ndCstF'\n",
    "gold_long.loc[( condTGTA) & (~condTup) & (~condTwoDn) & ( condGdn), 'category'] = '+CFI +hnRNP'\n",
    "gold_long.loc[(~condTGTA) & ( condTup) & ( condTwoDn) & (~condGdn), 'category'] = '+FIP1 +2ndCstF'\n",
    "gold_long.loc[(~condTGTA) & ( condTup) & (~condTwoDn) & ( condGdn), 'category'] = '+FIP1 +hnRNP'\n",
    "gold_long.loc[(~condTGTA) & (~condTup) & ( condTwoDn) & ( condGdn), 'category'] = '+2ndCstF +hnRNP'\n",
    "\n",
    "gold_long.loc[( condTGTA) & ( condTup) & ( condTwoDn) & (~condGdn), 'category'] = '+CFI +FIP1 +2ndCstF'\n",
    "gold_long.loc[( condTGTA) & ( condTup) & (~condTwoDn) & ( condGdn), 'category'] = '+CFI +FIP1 +hnRNP'\n",
    "gold_long.loc[( condTGTA) & (~condTup) & ( condTwoDn) & ( condGdn), 'category'] = '+CFI +2ndCstF +hnRNP'\n",
    "gold_long.loc[(~condTGTA) & ( condTup) & ( condTwoDn) & ( condGdn), 'category'] = '+FIP1 +2ndCstF +hnRNP'\n",
    "\n",
    "gold_long.loc[( condTGTA) & ( condTup) & ( condTwoDn) & ( condGdn), 'category'] = '+CFI +FIP1 +2ndCstF +hnRNP'\n",
    "\n",
    "gold_long['category_rank'] = gold_long['category'].apply(lambda x : category_ranks.get(x, np.nan))\n"
   ]
  },
  {
   "cell_type": "code",
   "execution_count": 67,
   "metadata": {},
   "outputs": [
    {
     "name": "stdout",
     "output_type": "stream",
     "text": [
      "13876\n",
      "CPSF-CstF anchors             4876\n",
      "+CFI                          2822\n",
      "+FIP1                         1303\n",
      "+2ndCstF                      1172\n",
      "+hnRNP                         931\n",
      "+CFI +FIP1                     836\n",
      "+CFI +2ndCstF                  634\n",
      "+CFI +hnRNP                    346\n",
      "+FIP1 +2ndCstF                 315\n",
      "+FIP1 +hnRNP                   149\n",
      "+2ndCstF +hnRNP                132\n",
      "+CFI +FIP1 +2ndCstF            188\n",
      "+CFI +FIP1 +hnRNP               61\n",
      "+CFI +2ndCstF +hnRNP            61\n",
      "+FIP1 +2ndCstF +hnRNP           30\n",
      "+CFI +FIP1 +2ndCstF +hnRNP      20\n",
      "Name: category, dtype: int64\n"
     ]
    }
   ],
   "source": [
    "# gold_priority_category = gold_long.loc[~gold_long['category'].isna()].copy().groupby('cluster').apply(lambda df : df.sort_values('category_rank', ascending = False).head(1))\n",
    "\n",
    "ordering_combos = list(category_ranks.keys())\n",
    "# ordering_combos = gold_priority_category.groupby(['category','number'])['our-models_strength'].describe().sort_values(['number','mean']).reset_index()['category'].tolist()\n",
    "\n",
    "print(gold_priority_category[['cluster','category']].drop_duplicates()['cluster'].nunique())\n",
    "print(gold_priority_category[['cluster','category']].drop_duplicates()['category'].value_counts().loc[ordering_combos])\n"
   ]
  },
  {
   "cell_type": "code",
   "execution_count": 30,
   "metadata": {},
   "outputs": [
    {
     "name": "stdout",
     "output_type": "stream",
     "text": [
      "4968\n",
      "2902\n",
      "2552\n",
      "1730\n"
     ]
    }
   ],
   "source": [
    "gold_priority_category['presence_CFI']     = gold_priority_category['category'].str.contains(\"CFI\")\n",
    "gold_priority_category['presence_FIP1']    = gold_priority_category['category'].str.contains(\"FIP1\")\n",
    "gold_priority_category['presence_2ndCstF'] = gold_priority_category['category'].str.contains(\"2ndCstF\")\n",
    "gold_priority_category['presence_hnRNP']   = gold_priority_category['category'].str.contains(\"hnRNP\")\n",
    "\n",
    "print(gold_priority_category['presence_CFI'].sum())\n",
    "print(gold_priority_category['presence_FIP1'].sum())\n",
    "print(gold_priority_category['presence_2ndCstF'].sum())\n",
    "print(gold_priority_category['presence_hnRNP'].sum())\n"
   ]
  },
  {
   "cell_type": "code",
   "execution_count": 32,
   "metadata": {},
   "outputs": [
    {
     "name": "stdout",
     "output_type": "stream",
     "text": [
      "(13876, 69)\n",
      "(13876, 5)\n"
     ]
    }
   ],
   "source": [
    "print(gold_priority_category.shape)\n",
    "print(gold_priority_category[['cluster','presence_CFI','presence_FIP1','presence_2ndCstF','presence_hnRNP']].drop_duplicates().shape)\n"
   ]
  },
  {
   "cell_type": "markdown",
   "metadata": {},
   "source": [
    "#### Tally sites with different motif configurations"
   ]
  },
  {
   "cell_type": "markdown",
   "metadata": {},
   "source": [
    "##### Individual motifs"
   ]
  },
  {
   "cell_type": "code",
   "execution_count": 45,
   "metadata": {},
   "outputs": [
    {
     "data": {
      "text/html": [
       "<div>\n",
       "<style scoped>\n",
       "    .dataframe tbody tr th:only-of-type {\n",
       "        vertical-align: middle;\n",
       "    }\n",
       "\n",
       "    .dataframe tbody tr th {\n",
       "        vertical-align: top;\n",
       "    }\n",
       "\n",
       "    .dataframe thead th {\n",
       "        text-align: right;\n",
       "    }\n",
       "</style>\n",
       "<table border=\"1\" class=\"dataframe\">\n",
       "  <thead>\n",
       "    <tr style=\"text-align: right;\">\n",
       "      <th></th>\n",
       "      <th>variable</th>\n",
       "      <th>count</th>\n",
       "      <th>sum</th>\n",
       "      <th>prop</th>\n",
       "    </tr>\n",
       "  </thead>\n",
       "  <tbody>\n",
       "    <tr>\n",
       "      <td>0</td>\n",
       "      <td>presence_2ndCstF</td>\n",
       "      <td>13876</td>\n",
       "      <td>2552.0</td>\n",
       "      <td>18.391467</td>\n",
       "    </tr>\n",
       "    <tr>\n",
       "      <td>1</td>\n",
       "      <td>presence_CFI</td>\n",
       "      <td>13876</td>\n",
       "      <td>4968.0</td>\n",
       "      <td>35.802825</td>\n",
       "    </tr>\n",
       "    <tr>\n",
       "      <td>2</td>\n",
       "      <td>presence_FIP1</td>\n",
       "      <td>13876</td>\n",
       "      <td>2902.0</td>\n",
       "      <td>20.913808</td>\n",
       "    </tr>\n",
       "    <tr>\n",
       "      <td>3</td>\n",
       "      <td>presence_hnRNP</td>\n",
       "      <td>13876</td>\n",
       "      <td>1730.0</td>\n",
       "      <td>12.467570</td>\n",
       "    </tr>\n",
       "  </tbody>\n",
       "</table>\n",
       "</div>"
      ],
      "text/plain": [
       "           variable  count     sum       prop\n",
       "0  presence_2ndCstF  13876  2552.0  18.391467\n",
       "1      presence_CFI  13876  4968.0  35.802825\n",
       "2     presence_FIP1  13876  2902.0  20.913808\n",
       "3    presence_hnRNP  13876  1730.0  12.467570"
      ]
     },
     "execution_count": 45,
     "metadata": {},
     "output_type": "execute_result"
    }
   ],
   "source": [
    "gold_counts = (gold_priority_category[['cluster','number','presence_CFI','presence_FIP1','presence_2ndCstF','presence_hnRNP']]\n",
    "               .drop_duplicates()\n",
    "               .melt(id_vars = ['cluster', 'number'])\n",
    "               .groupby('variable')['value'].agg(['count','sum'])\n",
    "               .assign(prop = lambda x : x['sum'] / x['count'] * 100)\n",
    "               .reset_index())\n"
   ]
  },
  {
   "cell_type": "code",
   "execution_count": 56,
   "metadata": {},
   "outputs": [
    {
     "data": {
      "image/png": "[encoded data removed]",
      "text/plain": [
       "<Figure size 108x72 with 1 Axes>"
      ]
     },
     "metadata": {
      "needs_background": "light"
     },
     "output_type": "display_data"
    },
    {
     "name": "stdout",
     "output_type": "stream",
     "text": [
      "Corresponding data:\n",
      "           variable  count     sum       prop\n",
      "0  presence_2ndCstF  13876  2552.0  18.391467\n",
      "1      presence_CFI  13876  4968.0  35.802825\n",
      "2     presence_FIP1  13876  2902.0  20.913808\n",
      "3    presence_hnRNP  13876  1730.0  12.467570\n"
     ]
    }
   ],
   "source": [
    "fig,ax = plt.subplots(1,1 ,figsize = (1.5,1))\n",
    "\n",
    "sns.barplot(data = gold_counts, y = 'variable', x = 'prop', \n",
    "            order = ['presence_CFI','presence_FIP1','presence_2ndCstF','presence_hnRNP'],\n",
    "            color = 'gray', edgecolor = 'black', linewidth = 0.5,\n",
    "            saturation = 1, ax = ax)\n",
    "\n",
    "ax.set_ylabel(\"Motif present\")\n",
    "\n",
    "ax.set_xlabel(\"Fraction of sites (%)\")\n",
    "ax.set_xlim(0,36)\n",
    "ax.xaxis.set_major_locator(MultipleLocator(6))\n",
    "\n",
    "ax.spines['right'].set_visible(False)\n",
    "ax.spines['top'].set_visible(False)\n",
    "\n",
    "plt.savefig(os.path.join(OUTDIR, f'motif_configuration.fraction_by_individual.svg'), format = 'svg', dpi = 600, transparent = True)\n",
    "plt.show()\n",
    "\n",
    "\n",
    "print(\"Corresponding data:\")\n",
    "print(gold_counts)\n"
   ]
  },
  {
   "cell_type": "markdown",
   "metadata": {},
   "source": [
    "##### Motif combinations"
   ]
  },
  {
   "cell_type": "code",
   "execution_count": 57,
   "metadata": {},
   "outputs": [
    {
     "data": {
      "text/html": [
       "<div>\n",
       "<style scoped>\n",
       "    .dataframe tbody tr th:only-of-type {\n",
       "        vertical-align: middle;\n",
       "    }\n",
       "\n",
       "    .dataframe tbody tr th {\n",
       "        vertical-align: top;\n",
       "    }\n",
       "\n",
       "    .dataframe thead th {\n",
       "        text-align: right;\n",
       "    }\n",
       "</style>\n",
       "<table border=\"1\" class=\"dataframe\">\n",
       "  <thead>\n",
       "    <tr style=\"text-align: right;\">\n",
       "      <th></th>\n",
       "      <th>number</th>\n",
       "      <th>category</th>\n",
       "      <th>count</th>\n",
       "      <th>count_log10</th>\n",
       "      <th>prop</th>\n",
       "    </tr>\n",
       "  </thead>\n",
       "  <tbody>\n",
       "    <tr>\n",
       "      <td>0</td>\n",
       "      <td>2</td>\n",
       "      <td>CPSF-CstF anchors</td>\n",
       "      <td>4876</td>\n",
       "      <td>3.688064</td>\n",
       "      <td>35.139810</td>\n",
       "    </tr>\n",
       "    <tr>\n",
       "      <td>1</td>\n",
       "      <td>3</td>\n",
       "      <td>+2ndCstF</td>\n",
       "      <td>1172</td>\n",
       "      <td>3.068928</td>\n",
       "      <td>8.446238</td>\n",
       "    </tr>\n",
       "    <tr>\n",
       "      <td>2</td>\n",
       "      <td>3</td>\n",
       "      <td>+CFI</td>\n",
       "      <td>2822</td>\n",
       "      <td>3.450557</td>\n",
       "      <td>20.337273</td>\n",
       "    </tr>\n",
       "    <tr>\n",
       "      <td>3</td>\n",
       "      <td>3</td>\n",
       "      <td>+FIP1</td>\n",
       "      <td>1303</td>\n",
       "      <td>3.114944</td>\n",
       "      <td>9.390314</td>\n",
       "    </tr>\n",
       "    <tr>\n",
       "      <td>4</td>\n",
       "      <td>3</td>\n",
       "      <td>+hnRNP</td>\n",
       "      <td>931</td>\n",
       "      <td>2.968950</td>\n",
       "      <td>6.709426</td>\n",
       "    </tr>\n",
       "    <tr>\n",
       "      <td>5</td>\n",
       "      <td>4</td>\n",
       "      <td>+2ndCstF +hnRNP</td>\n",
       "      <td>132</td>\n",
       "      <td>2.120574</td>\n",
       "      <td>0.951283</td>\n",
       "    </tr>\n",
       "    <tr>\n",
       "      <td>6</td>\n",
       "      <td>4</td>\n",
       "      <td>+CFI +2ndCstF</td>\n",
       "      <td>634</td>\n",
       "      <td>2.802089</td>\n",
       "      <td>4.569040</td>\n",
       "    </tr>\n",
       "    <tr>\n",
       "      <td>7</td>\n",
       "      <td>4</td>\n",
       "      <td>+CFI +FIP1</td>\n",
       "      <td>836</td>\n",
       "      <td>2.922206</td>\n",
       "      <td>6.024791</td>\n",
       "    </tr>\n",
       "    <tr>\n",
       "      <td>8</td>\n",
       "      <td>4</td>\n",
       "      <td>+CFI +hnRNP</td>\n",
       "      <td>346</td>\n",
       "      <td>2.539076</td>\n",
       "      <td>2.493514</td>\n",
       "    </tr>\n",
       "    <tr>\n",
       "      <td>9</td>\n",
       "      <td>4</td>\n",
       "      <td>+FIP1 +2ndCstF</td>\n",
       "      <td>315</td>\n",
       "      <td>2.498311</td>\n",
       "      <td>2.270107</td>\n",
       "    </tr>\n",
       "    <tr>\n",
       "      <td>10</td>\n",
       "      <td>4</td>\n",
       "      <td>+FIP1 +hnRNP</td>\n",
       "      <td>149</td>\n",
       "      <td>2.173186</td>\n",
       "      <td>1.073796</td>\n",
       "    </tr>\n",
       "    <tr>\n",
       "      <td>11</td>\n",
       "      <td>5</td>\n",
       "      <td>+CFI +2ndCstF +hnRNP</td>\n",
       "      <td>61</td>\n",
       "      <td>1.785330</td>\n",
       "      <td>0.439608</td>\n",
       "    </tr>\n",
       "    <tr>\n",
       "      <td>12</td>\n",
       "      <td>5</td>\n",
       "      <td>+CFI +FIP1 +2ndCstF</td>\n",
       "      <td>188</td>\n",
       "      <td>2.274158</td>\n",
       "      <td>1.354857</td>\n",
       "    </tr>\n",
       "    <tr>\n",
       "      <td>13</td>\n",
       "      <td>5</td>\n",
       "      <td>+CFI +FIP1 +hnRNP</td>\n",
       "      <td>61</td>\n",
       "      <td>1.785330</td>\n",
       "      <td>0.439608</td>\n",
       "    </tr>\n",
       "    <tr>\n",
       "      <td>14</td>\n",
       "      <td>5</td>\n",
       "      <td>+FIP1 +2ndCstF +hnRNP</td>\n",
       "      <td>30</td>\n",
       "      <td>1.477121</td>\n",
       "      <td>0.216201</td>\n",
       "    </tr>\n",
       "    <tr>\n",
       "      <td>15</td>\n",
       "      <td>6</td>\n",
       "      <td>+CFI +FIP1 +2ndCstF +hnRNP</td>\n",
       "      <td>20</td>\n",
       "      <td>1.301030</td>\n",
       "      <td>0.144134</td>\n",
       "    </tr>\n",
       "  </tbody>\n",
       "</table>\n",
       "</div>"
      ],
      "text/plain": [
       "    number                    category  count  count_log10       prop\n",
       "0        2           CPSF-CstF anchors   4876     3.688064  35.139810\n",
       "1        3                    +2ndCstF   1172     3.068928   8.446238\n",
       "2        3                        +CFI   2822     3.450557  20.337273\n",
       "3        3                       +FIP1   1303     3.114944   9.390314\n",
       "4        3                      +hnRNP    931     2.968950   6.709426\n",
       "5        4             +2ndCstF +hnRNP    132     2.120574   0.951283\n",
       "6        4               +CFI +2ndCstF    634     2.802089   4.569040\n",
       "7        4                  +CFI +FIP1    836     2.922206   6.024791\n",
       "8        4                 +CFI +hnRNP    346     2.539076   2.493514\n",
       "9        4              +FIP1 +2ndCstF    315     2.498311   2.270107\n",
       "10       4                +FIP1 +hnRNP    149     2.173186   1.073796\n",
       "11       5        +CFI +2ndCstF +hnRNP     61     1.785330   0.439608\n",
       "12       5         +CFI +FIP1 +2ndCstF    188     2.274158   1.354857\n",
       "13       5           +CFI +FIP1 +hnRNP     61     1.785330   0.439608\n",
       "14       5       +FIP1 +2ndCstF +hnRNP     30     1.477121   0.216201\n",
       "15       6  +CFI +FIP1 +2ndCstF +hnRNP     20     1.301030   0.144134"
      ]
     },
     "execution_count": 57,
     "metadata": {},
     "output_type": "execute_result"
    }
   ],
   "source": [
    "gold_counts = (gold_priority_category[['cluster','number','category']]\n",
    "               .drop_duplicates()\n",
    "               .groupby(['number','category']).size()\n",
    "               .reset_index().rename(columns = {0 : 'count'})\n",
    "              )\n",
    "\n",
    "gold_counts['count_log10'] = np.log10(gold_counts['count'])\n",
    "gold_counts['prop'] = gold_counts['count'] / gold_counts['count'].sum() * 100\n",
    "\n",
    "gold_counts\n"
   ]
  },
  {
   "cell_type": "code",
   "execution_count": 64,
   "metadata": {},
   "outputs": [
    {
     "data": {
      "image/png": "[encoded data removed]",
      "text/plain": [
       "<Figure size 144x216 with 1 Axes>"
      ]
     },
     "metadata": {
      "needs_background": "light"
     },
     "output_type": "display_data"
    },
    {
     "name": "stdout",
     "output_type": "stream",
     "text": [
      "Corresponding data:\n",
      "    number                    category  count  count_log10       prop\n",
      "0        2           CPSF-CstF anchors   4876     3.688064  35.139810\n",
      "1        3                    +2ndCstF   1172     3.068928   8.446238\n",
      "2        3                        +CFI   2822     3.450557  20.337273\n",
      "3        3                       +FIP1   1303     3.114944   9.390314\n",
      "4        3                      +hnRNP    931     2.968950   6.709426\n",
      "5        4             +2ndCstF +hnRNP    132     2.120574   0.951283\n",
      "6        4               +CFI +2ndCstF    634     2.802089   4.569040\n",
      "7        4                  +CFI +FIP1    836     2.922206   6.024791\n",
      "8        4                 +CFI +hnRNP    346     2.539076   2.493514\n",
      "9        4              +FIP1 +2ndCstF    315     2.498311   2.270107\n",
      "10       4                +FIP1 +hnRNP    149     2.173186   1.073796\n",
      "11       5        +CFI +2ndCstF +hnRNP     61     1.785330   0.439608\n",
      "12       5         +CFI +FIP1 +2ndCstF    188     2.274158   1.354857\n",
      "13       5           +CFI +FIP1 +hnRNP     61     1.785330   0.439608\n",
      "14       5       +FIP1 +2ndCstF +hnRNP     30     1.477121   0.216201\n",
      "15       6  +CFI +FIP1 +2ndCstF +hnRNP     20     1.301030   0.144134\n"
     ]
    }
   ],
   "source": [
    "fig,ax = plt.subplots(1,1 ,figsize = (2,3))\n",
    "\n",
    "sns.barplot(data = gold_counts, y = 'category', x = 'prop', order = ordering_combos,\n",
    "            hue = 'number', dodge = False, palette = 'rocket_r', edgecolor = 'black', linewidth = 0.5,\n",
    "            saturation = 1, ax = ax)\n",
    "\n",
    "ax.set_ylabel(\"\")\n",
    "\n",
    "ax.set_xlabel(\"Fraction of well-expressed sites (%)\")\n",
    "ax.set_xlim(0,40)\n",
    "ax.xaxis.set_major_locator(MultipleLocator(10))\n",
    "\n",
    "ax.spines['right'].set_visible(False)\n",
    "ax.spines['top'].set_visible(False)\n",
    "\n",
    "ax.legend(bbox_to_anchor = (1.05,1))\n",
    "\n",
    "plt.savefig(os.path.join(OUTDIR, f'motif_configuration.fraction_by_category.svg'), format = 'svg', dpi = 600, transparent = True)\n",
    "plt.show()\n",
    "\n",
    "\n",
    "print(\"Corresponding data:\")\n",
    "print(gold_counts)\n"
   ]
  },
  {
   "cell_type": "code",
   "execution_count": 166,
   "metadata": {},
   "outputs": [
    {
     "name": "stdout",
     "output_type": "stream",
     "text": [
      "13876\n",
      "   number  count      prop             label\n",
      "0       2   4876  0.351398  2 (4876, 35.14%)\n",
      "1       3   6228  0.448833  3 (6228, 44.88%)\n",
      "2       4   2412  0.173825  4 (2412, 17.38%)\n",
      "3       5    340  0.024503    5 (340, 2.45%)\n",
      "4       6     20  0.001441     6 (20, 0.14%)\n"
     ]
    }
   ],
   "source": [
    "gold_number_sum = gold_counts.loc[gold_counts['number'] > 0].groupby('number')['count'].agg('sum').reset_index()\n",
    "\n",
    "gold_number_sum['prop']  = gold_number_sum['count'] / gold_number_sum['count'].sum()\n",
    "gold_number_sum['label'] = gold_number_sum['number'].astype(str) + \" (\" + gold_number_sum['count'].astype(str) + \", \" + (gold_number_sum['prop']*100).round(2).astype(str) + \"%)\"\n",
    "\n",
    "print(gold_number_sum['count'].sum())\n",
    "print(gold_number_sum)\n"
   ]
  },
  {
   "cell_type": "code",
   "execution_count": 167,
   "metadata": {},
   "outputs": [
    {
     "data": {
      "image/png": "[encoded data removed]",
      "text/plain": [
       "<Figure size 108x108 with 1 Axes>"
      ]
     },
     "metadata": {},
     "output_type": "display_data"
    }
   ],
   "source": [
    "fig,ax = plt.subplots(1,1, figsize = (1.5,1.5))\n",
    "\n",
    "wedges, texts = plt.pie(gold_number_sum['prop'], \n",
    "                        labels = gold_number_sum['number'].astype(str),\n",
    "                        startangle = 90, counterclock = False,\n",
    "                        wedgeprops = {'linewidth' : 0.5, 'edgecolor' : 'black'}\n",
    "                       )\n",
    "\n",
    "ax.legend(wedges, gold_number_sum['label'],\n",
    "          title=\"\",\n",
    "          loc=\"center left\",\n",
    "          bbox_to_anchor=(1, 0, 0.5, 1))\n",
    "\n",
    "plt.savefig(os.path.join(OUTDIR, 'motif_configuration.pie.number_ordered_motifs.svg'), format = 'svg', dpi = 600, transparent = True)\n",
    "plt.show()\n"
   ]
  },
  {
   "cell_type": "markdown",
   "metadata": {},
   "source": [
    "#### Characterize sites with different motif configurations"
   ]
  },
  {
   "cell_type": "code",
   "execution_count": 65,
   "metadata": {},
   "outputs": [
    {
     "data": {
      "image/png": "[encoded data removed]",
      "text/plain": [
       "<Figure size 144x216 with 1 Axes>"
      ]
     },
     "metadata": {
      "needs_background": "light"
     },
     "output_type": "display_data"
    },
    {
     "name": "stdout",
     "output_type": "stream",
     "text": [
      "Wilcoxon rank-sum tests:\n",
      "\t5+ motifs vs 2 anchors only: 4.32E-58\n"
     ]
    }
   ],
   "source": [
    "fig,ax = plt.subplots(1,1 ,figsize = (2,3))\n",
    "\n",
    "xvar = 'our-models_strength'\n",
    "yvar = 'category'\n",
    "\n",
    "sns.boxplot(data = gold_priority_category, y = yvar, x = xvar, order = ordering_combos,\n",
    "            hue = 'number', dodge = False, palette = 'rocket_r',\n",
    "            boxprops = {'edgecolor' : 'black', 'linewidth' : 0.5},\n",
    "            medianprops = {'color' : 'black', 'linewidth' : 0.5},\n",
    "            whiskerprops = {'color' : 'black', 'linewidth' : 0.5},\n",
    "            capprops = {'color' : 'black', 'linewidth' : 0.5},\n",
    "            flierprops = {'color' : 'black', 'markersize' : 1}, \n",
    "            showfliers = True, ax = ax)\n",
    "\n",
    "ax.set_ylabel(\"\")\n",
    "\n",
    "ax.set_xlabel(\"PolyaStrength score\")\n",
    "ax.set_xlim(-12,12)\n",
    "ax.xaxis.set_major_locator(MultipleLocator(3))\n",
    "\n",
    "ax.legend(bbox_to_anchor = (1.05,1))\n",
    "\n",
    "ax.spines['right'].set_visible(False)\n",
    "ax.spines['top'].set_visible(False)\n",
    "\n",
    "plt.savefig(os.path.join(OUTDIR, f'motif_configuration.polyastrength_by_category.svg'), format = 'svg', dpi = 600, transparent = True)\n",
    "plt.show()\n",
    "\n",
    "\n",
    "print(\"Wilcoxon rank-sum tests:\")\n",
    "print(f\"\\t5+ motifs vs 2 anchors only: {st.ranksums(gold_priority_category.loc[gold_priority_category['number'] >= 5, xvar], gold_priority_category.loc[gold_priority_category['number'] == 2, xvar])[1]:.02E}\")\n"
   ]
  },
  {
   "cell_type": "markdown",
   "metadata": {},
   "source": [
    "#### Are sites with more optimally-positioned motifs located in genes with fewer pA sites? Single site genes?"
   ]
  },
  {
   "cell_type": "code",
   "execution_count": 68,
   "metadata": {},
   "outputs": [
    {
     "data": {
      "image/png": "[encoded data removed]",
      "text/plain": [
       "<Figure size 144x216 with 1 Axes>"
      ]
     },
     "metadata": {
      "needs_background": "light"
     },
     "output_type": "display_data"
    },
    {
     "name": "stdout",
     "output_type": "stream",
     "text": [
      "Hypothesis test comparing two independent proportions, two-sided, assuming binomial samples\n",
      "\n",
      "Proportion of single sites-\n",
      "\t5+ motifs vs 2 anchors only: 4.32E-07\n",
      "\n",
      "Proportion of last sites-\n",
      "\t5+ motifs vs 2 anchors only: 5.69E-04\n",
      "\n",
      "Corresponding data:\n",
      "position                        first       last     middle     single\n",
      "category                                                              \n",
      "CPSF-CstF anchors           24.138638  25.902379  25.123052  24.835931\n",
      "+CFI                        20.588235  29.943303  24.840539  24.627923\n",
      "+FIP1                       21.949348  27.244820  25.633154  25.172678\n",
      "+2ndCstF                    18.344710  33.105802  19.709898  28.839590\n",
      "+hnRNP                      13.748657  23.093448  10.526316  52.631579\n",
      "+CFI +FIP1                  21.291866  32.655502  22.368421  23.684211\n",
      "+CFI +2ndCstF               16.403785  34.069401  17.192429  32.334385\n",
      "+CFI +hnRNP                  8.092486  30.924855  10.982659  50.000000\n",
      "+FIP1 +2ndCstF              18.095238  35.555556  17.460317  28.888889\n",
      "+FIP1 +hnRNP                11.409396  25.503356  10.067114  53.020134\n",
      "+2ndCstF +hnRNP             15.909091  25.757576   8.333333  50.000000\n",
      "+CFI +FIP1 +2ndCstF         10.638298  34.574468  19.148936  35.638298\n",
      "+CFI +FIP1 +hnRNP           14.754098  29.508197  16.393443  39.344262\n",
      "+CFI +2ndCstF +hnRNP        11.475410  40.983607   8.196721  39.344262\n",
      "+FIP1 +2ndCstF +hnRNP       16.666667  30.000000   6.666667  46.666667\n",
      "+CFI +FIP1 +2ndCstF +hnRNP  10.000000  40.000000  10.000000  40.000000\n"
     ]
    }
   ],
   "source": [
    "gold_position_sum = (\n",
    "    gold_priority_category[['cluster','number','category','position']].drop_duplicates()\n",
    "    .groupby(['category','number','position']).size()\n",
    "    .agg({\n",
    "        'count' : lambda x : x,\n",
    "        'prop' : lambda x : x / x.sum(level = 0) * 100\n",
    "    })\n",
    "    .unstack(level = 0).reset_index()\n",
    ")\n",
    "\n",
    "gold_position_wide = gold_position_sum.pivot(index = 'category', columns = 'position', values = 'prop').loc[ordering_combos[::-1]]\n",
    "\n",
    "\n",
    "\n",
    "fig,ax = plt.subplots(1,1, figsize = (2,3))\n",
    "\n",
    "ys = list(range(len(ordering_combos)))\n",
    "sums = [0]*len(ordering_combos)\n",
    "\n",
    "for p in ['single','first','middle','last']:\n",
    "    \n",
    "    widths = gold_position_wide[[p]].to_numpy().flatten()\n",
    "    ax.barh(ys, widths, left = sums, edgecolor = 'black', linewidth = 0.5, label = p)\n",
    "    \n",
    "    for i,w in enumerate(widths):\n",
    "        sums[i] += w\n",
    "        \n",
    "ax.set_xlabel(\"Fraction of sites (%)\")\n",
    "ax.set_xlim(0,100)\n",
    "ax.xaxis.set_major_formatter(PercentFormatter())\n",
    "\n",
    "ax.set_ylabel(\"\")\n",
    "ax.set_yticks(ys)\n",
    "ax.set_yticklabels(ordering_combos[::-1])\n",
    "        \n",
    "ax.legend(bbox_to_anchor = (1.05,1))\n",
    "\n",
    "ax.spines['right'].set_visible(False)\n",
    "ax.spines['top'].set_visible(False)\n",
    "\n",
    "plt.savefig(os.path.join(OUTDIR, f'motif_configuration.position_distribution_by_category.svg'), format = 'svg', dpi = 600, transparent = True)\n",
    "plt.show()\n",
    "\n",
    "\n",
    "print(\"Hypothesis test comparing two independent proportions, two-sided, assuming binomial samples\")\n",
    "\n",
    "print(\"\\nProportion of single sites-\")\n",
    "\n",
    "prop_test = test_proportions_2indep(count1 = gold_position_sum.loc[(gold_position_sum['number'] >= 5) & (gold_position_sum['position'] == \"single\"), 'count'].sum(), \n",
    "                                     nobs1  = gold_position_sum.loc[(gold_position_sum['number'] >= 5), 'count'].sum(),\n",
    "                                     count2 = gold_position_sum.loc[(gold_position_sum['number'] == 2) & (gold_position_sum['position'] == \"single\"), 'count'].sum(), \n",
    "                                     nobs2  = gold_position_sum.loc[(gold_position_sum['number'] == 2), 'count'].sum())\n",
    "\n",
    "print(f\"\\t5+ motifs vs 2 anchors only: {prop_test[1]:.02E}\")\n",
    "\n",
    "\n",
    "print(\"\\nProportion of last sites-\")\n",
    "\n",
    "prop_test = test_proportions_2indep(count1 = gold_position_sum.loc[(gold_position_sum['number'] >= 5) & (gold_position_sum['position'] == \"last\"), 'count'].sum(), \n",
    "                                     nobs1  = gold_position_sum.loc[(gold_position_sum['number'] >= 5), 'count'].sum(),\n",
    "                                     count2 = gold_position_sum.loc[(gold_position_sum['number'] == 2) & (gold_position_sum['position'] == \"last\"), 'count'].sum(), \n",
    "                                     nobs2  = gold_position_sum.loc[(gold_position_sum['number'] == 2), 'count'].sum())\n",
    "\n",
    "print(f\"\\t5+ motifs vs 2 anchors only: {prop_test[1]:.02E}\")\n",
    "\n",
    "\n",
    "print(\"\\nCorresponding data:\")\n",
    "print(gold_position_wide.loc[ordering_combos])\n"
   ]
  },
  {
   "cell_type": "markdown",
   "metadata": {},
   "source": [
    "#### Are sites with more optimally-positioned motifs found in higher expressed genes?"
   ]
  },
  {
   "cell_type": "code",
   "execution_count": 69,
   "metadata": {},
   "outputs": [
    {
     "name": "stderr",
     "output_type": "stream",
     "text": [
      "32292it [10:38, 50.55it/s] \n"
     ]
    }
   ],
   "source": [
    "with open(os.path.join(PROJECT,\"data\",\"data_preparation\",\"scoring_dictionary\",\"human.exclude_4.all.adj_var.comb.filt.scoring_dictionary.pickle\"), mode = 'rb') as handle:\n",
    "    reads_dict = pickle.load(handle)\n",
    "\n",
    "gene_list = list(itertools.chain.from_iterable([g.split(\";\") for g in gold_long['gene'].unique()]))\n",
    "gene_scores = {}\n",
    "\n",
    "with open(os.path.join(PROJECT, 'reference', 'hg38_old', 'combined_features', 'comprehensive_annotation.minUn.minNC.bed'), mode = 'r') as handle:\n",
    "    for line in tqdm.tqdm(handle):\n",
    "        \n",
    "        gchrom, gstart, gend, glabel, _, gstrand = [int(float(x)) if i in [1,2] else x for i,x in enumerate(line.strip().split(\"\\t\"))]\n",
    "        gname = glabel.split(\",\")[0]\n",
    "        \n",
    "        if ((gname,gchrom,gstrand) in gene_scores):\n",
    "            continue\n",
    "        \n",
    "        if (gname not in gene_list):\n",
    "            continue\n",
    "        \n",
    "        greads = 0\n",
    "        \n",
    "        for gpos in range(gstart, gend):\n",
    "            greads += reads_dict.get((gstrand,gchrom,gpos), 0)\n",
    "        \n",
    "        gene_scores[(gname,gchrom,gstrand)] = greads\n"
   ]
  },
  {
   "cell_type": "code",
   "execution_count": 70,
   "metadata": {},
   "outputs": [],
   "source": [
    "gold_priority_category['gene_reads'] = gold_priority_category.apply(lambda row : np.max([gene_scores.get((_,row['chrom'],row['strand']),0) for _ in row['gene'].split(\";\")]), axis = 1)\n",
    "gold_priority_category['gene_reads_log1p'] = np.log10(gold_priority_category['gene_reads'] + 1)\n"
   ]
  },
  {
   "cell_type": "code",
   "execution_count": 71,
   "metadata": {},
   "outputs": [
    {
     "data": {
      "image/png": "[encoded data removed]",
      "text/plain": [
       "<Figure size 144x216 with 1 Axes>"
      ]
     },
     "metadata": {
      "needs_background": "light"
     },
     "output_type": "display_data"
    },
    {
     "name": "stdout",
     "output_type": "stream",
     "text": [
      "Wilcoxon rank-sum tests:\n",
      "\t5+ motifs vs 2 anchors only  : 3.06E-01\n"
     ]
    }
   ],
   "source": [
    "fig,ax = plt.subplots(1,1 ,figsize = (2,3))\n",
    "\n",
    "xvar = 'gene_reads_log1p'\n",
    "yvar = 'category'\n",
    "\n",
    "sns.boxplot(data = gold_priority_category, y = yvar, x = xvar, order = ordering_combos,\n",
    "            hue = 'number', dodge = False, palette = 'rocket_r',\n",
    "            boxprops = {'edgecolor' : 'black', 'linewidth' : 0.5},\n",
    "            medianprops = {'color' : 'black', 'linewidth' : 0.5},\n",
    "            whiskerprops = {'color' : 'black', 'linewidth' : 0.5},\n",
    "            capprops = {'color' : 'black', 'linewidth' : 0.5},\n",
    "            flierprops = {'color' : 'black', 'markersize' : 1}, \n",
    "            showfliers = True, ax = ax)\n",
    "\n",
    "ax.set_ylabel(\"\")\n",
    "\n",
    "ax.set_xlabel(\"Log10(3'READS in gene + 1)\")\n",
    "ax.set_xlim(1.95,8)\n",
    "ax.xaxis.set_major_locator(MultipleLocator(2))\n",
    "\n",
    "ax.spines['right'].set_visible(False)\n",
    "ax.spines['top'].set_visible(False)\n",
    "\n",
    "plt.savefig(os.path.join(OUTDIR, f'motif_configuration.gene_reads_by_category.svg'), format = 'svg', dpi = 600, transparent = True)\n",
    "plt.show()\n",
    "\n",
    "\n",
    "print(\"Wilcoxon rank-sum tests:\")\n",
    "print(f\"\\t5+ motifs vs 2 anchors only  : {st.ranksums(gold_priority_category.loc[gold_priority_category['number'] >= 5, xvar], gold_priority_category.loc[gold_priority_category['number'] == 2, xvar])[1]:.02E}\")\n"
   ]
  },
  {
   "cell_type": "markdown",
   "metadata": {},
   "source": [
    "#### What type of genes contain 4 or 5+ optimally-positioned motifs?"
   ]
  },
  {
   "cell_type": "code",
   "execution_count": 72,
   "metadata": {
    "scrolled": true
   },
   "outputs": [
    {
     "name": "stdout",
     "output_type": "stream",
     "text": [
      "(440, 17)\n"
     ]
    }
   ],
   "source": [
    "## Uncomment to get gene lists for gene ontology\n",
    "# print(gold_priority_category.loc[gold_priority_category['number'] >= 5, 'gene'].nunique())\n",
    "# print(\"\\n\".join(gold_priority_category.loc[gold_priority_category['number'] >= 5, 'gene'].unique().tolist()))\n",
    "\n",
    "go_res = pd.read_csv(os.path.join(OUTDIR, \"gene_ontology.bp_all.genes_with_5-6_motifs.txt\"), sep = \"\\t\")\n",
    "go_res['Label'] = go_res['Term'].str.split(\"~\").str[1].str.capitalize()\n",
    "go_res['PValue_minlog'] = -1 * np.log10(go_res['PValue'])\n",
    "go_res['Benjamini_minlog'] = -1 * np.log10(go_res['Benjamini'])\n",
    "print(go_res.shape)\n"
   ]
  },
  {
   "cell_type": "code",
   "execution_count": 73,
   "metadata": {},
   "outputs": [
    {
     "data": {
      "text/html": [
       "<div>\n",
       "<style scoped>\n",
       "    .dataframe tbody tr th:only-of-type {\n",
       "        vertical-align: middle;\n",
       "    }\n",
       "\n",
       "    .dataframe tbody tr th {\n",
       "        vertical-align: top;\n",
       "    }\n",
       "\n",
       "    .dataframe thead th {\n",
       "        text-align: right;\n",
       "    }\n",
       "</style>\n",
       "<table border=\"1\" class=\"dataframe\">\n",
       "  <thead>\n",
       "    <tr style=\"text-align: right;\">\n",
       "      <th></th>\n",
       "      <th>Label</th>\n",
       "      <th>PValue</th>\n",
       "      <th>Benjamini</th>\n",
       "      <th>Benjamini_minlog</th>\n",
       "    </tr>\n",
       "  </thead>\n",
       "  <tbody>\n",
       "    <tr>\n",
       "      <td>0</td>\n",
       "      <td>Positive regulation of cellular process</td>\n",
       "      <td>6.510000e-11</td>\n",
       "      <td>3.070000e-07</td>\n",
       "      <td>6.512862</td>\n",
       "    </tr>\n",
       "    <tr>\n",
       "      <td>2</td>\n",
       "      <td>Positive regulation of macromolecule metabolic...</td>\n",
       "      <td>3.720000e-08</td>\n",
       "      <td>4.630000e-05</td>\n",
       "      <td>4.334419</td>\n",
       "    </tr>\n",
       "    <tr>\n",
       "      <td>3</td>\n",
       "      <td>Cellular response to stress</td>\n",
       "      <td>3.930000e-08</td>\n",
       "      <td>4.630000e-05</td>\n",
       "      <td>4.334419</td>\n",
       "    </tr>\n",
       "    <tr>\n",
       "      <td>7</td>\n",
       "      <td>Positive regulation of transcription, dna-temp...</td>\n",
       "      <td>5.270000e-07</td>\n",
       "      <td>2.520000e-04</td>\n",
       "      <td>3.598599</td>\n",
       "    </tr>\n",
       "    <tr>\n",
       "      <td>13</td>\n",
       "      <td>Positive regulation of gene expression</td>\n",
       "      <td>1.900000e-06</td>\n",
       "      <td>6.380000e-04</td>\n",
       "      <td>3.195179</td>\n",
       "    </tr>\n",
       "    <tr>\n",
       "      <td>16</td>\n",
       "      <td>Chromosome organization</td>\n",
       "      <td>8.360000e-06</td>\n",
       "      <td>2.213848e-03</td>\n",
       "      <td>2.654852</td>\n",
       "    </tr>\n",
       "    <tr>\n",
       "      <td>19</td>\n",
       "      <td>Embryonic organ morphogenesis</td>\n",
       "      <td>2.030000e-05</td>\n",
       "      <td>4.530534e-03</td>\n",
       "      <td>2.343851</td>\n",
       "    </tr>\n",
       "    <tr>\n",
       "      <td>20</td>\n",
       "      <td>Covalent chromatin modification</td>\n",
       "      <td>2.090000e-05</td>\n",
       "      <td>4.530534e-03</td>\n",
       "      <td>2.343851</td>\n",
       "    </tr>\n",
       "    <tr>\n",
       "      <td>22</td>\n",
       "      <td>Cellular component organization</td>\n",
       "      <td>3.290000e-05</td>\n",
       "      <td>6.729386e-03</td>\n",
       "      <td>2.172025</td>\n",
       "    </tr>\n",
       "    <tr>\n",
       "      <td>26</td>\n",
       "      <td>Embryonic organ development</td>\n",
       "      <td>5.460000e-05</td>\n",
       "      <td>9.520206e-03</td>\n",
       "      <td>2.021354</td>\n",
       "    </tr>\n",
       "  </tbody>\n",
       "</table>\n",
       "</div>"
      ],
      "text/plain": [
       "                                                Label        PValue  \\\n",
       "0             Positive regulation of cellular process  6.510000e-11   \n",
       "2   Positive regulation of macromolecule metabolic...  3.720000e-08   \n",
       "3                         Cellular response to stress  3.930000e-08   \n",
       "7   Positive regulation of transcription, dna-temp...  5.270000e-07   \n",
       "13             Positive regulation of gene expression  1.900000e-06   \n",
       "16                            Chromosome organization  8.360000e-06   \n",
       "19                      Embryonic organ morphogenesis  2.030000e-05   \n",
       "20                    Covalent chromatin modification  2.090000e-05   \n",
       "22                    Cellular component organization  3.290000e-05   \n",
       "26                        Embryonic organ development  5.460000e-05   \n",
       "\n",
       "       Benjamini  Benjamini_minlog  \n",
       "0   3.070000e-07          6.512862  \n",
       "2   4.630000e-05          4.334419  \n",
       "3   4.630000e-05          4.334419  \n",
       "7   2.520000e-04          3.598599  \n",
       "13  6.380000e-04          3.195179  \n",
       "16  2.213848e-03          2.654852  \n",
       "19  4.530534e-03          2.343851  \n",
       "20  4.530534e-03          2.343851  \n",
       "22  6.729386e-03          2.172025  \n",
       "26  9.520206e-03          2.021354  "
      ]
     },
     "execution_count": 73,
     "metadata": {},
     "output_type": "execute_result"
    }
   ],
   "source": [
    "go_res.loc[go_res['Include'] == 'y', ['Label','PValue','Benjamini','Benjamini_minlog']].sort_values('PValue').head(10)\n"
   ]
  },
  {
   "cell_type": "code",
   "execution_count": 74,
   "metadata": {},
   "outputs": [
    {
     "name": "stdout",
     "output_type": "stream",
     "text": [
      "GO:0048522~positive regulation of cellular process\n",
      "GO:0010604~positive regulation of macromolecule metabolic process\n",
      "GO:0033554~cellular response to stress\n",
      "GO:0045893~positive regulation of transcription, DNA-templated\n",
      "GO:0010628~positive regulation of gene expression\n",
      "GO:0051276~chromosome organization\n",
      "GO:0048562~embryonic organ morphogenesis\n",
      "GO:0016569~covalent chromatin modification\n",
      "GO:0016043~cellular component organization\n",
      "GO:0048568~embryonic organ development\n"
     ]
    }
   ],
   "source": [
    "print(\"\\n\".join(go_res.loc[go_res['Include'] == 'y', 'Term'].unique()))\n"
   ]
  },
  {
   "cell_type": "code",
   "execution_count": 75,
   "metadata": {},
   "outputs": [
    {
     "data": {
      "image/png": "[encoded data removed]",
      "text/plain": [
       "<Figure size 72x216 with 1 Axes>"
      ]
     },
     "metadata": {
      "needs_background": "light"
     },
     "output_type": "display_data"
    }
   ],
   "source": [
    "fig,ax = plt.subplots(1,1, figsize = (1,3))\n",
    "\n",
    "sns.barplot(data = go_res.loc[go_res['Include'] == 'y'].sort_values('PValue_minlog', ascending = False).head(10),\n",
    "            y = 'Term', x = 'Benjamini_minlog',\n",
    "            color = 'gray', edgecolor = 'black', linewidth = 0.5,\n",
    "            ax = ax)\n",
    "\n",
    "\n",
    "ax.set_ylabel(\"\")\n",
    "\n",
    "ax.set_xlabel(\"-Log10(Benjamini-Hochberg\\ncorrected P-value)\")\n",
    "ax.set_xlim(0,7)\n",
    "ax.xaxis.set_major_locator(MultipleLocator(1))\n",
    "\n",
    "ax.spines['right'].set_visible(False)\n",
    "ax.spines['top'].set_visible(False)\n",
    "\n",
    "plt.savefig(os.path.join(OUTDIR, f'motif_configuration.gene_ontology.top_pval_5-6_motifs.svg'), format = 'svg', dpi = 600, transparent = True)\n",
    "plt.show()\n"
   ]
  }
 ],
 "metadata": {
  "kernelspec": {
   "display_name": "Python (tf-train)",
   "language": "python",
   "name": "tf-train"
  },
  "language_info": {
   "codemirror_mode": {
    "name": "ipython",
    "version": 3
   },
   "file_extension": ".py",
   "mimetype": "text/x-python",
   "name": "python",
   "nbconvert_exporter": "python",
   "pygments_lexer": "ipython3",
   "version": "3.6.12"
  },
  "vscode": {
   "interpreter": {
    "hash": "425115ae6637ada2b959655b34e22bdfbab2786b72fd7a6ba9076b4d899c9624"
   }
  }
 },
 "nbformat": 4,
 "nbformat_minor": 2
}
