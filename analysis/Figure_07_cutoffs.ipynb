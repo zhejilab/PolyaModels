{
 "cells": [
  {
   "cell_type": "markdown",
   "metadata": {},
   "source": [
    "# Figure 7: Setting cutoffs"
   ]
  },
  {
   "cell_type": "code",
   "execution_count": 1,
   "metadata": {},
   "outputs": [],
   "source": [
    "%load_ext autoreload"
   ]
  },
  {
   "cell_type": "code",
   "execution_count": 2,
   "metadata": {},
   "outputs": [],
   "source": [
    "%autoreload 2"
   ]
  },
  {
   "cell_type": "code",
   "execution_count": 3,
   "metadata": {},
   "outputs": [
    {
     "name": "stderr",
     "output_type": "stream",
     "text": [
      "Using TensorFlow backend.\n"
     ]
    }
   ],
   "source": [
    "%run -i notebook_setup.py"
   ]
  },
  {
   "cell_type": "markdown",
   "metadata": {},
   "source": [
    "## IMPORTS AND SETUP"
   ]
  },
  {
   "cell_type": "code",
   "execution_count": 4,
   "metadata": {},
   "outputs": [],
   "source": [
    "import utilities\n",
    "from utilities import preprocessing, sequence, model_builder, classification_cleavage, motifs, relative_strength, genomic_context, genetics\n",
    "\n",
    "from matplotlib import colors\n",
    "from statsmodels.stats.descriptivestats import sign_test\n",
    "from matplotlib_venn import venn3, venn3_circles\n"
   ]
  },
  {
   "cell_type": "code",
   "execution_count": 5,
   "metadata": {},
   "outputs": [],
   "source": [
    "PROJECT = \"/projects/b1080/eks/polyadenylation\"\n",
    "DATADIR = os.path.join(PROJECT, \"manuscripts\", \"01_development\", \"data\")\n",
    "RESDIR  = os.path.join(PROJECT, \"manuscripts\", \"01_development\", \"analysis\", \"resources\")\n",
    "OUTDIR  = os.path.join(PROJECT, \"manuscripts\", \"01_development\", \"figures\", \"Figure_06\")\n",
    "os.makedirs(OUTDIR, exist_ok = True)\n"
   ]
  },
  {
   "cell_type": "code",
   "execution_count": 6,
   "metadata": {},
   "outputs": [
    {
     "name": "stdout",
     "output_type": "stream",
     "text": [
      "(330, 26)\n",
      "(266, 26)\n"
     ]
    }
   ],
   "source": [
    "with open(os.path.join(RESDIR, 'shulman_elkon_pasqtls.fixed_pas.split.wide.pickle'), mode = 'rb') as handle:\n",
    "    pas_qtls_wide = pickle.load(handle)\n",
    "\n",
    "sel_effects = ['disruptedAATAAA_noATTAAA','noAATAAA_disruptedATTAAA','noAATAAA_createdATTAAA','createdAATAAA_noATTAAA']\n",
    "pas_qtls_filt = pas_qtls_wide.loc[pas_qtls_wide['effectPAS.v2'].isin(sel_effects)].copy()\n",
    "print(pas_qtls_wide.shape)\n",
    "print(pas_qtls_filt.shape)\n",
    "                                  "
   ]
  },
  {
   "cell_type": "markdown",
   "metadata": {},
   "source": [
    "## Benchmarking predictions using *Shulman and Elkon (2020)* PAS pA-QTLs"
   ]
  },
  {
   "cell_type": "code",
   "execution_count": 7,
   "metadata": {},
   "outputs": [
    {
     "data": {
      "image/png": "[encoded data removed]",
      "text/plain": [
       "<Figure size 180x72 with 1 Axes>"
      ]
     },
     "metadata": {
      "needs_background": "light"
     },
     "output_type": "display_data"
    },
    {
     "name": "stdout",
     "output_type": "stream",
     "text": [
      "Corresponding metrics:\n",
      "AATAAA disruption: 1.504632769052528e-36\n",
      "ATTAAA disruption: 9.094947017729282e-13\n",
      "ATTAAA creation  : 9.313225746154785e-10\n",
      "AATAAA creation  : 1.0587911840678754e-22\n",
      "\n",
      "Creation vs disruption: RanksumsResult(statistic=-13.78201074679305, pvalue=3.2703473563849738e-43)\n"
     ]
    },
    {
     "data": {
      "text/html": [
       "<div>\n",
       "<style scoped>\n",
       "    .dataframe tbody tr th:only-of-type {\n",
       "        vertical-align: middle;\n",
       "    }\n",
       "\n",
       "    .dataframe tbody tr th {\n",
       "        vertical-align: top;\n",
       "    }\n",
       "\n",
       "    .dataframe thead th {\n",
       "        text-align: right;\n",
       "    }\n",
       "</style>\n",
       "<table border=\"1\" class=\"dataframe\">\n",
       "  <thead>\n",
       "    <tr style=\"text-align: right;\">\n",
       "      <th></th>\n",
       "      <th>count</th>\n",
       "      <th>mean</th>\n",
       "      <th>std</th>\n",
       "      <th>min</th>\n",
       "      <th>25%</th>\n",
       "      <th>50%</th>\n",
       "      <th>75%</th>\n",
       "      <th>max</th>\n",
       "    </tr>\n",
       "    <tr>\n",
       "      <th>effectPAS.v2</th>\n",
       "      <th></th>\n",
       "      <th></th>\n",
       "      <th></th>\n",
       "      <th></th>\n",
       "      <th></th>\n",
       "      <th></th>\n",
       "      <th></th>\n",
       "      <th></th>\n",
       "    </tr>\n",
       "  </thead>\n",
       "  <tbody>\n",
       "    <tr>\n",
       "      <td>disruptedAATAAA_noATTAAA</td>\n",
       "      <td>120.0</td>\n",
       "      <td>-0.564108</td>\n",
       "      <td>0.297274</td>\n",
       "      <td>-0.966040</td>\n",
       "      <td>-0.882017</td>\n",
       "      <td>-0.514519</td>\n",
       "      <td>-0.335224</td>\n",
       "      <td>-0.001273</td>\n",
       "    </tr>\n",
       "    <tr>\n",
       "      <td>noAATAAA_disruptedATTAAA</td>\n",
       "      <td>41.0</td>\n",
       "      <td>-0.380144</td>\n",
       "      <td>0.225454</td>\n",
       "      <td>-0.788091</td>\n",
       "      <td>-0.543207</td>\n",
       "      <td>-0.416505</td>\n",
       "      <td>-0.183811</td>\n",
       "      <td>-0.000180</td>\n",
       "    </tr>\n",
       "    <tr>\n",
       "      <td>noAATAAA_createdATTAAA</td>\n",
       "      <td>31.0</td>\n",
       "      <td>0.365999</td>\n",
       "      <td>0.218590</td>\n",
       "      <td>0.011450</td>\n",
       "      <td>0.181071</td>\n",
       "      <td>0.397147</td>\n",
       "      <td>0.493923</td>\n",
       "      <td>0.790438</td>\n",
       "    </tr>\n",
       "    <tr>\n",
       "      <td>createdAATAAA_noATTAAA</td>\n",
       "      <td>74.0</td>\n",
       "      <td>0.580633</td>\n",
       "      <td>0.281366</td>\n",
       "      <td>0.004171</td>\n",
       "      <td>0.407391</td>\n",
       "      <td>0.529996</td>\n",
       "      <td>0.867029</td>\n",
       "      <td>0.963753</td>\n",
       "    </tr>\n",
       "  </tbody>\n",
       "</table>\n",
       "</div>"
      ],
      "text/plain": [
       "                          count      mean       std       min       25%  \\\n",
       "effectPAS.v2                                                              \n",
       "disruptedAATAAA_noATTAAA  120.0 -0.564108  0.297274 -0.966040 -0.882017   \n",
       "noAATAAA_disruptedATTAAA   41.0 -0.380144  0.225454 -0.788091 -0.543207   \n",
       "noAATAAA_createdATTAAA     31.0  0.365999  0.218590  0.011450  0.181071   \n",
       "createdAATAAA_noATTAAA     74.0  0.580633  0.281366  0.004171  0.407391   \n",
       "\n",
       "                               50%       75%       max  \n",
       "effectPAS.v2                                            \n",
       "disruptedAATAAA_noATTAAA -0.514519 -0.335224 -0.001273  \n",
       "noAATAAA_disruptedATTAAA -0.416505 -0.183811 -0.000180  \n",
       "noAATAAA_createdATTAAA    0.397147  0.493923  0.790438  \n",
       "createdAATAAA_noATTAAA    0.529996  0.867029  0.963753  "
      ]
     },
     "execution_count": 7,
     "metadata": {},
     "output_type": "execute_result"
    }
   ],
   "source": [
    "fig,ax = plt.subplots(1,1, figsize = (2.5,1))\n",
    "\n",
    "sns.boxplot(data = pas_qtls_filt, y = 'effectPAS.v2', x = 'delta.our-models_classification',\n",
    "            boxprops = {'edgecolor' : 'black', 'linewidth' : 0.5},\n",
    "            medianprops = {'color' : 'black', 'linewidth' : 0.5},\n",
    "            whiskerprops = {'color' : 'black', 'linewidth' : 0.5},\n",
    "            capprops = {'color' : 'black', 'linewidth' : 0.5},\n",
    "            flierprops = {'color' : 'black', 'markersize' : 1}, showfliers = True, \n",
    "            ax = ax)\n",
    "\n",
    "ax.axvline(x = 0, color = 'black', linestyle = 'dashed', linewidth = 0.5)\n",
    "\n",
    "ax.set_xlabel(\"Difference in PolyaID classification for\\nalternate allele - reference allele\")\n",
    "ax.set_ylabel(\"\")\n",
    "\n",
    "ax.spines['right'].set_visible(False)\n",
    "ax.spines['top'].set_visible(False)\n",
    "\n",
    "plt.savefig(os.path.join(OUTDIR, f'benchmark.shulman.delta-classification_by_paseffectv2.svg'), format = 'svg', dpi = 600, transparent = True)\n",
    "plt.show()\n",
    "\n",
    "\n",
    "print(\"Corresponding metrics:\")\n",
    "print(\"AATAAA disruption:\", sign_test(pas_qtls_wide.loc[pas_qtls_wide['effectPAS.v2'] == 'disruptedAATAAA_noATTAAA', 'delta.our-models_classification'], mu0 = 0)[1])\n",
    "print(\"ATTAAA disruption:\", sign_test(pas_qtls_wide.loc[pas_qtls_wide['effectPAS.v2'] == 'noAATAAA_disruptedATTAAA', 'delta.our-models_classification'], mu0 = 0)[1])\n",
    "print(\"ATTAAA creation  :\", sign_test(pas_qtls_wide.loc[pas_qtls_wide['effectPAS.v2'] == 'noAATAAA_createdATTAAA', 'delta.our-models_classification'], mu0 = 0)[1])\n",
    "print(\"AATAAA creation  :\", sign_test(pas_qtls_wide.loc[pas_qtls_wide['effectPAS.v2'] == 'createdAATAAA_noATTAAA', 'delta.our-models_classification'], mu0 = 0)[1])\n",
    "\n",
    "print(\"\\nCreation vs disruption:\", st.ranksums(pas_qtls_wide.loc[pas_qtls_wide['effectPAS.v2'].isin(['disruptedAATAAA_noATTAAA','noAATAAA_disruptedATTAAA']), 'delta.our-models_classification'].tolist(),\n",
    "                                               pas_qtls_wide.loc[pas_qtls_wide['effectPAS.v2'].isin(['createdAATAAA_noATTAAA','noAATAAA_createdATTAAA']), 'delta.our-models_classification'].tolist()))\n",
    "\n",
    "pas_qtls_filt.groupby('effectPAS.v2')['delta.our-models_classification'].describe().sort_values('mean')\n"
   ]
  },
  {
   "cell_type": "code",
   "execution_count": 8,
   "metadata": {},
   "outputs": [
    {
     "data": {
      "image/png": "[encoded data removed]",
      "text/plain": [
       "<Figure size 180x72 with 1 Axes>"
      ]
     },
     "metadata": {
      "needs_background": "light"
     },
     "output_type": "display_data"
    },
    {
     "name": "stdout",
     "output_type": "stream",
     "text": [
      "Corresponding metrics:\n",
      "AATAAA disruption: 1.504632769052528e-36\n",
      "ATTAAA disruption: 9.094947017729282e-13\n",
      "ATTAAA creation  : 9.313225746154785e-10\n",
      "AATAAA creation  : 1.0587911840678754e-22\n",
      "Creation vs disruption: RanksumsResult(statistic=-13.78201074679305, pvalue=3.2703473563849738e-43)\n"
     ]
    },
    {
     "data": {
      "text/html": [
       "<div>\n",
       "<style scoped>\n",
       "    .dataframe tbody tr th:only-of-type {\n",
       "        vertical-align: middle;\n",
       "    }\n",
       "\n",
       "    .dataframe tbody tr th {\n",
       "        vertical-align: top;\n",
       "    }\n",
       "\n",
       "    .dataframe thead th {\n",
       "        text-align: right;\n",
       "    }\n",
       "</style>\n",
       "<table border=\"1\" class=\"dataframe\">\n",
       "  <thead>\n",
       "    <tr style=\"text-align: right;\">\n",
       "      <th></th>\n",
       "      <th>count</th>\n",
       "      <th>mean</th>\n",
       "      <th>std</th>\n",
       "      <th>min</th>\n",
       "      <th>25%</th>\n",
       "      <th>50%</th>\n",
       "      <th>75%</th>\n",
       "      <th>max</th>\n",
       "    </tr>\n",
       "    <tr>\n",
       "      <th>effectPAS.v2</th>\n",
       "      <th></th>\n",
       "      <th></th>\n",
       "      <th></th>\n",
       "      <th></th>\n",
       "      <th></th>\n",
       "      <th></th>\n",
       "      <th></th>\n",
       "      <th></th>\n",
       "    </tr>\n",
       "  </thead>\n",
       "  <tbody>\n",
       "    <tr>\n",
       "      <td>disruptedAATAAA_noATTAAA</td>\n",
       "      <td>120.0</td>\n",
       "      <td>-4.578257</td>\n",
       "      <td>1.906874</td>\n",
       "      <td>-12.015402</td>\n",
       "      <td>-5.559290</td>\n",
       "      <td>-4.425012</td>\n",
       "      <td>-3.195644</td>\n",
       "      <td>-1.497671</td>\n",
       "    </tr>\n",
       "    <tr>\n",
       "      <td>noAATAAA_disruptedATTAAA</td>\n",
       "      <td>41.0</td>\n",
       "      <td>-2.824311</td>\n",
       "      <td>1.183530</td>\n",
       "      <td>-7.550845</td>\n",
       "      <td>-3.236813</td>\n",
       "      <td>-2.959714</td>\n",
       "      <td>-2.087759</td>\n",
       "      <td>-1.209639</td>\n",
       "    </tr>\n",
       "    <tr>\n",
       "      <td>noAATAAA_createdATTAAA</td>\n",
       "      <td>31.0</td>\n",
       "      <td>2.685017</td>\n",
       "      <td>1.368420</td>\n",
       "      <td>0.721003</td>\n",
       "      <td>1.696499</td>\n",
       "      <td>2.512479</td>\n",
       "      <td>3.423157</td>\n",
       "      <td>6.117111</td>\n",
       "    </tr>\n",
       "    <tr>\n",
       "      <td>createdAATAAA_noATTAAA</td>\n",
       "      <td>74.0</td>\n",
       "      <td>4.138069</td>\n",
       "      <td>1.705727</td>\n",
       "      <td>1.130106</td>\n",
       "      <td>2.941942</td>\n",
       "      <td>3.858060</td>\n",
       "      <td>4.942900</td>\n",
       "      <td>10.139533</td>\n",
       "    </tr>\n",
       "  </tbody>\n",
       "</table>\n",
       "</div>"
      ],
      "text/plain": [
       "                          count      mean       std        min       25%  \\\n",
       "effectPAS.v2                                                               \n",
       "disruptedAATAAA_noATTAAA  120.0 -4.578257  1.906874 -12.015402 -5.559290   \n",
       "noAATAAA_disruptedATTAAA   41.0 -2.824311  1.183530  -7.550845 -3.236813   \n",
       "noAATAAA_createdATTAAA     31.0  2.685017  1.368420   0.721003  1.696499   \n",
       "createdAATAAA_noATTAAA     74.0  4.138069  1.705727   1.130106  2.941942   \n",
       "\n",
       "                               50%       75%        max  \n",
       "effectPAS.v2                                             \n",
       "disruptedAATAAA_noATTAAA -4.425012 -3.195644  -1.497671  \n",
       "noAATAAA_disruptedATTAAA -2.959714 -2.087759  -1.209639  \n",
       "noAATAAA_createdATTAAA    2.512479  3.423157   6.117111  \n",
       "createdAATAAA_noATTAAA    3.858060  4.942900  10.139533  "
      ]
     },
     "execution_count": 8,
     "metadata": {},
     "output_type": "execute_result"
    }
   ],
   "source": [
    "fig,ax = plt.subplots(1,1, figsize = (2.5,1))\n",
    "\n",
    "sns.boxplot(data = pas_qtls_filt, y = 'effectPAS.v2', x = 'delta.our-models_strength',\n",
    "            boxprops = {'edgecolor' : 'black', 'linewidth' : 0.5},\n",
    "            medianprops = {'color' : 'black', 'linewidth' : 0.5},\n",
    "            whiskerprops = {'color' : 'black', 'linewidth' : 0.5},\n",
    "            capprops = {'color' : 'black', 'linewidth' : 0.5},\n",
    "            flierprops = {'color' : 'black', 'markersize' : 1}, showfliers = True, \n",
    "            ax = ax)\n",
    "\n",
    "ax.axvline(x = 0, color = 'black', linestyle = 'dashed', linewidth = 0.5)\n",
    "ax.axvline(x = -1, color = 'black', linestyle = 'dashed', linewidth = 0.5)\n",
    "ax.axvline(x = +1, color = 'black', linestyle = 'dashed', linewidth = 0.5)\n",
    "\n",
    "ax.set_xlabel(\"Difference in PolyaStrength score for\\nalternate allele - reference allele\")\n",
    "ax.set_ylabel(\"\")\n",
    "\n",
    "ax.spines['right'].set_visible(False)\n",
    "ax.spines['top'].set_visible(False)\n",
    "\n",
    "plt.savefig(os.path.join(OUTDIR, f'benchmark.shulman.delta-strength_by_paseffectv2.svg'), format = 'svg', dpi = 600, transparent = True)\n",
    "plt.show()\n",
    "\n",
    "\n",
    "print(\"Corresponding metrics:\")\n",
    "print(\"AATAAA disruption:\", sign_test(pas_qtls_wide.loc[pas_qtls_wide['effectPAS.v2'] == 'disruptedAATAAA_noATTAAA', 'delta.our-models_strength'], mu0 = 0)[1])\n",
    "print(\"ATTAAA disruption:\", sign_test(pas_qtls_wide.loc[pas_qtls_wide['effectPAS.v2'] == 'noAATAAA_disruptedATTAAA', 'delta.our-models_strength'], mu0 = 0)[1])\n",
    "print(\"ATTAAA creation  :\", sign_test(pas_qtls_wide.loc[pas_qtls_wide['effectPAS.v2'] == 'noAATAAA_createdATTAAA', 'delta.our-models_strength'], mu0 = 0)[1])\n",
    "print(\"AATAAA creation  :\", sign_test(pas_qtls_wide.loc[pas_qtls_wide['effectPAS.v2'] == 'createdAATAAA_noATTAAA', 'delta.our-models_strength'], mu0 = 0)[1])\n",
    "\n",
    "print(\"Creation vs disruption:\", st.ranksums(pas_qtls_wide.loc[pas_qtls_wide['effectPAS.v2'].isin(['disruptedAATAAA_noATTAAA','noAATAAA_disruptedATTAAA']), 'delta.our-models_strength'].tolist(),\n",
    "                                             pas_qtls_wide.loc[pas_qtls_wide['effectPAS.v2'].isin(['createdAATAAA_noATTAAA','noAATAAA_createdATTAAA']), 'delta.our-models_strength'].tolist()))\n",
    "\n",
    "pas_qtls_filt.groupby('effectPAS.v2')['delta.our-models_strength'].describe().sort_values('mean')\n"
   ]
  },
  {
   "cell_type": "markdown",
   "metadata": {},
   "source": [
    "## Setting variant effect thresholds using *Shulman and Elkon (2020)* PAS pA-QTLs"
   ]
  },
  {
   "cell_type": "code",
   "execution_count": 9,
   "metadata": {
    "scrolled": false
   },
   "outputs": [
    {
     "name": "stdout",
     "output_type": "stream",
     "text": [
      "PolyaID classification >= 0.50:\t\t319\t96.7%\n",
      "PolyaID strength >= -9.00 (0.19%):\t328\t99.4%\n",
      "PolyaID delta strength >= 1.00:\t\t299\t90.6%\n",
      "\n",
      "Combined criteria:\t\t\t286\t86.7%\n"
     ]
    }
   ],
   "source": [
    "thresh_class = 0.5\n",
    "thresh_strength = -9\n",
    "thresh_strengthprob = (2 ** thresh_strength) / (1 + (2 ** thresh_strength))\n",
    "thresh_delta = 1\n",
    "\n",
    "condCLASS        = (pas_qtls_wide['our-models_classification.REF'] >= thresh_class) | (pas_qtls_wide['our-models_classification.ALT'] >= thresh_class)\n",
    "condSTRENGTH     = (pas_qtls_wide['our-models_strength.REF'] >= thresh_strength) | (pas_qtls_wide['our-models_strength.ALT'] >= thresh_strength)\n",
    "condDELTA        = (np.abs(pas_qtls_wide['delta.our-models_strength']) >= thresh_delta)\n",
    "condCOMB         = (condCLASS & condSTRENGTH & condDELTA)\n",
    "\n",
    "pas_qtls_wide['condCLASS']    = condCLASS\n",
    "pas_qtls_wide['condSTRENGTH'] = condSTRENGTH\n",
    "pas_qtls_wide['condDELTA']    = condDELTA\n",
    "pas_qtls_wide['condCOMB']     = condCOMB\n",
    "\n",
    "print(f\"PolyaID classification >= {thresh_class:.02f}:\\t\\t{condCLASS.sum()}\\t{condCLASS.sum()/len(condCLASS):.01%}\")\n",
    "print(f\"PolyaID strength >= {thresh_strength:.02f} ({thresh_strengthprob:.02%}):\\t{condSTRENGTH.sum()}\\t{condSTRENGTH.sum()/len(condSTRENGTH):.01%}\")\n",
    "print(f\"PolyaID delta strength >= {thresh_delta:.02f}:\\t\\t{condDELTA.sum()}\\t{condDELTA.sum()/len(condDELTA):.01%}\")\n",
    "print(f\"\\nCombined criteria:\\t\\t\\t{condCOMB.sum()}\\t{condCOMB.sum()/len(condCOMB):.01%}\")\n"
   ]
  },
  {
   "cell_type": "code",
   "execution_count": 10,
   "metadata": {},
   "outputs": [
    {
     "name": "stdout",
     "output_type": "stream",
     "text": [
      "\n",
      "Group counts (CSD): {'100': 10, '010': 10, '110': 41, '001': 10, '101': 12, '011': 21, '111': 296}\n"
     ]
    },
    {
     "data": {
      "image/png": "[encoded data removed]",
      "text/plain": [
       "<Figure size 216x216 with 1 Axes>"
      ]
     },
     "metadata": {},
     "output_type": "display_data"
    }
   ],
   "source": [
    "fig,ax = plt.subplots(1,1, figsize = (3,3))\n",
    "\n",
    "counts = {\n",
    "    '100' : (( condCLASS) & (~condSTRENGTH) & (~condDELTA)).sum() + 10,\n",
    "    '010' : ((~condCLASS) & ( condSTRENGTH) & (~condDELTA)).sum() + 10,\n",
    "    '110' : (( condCLASS) & ( condSTRENGTH) & (~condDELTA)).sum() + 10,\n",
    "    '001' : ((~condCLASS) & (~condSTRENGTH) & ( condDELTA)).sum() + 10,\n",
    "    '101' : (( condCLASS) & (~condSTRENGTH) & ( condDELTA)).sum() + 10,\n",
    "    '011' : ((~condCLASS) & ( condSTRENGTH) & ( condDELTA)).sum() + 10,\n",
    "    '111' : (( condCLASS) & ( condSTRENGTH) & ( condDELTA)).sum() + 10,\n",
    "}\n",
    "\n",
    "print(\"\\nGroup counts (CSD):\", counts)\n",
    "\n",
    "venn3(subsets = counts, set_labels = ['PolyaID classification >= 0.5', 'PolyaStrength >= -9', 'abs(deltaPolyaStrength) >= 0.5'],\n",
    "      subset_label_formatter = lambda x: f\"{x-10}\\n({((x-10)/len(pas_qtls_wide)):.01%})\")\n",
    "venn3_circles(subsets = counts, linestyle = 'solid', linewidth = 0.5, color = \"black\")\n",
    "\n",
    "plt.savefig(os.path.join(OUTDIR, 'benchmark_pasqtls.choosing_cutoffs.pie.plus_pseudo.svg'), format = 'svg', dpi = 600, transparent = True)\n",
    "plt.show()\n"
   ]
  },
  {
   "cell_type": "code",
   "execution_count": 11,
   "metadata": {},
   "outputs": [
    {
     "data": {
      "image/png": "[encoded data removed]",
      "text/plain": [
       "<Figure size 144x54 with 1 Axes>"
      ]
     },
     "metadata": {
      "needs_background": "light"
     },
     "output_type": "display_data"
    },
    {
     "data": {
      "image/png": "[encoded data removed]",
      "text/plain": [
       "<Figure size 144x54 with 1 Axes>"
      ]
     },
     "metadata": {
      "needs_background": "light"
     },
     "output_type": "display_data"
    },
    {
     "data": {
      "image/png": "[encoded data removed]",
      "text/plain": [
       "<Figure size 144x54 with 1 Axes>"
      ]
     },
     "metadata": {
      "needs_background": "light"
     },
     "output_type": "display_data"
    }
   ],
   "source": [
    "fig,ax = plt.subplots(1,1, figsize = (2,0.75))\n",
    "ax.hist(pas_qtls_wide[['our-models_classification.REF','our-models_classification.ALT']].to_numpy().max(axis = 1), color = 'gray', bins = 50)\n",
    "ax.axvline(x = thresh_class, color = 'black', linestyle = 'dashed', linewidth = 0.5, zorder = 4)\n",
    "ax.set_ylabel(\"Frequency\")\n",
    "ax.set_title(\"PolyaID classification\")\n",
    "ax.set_xlim(0,1)\n",
    "ax.spines['right'].set_visible(False)\n",
    "ax.spines['top'].set_visible(False)\n",
    "plt.savefig(os.path.join(OUTDIR, 'benchmark_pasqtls.choosing_cutoffs.individual_class.svg'), format = 'svg', dpi = 600, transparent = True)\n",
    "plt.show()\n",
    "\n",
    "fig,ax = plt.subplots(1,1, figsize = (2,0.75))\n",
    "ax.hist(pas_qtls_wide[['our-models_strength.REF','our-models_strength.ALT']].to_numpy().max(axis = 1), color = 'gray', bins = 50)\n",
    "ax.axvline(x = thresh_strength, color = 'black', linestyle = 'dashed', linewidth = 0.5, zorder = 4)\n",
    "ax.set_ylabel(\"Frequency\")\n",
    "ax.set_title(\"PolyaStrength score\")\n",
    "ax.set_xlim(-11,10)\n",
    "ax.spines['right'].set_visible(False)\n",
    "ax.spines['top'].set_visible(False)\n",
    "plt.savefig(os.path.join(OUTDIR, 'benchmark_pasqtls.choosing_cutoffs.individual_strength.svg'), format = 'svg', dpi = 600, transparent = True)\n",
    "plt.show()\n",
    "\n",
    "fig,ax = plt.subplots(1,1, figsize = (2,0.75))\n",
    "ax.hist(pas_qtls_wide['delta.our-models_strength'], color = 'gray', bins = 50)\n",
    "ax.axvline(x = -thresh_delta, color = 'black', linestyle = 'dashed', linewidth = 0.5, zorder = 4)\n",
    "ax.axvline(x = +thresh_delta, color = 'black', linestyle = 'dashed', linewidth = 0.5, zorder = 4)\n",
    "ax.set_ylabel(\"Frequency\")\n",
    "ax.set_title(\"Difference in PolyaStrength score for\\nreference allele - alternate allele\")\n",
    "ax.spines['right'].set_visible(False)\n",
    "ax.spines['top'].set_visible(False)\n",
    "plt.savefig(os.path.join(OUTDIR, 'benchmark_pasqtls.choosing_cutoffs.individual_delta.svg'), format = 'svg', dpi = 600, transparent = True)\n",
    "plt.show()\n"
   ]
  },
  {
   "cell_type": "code",
   "execution_count": null,
   "metadata": {},
   "outputs": [],
   "source": []
  }
 ],
 "metadata": {
  "kernelspec": {
   "display_name": "Python (tf-train)",
   "language": "python",
   "name": "tf-train"
  },
  "language_info": {
   "codemirror_mode": {
    "name": "ipython",
    "version": 3
   },
   "file_extension": ".py",
   "mimetype": "text/x-python",
   "name": "python",
   "nbconvert_exporter": "python",
   "pygments_lexer": "ipython3",
   "version": "3.6.12"
  },
  "vscode": {
   "interpreter": {
    "hash": "425115ae6637ada2b959655b34e22bdfbab2786b72fd7a6ba9076b4d899c9624"
   }
  }
 },
 "nbformat": 4,
 "nbformat_minor": 2
}
