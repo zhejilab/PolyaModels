{
 "cells": [
  {
   "cell_type": "markdown",
   "metadata": {},
   "source": [
    "# Figure 3: MPRA heterogeneity\n",
    "\n",
    "**Description:** Process data and prepare ready-to-use resources for plotting Figure 1 and Supplemental Figures 1-3\n",
    "\n",
    "&rarr; Run this notebook with the `tf-train` kernel\n"
   ]
  },
  {
   "cell_type": "code",
   "execution_count": 1,
   "metadata": {},
   "outputs": [],
   "source": [
    "%load_ext autoreload"
   ]
  },
  {
   "cell_type": "code",
   "execution_count": 2,
   "metadata": {},
   "outputs": [],
   "source": [
    "%autoreload 2"
   ]
  },
  {
   "cell_type": "code",
   "execution_count": 3,
   "metadata": {},
   "outputs": [
    {
     "name": "stderr",
     "output_type": "stream",
     "text": [
      "Using TensorFlow backend.\n"
     ]
    }
   ],
   "source": [
    "%run -i notebook_setup.py"
   ]
  },
  {
   "cell_type": "markdown",
   "metadata": {},
   "source": [
    "## IMPORTS AND SETUP"
   ]
  },
  {
   "cell_type": "code",
   "execution_count": 4,
   "metadata": {},
   "outputs": [],
   "source": [
    "import utilities\n",
    "from utilities import preprocessing, sequence, model_builder, classification_cleavage, motifs, relative_strength, genomic_context, genetics\n",
    "\n",
    "from statsmodels.stats.multitest import multipletests\n",
    "from statsmodels.stats.proportion import test_proportions_2indep\n"
   ]
  },
  {
   "cell_type": "code",
   "execution_count": 5,
   "metadata": {},
   "outputs": [],
   "source": [
    "PROJECT = \"/projects/b1080/eks/polyadenylation\"\n",
    "DATADIR = os.path.join(PROJECT, \"manuscripts\", \"01_development\", \"data\")\n",
    "RESDIR  = os.path.join(PROJECT, \"manuscripts\", \"01_development\", \"analysis\", \"resources\")\n",
    "OUTDIR  = os.path.join(PROJECT, \"manuscripts\", \"01_development\", \"figures\", \"Figure_03\")\n",
    "os.makedirs(OUTDIR, exist_ok = True)\n"
   ]
  },
  {
   "cell_type": "markdown",
   "metadata": {},
   "source": [
    "#### Define motif families"
   ]
  },
  {
   "cell_type": "code",
   "execution_count": 6,
   "metadata": {},
   "outputs": [
    {
     "name": "stdout",
     "output_type": "stream",
     "text": [
      "2322\n"
     ]
    }
   ],
   "source": [
    "all_hexamers = [\"\".join(x) for x in list(itertools.product('ACGT', repeat = 6))]\n",
    "all_data = pd.DataFrame.from_dict({'hexamer' : all_hexamers}, orient = 'columns')\n",
    "\n",
    "with open(os.path.join(RESDIR, 'motif_list_negative.median_then_mean.cutoff_background.pickle'), mode = 'rb') as handle:\n",
    "    final_background_list = pickle.load(handle)\n",
    "    \n",
    "print(len(final_background_list))\n"
   ]
  },
  {
   "cell_type": "code",
   "execution_count": 7,
   "metadata": {},
   "outputs": [],
   "source": [
    "variants_patterns = ['TATAAA', 'AGTAAA', 'TTTAAA', 'AATACA', 'CATAAA', 'GATAAA', 'AATATA', 'AATGAA', 'AAGAAA']\n",
    "\n",
    "a_patterns = ['AAAAAA','AAAAA[C|G|T]','AAAA[C|G|T]A','AAA[C|G|T]AA','AA[C|G|T]AAA','A[C|G|T]AAAA']\n",
    "t_patterns = ['TTTTTT','TTTTT[A|C|G]','TTTT[A|C|G]T','TTT[A|C|G]TT','TT[A|C|G]TTT','T[A|C|G]TTTT']\n",
    "g_patterns = ['GGGGGG','GGGGG[A|C|T]','GGGG[A|C|T]G','GGG[A|C|T]GG','GG[A|C|T]GGG','G[A|C|T]GGGG']\n",
    "\n",
    "pas = [x for x in ['AATAAA','ATTAAA']+variants_patterns if x in final_background_list]\n",
    "variants = [x for x in variants_patterns if x in final_background_list]\n",
    "a_rich = list(set([x for x in final_background_list if (re.search(\"|\".join(a_patterns), x) is not None) and (x not in ['AATAAA','ATTAAA'])]))\n",
    "t_rich = list(set([x for x in final_background_list if (re.search(\"|\".join(t_patterns), x) is not None)]))\n",
    "g_rich = list(set([x for x in final_background_list if (re.search(\"|\".join(g_patterns), x) is not None)]))\n",
    "\n",
    "gt_patterns = ['GTGT','TGTG','GTCT','CTGT','TCTG','TGTC']\n",
    "gt_rich = list(set([x for x in final_background_list for gt in gt_patterns if (gt in x) and (\"TGTA\" not in x) and ((x.count(\"T\") >= 3) or (x.count(\"G\") >= 3) or (x.count(\"C\") >= 3))]))\n",
    "\n",
    "tgta_rich = list(set([x for x in final_background_list if (\"TGTA\" in x)]))\n"
   ]
  },
  {
   "cell_type": "code",
   "execution_count": 8,
   "metadata": {},
   "outputs": [],
   "source": [
    "affected_motif_dict = {}\n",
    "\n",
    "for motiflist,motiflabel in zip([g_rich, gt_rich, tgta_rich, t_rich, a_rich, variants],\n",
    "                                ['G-Rich', 'GT/CT-Rich', 'TGTA-Rich', 'T-Rich', 'A-Rich', 'PAS Variant']):\n",
    "    for _ in motiflist:\n",
    "        affected_motif_dict[_] = motiflabel\n",
    "        \n",
    "affected_motif_dict['AATAAA'] = 'AATAAA'\n",
    "affected_motif_dict['ATTAAA'] = 'ATTAAA'\n",
    "affected_motif_dict['TGTA'] = 'TGTA'\n"
   ]
  },
  {
   "cell_type": "code",
   "execution_count": 9,
   "metadata": {},
   "outputs": [],
   "source": [
    "direction_priority = {\n",
    "    'created'   : 0,\n",
    "    'disrupted' : 0,\n",
    "    'modified'  : 1,\n",
    "    'retained'  : 2,\n",
    "}\n",
    "\n",
    "motif_priority = {\n",
    "    'AATAAA'      : 0,\n",
    "    'ATTAAA'      : 1,\n",
    "    'PAS Variant' : 2,\n",
    "    'T-Rich'      : 3,\n",
    "    'TGTA'        : 4,\n",
    "    'TGTA-Rich'   : 5,\n",
    "    'A-Rich'      : 6,\n",
    "    'GT/CT-Rich'  : 7,\n",
    "    'G-Rich'      : 8,\n",
    "}\n",
    "\n",
    "motif_location = {\n",
    "    'AATAAA'      : 'upstream',\n",
    "    'ATTAAA'      : 'upstream',\n",
    "    'PAS Variant' : 'upstream',\n",
    "    'T-Rich'      : None,\n",
    "    'TGTA'        : 'upstream',\n",
    "    'TGTA-Rich'   : None,\n",
    "    'A-Rich'      : 'upstream',\n",
    "    'GT/CT-Rich'  : 'downstream',\n",
    "    'G-Rich'      : 'downstream',\n",
    "}\n"
   ]
  },
  {
   "cell_type": "code",
   "execution_count": 10,
   "metadata": {},
   "outputs": [
    {
     "name": "stdout",
     "output_type": "stream",
     "text": [
      "UGUA-rich (n = 43 ): AATGTA, ACTGTA, AGTGTA, ATGTAA, ATGTAC, ATGTAG, ATGTAT, ATTGTA, CATGTA, CCTGTA, CTGTAA, CTGTAC, CTGTAT, CTTGTA, GATGTA, GCTGTA, GGTGTA, GTGTAA, GTGTAC, GTGTAG, GTGTAT, GTTGTA, TATGTA, TCTGTA, TGTAAA, TGTAAC, TGTAAG, TGTAAT, TGTACA, TGTACC, TGTACT, TGTAGA, TGTAGT, TGTATA, TGTATC, TGTATG, TGTATT, TGTGTA, TTGTAA, TTGTAC, TTGTAG, TTGTAT, TTTGTA\n",
      "PAS (n = 11 ): AAGAAA, AATAAA, AATACA, AATATA, AATGAA, AGTAAA, ATTAAA, CATAAA, GATAAA, TATAAA, TTTAAA\n",
      "Variants (n = 9 ): AAGAAA, AATACA, AATATA, AATGAA, AGTAAA, CATAAA, GATAAA, TATAAA, TTTAAA\n",
      "A-rich (n = 15 ): AAAAAA, AAAAAC, AAAAAG, AAAAAT, AAAACA, AAAAGA, AAAATA, AAACAA, AAAGAA, AAATAA, AACAAA, AAGAAA, ACAAAA, AGAAAA, ATAAAA\n",
      "U-rich (n = 16 ): TATTTT, TCTTTT, TGTTTT, TTATTT, TTCTTT, TTGTTT, TTTATT, TTTCTT, TTTGTT, TTTTAT, TTTTCT, TTTTGT, TTTTTA, TTTTTC, TTTTTG, TTTTTT\n",
      "GU/CU-rich (n = 122 ): ACTGTT, AGGTGT, AGTCTT, AGTGTG, AGTGTT, ATCTGT, ATGTCT, ATGTGG, ATGTGT, ATTCTG, ATTGTC, ATTGTG, CCCTGT, CCGTCT, CCTCTG, CCTGTC, CCTGTT, CGTCTC, CGTCTT, CGTGTG, CGTGTT, CTCTGC, CTCTGT, CTGTCC, CTGTCT, CTGTGG, CTGTGT, CTGTTA, CTGTTC, CTGTTG, CTGTTT, CTTCTG, CTTGTC, CTTGTG, GAGTGT, GATGTG, GCGTGT, GCTGTG, GCTGTT, GGCTGT, GGGTCT, GGGTGT, GGTCTG, GGTCTT, GGTGTC, GGTGTG, GGTGTT, GTCTAT, GTCTCC, GTCTCT, GTCTGG, GTCTGT, GTCTTA, GTCTTC, GTCTTG, GTCTTT, GTGTCT, GTGTGA, GTGTGC, GTGTGG, GTGTGT, GTGTTA, GTGTTC, GTGTTG, GTGTTT, GTTCTG, GTTGTC, GTTGTG, TACTGT, TAGTCT, TAGTGT, TATCTG, TATGTC, TATGTG, TCCTGT, TCGTCT, TCGTGT, TCTCTG, TCTGAT, TCTGCC, TCTGCT, TCTGGG, TCTGGT, TCTGTC, TCTGTG, TCTGTT, TGCTGT, TGGTCT, TGGTGT, TGTCAT, TGTCCC, TGTCCT, TGTCGT, TGTCTA, TGTCTC, TGTCTG, TGTCTT, TGTGAG, TGTGAT, TGTGCG, TGTGCT, TGTGGA, TGTGGC, TGTGGG, TGTGGT, TGTGTC, TGTGTG, TGTGTT, TTCTGA, TTCTGC, TTCTGG, TTCTGT, TTGTCA, TTGTCC, TTGTCT, TTGTGA, TTGTGC, TTGTGG, TTGTGT, TTTCTG, TTTGTC, TTTGTG\n",
      "G-rich (n = 16 ): GAGGGG, GCGGGG, GGAGGG, GGCGGG, GGGAGG, GGGCGG, GGGGAG, GGGGCG, GGGGGA, GGGGGC, GGGGGG, GGGGGT, GGGGTG, GGGTGG, GGTGGG, GTGGGG\n"
     ]
    }
   ],
   "source": [
    "print(\"UGUA-rich (n =\", len(tgta_rich), \"):\", \", \".join(sorted(tgta_rich)))\n",
    "\n",
    "print(\"PAS (n =\", len(pas), \"):\", \", \".join(sorted(pas)))\n",
    "print(\"Variants (n =\", len(variants), \"):\", \", \".join(sorted(variants)))\n",
    "print(\"A-rich (n =\", len(a_rich), \"):\", \", \".join(sorted(a_rich)))\n",
    "\n",
    "print(\"U-rich (n =\", len(t_rich), \"):\", \", \".join(sorted(t_rich)))\n",
    "print(\"GU/CU-rich (n =\", len(gt_rich), \"):\", \", \".join(sorted(gt_rich)))\n",
    "print(\"G-rich (n =\", len(g_rich), \"):\", \", \".join(sorted(g_rich)))\n"
   ]
  },
  {
   "cell_type": "markdown",
   "metadata": {},
   "source": [
    "## Confirming cleavage heterogeneity mechanisms via MPRA data"
   ]
  },
  {
   "cell_type": "markdown",
   "metadata": {},
   "source": [
    "Criteria:\n",
    "\n",
    "- Supported by >= 10 sequencing reads\n",
    "- The 50 nt surrounding the max cleavage site contains >= 10% of the total cleavage distribution\n",
    "- PolyaID classification >= 0.5\n"
   ]
  },
  {
   "cell_type": "code",
   "execution_count": 11,
   "metadata": {},
   "outputs": [
    {
     "name": "stdout",
     "output_type": "stream",
     "text": [
      "(83009, 27)\n"
     ]
    }
   ],
   "source": [
    "with open(os.path.join(RESDIR, 'mpra_bogard.data.clv_het.pickle'), mode = 'rb') as handle:\n",
    "    mpra_bog = pickle.load(handle)\n",
    "\n",
    "mpra_bog['observed_clvn'] = mpra_bog['observed_clvn'].apply(lambda x : np.asarray([float(_) for _ in x.strip(\"][\").split(\", \")]))\n",
    "print(mpra_bog.shape)\n"
   ]
  },
  {
   "cell_type": "markdown",
   "metadata": {},
   "source": [
    "## First mechanism: multiple strong AAUAAA PAS"
   ]
  },
  {
   "cell_type": "code",
   "execution_count": 12,
   "metadata": {},
   "outputs": [],
   "source": [
    "mpra_bog_sel = mpra_bog.loc[mpra_bog['our-models_classification'] > 0.9].copy()\n",
    "\n",
    "mpra_bog_sel['count_aataaa'] = mpra_bog_sel.apply(lambda row: classification_cleavage.count_motifs(row['seq_ext'][max([0,int(75+row['observed_idx']-120)]):int(75+row['observed_idx'])], ['AATAAA'], method = 'priority', overlapping = True, preference = 'max', count_only = True), axis = 1)\n",
    "mpra_bog_sel['idx_aataaa']   = mpra_bog_sel.apply(lambda row: max([0,int(75+row['observed_idx']-120)]) + classification_cleavage.count_motifs(row['seq_ext'][max([0,int(75+row['observed_idx']-120)]):int(75+row['observed_idx'])], ['AATAAA'], method = 'priority', overlapping = False, preference = 'max', count_only = False, index_only = True), axis = 1)\n",
    "mpra_bog_sel['dist_aataaa']  = mpra_bog_sel['idx_aataaa'].apply(lambda x : np.abs(np.max(x) - np.min(x)) if (len(x)) else np.nan)\n"
   ]
  },
  {
   "cell_type": "code",
   "execution_count": 13,
   "metadata": {},
   "outputs": [
    {
     "name": "stdout",
     "output_type": "stream",
     "text": [
      "Sequences with 2 AAUAAA 18-69 nt apart: 1493\n",
      "Sequences with 1 AAUAAA: 17378\n"
     ]
    }
   ],
   "source": [
    "print(\"Sequences with 2 AAUAAA 18-69 nt apart:\", len(mpra_bog_sel.loc[(mpra_bog_sel['dist_aataaa'].between(18,69)) & (mpra_bog_sel['count_aataaa'] == 2)]))\n",
    "print(\"Sequences with 1 AAUAAA:\", (mpra_bog_sel['count_aataaa'] == 1).sum())\n"
   ]
  },
  {
   "cell_type": "code",
   "execution_count": 14,
   "metadata": {},
   "outputs": [
    {
     "data": {
      "image/png": "[encoded data removed]",
      "text/plain": [
       "<Figure size 72x108 with 1 Axes>"
      ]
     },
     "metadata": {
      "needs_background": "light"
     },
     "output_type": "display_data"
    },
    {
     "name": "stdout",
     "output_type": "stream",
     "text": [
      "\n",
      "Summary of cleavage entropy by AATAAA count:\n",
      "              count      mean    median       std\n",
      "count_aataaa                                     \n",
      "1              1493  2.015465  2.028845  0.382433\n",
      "2              1493  2.130513  2.130081  0.373702\n",
      "\n",
      "Wilcoxon rank-sum test comparing the entropy of sequences with 2 vs 1 AATAAA:\n",
      "RanksumsResult(statistic=-7.610442705641382, pvalue=2.731586390762787e-14)\n"
     ]
    }
   ],
   "source": [
    "dt_count2 = mpra_bog_sel.loc[(mpra_bog_sel['dist_aataaa'].between(18,69)) & (mpra_bog_sel['count_aataaa'] == 2)]\n",
    "dt_count1 = mpra_bog_sel.loc[(mpra_bog_sel['count_aataaa'] == 1)].sample(n = len(dt_count2), replace = False, random_state = 1234)\n",
    "\n",
    "mpra_bog_samp = pd.concat([dt_count1, dt_count2], ignore_index = True, sort = False)\n",
    "\n",
    "\n",
    "fig,ax = plt.subplots(1,1, figsize = (1,1.5))\n",
    "\n",
    "sns.boxplot(data = mpra_bog_samp, x = 'count_aataaa', y = 'observed_ent', order = [1,2], \n",
    "            hue = 'count_aataaa', color = 'gray', dodge = False, hue_order = [1,2],\n",
    "            boxprops = {'edgecolor' : 'black', 'linewidth' : 0.5},\n",
    "            medianprops = {'color' : 'black', 'linewidth' : 0.5},\n",
    "            whiskerprops = {'color' : 'black', 'linewidth' : 0.5},\n",
    "            capprops = {'color' : 'black', 'linewidth' : 0.5},\n",
    "            flierprops = {'color' : 'black', 'markersize' : 1}, \n",
    "            showfliers = False, ax = ax)\n",
    "\n",
    "ax.set_xlabel(\"AAUAAA count\")\n",
    "ax.set_ylabel(\"Cleavage entropy\")\n",
    "ax.set_ylim(0.75,3.25)\n",
    "\n",
    "ax.spines['right'].set_visible(False)\n",
    "ax.spines['top'].set_visible(False)\n",
    "\n",
    "ax.legend().remove()\n",
    "\n",
    "plt.savefig(os.path.join(OUTDIR, f'cleavage_entropy_validation.bogard.entropy_by_aauaaa_count.svg'), format = 'svg', dpi = 600, transparent = True)\n",
    "plt.show()\n",
    "\n",
    "\n",
    "print(\"\\nSummary of cleavage entropy by AATAAA count:\")\n",
    "print(mpra_bog_samp.groupby('count_aataaa')['observed_ent'].agg(['count','mean','median','std']))\n",
    "\n",
    "print(\"\\nWilcoxon rank-sum test comparing the entropy of sequences with 2 vs 1 AATAAA:\")\n",
    "print(st.ranksums(mpra_bog_samp.loc[mpra_bog_samp['count_aataaa'] == 1, 'observed_ent'],\n",
    "                  mpra_bog_samp.loc[mpra_bog_samp['count_aataaa'] == 2, 'observed_ent']))\n"
   ]
  },
  {
   "cell_type": "markdown",
   "metadata": {
    "scrolled": false
   },
   "source": [
    "## Second mechanism: CPSF-CstF binding motif distance"
   ]
  },
  {
   "cell_type": "code",
   "execution_count": 15,
   "metadata": {},
   "outputs": [
    {
     "name": "stdout",
     "output_type": "stream",
     "text": [
      "(17378, 32)\n",
      "(45741, 32)\n"
     ]
    }
   ],
   "source": [
    "mpra_bog_single = mpra_bog_sel.loc[mpra_bog_sel['count_aataaa'] == 1].copy()\n",
    "mpra_bog_single['idx_trich']  = mpra_bog_single.apply(lambda row: int(75+row['observed_idx']) + classification_cleavage.count_motifs(row['seq_ext'][int(75+row['observed_idx']):min([len(row['seq_ext']),int(75+row['observed_idx']+120)])], t_rich, method = 'sequential', preference = 'min', overlapping = False, count_only = False, index_only = True), axis = 1)\n",
    "mpra_bog_single['idx_gtrich'] = mpra_bog_single.apply(lambda row: int(75+row['observed_idx']) + classification_cleavage.count_motifs(row['seq_ext'][int(75+row['observed_idx']):min([len(row['seq_ext']),int(75+row['observed_idx']+120)])], gt_rich, method = 'sequential', preference = 'min', overlapping = False, count_only = False, index_only = True), axis = 1)\n",
    "print(mpra_bog_single.shape)\n",
    "\n",
    "mpra_bog_long = mpra_bog_single.copy()\n",
    "mpra_bog_long = mpra_bog_long.explode('idx_aataaa')\n",
    "mpra_bog_long = mpra_bog_long.explode('idx_trich')\n",
    "mpra_bog_long = mpra_bog_long.explode('idx_gtrich')\n",
    "print(mpra_bog_long.shape)\n"
   ]
  },
  {
   "cell_type": "code",
   "execution_count": 16,
   "metadata": {},
   "outputs": [],
   "source": [
    "mpra_bog_long['dist_trich']  = (mpra_bog_long['idx_trich']  - mpra_bog_long['idx_aataaa']).astype(float)\n",
    "mpra_bog_long['dist_gtrich'] = (mpra_bog_long['idx_gtrich'] - mpra_bog_long['idx_aataaa']).astype(float)\n"
   ]
  },
  {
   "cell_type": "code",
   "execution_count": 17,
   "metadata": {},
   "outputs": [],
   "source": [
    "mpra_bog_long['aataaa_between_trich']  = mpra_bog_long.apply(lambda row: classification_cleavage.count_motifs(row['seq_ext'][int(row['idx_aataaa']+6):int(row['idx_trich'])],  ['AATAAA'], method = 'priority', overlapping = False, preference = 'max', count_only = True) if (not np.isnan(row['idx_trich'])) else np.nan, axis = 1)\n",
    "mpra_bog_long['aataaa_between_gtrich'] = mpra_bog_long.apply(lambda row: classification_cleavage.count_motifs(row['seq_ext'][int(row['idx_aataaa']+6):int(row['idx_gtrich'])], ['AATAAA'], method = 'priority', overlapping = False, preference = 'max', count_only = True) if (not np.isnan(row['idx_gtrich'])) else np.nan, axis = 1)\n",
    "\n",
    "mpra_bog_long['pas_between_trich']     = mpra_bog_long.apply(lambda row: classification_cleavage.count_motifs(row['seq_ext'][int(row['idx_aataaa']+6):int(row['idx_trich'])],  pas, method = 'priority', overlapping = False, preference = 'max', count_only = True) if (not np.isnan(row['idx_trich'])) else np.nan, axis = 1)\n",
    "mpra_bog_long['pas_between_gtrich']    = mpra_bog_long.apply(lambda row: classification_cleavage.count_motifs(row['seq_ext'][int(row['idx_aataaa']+6):int(row['idx_gtrich'])], pas, method = 'priority', overlapping = False, preference = 'max', count_only = True) if (not np.isnan(row['idx_gtrich'])) else np.nan, axis = 1)\n",
    "\n",
    "mpra_bog_long['trich_between_trich']   = mpra_bog_long.apply(lambda row: classification_cleavage.count_motifs(row['seq_ext'][int(row['idx_aataaa']+6):int(row['idx_trich'])],  t_rich, method = 'priority', overlapping = False, preference = 'max', count_only = True) if (not np.isnan(row['idx_trich'])) else np.nan, axis = 1)\n",
    "mpra_bog_long['trich_between_gtrich']  = mpra_bog_long.apply(lambda row: classification_cleavage.count_motifs(row['seq_ext'][int(row['idx_aataaa']+6):int(row['idx_gtrich'])], t_rich, method = 'priority', overlapping = False, preference = 'max', count_only = True) if (not np.isnan(row['idx_gtrich'])) else np.nan, axis = 1)\n",
    "\n",
    "mpra_bog_long['gtrich_between_trich']  = mpra_bog_long.apply(lambda row: classification_cleavage.count_motifs(row['seq_ext'][int(row['idx_aataaa']+6):int(row['idx_trich'])],  gt_rich, method = 'priority', overlapping = False, preference = 'max', count_only = True) if (not np.isnan(row['idx_trich'])) else np.nan, axis = 1)\n",
    "mpra_bog_long['gtrich_between_gtrich'] = mpra_bog_long.apply(lambda row: classification_cleavage.count_motifs(row['seq_ext'][int(row['idx_aataaa']+6):int(row['idx_gtrich'])], gt_rich, method = 'priority', overlapping = False, preference = 'max', count_only = True) if (not np.isnan(row['idx_gtrich'])) else np.nan, axis = 1)\n"
   ]
  },
  {
   "cell_type": "markdown",
   "metadata": {},
   "source": [
    "#### Visualize impact of AAUAAA - U-rich distances on clevage heterogeneity"
   ]
  },
  {
   "cell_type": "code",
   "execution_count": 19,
   "metadata": {},
   "outputs": [
    {
     "name": "stdout",
     "output_type": "stream",
     "text": [
      "(45741, 42)\n",
      "(1828, 42)\n"
     ]
    }
   ],
   "source": [
    "## Require that there are no intervening CPSF or CSTF binding motifs\n",
    "cond1 = (mpra_bog_long['aataaa_between_trich'] == 0)\n",
    "cond2 = (mpra_bog_long['pas_between_trich'] == 0)\n",
    "cond3 = (mpra_bog_long['trich_between_trich'] == 0)\n",
    "cond4 = (mpra_bog_long['gtrich_between_trich'] == 0)\n",
    "\n",
    "mpra_bog_long1 = mpra_bog_long.loc[cond1 & cond2 & cond3 & cond4].copy()\n",
    "\n",
    "print(mpra_bog_long.shape)\n",
    "print(mpra_bog_long1.shape)\n"
   ]
  },
  {
   "cell_type": "code",
   "execution_count": 19,
   "metadata": {},
   "outputs": [
    {
     "name": "stdout",
     "output_type": "stream",
     "text": [
      "(1194, 42)\n"
     ]
    }
   ],
   "source": [
    "## Remove duplicates due to multiple CPSF or CSTF binding motifs\n",
    "mpra_bog_long2 = mpra_bog_long1.drop_duplicates(subset = ['sequence','observed_idx','observed_ent','idx_aataaa','idx_gtrich','dist_gtrich'])\n",
    "print(mpra_bog_long2.shape)\n"
   ]
  },
  {
   "cell_type": "code",
   "execution_count": 20,
   "metadata": {},
   "outputs": [
    {
     "data": {
      "image/png": "[encoded data removed]",
      "text/plain": [
       "<Figure size 144x108 with 1 Axes>"
      ]
     },
     "metadata": {
      "needs_background": "light"
     },
     "output_type": "display_data"
    },
    {
     "name": "stdout",
     "output_type": "stream",
     "text": [
      "\n",
      "Corresponding sequence counts:\n",
      "Simple    1059\n",
      "AARS       111\n",
      "SOX13        9\n",
      "HSPE1        8\n",
      "ATR          7\n",
      "Name: library_name, dtype: int64\n"
     ]
    }
   ],
   "source": [
    "## Remove sequences from libraries with few sequences or no/low variance in AAUAAA - U-rich distances\n",
    "\n",
    "fig,ax = plt.subplots(1,1, figsize = (2,1.5))\n",
    "\n",
    "sns.boxplot(data = mpra_bog_long2, x = 'dist_trich', y = 'library_name', \n",
    "            order = ['ATR','SOX13','HSPE1','Simple','AARS'],\n",
    "            boxprops = {'edgecolor' : 'black', 'linewidth' : 0.5},\n",
    "            medianprops = {'color' : 'black', 'linewidth' : 0.5},\n",
    "            whiskerprops = {'color' : 'black', 'linewidth' : 0.5},\n",
    "            capprops = {'color' : 'black', 'linewidth' : 0.5},\n",
    "            flierprops = {'color' : 'black', 'markersize' : 1}, \n",
    "            showfliers = False, ax = ax)\n",
    "\n",
    "ax.set_xlabel(\"AAUAAA - U-rich distance (nt)\")\n",
    "ax.xaxis.set_major_locator(MultipleLocator(10))\n",
    "ax.set_ylabel(\"Library\")\n",
    "\n",
    "ax.spines['right'].set_visible(False)\n",
    "ax.spines['top'].set_visible(False)\n",
    "\n",
    "plt.show()\n",
    "\n",
    "\n",
    "print(\"\\nCorresponding sequence counts:\")\n",
    "print(mpra_bog_long2['library_name'].value_counts())\n"
   ]
  },
  {
   "cell_type": "code",
   "execution_count": 21,
   "metadata": {
    "scrolled": true
   },
   "outputs": [
    {
     "name": "stdout",
     "output_type": "stream",
     "text": [
      "(1170, 42)\n"
     ]
    }
   ],
   "source": [
    "mpra_bog_long3 = mpra_bog_long2.loc[mpra_bog_long2['library_name'].isin(['AARS','Simple'])].copy()\n",
    "print(mpra_bog_long3.shape)\n"
   ]
  },
  {
   "cell_type": "code",
   "execution_count": 22,
   "metadata": {},
   "outputs": [
    {
     "data": {
      "image/png": "[encoded data removed]",
      "text/plain": [
       "<Figure size 144x108 with 1 Axes>"
      ]
     },
     "metadata": {
      "needs_background": "light"
     },
     "output_type": "display_data"
    },
    {
     "name": "stdout",
     "output_type": "stream",
     "text": [
      "25-35    477\n",
      "35-70    383\n",
      "Name: plot_bin, dtype: int64\n"
     ]
    }
   ],
   "source": [
    "## Split sequences into \"close\" and \"far\" bins based on AAUAAA - GU/CU-rich distance\n",
    "\n",
    "low1,high1 = (25,35)\n",
    "low2,high2 = (35,70)\n",
    "\n",
    "plot_data = mpra_bog_long3.copy()\n",
    "\n",
    "fig,ax = plt.subplots(1,1, figsize = (2,1.5))\n",
    "sns.histplot(data = plot_data, x = 'dist_trich', color = 'gray', binwidth = 1)\n",
    "for x in (low1,high1,low2,high2): ax.axvline(x = x, color = 'black')\n",
    "ax.xaxis.set_major_locator(MultipleLocator(20))\n",
    "ax.xaxis.set_minor_locator(MultipleLocator(5))\n",
    "plt.show()\n",
    "\n",
    "plot_data['plot_bin'] = np.nan\n",
    "plot_data.loc[plot_data['dist_trich'].between(low1,high1), 'plot_bin'] = f'{low1}-{high1}'\n",
    "plot_data.loc[plot_data['dist_trich'].between(low2,high2), 'plot_bin'] = f'{low2}-{high2}'\n",
    "print(plot_data['plot_bin'].value_counts())\n"
   ]
  },
  {
   "cell_type": "code",
   "execution_count": 23,
   "metadata": {},
   "outputs": [
    {
     "data": {
      "image/png": "[encoded data removed]",
      "text/plain": [
       "<Figure size 72x108 with 1 Axes>"
      ]
     },
     "metadata": {
      "needs_background": "light"
     },
     "output_type": "display_data"
    },
    {
     "name": "stdout",
     "output_type": "stream",
     "text": [
      "\n",
      "Summary of cleavage entropy by group:\n",
      "          count      mean    median       std\n",
      "plot_bin                                     \n",
      "25-35       477  2.056545  2.067102  0.417803\n",
      "35-70       383  2.163974  2.177939  0.373987\n",
      "\n",
      "Wilcoxon rank-sum test comparing the cleavage entropy:\n",
      "RanksumsResult(statistic=-3.6916088718783318, pvalue=0.00022283997098986594)\n"
     ]
    }
   ],
   "source": [
    "## Visualize cleavage entropy by AAUAAA - U-rich distance\n",
    "\n",
    "fig,ax = plt.subplots(1,1, figsize = (1,1.5))\n",
    "\n",
    "sns.boxplot(data = plot_data, x = 'plot_bin', y = 'observed_ent', order = [f'{low1}-{high1}',f'{low2}-{high2}'], \n",
    "            hue = 'plot_bin', color = 'gray', dodge = False, hue_order = [f'{low1}-{high1}',f'{low2}-{high2}'], \n",
    "            boxprops = {'edgecolor' : 'black', 'linewidth' : 0.5},\n",
    "            medianprops = {'color' : 'black', 'linewidth' : 0.5},\n",
    "            whiskerprops = {'color' : 'black', 'linewidth' : 0.5},\n",
    "            capprops = {'color' : 'black', 'linewidth' : 0.5},\n",
    "            flierprops = {'color' : 'black', 'markersize' : 1}, \n",
    "            showfliers = False, ax = ax)\n",
    "\n",
    "ax.set_xlabel(\"AAUAAA - U-rich\\ndistance (nt)\")\n",
    "\n",
    "ax.set_ylabel(\"Cleavage entropy\")\n",
    "ax.yaxis.set_major_locator(MultipleLocator(0.5))\n",
    "\n",
    "ax.spines['right'].set_visible(False)\n",
    "ax.spines['top'].set_visible(False)\n",
    "\n",
    "ax.legend().remove()\n",
    "\n",
    "plt.savefig(os.path.join(OUTDIR, f'cleavage_entropy_validation.bogard.entropy_by_aauaaa-urich-distance.svg'), format = 'svg', dpi = 600, transparent = True)\n",
    "plt.show()\n",
    "\n",
    "\n",
    "print(\"\\nSummary of cleavage entropy by group:\")\n",
    "print(plot_data.groupby('plot_bin')['observed_ent'].agg(['count','mean','median','std']))\n",
    "\n",
    "print(\"\\nWilcoxon rank-sum test comparing the cleavage entropy:\")\n",
    "print(st.ranksums(plot_data.loc[plot_data['plot_bin'] == f'{low1}-{high1}', 'observed_ent'],\n",
    "                  plot_data.loc[plot_data['plot_bin'] == f'{low2}-{high2}', 'observed_ent']))\n"
   ]
  },
  {
   "cell_type": "code",
   "execution_count": 24,
   "metadata": {},
   "outputs": [
    {
     "name": "stdout",
     "output_type": "stream",
     "text": [
      "Close:\n",
      "1430327 \t ACGCGCCGAGGGCCGCCACTCCACCGGCGGCATGGACGAGCTGTACAAGTCTTGATCCCTACACGACGCTCTTCCGATCTTGTTTACTCGGGTTTTGCTTTAGTGACTTACAATTTGTGCAGAGA AATAAA ATATGGTTATCTAAAAAGC TTTTTG GTCTCTTTGCTGTACTTAGTATTAAACACTCATCTGAGGTTGGCGGGGGCTTAAATAGAAGCAGAACTCTGCGCCTAACCCTAAGCAGATTCTTCATGCA\n",
      "1449394 \t ACGCGCCGAGGGCCGCCACTCCACCGGCGGCATGGACGAGCTGTACAAGTCTTGATCCCTACACGACGCTCTTCCGATCTTTATCTGGGGGCGATTTTATGTATCTGTCATGTATTGTTACTTTG AATAAA TATGAGATGGTGAAGAGCCTTTTCCC TTTTTC TAATTGTTTTGCTATTAAAGTTGCTTGGGAAGCCGTCTAGGCCGTCTGCGGTTTGGTCATGAGTCGCCTAACCCTAAGCAGATTCTTCATGCA\n",
      "1449760 \t ACGCGCCGAGGGCCGCCACTCCACCGGCGGCATGGACGAGCTGTACAAGTCTTGATCCCTACACGACGCTCTTCCGATCTTTCTTAGACAGGAGGTGCCTGATGAGAATATTGATTTCTTTTATAATTAAATTCACGCTTAACTAGACACTGAGCTCTGTATTTGGATTGTTGGCT AATAAA ACTCACTTTGCCTTGATGA TTTTTC CTGTACTCTTGTGGCAGGGACGCCTAACCCTAAGCAGATTCTTCATGCA\n",
      "1439458 \t ACGCGCCGAGGGCCGCCACTCCACCGGCGGCATGGACGAGCTGTACAAGTCTTGATCCCTACACGACGCTCTTCCGATCTGCTCTATAGATCTTGTTAATGGCTCTTTGTAATTAGAATTGCTTA AATAAA GGCATATGGAATTTCACTGAG TTTTTG TTAAGGCTTTTGTTAATCATTAAAAGGACGTTGGGGGCCATTGTCTGCGCCCAATCTGGTGGGGTGTATCGCCTAACCCTAAGCAGATTCTTCATGCA\n",
      "1460340 \t ACGCGCCGAGGGCCGCCACTCCACCGGCGGCATGGACGAGCTGTACAAGTCTTGATCCCTACACGACGCTCTTCCGATCTACTGTTCCAGATTTCAGAGTGTGTGTGCTGACGGTTAACGCGGAC AATAAA ATGGTTATTATCATTTGGGCGAGGC TTGTTT TTTGTAGTCTGTGAATTAAATTGCATAGTGAGGTGTAGTGCCTGTGGTATAGCCGGGCTGGGCCTCGCCTAACCCTAAGCAGATTCTTCATGCA\n",
      "1426299 \t ACGCGCCGAGGGCCGCCACTCCACCGGCGGCATGGACGAGCTGTACAAGTCTTGATCCCTACACGACGCTCTTCCGATCTCATCTACATAATTCAATATTCTTTTTAGGCGTATATTTATTGGATATTAAACTTCAATTAACATGTTATCAGGTACTTCTAAATGGGTTTGTATGA AATAAA AGTTTAGTGGCGTGGGCTCTTTCCG TTTTAT TCTGTGGTCCCGTGCGCCTAACCCTAAGCAGATTCTTCATGCA\n",
      "1451317 \t ACGCGCCGAGGGCCGCCACTCCACCGGCGGCATGGACGAGCTGTACAAGTCTTGATCCCTACACGACGCTCTTCCGATCTTGCGATTGGGTTTGTTGTATTGTTCAATTCAGTTGGGGTGGCTGC AATAAA GGATTAATTTCACCCAAGATGACCA TGTTTT AATAATGACTCAGTATTAAATCCAGTAATGGAGGTTGGCGTTTTAGTGCTGGCAGTGGCCCGCACCGCCTAACCCTAAGCAGATTCTTCATGCA\n",
      "1415502 \t ACGCGCCGAGGGCCGCCACTCCACCGGCGGCATGGACGAGCTGTACAAGTCTTGATCCCTACACGACGCTCTTCCGATCTAGCTTTTTCTGTCTACTTGAAAGTTTGTACGTGTTTTTATGTATT AATAAA TACGGCCAAAGTAGCACAA TTTTAT TCTTTGTGATTCTCTCTGTTATTAAAAGTTTTGATGGAGAGGAACAAAAGTTAGGGCCGGGTTACTGTAGGCGCCTAACCCTAAGCAGATTCTTCATGCA\n",
      "1378555 \t ACGCGCCGAGGGCCGCCACTCCACCGGCGGCATGGACGAGCTGTACAAGTCTTGATCCCTACACGACGCTCTTCCGATCTGTAATCTGTTCTAGGAGTAGGTTTAAGGTTTTCATATTTCTACTTATTAAAACTGGTTTGGGAGCATTTGACGGAATGAAGGGAGTGTTTATTTTT AATAAA GGGTTCCATTACTCTCGAC TTTGTT CATTCATGCCTAGTGCCAGTCGCCTAACCCTAAGCAGATTCTTCATGCA\n",
      "1424190 \t ACGCGCCGAGGGCCGCCACTCCACCGGCGGCATGGACGAGCTGTACAAGTCTTGATCCCTACACGACGCTCTTCCGATCTGATGAGTTCTTGTTCCTGTACTTTTATCCTGATACCTTTTGTATT AATAAA TCTCACTAATGTTGGATTCTATTCGG TTTTTT CACATTTGTTAGTAATAAATTCATCCAGTTGGGGGATGGAATTGCAATATCCGCAGCCTTTCTCCGCCTAACCCTAAGCAGATTCTTCATGCA\n",
      "Far:\n",
      "2782423 \t ACGCGCCGAGGGCCGCCACTCCACCGGCGGCATGGACGAGCTGTACAAGTCTTGATCCCTACACGACGCTCTTCCGATCTCTGAGCTTTACCATAACCGGTCCCAAATTAAACTTTGCTGCAGAG AATAAA AGGCCCACGTGCAATACTTAATGCCGCATGATCTGAG TCTTTT TATGTTTATTGCGCCGGCTCTTTTGACAGCCTTTGGCGTCTGTAGAATAAATGCTGTGGCTCCTGCTGGCTGCTGTGGTGTT\n",
      "1460974 \t ACGCGCCGAGGGCCGCCACTCCACCGGCGGCATGGACGAGCTGTACAAGTCTTGATCCCTACACGACGCTCTTCCGATCTCTCTTTTCCTGTGCGTAATGTCCGGCTTGTTCTGTAAGTCGTCAG AATAAA TAATATTGTTGTATTAAGCACCCACAGAGTATGGA TTTTGT GATTATTAAATTAAGCCATGGTTGGGCTGGGTGTTGTGTGTGGTTCTGGTCGCCGCGCCTAACCCTAAGCAGATTCTTCATGCA\n",
      "1377711 \t ACGCGCCGAGGGCCGCCACTCCACCGGCGGCATGGACGAGCTGTACAAGTCTTGATCCCTACACGACGCTCTTCCGATCTCATTATTCAGATTACATGTTGTTTGTGAACTATTTTTGGTGGACT AATAAA TATTGTTAGAGCTGGTTTGCTTACAGGAATGCTCAGA TTTTTG AGAATAAAAGTAAGTGTGAGGTGTTGTTAACATGGGAAGTGAGCGTGAGTGTTCGCCTAACCCTAAGCAGATTCTTCATGCA\n",
      "2768405 \t ACGCGCCGAGGGCCGCCACTCCACCGGCGGCATGGACGAGCTGTACAAGTCTTGATCCCTACACGACGCTCTTCCGATCTCTGAGCTTTGACTTGTCCAAAGACAGCGCATTATTTGCTGCAGAG AATAAA AGGACCACGTGCAATACTTAATGCCGCATGATCTG TTTGTT ACTGCTGTGTGCGTTTCGGCTCTTTTGACAGCCTTTGGCGTCTGTAGAATAAATGCTGTGGCTCCTGCTGGCTGCTGTGGTGTT\n",
      "1444587 \t ACGCGCCGAGGGCCGCCACTCCACCGGCGGCATGGACGAGCTGTACAAGTCTTGATCCCTACACGACGCTCTTCCGATCTGTATCGTGAAGGTTTTACAATATTTTTTCACCCATGCAATAGTAT AATAAA ATTACATATATCTACTTTGCTGGTCAGCTGAA TTTTTT TATGCATATTAAAACACCAGGCTATGGTCTCAATTTGTAAAAGGTTGGTGGGGTGGTTCGCCTAACCCTAAGCAGATTCTTCATGCA\n",
      "1418264 \t ACGCGCCGAGGGCCGCCACTCCACCGGCGGCATGGACGAGCTGTACAAGTCTTGATCCCTACACGACGCTCTTCCGATCTATCTTGTTTGGGATGTACTGTGGTGGTTTTTGCTGTGAGAAGTAT AATAAA ATGAAATTGGTAGCTAGGGAAATAGATTGTA TTGTTT CATTGCCCATTAAAGGTTTGTCCCAGCTGCTAGGGTCGGTTGGGCTAGGTGGGTTGTAGCGCCTAACCCTAAGCAGATTCTTCATGCA\n",
      "1390266 \t ACGCGCCGAGGGCCGCCACTCCACCGGCGGCATGGACGAGCTGTACAAGTCTTGATCCCTACACGACGCTCTTCCGATCTCATTGTTTATCTCTTCATTTTTTCATTTAAGTCGTGTGGGTTAAG AATAAA GTTAGACCTATAGTAATTTTCAGATGTAGTTGAC TTTTTG TCTAAATTAAACCACTTGTTGCTTAGTGTGTCTGGACAGGGGTGTTTGCCCGTCGCCGCCTAACCCTAAGCAGATTCTTCATGCA\n",
      "1431375 \t ACGCGCCGAGGGCCGCCACTCCACCGGCGGCATGGACGAGCTGTACAAGTCTTGATCCCTACACGACGCTCTTCCGATCTGCAAATGTTCCCTGATGAATTTTGTTTTTGTAAATACGTTTCAGTATTAAATTAAGATTCTGGTTTTCCTGGCTAGTTTTACCTTGTATTGTAGGT AATAAA AGAACGGATCTCGTTGGCGTGGTTGGTCC TTTTTT GTATGGGTGCCGCCTAACCCTAAGCAGATTCTTCATGCA\n",
      "1397190 \t ACGCGCCGAGGGCCGCCACTCCACCGGCGGCATGGACGAGCTGTACAAGTCTTGATCCCTACACGACGCTCTTCCGATCTCATATTCACCTACTAACATTACAAGATTATTGTTTACAATTTCCC AATAAA AATCATCACAAGCATGACTTGATGTAGCAGTGTCACAG TTTGTT AATTAAAATTCTGAGTAGAGGGGCCTTGCTTCGTGGGAGCGTCTGGGCTGCGCGCCTAACCCTAAGCAGATTCTTCATGCA\n",
      "2782582 \t ACGCGCCGAGGGCCGCCACTCCACCGGCGGCATGGACGAGCTGTACAAGTCTTGATCCCTACACGACGCTCTTCCGATCTCTGAGCTTTATAAAAAAGCGTAATGCCTGTATGCTTGCTGCAGAG AATAAA AGGACCACGTGCAATACTTAATGCCGCATGATCATTTAATTTCCTGACTGGAGGGGTGGGC TCTTTT GACAGCCTTTGGCGTCTGTAGAATAAATGCTGTGGCTCCTGCTGGCTGCTGTGGTGTT\n"
     ]
    }
   ],
   "source": [
    "print(\"Close:\")\n",
    "\n",
    "for i,row in plot_data.loc[plot_data['plot_bin'] == f'{low1}-{high1}'].sample(n = 10, replace = False, random_state = 1234).iterrows():\n",
    "    \n",
    "    seq1 = row['seq_ext'][:row['idx_aataaa']]\n",
    "    seq2 = row['seq_ext'][row['idx_aataaa']:int(row['idx_aataaa']+6)]\n",
    "    seq3 = row['seq_ext'][int(row['idx_aataaa']+6):int(row['idx_trich'])]\n",
    "    seq4 = row['seq_ext'][int(row['idx_trich']):int(row['idx_trich']+6)]\n",
    "    seq5 = row['seq_ext'][int(row['idx_trich']+6):]\n",
    "    \n",
    "    print(i, \"\\t\", \" \".join([seq1,seq2,seq3,seq4,seq5]))\n",
    "\n",
    "print(\"Far:\")\n",
    "\n",
    "for i,row in plot_data.loc[plot_data['plot_bin'] == f'{low2}-{high2}'].sample(n = 10, replace = False, random_state = 1234).iterrows():\n",
    "    \n",
    "    seq1 = row['seq_ext'][:row['idx_aataaa']]\n",
    "    seq2 = row['seq_ext'][row['idx_aataaa']:int(row['idx_aataaa']+6)]\n",
    "    seq3 = row['seq_ext'][int(row['idx_aataaa']+6):int(row['idx_trich'])]\n",
    "    seq4 = row['seq_ext'][int(row['idx_trich']):int(row['idx_trich']+6)]\n",
    "    seq5 = row['seq_ext'][int(row['idx_trich']+6):]\n",
    "    \n",
    "    print(i, \"\\t\", \" \".join([seq1,seq2,seq3,seq4,seq5]))\n"
   ]
  },
  {
   "cell_type": "markdown",
   "metadata": {},
   "source": [
    "#### Visualize impact of AAUAAA - GU/CU-rich distances on clevage heterogeneity"
   ]
  },
  {
   "cell_type": "code",
   "execution_count": 23,
   "metadata": {},
   "outputs": [
    {
     "name": "stdout",
     "output_type": "stream",
     "text": [
      "(45741, 42)\n",
      "(13556, 42)\n"
     ]
    }
   ],
   "source": [
    "## Require that there are no intervening CPSF or CSTF binding motifs\n",
    "cond1 = (mpra_bog_long['aataaa_between_gtrich'] == 0)\n",
    "cond2 = (mpra_bog_long['pas_between_gtrich'] == 0)\n",
    "cond3 = (mpra_bog_long['trich_between_gtrich'] == 0)\n",
    "cond4 = (mpra_bog_long['gtrich_between_gtrich'] == 0)\n",
    "\n",
    "mpra_bog_long1 = mpra_bog_long.loc[cond1 & cond2 & cond3 & cond4].copy()\n",
    "print(mpra_bog_long.shape)\n",
    "print(mpra_bog_long1.shape)\n"
   ]
  },
  {
   "cell_type": "code",
   "execution_count": 25,
   "metadata": {},
   "outputs": [
    {
     "name": "stdout",
     "output_type": "stream",
     "text": [
      "(6438, 42)\n"
     ]
    }
   ],
   "source": [
    "## Remove duplicates due to multiple CPSF or CSTF binding motifs\n",
    "mpra_bog_long2 = mpra_bog_long1.drop_duplicates(subset = ['sequence','observed_idx','observed_ent','idx_aataaa','idx_gtrich','dist_gtrich'])\n",
    "print(mpra_bog_long2.shape)\n"
   ]
  },
  {
   "cell_type": "code",
   "execution_count": 27,
   "metadata": {},
   "outputs": [
    {
     "data": {
      "image/png": "[encoded data removed]",
      "text/plain": [
       "<Figure size 144x108 with 1 Axes>"
      ]
     },
     "metadata": {
      "needs_background": "light"
     },
     "output_type": "display_data"
    },
    {
     "name": "stdout",
     "output_type": "stream",
     "text": [
      "\n",
      "Corresponding sequence counts:\n",
      "HSPE1      5022\n",
      "Simple     1236\n",
      "WHAMMP2     107\n",
      "SOX13        48\n",
      "AARS         25\n",
      "Name: library_name, dtype: int64\n"
     ]
    }
   ],
   "source": [
    "## Remove sequences from libraries with few sequences or no/low variance in AAUAAA - GU/CU-rich distances\n",
    "\n",
    "fig,ax = plt.subplots(1,1, figsize = (2,1.5))\n",
    "\n",
    "sns.boxplot(data = mpra_bog_long2, x = 'dist_gtrich', y = 'library_name', \n",
    "            order = ['WHAMMP2','HSPE1','SOX13','Simple','AARS'],\n",
    "            boxprops = {'edgecolor' : 'black', 'linewidth' : 0.5},\n",
    "            medianprops = {'color' : 'black', 'linewidth' : 0.5},\n",
    "            whiskerprops = {'color' : 'black', 'linewidth' : 0.5},\n",
    "            capprops = {'color' : 'black', 'linewidth' : 0.5},\n",
    "            flierprops = {'color' : 'black', 'markersize' : 1}, \n",
    "            showfliers = False, ax = ax)\n",
    "\n",
    "ax.set_xlabel(\"AAUAAA - GU/CU-rich distance (nt)\")\n",
    "ax.set_ylabel(\"Library\")\n",
    "\n",
    "ax.spines['right'].set_visible(False)\n",
    "ax.spines['top'].set_visible(False)\n",
    "\n",
    "plt.show()\n",
    "\n",
    "\n",
    "print(\"\\nCorresponding sequence counts:\")\n",
    "print(mpra_bog_long2['library_name'].value_counts())\n"
   ]
  },
  {
   "cell_type": "code",
   "execution_count": 28,
   "metadata": {},
   "outputs": [
    {
     "name": "stdout",
     "output_type": "stream",
     "text": [
      "(1261, 42)\n"
     ]
    }
   ],
   "source": [
    "mpra_bog_long3 = mpra_bog_long2.loc[mpra_bog_long2['library_name'].isin(['AARS','Simple'])].copy()\n",
    "print(mpra_bog_long3.shape)\n"
   ]
  },
  {
   "cell_type": "code",
   "execution_count": 29,
   "metadata": {},
   "outputs": [
    {
     "data": {
      "image/png": "[encoded data removed]",
      "text/plain": [
       "<Figure size 144x108 with 1 Axes>"
      ]
     },
     "metadata": {
      "needs_background": "light"
     },
     "output_type": "display_data"
    }
   ],
   "source": [
    "## Split sequences into \"close\" and \"far\" bins based on AAUAAA - GU/CU-rich distance\n",
    "\n",
    "low1,high1 = (20,35)\n",
    "low2,high2 = (35,60)\n",
    "\n",
    "plot_data = mpra_bog_long3.copy()\n",
    "\n",
    "fig,ax = plt.subplots(1,1, figsize = (2,1.5))\n",
    "sns.histplot(data = plot_data, x = 'dist_gtrich', color = 'gray', binwidth = 1)\n",
    "for x in (low1,high1,low2,high2): ax.axvline(x = x, color = 'black')\n",
    "ax.xaxis.set_major_locator(MultipleLocator(20))\n",
    "ax.xaxis.set_minor_locator(MultipleLocator(5))\n",
    "plt.show()\n",
    "\n",
    "plot_data['plot_bin'] = np.nan\n",
    "plot_data.loc[plot_data['dist_gtrich'].between(low1,high1), 'plot_bin'] = f'{low1}-{high1}'\n",
    "plot_data.loc[plot_data['dist_gtrich'].between(low2,high2), 'plot_bin'] = f'{low2}-{high2}'\n"
   ]
  },
  {
   "cell_type": "code",
   "execution_count": 30,
   "metadata": {},
   "outputs": [
    {
     "data": {
      "image/png": "[encoded data removed]",
      "text/plain": [
       "<Figure size 72x108 with 1 Axes>"
      ]
     },
     "metadata": {
      "needs_background": "light"
     },
     "output_type": "display_data"
    },
    {
     "name": "stdout",
     "output_type": "stream",
     "text": [
      "\n",
      "Summary of cleavage entropy by group:\n",
      "          count      mean    median       std\n",
      "plot_bin                                     \n",
      "20-35       923  1.982962  2.007950  0.375462\n",
      "35-60       222  2.097661  2.147811  0.369611\n",
      "\n",
      "Wilcoxon rank-sum test comparing the cleavage entropy:\n",
      "RanksumsResult(statistic=-4.048708992930955, pvalue=5.150093309999438e-05)\n"
     ]
    }
   ],
   "source": [
    "## Visualize cleavage entropy by AAUAAA - GU/CU-rich distance\n",
    "\n",
    "fig,ax = plt.subplots(1,1, figsize = (1,1.5))\n",
    "\n",
    "sns.boxplot(data = plot_data, x = 'plot_bin', y = 'observed_ent', order = [f'{low1}-{high1}',f'{low2}-{high2}'], \n",
    "            hue = 'plot_bin', color = 'gray', dodge = False, hue_order = [f'{low1}-{high1}',f'{low2}-{high2}'],\n",
    "            boxprops = {'edgecolor' : 'black', 'linewidth' : 0.5},\n",
    "            medianprops = {'color' : 'black', 'linewidth' : 0.5},\n",
    "            whiskerprops = {'color' : 'black', 'linewidth' : 0.5},\n",
    "            capprops = {'color' : 'black', 'linewidth' : 0.5},\n",
    "            flierprops = {'color' : 'black', 'markersize' : 1}, \n",
    "            showfliers = False, ax = ax)\n",
    "\n",
    "ax.set_xlabel(\"AAUAAA - GU/CU-rich\\ndistance (nt)\")\n",
    "\n",
    "ax.set_ylabel(\"Cleavage entropy\")\n",
    "ax.yaxis.set_major_locator(MultipleLocator(0.5))\n",
    "\n",
    "ax.spines['right'].set_visible(False)\n",
    "ax.spines['top'].set_visible(False)\n",
    "\n",
    "ax.legend().remove()\n",
    "\n",
    "plt.savefig(os.path.join(OUTDIR, f'cleavage_entropy_validation.bogard.entropy_by_aauaaa-gucurich-distance.svg'), format = 'svg', dpi = 600, transparent = True)\n",
    "plt.show()\n",
    "\n",
    "\n",
    "print(\"\\nSummary of cleavage entropy by group:\")\n",
    "print(plot_data.groupby('plot_bin')['observed_ent'].agg(['count','mean','median','std']))\n",
    "\n",
    "print(\"\\nWilcoxon rank-sum test comparing the cleavage entropy:\")\n",
    "print(st.ranksums(plot_data.loc[plot_data['plot_bin'] == f'{low1}-{high1}', 'observed_ent'],\n",
    "                  plot_data.loc[plot_data['plot_bin'] == f'{low2}-{high2}', 'observed_ent']))\n"
   ]
  },
  {
   "cell_type": "code",
   "execution_count": 31,
   "metadata": {},
   "outputs": [
    {
     "name": "stdout",
     "output_type": "stream",
     "text": [
      "Close:\n",
      "1425453 \t ACGCGCCGAGGGCCGCCACTCCACCGGCGGCATGGACGAGCTGTACAAGTCTTGATCCCTACACGACGCTCTTCCGATCTTTCTTTAACGAGGGATTGCTGTTGCTTACTGTTGTCTTTGTTGAGATTAAATAGAGCAATTTGCTGTTTAATCAGGTTTATTTCAAGAGTAGTAAT AATAAA TTCACGTCAAGTCC TATGTG GGCCTTTTTTTTAGTGTTGAAATCGCGCCTAACCCTAAGCAGATTCTTCATGCA\n",
      "1426390 \t ACGCGCCGAGGGCCGCCACTCCACCGGCGGCATGGACGAGCTGTACAAGTCTTGATCCCTACACGACGCTCTTCCGATCTGAGTCTATTTAAAATGAAGGCATGGTCGTGCCATTGGACACTCCC AATAAA AAATGGAGCTAAATTT TCCTGT TAATACTTGCATTTCTTTAAACAATTAAATGTCATGTAGTTTTTGTTCCTCTGTAGGGATTGCTGCTATGCCGCCGCCTAACCCTAAGCAGATTCTTCATGCA\n",
      "1376954 \t ACGCGCCGAGGGCCGCCACTCCACCGGCGGCATGGACGAGCTGTACAAGTCTTGATCCCTACACGACGCTCTTCCGATCTAGTGGGATCGTATGGAATACTTCAGCTATCTAATGTGTAGCTAGCATTAAAAAAGATTTTCTCTGTAGTTTGGGAAGTGGTATCTGGGGGTTCTGT AATAAA GTTTGCTGCATCAGTGGAAGG GGGTGT TCCTTCGGTTCTATTGCCCGCCTAACCCTAAGCAGATTCTTCATGCA\n",
      "1457247 \t ACGCGCCGAGGGCCGCCACTCCACCGGCGGCATGGACGAGCTGTACAAGTCTTGATCCCTACACGACGCTCTTCCGATCTAGAAAGAAGGTAAACATGTTAATGCATCTAAGTTCAAAGTTACAC AATAAA GAGGCCGAGTTCTCACAAAAGGT TTTGTG GTTGTGTTTTATGTGCATTAAATGTACTGAAACGCCGGGCTTGTGGGTGGCCCTTCCGTGCCCCGCCCGCCTAACCCTAAGCAGATTCTTCATGCA\n",
      "1374527 \t ACGCGCCGAGGGCCGCCACTCCACCGGCGGCATGGACGAGCTGTACAAGTCTTGATCCCTACACGACGCTCTTCCGATCTTAAGTAGAGTGCCAGTAGGCGTTTTGTTACTGGATTTTGTTTGACATTAAATTTCTTTCGGGATCTTTTGTCACTTTAACACTGCTTTTTGAATCC AATAAA AGTATATGTACTGGTCAAGATTTT GTTGTC GCGCTGGGGGCATGGCGCCTAACCCTAAGCAGATTCTTCATGCA\n",
      "1461118 \t ACGCGCCGAGGGCCGCCACTCCACCGGCGGCATGGACGAGCTGTACAAGTCTTGATCCCTACACGACGCTCTTCCGATCTCTTCATAGGGGCTGGTGTATATACTTTAAGTAGTTGAGGGGTATA AATAAA ATGATGGTACTTAATTCTCTTGAT GTTGTG TGTGGCTTCTGTATAAATAAATCACGCGTTGACATTTTTTGTCAGTGGGCCAGACGCAGTTAAAAACGCCTAACCCTAAGCAGATTCTTCATGCA\n",
      "1453946 \t ACGCGCCGAGGGCCGCCACTCCACCGGCGGCATGGACGAGCTGTACAAGTCTTGATCCCTACACGACGCTCTTCCGATCTACTAGGGCAAAGTCCCCAAATTTTGCTTCTAGACTAAGCCGCGTT AATAAA GTGCTAGGTGGAAT GTTGTC TCCAGATAATGTTCATTGACGCTCAATTAAAAGGAAAGGAGTTGTTTGCTTGGTGTGGGTGGAGGGGGCGGGGGGGCGCCTAACCCTAAGCAGATTCTTCATGCA\n",
      "1385942 \t ACGCGCCGAGGGCCGCCACTCCACCGGCGGCATGGACGAGCTGTACAAGTCTTGATCCCTACACGACGCTCTTCCGATCTAGCGCATGATATATCATTTCTTAGAGCAAAACTTACTTATGACTGATTAAATGTTACTACGTAAATTGGGCACCCATGTATCCTACATTGAGTCAT AATAAA TAAGAGGATGGCTGCTA TATGTG TGTTTTGTCCACATCAGGTACTCGCCTAACCCTAAGCAGATTCTTCATGCA\n",
      "1462758 \t ACGCGCCGAGGGCCGCCACTCCACCGGCGGCATGGACGAGCTGTACAAGTCTTGATCCCTACACGACGCTCTTCCGATCTATCTAACGCCCGCTGTGACTAATGTAATTAAATATGATGCATATT AATAAA GATTATACTAATGCAGT GGGTGT AGGTTTGTGATTTTCACTGTTGAATAAATTTTACAGTGGGGTCTGAGTTTTGTTGCTATATTTACATGTATGTCGCCTAACCCTAAGCAGATTCTTCATGCA\n",
      "1441692 \t ACGCGCCGAGGGCCGCCACTCCACCGGCGGCATGGACGAGCTGTACAAGTCTTGATCCCTACACGACGCTCTTCCGATCTACTCAGGGCCCTCTATTATGATTCAAAATATATTGCATATATGATATTAA AATAAA TCAATTTACCTCTAAAACCAT TATGTG CTGTTGTGGGCTAATTAAATTTTTATCGAGGGCCTCACGTGGTTTTTTTCTGCAGGGGTTGGCCCGCCTAACCCTAAGCAGATTCTTCATGCA\n",
      "Far:\n",
      "1372624 \t ACGCGCCGAGGGCCGCCACTCCACCGGCGGCATGGACGAGCTGTACAAGTCTTGATCCCTACACGACGCTCTTCCGATCTTGATACACCACCAACCATCTTTCGTCCATTGTTAGGTTTAAAAGTATTAAAGGCAATGTGAAAGTTTGACTCGACTCGGTTAACAGAGAATCTGGT AATAAA GTATAAGACTCCCGTGTATGTTTGATTGG CTTCTG GCCTAGGGGCCGCCTAACCCTAAGCAGATTCTTCATGCA\n",
      "1431345 \t ACGCGCCGAGGGCCGCCACTCCACCGGCGGCATGGACGAGCTGTACAAGTCTTGATCCCTACACGACGCTCTTCCGATCTGTACTCCGGGTTGAAAGTTCTCAAGGTGGGACGTTTAGGTTCAAA AATAAA TTCATTATTGCTGCAATGCTGGTGCTCCCGCGCC TAGTGT TTTGAAATAAATTGTAGGTGTGGGGCGCTCTCCGGAGGGGTGGCCCCCTGTGGTGGCGCCTAACCCTAAGCAGATTCTTCATGCA\n",
      "1373482 \t ACGCGCCGAGGGCCGCCACTCCACCGGCGGCATGGACGAGCTGTACAAGTCTTGATCCCTACACGACGCTCTTCCGATCTGTCTTGTGATGCATTAAAATTGCCTGTACTGGATTGCGACGGTGAATTAAACAGTAAAGAAAGATTGGCCCATACATTAAGTTGTGAGAGGTAACT AATAAA CTTCCTTCCATCAGTCCGTGGGTTGGTTCATTA TGGTGT GGGTGGCGCCTAACCCTAAGCAGATTCTTCATGCA\n",
      "1421954 \t ACGCGCCGAGGGCCGCCACTCCACCGGCGGCATGGACGAGCTGTACAAGTCTTGATCCCTACACGACGCTCTTCCGATCTAGTTTGTTAAGTAAAAACTCAATGTATCTAAAATGAATCTTCAGAATTAAAGCATCTGGCAGTGTTTCTAAGTCTTCTATAAGCTTGATAAGTTCC AATAAA AGCTACCTGACCTGGGGTCCTTGCAGATATATCTC TTTGTG GTTTCGCCTAACCCTAAGCAGATTCTTCATGCA\n",
      "1465508 \t ACGCGCCGAGGGCCGCCACTCCACCGGCGGCATGGACGAGCTGTACAAGTCTTGATCCCTACACGACGCTCTTCCGATCTACTGCTTTATGTAAAAGCTTGTGTCTTGTAAATTTAAAAGTTCAA AATAAA ATGCCGGCAGTCTAGGTGAGGCCGGGGAGTATGGCT TTTCTG CTCATTAAAGAGCCGTCGGCTGGGTTGTTTTTGGGGCTTTAGCTGCGGGGCGGCCGCCTAACCCTAAGCAGATTCTTCATGCA\n",
      "1397674 \t ACGCGCCGAGGGCCGCCACTCCACCGGCGGCATGGACGAGCTGTACAAGTCTTGATCCCTACACGACGCTCTTCCGATCTCCACCAGTTACCCTTTTCCGCCAGGGTTTGGGTTTTATTAACATGATTAAACTAAATTGTATGTGTACTATCTGTACTTTTGAGAAGATTTGCATG AATAAA TGGTCAAGGGAAGTGTCGGAGTTTTGCATAGCTTTTA ATCTGT CGCGCCTAACCCTAAGCAGATTCTTCATGCA\n",
      "2801497 \t ACGCGCCGAGGGCCGCCACTCCACCGGCGGCATGGACGAGCTGTACAAGTCTTGATCCCTACACGACGCTCTTCCGATCTCTGAGCTTTAGAGGGCGAGGGGTATCTTATTAACTTGCTGCAGAG AATAAA AGGCCCACGTGTAATACTTAATGCCGCATGATCTA TTTGTC TCCGAGCCTGGTATCGTGGCTCTTTTGACAGCCTTTGGCGTCTGTAGAATAAATGCTGTGGCTCCTGCTGGCTGCTGTGGTGTT\n",
      "1428622 \t ACGCGCCGAGGGCCGCCACTCCACCGGCGGCATGGACGAGCTGTACAAGTCTTGATCCCTACACGACGCTCTTCCGATCTCCCCGTTTGAAATTTACGTTTTTAAATTTTTCTGGCTGTATTTATATTAAATTGCGGATAGGAGATCTTATCTGTTGTTCATAAGTTAACCTTGGT AATAAA GACAATTTCCTCTAGCTTTACAAAGAGGAG GGCTGT TCCCTGTTTCGCCTAACCCTAAGCAGATTCTTCATGCA\n",
      "1412531 \t ACGCGCCGAGGGCCGCCACTCCACCGGCGGCATGGACGAGCTGTACAAGTCTTGATCCCTACACGACGCTCTTCCGATCTTGGTGTACTAACATGAGTGTGTAATGTTCAGTGTGACTTGTTGAT AATAAA AATGGCACAACGGAGTTTAAGGCCCAAGCTTTTCGTTGT TTTGTG AATAAACAGTAGGGACCGGGCCGGCGGCTCCTGGTGGCTAAGCGGCGGGCGCGCCTAACCCTAAGCAGATTCTTCATGCA\n",
      "1375232 \t ACGCGCCGAGGGCCGCCACTCCACCGGCGGCATGGACGAGCTGTACAAGTCTTGATCCCTACACGACGCTCTTCCGATCTTAGGTGCTAGGGGAAGAGTGGGCGGCCTGTCTTCATTCAGTGTGT AATAAA TGTTTAGGTGAATCTTAGAGTTTGAGATT CTTGTG TACGTCTGGGAATAAAACAAGGTGTTAGTATGACGGCGTGGTGGGGGTTCCCCGCCTGGCCCGCCTAACCCTAAGCAGATTCTTCATGCA\n"
     ]
    }
   ],
   "source": [
    "print(\"Close:\")\n",
    "\n",
    "for i,row in plot_data.loc[plot_data['plot_bin'] == f'{low1}-{high1}'].sample(n = 10, replace = False, random_state = 1234).iterrows():\n",
    "    \n",
    "    seq1 = row['seq_ext'][:row['idx_aataaa']]\n",
    "    seq2 = row['seq_ext'][row['idx_aataaa']:int(row['idx_aataaa']+6)]\n",
    "    seq3 = row['seq_ext'][int(row['idx_aataaa']+6):int(row['idx_gtrich'])]\n",
    "    seq4 = row['seq_ext'][int(row['idx_gtrich']):int(row['idx_gtrich']+6)]\n",
    "    seq5 = row['seq_ext'][int(row['idx_gtrich']+6):]\n",
    "    \n",
    "    print(i, \"\\t\", \" \".join([seq1,seq2,seq3,seq4,seq5]))\n",
    "\n",
    "print(\"Far:\")\n",
    "\n",
    "for i,row in plot_data.loc[plot_data['plot_bin'] == f'{low2}-{high2}'].sample(n = 10, replace = False, random_state = 1234).iterrows():\n",
    "    \n",
    "    seq1 = row['seq_ext'][:row['idx_aataaa']]\n",
    "    seq2 = row['seq_ext'][row['idx_aataaa']:int(row['idx_aataaa']+6)]\n",
    "    seq3 = row['seq_ext'][int(row['idx_aataaa']+6):int(row['idx_gtrich'])]\n",
    "    seq4 = row['seq_ext'][int(row['idx_gtrich']):int(row['idx_gtrich']+6)]\n",
    "    seq5 = row['seq_ext'][int(row['idx_gtrich']+6):]\n",
    "    \n",
    "    print(i, \"\\t\", \" \".join([seq1,seq2,seq3,seq4,seq5]))\n"
   ]
  }
 ],
 "metadata": {
  "kernelspec": {
   "display_name": "Python (tf-train)",
   "language": "python",
   "name": "tf-train"
  },
  "language_info": {
   "codemirror_mode": {
    "name": "ipython",
    "version": 3
   },
   "file_extension": ".py",
   "mimetype": "text/x-python",
   "name": "python",
   "nbconvert_exporter": "python",
   "pygments_lexer": "ipython3",
   "version": "3.6.12"
  },
  "vscode": {
   "interpreter": {
    "hash": "425115ae6637ada2b959655b34e22bdfbab2786b72fd7a6ba9076b4d899c9624"
   }
  }
 },
 "nbformat": 4,
 "nbformat_minor": 2
}
