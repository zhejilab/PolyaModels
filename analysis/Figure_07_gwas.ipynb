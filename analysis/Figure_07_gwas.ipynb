{
 "cells": [
  {
   "cell_type": "markdown",
   "metadata": {},
   "source": [
    "# Figure 7: Genetics analysis of GWAS Catalog"
   ]
  },
  {
   "cell_type": "code",
   "execution_count": 1,
   "metadata": {},
   "outputs": [],
   "source": [
    "%load_ext autoreload"
   ]
  },
  {
   "cell_type": "code",
   "execution_count": 2,
   "metadata": {},
   "outputs": [],
   "source": [
    "%autoreload 2"
   ]
  },
  {
   "cell_type": "code",
   "execution_count": 3,
   "metadata": {},
   "outputs": [
    {
     "name": "stderr",
     "output_type": "stream",
     "text": [
      "Using TensorFlow backend.\n"
     ]
    }
   ],
   "source": [
    "%run -i notebook_setup.py"
   ]
  },
  {
   "cell_type": "markdown",
   "metadata": {},
   "source": [
    "## IMPORTS AND SETUP"
   ]
  },
  {
   "cell_type": "code",
   "execution_count": 4,
   "metadata": {},
   "outputs": [],
   "source": [
    "import vcf, utilities\n",
    "from utilities import genetics\n"
   ]
  },
  {
   "cell_type": "code",
   "execution_count": 5,
   "metadata": {},
   "outputs": [],
   "source": [
    "PROJECT = \"/projects/b1080/eks/polyadenylation\"\n",
    "GWASDIR = os.path.join(PROJECT, 'genetics', 'gwas')\n",
    "RESDIR  = os.path.join(PROJECT, \"manuscripts\", \"01_development\", \"analysis\", \"resources\")\n",
    "OUTDIR  = os.path.join(PROJECT, \"manuscripts\", \"01_development\", \"figures\", \"Figure_07\", \"gwas\")\n",
    "os.makedirs(OUTDIR, exist_ok = True)\n"
   ]
  },
  {
   "cell_type": "markdown",
   "metadata": {},
   "source": [
    "## IMPORT DATA"
   ]
  },
  {
   "cell_type": "code",
   "execution_count": 6,
   "metadata": {},
   "outputs": [
    {
     "name": "stdout",
     "output_type": "stream",
     "text": [
      "(200, 43)\n",
      "(87, 43)\n",
      "(113, 43)\n"
     ]
    }
   ],
   "source": [
    "with open(os.path.join(RESDIR, \"gwas.significant_sites.pickle\"), mode = 'rb') as handle:\n",
    "    gwas_filt = pickle.load(handle)\n",
    "\n",
    "gwas_filt_xte = gwas_filt.loc[gwas_filt['referenceFeature'].str.contains(\"terminal_exon\")].copy()\n",
    "gwas_filt_int = gwas_filt.loc[gwas_filt['referenceFeature'].str.contains(\"intron\")].copy()\n",
    "\n",
    "print(gwas_filt.shape)\n",
    "print(gwas_filt_xte.shape)\n",
    "print(gwas_filt_int.shape)\n"
   ]
  },
  {
   "cell_type": "markdown",
   "metadata": {},
   "source": [
    "#### Summarize significant variants"
   ]
  },
  {
   "cell_type": "code",
   "execution_count": 22,
   "metadata": {},
   "outputs": [
    {
     "name": "stdout",
     "output_type": "stream",
     "text": [
      "\n",
      "PolyaID classification:\n",
      "count    200.000000\n",
      "mean       0.989360\n",
      "std        0.019093\n",
      "min        0.906737\n",
      "25%        0.987963\n",
      "50%        0.998302\n",
      "75%        0.999584\n",
      "max        0.999979\n",
      "dtype: float64\n",
      "\n",
      "PolyaStrength score:\n",
      "count    200.000000\n",
      "mean      -1.596525\n",
      "std        3.121021\n",
      "min       -8.825758\n",
      "25%       -3.458977\n",
      "50%       -1.231789\n",
      "75%        0.013339\n",
      "max        9.650351\n",
      "dtype: float64\n",
      "\n",
      "PolyaStrength change:\n",
      "count    200.000000\n",
      "mean       2.401053\n",
      "std        2.229037\n",
      "min        1.000959\n",
      "25%        1.077643\n",
      "50%        1.248089\n",
      "75%        2.935051\n",
      "max       12.666848\n",
      "dtype: float64\n",
      "\n",
      "Composite intronic usage:\n",
      "count    106.000000\n",
      "mean       0.949172\n",
      "std        0.027813\n",
      "min        0.902492\n",
      "25%        0.924529\n",
      "50%        0.949334\n",
      "75%        0.973183\n",
      "max        0.999829\n",
      "dtype: float64\n",
      "\n",
      "Skipped intronic usage:\n",
      "count    7.000000\n",
      "mean     0.956882\n",
      "std      0.034385\n",
      "min      0.909158\n",
      "25%      0.930408\n",
      "50%      0.963390\n",
      "75%      0.985380\n",
      "max      0.994051\n",
      "dtype: float64\n"
     ]
    }
   ],
   "source": [
    "## Quality checks of significance filtering\n",
    "\n",
    "print(\"\\nPolyaID classification:\")\n",
    "gwas_max_class = gwas_filt[['referenceClassprob','alternateClassprob']].max(axis = 1)\n",
    "print(gwas_max_class.describe())\n",
    "\n",
    "\n",
    "print(\"\\nPolyaStrength score:\")\n",
    "gwas_max_str = gwas_filt[['referenceStrength','alternateStrength']].max(axis = 1)\n",
    "print(gwas_max_str.describe())\n",
    "\n",
    "\n",
    "print(\"\\nPolyaStrength change:\")\n",
    "gwas_delta_str = gwas_filt['alternateStrength'] - gwas_filt['referenceStrength']\n",
    "print(abs(gwas_delta_str).describe())\n",
    "\n",
    "\n",
    "print(\"\\nComposite intronic usage:\")\n",
    "gwas_max_ic = gwas_filt.loc[gwas_filt['referenceFeature'] == 'intron:composite', ['referenceICprob','alternateICprob']].max(axis = 1)\n",
    "print(gwas_max_ic.describe())\n",
    "\n",
    "\n",
    "print(\"\\nSkipped intronic usage:\")\n",
    "gwas_max_is = gwas_filt.loc[gwas_filt['referenceFeature'] == 'intron:skipped', ['referenceISprob','alternateISprob']].max(axis = 1)\n",
    "print(gwas_max_is.describe())\n"
   ]
  },
  {
   "cell_type": "code",
   "execution_count": 7,
   "metadata": {},
   "outputs": [
    {
     "data": {
      "image/png": "[encoded data removed]",
      "text/plain": [
       "<Figure size 576x216 with 8 Axes>"
      ]
     },
     "metadata": {
      "needs_background": "light"
     },
     "output_type": "display_data"
    }
   ],
   "source": [
    "fig,ax = plt.subplots(2,4, figsize = (8,3))\n",
    "ax = ax.T\n",
    "\n",
    "for a in ax[0]:\n",
    "    a.hist(gwas_filt[['referenceClassprob','alternateClassprob']].max(axis = 1), color = 'gray', bins = 30)\n",
    "    a.axvline(x = 0.9, color = 'black', linestyle = 'dashed', linewidth = 0.5)\n",
    "    a.xaxis.set_major_locator(MultipleLocator(0.05))\n",
    "    a.set_xlim(0.89,1.01)\n",
    "\n",
    "for a in ax[1]:\n",
    "    a.hist(gwas_filt['deltaClassification'], color = 'gray', bins = 30)\n",
    "    a.xaxis.set_major_locator(MultipleLocator(0.5))\n",
    "    a.set_xlim(-1.02,1.02)\n",
    "\n",
    "for a in ax[2]:\n",
    "    a.hist(gwas_filt[['referenceStrength','alternateStrength']].max(axis = 1), color = 'gray', bins = 30)\n",
    "    a.axvline(x = -9, color = 'black', linestyle = 'dashed', linewidth = 0.5)\n",
    "    a.xaxis.set_major_locator(MultipleLocator(5))\n",
    "    a.set_xlim(-10,10)\n",
    "\n",
    "for a in ax[3]:\n",
    "    a.hist(gwas_filt['deltaStrength'], color = 'gray', bins = 30)\n",
    "    a.axvline(x = -1, color = 'black', linestyle = 'dashed', linewidth = 0.5)\n",
    "    a.axvline(x = +1, color = 'black', linestyle = 'dashed', linewidth = 0.5)\n",
    "    a.xaxis.set_major_locator(MultipleLocator(5))\n",
    "    a.set_xlim(-15,15)\n",
    "    \n",
    "for a in ax[:,1]:\n",
    "    a.set_yscale('log')\n",
    "\n",
    "ax[0][0].set_ylabel(\"Frequency\")\n",
    "ax[0][1].set_ylabel(\"Frequency (log scale)\")\n",
    "\n",
    "plt.suptitle(f\"ClinVar variants representative test sites, N = {len(gwas_filt):,d})\")\n",
    "plt.tight_layout()\n",
    "plt.show()\n"
   ]
  },
  {
   "cell_type": "code",
   "execution_count": 8,
   "metadata": {},
   "outputs": [
    {
     "name": "stdout",
     "output_type": "stream",
     "text": [
      "\n",
      "### Extended/terminal exonic:\n",
      "Number of variant-pA test sites          87\n",
      "Number of unique variants                86\n",
      "Number of variants affecting >1 gene      1\n",
      "\n",
      "Number of types of sites-\n",
      "terminal_exon             63\n",
      "extended_terminal_exon    24\n",
      "Name: referenceFeature, dtype: int64\n",
      "\n",
      "Direction of effects on strength-\n",
      "weakened        47\n",
      "strengthened    40\n",
      "Name: directionEffect, dtype: int64\n",
      "\n",
      "### Intronic:\n",
      "Number of variant-pA test sites         113\n",
      "Number of unique variants               107\n",
      "Number of variants affecting >1 gene      3\n",
      "\n",
      "Number of types of sites-\n",
      "intron:composite    106\n",
      "intron:skipped        7\n",
      "Name: referenceFeature, dtype: int64\n",
      "\n",
      "Direction of effects on strength-\n",
      "strengthened    74\n",
      "weakened        39\n",
      "Name: directionEffect, dtype: int64\n"
     ]
    }
   ],
   "source": [
    "print(\"\\n### Extended/terminal exonic:\")\n",
    "print(f\"Number of variant-pA test sites      {gwas_filt_xte.shape[0]:6}\")\n",
    "print(f\"Number of unique variants            {gwas_filt_xte.variantID.nunique():6}\")\n",
    "print(f\"Number of variants affecting >1 gene {(gwas_filt_xte.variantID.value_counts() > 1).sum():6}\")\n",
    "\n",
    "print(f\"\\nNumber of types of sites-\\n{gwas_filt_xte.referenceFeature.value_counts()}\")\n",
    "print(f\"\\nDirection of effects on strength-\\n{gwas_filt_xte.directionEffect.value_counts()}\")\n",
    "\n",
    "\n",
    "print(\"\\n### Intronic:\")\n",
    "print(f\"Number of variant-pA test sites      {gwas_filt_int.shape[0]:6}\")\n",
    "print(f\"Number of unique variants            {gwas_filt_int.variantID.nunique():6}\")\n",
    "print(f\"Number of variants affecting >1 gene {(gwas_filt_int.variantID.value_counts() > 1).sum():6}\")\n",
    "\n",
    "print(f\"\\nNumber of types of sites-\\n{gwas_filt_int.referenceFeature.value_counts()}\")\n",
    "print(f\"\\nDirection of effects on strength-\\n{gwas_filt_int.directionEffect.value_counts()}\")\n"
   ]
  },
  {
   "cell_type": "markdown",
   "metadata": {},
   "source": [
    "#### Split variant representative sites by their effect on APA activity and save to BED files"
   ]
  },
  {
   "cell_type": "code",
   "execution_count": 9,
   "metadata": {},
   "outputs": [],
   "source": [
    "test_bed_cols = ['chrom', 'positionTest', 'positionTest+1', 'label', 'deltaStrength', 'strand']\n",
    "\n",
    "gwas_filt['positionTest+1'] = gwas_filt['positionTest']+1\n",
    "\n",
    "gwas_filt['label'] = gwas_filt['variantID']\n",
    "gwas_filt['label'] = gwas_filt['label'] + \"|\" + gwas_filt['reference'] + \">\" + gwas_filt['alternate']\n",
    "gwas_filt['label'] = gwas_filt['label'] + \"|\" + gwas_filt['affectedMotif']\n",
    "gwas_filt['label'] = gwas_filt['label'] + \"|dID=\" + gwas_filt['deltaClassification'].round(3).astype(str) + \"(\" + gwas_filt['referenceClassprob'].round(3).astype(str) + \">\" + gwas_filt['alternateClassprob'].round(3).astype(str) + \")\"\n",
    "gwas_filt['label'] = gwas_filt['label'] + \"|dSTR=\" + gwas_filt['deltaStrengthProb'].round(3).astype(str) + \"(\" + gwas_filt['referenceStrengthProb'].round(3).astype(str) + \">\" + gwas_filt['alternateStrengthProb'].round(3).astype(str) + \")\"\n",
    "\n",
    "gwas_filt.loc[gwas_filt['referenceFeature'] == 'intron:composite', 'label'] = gwas_filt['label'] + \"|dIC=\" + (gwas_filt['alternateICprob'] - gwas_filt['referenceICprob']).round(3).astype(str) + \"(\" + gwas_filt['referenceICprob'].round(3).astype(str) + \">\" + gwas_filt['alternateICprob'].round(3).astype(str) + \")\"\n",
    "gwas_filt.loc[gwas_filt['referenceFeature'] == 'intron:skipped', 'label'] = gwas_filt['label'] + \"|dIS=\" + (gwas_filt['alternateISprob'] - gwas_filt['referenceISprob']).round(3).astype(str) + \"(\" + gwas_filt['referenceISprob'].round(3).astype(str) + \">\" + gwas_filt['alternateISprob'].round(3).astype(str) + \")\"\n",
    "\n",
    "gwas_filt['label'] = gwas_filt['label'] + \"|\" + gwas_filt['directionEffect']\n",
    "\n",
    "for strand in ['+','-']:\n",
    "    strand_str = \"fwd\" if (strand == \"+\") else \"rev\"\n",
    "    \n",
    "    for direction in ['strengthened','weakened','mixed']:\n",
    "\n",
    "        (gwas_filt.loc[(gwas_filt['strand'] == strand) & (gwas_filt['directionEffect'] == direction), test_bed_cols]\n",
    "         .drop_duplicates()\n",
    "         .to_csv(os.path.join(OUTDIR, f'gwas.representative_sites.significant.{direction}.{strand_str}.bed'), sep = \"\\t\", index = False, header = False)\n",
    "        )\n"
   ]
  },
  {
   "cell_type": "markdown",
   "metadata": {},
   "source": [
    "#### Annotate clinical associations to variants and remove those with no disease relevance"
   ]
  },
  {
   "cell_type": "code",
   "execution_count": 10,
   "metadata": {},
   "outputs": [
    {
     "name": "stdout",
     "output_type": "stream",
     "text": [
      "\n",
      "Dataset\t\tShape\t\tGenes Variants Combinations\n",
      "gwas_filt      \t(200, 45)\t  199      192          200\n",
      "gwas_filt_long \t(348, 45)\t  199      192          200\n",
      "gwas_filt_assoc\t(338, 45)\t  189      182          190\n",
      "\n",
      "Split by genomic feature:\n",
      "Feature\t\tShape\t\tGenes Variants Combinations\n",
      "intronic       \t(156, 45)\t  108      102          108\n",
      "terminal exonic\t(182, 45)\t   81       81           82\n"
     ]
    }
   ],
   "source": [
    "gwas_filt_long = gwas_filt.explode('condition').reset_index(drop = True)\n",
    "gwas_filt_long['label'] = gwas_filt_long['label'] + \"|\" + gwas_filt_long['condition']\n",
    "\n",
    "gwas_filt_assoc = gwas_filt_long.loc[~gwas_filt_long['condition'].isin(['not_provided','not_specified','NA'])].copy()\n",
    "assoc_int = gwas_filt_assoc.loc[gwas_filt_assoc.referenceFeature.str.contains('intron')]\n",
    "assoc_xte = gwas_filt_assoc.loc[gwas_filt_assoc.referenceFeature.str.contains('terminal_exon')]\n",
    "\n",
    "print(\"\\nDataset\\t\\tShape\\t\\tGenes Variants Combinations\")\n",
    "print(f\"gwas_filt      \\t{gwas_filt.shape}\\t{gwas_filt.gene.nunique():5} {gwas_filt.variantID.nunique():8} {gwas_filt.groupby(['variantID','gene']).size().shape[0]:12}\")\n",
    "print(f\"gwas_filt_long \\t{gwas_filt_long.shape}\\t{gwas_filt_long.gene.nunique():5} {gwas_filt_long.variantID.nunique():8} {gwas_filt_long.groupby(['variantID','gene']).size().shape[0]:12}\")\n",
    "print(f\"gwas_filt_assoc\\t{gwas_filt_assoc.shape}\\t{gwas_filt_assoc.gene.nunique():5} {gwas_filt_assoc.variantID.nunique():8} {gwas_filt_assoc.groupby(['variantID','gene']).size().shape[0]:12}\")\n",
    "\n",
    "print(\"\\nSplit by genomic feature:\")\n",
    "print(\"Feature\\t\\tShape\\t\\tGenes Variants Combinations\")\n",
    "print(f\"intronic       \\t{assoc_int.shape}\\t{assoc_int.gene.nunique():5} {assoc_int.variantID.nunique():8} {assoc_int.groupby(['variantID','gene']).size().shape[0]:12}\")\n",
    "print(f\"terminal exonic\\t{assoc_xte.shape}\\t{assoc_xte.gene.nunique():5} {assoc_xte.variantID.nunique():8} {assoc_xte.groupby(['variantID','gene']).size().shape[0]:12}\")\n"
   ]
  },
  {
   "cell_type": "code",
   "execution_count": 11,
   "metadata": {},
   "outputs": [
    {
     "data": {
      "text/plain": [
       "body height                                  13\n",
       "erythrocyte count                            11\n",
       "body mass index                               7\n",
       "mean corpuscular volume                       6\n",
       "mean corpuscular hemoglobin concentration     5\n",
       "                                             ..\n",
       "Myopia                                        1\n",
       "glomerular filtration rate                    1\n",
       " Menorrhagia                                  1\n",
       "emotional symptom measurement                 1\n",
       "Abnormality of refraction                     1\n",
       "Name: condition, Length: 207, dtype: int64"
      ]
     },
     "execution_count": 11,
     "metadata": {},
     "output_type": "execute_result"
    }
   ],
   "source": [
    "gwas_filt_assoc['condition'].value_counts()"
   ]
  },
  {
   "cell_type": "markdown",
   "metadata": {},
   "source": [
    "#### Create annotated VCF file of significant variants"
   ]
  },
  {
   "cell_type": "code",
   "execution_count": 12,
   "metadata": {},
   "outputs": [
    {
     "name": "stdout",
     "output_type": "stream",
     "text": [
      "# Included IDs: 192\n"
     ]
    },
    {
     "name": "stderr",
     "output_type": "stream",
     "text": [
      "7348it [00:01, 3986.34it/s]\n",
      "39965it [00:03, 12036.69it/s]\n"
     ]
    }
   ],
   "source": [
    "### annotate vcf with representative site info\n",
    "\n",
    "filtered_ids = list(set(gwas_filt_long['variantID'].tolist()))\n",
    "print(\"# Included IDs:\", len(filtered_ids))\n",
    "\n",
    "annotation_to_add = {\n",
    "    'representative_test_position'        : 'positionTest',\n",
    "    'representative_test_position_feature': 'referenceFeature',\n",
    "    'variant_distance_to_test_position'   : 'testSiteDistStranded',\n",
    "    'variant_affected_motif_details'      : 'affectedMotifs',\n",
    "    'variant_clinical_associations'       : 'condition',\n",
    "    'ref_classification'                  : 'referenceClassprob',\n",
    "    'alt_classification'                  : 'alternateClassprob',\n",
    "    'ref_strength'                        : 'referenceStrength',\n",
    "    'alt_strength'                        : 'alternateStrength',\n",
    "    'ref_strength_probability'            : 'referenceStrengthProb',\n",
    "    'alt_strength_probability'            : 'alternateStrengthProb',\n",
    "    'ref_peak_clv_profile'                : 'referenceNormClvProfile',\n",
    "    'alt_peak_clv_profile'                : 'alternateNormClvProfile',\n",
    "    'ref_intron_composite_usage'          : 'referenceICprob',\n",
    "    'alt_intron_composite_usage'          : 'alternateICprob',\n",
    "    'ref_intron_skipped_usage'            : 'referenceISprob',\n",
    "    'alt_intron_skipped_usage'            : 'alternateISprob',\n",
    "    'delta_probability_classification'    : 'deltaClassification',\n",
    "    'delta_probability_strength'          : 'deltaStrengthProb',\n",
    "    'delta_logit_strength'                : 'deltaStrength',\n",
    "}\n",
    "\n",
    "vcf_te = os.path.join(GWASDIR, 'gwas.pc.max_100.fully_within_xte.affected_motifs_sig_complete.vcf')\n",
    "vcf_int = os.path.join(GWASDIR, 'gwas.pc.max_100.fully_within_intron.affected_motifs_sig_complete.vcf')\n",
    "\n",
    "vcf_te_reader  = vcf.Reader(open(vcf_te, 'r'))\n",
    "vcf_int_reader = vcf.Reader(open(vcf_int, 'r'))\n",
    "\n",
    "vcf_out1 = os.path.join(GWASDIR, 'gwas.pc.max_100.fully_within_feature.affected_motifs_sig_complete.significant.vcf')\n",
    "vcf_out1_writer = vcf.Writer(open(vcf_out1, 'w'), vcf_te_reader)\n",
    "\n",
    "vcf_out2 = os.path.join(OUTDIR, 'gwas.significant.vcf')\n",
    "vcf_out2_writer = vcf.Writer(open(vcf_out2, 'w'), vcf_te_reader)\n",
    "\n",
    "for record in tqdm.tqdm(vcf_te_reader):\n",
    "    if (record.ID in filtered_ids):\n",
    "        \n",
    "        if (list(annotation_to_add.keys())[0] not in record.INFO.keys()):\n",
    "            for k in annotation_to_add.keys():\n",
    "                record.INFO[k] = []\n",
    "            \n",
    "        for k,dk in annotation_to_add.items():\n",
    "            values = genetics.find_clinvar_attribute_value(gwas_filt_long, record.ID, dk)\n",
    "            genetics.add_annotation_attribute(record.INFO, k, values)\n",
    "        \n",
    "        vcf_out1_writer.write_record(record); vcf_out1_writer.flush()\n",
    "        vcf_out2_writer.write_record(record); vcf_out2_writer.flush()\n",
    "        \n",
    "        \n",
    "for record in tqdm.tqdm(vcf_int_reader):\n",
    "    if (record.ID in filtered_ids):\n",
    "        \n",
    "        if (list(annotation_to_add.keys())[0] not in record.INFO.keys()):\n",
    "            for k in annotation_to_add.keys():\n",
    "                record.INFO[k] = []\n",
    "            \n",
    "        for k,dk in annotation_to_add.items():\n",
    "            values = genetics.find_clinvar_attribute_value(gwas_filt_long, record.ID, dk)\n",
    "            genetics.add_annotation_attribute(record.INFO, k, values)\n",
    "        \n",
    "        vcf_out1_writer.write_record(record); vcf_out1_writer.flush()\n",
    "        vcf_out2_writer.write_record(record); vcf_out2_writer.flush()\n",
    "\n",
    "        \n",
    "vcf_out1_writer.close()\n",
    "vcf_out2_writer.close()\n",
    "    "
   ]
  },
  {
   "cell_type": "markdown",
   "metadata": {},
   "source": [
    "#### Save overall table"
   ]
  },
  {
   "cell_type": "code",
   "execution_count": 13,
   "metadata": {},
   "outputs": [
    {
     "name": "stdout",
     "output_type": "stream",
     "text": [
      "(200, 22)\n"
     ]
    }
   ],
   "source": [
    "out_cols = [\n",
    "    'variantID',\n",
    "    'chrom', 'position', 'reference', 'alternate',\n",
    "    'gene', 'geneStrand', 'positionTest', 'testSiteDistStranded',\n",
    "    'referenceFeature',\n",
    "    'referenceClassprob', 'alternateClassprob', 'deltaClassification',\n",
    "    'referenceStrength', 'alternateStrength', 'deltaStrength', \n",
    "    'referenceICprob', 'alternateICprob', \n",
    "    'referenceISprob', 'alternateISprob', \n",
    "    'affectedMotifs', 'condition']\n",
    "\n",
    "out_data = (gwas_filt[out_cols]\n",
    "            .drop_duplicates(subset = out_cols[:9])\n",
    "            .sort_values(['chrom','positionTest'])\n",
    ")\n",
    "\n",
    "out_data.to_csv(os.path.join(OUTDIR, f'gwas.representative_sites.significant.txt'), sep = \"\\t\", index = False)\n",
    "print(out_data.shape)\n"
   ]
  },
  {
   "cell_type": "markdown",
   "metadata": {},
   "source": [
    "#### Make accompanying tracks"
   ]
  },
  {
   "cell_type": "code",
   "execution_count": 14,
   "metadata": {},
   "outputs": [],
   "source": [
    "bed_cols = ['chrom', 'positionTest', 'positionTest+1', 'label', 'deltaStrength', 'strand']\n",
    "bedgraph_cols = ['chrom','positionTest','positionTest+1']\n",
    "\n",
    "for strand in ['+','-']:\n",
    "    strand_str = \"fwd\" if (strand == \"+\") else \"rev\"\n",
    "    \n",
    "    strand_data = gwas_filt_long.loc[gwas_filt_long['strand'] == strand]\n",
    "    \n",
    "    (strand_data[bed_cols]\n",
    "     .drop_duplicates()\n",
    "     .sort_values(['chrom','positionTest'])\n",
    "     .to_csv(os.path.join(OUTDIR, f'gwas.significant.disease_assoc.{strand_str}.bed'), sep = \"\\t\", index = False, header = False)\n",
    "    )\n",
    "    \n",
    "    for score in ['referenceClassprob','alternateClassprob','referenceStrength','alternateStrength', 'referenceStrengthProb', 'alternateStrengthProb']:\n",
    "        \n",
    "        (strand_data[bedgraph_cols + [score]]\n",
    "         .drop_duplicates()\n",
    "         .sort_values(['chrom','positionTest'])\n",
    "         .groupby(['chrom','positionTest','positionTest+1']).agg('max').reset_index()\n",
    "         .to_csv(os.path.join(OUTDIR, f'gwas.significant.disease_assoc.{score}.{strand_str}.bedgraph'), sep = \"\\t\", index = False, header = False)\n",
    "        )\n",
    "        \n",
    "    for direction in ['strengthened','weakened','mixed']:\n",
    "\n",
    "        (strand_data.loc[strand_data['directionEffect'] == direction, bed_cols]\n",
    "         .drop_duplicates()\n",
    "         .to_csv(os.path.join(OUTDIR, f'gwas.significant.disease_assoc.{direction}.{strand_str}.bed'), sep = \"\\t\", index = False, header = False)\n",
    "        )\n"
   ]
  },
  {
   "cell_type": "markdown",
   "metadata": {},
   "source": [
    "## Analyze significant variants"
   ]
  },
  {
   "cell_type": "markdown",
   "metadata": {},
   "source": [
    "### Variants affecting extended/terminal exonic sites"
   ]
  },
  {
   "cell_type": "markdown",
   "metadata": {},
   "source": [
    "#### Visualize the distribution of variants around the representative test sites"
   ]
  },
  {
   "cell_type": "code",
   "execution_count": 15,
   "metadata": {},
   "outputs": [],
   "source": [
    "paper_examples = ['rs3211995']\n",
    "extreme_values = ['rs78378222','rs777513','rs986475','rs10954213','rs1488763','rs4395360','rs8030','rs1053815','rs7460815']\n",
    "\n",
    "gwas_filt_xte['examples'] = np.nan\n",
    "gwas_filt_xte.loc[gwas_filt_xte['variantID'].isin(extreme_values), 'examples'] = 'extreme'\n",
    "gwas_filt_xte.loc[gwas_filt_xte['variantID'].isin(paper_examples), 'examples'] = 'paper'\n"
   ]
  },
  {
   "cell_type": "code",
   "execution_count": 16,
   "metadata": {},
   "outputs": [
    {
     "data": {
      "image/png": "[encoded data removed]",
      "text/plain": [
       "<Figure size 216x108 with 1 Axes>"
      ]
     },
     "metadata": {
      "needs_background": "light"
     },
     "output_type": "display_data"
    }
   ],
   "source": [
    "fig,ax = plt.subplots(1,1, figsize = (3,1.5))\n",
    "\n",
    "ax.axhline(y = -1, color = 'black', linestyle = 'dashed', linewidth = 1)\n",
    "ax.axhline(y = +1, color = 'black', linestyle = 'dashed', linewidth = 1)\n",
    "\n",
    "sns.scatterplot(data = gwas_filt_xte, x = 'testSiteDistStranded', y = 'deltaStrength', \n",
    "                color = 'gray', edgecolor = None, s = 2, alpha = 0.75, ax = ax)\n",
    "\n",
    "sns.scatterplot(data = gwas_filt_xte.loc[(gwas_filt_xte['variantID'].isin(extreme_values))], \n",
    "                x = 'testSiteDistStranded', y = 'deltaStrength', \n",
    "                color = 'red', edgecolor = None, s = 5, alpha = 1, ax = ax)\n",
    "\n",
    "sns.scatterplot(data = gwas_filt_xte.loc[(gwas_filt_xte['variantID'].isin(paper_examples))], \n",
    "                x = 'testSiteDistStranded', y = 'deltaStrength', \n",
    "                color = 'red', edgecolor = 'black', linewidth = 0.5, s = 7, alpha = 1, ax = ax)\n",
    "\n",
    "ax.set_xlim(-120,120)\n",
    "ax.set_xticks(np.arange(-120,121,10))\n",
    "ax.set_xticklabels(['-120','','','-90','','','-60','','','-30','','','0','','','30','','','60','','','90','','','120'])\n",
    "\n",
    "ax.set_ylim(-15,12)\n",
    "ax.yaxis.set_major_locator(MultipleLocator(3))\n",
    "\n",
    "ax.set_xlabel(\"Distance to max cleavage site (nt)\")\n",
    "ax.set_ylabel(\"deltaPolyaStrength score\")\n",
    "\n",
    "ax.spines['right'].set_visible(False)\n",
    "ax.spines['top'].set_visible(False)\n",
    "\n",
    "plt.savefig(os.path.join(OUTDIR, 'gwas.xte.change_strength_by_position.prob.repr.highlight.svg'), format = 'svg', dpi = 600, transparent = True)\n",
    "plt.show()\n"
   ]
  },
  {
   "cell_type": "code",
   "execution_count": 17,
   "metadata": {},
   "outputs": [
    {
     "data": {
      "text/html": [
       "<div>\n",
       "<style scoped>\n",
       "    .dataframe tbody tr th:only-of-type {\n",
       "        vertical-align: middle;\n",
       "    }\n",
       "\n",
       "    .dataframe tbody tr th {\n",
       "        vertical-align: top;\n",
       "    }\n",
       "\n",
       "    .dataframe thead th {\n",
       "        text-align: right;\n",
       "    }\n",
       "</style>\n",
       "<table border=\"1\" class=\"dataframe\">\n",
       "  <thead>\n",
       "    <tr style=\"text-align: right;\">\n",
       "      <th></th>\n",
       "      <th>variantID</th>\n",
       "      <th>gene</th>\n",
       "      <th>affectedMotifs</th>\n",
       "      <th>testSiteDistStranded</th>\n",
       "      <th>deltaClassification</th>\n",
       "      <th>deltaStrength</th>\n",
       "    </tr>\n",
       "  </thead>\n",
       "  <tbody>\n",
       "    <tr>\n",
       "      <td>68</td>\n",
       "      <td>rs3211995</td>\n",
       "      <td>SLC9A3R2</td>\n",
       "      <td>created_AATAAA|AATAAA</td>\n",
       "      <td>-19</td>\n",
       "      <td>0.232017</td>\n",
       "      <td>5.358871</td>\n",
       "    </tr>\n",
       "  </tbody>\n",
       "</table>\n",
       "</div>"
      ],
      "text/plain": [
       "    variantID      gene         affectedMotifs  testSiteDistStranded  \\\n",
       "68  rs3211995  SLC9A3R2  created_AATAAA|AATAAA                   -19   \n",
       "\n",
       "    deltaClassification  deltaStrength  \n",
       "68             0.232017       5.358871  "
      ]
     },
     "execution_count": 17,
     "metadata": {},
     "output_type": "execute_result"
    }
   ],
   "source": [
    "preview_cols = ['variantID','gene','affectedMotifs','testSiteDistStranded','deltaClassification','deltaStrength']\n",
    "gwas_filt_xte.loc[gwas_filt_xte['variantID'].isin(paper_examples), preview_cols].sort_values('testSiteDistStranded')\n"
   ]
  },
  {
   "cell_type": "code",
   "execution_count": 18,
   "metadata": {},
   "outputs": [
    {
     "data": {
      "text/html": [
       "<div>\n",
       "<style scoped>\n",
       "    .dataframe tbody tr th:only-of-type {\n",
       "        vertical-align: middle;\n",
       "    }\n",
       "\n",
       "    .dataframe tbody tr th {\n",
       "        vertical-align: top;\n",
       "    }\n",
       "\n",
       "    .dataframe thead th {\n",
       "        text-align: right;\n",
       "    }\n",
       "</style>\n",
       "<table border=\"1\" class=\"dataframe\">\n",
       "  <thead>\n",
       "    <tr style=\"text-align: right;\">\n",
       "      <th></th>\n",
       "      <th>variantID</th>\n",
       "      <th>gene</th>\n",
       "      <th>affectedMotifs</th>\n",
       "      <th>testSiteDistStranded</th>\n",
       "      <th>deltaClassification</th>\n",
       "      <th>deltaStrength</th>\n",
       "    </tr>\n",
       "  </thead>\n",
       "  <tbody>\n",
       "    <tr>\n",
       "      <td>141</td>\n",
       "      <td>rs4395360</td>\n",
       "      <td>SLC66A1L</td>\n",
       "      <td>created_AATAAA|AATAAA</td>\n",
       "      <td>-25</td>\n",
       "      <td>0.522357</td>\n",
       "      <td>4.567686</td>\n",
       "    </tr>\n",
       "    <tr>\n",
       "      <td>139</td>\n",
       "      <td>rs1488763</td>\n",
       "      <td>GPR156</td>\n",
       "      <td>created_AATAAA|AATAAA</td>\n",
       "      <td>-20</td>\n",
       "      <td>0.891828</td>\n",
       "      <td>5.728798</td>\n",
       "    </tr>\n",
       "    <tr>\n",
       "      <td>164</td>\n",
       "      <td>rs986475</td>\n",
       "      <td>NCR3</td>\n",
       "      <td>disrupted_AATAAA|AATAAA</td>\n",
       "      <td>-20</td>\n",
       "      <td>-0.897791</td>\n",
       "      <td>-5.429685</td>\n",
       "    </tr>\n",
       "    <tr>\n",
       "      <td>140</td>\n",
       "      <td>rs777513</td>\n",
       "      <td>UROC1</td>\n",
       "      <td>disrupted_AATAAA|AATAAA</td>\n",
       "      <td>-19</td>\n",
       "      <td>-0.111343</td>\n",
       "      <td>-9.077299</td>\n",
       "    </tr>\n",
       "    <tr>\n",
       "      <td>77</td>\n",
       "      <td>rs78378222</td>\n",
       "      <td>TP53</td>\n",
       "      <td>disrupted_AATAAA|AATAAA</td>\n",
       "      <td>-14</td>\n",
       "      <td>-0.184303</td>\n",
       "      <td>-10.303949</td>\n",
       "    </tr>\n",
       "    <tr>\n",
       "      <td>182</td>\n",
       "      <td>rs10954213</td>\n",
       "      <td>IRF5</td>\n",
       "      <td>created_AATAAA|AATAAA</td>\n",
       "      <td>-14</td>\n",
       "      <td>0.378763</td>\n",
       "      <td>8.083775</td>\n",
       "    </tr>\n",
       "    <tr>\n",
       "      <td>188</td>\n",
       "      <td>rs7460815</td>\n",
       "      <td>ZDHHC2</td>\n",
       "      <td>created_GT/CT-Rich|TGTGAT</td>\n",
       "      <td>17</td>\n",
       "      <td>0.000446</td>\n",
       "      <td>1.499645</td>\n",
       "    </tr>\n",
       "  </tbody>\n",
       "</table>\n",
       "</div>"
      ],
      "text/plain": [
       "      variantID      gene             affectedMotifs  testSiteDistStranded  \\\n",
       "141   rs4395360  SLC66A1L      created_AATAAA|AATAAA                   -25   \n",
       "139   rs1488763    GPR156      created_AATAAA|AATAAA                   -20   \n",
       "164    rs986475      NCR3    disrupted_AATAAA|AATAAA                   -20   \n",
       "140    rs777513     UROC1    disrupted_AATAAA|AATAAA                   -19   \n",
       "77   rs78378222      TP53    disrupted_AATAAA|AATAAA                   -14   \n",
       "182  rs10954213      IRF5      created_AATAAA|AATAAA                   -14   \n",
       "188   rs7460815    ZDHHC2  created_GT/CT-Rich|TGTGAT                    17   \n",
       "\n",
       "     deltaClassification  deltaStrength  \n",
       "141             0.522357       4.567686  \n",
       "139             0.891828       5.728798  \n",
       "164            -0.897791      -5.429685  \n",
       "140            -0.111343      -9.077299  \n",
       "77             -0.184303     -10.303949  \n",
       "182             0.378763       8.083775  \n",
       "188             0.000446       1.499645  "
      ]
     },
     "execution_count": 18,
     "metadata": {},
     "output_type": "execute_result"
    }
   ],
   "source": [
    "preview_cols = ['variantID','gene','affectedMotifs','testSiteDistStranded','deltaClassification','deltaStrength']\n",
    "gwas_filt_xte.loc[gwas_filt_xte['variantID'].isin(extreme_values), preview_cols].sort_values('testSiteDistStranded')\n"
   ]
  },
  {
   "cell_type": "markdown",
   "metadata": {},
   "source": [
    "#### Summarize the motifs affected by variants"
   ]
  },
  {
   "cell_type": "code",
   "execution_count": 19,
   "metadata": {},
   "outputs": [
    {
     "name": "stdout",
     "output_type": "stream",
     "text": [
      "(82, 3)\n",
      "81\n",
      "82\n"
     ]
    }
   ],
   "source": [
    "gwas_sum_dt = (\n",
    "    assoc_xte.loc[assoc_xte['affectedMotifDirection'] != 'retained']\n",
    "    [['variantID','affectedMotifDirection','affectedMotifFamily']]\n",
    "    .drop_duplicates()\n",
    ")\n",
    "\n",
    "gwas_sum = (gwas_sum_dt\n",
    "    .groupby(['affectedMotifFamily','affectedMotifDirection']).size()\n",
    "    .reset_index().rename(columns = {0:'Count'})\n",
    ")\n",
    "\n",
    "gwas_sum['Proportion'] = gwas_sum['Count'] / gwas_sum.groupby(['affectedMotifFamily'])['Count'].transform('sum')\n",
    "\n",
    "print(gwas_sum_dt.shape)\n",
    "print(gwas_sum_dt.variantID.nunique())\n",
    "print(gwas_sum['Count'].sum())\n"
   ]
  },
  {
   "cell_type": "code",
   "execution_count": 20,
   "metadata": {},
   "outputs": [
    {
     "name": "stderr",
     "output_type": "stream",
     "text": [
      "/home/esk863/.local/lib/python3.6/site-packages/pandas/core/indexing.py:961: FutureWarning: \n",
      "Passing list-likes to .loc or [] with any missing label will raise\n",
      "KeyError in the future, you can use .reindex() as an alternative.\n",
      "\n",
      "See the documentation here:\n",
      "https://pandas.pydata.org/pandas-docs/stable/user_guide/indexing.html#deprecate-loc-reindex-listlike\n",
      "  return getattr(section, self.name)[new_key]\n",
      "notebook_setup.py:11: UserWarning: FixedFormatter should only be used together with FixedLocator\n",
      "  from textwrap import wrap\n"
     ]
    },
    {
     "data": {
      "image/png": "[encoded data removed]",
      "text/plain": [
       "<Figure size 90x108 with 1 Axes>"
      ]
     },
     "metadata": {
      "needs_background": "light"
     },
     "output_type": "display_data"
    }
   ],
   "source": [
    "ordering = ['AATAAA','ATTAAA','PAS Variant','A-Rich','T-Rich','TGTA-Rich','GT/CT-Rich','G-Rich']\n",
    "\n",
    "disrupted_props = gwas_sum.loc[gwas_sum['affectedMotifDirection'] == 'disrupted', ['affectedMotifFamily','Count']].set_index('affectedMotifFamily').loc[ordering, 'Count'].fillna(0)\n",
    "created_props   = gwas_sum.loc[gwas_sum['affectedMotifDirection'] == 'created',   ['affectedMotifFamily','Count']].set_index('affectedMotifFamily').loc[ordering, 'Count'].fillna(0)\n",
    "\n",
    "fig,ax = plt.subplots(1,1, figsize = (1.25,1.5))\n",
    "\n",
    "plt.bar(ordering, disrupted_props, label = 'Disrupted', color = '#B3589A', edgecolor = 'black', linewidth = 0.5)\n",
    "plt.bar(ordering, created_props, bottom = disrupted_props, label = 'Created', color = 'seagreen', edgecolor = 'black', linewidth = 0.5)\n",
    "\n",
    "ax.set_xticklabels(ordering, rotation = 45, ha = 'right', va = 'top')\n",
    "ax.set_xlabel(\"Motif family\")\n",
    "ax.set_ylabel(\"Number of significant variants\")\n",
    "\n",
    "# ax.set_ylim(0,30)\n",
    "ax.yaxis.set_major_locator(MultipleLocator(10))\n",
    "\n",
    "ax.legend(bbox_to_anchor = (1.05,1))\n",
    "\n",
    "ax.spines['right'].set_visible(False)\n",
    "ax.spines['top'].set_visible(False)\n",
    "\n",
    "plt.savefig(os.path.join(OUTDIR, 'gwas.xte.effect_by_family_by_direction.count.svg'), format = 'svg', dpi = 600, transparent = True)\n",
    "plt.show()\n"
   ]
  },
  {
   "cell_type": "markdown",
   "metadata": {},
   "source": [
    "#### Examples of disease-related variants and gene"
   ]
  },
  {
   "cell_type": "code",
   "execution_count": 21,
   "metadata": {
    "scrolled": false
   },
   "outputs": [
    {
     "name": "stdout",
     "output_type": "stream",
     "text": [
      "\n",
      "##########\n",
      "SLC9A3R2\n",
      "\n",
      "Associated conditions-\t body mass index\n",
      "\t\t\terythrocyte count \n",
      "\n",
      "variantID                              rs3211995\n",
      "chrom                                      chr16\n",
      "position                                 2039005\n",
      "strand                                         +\n",
      "reference                                      G\n",
      "alternate                                      A\n",
      "gene                                    SLC9A3R2\n",
      "geneStrand                                     +\n",
      "affectedMotif            created_AATAAA_SLC9A3R2\n",
      "positionTest                             2039025\n",
      "testSiteDistStranded                         -19\n",
      "referenceFeature                   terminal_exon\n",
      "referenceClassprob                      0.767061\n",
      "alternateClassprob                      0.999078\n",
      "deltaClassification                     0.232017\n",
      "referenceStrength                       -6.77848\n",
      "alternateStrength                       -1.41961\n",
      "deltaStrength                            5.35887\n",
      "referenceStrengthProb                 0.00902684\n",
      "alternateStrengthProb                   0.272099\n",
      "deltaStrengthProb                       0.263072\n",
      "referenceICprob                              NaN\n",
      "alternateICprob                              NaN\n",
      "referenceISprob                              NaN\n",
      "alternateISprob                              NaN\n",
      "affectedMotifs             created_AATAAA|AATAAA\n",
      "condition                        body mass index\n",
      "clinical_significance                        NaN\n",
      "Name: 37, dtype: object\n"
     ]
    },
    {
     "name": "stderr",
     "output_type": "stream",
     "text": [
      "/home/esk863/.local/lib/python3.6/site-packages/pandas/core/series.py:1152: FutureWarning: \n",
      "Passing list-likes to .loc or [] with any missing label will raise\n",
      "KeyError in the future, you can use .reindex() as an alternative.\n",
      "\n",
      "See the documentation here:\n",
      "https://pandas.pydata.org/pandas-docs/stable/user_guide/indexing.html#deprecate-loc-reindex-listlike\n",
      "  return self.loc[key]\n"
     ]
    },
    {
     "data": {
      "image/png": "[encoded data removed]",
      "text/plain": [
       "<Figure size 51.48x14.4 with 2 Axes>"
      ]
     },
     "metadata": {
      "needs_background": "light"
     },
     "output_type": "display_data"
    },
    {
     "name": "stdout",
     "output_type": "stream",
     "text": [
      "TGACTTTGCACTTCCCTCCCGGGCCCCGCACCCCCGAACCGACCACCGATCGACCGGCACCGCTGTTGCCTCGTAAGCCATAGCGCATGCGCGCTCTCAGGATAAACAGGCCCTGCCTGGGACCCACACGCCTCTGTCTTTTCTGAGCCTCCTCCCCGTGGGGTGAGAGGGGTGGAGGGATGAGGCTGTTTCAGGGAGCCCCCTCCCCGAGTCTCAGCAGCTGGAAACGGTCTCGTTCCT\n",
      "TGACTTTGCACTTCCCTCCCGGGCCCCGCACCCCCGAACCGACCACCGATCGACCGGCACCGCTGTTGCCTCGTAAGCCATAGCGCATGCGCGCTCTCAGAATAAACAGGCCCTGCCTGGGACCCACACGCCTCTGTCTTTTCTGAGCCTCCTCCCCGTGGGGTGAGAGGGGTGGAGGGATGAGGCTGTTTCAGGGAGCCCCCTCCCCGAGTCTCAGCAGCTGGAAACGGTCTCGTTCCT\n"
     ]
    }
   ],
   "source": [
    "example_cols = ['variantID', 'chrom', 'position', 'strand', 'reference', 'alternate',\n",
    "                'gene', 'geneStrand', 'affectedMotif', 'positionTest', 'testSiteDistStranded','referenceFeature',\n",
    "                'referenceClassprob', 'alternateClassprob','deltaClassification',\n",
    "                'referenceStrength', 'alternateStrength', 'deltaStrength',\n",
    "                'referenceStrengthProb', 'alternateStrengthProb', 'deltaStrengthProb',\n",
    "                'referenceICprob', 'alternateICprob', 'referenceISprob', 'alternateISprob',\n",
    "                'affectedMotifs', 'condition',\n",
    "                'clinical_significance']\n",
    "\n",
    "example_ids = ['rs3211995']\n",
    "example_gene = ['SLC9A3R2']\n",
    "example_range = [(120-25,120-15+1)]\n",
    "\n",
    "for eid, egene, erange in zip(example_ids, example_gene, example_range):\n",
    "    \n",
    "    if (eid == ''):\n",
    "        continue\n",
    "    \n",
    "    print(f\"\\n##########\\n{egene}\")\n",
    "    print(\"\\nAssociated conditions-\\t\", \"\\n\\t\\t\\t\".join(sorted(set(gwas_filt_long.loc[(gwas_filt_long['variantID'] == eid) & (~gwas_filt_long['condition'].isin(['not_provided','not_specified','NA'])), 'condition'].tolist()))), \"\\n\")\n",
    "    print(gwas_filt_long.loc[gwas_filt_long['variantID'] == eid].iloc[0][example_cols])\n",
    "    \n",
    "    e_name = f'ukbb.{eid}.{egene}'\n",
    "    e_data = gwas_filt_long.loc[(gwas_filt_long['variantID'] == eid) & (gwas_filt_long['gene'] == egene)].iloc[0]\n",
    "\n",
    "    genetics.plot_variant_logo(os.path.join(OUTDIR, f'variant_examples.gwas.{e_name}.svg'),\n",
    "                               e_data['referenceSequence'], e_data['alternateSequence'], \n",
    "                               erange, [120+e_data['testSiteDistStranded']-len(e_data['reference'])])\n",
    "    \n",
    "    print(e_data['referenceSequence'])\n",
    "    print(e_data['alternateSequence'])\n"
   ]
  },
  {
   "cell_type": "code",
   "execution_count": null,
   "metadata": {},
   "outputs": [],
   "source": []
  }
 ],
 "metadata": {
  "kernelspec": {
   "display_name": "Python (tf-train)",
   "language": "python",
   "name": "tf-train"
  },
  "language_info": {
   "codemirror_mode": {
    "name": "ipython",
    "version": 3
   },
   "file_extension": ".py",
   "mimetype": "text/x-python",
   "name": "python",
   "nbconvert_exporter": "python",
   "pygments_lexer": "ipython3",
   "version": "3.6.12"
  }
 },
 "nbformat": 4,
 "nbformat_minor": 2
}
