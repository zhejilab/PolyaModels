{
 "cells": [
  {
   "cell_type": "markdown",
   "metadata": {},
   "source": [
    "# Figure 7: Genetics analysis of GWAS Catalog"
   ]
  },
  {
   "cell_type": "code",
   "execution_count": 1,
   "metadata": {},
   "outputs": [],
   "source": [
    "%load_ext autoreload"
   ]
  },
  {
   "cell_type": "code",
   "execution_count": 2,
   "metadata": {},
   "outputs": [],
   "source": [
    "%autoreload 2"
   ]
  },
  {
   "cell_type": "code",
   "execution_count": 3,
   "metadata": {},
   "outputs": [
    {
     "name": "stderr",
     "output_type": "stream",
     "text": [
      "Using TensorFlow backend.\n"
     ]
    }
   ],
   "source": [
    "%run -i notebook_setup.py"
   ]
  },
  {
   "cell_type": "markdown",
   "metadata": {},
   "source": [
    "## IMPORTS AND SETUP"
   ]
  },
  {
   "cell_type": "code",
   "execution_count": 4,
   "metadata": {},
   "outputs": [],
   "source": [
    "import utilities\n",
    "from utilities import preprocessing, sequence, model_builder, classification_cleavage, motifs, relative_strength, genomic_context, genetics\n",
    "\n",
    "import vcf\n"
   ]
  },
  {
   "cell_type": "code",
   "execution_count": 5,
   "metadata": {},
   "outputs": [],
   "source": [
    "PROJECT = \"/projects/b1080/eks/polyadenylation\"\n",
    "GWASDIR = os.path.join(PROJECT, 'genetics', 'gwas_NEW')\n",
    "DATADIR = os.path.join(PROJECT, \"manuscripts\", \"01_development\", \"data\")\n",
    "RESDIR  = os.path.join(PROJECT, \"manuscripts\", \"01_development\", \"analysis\", \"resources\")\n",
    "OUTDIR  = os.path.join(PROJECT, \"manuscripts\", \"01_development\", \"figures\", \"Figure_07\", \"gwas\")\n",
    "os.makedirs(OUTDIR, exist_ok = True)\n"
   ]
  },
  {
   "cell_type": "markdown",
   "metadata": {},
   "source": [
    "## IMPORT DATA"
   ]
  },
  {
   "cell_type": "code",
   "execution_count": 6,
   "metadata": {},
   "outputs": [
    {
     "name": "stdout",
     "output_type": "stream",
     "text": [
      "(16331, 45)\n",
      "(1109, 45)\n",
      "(15117, 45)\n"
     ]
    }
   ],
   "source": [
    "with open(os.path.join(RESDIR, \"gwas.representative_sites.pickle\"), mode = 'rb') as handle:\n",
    "    gwas_repr = pickle.load(handle)\n",
    "    \n",
    "gwas_repr = gwas_repr.loc[gwas_repr['referenceFeature'] == gwas_repr['alternateFeature']].copy()\n",
    "gwas_repr_xte = gwas_repr.loc[gwas_repr['referenceFeature'].str.contains(\"terminal_exon\")].copy()\n",
    "gwas_repr_int = gwas_repr.loc[gwas_repr['referenceFeature'].str.contains(\"intron\")].copy()\n",
    "\n",
    "print(gwas_repr.shape)\n",
    "print(gwas_repr_xte.shape)\n",
    "print(gwas_repr_int.shape)\n"
   ]
  },
  {
   "cell_type": "code",
   "execution_count": 7,
   "metadata": {},
   "outputs": [
    {
     "name": "stdout",
     "output_type": "stream",
     "text": [
      "\n",
      "### Extended/terminal exonic:\n",
      "Number of variant-pA test sites               1109\n",
      "Number of unique variants                     1034\n",
      "Number of variants evaluated more than once     72\n",
      "\n",
      "### Intronic:\n",
      "Number of variant-pA test sites              15117\n",
      "Number of unique variants                    14638\n",
      "Number of variants evaluated more than once    388\n"
     ]
    }
   ],
   "source": [
    "print(\"\\n### Extended/terminal exonic:\")\n",
    "print(f\"Number of variant-pA test sites             {gwas_repr_xte.shape[0]:6}\")\n",
    "print(f\"Number of unique variants                   {gwas_repr_xte.variantID.nunique():6}\")\n",
    "print(f\"Number of variants evaluated more than once {(gwas_repr_xte.variantID.value_counts() > 1).sum():6}\")\n",
    "\n",
    "print(\"\\n### Intronic:\")\n",
    "print(f\"Number of variant-pA test sites             {gwas_repr_int.shape[0]:6}\")\n",
    "print(f\"Number of unique variants                   {gwas_repr_int.variantID.nunique():6}\")\n",
    "print(f\"Number of variants evaluated more than once {(gwas_repr_int.variantID.value_counts() > 1).sum():6}\")\n"
   ]
  },
  {
   "cell_type": "code",
   "execution_count": 8,
   "metadata": {},
   "outputs": [
    {
     "data": {
      "image/png": "[encoded data removed]",
      "text/plain": [
       "<Figure size 576x216 with 8 Axes>"
      ]
     },
     "metadata": {
      "needs_background": "light"
     },
     "output_type": "display_data"
    }
   ],
   "source": [
    "fig,ax = plt.subplots(2,4, figsize = (8,3))\n",
    "ax = ax.T\n",
    "\n",
    "for a in ax[0]:\n",
    "    a.hist(gwas_repr[['referenceClassprob','alternateClassprob']].max(axis = 1), color = 'gray', bins = 30)\n",
    "    a.axvline(x = 0.5, color = 'black', linestyle = 'dashed', linewidth = 0.5)\n",
    "    a.xaxis.set_major_locator(MultipleLocator(0.5))\n",
    "\n",
    "for a in ax[1]:\n",
    "    a.hist(gwas_repr['deltaClassification'], color = 'gray', bins = 30)\n",
    "    a.xaxis.set_major_locator(MultipleLocator(0.5))\n",
    "\n",
    "for a in ax[2]:\n",
    "    a.hist(gwas_repr[['referenceStrength','alternateStrength']].max(axis = 1), color = 'gray', bins = 30)\n",
    "    a.axvline(x = -9, color = 'black', linestyle = 'dashed', linewidth = 0.5)\n",
    "    a.xaxis.set_major_locator(MultipleLocator(5))\n",
    "\n",
    "for a in ax[3]:\n",
    "    a.hist(gwas_repr['deltaStrength'], color = 'gray', bins = 30)\n",
    "    a.axvline(x = -0.5, color = 'black', linestyle = 'dashed', linewidth = 0.5)\n",
    "    a.axvline(x = +0.5, color = 'black', linestyle = 'dashed', linewidth = 0.5)\n",
    "    a.xaxis.set_major_locator(MultipleLocator(5))\n",
    "    \n",
    "for a in ax[:,1]:\n",
    "    a.set_yscale('log')\n",
    "\n",
    "ax[0][0].set_ylabel(\"Frequency\")\n",
    "ax[0][1].set_ylabel(\"Frequency (Log Scale)\")\n",
    "\n",
    "plt.suptitle(f\"GWAS Catalog variants representative test sites, N = {len(gwas_repr):,d})\")\n",
    "plt.tight_layout()\n",
    "plt.show()\n"
   ]
  },
  {
   "cell_type": "markdown",
   "metadata": {},
   "source": [
    "#### Filter representative test sites that have a significant effect on either PolyaID classification or PolyaStrength predictions"
   ]
  },
  {
   "cell_type": "code",
   "execution_count": 9,
   "metadata": {},
   "outputs": [
    {
     "name": "stdout",
     "output_type": "stream",
     "text": [
      "Representative sites-\tCount = 16331\n",
      "\n",
      "Individual criteria:\n",
      "Within +/- 120 nt of variant   16331 (100.0%)\n",
      "PolyaID classification >= 0.5  16331 (100.0%)\n",
      "PolyaStrength score >= -9      13698 ( 83.9%)\n",
      "delta(PolyaStrength) >= 1        926 (  5.7%)\n",
      "In extended/terminal exon       1109 (  6.8%)\n",
      "Intronic usage >= 0.8            142 (  0.9%)\n",
      "\n",
      "Combined criteria:               206 (  1.3%)\n"
     ]
    }
   ],
   "source": [
    "thresh_class = 0.5\n",
    "thresh_strength = -9\n",
    "thresh_delta = 1\n",
    "\n",
    "condDIST     = (gwas_repr['testSiteDistStranded'].between(-120,120))\n",
    "condCLASS    = ((gwas_repr['referenceClassprob'] >= thresh_class) | (gwas_repr['alternateClassprob'] >= thresh_class))\n",
    "condSTRENGTH = ((gwas_repr['referenceStrength'] >= thresh_strength) | (gwas_repr['alternateStrength'] >= thresh_strength))\n",
    "condDELTA    = (np.abs(gwas_repr['deltaStrength']) >= thresh_delta)\n",
    "\n",
    "condXTE      = (gwas_repr['referenceFeature'].str.contains(\"terminal_exon\"))\n",
    "condINT      = (gwas_repr['referenceFeature'].str.contains(\"intron\"))\n",
    "condIC       = ((gwas_repr['referenceFeature'] == 'intron:composite') & ((gwas_repr['referenceICprob'] >= 0.8) | (gwas_repr['alternateICprob'] >= 0.8)))\n",
    "condIS       = ((gwas_repr['referenceFeature'] == 'intron:skipped') & ((gwas_repr['referenceISprob'] >= 0.8) | (gwas_repr['alternateISprob'] >= 0.8)))\n",
    "condFEATURE  = (condXTE | condIC | condIS)\n",
    "\n",
    "condCOMB     = (condDIST & condCLASS & condSTRENGTH & condDELTA & condFEATURE)\n",
    "\n",
    "print(\"Representative sites-\\tCount =\", len(gwas_repr))\n",
    "\n",
    "print(\"\\nIndividual criteria:\")\n",
    "print(f\"Within +/- 120 nt of variant  {condDIST.sum():6} ({condDIST.sum() / len(gwas_repr):6.01%})\")\n",
    "print(f\"PolyaID classification >= 0.5 {condCLASS.sum():6} ({condCLASS.sum() / len(gwas_repr):6.01%})\")\n",
    "print(f\"PolyaStrength score >= -9     {condSTRENGTH.sum():6} ({condSTRENGTH.sum() / len(gwas_repr):6.01%})\")\n",
    "print(f\"delta(PolyaStrength) >= 1     {condDELTA.sum():6} ({condDELTA.sum() / len(gwas_repr):6.01%})\")\n",
    "print(f\"In extended/terminal exon     {condXTE.sum():6} ({condXTE.sum() / len(gwas_repr):6.01%})\")\n",
    "print(f\"Intronic usage >= 0.8         {(condIC | condIS).sum():6} ({(condIC | condIS).sum() / len(gwas_repr):6.01%})\")\n",
    "\n",
    "print(f\"\\nCombined criteria:            {condCOMB.sum():6} ({condCOMB.sum() / len(gwas_repr):6.01%})\")\n"
   ]
  },
  {
   "cell_type": "code",
   "execution_count": 10,
   "metadata": {},
   "outputs": [
    {
     "name": "stdout",
     "output_type": "stream",
     "text": [
      "(16331, 45)\n",
      "(206, 45)\n",
      "(64, 45)\n",
      "(142, 45)\n"
     ]
    }
   ],
   "source": [
    "gwas_filt = gwas_repr.loc[condCOMB].copy()\n",
    "gwas_filt_xte = gwas_repr.loc[condCOMB & condXTE].copy()\n",
    "gwas_filt_int = gwas_repr.loc[condCOMB & condINT].copy()\n",
    "\n",
    "print(gwas_repr.shape)\n",
    "print(gwas_filt.shape)\n",
    "print(gwas_filt_xte.shape)\n",
    "print(gwas_filt_int.shape)\n"
   ]
  },
  {
   "cell_type": "code",
   "execution_count": 11,
   "metadata": {},
   "outputs": [],
   "source": [
    "# (gwas_repr\n",
    "#  .loc[condDIST & condCLASS & condSTRENGTH & condDELTA & condINT,['variantID','gene']]\n",
    "#  .drop_duplicates()\n",
    "#  .to_csv(os.path.join(RESDIR, 'gwas.variant_gene_combinations.intronic.txt'), sep = \"\\t\", index = False, header = True)\n",
    "# )\n"
   ]
  },
  {
   "cell_type": "markdown",
   "metadata": {},
   "source": [
    "#### Summarize significant variants"
   ]
  },
  {
   "cell_type": "code",
   "execution_count": 12,
   "metadata": {},
   "outputs": [
    {
     "name": "stdout",
     "output_type": "stream",
     "text": [
      "\n",
      "### Extended/terminal exonic:\n",
      "Number of variant-pA test sites                 64\n",
      "Number of unique variants                       61\n",
      "Number of variants evaluated more than once      3\n",
      "\n",
      "Number of types of sites-\n",
      "terminal_exon             44\n",
      "extended_terminal_exon    20\n",
      "Name: referenceFeature, dtype: int64\n",
      "\n",
      "Direction of effects on strength-\n",
      "weakened        36\n",
      "strengthened    28\n",
      "Name: directionEffect, dtype: int64\n",
      "\n",
      "\n",
      "### Intronic:\n",
      "Number of variant-pA test sites                142\n",
      "Number of unique variants                      136\n",
      "Number of variants evaluated more than once      6\n",
      "\n",
      "Number of types of sites-\n",
      "intron:composite    133\n",
      "intron:skipped        9\n",
      "Name: referenceFeature, dtype: int64\n",
      "\n",
      "Direction of effects on strength-\n",
      "strengthened    88\n",
      "weakened        54\n",
      "Name: directionEffect, dtype: int64\n"
     ]
    }
   ],
   "source": [
    "print(\"\\n### Extended/terminal exonic:\")\n",
    "print(f\"Number of variant-pA test sites             {gwas_filt_xte.shape[0]:6}\")\n",
    "print(f\"Number of unique variants                   {gwas_filt_xte.variantID.nunique():6}\")\n",
    "print(f\"Number of variants evaluated more than once {(gwas_filt_xte.variantID.value_counts() > 1).sum():6}\")\n",
    "\n",
    "print(f\"\\nNumber of types of sites-\\n{gwas_filt_xte.referenceFeature.value_counts()}\")\n",
    "print(f\"\\nDirection of effects on strength-\\n{gwas_filt_xte.directionEffect.value_counts()}\")\n",
    "\n",
    "\n",
    "print(\"\\n\\n### Intronic:\")\n",
    "print(f\"Number of variant-pA test sites             {gwas_filt_int.shape[0]:6}\")\n",
    "print(f\"Number of unique variants                   {gwas_filt_int.variantID.nunique():6}\")\n",
    "print(f\"Number of variants evaluated more than once {(gwas_filt_int.variantID.value_counts() > 1).sum():6}\")\n",
    "\n",
    "print(f\"\\nNumber of types of sites-\\n{gwas_filt_int.referenceFeature.value_counts()}\")\n",
    "print(f\"\\nDirection of effects on strength-\\n{gwas_filt_int.directionEffect.value_counts()}\")\n"
   ]
  },
  {
   "cell_type": "markdown",
   "metadata": {},
   "source": [
    "#### Split variant representative sites by their effect on APA activity and save to BED files"
   ]
  },
  {
   "cell_type": "code",
   "execution_count": 13,
   "metadata": {},
   "outputs": [],
   "source": [
    "test_bed_cols = ['chrom', 'positionTest', 'positionTest+1', 'label', 'deltaStrength', 'strand']\n",
    "\n",
    "gwas_filt['positionTest+1'] = gwas_filt['positionTest']+1\n",
    "\n",
    "gwas_filt['label'] = gwas_filt['variantID']\n",
    "gwas_filt['label'] = gwas_filt['label'] + \"|\" + gwas_filt['reference'] + \">\" + gwas_filt['alternate']\n",
    "gwas_filt['label'] = gwas_filt['label'] + \"|\" + gwas_filt['affectedMotif']\n",
    "gwas_filt['label'] = gwas_filt['label'] + \"|dID=\" + gwas_filt['deltaClassification'].round(3).astype(str) + \"(\" + gwas_filt['referenceClassprob'].round(3).astype(str) + \">\" + gwas_filt['alternateClassprob'].round(3).astype(str) + \")\"\n",
    "gwas_filt['label'] = gwas_filt['label'] + \"|dSTR=\" + gwas_filt['deltaStrengthProb'].round(3).astype(str) + \"(\" + gwas_filt['referenceStrengthProb'].round(3).astype(str) + \">\" + gwas_filt['alternateStrengthProb'].round(3).astype(str) + \")\"\n",
    "\n",
    "gwas_filt.loc[gwas_filt['referenceFeature'] == 'intron:composite', 'label'] = gwas_filt['label'] + \"|dIC=\" + (gwas_filt['alternateICprob'] - gwas_filt['referenceICprob']).round(3).astype(str) + \"(\" + gwas_filt['referenceICprob'].round(3).astype(str) + \">\" + gwas_filt['alternateICprob'].round(3).astype(str) + \")\"\n",
    "gwas_filt.loc[gwas_filt['referenceFeature'] == 'intron:skipped', 'label'] = gwas_filt['label'] + \"|dIS=\" + (gwas_filt['alternateISprob'] - gwas_filt['referenceISprob']).round(3).astype(str) + \"(\" + gwas_filt['referenceISprob'].round(3).astype(str) + \">\" + gwas_filt['alternateISprob'].round(3).astype(str) + \")\"\n",
    "\n",
    "gwas_filt['label'] = gwas_filt['label'] + \"|\" + gwas_filt['directionEffect']\n",
    "\n",
    "for strand in ['+','-']:\n",
    "    strand_str = \"fwd\" if (strand == \"+\") else \"rev\"\n",
    "    \n",
    "    for direction in ['strengthened','weakened','mixed']:\n",
    "\n",
    "        (gwas_filt.loc[(gwas_filt['strand'] == strand) & (gwas_filt['directionEffect'] == direction), test_bed_cols]\n",
    "         .drop_duplicates()\n",
    "         .to_csv(os.path.join(OUTDIR, f'gwas.representative_sites.significant_pc.{direction}.{strand_str}.bed'), sep = \"\\t\", index = False, header = False)\n",
    "        )\n"
   ]
  },
  {
   "cell_type": "markdown",
   "metadata": {},
   "source": [
    "#### Annotate clinical associations to variants and remove those with no disease relevance"
   ]
  },
  {
   "cell_type": "code",
   "execution_count": 14,
   "metadata": {},
   "outputs": [
    {
     "name": "stdout",
     "output_type": "stream",
     "text": [
      "\n",
      "Dataset\t\tShape\t\tGenes Variants Combinations\n",
      "gwas_filt      \t(206, 47)\t  203      197          206\n",
      "gwas_filt_long \t(436, 47)\t  203      197          206\n",
      "gwas_filt_assoc\t(427, 47)\t  194      189          197\n",
      "\n",
      "Split by genomic feature:\n",
      "Feature\t\tShape\t\tGenes Variants Combinations\n",
      "intronic       \t(266, 47)\t  135      132          138\n",
      "terminal exonic\t(161, 47)\t   59       57           59\n"
     ]
    }
   ],
   "source": [
    "gwas_filt_long = gwas_filt.explode('condition').reset_index(drop = True)\n",
    "gwas_filt_long['label'] = gwas_filt_long['label'] + \"|\" + gwas_filt_long['condition']\n",
    "\n",
    "gwas_filt_assoc = gwas_filt_long.loc[~gwas_filt_long['condition'].isin(['not_provided','not_specified','NA'])].copy()\n",
    "assoc_int = gwas_filt_assoc.loc[gwas_filt_assoc.referenceFeature.str.contains('intron')]\n",
    "assoc_xte = gwas_filt_assoc.loc[gwas_filt_assoc.referenceFeature.str.contains('terminal_exon')]\n",
    "\n",
    "print(\"\\nDataset\\t\\tShape\\t\\tGenes Variants Combinations\")\n",
    "print(f\"gwas_filt      \\t{gwas_filt.shape}\\t{gwas_filt.gene.nunique():5} {gwas_filt.variantID.nunique():8} {gwas_filt.groupby(['variantID','gene']).size().shape[0]:12}\")\n",
    "print(f\"gwas_filt_long \\t{gwas_filt_long.shape}\\t{gwas_filt_long.gene.nunique():5} {gwas_filt_long.variantID.nunique():8} {gwas_filt_long.groupby(['variantID','gene']).size().shape[0]:12}\")\n",
    "print(f\"gwas_filt_assoc\\t{gwas_filt_assoc.shape}\\t{gwas_filt_assoc.gene.nunique():5} {gwas_filt_assoc.variantID.nunique():8} {gwas_filt_assoc.groupby(['variantID','gene']).size().shape[0]:12}\")\n",
    "\n",
    "print(\"\\nSplit by genomic feature:\")\n",
    "print(\"Feature\\t\\tShape\\t\\tGenes Variants Combinations\")\n",
    "print(f\"intronic       \\t{assoc_int.shape}\\t{assoc_int.gene.nunique():5} {assoc_int.variantID.nunique():8} {assoc_int.groupby(['variantID','gene']).size().shape[0]:12}\")\n",
    "print(f\"terminal exonic\\t{assoc_xte.shape}\\t{assoc_xte.gene.nunique():5} {assoc_xte.variantID.nunique():8} {assoc_xte.groupby(['variantID','gene']).size().shape[0]:12}\")\n"
   ]
  },
  {
   "cell_type": "code",
   "execution_count": 15,
   "metadata": {},
   "outputs": [
    {
     "data": {
      "text/plain": [
       "body height                                             14\n",
       " high density lipoprotein cholesterol measurement       11\n",
       "high density lipoprotein cholesterol measurement         9\n",
       "very low density lipoprotein cholesterol measurement     9\n",
       "erythrocyte count                                        8\n",
       "                                                        ..\n",
       "age at onset                                             1\n",
       " phospholipids:total lipids ratio                        1\n",
       "household income                                         1\n",
       " obsolete_systemic lupus erythematosus                   1\n",
       "risk-taking behaviour                                    1\n",
       "Name: condition, Length: 246, dtype: int64"
      ]
     },
     "execution_count": 15,
     "metadata": {},
     "output_type": "execute_result"
    }
   ],
   "source": [
    "gwas_filt_assoc['condition'].value_counts()"
   ]
  },
  {
   "cell_type": "markdown",
   "metadata": {},
   "source": [
    "#### Create annotated VCF file of significant variants"
   ]
  },
  {
   "cell_type": "code",
   "execution_count": 16,
   "metadata": {},
   "outputs": [
    {
     "name": "stdout",
     "output_type": "stream",
     "text": [
      "# Included IDs: 197\n"
     ]
    },
    {
     "name": "stderr",
     "output_type": "stream",
     "text": [
      "2291it [00:00, 2705.75it/s]\n",
      "39942it [00:04, 9181.66it/s] \n"
     ]
    }
   ],
   "source": [
    "### annotate vcf with representative site info\n",
    "\n",
    "filtered_ids = list(set([x.replace(\"clinvarID:\", \"\") for x in gwas_filt_long['variantID']]))\n",
    "print(\"# Included IDs:\", len(filtered_ids))\n",
    "\n",
    "annotation_to_add = {\n",
    "    'representative_test_position': 'positionTest',\n",
    "    'representative_test_position_feature': 'referenceFeature',\n",
    "    'variant_distance_to_test_position': 'testSiteDistStranded',\n",
    "    'variant_affected_motif_details': 'affectedMotifs',\n",
    "    'variant_clinical_associations': 'condition',\n",
    "    'ref_classification': 'referenceClassprob',\n",
    "    'alt_classification': 'alternateClassprob',\n",
    "    'ref_strength': 'referenceStrength',\n",
    "    'alt_strength': 'alternateStrength',\n",
    "    'ref_strength_probability' : 'referenceStrengthProb',\n",
    "    'alt_strength_probability' : 'alternateStrengthProb',\n",
    "    'ref_peak_clv_profile': 'referenceNormClvProfile',\n",
    "    'alt_peak_clv_profile': 'alternateNormClvProfile',\n",
    "    'ref_intron_composite_usage': 'referenceICprob',\n",
    "    'alt_intron_composite_usage': 'alternateICprob',\n",
    "    'ref_intron_skipped_usage': 'referenceISprob',\n",
    "    'alt_intron_skipped_usage': 'alternateISprob',\n",
    "    'delta_probability_classification': 'deltaClassification',\n",
    "    'delta_probability_strength': 'deltaStrengthProb',\n",
    "    'delta_logit_strength': 'deltaStrength',\n",
    "}\n",
    "\n",
    "vcf_te = os.path.join(GWASDIR, 'gwas.pc.max_100.fully_within_xte.affected_motifs_sig_complete2.vcf')\n",
    "vcf_int = os.path.join(GWASDIR, 'gwas.pc.max_100.fully_within_intron.affected_motifs_sig_complete2.vcf')\n",
    "\n",
    "vcf_te_reader  = vcf.Reader(open(vcf_te, 'r'))\n",
    "vcf_int_reader = vcf.Reader(open(vcf_int, 'r'))\n",
    "\n",
    "vcf_out1 = os.path.join(GWASDIR, 'gwas.pc.max_100.fully_within_intron_or_xte.affected_motifs_sig_complete2.significant_pc.vcf')\n",
    "vcf_out1_writer = vcf.Writer(open(vcf_out1, 'w'), vcf_te_reader)\n",
    "\n",
    "vcf_out2 = os.path.join(OUTDIR, 'gwas.significant_pc.vcf')\n",
    "vcf_out2_writer = vcf.Writer(open(vcf_out2, 'w'), vcf_te_reader)\n",
    "\n",
    "for record in tqdm.tqdm(vcf_te_reader):\n",
    "    if (record.ID in filtered_ids):\n",
    "        \n",
    "        if (list(annotation_to_add.keys())[0] not in record.INFO.keys()):\n",
    "            for k in annotation_to_add.keys():\n",
    "                record.INFO[k] = []\n",
    "            \n",
    "        for k,dk in annotation_to_add.items():\n",
    "            values = genetics.find_clinvar_attribute_value(gwas_filt_long, record.ID, dk)\n",
    "            genetics.add_annotation_attribute(record.INFO, k, values)\n",
    "        \n",
    "        vcf_out1_writer.write_record(record); vcf_out1_writer.flush()\n",
    "        vcf_out2_writer.write_record(record); vcf_out2_writer.flush()\n",
    "        \n",
    "        \n",
    "for record in tqdm.tqdm(vcf_int_reader):\n",
    "    if (record.ID in filtered_ids):\n",
    "        \n",
    "        if (list(annotation_to_add.keys())[0] not in record.INFO.keys()):\n",
    "            for k in annotation_to_add.keys():\n",
    "                record.INFO[k] = []\n",
    "            \n",
    "        for k,dk in annotation_to_add.items():\n",
    "            values = genetics.find_clinvar_attribute_value(gwas_filt_long, record.ID, dk)\n",
    "            genetics.add_annotation_attribute(record.INFO, k, values)\n",
    "        \n",
    "        vcf_out1_writer.write_record(record); vcf_out1_writer.flush()\n",
    "        vcf_out2_writer.write_record(record); vcf_out2_writer.flush()\n",
    "\n",
    "        \n",
    "vcf_out1_writer.close()\n",
    "vcf_out2_writer.close()\n",
    "    "
   ]
  },
  {
   "cell_type": "markdown",
   "metadata": {},
   "source": [
    "#### Save overall table"
   ]
  },
  {
   "cell_type": "code",
   "execution_count": 17,
   "metadata": {},
   "outputs": [
    {
     "name": "stdout",
     "output_type": "stream",
     "text": [
      "(206, 22)\n"
     ]
    }
   ],
   "source": [
    "out_cols = [\n",
    "    'variantID',\n",
    "    'chrom', 'position', 'reference', 'alternate',\n",
    "    'gene', 'geneStrand', 'positionTest', 'testSiteDistStranded',\n",
    "    'referenceFeature',\n",
    "    'referenceClassprob', 'alternateClassprob', 'deltaClassification',\n",
    "    'referenceStrength', 'alternateStrength', 'deltaStrength', \n",
    "    'referenceICprob', 'alternateICprob', \n",
    "    'referenceISprob', 'alternateISprob', \n",
    "    'affectedMotifs', 'condition']\n",
    "\n",
    "out_data = (gwas_filt[out_cols]\n",
    "            .drop_duplicates(subset = out_cols[:9])\n",
    "            .sort_values(['chrom','positionTest'])\n",
    ")\n",
    "\n",
    "out_data.to_csv(os.path.join(OUTDIR, f'gwas.representative_sites.significant_pc.txt'), sep = \"\\t\", index = False)\n",
    "print(out_data.shape)\n"
   ]
  },
  {
   "cell_type": "markdown",
   "metadata": {},
   "source": [
    "#### Make accompanying tracks"
   ]
  },
  {
   "cell_type": "code",
   "execution_count": 18,
   "metadata": {},
   "outputs": [],
   "source": [
    "bed_cols = ['chrom', 'positionTest', 'positionTest+1', 'label', 'deltaStrength', 'strand']\n",
    "bedgraph_cols = ['chrom','positionTest','positionTest+1']\n",
    "\n",
    "for strand in ['+','-']:\n",
    "    strand_str = \"fwd\" if (strand == \"+\") else \"rev\"\n",
    "    \n",
    "    strand_data = gwas_filt_long.loc[gwas_filt_long['strand'] == strand]\n",
    "    \n",
    "    (strand_data[bed_cols]\n",
    "     .drop_duplicates()\n",
    "     .sort_values(['chrom','positionTest'])\n",
    "     .to_csv(os.path.join(OUTDIR, f'gwas.significant_pc.disease_assoc.{strand_str}.bed'), sep = \"\\t\", index = False, header = False)\n",
    "    )\n",
    "    \n",
    "    for score in ['referenceClassprob','alternateClassprob','referenceStrength','alternateStrength', 'referenceStrengthProb', 'alternateStrengthProb']:\n",
    "        \n",
    "        (strand_data[bedgraph_cols + [score]]\n",
    "         .drop_duplicates()\n",
    "         .sort_values(['chrom','positionTest'])\n",
    "         .groupby(['chrom','positionTest','positionTest+1']).agg('max').reset_index()\n",
    "         .to_csv(os.path.join(OUTDIR, f'gwas.significant_pc.disease_assoc.{score}.{strand_str}.bedgraph'), sep = \"\\t\", index = False, header = False)\n",
    "        )\n",
    "        \n",
    "    for direction in ['strengthened','weakened','mixed']:\n",
    "\n",
    "        (strand_data.loc[strand_data['directionEffect'] == direction, bed_cols]\n",
    "         .drop_duplicates()\n",
    "         .to_csv(os.path.join(OUTDIR, f'gwas.significant_pc.disease_assoc.{direction}.{strand_str}.bed'), sep = \"\\t\", index = False, header = False)\n",
    "        )\n"
   ]
  },
  {
   "cell_type": "markdown",
   "metadata": {},
   "source": [
    "## Analyze significant variants"
   ]
  },
  {
   "cell_type": "markdown",
   "metadata": {},
   "source": [
    "#### Visualize the distribution of variants around the representative test sites"
   ]
  },
  {
   "cell_type": "code",
   "execution_count": 19,
   "metadata": {},
   "outputs": [],
   "source": [
    "paper_examples = ['rs3211995']\n",
    "extreme_values = ['rs78378222','rs777513','rs986475','rs10954213','rs1488763','rs4395360','rs8030','rs1053815','rs7460815']\n",
    "\n",
    "gwas_repr_xte['examples'] = np.nan\n",
    "gwas_repr_xte.loc[gwas_repr_xte['variantID'].isin(extreme_values), 'examples'] = 'extreme'\n",
    "gwas_repr_xte.loc[gwas_repr_xte['variantID'].isin(paper_examples), 'examples'] = 'paper'\n"
   ]
  },
  {
   "cell_type": "code",
   "execution_count": 20,
   "metadata": {},
   "outputs": [
    {
     "data": {
      "image/png": "[encoded data removed]",
      "text/plain": [
       "<Figure size 216x108 with 1 Axes>"
      ]
     },
     "metadata": {
      "needs_background": "light"
     },
     "output_type": "display_data"
    }
   ],
   "source": [
    "fig,ax = plt.subplots(1,1, figsize = (3,1.5))\n",
    "\n",
    "ax.axhline(y = -thresh_delta, color = 'black', linestyle = 'dashed', linewidth = 1)\n",
    "ax.axhline(y = +thresh_delta, color = 'black', linestyle = 'dashed', linewidth = 1)\n",
    "\n",
    "sns.scatterplot(data = gwas_repr_xte, x = 'testSiteDistStranded', y = 'deltaStrength', \n",
    "                color = 'gray', edgecolor = None, s = 2, alpha = 0.75, \n",
    "                rasterized = True, ax = ax)\n",
    "\n",
    "sns.scatterplot(data = gwas_repr_xte.loc[(gwas_repr_xte['variantID'].isin(extreme_values)) & (np.abs(gwas_repr_xte['deltaStrength']) >= thresh_delta)], \n",
    "                x = 'testSiteDistStranded', y = 'deltaStrength', \n",
    "                color = 'red', edgecolor = None, s = 5, alpha = 1, \n",
    "                rasterized = True, ax = ax)\n",
    "\n",
    "sns.scatterplot(data = gwas_repr_xte.loc[(gwas_repr_xte['variantID'].isin(paper_examples)) & (np.abs(gwas_repr_xte['deltaStrength']) >= thresh_delta)], \n",
    "                x = 'testSiteDistStranded', y = 'deltaStrength', \n",
    "                color = 'red', edgecolor = 'black', linewidth = 0.5, s = 7, alpha = 1, \n",
    "                rasterized = True, ax = ax)\n",
    "\n",
    "ax.set_xlim(-120,120)\n",
    "ax.set_xticks(np.arange(-120,121,10))\n",
    "ax.set_xticklabels(['-120','','','-90','','','-60','','','-30','','','0','','','30','','','60','','','90','','','120'])\n",
    "\n",
    "ax.set_ylim(-15,12)\n",
    "ax.yaxis.set_major_locator(MultipleLocator(3))\n",
    "\n",
    "ax.set_xlabel(\"Distance to max cleavage site (nt)\")\n",
    "ax.set_ylabel(\"deltaPolyaStrength score\")\n",
    "\n",
    "ax.spines['right'].set_visible(False)\n",
    "ax.spines['top'].set_visible(False)\n",
    "\n",
    "plt.savefig(os.path.join(OUTDIR, 'gwas.xte.change_strength_by_position.prob.repr.highlight.svg'), format = 'svg', dpi = 600, transparent = True)\n",
    "plt.show()\n"
   ]
  },
  {
   "cell_type": "code",
   "execution_count": 21,
   "metadata": {},
   "outputs": [
    {
     "data": {
      "text/html": [
       "<div>\n",
       "<style scoped>\n",
       "    .dataframe tbody tr th:only-of-type {\n",
       "        vertical-align: middle;\n",
       "    }\n",
       "\n",
       "    .dataframe tbody tr th {\n",
       "        vertical-align: top;\n",
       "    }\n",
       "\n",
       "    .dataframe thead th {\n",
       "        text-align: right;\n",
       "    }\n",
       "</style>\n",
       "<table border=\"1\" class=\"dataframe\">\n",
       "  <thead>\n",
       "    <tr style=\"text-align: right;\">\n",
       "      <th></th>\n",
       "      <th>variantID</th>\n",
       "      <th>gene</th>\n",
       "      <th>affectedMotifs</th>\n",
       "      <th>testSiteDistStranded</th>\n",
       "      <th>deltaClassification</th>\n",
       "      <th>deltaStrength</th>\n",
       "    </tr>\n",
       "  </thead>\n",
       "  <tbody>\n",
       "    <tr>\n",
       "      <td>33833</td>\n",
       "      <td>rs3211995</td>\n",
       "      <td>SLC9A3R2</td>\n",
       "      <td>created_AATAAA|AATAAA</td>\n",
       "      <td>-21</td>\n",
       "      <td>0.172774</td>\n",
       "      <td>6.040788</td>\n",
       "    </tr>\n",
       "  </tbody>\n",
       "</table>\n",
       "</div>"
      ],
      "text/plain": [
       "       variantID      gene         affectedMotifs  testSiteDistStranded  \\\n",
       "33833  rs3211995  SLC9A3R2  created_AATAAA|AATAAA                   -21   \n",
       "\n",
       "       deltaClassification  deltaStrength  \n",
       "33833             0.172774       6.040788  "
      ]
     },
     "execution_count": 21,
     "metadata": {},
     "output_type": "execute_result"
    }
   ],
   "source": [
    "preview_cols = ['variantID','gene','affectedMotifs','testSiteDistStranded','deltaClassification','deltaStrength']\n",
    "gwas_repr_xte.loc[(np.abs(gwas_repr_xte['deltaStrength']) >= thresh_delta) & (gwas_repr_xte['variantID'].isin(paper_examples)), preview_cols].sort_values('testSiteDistStranded')\n"
   ]
  },
  {
   "cell_type": "code",
   "execution_count": 22,
   "metadata": {},
   "outputs": [
    {
     "data": {
      "text/html": [
       "<div>\n",
       "<style scoped>\n",
       "    .dataframe tbody tr th:only-of-type {\n",
       "        vertical-align: middle;\n",
       "    }\n",
       "\n",
       "    .dataframe tbody tr th {\n",
       "        vertical-align: top;\n",
       "    }\n",
       "\n",
       "    .dataframe thead th {\n",
       "        text-align: right;\n",
       "    }\n",
       "</style>\n",
       "<table border=\"1\" class=\"dataframe\">\n",
       "  <thead>\n",
       "    <tr style=\"text-align: right;\">\n",
       "      <th></th>\n",
       "      <th>variantID</th>\n",
       "      <th>gene</th>\n",
       "      <th>affectedMotifs</th>\n",
       "      <th>testSiteDistStranded</th>\n",
       "      <th>deltaClassification</th>\n",
       "      <th>deltaStrength</th>\n",
       "    </tr>\n",
       "  </thead>\n",
       "  <tbody>\n",
       "    <tr>\n",
       "      <td>6691</td>\n",
       "      <td>rs8030</td>\n",
       "      <td>SEC16B</td>\n",
       "      <td>created_T-Rich|TTTTCT</td>\n",
       "      <td>-50</td>\n",
       "      <td>-0.020090</td>\n",
       "      <td>-1.783622</td>\n",
       "    </tr>\n",
       "    <tr>\n",
       "      <td>6777</td>\n",
       "      <td>rs8030</td>\n",
       "      <td>CRYZL2P-SEC16B</td>\n",
       "      <td>created_T-Rich|TTTTCT</td>\n",
       "      <td>-50</td>\n",
       "      <td>-0.020090</td>\n",
       "      <td>-1.783622</td>\n",
       "    </tr>\n",
       "    <tr>\n",
       "      <td>61443</td>\n",
       "      <td>rs4395360</td>\n",
       "      <td>SLC66A1L</td>\n",
       "      <td>created_AATAAA|AATAAA</td>\n",
       "      <td>-25</td>\n",
       "      <td>0.522357</td>\n",
       "      <td>4.567688</td>\n",
       "    </tr>\n",
       "    <tr>\n",
       "      <td>73039</td>\n",
       "      <td>rs986475</td>\n",
       "      <td>NCR3</td>\n",
       "      <td>disrupted_AATAAA|AATAAA</td>\n",
       "      <td>-20</td>\n",
       "      <td>-0.897791</td>\n",
       "      <td>-5.429684</td>\n",
       "    </tr>\n",
       "    <tr>\n",
       "      <td>931254</td>\n",
       "      <td>rs1488763</td>\n",
       "      <td>GPR156</td>\n",
       "      <td>created_AATAAA|AATAAA</td>\n",
       "      <td>-20</td>\n",
       "      <td>0.891828</td>\n",
       "      <td>5.728794</td>\n",
       "    </tr>\n",
       "    <tr>\n",
       "      <td>60944</td>\n",
       "      <td>rs777513</td>\n",
       "      <td>UROC1</td>\n",
       "      <td>disrupted_AATAAA|AATAAA</td>\n",
       "      <td>-19</td>\n",
       "      <td>-0.111342</td>\n",
       "      <td>-9.077302</td>\n",
       "    </tr>\n",
       "    <tr>\n",
       "      <td>37565</td>\n",
       "      <td>rs78378222</td>\n",
       "      <td>TP53</td>\n",
       "      <td>disrupted_AATAAA|AATAAA</td>\n",
       "      <td>-14</td>\n",
       "      <td>-0.184303</td>\n",
       "      <td>-10.303949</td>\n",
       "    </tr>\n",
       "    <tr>\n",
       "      <td>82472</td>\n",
       "      <td>rs10954213</td>\n",
       "      <td>IRF5</td>\n",
       "      <td>created_AATAAA|AATAAA</td>\n",
       "      <td>-14</td>\n",
       "      <td>0.378763</td>\n",
       "      <td>8.083778</td>\n",
       "    </tr>\n",
       "    <tr>\n",
       "      <td>18991</td>\n",
       "      <td>rs1053815</td>\n",
       "      <td>MAML2</td>\n",
       "      <td>modified_T-Rich|TTTTGT,TTTGTT,TTTTAT,TTTATT</td>\n",
       "      <td>10</td>\n",
       "      <td>-0.045788</td>\n",
       "      <td>-1.380862</td>\n",
       "    </tr>\n",
       "    <tr>\n",
       "      <td>83663</td>\n",
       "      <td>rs7460815</td>\n",
       "      <td>ZDHHC2</td>\n",
       "      <td>created_GT/CT-Rich|TGTGAT</td>\n",
       "      <td>17</td>\n",
       "      <td>0.000446</td>\n",
       "      <td>1.499647</td>\n",
       "    </tr>\n",
       "  </tbody>\n",
       "</table>\n",
       "</div>"
      ],
      "text/plain": [
       "         variantID            gene  \\\n",
       "6691        rs8030          SEC16B   \n",
       "6777        rs8030  CRYZL2P-SEC16B   \n",
       "61443    rs4395360        SLC66A1L   \n",
       "73039     rs986475            NCR3   \n",
       "931254   rs1488763          GPR156   \n",
       "60944     rs777513           UROC1   \n",
       "37565   rs78378222            TP53   \n",
       "82472   rs10954213            IRF5   \n",
       "18991    rs1053815           MAML2   \n",
       "83663    rs7460815          ZDHHC2   \n",
       "\n",
       "                                     affectedMotifs  testSiteDistStranded  \\\n",
       "6691                          created_T-Rich|TTTTCT                   -50   \n",
       "6777                          created_T-Rich|TTTTCT                   -50   \n",
       "61443                         created_AATAAA|AATAAA                   -25   \n",
       "73039                       disrupted_AATAAA|AATAAA                   -20   \n",
       "931254                        created_AATAAA|AATAAA                   -20   \n",
       "60944                       disrupted_AATAAA|AATAAA                   -19   \n",
       "37565                       disrupted_AATAAA|AATAAA                   -14   \n",
       "82472                         created_AATAAA|AATAAA                   -14   \n",
       "18991   modified_T-Rich|TTTTGT,TTTGTT,TTTTAT,TTTATT                    10   \n",
       "83663                     created_GT/CT-Rich|TGTGAT                    17   \n",
       "\n",
       "        deltaClassification  deltaStrength  \n",
       "6691              -0.020090      -1.783622  \n",
       "6777              -0.020090      -1.783622  \n",
       "61443              0.522357       4.567688  \n",
       "73039             -0.897791      -5.429684  \n",
       "931254             0.891828       5.728794  \n",
       "60944             -0.111342      -9.077302  \n",
       "37565             -0.184303     -10.303949  \n",
       "82472              0.378763       8.083778  \n",
       "18991             -0.045788      -1.380862  \n",
       "83663              0.000446       1.499647  "
      ]
     },
     "execution_count": 22,
     "metadata": {},
     "output_type": "execute_result"
    }
   ],
   "source": [
    "preview_cols = ['variantID','gene','affectedMotifs','testSiteDistStranded','deltaClassification','deltaStrength']\n",
    "gwas_repr_xte.loc[(np.abs(gwas_repr_xte['deltaStrength']) >= thresh_delta) & (gwas_repr_xte['variantID'].isin(extreme_values)), preview_cols].sort_values('testSiteDistStranded')\n"
   ]
  },
  {
   "cell_type": "markdown",
   "metadata": {},
   "source": [
    "#### Summarize the motifs affected by variants"
   ]
  },
  {
   "cell_type": "code",
   "execution_count": 23,
   "metadata": {},
   "outputs": [
    {
     "name": "stdout",
     "output_type": "stream",
     "text": [
      "(57, 3)\n",
      "57\n",
      "57\n"
     ]
    }
   ],
   "source": [
    "gwas_sum_dt = (\n",
    "    assoc_xte.loc[assoc_xte['affectedMotifDirection'] != 'retained']\n",
    "    [['variantID','affectedMotifDirection','affectedMotifFamily']]\n",
    "    .drop_duplicates()\n",
    ")\n",
    "\n",
    "gwas_sum = (gwas_sum_dt\n",
    "    .groupby(['affectedMotifFamily','affectedMotifDirection']).size()\n",
    "    .reset_index().rename(columns = {0:'Count'})\n",
    ")\n",
    "\n",
    "gwas_sum['Proportion'] = gwas_sum['Count'] / gwas_sum.groupby(['affectedMotifFamily'])['Count'].transform('sum')\n",
    "\n",
    "print(gwas_sum_dt.shape)\n",
    "print(gwas_sum_dt.variantID.nunique())\n",
    "print(gwas_sum['Count'].sum())\n"
   ]
  },
  {
   "cell_type": "code",
   "execution_count": 24,
   "metadata": {},
   "outputs": [
    {
     "name": "stderr",
     "output_type": "stream",
     "text": [
      "/home/esk863/.local/lib/python3.6/site-packages/pandas/core/indexing.py:961: FutureWarning: \n",
      "Passing list-likes to .loc or [] with any missing label will raise\n",
      "KeyError in the future, you can use .reindex() as an alternative.\n",
      "\n",
      "See the documentation here:\n",
      "https://pandas.pydata.org/pandas-docs/stable/user_guide/indexing.html#deprecate-loc-reindex-listlike\n",
      "  return getattr(section, self.name)[new_key]\n",
      "notebook_setup.py:11: UserWarning: FixedFormatter should only be used together with FixedLocator\n",
      "  from textwrap import wrap\n"
     ]
    },
    {
     "data": {
      "image/png": "[encoded data removed]",
      "text/plain": [
       "<Figure size 90x108 with 1 Axes>"
      ]
     },
     "metadata": {
      "needs_background": "light"
     },
     "output_type": "display_data"
    }
   ],
   "source": [
    "ordering = ['AATAAA','ATTAAA','PAS Variant','A-Rich','T-Rich','TGTA','TGTA-Rich','GT/CT-Rich','G-Rich']\n",
    "\n",
    "disrupted_props = gwas_sum.loc[gwas_sum['affectedMotifDirection'] == 'disrupted', ['affectedMotifFamily','Count']].set_index('affectedMotifFamily').loc[ordering, 'Count'].fillna(0)\n",
    "created_props   = gwas_sum.loc[gwas_sum['affectedMotifDirection'] == 'created',   ['affectedMotifFamily','Count']].set_index('affectedMotifFamily').loc[ordering, 'Count'].fillna(0)\n",
    "\n",
    "fig,ax = plt.subplots(1,1, figsize = (1.25,1.5))\n",
    "\n",
    "plt.bar(ordering, disrupted_props, label = 'Disrupted', color = '#B3589A', edgecolor = 'black', linewidth = 0.5)\n",
    "plt.bar(ordering, created_props, bottom = disrupted_props, label = 'Created', color = 'seagreen', edgecolor = 'black', linewidth = 0.5)\n",
    "\n",
    "ax.set_xticklabels(ordering, rotation = 45, ha = 'right', va = 'top')\n",
    "ax.set_xlabel(\"Motif family\")\n",
    "ax.set_ylabel(\"Number of significant variants\")\n",
    "\n",
    "ax.set_ylim(0,30)\n",
    "ax.yaxis.set_major_locator(MultipleLocator(10))\n",
    "\n",
    "ax.legend(bbox_to_anchor = (1.05,1))\n",
    "\n",
    "ax.spines['right'].set_visible(False)\n",
    "ax.spines['top'].set_visible(False)\n",
    "\n",
    "plt.savefig(os.path.join(OUTDIR, 'gwas.xte.effect_by_family_by_direction.count.svg'), format = 'svg', dpi = 600, transparent = True)\n",
    "plt.show()\n"
   ]
  },
  {
   "cell_type": "markdown",
   "metadata": {},
   "source": [
    "#### Examples of disease-related variants and gene"
   ]
  },
  {
   "cell_type": "code",
   "execution_count": 25,
   "metadata": {
    "scrolled": false
   },
   "outputs": [
    {
     "name": "stdout",
     "output_type": "stream",
     "text": [
      "\n",
      "##########\n",
      "SLC9A3R2\n",
      "\n",
      "Associated conditions-\t body mass index\n",
      "\t\t\terythrocyte count \n",
      "\n",
      "variantID                              rs3211995\n",
      "chrom                                      chr16\n",
      "position                                 2039005\n",
      "strand                                         +\n",
      "reference                                      G\n",
      "alternate                                      A\n",
      "gene                                    SLC9A3R2\n",
      "geneStrand                                     +\n",
      "affectedMotif            created_AATAAA_SLC9A3R2\n",
      "positionTest                             2039027\n",
      "testSiteDistStranded                         -21\n",
      "referenceFeature          extended_terminal_exon\n",
      "referenceClassprob                      0.826641\n",
      "alternateClassprob                      0.999415\n",
      "deltaClassification                     0.172774\n",
      "referenceStrength                       -6.65052\n",
      "alternateStrength                      -0.609736\n",
      "deltaStrength                            6.04079\n",
      "referenceStrengthProb                 0.00985578\n",
      "alternateStrengthProb                   0.395886\n",
      "deltaStrengthProb                        0.38603\n",
      "referenceICprob                              NaN\n",
      "alternateICprob                              NaN\n",
      "referenceISprob                              NaN\n",
      "alternateISprob                              NaN\n",
      "affectedMotifs             created_AATAAA|AATAAA\n",
      "condition                        body mass index\n",
      "clinical_significance                        NaN\n",
      "Name: 34, dtype: object\n"
     ]
    },
    {
     "name": "stderr",
     "output_type": "stream",
     "text": [
      "/home/esk863/.local/lib/python3.6/site-packages/pandas/core/series.py:1152: FutureWarning: \n",
      "Passing list-likes to .loc or [] with any missing label will raise\n",
      "KeyError in the future, you can use .reindex() as an alternative.\n",
      "\n",
      "See the documentation here:\n",
      "https://pandas.pydata.org/pandas-docs/stable/user_guide/indexing.html#deprecate-loc-reindex-listlike\n",
      "  return self.loc[key]\n"
     ]
    },
    {
     "data": {
      "image/png": "[encoded data removed]",
      "text/plain": [
       "<Figure size 51.48x14.4 with 2 Axes>"
      ]
     },
     "metadata": {
      "needs_background": "light"
     },
     "output_type": "display_data"
    },
    {
     "name": "stdout",
     "output_type": "stream",
     "text": [
      "ACTTTGCACTTCCCTCCCGGGCCCCGCACCCCCGAACCGACCACCGATCGACCGGCACCGCTGTTGCCTCGTAAGCCATAGCGCATGCGCGCTCTCAGGATAAACAGGCCCTGCCTGGGACCCACACGCCTCTGTCTTTTCTGAGCCTCCTCCCCGTGGGGTGAGAGGGGTGGAGGGATGAGGCTGTTTCAGGGAGCCCCCTCCCCGAGTCTCAGCAGCTGGAAACGGTCTCGTTCCTGA\n",
      "ACTTTGCACTTCCCTCCCGGGCCCCGCACCCCCGAACCGACCACCGATCGACCGGCACCGCTGTTGCCTCGTAAGCCATAGCGCATGCGCGCTCTCAGAATAAACAGGCCCTGCCTGGGACCCACACGCCTCTGTCTTTTCTGAGCCTCCTCCCCGTGGGGTGAGAGGGGTGGAGGGATGAGGCTGTTTCAGGGAGCCCCCTCCCCGAGTCTCAGCAGCTGGAAACGGTCTCGTTCCTGA\n"
     ]
    }
   ],
   "source": [
    "example_cols = ['variantID', 'chrom', 'position', 'strand', 'reference', 'alternate',\n",
    "                'gene', 'geneStrand', 'affectedMotif', 'positionTest', 'testSiteDistStranded','referenceFeature',\n",
    "                'referenceClassprob', 'alternateClassprob','deltaClassification',\n",
    "                'referenceStrength', 'alternateStrength', 'deltaStrength',\n",
    "                'referenceStrengthProb', 'alternateStrengthProb', 'deltaStrengthProb',\n",
    "                'referenceICprob', 'alternateICprob', 'referenceISprob', 'alternateISprob',\n",
    "                'affectedMotifs', 'condition',\n",
    "                'clinical_significance']\n",
    "\n",
    "example_ids = ['rs3211995']\n",
    "example_gene = ['SLC9A3R2']\n",
    "example_range = [(120-25,120-15+1)]\n",
    "\n",
    "for eid, egene, erange in zip(example_ids, example_gene, example_range):\n",
    "    \n",
    "    if (eid == ''):\n",
    "        continue\n",
    "    \n",
    "    print(f\"\\n##########\\n{egene}\")\n",
    "    print(\"\\nAssociated conditions-\\t\", \"\\n\\t\\t\\t\".join(sorted(set(gwas_filt_long.loc[(gwas_filt_long['variantID'] == eid) & (~gwas_filt_long['condition'].isin(['not_provided','not_specified','NA'])), 'condition'].tolist()))), \"\\n\")\n",
    "    print(gwas_filt_long.loc[gwas_filt_long['variantID'] == eid].iloc[0][example_cols])\n",
    "    \n",
    "    e_name = f'ukbb.{eid}.{egene}'\n",
    "    e_data = gwas_filt_long.loc[(gwas_filt_long['variantID'] == eid) & (gwas_filt_long['gene'] == egene)].iloc[0]\n",
    "\n",
    "    genetics.plot_variant_logo(os.path.join(OUTDIR, f'variant_examples.gwas.{e_name}.svg'),\n",
    "                               e_data['referenceSequence'], e_data['alternateSequence'], \n",
    "                               erange, [120+e_data['testSiteDistStranded']-len(e_data['reference'])])\n",
    "    \n",
    "    print(e_data['referenceSequence'])\n",
    "    print(e_data['alternateSequence'])\n"
   ]
  },
  {
   "cell_type": "code",
   "execution_count": null,
   "metadata": {},
   "outputs": [],
   "source": []
  }
 ],
 "metadata": {
  "kernelspec": {
   "display_name": "Python (tf-train)",
   "language": "python",
   "name": "tf-train"
  },
  "language_info": {
   "codemirror_mode": {
    "name": "ipython",
    "version": 3
   },
   "file_extension": ".py",
   "mimetype": "text/x-python",
   "name": "python",
   "nbconvert_exporter": "python",
   "pygments_lexer": "ipython3",
   "version": "3.6.12"
  }
 },
 "nbformat": 4,
 "nbformat_minor": 2
}
