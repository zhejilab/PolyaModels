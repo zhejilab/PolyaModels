{
 "cells": [
  {
   "cell_type": "markdown",
   "metadata": {},
   "source": [
    "# Figure 6: Terminal exon site analysis"
   ]
  },
  {
   "cell_type": "code",
   "execution_count": 1,
   "metadata": {},
   "outputs": [],
   "source": [
    "%load_ext autoreload"
   ]
  },
  {
   "cell_type": "code",
   "execution_count": 2,
   "metadata": {},
   "outputs": [],
   "source": [
    "%autoreload 2"
   ]
  },
  {
   "cell_type": "code",
   "execution_count": 3,
   "metadata": {},
   "outputs": [
    {
     "name": "stderr",
     "output_type": "stream",
     "text": [
      "Using TensorFlow backend.\n"
     ]
    }
   ],
   "source": [
    "%run -i notebook_setup.py"
   ]
  },
  {
   "cell_type": "markdown",
   "metadata": {},
   "source": [
    "## IMPORTS AND SETUP"
   ]
  },
  {
   "cell_type": "code",
   "execution_count": 4,
   "metadata": {},
   "outputs": [],
   "source": [
    "import utilities\n",
    "from utilities import genomic_context\n",
    "\n",
    "import statsmodels.formula.api as smf\n",
    "from sklearn.preprocessing import StandardScaler\n",
    "from statsmodels.stats.proportion import test_proportions_2indep\n"
   ]
  },
  {
   "cell_type": "code",
   "execution_count": 5,
   "metadata": {},
   "outputs": [],
   "source": [
    "PROJECT = \"/projects/b1080/eks/polyadenylation\"\n",
    "DATADIR = os.path.join(PROJECT, \"manuscripts\", \"01_development\", \"data\")\n",
    "RESDIR  = os.path.join(PROJECT, \"manuscripts\", \"01_development\", \"analysis\", \"resources\")\n",
    "OUTDIR  = os.path.join(PROJECT, \"manuscripts\", \"01_development\", \"figures\", \"Figure_06\")\n",
    "os.makedirs(OUTDIR, exist_ok = True)\n"
   ]
  },
  {
   "cell_type": "markdown",
   "metadata": {},
   "source": [
    "## Data loading and preparation"
   ]
  },
  {
   "cell_type": "code",
   "execution_count": 6,
   "metadata": {},
   "outputs": [
    {
     "name": "stdout",
     "output_type": "stream",
     "text": [
      "\n",
      "Strongest all:\t (22410, 50)\n",
      "\n",
      "Downstream gene orientation:\n",
      " antisense    12760\n",
      "sense         9650\n",
      "Name: downGeneType, dtype: int64\n"
     ]
    }
   ],
   "source": [
    "strongest_comb = pd.read_csv(os.path.join(RESDIR, f'20220121-215928.denom.all.te.strongest_vs_random.comb.txt'), sep = \"\\t\")\n",
    "\n",
    "strongest_comb['predictedStrength'] = strongest_comb['predicted_logit'].copy()\n",
    "strongest_comb['matchStrength'] = strongest_comb['relstrength'] + strongest_comb['predictedStrength']\n",
    "\n",
    "strongest_comb.loc[strongest_comb['distance_downstream_gene_antisense_log10'] >= strongest_comb['distance_downstream_gene_sense_log10'], 'downGeneType'] = 'sense'\n",
    "strongest_comb.loc[strongest_comb['distance_downstream_gene_antisense_log10']  < strongest_comb['distance_downstream_gene_sense_log10'], 'downGeneType'] = 'antisense'\n",
    "\n",
    "strongest_comb['downSenseDist']     = strongest_comb['distance_downstream_gene_sense_log10']\n",
    "strongest_comb['downAntisenseDist'] = strongest_comb['distance_downstream_gene_antisense_log10']\n",
    "\n",
    "print(\"\\nStrongest all:\\t\", strongest_comb.shape)\n",
    "print(\"\\nDownstream gene orientation:\\n\", strongest_comb.downGeneType.value_counts())\n"
   ]
  },
  {
   "cell_type": "markdown",
   "metadata": {},
   "source": [
    "#### Subset pairs of terminal exonic sites meeting criteria"
   ]
  },
  {
   "cell_type": "code",
   "execution_count": 7,
   "metadata": {},
   "outputs": [
    {
     "name": "stdout",
     "output_type": "stream",
     "text": [
      "(22222, 50)\n",
      "(14600, 50)\n"
     ]
    }
   ],
   "source": [
    "strongest_comb = strongest_comb.loc[~((strongest_comb['downGeneType'] == 'sense') & (strongest_comb['distance_down_log10'] == 0))].copy()\n",
    "\n",
    "ext_te_genes = strongest_comb.loc[strongest_comb['feature'] == 'extended_terminal_exon', 'gene'].tolist()\n",
    "strongest_comb2 = strongest_comb.loc[~strongest_comb['gene'].isin(ext_te_genes)]\n",
    "\n",
    "print(strongest_comb.shape)\n",
    "print(strongest_comb2.shape)\n"
   ]
  },
  {
   "cell_type": "code",
   "execution_count": 8,
   "metadata": {},
   "outputs": [
    {
     "name": "stdout",
     "output_type": "stream",
     "text": [
      "(16334, 50)\n"
     ]
    }
   ],
   "source": [
    "relusage_cutoff = 3\n",
    "reldist_cutoff_lo = np.log10(100)\n",
    "reldist_cutoff_hi = 4\n",
    "\n",
    "mdata = strongest_comb.copy()\n",
    "\n",
    "cond1 = (np.abs(mdata['relusage']) >= relusage_cutoff)\n",
    "cond2 = (np.abs(mdata['reldist']) >= reldist_cutoff_lo)\n",
    "cond3 = (np.abs(mdata['reldist']) <= reldist_cutoff_hi)\n",
    "\n",
    "strongest_filt = mdata.loc[cond1 & cond2]\n",
    "print(strongest_filt.shape)\n",
    "    "
   ]
  },
  {
   "cell_type": "markdown",
   "metadata": {},
   "source": [
    "#### Partition and scale data to normalize mean and standard deviation"
   ]
  },
  {
   "cell_type": "code",
   "execution_count": 9,
   "metadata": {},
   "outputs": [],
   "source": [
    "termex_names_minimal = [\n",
    "    'downAntisenseDist',\n",
    "    'distance_first_upstream3ss_log10',\n",
    "    'up_intron_log10',\n",
    "    'predictedStrength',\n",
    "    'matchStrength',\n",
    "    'relstrength',\n",
    "    'reldist'\n",
    "]\n",
    "\n",
    "termex_names_plus =  termex_names_minimal + ['downSenseDist', 'score_first_upstream3ss']\n"
   ]
  },
  {
   "cell_type": "code",
   "execution_count": 10,
   "metadata": {},
   "outputs": [
    {
     "name": "stdout",
     "output_type": "stream",
     "text": [
      "After filtering for: ('comppos', 'proximal')\n",
      "\tAll data =  (11111, 50)\n",
      "\tFilt data =  (8167, 50)\n",
      "\tTrain/test splits =  train    6584\n",
      "val       793\n",
      "test      790\n",
      "Name: split, dtype: int64\n",
      "CAT: []\n",
      "NONCAT: ['downAntisenseDist', 'distance_first_upstream3ss_log10', 'up_intron_log10', 'predictedStrength', 'matchStrength', 'relstrength', 'reldist', 'downSenseDist', 'score_first_upstream3ss']\n"
     ]
    }
   ],
   "source": [
    "prox_filt, prox_all, prox_tr, prox_te, prox_scaler = genomic_context.prep_data(mdata, strongest_filt, termex_names_plus, 'relscore', 'score_logit', categorical = [], subset = ('comppos', 'proximal'))\n",
    "\n",
    "(pXall_m, pXall_s, pYall_c, pYall_r) = prox_all\n",
    "(pXtr_o_all, pXtr_s_all, pYtr_c_all, pYtr_r_all, pXtr_o_filt, pXtr_s_filt, pYtr_c_filt, pYtr_r_filt) = prox_tr\n",
    "(pXte_o_all, pXte_s_all, pYte_c_all, pYte_r_all, pXte_o_filt, pXte_s_filt, pYte_c_filt, pYte_r_filt) = prox_te\n",
    "\n",
    "pAll_c = pXall_m\n",
    "pAll_c['outcome'] = pYall_c\n",
    "\n",
    "pTr_c_filt = pXtr_s_filt\n",
    "pTr_c_filt['outcome'] = pYtr_c_filt\n",
    "\n",
    "pTe_c_filt = pXte_s_filt\n",
    "pTe_c_filt['outcome'] = pYte_c_filt\n"
   ]
  },
  {
   "cell_type": "markdown",
   "metadata": {},
   "source": [
    "### Comparison Models"
   ]
  },
  {
   "cell_type": "code",
   "execution_count": 11,
   "metadata": {},
   "outputs": [],
   "source": [
    "feature_dict = {\n",
    "    'predictedStrength' : 'PolyaStrength of proximal site',\n",
    "    'matchStrength'     : 'PolyaStrength of paired distal site',\n",
    "    'relstrength'       : 'Difference in PolyaStrength (distal-proximal)',\n",
    "    'reldist'           : 'Distance between sites (log10)',\n",
    "    'up_intron_log10'   : 'Upstream intron size (log10)',\n",
    "    'downAntisenseDist' : 'Downstream antisense gene distance (log10)',\n",
    "}\n"
   ]
  },
  {
   "cell_type": "markdown",
   "metadata": {},
   "source": [
    "#### Fit logistic regression model"
   ]
  },
  {
   "cell_type": "code",
   "execution_count": 12,
   "metadata": {},
   "outputs": [
    {
     "name": "stdout",
     "output_type": "stream",
     "text": [
      "                           Logit Regression Results                           \n",
      "==============================================================================\n",
      "Dep. Variable:                outcome   No. Observations:                 7377\n",
      "Model:                          Logit   Df Residuals:                     7372\n",
      "Method:                           MLE   Df Model:                            4\n",
      "Date:                Sat, 15 Jul 2023   Pseudo R-squ.:                  0.5208\n",
      "Time:                        03:17:08   Log-Likelihood:                -2431.4\n",
      "converged:                       True   LL-Null:                       -5074.2\n",
      "Covariance Type:            nonrobust   LLR p-value:                     0.000\n",
      "=====================================================================================\n",
      "                        coef    std err          z      P>|z|      [0.025      0.975]\n",
      "-------------------------------------------------------------------------------------\n",
      "Intercept             0.4888      0.037     13.081      0.000       0.416       0.562\n",
      "relstrength          -3.0634      0.072    -42.746      0.000      -3.204      -2.923\n",
      "up_intron_log10      -0.1846      0.037     -4.924      0.000      -0.258      -0.111\n",
      "reldist               0.6058      0.040     15.140      0.000       0.527       0.684\n",
      "downAntisenseDist    -0.1725      0.036     -4.762      0.000      -0.244      -0.102\n",
      "=====================================================================================\n",
      "FFO AUROC: Train =  0.9332169082086846 , Test =  0.9285852713178295\n",
      "FFO AUPRC: Train =  0.9412062039876359 , Test =  0.9381424885785361\n"
     ]
    }
   ],
   "source": [
    "ffo_pmod = smf.logit(formula = \"outcome ~ relstrength + up_intron_log10 + reldist + downAntisenseDist\", \n",
    "                        data = pTr_c_filt).fit(disp = 0)\n",
    "print(ffo_pmod.summary())\n",
    "\n",
    "ffo_all_pred_c     = ffo_pmod.predict(pAll_c)\n",
    "ffo_filt_tr_pred_c = ffo_pmod.predict(pTr_c_filt)\n",
    "ffo_filt_te_pred_c = ffo_pmod.predict(pTe_c_filt)\n",
    "\n",
    "ffo_tr_auroc, ffo_tr_auprc = genomic_context.calculate_auc(pYtr_c_filt, ffo_filt_tr_pred_c)\n",
    "ffo_te_auroc, ffo_te_auprc = genomic_context.calculate_auc(pYte_c_filt, ffo_filt_te_pred_c)\n",
    "print(\"FFO AUROC: Train = \", ffo_tr_auroc, \", Test = \", ffo_te_auroc)\n",
    "print(\"FFO AUPRC: Train = \", ffo_tr_auprc, \", Test = \", ffo_te_auprc)\n",
    "\n",
    "with open(os.path.join(OUTDIR, 'proximal_comparison.model.pickle'), mode = 'wb') as handle:\n",
    "    pickle.dump(ffo_pmod, handle)\n",
    "    \n",
    "with open(os.path.join(OUTDIR, 'proximal_comparison.scaler.pickle'), mode = 'wb') as handle:\n",
    "    pickle.dump(prox_scaler, handle)\n",
    "    \n",
    "with open(os.path.join(OUTDIR, 'proximal_comparison.training.pickle'), mode = 'wb') as handle:\n",
    "    pickle.dump(prox_tr, handle)\n",
    "    \n",
    "with open(os.path.join(OUTDIR, 'proximal_comparison.testing.pickle'), mode = 'wb') as handle:\n",
    "    pickle.dump(prox_te, handle)\n"
   ]
  },
  {
   "cell_type": "markdown",
   "metadata": {},
   "source": [
    "#### Combining Original Data and Model Predictions"
   ]
  },
  {
   "cell_type": "code",
   "execution_count": 13,
   "metadata": {},
   "outputs": [
    {
     "name": "stdout",
     "output_type": "stream",
     "text": [
      "true_negative     0.463144\n",
      "false_negative    0.257683\n",
      "true_positive     0.242317\n",
      "false_positive    0.036856\n",
      "Name: pred_type, dtype: float64\n",
      "true_negative     0.464765\n",
      "false_negative    0.301683\n",
      "true_positive     0.199172\n",
      "false_positive    0.034380\n",
      "Name: pred_type, dtype: float64\n"
     ]
    }
   ],
   "source": [
    "## match up predictions to original data\n",
    "\n",
    "# all\n",
    "\n",
    "strongest_pred_all = mdata.copy()\n",
    "\n",
    "strongest_pred_all.loc[pYall_c.index, 'pred_prob'] = ffo_all_pred_c\n",
    "\n",
    "strongest_pred_all['pred_class']     = (strongest_pred_all['pred_prob'] >= 0.5).astype(int)\n",
    "strongest_pred_all['pred_prob_clip'] = np.clip(strongest_pred_all['pred_prob'], 1e-6, 1 - 1e-6)\n",
    "strongest_pred_all['pred_prob_or']   = np.log2(strongest_pred_all['pred_prob_clip'] / (1 - strongest_pred_all['pred_prob_clip']))\n",
    "\n",
    "strongest_pred_all.loc[(strongest_pred_all['relscore'] == 1) & (strongest_pred_all['pred_class'] == 1), 'pred_type'] = 'true_positive'\n",
    "strongest_pred_all.loc[(strongest_pred_all['relscore'] == 1) & (strongest_pred_all['pred_class'] == 0), 'pred_type'] = 'false_negative'\n",
    "strongest_pred_all.loc[(strongest_pred_all['relscore'] == 0) & (strongest_pred_all['pred_class'] == 1), 'pred_type'] = 'false_positive'\n",
    "strongest_pred_all.loc[(strongest_pred_all['relscore'] == 0) & (strongest_pred_all['pred_class'] == 0), 'pred_type'] = 'true_negative'\n",
    "\n",
    "# filtered\n",
    "\n",
    "strongest_pred = strongest_filt.copy()\n",
    "\n",
    "strongest_pred.loc[ffo_filt_tr_pred_c.index, 'pred_prob'] = ffo_filt_tr_pred_c\n",
    "strongest_pred.loc[ffo_filt_te_pred_c.index, 'pred_prob'] = ffo_filt_te_pred_c\n",
    "\n",
    "strongest_pred['pred_class']     = (strongest_pred['pred_prob'] >= 0.5).astype(int)\n",
    "strongest_pred['pred_prob_clip'] = np.clip(strongest_pred['pred_prob'], 1e-6, 1 - 1e-6)\n",
    "strongest_pred['pred_prob_or']   = np.log2(strongest_pred['pred_prob_clip'] / (1 - strongest_pred['pred_prob_clip']))\n",
    "\n",
    "strongest_pred.loc[(strongest_pred['relscore'] == 1) & (strongest_pred['pred_class'] == 1), 'pred_type'] = 'true_positive'\n",
    "strongest_pred.loc[(strongest_pred['relscore'] == 1) & (strongest_pred['pred_class'] == 0), 'pred_type'] = 'false_negative'\n",
    "strongest_pred.loc[(strongest_pred['relscore'] == 0) & (strongest_pred['pred_class'] == 1), 'pred_type'] = 'false_positive'\n",
    "strongest_pred.loc[(strongest_pred['relscore'] == 0) & (strongest_pred['pred_class'] == 0), 'pred_type'] = 'true_negative'\n",
    "\n",
    "print(strongest_pred.pred_type.value_counts() / len(strongest_pred))\n",
    "print(strongest_pred_all.pred_type.value_counts() / len(strongest_pred_all))\n"
   ]
  },
  {
   "cell_type": "code",
   "execution_count": 14,
   "metadata": {},
   "outputs": [],
   "source": [
    "matched_sites_dict = {}\n",
    "\n",
    "for i, row in strongest_pred.iterrows():\n",
    "    \n",
    "    if (row['gene'] not in matched_sites_dict):\n",
    "        matched_sites_dict[row['gene']] = {}\n",
    "    \n",
    "    matched_sites_dict[row['gene']][row['comppos']] = {\n",
    "        'comptype' : row['comptype'], \n",
    "        'pred_prob' : row['pred_prob'],\n",
    "    }\n",
    "\n",
    "strongest_pred['pred_prob_norm']      = strongest_pred.apply(lambda row : row['pred_prob'] / (matched_sites_dict[row['gene']]['proximal']['pred_prob'] + matched_sites_dict[row['gene']]['distal']['pred_prob']), axis = 1)\n",
    "strongest_pred['pred_prob_norm_clip'] = np.clip(strongest_pred['pred_prob_norm'], 1e-6, 1 - 1e-6)\n",
    "strongest_pred['pred_prob_norm_or']   = np.log2(strongest_pred['pred_prob_norm_clip'] / (1 - strongest_pred['pred_prob_norm_clip']))\n"
   ]
  },
  {
   "cell_type": "markdown",
   "metadata": {},
   "source": [
    "## Classification Performance"
   ]
  },
  {
   "cell_type": "code",
   "execution_count": 15,
   "metadata": {},
   "outputs": [
    {
     "data": {
      "image/png": "[encoded data removed]",
      "text/plain": [
       "<Figure size 126x126 with 1 Axes>"
      ]
     },
     "metadata": {
      "needs_background": "light"
     },
     "output_type": "display_data"
    },
    {
     "name": "stdout",
     "output_type": "stream",
     "text": [
      "Corresponding metrics:\n",
      "\tTest AUROC = 0.9285852713178295\n"
     ]
    }
   ],
   "source": [
    "fig,ax = plt.subplots(1, 1, figsize = (1.75,1.75))\n",
    "\n",
    "prox_auc = genomic_context.plot_roc(ax, \n",
    "                                    strongest_pred.loc[(strongest_pred['comppos'] == 'proximal') & (strongest_pred['split'] == 'test'), 'relscore'], \n",
    "                                    strongest_pred.loc[(strongest_pred['comppos'] == 'proximal') & (strongest_pred['split'] == 'test'), 'pred_prob'],\n",
    "                                    'Test')\n",
    "\n",
    "\n",
    "ax.xaxis.set_major_locator(MultipleLocator(0.5))\n",
    "ax.yaxis.set_major_locator(MultipleLocator(0.5))\n",
    "\n",
    "ax.get_legend().remove()\n",
    "\n",
    "plt.tight_layout()\n",
    "plt.savefig(os.path.join(OUTDIR, 'classification_roc.proximal_test.svg'), format = 'svg', dpi = 600, transparent = True)\n",
    "plt.show()\n",
    "\n",
    "\n",
    "print(\"Corresponding metrics:\")\n",
    "print(f\"\\tTest AUROC = {prox_auc}\")\n"
   ]
  },
  {
   "cell_type": "markdown",
   "metadata": {},
   "source": [
    "## Validation of site usage predictions using ENCODE RNA-seq"
   ]
  },
  {
   "cell_type": "code",
   "execution_count": 16,
   "metadata": {},
   "outputs": [
    {
     "name": "stdout",
     "output_type": "stream",
     "text": [
      "(8167, 58)\n"
     ]
    }
   ],
   "source": [
    "ENCODE_DIR = os.path.join(PROJECT, \"model\", \"rna_validation\", \"encode_project\")\n",
    "\n",
    "strongest_prox = strongest_pred.loc[strongest_pred['comppos'] == 'proximal'].copy()\n",
    "print(strongest_prox.shape)\n"
   ]
  },
  {
   "cell_type": "code",
   "execution_count": 17,
   "metadata": {},
   "outputs": [
    {
     "name": "stdout",
     "output_type": "stream",
     "text": [
      "Original data shape: (8167, 58)\n",
      "Filtered data shape: (8162, 58)\n",
      "Output results shape: (8162, 2)\n"
     ]
    },
    {
     "data": {
      "image/png": "[encoded data removed]",
      "text/plain": [
       "<Figure size 126x126 with 1 Axes>"
      ]
     },
     "metadata": {
      "needs_background": "light"
     },
     "output_type": "display_data"
    }
   ],
   "source": [
    "fig, ax = plt.subplots(1,1, figsize = (1.75,1.75))\n",
    "\n",
    "distance = 20\n",
    "prox_a172_res = genomic_context.quantify_reads_around(strongest_prox, ENCODE_DIR, 'A172', distance = distance, subset = [('distance_first_upstream3ss_log10', np.log10(distance))])\n",
    "genomic_context.make_read_plots(ax, prox_a172_res, 'proximal_terminal_exon', 'A172', distance)\n",
    "\n",
    "ax.spines['right'].set_visible(False)\n",
    "ax.spines['top'].set_visible(False)\n",
    "\n",
    "ax.get_legend().remove()\n",
    "ax.set_ylim((-1,1))\n",
    "\n",
    "plt.tight_layout(rect = [0, 0.03, 0.97, 1])\n",
    "plt.savefig(os.path.join(OUTDIR, 'rna_validation.proximal.svg'), format = 'svg', dpi = 600, transparent = True)\n",
    "plt.show()\n"
   ]
  },
  {
   "cell_type": "markdown",
   "metadata": {},
   "source": [
    "## Confirmatory boxplots for model predictors"
   ]
  },
  {
   "cell_type": "code",
   "execution_count": 18,
   "metadata": {
    "scrolled": false
   },
   "outputs": [
    {
     "name": "stdout",
     "output_type": "stream",
     "text": [
      "Low     4084\n",
      "High    4083\n",
      "Name: cuts, dtype: int64\n"
     ]
    }
   ],
   "source": [
    "hilo_perc = 50\n",
    "hilo_cuts = [0, (100-hilo_perc)/100, 1]\n",
    "hilo_labs = ['Low', 'High']\n",
    "palette   = [\"#a4c9e3\", \"#245475\"]\n",
    "\n",
    "strongest_prox['cuts'], cut_bins = pd.qcut(strongest_prox['score_logit'], q = hilo_cuts, labels = hilo_labs, retbins = True)\n",
    "print(strongest_prox['cuts'].value_counts())\n"
   ]
  },
  {
   "cell_type": "code",
   "execution_count": 19,
   "metadata": {},
   "outputs": [],
   "source": [
    "selected_features = ['predictedStrength', 'matchStrength', 'relstrength', 'up_intron_log10', 'reldist', 'downAntisenseDist']\n",
    "selected_labels   = [feature_dict[f] for f in selected_features]\n"
   ]
  },
  {
   "cell_type": "markdown",
   "metadata": {},
   "source": [
    "#### PolyaStrength by site usage"
   ]
  },
  {
   "cell_type": "code",
   "execution_count": 20,
   "metadata": {},
   "outputs": [
    {
     "name": "stdout",
     "output_type": "stream",
     "text": [
      "PolyaStrength of proximal site:\n",
      "N_Low\tN=4084\n",
      "N_High\tN=4083\n",
      "Baseline\tWRS P-val = 0.000E+00\n"
     ]
    },
    {
     "data": {
      "image/png": "[encoded data removed]",
      "text/plain": [
       "<Figure size 54x90 with 1 Axes>"
      ]
     },
     "metadata": {
      "needs_background": "light"
     },
     "output_type": "display_data"
    }
   ],
   "source": [
    "genomic_context.boxplot_features_outcome(OUTDIR, strongest_prox, 'te',\n",
    "                                         ['predictedStrength'], [feature_dict.get(\"predictedStrength\")],\n",
    "                                         'cuts', ['Low','High'], palette,\n",
    "                                         figsize = (0.75,1.25), ylims_main=(-12,8), ytickint_main = 4)\n"
   ]
  },
  {
   "cell_type": "markdown",
   "metadata": {},
   "source": [
    "#### Paired site strength by site usage"
   ]
  },
  {
   "cell_type": "code",
   "execution_count": 21,
   "metadata": {},
   "outputs": [
    {
     "name": "stdout",
     "output_type": "stream",
     "text": [
      "PolyaStrength of paired distal site:\n",
      "N_Low\tN=4084\n",
      "N_High\tN=4083\n",
      "Baseline\tWRS P-val = 0.000E+00\n"
     ]
    },
    {
     "data": {
      "image/png": "[encoded data removed]",
      "text/plain": [
       "<Figure size 54x90 with 1 Axes>"
      ]
     },
     "metadata": {
      "needs_background": "light"
     },
     "output_type": "display_data"
    }
   ],
   "source": [
    "genomic_context.boxplot_features_outcome(OUTDIR, strongest_prox, 'te',\n",
    "                                         [selected_features[1]], [selected_labels[1]],\n",
    "                                         'cuts', ['Low','High'], palette,\n",
    "                                         figsize = (0.75,1.25), ylims_main=(-12,8), ytickint_main = 4)\n"
   ]
  },
  {
   "cell_type": "code",
   "execution_count": 22,
   "metadata": {},
   "outputs": [
    {
     "name": "stdout",
     "output_type": "stream",
     "text": [
      "Difference in PolyaStrength (distal-proximal):\n",
      "N_Low\tN=4084\n",
      "N_High\tN=4083\n",
      "Baseline\tWRS P-val = 0.000E+00\n"
     ]
    },
    {
     "data": {
      "image/png": "[encoded data removed]",
      "text/plain": [
       "<Figure size 54x90 with 1 Axes>"
      ]
     },
     "metadata": {
      "needs_background": "light"
     },
     "output_type": "display_data"
    }
   ],
   "source": [
    "genomic_context.boxplot_features_outcome(OUTDIR, strongest_prox, 'te',\n",
    "                                         [selected_features[2]], [selected_labels[2]],\n",
    "                                         'cuts', ['Low','High'], palette,\n",
    "                                         figsize = (0.75,1.25), ylims_main=(-16,16), ytickint_main = 8)\n"
   ]
  },
  {
   "cell_type": "markdown",
   "metadata": {},
   "source": [
    "#### Genomic features after controlling for PolyaStrength and strength difference via quantile sampling"
   ]
  },
  {
   "cell_type": "code",
   "execution_count": 23,
   "metadata": {
    "scrolled": false
   },
   "outputs": [
    {
     "name": "stdout",
     "output_type": "stream",
     "text": [
      "STARTING QUANTILE SAMPLING\n",
      "Sampling by predictedStrength, relstrength\n"
     ]
    },
    {
     "name": "stderr",
     "output_type": "stream",
     "text": [
      "/projects/b1080/eks/polyadenylation/manuscripts/01_development/utilities/genomic_context.py:282: FutureWarning: \n",
      "Passing list-likes to .loc or [] with any missing label will raise\n",
      "KeyError in the future, you can use .reindex() as an alternative.\n",
      "\n",
      "See the documentation here:\n",
      "https://pandas.pydata.org/pandas-docs/stable/user_guide/indexing.html#deprecate-loc-reindex-listlike\n",
      "  bin_cut_mins = bin_cut_counts.loc[bin_cut_counts.groupby(sample_var_bins)['count'].idxmin()].copy()\n"
     ]
    },
    {
     "name": "stdout",
     "output_type": "stream",
     "text": [
      "Final state: 2755630887 0.7964786770380483 0.08867718264422435\n",
      "Upstream intron size (log10):\n",
      "N_Low\tN=1048\n",
      "N_High\tN=1048\n",
      "Baseline\tWRS P-val = 3.027E-11\n"
     ]
    },
    {
     "data": {
      "image/png": "[encoded data removed]",
      "text/plain": [
       "<Figure size 54x90 with 1 Axes>"
      ]
     },
     "metadata": {
      "needs_background": "light"
     },
     "output_type": "display_data"
    }
   ],
   "source": [
    "p_sampled = genomic_context.twovar_quantile_sampling(OUTDIR, strongest_prox, \n",
    "                                                     selected_features[3], selected_labels[3],\n",
    "                                                     'score_logit', 'Actual usage (logit)', \n",
    "                                                     ['predictedStrength','relstrength'],\n",
    "                                                     hilo_labs = ['Low','High'],\n",
    "                                                     random_state = 2755630887)\n",
    "\n",
    "genomic_context.boxplot_features_outcome(OUTDIR, p_sampled, 'te',\n",
    "                                         [selected_features[3]], [selected_labels[3]],\n",
    "                                         'cuts', ['Low','High'], palette,\n",
    "                                         figsize = (0.75,1.25), ylims_main=(1.75,5), ytickint_main = 1)\n"
   ]
  },
  {
   "cell_type": "code",
   "execution_count": 24,
   "metadata": {},
   "outputs": [
    {
     "name": "stdout",
     "output_type": "stream",
     "text": [
      "STARTING QUANTILE SAMPLING\n",
      "Sampling by predictedStrength, relstrength\n"
     ]
    },
    {
     "name": "stderr",
     "output_type": "stream",
     "text": [
      "/projects/b1080/eks/polyadenylation/manuscripts/01_development/utilities/genomic_context.py:282: FutureWarning: \n",
      "Passing list-likes to .loc or [] with any missing label will raise\n",
      "KeyError in the future, you can use .reindex() as an alternative.\n",
      "\n",
      "See the documentation here:\n",
      "https://pandas.pydata.org/pandas-docs/stable/user_guide/indexing.html#deprecate-loc-reindex-listlike\n",
      "  bin_cut_mins = bin_cut_counts.loc[bin_cut_counts.groupby(sample_var_bins)['count'].idxmin()].copy()\n"
     ]
    },
    {
     "name": "stdout",
     "output_type": "stream",
     "text": [
      "Final state: 2898731213 0.9831840702938913 0.05016060333087182\n",
      "Distance between sites (log10):\n",
      "N_Low\tN=1048\n",
      "N_High\tN=1048\n",
      "Baseline\tWRS P-val = 1.111E-22\n"
     ]
    },
    {
     "data": {
      "image/png": "[encoded data removed]",
      "text/plain": [
       "<Figure size 54x90 with 1 Axes>"
      ]
     },
     "metadata": {
      "needs_background": "light"
     },
     "output_type": "display_data"
    }
   ],
   "source": [
    "p_sampled = genomic_context.twovar_quantile_sampling(OUTDIR, strongest_prox, \n",
    "                                                     selected_features[4], selected_labels[4],\n",
    "                                                     'score_logit', 'Actual usage (logit)', \n",
    "                                                     ['predictedStrength','relstrength'],\n",
    "                                                     hilo_labs = ['Low','High'],\n",
    "                                                     random_state = 2898731213)\n",
    "\n",
    "genomic_context.boxplot_features_outcome(OUTDIR, p_sampled, 'te',\n",
    "                                         [selected_features[4]], [selected_labels[4]],\n",
    "                                         'cuts', ['Low','High'], palette,\n",
    "                                         figsize = (0.75,1.25), ylims_main=(1.75,5), ytickint_main = 1)\n"
   ]
  },
  {
   "cell_type": "code",
   "execution_count": 25,
   "metadata": {},
   "outputs": [
    {
     "name": "stdout",
     "output_type": "stream",
     "text": [
      "STARTING QUANTILE SAMPLING\n",
      "Sampling by predictedStrength, relstrength\n"
     ]
    },
    {
     "name": "stderr",
     "output_type": "stream",
     "text": [
      "/projects/b1080/eks/polyadenylation/manuscripts/01_development/utilities/genomic_context.py:282: FutureWarning: \n",
      "Passing list-likes to .loc or [] with any missing label will raise\n",
      "KeyError in the future, you can use .reindex() as an alternative.\n",
      "\n",
      "See the documentation here:\n",
      "https://pandas.pydata.org/pandas-docs/stable/user_guide/indexing.html#deprecate-loc-reindex-listlike\n",
      "  bin_cut_mins = bin_cut_counts.loc[bin_cut_counts.groupby(sample_var_bins)['count'].idxmin()].copy()\n"
     ]
    },
    {
     "name": "stdout",
     "output_type": "stream",
     "text": [
      "Final state: 2465601090 0.9670661246134262 0.0649254512495297\n",
      "Downstream antisense gene distance (log10):\n",
      "N_Low\tN=1048\n",
      "N_High\tN=1048\n",
      "Baseline\tWRS P-val = 2.114E-07\n"
     ]
    },
    {
     "data": {
      "image/png": "[encoded data removed]",
      "text/plain": [
       "<Figure size 54x90 with 1 Axes>"
      ]
     },
     "metadata": {
      "needs_background": "light"
     },
     "output_type": "display_data"
    }
   ],
   "source": [
    "p_sampled = genomic_context.twovar_quantile_sampling(OUTDIR, strongest_prox, \n",
    "                                                     selected_features[5], selected_labels[5],\n",
    "                                                     'score_logit', 'Actual usage (logit)', \n",
    "                                                     ['predictedStrength','relstrength'],\n",
    "                                                     hilo_labs = ['Low','High'],\n",
    "                                                     random_state = 2465601090)\n",
    "\n",
    "genomic_context.boxplot_features_outcome(OUTDIR, p_sampled, 'te',\n",
    "                                         [selected_features[5]], [selected_labels[5]],\n",
    "                                         'cuts', ['Low','High'], palette,\n",
    "                                         figsize = (0.75,1.25), ylims_main=(-0.2,7), ytickint_main = 1)\n"
   ]
  },
  {
   "cell_type": "markdown",
   "metadata": {},
   "source": [
    "#### Visualization of controlled strength and strength difference"
   ]
  },
  {
   "cell_type": "code",
   "execution_count": 26,
   "metadata": {},
   "outputs": [
    {
     "name": "stdout",
     "output_type": "stream",
     "text": [
      "predictedStrength WRS P-val = 9.671E-01\n"
     ]
    },
    {
     "data": {
      "image/png": "[encoded data removed]",
      "text/plain": [
       "<Figure size 54x108 with 1 Axes>"
      ]
     },
     "metadata": {
      "needs_background": "light"
     },
     "output_type": "display_data"
    }
   ],
   "source": [
    "fig,ax = plt.subplots(1,1, figsize = (0.75, 1.5))\n",
    "\n",
    "sns.boxplot(data = p_sampled, x = 'cuts', y = 'predictedStrength', order = ['Low','High'],\n",
    "            hue = 'cuts', hue_order = ['Low','High'], palette = palette, dodge = False,\n",
    "            boxprops = {'edgecolor' : 'black', 'linewidth' : 0.5},\n",
    "            medianprops = {'color' : 'black', 'linewidth' : 0.5},\n",
    "            whiskerprops = {'color' : 'black', 'linewidth' : 0.5},\n",
    "            capprops = {'color' : 'black', 'linewidth' : 0.5},\n",
    "            flierprops = {'color' : 'black'},\n",
    "            ax = ax, showfliers = False)\n",
    "\n",
    "wrs = st.ranksums(p_sampled.loc[p_sampled['cuts'] == 'Low', 'predictedStrength'],\n",
    "                  p_sampled.loc[p_sampled['cuts'] == 'High', 'predictedStrength'])[1]\n",
    "\n",
    "print(f\"predictedStrength WRS P-val = {wrs:.03E}\")\n",
    "\n",
    "ax.set_ylim(-11,2)\n",
    "ax.yaxis.set_major_locator(MultipleLocator(2))\n",
    "ax.set_ylabel('Predicted Strength')\n",
    "\n",
    "ax.set_xticks([])\n",
    "ax.set_xlabel(\"\")\n",
    "\n",
    "ax.legend(bbox_to_anchor = (1.05,1))\n",
    "\n",
    "ax.spines['right'].set_visible(False)\n",
    "ax.spines['top'].set_visible(False)\n",
    "\n",
    "plt.savefig(os.path.join(OUTDIR, f'{selected_features[5]}_by_usage.comppos_proximal.control.predstr.svg'), format = 'svg', dpi = 600, transparent = True)\n",
    "plt.show()\n"
   ]
  },
  {
   "cell_type": "code",
   "execution_count": 27,
   "metadata": {},
   "outputs": [
    {
     "name": "stdout",
     "output_type": "stream",
     "text": [
      "relStrength WRS P-val = 6.493E-02\n"
     ]
    },
    {
     "data": {
      "image/png": "[encoded data removed]",
      "text/plain": [
       "<Figure size 54x108 with 1 Axes>"
      ]
     },
     "metadata": {
      "needs_background": "light"
     },
     "output_type": "display_data"
    }
   ],
   "source": [
    "fig,ax = plt.subplots(1,1, figsize = (0.75, 1.5))\n",
    "\n",
    "sns.boxplot(data = p_sampled, x = 'cuts', y = 'relstrength', order = ['Low','High'],\n",
    "            hue = 'cuts', hue_order = ['Low','High'], palette = palette, dodge = False,\n",
    "            boxprops = {'edgecolor' : 'black', 'linewidth' : 0.5},\n",
    "            medianprops = {'color' : 'black', 'linewidth' : 0.5},\n",
    "            whiskerprops = {'color' : 'black', 'linewidth' : 0.5},\n",
    "            capprops = {'color' : 'black', 'linewidth' : 0.5},\n",
    "            flierprops = {'color' : 'black'},\n",
    "            ax = ax, showfliers = False)\n",
    "\n",
    "wrs = st.ranksums(p_sampled.loc[p_sampled['cuts'] == 'Low', 'relstrength'],\n",
    "                  p_sampled.loc[p_sampled['cuts'] == 'High', 'relstrength'])[1]\n",
    "\n",
    "print(f\"relStrength WRS P-val = {wrs:.03E}\")\n",
    "\n",
    "ax.get_legend().remove()\n",
    "ax.set_ylim(-8,8)\n",
    "ax.yaxis.set_major_locator(MultipleLocator(2))\n",
    "ax.set_ylabel('Relative difference in polyaStrength')\n",
    "\n",
    "ax.set_xticks([])\n",
    "ax.set_xlabel(\"\")\n",
    "\n",
    "ax.spines['right'].set_visible(False)\n",
    "ax.spines['top'].set_visible(False)\n",
    "\n",
    "plt.savefig(os.path.join(OUTDIR, f'{selected_features[5]}_by_usage.comppos_proximal.control.relstrength.svg'), format = 'svg', dpi = 600, transparent = True)\n",
    "plt.show()\n"
   ]
  },
  {
   "cell_type": "code",
   "execution_count": null,
   "metadata": {},
   "outputs": [],
   "source": []
  }
 ],
 "metadata": {
  "kernelspec": {
   "display_name": "Python (tf-train)",
   "language": "python",
   "name": "tf-train"
  },
  "language_info": {
   "codemirror_mode": {
    "name": "ipython",
    "version": 3
   },
   "file_extension": ".py",
   "mimetype": "text/x-python",
   "name": "python",
   "nbconvert_exporter": "python",
   "pygments_lexer": "ipython3",
   "version": "3.6.12"
  },
  "vscode": {
   "interpreter": {
    "hash": "425115ae6637ada2b959655b34e22bdfbab2786b72fd7a6ba9076b4d899c9624"
   }
  }
 },
 "nbformat": 4,
 "nbformat_minor": 2
}
