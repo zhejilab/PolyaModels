{
 "cells": [
  {
   "cell_type": "markdown",
   "metadata": {},
   "source": [
    "# Figure 6: Terminal exon site analysis"
   ]
  },
  {
   "cell_type": "code",
   "execution_count": 1,
   "metadata": {},
   "outputs": [],
   "source": [
    "%load_ext autoreload"
   ]
  },
  {
   "cell_type": "code",
   "execution_count": 2,
   "metadata": {},
   "outputs": [],
   "source": [
    "%autoreload 2"
   ]
  },
  {
   "cell_type": "code",
   "execution_count": 3,
   "metadata": {},
   "outputs": [
    {
     "name": "stderr",
     "output_type": "stream",
     "text": [
      "Using TensorFlow backend.\n"
     ]
    }
   ],
   "source": [
    "%run -i notebook_setup.py"
   ]
  },
  {
   "cell_type": "markdown",
   "metadata": {},
   "source": [
    "## IMPORTS AND SETUP"
   ]
  },
  {
   "cell_type": "code",
   "execution_count": 4,
   "metadata": {},
   "outputs": [],
   "source": [
    "import utilities\n",
    "from utilities import genomic_context\n",
    "\n",
    "import statsmodels.formula.api as smf\n",
    "from sklearn.preprocessing import StandardScaler\n",
    "from statsmodels.stats.proportion import test_proportions_2indep\n"
   ]
  },
  {
   "cell_type": "markdown",
   "metadata": {},
   "source": [
    "## IMPORT DATA"
   ]
  },
  {
   "cell_type": "code",
   "execution_count": 5,
   "metadata": {},
   "outputs": [],
   "source": [
    "PROJECT = \"/projects/b1080/eks/polyadenylation\"\n",
    "DATADIR = os.path.join(PROJECT, \"manuscripts\", \"01_development\", \"data\")\n",
    "RESDIR  = os.path.join(PROJECT, \"manuscripts\", \"01_development\", \"analysis\", \"resources\")\n",
    "OUTDIR  = os.path.join(PROJECT, \"manuscripts\", \"01_development\", \"figures\", \"Figure_06\")\n",
    "os.makedirs(OUTDIR, exist_ok = True)\n"
   ]
  },
  {
   "cell_type": "markdown",
   "metadata": {},
   "source": [
    "## Data loading and preparation"
   ]
  },
  {
   "cell_type": "code",
   "execution_count": 6,
   "metadata": {},
   "outputs": [
    {
     "name": "stdout",
     "output_type": "stream",
     "text": [
      "(250992, 25)\n"
     ]
    }
   ],
   "source": [
    "data = (pd.read_csv(os.path.join(RESDIR, 'xte_rawdata.txt'), sep = \"\\t\")\n",
    "        .rename(columns = {\n",
    "            'feature_gene'       : 'gene', \n",
    "            'cluster_reads_slop' : 'reads',\n",
    "        }))\n",
    "\n",
    "print(data.shape)\n"
   ]
  },
  {
   "cell_type": "markdown",
   "metadata": {},
   "source": [
    "#### Define features"
   ]
  },
  {
   "cell_type": "code",
   "execution_count": 7,
   "metadata": {},
   "outputs": [],
   "source": [
    "te_feature_dict = {\n",
    "    'predicted_strength'       : 'PolyaStrength of proximal site',\n",
    "    'match_strength'           : 'PolyaStrength of paired distal site',\n",
    "    'relstrength'              : 'Difference in PolyaStrength (distal-proximal)',\n",
    "    'reldist'                  : 'Distance between sites (log10)',\n",
    "    'up_intron_log10'          : 'Upstream intron size (log10)',\n",
    "    'distance_antisense_log10' : 'Downstream antisense gene distance (log10)',\n",
    "}\n",
    "\n",
    "te_features = list(te_feature_dict.keys())\n",
    "te_labels = [te_feature_dict.get(_) for _ in te_features]\n",
    "\n",
    "te_names_minimal = ['strength', 'relstrength', 'reldist', 'up_intron_log10', 'distance_first_upstream3ss', 'distance_antisense_log10']\n"
   ]
  },
  {
   "cell_type": "markdown",
   "metadata": {},
   "source": [
    "#### Transform features"
   ]
  },
  {
   "cell_type": "code",
   "execution_count": 8,
   "metadata": {},
   "outputs": [],
   "source": [
    "data['up_intron_log10'] = np.log10(data['up_intron'] + 1)\n",
    "\n",
    "data['distance_sense_log10']     = np.log10(data['distance_downstream_gene_sense'] + 1)\n",
    "data['distance_antisense_log10'] = np.log10(data['distance_downstream_gene_antisense'] + 1)\n",
    "data['distance_down_log10']      = data[['distance_sense_log10','distance_antisense_log10']].min(axis=1)\n",
    "\n",
    "data.loc[data['distance_antisense_log10'] >= data['distance_sense_log10'], 'down_gene_type'] = 'sense'\n",
    "data.loc[data['distance_antisense_log10']  < data['distance_sense_log10'], 'down_gene_type'] = 'antisense'\n"
   ]
  },
  {
   "cell_type": "markdown",
   "metadata": {},
   "source": [
    "#### Subset sites meeting minimal 3'READS support requirements"
   ]
  },
  {
   "cell_type": "code",
   "execution_count": 9,
   "metadata": {},
   "outputs": [
    {
     "name": "stdout",
     "output_type": "stream",
     "text": [
      "55775 249251 55018\n",
      "(55018, 30)\n",
      "(16574, 30)\n"
     ]
    }
   ],
   "source": [
    "condREADS = (data['reads'] >= 10)\n",
    "condSENSE = ~((data['down_gene_type'] == 'sense') & (data['distance_sense_log10'] == 0))\n",
    "condCOMB  = (condREADS & condSENSE)\n",
    "print(condREADS.sum(), condSENSE.sum(), condCOMB.sum())\n",
    "\n",
    "filt_data = data.loc[condCOMB].copy()\n",
    "print(filt_data.shape)\n",
    "\n",
    "strongest_data = filt_data.groupby('gene', as_index = False).apply(lambda df: df.sort_values('reads').tail(1))\n",
    "print(strongest_data.shape)\n"
   ]
  },
  {
   "cell_type": "code",
   "execution_count": 10,
   "metadata": {},
   "outputs": [
    {
     "name": "stdout",
     "output_type": "stream",
     "text": [
      "20701\n",
      "16574\n",
      "16574\n"
     ]
    }
   ],
   "source": [
    "print(data['gene'].nunique())\n",
    "print(filt_data['gene'].nunique())\n",
    "print(strongest_data['gene'].nunique())\n"
   ]
  },
  {
   "cell_type": "markdown",
   "metadata": {},
   "source": [
    "#### Generate pairs of sites with sufficient expression differences"
   ]
  },
  {
   "cell_type": "code",
   "execution_count": 11,
   "metadata": {},
   "outputs": [
    {
     "name": "stdout",
     "output_type": "stream",
     "text": [
      "(16574, 38)\n",
      "(18886, 37)\n"
     ]
    }
   ],
   "source": [
    "try:\n",
    "    \n",
    "    strongest_ann  = pd.read_csv(os.path.join(RESDIR, 'xte_data.strongest_vs_random.ann.txt'), sep = \"\\t\")\n",
    "    strongest_comb = pd.read_csv(os.path.join(RESDIR, 'xte_data.strongest_vs_random.comb.txt'), sep = \"\\t\")\n",
    "    \n",
    "except FileNotFoundError:\n",
    "\n",
    "    strongest_ann = strongest_data.apply(lambda row : genomic_context.find_comparison(row, data = filt_data, comptype = 'random', random_state = 1234), axis = 1)\n",
    "    strongest_nona = strongest_ann[~strongest_ann[te_names_minimal].isnull().any(axis = 1)].copy()\n",
    "    strongest_comb = genomic_context.create_comparison(strongest_nona, data, reftype = 'strongest', alttype = 'random')\n",
    "\n",
    "    strongest_ann.to_csv(os.path.join(RESDIR, 'xte_data.strongest_vs_random.ann.txt'), sep = \"\\t\", index = False)\n",
    "    strongest_comb.to_csv(os.path.join(RESDIR, 'xte_data.strongest_vs_random.comb.txt'), sep = \"\\t\", index = False)\n",
    "\n",
    "print(strongest_ann.shape)\n",
    "print(strongest_comb.shape)\n"
   ]
  },
  {
   "cell_type": "code",
   "execution_count": 12,
   "metadata": {},
   "outputs": [
    {
     "name": "stdout",
     "output_type": "stream",
     "text": [
      "\n",
      "Strongest all:\t (18886, 39)\n",
      "\n",
      "Downstream gene orientation:\n",
      " antisense    10786\n",
      "sense         8090\n",
      "Name: down_gene_type, dtype: int64\n"
     ]
    }
   ],
   "source": [
    "strongest_comb['predicted_strength'] = strongest_comb['strength'].copy()\n",
    "strongest_comb['match_strength'] = strongest_comb['relstrength'] + strongest_comb['predicted_strength']\n",
    "\n",
    "print(\"\\nStrongest all:\\t\", strongest_comb.shape)\n",
    "print(\"\\nDownstream gene orientation:\\n\", strongest_comb.down_gene_type.value_counts())\n"
   ]
  },
  {
   "cell_type": "markdown",
   "metadata": {},
   "source": [
    "#### Partition data into training and testing splits"
   ]
  },
  {
   "cell_type": "code",
   "execution_count": 13,
   "metadata": {},
   "outputs": [
    {
     "name": "stdout",
     "output_type": "stream",
     "text": [
      "train    16997\n",
      "test      1889\n",
      "Name: split, dtype: int64\n"
     ]
    }
   ],
   "source": [
    "train_size = int(0.9 * len(strongest_comb))\n",
    "test_size = int(len(strongest_comb) - train_size)\n",
    "    \n",
    "np.random.seed(1234)\n",
    "rand = np.random.rand(len(strongest_comb))\n",
    "\n",
    "train_part = np.argpartition(rand, train_size)    \n",
    "train_idx  = train_part[:train_size]\n",
    "test_idx   = train_part[train_size:]\n",
    "\n",
    "strongest_comb.loc[train_idx, 'split'] = 'train'\n",
    "strongest_comb.loc[test_idx,  'split'] = 'test'\n",
    "\n",
    "print(strongest_comb.split.value_counts())\n"
   ]
  },
  {
   "cell_type": "code",
   "execution_count": 14,
   "metadata": {},
   "outputs": [
    {
     "name": "stdout",
     "output_type": "stream",
     "text": [
      "After filtering for: ('comppos', 'proximal')\n",
      "\tAll data =  (9443, 40)\n",
      "\tFilt data =  (9443, 40)\n",
      "\tTrain/test splits =  train    8532\n",
      "test      911\n",
      "Name: split, dtype: int64\n",
      "CAT: []\n",
      "NONCAT: ['strength', 'relstrength', 'reldist', 'up_intron_log10', 'distance_first_upstream3ss', 'distance_antisense_log10']\n"
     ]
    }
   ],
   "source": [
    "prox_filt, prox_all, prox_tr, prox_te, prox_scaler = genomic_context.prep_data(strongest_comb, strongest_comb, te_names_minimal, 'relscore', 'score_logit', categorical = [], subset = ('comppos', 'proximal'))\n",
    "\n",
    "(pXall_m, pXall_s, pYall_c, pYall_r) = prox_all\n",
    "(pXtr_o_all, pXtr_s_all, pYtr_c_all, pYtr_r_all, pXtr_o_filt, pXtr_s_filt, pYtr_c_filt, pYtr_r_filt) = prox_tr\n",
    "(pXte_o_all, pXte_s_all, pYte_c_all, pYte_r_all, pXte_o_filt, pXte_s_filt, pYte_c_filt, pYte_r_filt) = prox_te\n",
    "\n",
    "pAll_c = pXall_m\n",
    "pAll_c['outcome'] = pYall_c\n",
    "\n",
    "pTr_c_filt = pXtr_s_filt\n",
    "pTr_c_filt['outcome'] = pYtr_c_filt\n",
    "\n",
    "pTe_c_filt = pXte_s_filt\n",
    "pTe_c_filt['outcome'] = pYte_c_filt\n"
   ]
  },
  {
   "cell_type": "markdown",
   "metadata": {},
   "source": [
    "### Comparison Models"
   ]
  },
  {
   "cell_type": "markdown",
   "metadata": {},
   "source": [
    "#### Fit logistic regression model"
   ]
  },
  {
   "cell_type": "code",
   "execution_count": 15,
   "metadata": {},
   "outputs": [
    {
     "name": "stdout",
     "output_type": "stream",
     "text": [
      "                           Logit Regression Results                           \n",
      "==============================================================================\n",
      "Dep. Variable:                outcome   No. Observations:                 8532\n",
      "Model:                          Logit   Df Residuals:                     8527\n",
      "Method:                           MLE   Df Model:                            4\n",
      "Date:                Fri, 27 Oct 2023   Pseudo R-squ.:                  0.5260\n",
      "Time:                        12:49:36   Log-Likelihood:                -2785.8\n",
      "converged:                       True   LL-Null:                       -5877.3\n",
      "Covariance Type:            nonrobust   LLR p-value:                     0.000\n",
      "============================================================================================\n",
      "                               coef    std err          z      P>|z|      [0.025      0.975]\n",
      "--------------------------------------------------------------------------------------------\n",
      "Intercept                    0.4464      0.035     12.821      0.000       0.378       0.515\n",
      "relstrength                 -3.1070      0.068    -45.879      0.000      -3.240      -2.974\n",
      "reldist                      0.7336      0.036     20.185      0.000       0.662       0.805\n",
      "up_intron_log10             -0.1768      0.035     -5.055      0.000      -0.245      -0.108\n",
      "distance_antisense_log10    -0.1333      0.034     -3.961      0.000      -0.199      -0.067\n",
      "============================================================================================\n",
      "FFO AUROC: Train =  0.934614942715712 , Test =  0.9371013310808843\n",
      "FFO AUPRC: Train =  0.943724499042734 , Test =  0.9391376250875297\n"
     ]
    }
   ],
   "source": [
    "ffo_pmod = smf.logit(formula = \"outcome ~ relstrength + reldist + up_intron_log10 + distance_antisense_log10\", \n",
    "                        data = pTr_c_filt).fit(disp = 0)\n",
    "print(ffo_pmod.summary())\n",
    "\n",
    "ffo_all_pred_c     = ffo_pmod.predict(pAll_c)\n",
    "ffo_filt_tr_pred_c = ffo_pmod.predict(pTr_c_filt)\n",
    "ffo_filt_te_pred_c = ffo_pmod.predict(pTe_c_filt)\n",
    "\n",
    "ffo_tr_auroc, ffo_tr_auprc = genomic_context.calculate_auc(pYtr_c_filt, ffo_filt_tr_pred_c)\n",
    "ffo_te_auroc, ffo_te_auprc = genomic_context.calculate_auc(pYte_c_filt, ffo_filt_te_pred_c)\n",
    "print(\"FFO AUROC: Train = \", ffo_tr_auroc, \", Test = \", ffo_te_auroc)\n",
    "print(\"FFO AUPRC: Train = \", ffo_tr_auprc, \", Test = \", ffo_te_auprc)\n",
    "\n",
    "with open(os.path.join(OUTDIR, 'proximal_comparison.model.pickle'), mode = 'wb') as handle:\n",
    "    pickle.dump(ffo_pmod, handle)\n",
    "    \n",
    "with open(os.path.join(OUTDIR, 'proximal_comparison.scaler.pickle'), mode = 'wb') as handle:\n",
    "    pickle.dump(prox_scaler, handle)\n",
    "    \n",
    "with open(os.path.join(OUTDIR, 'proximal_comparison.training.pickle'), mode = 'wb') as handle:\n",
    "    pickle.dump(prox_tr, handle)\n",
    "    \n",
    "with open(os.path.join(OUTDIR, 'proximal_comparison.testing.pickle'), mode = 'wb') as handle:\n",
    "    pickle.dump(prox_te, handle)\n"
   ]
  },
  {
   "cell_type": "markdown",
   "metadata": {},
   "source": [
    "#### Combining original data with model predictions"
   ]
  },
  {
   "cell_type": "code",
   "execution_count": 16,
   "metadata": {},
   "outputs": [
    {
     "name": "stdout",
     "output_type": "stream",
     "text": [
      "true_negative     0.464153\n",
      "false_negative    0.259928\n",
      "true_positive     0.240072\n",
      "false_positive    0.035847\n",
      "Name: pred_type, dtype: float64\n"
     ]
    }
   ],
   "source": [
    "strongest_pred = strongest_comb.copy()\n",
    "\n",
    "strongest_pred.loc[ffo_filt_tr_pred_c.index, 'pred_prob'] = ffo_filt_tr_pred_c\n",
    "strongest_pred.loc[ffo_filt_te_pred_c.index, 'pred_prob'] = ffo_filt_te_pred_c\n",
    "\n",
    "strongest_pred['pred_class']     = (strongest_pred['pred_prob'] >= 0.5).astype(int)\n",
    "strongest_pred['pred_prob_clip'] = np.clip(strongest_pred['pred_prob'], 1e-6, 1 - 1e-6)\n",
    "strongest_pred['pred_prob_or']   = np.log2(strongest_pred['pred_prob_clip'] / (1 - strongest_pred['pred_prob_clip']))\n",
    "\n",
    "strongest_pred.loc[(strongest_pred['relscore'] == 1) & (strongest_pred['pred_class'] == 1), 'pred_type'] = 'true_positive'\n",
    "strongest_pred.loc[(strongest_pred['relscore'] == 1) & (strongest_pred['pred_class'] == 0), 'pred_type'] = 'false_negative'\n",
    "strongest_pred.loc[(strongest_pred['relscore'] == 0) & (strongest_pred['pred_class'] == 1), 'pred_type'] = 'false_positive'\n",
    "strongest_pred.loc[(strongest_pred['relscore'] == 0) & (strongest_pred['pred_class'] == 0), 'pred_type'] = 'true_negative'\n",
    "\n",
    "print(strongest_pred.pred_type.value_counts() / len(strongest_pred))\n"
   ]
  },
  {
   "cell_type": "code",
   "execution_count": 17,
   "metadata": {},
   "outputs": [],
   "source": [
    "matched_sites_dict = {}\n",
    "\n",
    "for i, row in strongest_pred.iterrows():\n",
    "    \n",
    "    if (row['gene'] not in matched_sites_dict):\n",
    "        matched_sites_dict[row['gene']] = {}\n",
    "    \n",
    "    matched_sites_dict[row['gene']][row['comppos']] = {\n",
    "        'comptype' : row['comptype'], \n",
    "        'pred_prob' : row['pred_prob'],\n",
    "    }\n",
    "\n",
    "strongest_pred['pred_prob_norm']      = strongest_pred.apply(lambda row : row['pred_prob'] / (matched_sites_dict[row['gene']]['proximal']['pred_prob'] + matched_sites_dict[row['gene']]['distal']['pred_prob']), axis = 1)\n",
    "strongest_pred['pred_prob_norm_clip'] = np.clip(strongest_pred['pred_prob_norm'], 1e-6, 1 - 1e-6)\n",
    "strongest_pred['pred_prob_norm_or']   = np.log2(strongest_pred['pred_prob_norm_clip'] / (1 - strongest_pred['pred_prob_norm_clip']))\n"
   ]
  },
  {
   "cell_type": "markdown",
   "metadata": {},
   "source": [
    "#### Classification performance"
   ]
  },
  {
   "cell_type": "code",
   "execution_count": 18,
   "metadata": {},
   "outputs": [
    {
     "data": {
      "image/png": "[encoded data removed]",
      "text/plain": [
       "<Figure size 90x90 with 1 Axes>"
      ]
     },
     "metadata": {
      "needs_background": "light"
     },
     "output_type": "display_data"
    },
    {
     "name": "stdout",
     "output_type": "stream",
     "text": [
      "Corresponding metrics:\n",
      "\tTest AUROC = 0.9371013310808843\n"
     ]
    }
   ],
   "source": [
    "fig,ax = plt.subplots(1, 1, figsize = (1.25,1.25))\n",
    "\n",
    "prox_auc = genomic_context.plot_roc(ax, \n",
    "                                    strongest_pred.loc[(strongest_pred['comppos'] == 'proximal') & (strongest_pred['split'] == 'test'), 'relscore'], \n",
    "                                    strongest_pred.loc[(strongest_pred['comppos'] == 'proximal') & (strongest_pred['split'] == 'test'), 'pred_prob'],\n",
    "                                    'Test')\n",
    "\n",
    "\n",
    "ax.xaxis.set_major_locator(MultipleLocator(0.5))\n",
    "ax.yaxis.set_major_locator(MultipleLocator(0.5))\n",
    "\n",
    "ax.get_legend().remove()\n",
    "\n",
    "plt.tight_layout()\n",
    "plt.savefig(os.path.join(OUTDIR, 'classification_roc.proximal_test.svg'), format = 'svg', dpi = 600, transparent = True)\n",
    "plt.show()\n",
    "\n",
    "\n",
    "print(\"Corresponding metrics:\")\n",
    "print(f\"\\tTest AUROC = {prox_auc}\")\n"
   ]
  },
  {
   "cell_type": "markdown",
   "metadata": {},
   "source": [
    "#### Usage validation using ENCODE RNA-seq data"
   ]
  },
  {
   "cell_type": "code",
   "execution_count": 19,
   "metadata": {},
   "outputs": [
    {
     "name": "stdout",
     "output_type": "stream",
     "text": [
      "(9443, 48)\n"
     ]
    }
   ],
   "source": [
    "ENCODE_DIR = os.path.join(PROJECT, \"model\", \"rna_validation\", \"encode_project\")\n",
    "\n",
    "strongest_prox = strongest_pred.loc[strongest_pred['comppos'] == 'proximal'].copy()\n",
    "print(strongest_prox.shape)\n"
   ]
  },
  {
   "cell_type": "code",
   "execution_count": 20,
   "metadata": {},
   "outputs": [
    {
     "name": "stdout",
     "output_type": "stream",
     "text": [
      "Original data shape: (9443, 48)\n",
      "Filtered data shape: (9439, 48)\n",
      "Output results shape: (9439, 2)\n"
     ]
    },
    {
     "data": {
      "image/png": "[encoded data removed]",
      "text/plain": [
       "<Figure size 126x126 with 1 Axes>"
      ]
     },
     "metadata": {
      "needs_background": "light"
     },
     "output_type": "display_data"
    }
   ],
   "source": [
    "fig, ax = plt.subplots(1,1, figsize = (1.75,1.75))\n",
    "\n",
    "distance = 20\n",
    "prox_a172_res = genomic_context.quantify_reads_around(strongest_prox, ENCODE_DIR, 'A172', distance = distance, subset = [('distance_first_upstream3ss', distance)])\n",
    "genomic_context.make_read_plots(ax, prox_a172_res, 'proximal_terminal_exon', 'A172', distance)\n",
    "\n",
    "ax.spines['right'].set_visible(False)\n",
    "ax.spines['top'].set_visible(False)\n",
    "\n",
    "ax.get_legend().remove()\n",
    "ax.set_ylim((-1,1))\n",
    "\n",
    "plt.tight_layout(rect = [0, 0.03, 0.97, 1])\n",
    "plt.savefig(os.path.join(OUTDIR, 'rna_validation.proximal.svg'), format = 'svg', dpi = 600, transparent = True)\n",
    "plt.show()\n"
   ]
  },
  {
   "cell_type": "markdown",
   "metadata": {},
   "source": [
    "## Confirmatory boxplots for model predictors"
   ]
  },
  {
   "cell_type": "code",
   "execution_count": 21,
   "metadata": {
    "scrolled": false
   },
   "outputs": [
    {
     "name": "stdout",
     "output_type": "stream",
     "text": [
      "Low     4722\n",
      "High    4721\n",
      "Name: cuts, dtype: int64\n"
     ]
    }
   ],
   "source": [
    "hilo_perc = 50\n",
    "hilo_cuts = [0, (100-hilo_perc)/100, 1]\n",
    "hilo_labs = ['Low', 'High']\n",
    "palette   = [\"#a4c9e3\", \"#245475\"]\n",
    "\n",
    "strongest_prox['cuts'], cut_bins = pd.qcut(strongest_prox['score_logit'], q = hilo_cuts, labels = hilo_labs, retbins = True)\n",
    "print(strongest_prox['cuts'].value_counts())\n"
   ]
  },
  {
   "cell_type": "code",
   "execution_count": 22,
   "metadata": {},
   "outputs": [],
   "source": [
    "selected_features = ['predicted_strength', 'match_strength', 'relstrength', 'reldist', 'up_intron_log10', 'distance_antisense_log10']\n",
    "selected_labels   = [te_feature_dict[f] for f in selected_features]\n"
   ]
  },
  {
   "cell_type": "markdown",
   "metadata": {},
   "source": [
    "#### PolyaStrength by site usage"
   ]
  },
  {
   "cell_type": "code",
   "execution_count": 23,
   "metadata": {},
   "outputs": [
    {
     "name": "stdout",
     "output_type": "stream",
     "text": [
      "PolyaStrength of proximal site:\n",
      "N_Low\tN=4722\n",
      "N_High\tN=4721\n",
      "Baseline\tWRS P-val = 0.000E+00\n"
     ]
    },
    {
     "data": {
      "image/png": "[encoded data removed]",
      "text/plain": [
       "<Figure size 54x90 with 1 Axes>"
      ]
     },
     "metadata": {
      "needs_background": "light"
     },
     "output_type": "display_data"
    }
   ],
   "source": [
    "genomic_context.boxplot_features_outcome(OUTDIR, strongest_prox, 'te',\n",
    "                                         ['predicted_strength'], [te_feature_dict.get(\"predicted_strength\")],\n",
    "                                         'cuts', ['Low','High'], palette,\n",
    "                                         figsize = (0.75,1.25), ylims_main=(-12,8), ytickint_main = 4)\n"
   ]
  },
  {
   "cell_type": "markdown",
   "metadata": {},
   "source": [
    "#### Paired site strength by site usage"
   ]
  },
  {
   "cell_type": "code",
   "execution_count": 24,
   "metadata": {},
   "outputs": [
    {
     "name": "stdout",
     "output_type": "stream",
     "text": [
      "PolyaStrength of paired distal site:\n",
      "N_Low\tN=4722\n",
      "N_High\tN=4721\n",
      "Baseline\tWRS P-val = 0.000E+00\n"
     ]
    },
    {
     "data": {
      "image/png": "[encoded data removed]",
      "text/plain": [
       "<Figure size 54x90 with 1 Axes>"
      ]
     },
     "metadata": {
      "needs_background": "light"
     },
     "output_type": "display_data"
    }
   ],
   "source": [
    "genomic_context.boxplot_features_outcome(OUTDIR, strongest_prox, 'te',\n",
    "                                         [selected_features[1]], [selected_labels[1]],\n",
    "                                         'cuts', ['Low','High'], palette,\n",
    "                                         figsize = (0.75,1.25), ylims_main=(-12,8), ytickint_main = 4)\n"
   ]
  },
  {
   "cell_type": "code",
   "execution_count": 25,
   "metadata": {},
   "outputs": [
    {
     "name": "stdout",
     "output_type": "stream",
     "text": [
      "Difference in PolyaStrength (distal-proximal):\n",
      "N_Low\tN=4722\n",
      "N_High\tN=4721\n",
      "Baseline\tWRS P-val = 0.000E+00\n"
     ]
    },
    {
     "data": {
      "image/png": "[encoded data removed]",
      "text/plain": [
       "<Figure size 54x90 with 1 Axes>"
      ]
     },
     "metadata": {
      "needs_background": "light"
     },
     "output_type": "display_data"
    }
   ],
   "source": [
    "genomic_context.boxplot_features_outcome(OUTDIR, strongest_prox, 'te',\n",
    "                                         [selected_features[2]], [selected_labels[2]],\n",
    "                                         'cuts', ['Low','High'], palette,\n",
    "                                         figsize = (0.75,1.25), ylims_main=(-16,16), ytickint_main = 8)\n"
   ]
  },
  {
   "cell_type": "markdown",
   "metadata": {},
   "source": [
    "#### Genomic features after controlling for PolyaStrength and strength difference via quantile sampling"
   ]
  },
  {
   "cell_type": "code",
   "execution_count": 26,
   "metadata": {},
   "outputs": [
    {
     "name": "stdout",
     "output_type": "stream",
     "text": [
      "STARTING QUANTILE SAMPLING\n",
      "Sampling by predicted_strength, relstrength\n"
     ]
    },
    {
     "name": "stderr",
     "output_type": "stream",
     "text": [
      "/projects/b1080/eks/polyadenylation/manuscripts/01_development/utilities/genomic_context.py:282: FutureWarning: \n",
      "Passing list-likes to .loc or [] with any missing label will raise\n",
      "KeyError in the future, you can use .reindex() as an alternative.\n",
      "\n",
      "See the documentation here:\n",
      "https://pandas.pydata.org/pandas-docs/stable/user_guide/indexing.html#deprecate-loc-reindex-listlike\n",
      "  bin_cut_mins = bin_cut_counts.loc[bin_cut_counts.groupby(sample_var_bins)['count'].idxmin()].copy()\n"
     ]
    },
    {
     "name": "stdout",
     "output_type": "stream",
     "text": [
      "Random state: 1427143709 0.9277877150165663 0.08357534761921857\n"
     ]
    }
   ],
   "source": [
    "p_sampled = genomic_context.twovar_quantile_sampling(strongest_prox, \n",
    "                                                     ['predicted_strength','relstrength'],\n",
    "                                                     hilo_labs = ['Low','High'],\n",
    "                                                     random_state = 1427143709)\n"
   ]
  },
  {
   "cell_type": "code",
   "execution_count": 27,
   "metadata": {
    "scrolled": false
   },
   "outputs": [
    {
     "name": "stdout",
     "output_type": "stream",
     "text": [
      "Distance between sites (log10):\n",
      "N_Low\tN=1186\n",
      "N_High\tN=1186\n",
      "Baseline\tWRS P-val = 2.919E-30\n"
     ]
    },
    {
     "data": {
      "image/png": "[encoded data removed]",
      "text/plain": [
       "<Figure size 54x90 with 1 Axes>"
      ]
     },
     "metadata": {
      "needs_background": "light"
     },
     "output_type": "display_data"
    }
   ],
   "source": [
    "genomic_context.boxplot_features_outcome(OUTDIR, p_sampled, 'te',\n",
    "                                         [selected_features[3]], [selected_labels[3]],\n",
    "                                         'cuts', ['Low','High'], palette,\n",
    "                                         figsize = (0.75,1.25), ylims_main=(1.75,4.5), ytickint_main = 0.5)\n"
   ]
  },
  {
   "cell_type": "code",
   "execution_count": 28,
   "metadata": {},
   "outputs": [
    {
     "name": "stdout",
     "output_type": "stream",
     "text": [
      "Upstream intron size (log10):\n",
      "N_Low\tN=1186\n",
      "N_High\tN=1186\n",
      "Baseline\tWRS P-val = 1.065E-08\n"
     ]
    },
    {
     "data": {
      "image/png": "[encoded data removed]",
      "text/plain": [
       "<Figure size 54x90 with 1 Axes>"
      ]
     },
     "metadata": {
      "needs_background": "light"
     },
     "output_type": "display_data"
    }
   ],
   "source": [
    "genomic_context.boxplot_features_outcome(OUTDIR, p_sampled, 'te',\n",
    "                                         [selected_features[4]], [selected_labels[4]],\n",
    "                                         'cuts', ['Low','High'], palette,\n",
    "                                         figsize = (0.75,1.25), ylims_main=(1.5,5), ytickint_main = 1)\n"
   ]
  },
  {
   "cell_type": "code",
   "execution_count": 29,
   "metadata": {},
   "outputs": [
    {
     "name": "stdout",
     "output_type": "stream",
     "text": [
      "Downstream antisense gene distance (log10):\n",
      "N_Low\tN=1186\n",
      "N_High\tN=1186\n",
      "Baseline\tWRS P-val = 1.290E-06\n"
     ]
    },
    {
     "data": {
      "image/png": "[encoded data removed]",
      "text/plain": [
       "<Figure size 54x90 with 1 Axes>"
      ]
     },
     "metadata": {
      "needs_background": "light"
     },
     "output_type": "display_data"
    }
   ],
   "source": [
    "genomic_context.boxplot_features_outcome(OUTDIR, p_sampled, 'te',\n",
    "                                         [selected_features[5]], [selected_labels[5]],\n",
    "                                         'cuts', ['Low','High'], palette,\n",
    "                                         figsize = (0.75,1.25), ylims_main=(1,7), ytickint_main = 1)\n"
   ]
  },
  {
   "cell_type": "markdown",
   "metadata": {},
   "source": [
    "#### Visualization of controlled strength and strength difference"
   ]
  },
  {
   "cell_type": "code",
   "execution_count": 30,
   "metadata": {},
   "outputs": [
    {
     "name": "stdout",
     "output_type": "stream",
     "text": [
      "predicted_strength WRS P-val = 9.278E-01\n"
     ]
    },
    {
     "data": {
      "image/png": "[encoded data removed]",
      "text/plain": [
       "<Figure size 54x108 with 1 Axes>"
      ]
     },
     "metadata": {
      "needs_background": "light"
     },
     "output_type": "display_data"
    }
   ],
   "source": [
    "fig,ax = plt.subplots(1,1, figsize = (0.75, 1.5))\n",
    "\n",
    "sns.boxplot(data = p_sampled, x = 'cuts', y = 'predicted_strength', order = ['Low','High'],\n",
    "            hue = 'cuts', hue_order = ['Low','High'], palette = palette, dodge = False,\n",
    "            boxprops = {'edgecolor' : 'black', 'linewidth' : 0.5},\n",
    "            medianprops = {'color' : 'black', 'linewidth' : 0.5},\n",
    "            whiskerprops = {'color' : 'black', 'linewidth' : 0.5},\n",
    "            capprops = {'color' : 'black', 'linewidth' : 0.5},\n",
    "            flierprops = {'color' : 'black'},\n",
    "            ax = ax, showfliers = False)\n",
    "\n",
    "wrs = st.ranksums(p_sampled.loc[p_sampled['cuts'] == 'Low', 'predicted_strength'],\n",
    "                  p_sampled.loc[p_sampled['cuts'] == 'High', 'predicted_strength'])[1]\n",
    "\n",
    "print(f\"predicted_strength WRS P-val = {wrs:.03E}\")\n",
    "\n",
    "ax.set_ylim(-11,2)\n",
    "ax.yaxis.set_major_locator(MultipleLocator(2))\n",
    "ax.set_ylabel('Predicted Strength')\n",
    "\n",
    "ax.set_xticks([])\n",
    "ax.set_xlabel(\"\")\n",
    "\n",
    "ax.legend(bbox_to_anchor = (1.05,1))\n",
    "\n",
    "ax.spines['right'].set_visible(False)\n",
    "ax.spines['top'].set_visible(False)\n",
    "\n",
    "plt.savefig(os.path.join(OUTDIR, f'{selected_features[5]}_by_usage.comppos_proximal.control.predstr.svg'), format = 'svg', dpi = 600, transparent = True)\n",
    "plt.show()\n"
   ]
  },
  {
   "cell_type": "code",
   "execution_count": 31,
   "metadata": {},
   "outputs": [
    {
     "name": "stdout",
     "output_type": "stream",
     "text": [
      "relStrength WRS P-val = 8.358E-02\n"
     ]
    },
    {
     "data": {
      "image/png": "[encoded data removed]",
      "text/plain": [
       "<Figure size 54x108 with 1 Axes>"
      ]
     },
     "metadata": {
      "needs_background": "light"
     },
     "output_type": "display_data"
    }
   ],
   "source": [
    "fig,ax = plt.subplots(1,1, figsize = (0.75, 1.5))\n",
    "\n",
    "sns.boxplot(data = p_sampled, x = 'cuts', y = 'relstrength', order = ['Low','High'],\n",
    "            hue = 'cuts', hue_order = ['Low','High'], palette = palette, dodge = False,\n",
    "            boxprops = {'edgecolor' : 'black', 'linewidth' : 0.5},\n",
    "            medianprops = {'color' : 'black', 'linewidth' : 0.5},\n",
    "            whiskerprops = {'color' : 'black', 'linewidth' : 0.5},\n",
    "            capprops = {'color' : 'black', 'linewidth' : 0.5},\n",
    "            flierprops = {'color' : 'black'},\n",
    "            ax = ax, showfliers = False)\n",
    "\n",
    "wrs = st.ranksums(p_sampled.loc[p_sampled['cuts'] == 'Low', 'relstrength'],\n",
    "                  p_sampled.loc[p_sampled['cuts'] == 'High', 'relstrength'])[1]\n",
    "\n",
    "print(f\"relStrength WRS P-val = {wrs:.03E}\")\n",
    "\n",
    "ax.get_legend().remove()\n",
    "ax.set_ylim(-8,8)\n",
    "ax.yaxis.set_major_locator(MultipleLocator(2))\n",
    "ax.set_ylabel('Relative difference in polyaStrength')\n",
    "\n",
    "ax.set_xticks([])\n",
    "ax.set_xlabel(\"\")\n",
    "\n",
    "ax.spines['right'].set_visible(False)\n",
    "ax.spines['top'].set_visible(False)\n",
    "\n",
    "plt.savefig(os.path.join(OUTDIR, f'{selected_features[5]}_by_usage.comppos_proximal.control.relstrength.svg'), format = 'svg', dpi = 600, transparent = True)\n",
    "plt.show()\n"
   ]
  }
 ],
 "metadata": {
  "kernelspec": {
   "display_name": "Python (tf-train)",
   "language": "python",
   "name": "tf-train"
  },
  "language_info": {
   "codemirror_mode": {
    "name": "ipython",
    "version": 3
   },
   "file_extension": ".py",
   "mimetype": "text/x-python",
   "name": "python",
   "nbconvert_exporter": "python",
   "pygments_lexer": "ipython3",
   "version": "3.6.12"
  },
  "vscode": {
   "interpreter": {
    "hash": "425115ae6637ada2b959655b34e22bdfbab2786b72fd7a6ba9076b4d899c9624"
   }
  }
 },
 "nbformat": 4,
 "nbformat_minor": 2
}
