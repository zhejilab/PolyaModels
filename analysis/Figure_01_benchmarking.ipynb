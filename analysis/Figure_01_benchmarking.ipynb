{
 "cells": [
  {
   "cell_type": "markdown",
   "metadata": {},
   "source": [
    "# Figure 1 benchmarking\n",
    "\n",
    "**Description:** Process data and prepare ready-to-use resources for plotting Figure 1 and Supplemental Figures 1-3\n",
    "\n",
    "&rarr; Run this notebook with the `tf-train` kernel\n"
   ]
  },
  {
   "cell_type": "code",
   "execution_count": 1,
   "metadata": {},
   "outputs": [],
   "source": [
    "%load_ext autoreload"
   ]
  },
  {
   "cell_type": "code",
   "execution_count": 2,
   "metadata": {},
   "outputs": [],
   "source": [
    "%autoreload 2"
   ]
  },
  {
   "cell_type": "code",
   "execution_count": 3,
   "metadata": {},
   "outputs": [
    {
     "name": "stderr",
     "output_type": "stream",
     "text": [
      "Using TensorFlow backend.\n"
     ]
    }
   ],
   "source": [
    "%run -i notebook_setup.py"
   ]
  },
  {
   "cell_type": "markdown",
   "metadata": {},
   "source": [
    "## IMPORTS AND SETUP"
   ]
  },
  {
   "cell_type": "code",
   "execution_count": 4,
   "metadata": {},
   "outputs": [],
   "source": [
    "import utilities\n",
    "from utilities import preprocessing, sequence, model_builder, classification_cleavage, motifs, relative_strength, genomic_context, genetics\n"
   ]
  },
  {
   "cell_type": "code",
   "execution_count": 5,
   "metadata": {},
   "outputs": [],
   "source": [
    "PROJECT = \"/projects/b1080/eks/polyadenylation\"\n",
    "DATADIR = os.path.join(PROJECT, \"manuscripts\", \"01_development\", \"data\")\n",
    "RESDIR  = os.path.join(PROJECT, \"manuscripts\", \"01_development\", \"analysis\", \"resources\")\n",
    "OUTDIR  = os.path.join(PROJECT, \"manuscripts\", \"01_development\", \"figures\", \"Figure_01\")\n",
    "os.makedirs(OUTDIR, exist_ok = True)\n"
   ]
  },
  {
   "cell_type": "code",
   "execution_count": 6,
   "metadata": {},
   "outputs": [],
   "source": [
    "palette = {\n",
    "    'PolyaID'         : '#5c9bd3',\n",
    "    'PolyaStrength'   : '#adcce7',\n",
    "    'DeepPASTA'       : '#ec7e30',\n",
    "    'APARENT'         : '#a5a4a4',\n",
    "    'APARENT2'        : '#fec010',\n",
    "    'PolyApredictors' : '#4971b8',\n",
    "}"
   ]
  },
  {
   "cell_type": "markdown",
   "metadata": {},
   "source": [
    "## Benchmarking variant effect predictions"
   ]
  },
  {
   "cell_type": "markdown",
   "metadata": {},
   "source": [
    "### Bogard et al 2019 MPRAs"
   ]
  },
  {
   "cell_type": "code",
   "execution_count": 7,
   "metadata": {},
   "outputs": [
    {
     "name": "stdout",
     "output_type": "stream",
     "text": [
      "(2512424, 28)\n",
      "(337044, 28)\n"
     ]
    }
   ],
   "source": [
    "with open(os.path.join(RESDIR, 'mpra_bogard.data.exp_clean.pickle'), mode = 'rb') as handle:\n",
    "    mpra_bog = pickle.load(handle)\n",
    "    \n",
    "mpra_bog['max_a_fraction'] = mpra_bog['seq_ext'].apply(lambda x : classification_cleavage.calculate_a_density(x))\n",
    "mpra_bog['observed_clvn']  = mpra_bog['observed_clvn'].apply(lambda x : np.asarray([float(_) for _ in x.strip(\"][\").split(\", \")]))\n",
    "\n",
    "cond1 = (mpra_bog['library_name'] == 'HSPE1')\n",
    "cond2 = (mpra_bog['max_a_fraction'] <= 0.75)\n",
    "cond3 = (mpra_bog['our-models_classification'] >= 0.5)\n",
    "cond4 = (mpra_bog['polyapredictors_expression'] != -99)\n",
    "cond5 = (~mpra_bog['sequence'].str.contains(\"N\"))\n",
    "\n",
    "mpra_bog_filt = mpra_bog.loc[cond1 & cond2 & cond3 & cond4 & cond5].copy()\n",
    "\n",
    "print(mpra_bog.shape)\n",
    "print(mpra_bog_filt.shape)\n"
   ]
  },
  {
   "cell_type": "markdown",
   "metadata": {},
   "source": [
    "#### Split MPRA sequences into 5 groups based on expression"
   ]
  },
  {
   "cell_type": "code",
   "execution_count": 8,
   "metadata": {},
   "outputs": [
    {
     "name": "stdout",
     "output_type": "stream",
     "text": [
      "1     25196\n",
      "2     92845\n",
      "3    133982\n",
      "4     60339\n",
      "5     24682\n",
      "Name: expression_bin, dtype: int64\n"
     ]
    }
   ],
   "source": [
    "bins=[1,1.2,1.5,1.8,2,3]\n",
    "labels = list(range(1,len(bins)))\n",
    "\n",
    "mpra_bog_filt['expression_bin'], exp_bins = pd.cut(mpra_bog_filt['mpra_reads_log1p'], bins=bins, labels=labels, retbins = True)\n",
    "print(mpra_bog_filt['expression_bin'].value_counts(sort = False))\n"
   ]
  },
  {
   "cell_type": "code",
   "execution_count": 9,
   "metadata": {},
   "outputs": [
    {
     "data": {
      "image/png": "[encoded data removed]",
      "text/plain": [
       "<Figure size 144x108 with 1 Axes>"
      ]
     },
     "metadata": {
      "needs_background": "light"
     },
     "output_type": "display_data"
    }
   ],
   "source": [
    "fig,ax = plt.subplots(1,1, figsize = (2,1.5))\n",
    "\n",
    "sns.histplot(data = mpra_bog_filt, x = 'mpra_reads_log1p', color = 'gray', bins = 20, ax = ax)\n",
    "for x in exp_bins: ax.axvline(x = x, color = 'black', linestyle = 'dashed', linewidth = 0.5)\n",
    "\n",
    "ax.set_xlabel(\"Log10(MPRA reads + 1)\")\n",
    "ax.set_xlim(1,2.5)\n",
    "ax.xaxis.set_major_locator(MultipleLocator(0.5))\n",
    "\n",
    "ax.set_ylabel(\"Frequency\")\n",
    "\n",
    "ax.spines['right'].set_visible(False)\n",
    "ax.spines['top'].set_visible(False)\n",
    "\n",
    "plt.savefig(os.path.join(OUTDIR, f'benchmark.bogard.histogram_expressionbins.svg'), format = 'svg', dpi = 600, transparent = True)\n",
    "plt.show()\n"
   ]
  },
  {
   "cell_type": "markdown",
   "metadata": {},
   "source": [
    "#### Plot corresponding predictions by expression group"
   ]
  },
  {
   "cell_type": "code",
   "execution_count": 10,
   "metadata": {},
   "outputs": [
    {
     "data": {
      "image/png": "[encoded data removed]",
      "text/plain": [
       "<Figure size 288x108 with 4 Axes>"
      ]
     },
     "metadata": {
      "needs_background": "light"
     },
     "output_type": "display_data"
    },
    {
     "name": "stdout",
     "output_type": "stream",
     "text": [
      "Wilcoxon rank-sum test:\t\t\tstatistic\tp-val\n",
      "our-models_strength                \t -122.624\t0.000E+00\n",
      "aparent_isoformAbundanceLO         \t -125.323\t0.000E+00\n",
      "aparent-resnet_isoformAbundanceLO  \t -133.499\t0.000E+00\n",
      "polyapredictors_expression         \t   -1.065\t2.867E-01\n"
     ]
    }
   ],
   "source": [
    "lo_cols  = [\n",
    "    'our-models_strength',\n",
    "    'aparent_isoformAbundanceLO',\n",
    "    'aparent-resnet_isoformAbundanceLO',\n",
    "    'polyapredictors_expression'\n",
    "]\n",
    "\n",
    "lo_labels = ['PolyaStrength','APARENT','APARENT2','PolyApredictors']\n",
    "plot_data = mpra_bog_filt\n",
    "\n",
    "\n",
    "fig,ax = plt.subplots(1,len(lo_cols), figsize = (4,1.5), sharex = True, sharey = True)\n",
    "\n",
    "for i,(var,mod,a) in enumerate(zip(lo_cols,lo_labels,ax)):\n",
    "    \n",
    "    plot_data[f'{var}.rel_mean'] = plot_data[var] - plot_data[var].mean()\n",
    "\n",
    "    sns.boxplot(data = plot_data, x = 'expression_bin', y = f'{var}.rel_mean', \n",
    "                hue = 'expression_bin', palette = 'Greens', dodge = False, \n",
    "                boxprops = {'edgecolor' : 'black', 'linewidth' : 0.5},\n",
    "                medianprops = {'color' : 'black', 'linewidth' : 0.5},\n",
    "                whiskerprops = {'color' : 'black', 'linewidth' : 0.5},\n",
    "                capprops = {'color' : 'black', 'linewidth' : 0.5},\n",
    "                flierprops = {'color' : 'black', 'markersize' : 1}, \n",
    "                showfliers = False, ax = a)\n",
    "    \n",
    "    a.set_xlabel(\"\")\n",
    "    a.set_ylabel(\"\")\n",
    "    a.set_title(mod)\n",
    "    \n",
    "    a.spines['right'].set_visible(False)\n",
    "    a.spines['top'].set_visible(False)\n",
    "    \n",
    "    if (i == len(lo_labels)-1):\n",
    "        a.legend(bbox_to_anchor = (1.05,1))\n",
    "    else:\n",
    "        a.legend().remove()\n",
    "    \n",
    "ax[0].set_ylabel(\"Mean-centered predictions\\non logit scale\")\n",
    "ax[0].yaxis.set_major_locator(MultipleLocator(2))\n",
    "\n",
    "plt.savefig(os.path.join(OUTDIR, f'benchmark.bogard.predictions_by_expressionbins.svg'), format = 'svg', dpi = 600, transparent = True)\n",
    "plt.show()\n",
    "\n",
    "\n",
    "print(\"Wilcoxon rank-sum test:\\t\\t\\tstatistic\\tp-val\")\n",
    "dtL = plot_data.loc[plot_data['expression_bin'] == 1]\n",
    "dtH = plot_data.loc[plot_data['expression_bin'] == 5]\n",
    "for var in lo_cols:\n",
    "    relvar = f'{var}.rel_mean'\n",
    "    stres = st.ranksums(dtL[relvar],dtH[relvar])\n",
    "    print(f\"{var:35}\\t{stres[0]:9.03f}\\t{stres[1]:.03E}\")\n"
   ]
  },
  {
   "cell_type": "markdown",
   "metadata": {
    "scrolled": false
   },
   "source": [
    "#### Classify the sites from groups 1 and 5"
   ]
  },
  {
   "cell_type": "code",
   "execution_count": 11,
   "metadata": {},
   "outputs": [
    {
     "name": "stdout",
     "output_type": "stream",
     "text": [
      "False    25196\n",
      "True     24682\n",
      "Name: pseudoclass, dtype: int64\n",
      "Balance: 49.485%\n"
     ]
    }
   ],
   "source": [
    "dt = mpra_bog_filt.loc[mpra_bog_filt['expression_bin'].isin([1,5])].copy()\n",
    "dt['pseudoclass'] = mpra_bog_filt['expression_bin'].isin([5])\n",
    "print(dt['pseudoclass'].value_counts())\n",
    "print(f\"Balance: {dt.pseudoclass.sum() / len(dt):.03%}\")\n"
   ]
  },
  {
   "cell_type": "code",
   "execution_count": 12,
   "metadata": {
    "scrolled": false
   },
   "outputs": [
    {
     "name": "stdout",
     "output_type": "stream",
     "text": [
      "               count      mean       std\n",
      "pseudoclass                             \n",
      "0            25196.0 -3.451170  1.806507\n",
      "1            24682.0 -1.335649  1.514889\n"
     ]
    }
   ],
   "source": [
    "mpra_bog_aucs = pd.DataFrame(index = np.arange(len(lo_cols)), columns = ['model','sequences','auroc','auprc'])\n",
    "\n",
    "dtH = mpra_bog_filt.loc[mpra_bog_filt['expression_bin'] == 5].copy()\n",
    "dtH['pseudoclass'] = 1\n",
    "\n",
    "dtL = mpra_bog_filt.loc[mpra_bog_filt['expression_bin'] == 1].copy()\n",
    "dtL['pseudoclass'] = 0\n",
    "\n",
    "dt = pd.concat([dtH,dtL], ignore_index = True, sort = False)\n",
    "\n",
    "\n",
    "for i,(var,mod) in enumerate(zip(lo_cols, lo_labels)):\n",
    "    auroc, auprc = classification_cleavage.calculate_auc(dt['pseudoclass'], dt[var])\n",
    "    mpra_bog_aucs.loc[i] = [mod,len(dt),auroc,auprc]\n",
    "\n",
    "print(dt.groupby('pseudoclass')['our-models_strength'].describe()[['count','mean','std']])\n"
   ]
  },
  {
   "cell_type": "code",
   "execution_count": 13,
   "metadata": {},
   "outputs": [
    {
     "data": {
      "image/png": "[encoded data removed]",
      "text/plain": [
       "<Figure size 54x108 with 1 Axes>"
      ]
     },
     "metadata": {
      "needs_background": "light"
     },
     "output_type": "display_data"
    },
    {
     "name": "stdout",
     "output_type": "stream",
     "text": [
      "Corresponding metrics:\n",
      "             model sequences     auroc     auprc\n",
      "0    PolyaStrength     49878  0.817021  0.789277\n",
      "1          APARENT     49878  0.823999   0.83934\n",
      "2         APARENT2     49878  0.845135  0.844509\n",
      "3  PolyApredictors     49878  0.502754  0.475355\n"
     ]
    }
   ],
   "source": [
    "fig,ax = plt.subplots(1,1, figsize = (0.75,1.5))\n",
    "\n",
    "sns.barplot(data = mpra_bog_aucs, x = 'model', y = 'auroc', \n",
    "            hue = 'model', hue_order = lo_labels, palette = palette, dodge = False,\n",
    "            edgecolor = 'black', linewidth = 0.5, \n",
    "            saturation = 1, ax = ax)\n",
    "\n",
    "ax.set_xticks([])\n",
    "ax.set_xticklabels([])\n",
    "ax.set_xlabel(\"\")\n",
    "\n",
    "ax.set_ylabel(\"AUROC classifying highest vs lowest\\nexpressed MPRA sequences\")\n",
    "ax.yaxis.set_major_locator(MultipleLocator(0.1))\n",
    "ax.set_ylim(0.4,0.9)\n",
    "\n",
    "ax.legend(bbox_to_anchor = (1.05,1))\n",
    "    \n",
    "ax.spines['right'].set_visible(False)\n",
    "ax.spines['top'].set_visible(False)\n",
    "\n",
    "plt.savefig(os.path.join(OUTDIR, f'benchmark.bogard.auroc_by_model.svg'), format = 'svg', dpi = 600, transparent = True)\n",
    "plt.show()\n",
    "\n",
    "\n",
    "print(\"Corresponding metrics:\")\n",
    "print(mpra_bog_aucs)\n"
   ]
  },
  {
   "cell_type": "code",
   "execution_count": 14,
   "metadata": {},
   "outputs": [
    {
     "data": {
      "image/png": "[encoded data removed]",
      "text/plain": [
       "<Figure size 54x108 with 1 Axes>"
      ]
     },
     "metadata": {
      "needs_background": "light"
     },
     "output_type": "display_data"
    },
    {
     "name": "stdout",
     "output_type": "stream",
     "text": [
      "Corresponding metrics:\n",
      "             model sequences     auroc     auprc\n",
      "0    PolyaStrength     49878  0.817021  0.789277\n",
      "1          APARENT     49878  0.823999   0.83934\n",
      "2         APARENT2     49878  0.845135  0.844509\n",
      "3  PolyApredictors     49878  0.502754  0.475355\n"
     ]
    }
   ],
   "source": [
    "fig,ax = plt.subplots(1,1, figsize = (0.75,1.5))\n",
    "\n",
    "sns.barplot(data = mpra_bog_aucs, x = 'model', y = 'auprc', \n",
    "            hue = 'model', hue_order = lo_labels, palette = palette, dodge = False,\n",
    "            edgecolor = 'black', linewidth = 0.5, \n",
    "            saturation = 1, ax = ax)\n",
    "\n",
    "ax.set_xticks([])\n",
    "ax.set_xticklabels([])\n",
    "ax.set_xlabel(\"\")\n",
    "\n",
    "ax.set_ylabel(\"AUPRC classifying highest vs lowest\\nexpressed MPRA sequences\")\n",
    "ax.yaxis.set_major_locator(MultipleLocator(0.1))\n",
    "ax.set_ylim(0.4,0.9)\n",
    "\n",
    "ax.legend(bbox_to_anchor = (1.05,1))\n",
    "    \n",
    "ax.spines['right'].set_visible(False)\n",
    "ax.spines['top'].set_visible(False)\n",
    "\n",
    "plt.savefig(os.path.join(OUTDIR, f'benchmark.bogard.auprc_by_model.svg'), format = 'svg', dpi = 600, transparent = True)\n",
    "plt.show()\n",
    "\n",
    "\n",
    "print(\"Corresponding metrics:\")\n",
    "print(mpra_bog_aucs)\n"
   ]
  }
 ],
 "metadata": {
  "kernelspec": {
   "display_name": "Python (tf-train)",
   "language": "python",
   "name": "tf-train"
  },
  "language_info": {
   "codemirror_mode": {
    "name": "ipython",
    "version": 3
   },
   "file_extension": ".py",
   "mimetype": "text/x-python",
   "name": "python",
   "nbconvert_exporter": "python",
   "pygments_lexer": "ipython3",
   "version": "3.6.12"
  },
  "vscode": {
   "interpreter": {
    "hash": "425115ae6637ada2b959655b34e22bdfbab2786b72fd7a6ba9076b4d899c9624"
   }
  }
 },
 "nbformat": 4,
 "nbformat_minor": 2
}
