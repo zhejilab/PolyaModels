{
 "cells": [
  {
   "cell_type": "markdown",
   "metadata": {},
   "source": [
    "# Figure 7: Genetics analysis of ClinVar database"
   ]
  },
  {
   "cell_type": "code",
   "execution_count": 1,
   "metadata": {},
   "outputs": [],
   "source": [
    "%load_ext autoreload"
   ]
  },
  {
   "cell_type": "code",
   "execution_count": 2,
   "metadata": {},
   "outputs": [],
   "source": [
    "%autoreload 2"
   ]
  },
  {
   "cell_type": "code",
   "execution_count": 3,
   "metadata": {},
   "outputs": [
    {
     "name": "stderr",
     "output_type": "stream",
     "text": [
      "Using TensorFlow backend.\n"
     ]
    }
   ],
   "source": [
    "%run -i notebook_setup.py"
   ]
  },
  {
   "cell_type": "markdown",
   "metadata": {},
   "source": [
    "## IMPORTS AND SETUP"
   ]
  },
  {
   "cell_type": "code",
   "execution_count": 4,
   "metadata": {},
   "outputs": [],
   "source": [
    "import vcf, utilities\n",
    "from utilities import genetics\n"
   ]
  },
  {
   "cell_type": "code",
   "execution_count": 5,
   "metadata": {},
   "outputs": [],
   "source": [
    "PROJECT = \"/projects/b1080/eks/polyadenylation\"\n",
    "CLINDIR = os.path.join(PROJECT, 'genetics', 'clinvar')\n",
    "RESDIR  = os.path.join(PROJECT, \"manuscripts\", \"01_development\", \"analysis\", \"resources\")\n",
    "OUTDIR  = os.path.join(PROJECT, \"manuscripts\", \"01_development\", \"figures\", \"Figure_07\", \"clinvar\")\n",
    "os.makedirs(OUTDIR, exist_ok = True)\n"
   ]
  },
  {
   "cell_type": "markdown",
   "metadata": {},
   "source": [
    "## IMPORT DATA"
   ]
  },
  {
   "cell_type": "code",
   "execution_count": 6,
   "metadata": {},
   "outputs": [
    {
     "name": "stdout",
     "output_type": "stream",
     "text": [
      "(2423, 44)\n",
      "(1723, 44)\n",
      "(700, 44)\n"
     ]
    }
   ],
   "source": [
    "with open(os.path.join(RESDIR, \"clinvar.significant_sites.pickle\"), mode = 'rb') as handle:\n",
    "    clin_filt = pickle.load(handle)\n",
    "\n",
    "clin_filt_xte = clin_filt.loc[clin_filt['referenceFeature'].str.contains(\"terminal_exon\")].copy()\n",
    "clin_filt_int = clin_filt.loc[clin_filt['referenceFeature'].str.contains(\"intron\")].copy()\n",
    "\n",
    "print(clin_filt.shape)\n",
    "print(clin_filt_xte.shape)\n",
    "print(clin_filt_int.shape)\n"
   ]
  },
  {
   "cell_type": "markdown",
   "metadata": {},
   "source": [
    "#### Summarize significant variants"
   ]
  },
  {
   "cell_type": "code",
   "execution_count": 35,
   "metadata": {},
   "outputs": [
    {
     "name": "stdout",
     "output_type": "stream",
     "text": [
      "\n",
      "PolyaID classification:\n",
      "count    2423.000000\n",
      "mean        0.983075\n",
      "std         0.024348\n",
      "min         0.900353\n",
      "25%         0.976148\n",
      "50%         0.995135\n",
      "75%         0.999211\n",
      "max         0.999997\n",
      "dtype: float64\n",
      "\n",
      "PolyaStrength score:\n",
      "count    2423.000000\n",
      "mean       -3.052450\n",
      "std         3.352928\n",
      "min        -8.991369\n",
      "25%        -5.724627\n",
      "50%        -3.128234\n",
      "75%        -0.740576\n",
      "max         9.711309\n",
      "dtype: float64\n",
      "\n",
      "PolyaStrength change:\n",
      "count    2423.000000\n",
      "mean        2.182601\n",
      "std         1.738768\n",
      "min         1.000102\n",
      "25%         1.092354\n",
      "50%         1.317544\n",
      "75%         2.712287\n",
      "max        14.440909\n",
      "dtype: float64\n",
      "\n",
      "Composite intronic usage:\n",
      "count    611.000000\n",
      "mean       0.960960\n",
      "std        0.028991\n",
      "min        0.901063\n",
      "25%        0.937865\n",
      "50%        0.966214\n",
      "75%        0.986379\n",
      "max        0.999926\n",
      "dtype: float64\n",
      "\n",
      "Skipped intronic usage:\n",
      "count    89.000000\n",
      "mean      0.963913\n",
      "std       0.030036\n",
      "min       0.900331\n",
      "25%       0.942501\n",
      "50%       0.969028\n",
      "75%       0.989955\n",
      "max       0.999797\n",
      "dtype: float64\n"
     ]
    }
   ],
   "source": [
    "## Quality checks of significance filtering\n",
    "\n",
    "print(\"\\nPolyaID classification:\")\n",
    "clin_max_class = clin_filt[['referenceClassprob','alternateClassprob']].max(axis = 1)\n",
    "print(clin_max_class.describe())\n",
    "\n",
    "\n",
    "print(\"\\nPolyaStrength score:\")\n",
    "clin_max_str = clin_filt[['referenceStrength','alternateStrength']].max(axis = 1)\n",
    "print(clin_max_str.describe())\n",
    "\n",
    "\n",
    "print(\"\\nPolyaStrength change:\")\n",
    "clin_delta_str = clin_filt['alternateStrength'] - clin_filt['referenceStrength']\n",
    "print(abs(clin_delta_str).describe())\n",
    "\n",
    "\n",
    "print(\"\\nComposite intronic usage:\")\n",
    "clin_max_ic = clin_filt.loc[clin_filt['referenceFeature'] == 'intron:composite', ['referenceICprob','alternateICprob']].max(axis = 1)\n",
    "print(clin_max_ic.describe())\n",
    "\n",
    "\n",
    "print(\"\\nSkipped intronic usage:\")\n",
    "clin_max_is = clin_filt.loc[clin_filt['referenceFeature'] == 'intron:skipped', ['referenceISprob','alternateISprob']].max(axis = 1)\n",
    "print(clin_max_is.describe())\n"
   ]
  },
  {
   "cell_type": "code",
   "execution_count": 7,
   "metadata": {},
   "outputs": [
    {
     "data": {
      "image/png": "[encoded data removed]",
      "text/plain": [
       "<Figure size 576x216 with 8 Axes>"
      ]
     },
     "metadata": {
      "needs_background": "light"
     },
     "output_type": "display_data"
    }
   ],
   "source": [
    "fig,ax = plt.subplots(2,4, figsize = (8,3))\n",
    "ax = ax.T\n",
    "\n",
    "for a in ax[0]:\n",
    "    a.hist(clin_filt[['referenceClassprob','alternateClassprob']].max(axis = 1), color = 'gray', bins = 30)\n",
    "    a.axvline(x = 0.9, color = 'black', linestyle = 'dashed', linewidth = 0.5)\n",
    "    a.xaxis.set_major_locator(MultipleLocator(0.05))\n",
    "    a.set_xlim(0.89,1.01)\n",
    "\n",
    "for a in ax[1]:\n",
    "    a.hist(clin_filt['deltaClassification'], color = 'gray', bins = 30)\n",
    "    a.xaxis.set_major_locator(MultipleLocator(0.5))\n",
    "    a.set_xlim(-1.02,1.02)\n",
    "\n",
    "for a in ax[2]:\n",
    "    a.hist(clin_filt[['referenceStrength','alternateStrength']].max(axis = 1), color = 'gray', bins = 30)\n",
    "    a.axvline(x = -9, color = 'black', linestyle = 'dashed', linewidth = 0.5)\n",
    "    a.xaxis.set_major_locator(MultipleLocator(5))\n",
    "    a.set_xlim(-10,10)\n",
    "\n",
    "for a in ax[3]:\n",
    "    a.hist(clin_filt['deltaStrength'], color = 'gray', bins = 30)\n",
    "    a.axvline(x = -1, color = 'black', linestyle = 'dashed', linewidth = 0.5)\n",
    "    a.axvline(x = +1, color = 'black', linestyle = 'dashed', linewidth = 0.5)\n",
    "    a.xaxis.set_major_locator(MultipleLocator(5))\n",
    "    a.set_xlim(-15,15)\n",
    "    \n",
    "for a in ax[:,1]:\n",
    "    a.set_yscale('log')\n",
    "\n",
    "ax[0][0].set_ylabel(\"Frequency\")\n",
    "ax[0][1].set_ylabel(\"Frequency (log scale)\")\n",
    "\n",
    "plt.suptitle(f\"ClinVar variants representative test sites, N = {len(clin_filt):,d})\")\n",
    "plt.tight_layout()\n",
    "plt.show()\n"
   ]
  },
  {
   "cell_type": "code",
   "execution_count": 8,
   "metadata": {},
   "outputs": [
    {
     "name": "stdout",
     "output_type": "stream",
     "text": [
      "\n",
      "### Extended/terminal exonic:\n",
      "Number of variant-pA test sites        1723\n",
      "Number of unique variants              1680\n",
      "Number of variants affecting >1 gene     29\n",
      "\n",
      "Number of types of sites-\n",
      "terminal_exon             1503\n",
      "extended_terminal_exon     220\n",
      "Name: referenceFeature, dtype: int64\n",
      "\n",
      "Direction of effects on strength-\n",
      "weakened        893\n",
      "strengthened    830\n",
      "Name: directionEffect, dtype: int64\n",
      "\n",
      "### Intronic:\n",
      "Number of variant-pA test sites         700\n",
      "Number of unique variants               699\n",
      "Number of variants affecting >1 gene      1\n",
      "\n",
      "Number of types of sites-\n",
      "intron:composite    611\n",
      "intron:skipped       89\n",
      "Name: referenceFeature, dtype: int64\n",
      "\n",
      "Direction of effects on strength-\n",
      "strengthened    387\n",
      "weakened        313\n",
      "Name: directionEffect, dtype: int64\n"
     ]
    }
   ],
   "source": [
    "print(\"\\n### Extended/terminal exonic:\")\n",
    "print(f\"Number of variant-pA test sites      {clin_filt_xte.shape[0]:6}\")\n",
    "print(f\"Number of unique variants            {clin_filt_xte.variantID.nunique():6}\")\n",
    "print(f\"Number of variants affecting >1 gene {(clin_filt_xte.variantID.value_counts() > 1).sum():6}\")\n",
    "\n",
    "print(f\"\\nNumber of types of sites-\\n{clin_filt_xte.referenceFeature.value_counts()}\")\n",
    "print(f\"\\nDirection of effects on strength-\\n{clin_filt_xte.directionEffect.value_counts()}\")\n",
    "\n",
    "\n",
    "print(\"\\n### Intronic:\")\n",
    "print(f\"Number of variant-pA test sites      {clin_filt_int.shape[0]:6}\")\n",
    "print(f\"Number of unique variants            {clin_filt_int.variantID.nunique():6}\")\n",
    "print(f\"Number of variants affecting >1 gene {(clin_filt_int.variantID.value_counts() > 1).sum():6}\")\n",
    "\n",
    "print(f\"\\nNumber of types of sites-\\n{clin_filt_int.referenceFeature.value_counts()}\")\n",
    "print(f\"\\nDirection of effects on strength-\\n{clin_filt_int.directionEffect.value_counts()}\")\n"
   ]
  },
  {
   "cell_type": "markdown",
   "metadata": {},
   "source": [
    "#### Split variant representative sites by their effect on APA activity and save to BED files"
   ]
  },
  {
   "cell_type": "code",
   "execution_count": 9,
   "metadata": {},
   "outputs": [
    {
     "name": "stderr",
     "output_type": "stream",
     "text": [
      "/home/esk863/.local/lib/python3.6/site-packages/pandas/core/indexing.py:1418: FutureWarning: \n",
      "Passing list-likes to .loc or [] with any missing label will raise\n",
      "KeyError in the future, you can use .reindex() as an alternative.\n",
      "\n",
      "See the documentation here:\n",
      "https://pandas.pydata.org/pandas-docs/stable/user_guide/indexing.html#deprecate-loc-reindex-listlike\n",
      "  return self._getitem_tuple(key)\n"
     ]
    }
   ],
   "source": [
    "test_bed_cols = ['chrom', 'positionTest', 'positionTest+1', 'label', 'readsSlop', 'strand']\n",
    "\n",
    "clin_filt['positionTest+1'] = clin_filt['positionTest']+1\n",
    "\n",
    "clin_filt['label'] = clin_filt['variantID']\n",
    "clin_filt['label'] = clin_filt['label'] + \"|\" + clin_filt['reference'] + \">\" + clin_filt['alternate']\n",
    "clin_filt['label'] = clin_filt['label'] + \"|\" + clin_filt['affectedMotif']\n",
    "clin_filt['label'] = clin_filt['label'] + \"|dID=\" + clin_filt['deltaClassification'].round(3).astype(str) + \"(\" + clin_filt['referenceClassprob'].round(3).astype(str) + \">\" + clin_filt['alternateClassprob'].round(3).astype(str) + \")\"\n",
    "clin_filt['label'] = clin_filt['label'] + \"|dSTR=\" + clin_filt['deltaStrengthProb'].round(3).astype(str) + \"(\" + clin_filt['referenceStrengthProb'].round(3).astype(str) + \">\" + clin_filt['alternateStrengthProb'].round(3).astype(str) + \")\"\n",
    "\n",
    "clin_filt.loc[clin_filt['referenceFeature'] == 'intron:composite', 'label'] = clin_filt['label'] + \"|dIC=\" + (clin_filt['alternateICprob'] - clin_filt['referenceICprob']).round(3).astype(str) + \"(\" + clin_filt['referenceICprob'].round(3).astype(str) + \">\" + clin_filt['alternateICprob'].round(3).astype(str) + \")\"\n",
    "clin_filt.loc[clin_filt['referenceFeature'] == 'intron:skipped', 'label'] = clin_filt['label'] + \"|dIS=\" + (clin_filt['alternateISprob'] - clin_filt['referenceISprob']).round(3).astype(str) + \"(\" + clin_filt['referenceISprob'].round(3).astype(str) + \">\" + clin_filt['alternateISprob'].round(3).astype(str) + \")\"\n",
    "\n",
    "clin_filt['label'] = clin_filt['label'] + \"|\" + clin_filt['directionEffect']\n",
    "\n",
    "for strand in ['+','-']:\n",
    "    strand_str = \"fwd\" if (strand == \"+\") else \"rev\"\n",
    "    \n",
    "    for direction in ['strengthened','weakened','mixed']:\n",
    "\n",
    "        (clin_filt.loc[(clin_filt['strand'] == strand) & (clin_filt['directionEffect'] == direction), test_bed_cols]\n",
    "         .drop_duplicates()\n",
    "         .to_csv(os.path.join(OUTDIR, f'clinvar.representative_sites.significant.{direction}.{strand_str}.bed'), sep = \"\\t\", index = False, header = False)\n",
    "        )\n"
   ]
  },
  {
   "cell_type": "markdown",
   "metadata": {},
   "source": [
    "#### Annotate clinical associations to variants and remove those with no disease relevance"
   ]
  },
  {
   "cell_type": "code",
   "execution_count": 10,
   "metadata": {},
   "outputs": [
    {
     "name": "stdout",
     "output_type": "stream",
     "text": [
      "\n",
      "Dataset\t\tShape\t\tGenes Variants Combinations\n",
      "clin_filt      \t(2423, 46)\t 1206     2379         2423\n",
      "clin_filt_long \t(3368, 46)\t 1206     2379         2423\n",
      "clin_filt_assoc\t(2428, 46)\t  879     1711         1751\n",
      "\n",
      "Clinically-associated variants split by genomic feature:\n",
      "Feature\t\tShape\t\tGenes Variants Combinations\n",
      "intronic       \t(448, 46)\t  187      306          307\n",
      "terminal exonic\t(1980, 46)\t  752     1405         1444\n"
     ]
    }
   ],
   "source": [
    "clin_filt_long = clin_filt.explode('clinical_condition').reset_index(drop = True)\n",
    "clin_filt_long['label'] = clin_filt_long['label'] + \"|\" + clin_filt_long['clinical_condition']\n",
    "\n",
    "clin_filt_assoc = clin_filt_long.loc[~clin_filt_long['clinical_condition'].isin(['not_provided','not_specified'])].copy()\n",
    "assoc_int = clin_filt_assoc.loc[clin_filt_assoc.referenceFeature.str.contains('intron')]\n",
    "assoc_xte = clin_filt_assoc.loc[clin_filt_assoc.referenceFeature.str.contains('terminal_exon')]\n",
    "\n",
    "print(\"\\nDataset\\t\\tShape\\t\\tGenes Variants Combinations\")\n",
    "print(f\"clin_filt      \\t{clin_filt.shape}\\t{clin_filt.gene.nunique():5} {clin_filt.variantID.nunique():8} {clin_filt.groupby(['variantID','gene']).size().shape[0]:12}\")\n",
    "print(f\"clin_filt_long \\t{clin_filt_long.shape}\\t{clin_filt_long.gene.nunique():5} {clin_filt_long.variantID.nunique():8} {clin_filt_long.groupby(['variantID','gene']).size().shape[0]:12}\")\n",
    "print(f\"clin_filt_assoc\\t{clin_filt_assoc.shape}\\t{clin_filt_assoc.gene.nunique():5} {clin_filt_assoc.variantID.nunique():8} {clin_filt_assoc.groupby(['variantID','gene']).size().shape[0]:12}\")\n",
    "\n",
    "print(\"\\nClinically-associated variants split by genomic feature:\")\n",
    "print(\"Feature\\t\\tShape\\t\\tGenes Variants Combinations\")\n",
    "print(f\"intronic       \\t{assoc_int.shape}\\t{assoc_int.gene.nunique():5} {assoc_int.variantID.nunique():8} {assoc_int.groupby(['variantID','gene']).size().shape[0]:12}\")\n",
    "print(f\"terminal exonic\\t{assoc_xte.shape}\\t{assoc_xte.gene.nunique():5} {assoc_xte.variantID.nunique():8} {assoc_xte.groupby(['variantID','gene']).size().shape[0]:12}\")\n"
   ]
  },
  {
   "cell_type": "code",
   "execution_count": 11,
   "metadata": {
    "scrolled": true
   },
   "outputs": [
    {
     "data": {
      "text/plain": [
       "Hereditary_cancer-predisposing_syndrome              94\n",
       "Familial_adenomatous_polyposis_1                     35\n",
       "Retinitis_pigmentosa                                 27\n",
       "Familial_cancer_of_breast                            24\n",
       "Hereditary_nonpolyposis_colorectal_neoplasms         21\n",
       "                                                     ..\n",
       "Leukoencephalopathy_with_vanishing_white_matter       1\n",
       "Parkinson_Disease_Dominant/Recessive                  1\n",
       "Macular_degeneration                                  1\n",
       "Multicentric_osteolysis_nodulosis_and_arthropathy     1\n",
       "Jervell_and_Lange-Nielsen_syndrome                    1\n",
       "Name: clinical_condition, Length: 1117, dtype: int64"
      ]
     },
     "execution_count": 11,
     "metadata": {},
     "output_type": "execute_result"
    }
   ],
   "source": [
    "clin_filt_assoc['clinical_condition'].value_counts()"
   ]
  },
  {
   "cell_type": "markdown",
   "metadata": {},
   "source": [
    "#### Create annotated VCF file of significant variants"
   ]
  },
  {
   "cell_type": "code",
   "execution_count": 12,
   "metadata": {},
   "outputs": [
    {
     "name": "stdout",
     "output_type": "stream",
     "text": [
      "# Included IDs: 2379\n"
     ]
    },
    {
     "name": "stderr",
     "output_type": "stream",
     "text": [
      "102786it [00:46, 2215.96it/s]\n",
      "172051it [00:34, 4979.66it/s]\n"
     ]
    }
   ],
   "source": [
    "filtered_ids = list(set(clin_filt_long['variantID'].tolist()))\n",
    "print(\"# Included IDs:\", len(filtered_ids))\n",
    "\n",
    "annotation_to_add = {\n",
    "    'representative_test_position'        : 'positionTest',\n",
    "    'representative_test_position_feature': 'referenceFeature',\n",
    "    'variant_distance_to_test_position'   : 'testSiteDistStranded',\n",
    "    'variant_affected_motif_details'      : 'affectedMotifs',\n",
    "    'variant_clinical_associations'       : 'clinical_condition',\n",
    "    'variant_clinical_significance'       : 'clinical_significance',\n",
    "    'ref_classification'                  : 'referenceClassprob',\n",
    "    'alt_classification'                  : 'alternateClassprob',\n",
    "    'ref_strength'                        : 'referenceStrength',\n",
    "    'alt_strength'                        : 'alternateStrength',\n",
    "    'ref_strength_probability'            : 'referenceStrengthProb',\n",
    "    'alt_strength_probability'            : 'alternateStrengthProb',\n",
    "    'ref_peak_clv_profile'                : 'referenceNormClvProfile',\n",
    "    'alt_peak_clv_profile'                : 'alternateNormClvProfile',\n",
    "    'ref_intron_composite_usage'          : 'referenceICprob',\n",
    "    'alt_intron_composite_usage'          : 'alternateICprob',\n",
    "    'ref_intron_skipped_usage'            : 'referenceISprob',\n",
    "    'alt_intron_skipped_usage'            : 'alternateISprob',\n",
    "    'delta_probability_classification'    : 'deltaClassification',\n",
    "    'delta_probability_strength'          : 'deltaStrengthProb',\n",
    "    'delta_logit_strength'                : 'deltaStrength',\n",
    "}\n",
    "\n",
    "vcf_te = os.path.join(CLINDIR, 'clinvar.pc.max_100.fully_within_xte.affected_motifs_sig_complete.vcf')\n",
    "vcf_int = os.path.join(CLINDIR, 'clinvar.pc.max_100.fully_within_intron.affected_motifs_sig_complete.vcf')\n",
    "\n",
    "vcf_te_reader  = vcf.Reader(open(vcf_te, 'r'))\n",
    "vcf_int_reader = vcf.Reader(open(vcf_int, 'r'))\n",
    "\n",
    "vcf_out1 = os.path.join(CLINDIR, 'clinvar.pc.max_100.fully_within_feature.affected_motifs_sig_complete.significant.vcf')\n",
    "vcf_out1_writer = vcf.Writer(open(vcf_out1, 'w'), vcf_te_reader)\n",
    "\n",
    "vcf_out2 = os.path.join(OUTDIR, 'clinvar.significant.vcf')\n",
    "vcf_out2_writer = vcf.Writer(open(vcf_out2, 'w'), vcf_te_reader)\n",
    "\n",
    "for record in tqdm.tqdm(vcf_te_reader):\n",
    "    if (record.ID in filtered_ids):\n",
    "        \n",
    "        if (list(annotation_to_add.keys())[0] not in record.INFO.keys()):\n",
    "            for k in annotation_to_add.keys():\n",
    "                record.INFO[k] = []\n",
    "            \n",
    "        for k,dk in annotation_to_add.items():\n",
    "            values = genetics.find_clinvar_attribute_value(clin_filt_long, f'{record.ID}', dk)\n",
    "            genetics.add_annotation_attribute(record.INFO, k, values)\n",
    "        \n",
    "        vcf_out1_writer.write_record(record); vcf_out1_writer.flush()\n",
    "        vcf_out2_writer.write_record(record); vcf_out2_writer.flush()\n",
    "        \n",
    "        \n",
    "for record in tqdm.tqdm(vcf_int_reader):\n",
    "    if (record.ID in filtered_ids):\n",
    "        \n",
    "        if (list(annotation_to_add.keys())[0] not in record.INFO.keys()):\n",
    "            for k in annotation_to_add.keys():\n",
    "                record.INFO[k] = []\n",
    "            \n",
    "        for k,dk in annotation_to_add.items():\n",
    "            values = genetics.find_clinvar_attribute_value(clin_filt_long, f'{record.ID}', dk)\n",
    "            genetics.add_annotation_attribute(record.INFO, k, values)\n",
    "        \n",
    "        vcf_out1_writer.write_record(record); vcf_out1_writer.flush()\n",
    "        vcf_out2_writer.write_record(record); vcf_out2_writer.flush()\n",
    "\n",
    "        \n",
    "vcf_out1_writer.close()\n",
    "vcf_out2_writer.close()\n",
    "    "
   ]
  },
  {
   "cell_type": "markdown",
   "metadata": {},
   "source": [
    "#### Save overall table"
   ]
  },
  {
   "cell_type": "code",
   "execution_count": 13,
   "metadata": {},
   "outputs": [
    {
     "name": "stdout",
     "output_type": "stream",
     "text": [
      "(2423, 23)\n"
     ]
    }
   ],
   "source": [
    "out_cols = [\n",
    "    'variantID',\n",
    "    'chrom', 'position', 'reference', 'alternate',\n",
    "    'gene', 'geneStrand', 'positionTest', 'testSiteDistStranded',\n",
    "    'referenceFeature',\n",
    "    'referenceClassprob', 'alternateClassprob', 'deltaClassification',\n",
    "    'referenceStrength', 'alternateStrength', 'deltaStrength', \n",
    "    'referenceICprob', 'alternateICprob', \n",
    "    'referenceISprob', 'alternateISprob', \n",
    "    'affectedMotifs', 'clinical_significance','clinical_condition']\n",
    "\n",
    "out_data = (clin_filt[out_cols]\n",
    "            .drop_duplicates(subset = out_cols[:9])\n",
    "            .sort_values(['chrom','positionTest'])\n",
    ")\n",
    "\n",
    "out_data.to_csv(os.path.join(OUTDIR, f'clinvar.representative_sites.significant.txt'), sep = \"\\t\", index = False)\n",
    "print(out_data.shape)\n"
   ]
  },
  {
   "cell_type": "markdown",
   "metadata": {},
   "source": [
    "#### Make accompanying tracks"
   ]
  },
  {
   "cell_type": "code",
   "execution_count": 14,
   "metadata": {},
   "outputs": [],
   "source": [
    "bed_cols = ['chrom', 'positionTest', 'positionTest+1', 'label', 'deltaStrength', 'strand']\n",
    "bedgraph_cols = ['chrom','positionTest','positionTest+1']\n",
    "\n",
    "for strand in ['+','-']:\n",
    "    strand_str = \"fwd\" if (strand == \"+\") else \"rev\"\n",
    "    \n",
    "    strand_data = clin_filt_long.loc[clin_filt_long['strand'] == strand]\n",
    "    \n",
    "    (strand_data[bed_cols]\n",
    "     .drop_duplicates()\n",
    "     .sort_values(['chrom','positionTest'])\n",
    "     .to_csv(os.path.join(OUTDIR, f'clinvar.significant.disease_assoc.{strand_str}.bed'), sep = \"\\t\", index = False, header = False)\n",
    "    )\n",
    "    \n",
    "    for score in ['referenceClassprob','alternateClassprob','referenceStrength','alternateStrength', 'referenceStrengthProb', 'alternateStrengthProb']:\n",
    "        \n",
    "        (strand_data[bedgraph_cols + [score]]\n",
    "         .drop_duplicates()\n",
    "         .sort_values(['chrom','positionTest'])\n",
    "         .groupby(['chrom','positionTest','positionTest+1']).agg('max').reset_index()\n",
    "         .to_csv(os.path.join(OUTDIR, f'clinvar.significant.disease_assoc.{score}.{strand_str}.bedgraph'), sep = \"\\t\", index = False, header = False)\n",
    "        )\n",
    "        \n",
    "    for direction in ['strengthened','weakened','mixed']:\n",
    "\n",
    "        (strand_data.loc[strand_data['directionEffect'] == direction, bed_cols]\n",
    "         .drop_duplicates()\n",
    "         .to_csv(os.path.join(OUTDIR, f'clinvar.significant.disease_assoc.{direction}.{strand_str}.bed'), sep = \"\\t\", index = False, header = False)\n",
    "        )\n"
   ]
  },
  {
   "cell_type": "markdown",
   "metadata": {},
   "source": [
    "## Analyze significant variants"
   ]
  },
  {
   "cell_type": "markdown",
   "metadata": {},
   "source": [
    "### Variants affecting extended/terminal exonic sites"
   ]
  },
  {
   "cell_type": "markdown",
   "metadata": {},
   "source": [
    "#### Visualize relationship between changes in PolyaID classification and PolyaStrength scores"
   ]
  },
  {
   "cell_type": "code",
   "execution_count": 15,
   "metadata": {},
   "outputs": [
    {
     "data": {
      "image/png": "[encoded data removed]",
      "text/plain": [
       "<Figure size 108x108 with 1 Axes>"
      ]
     },
     "metadata": {
      "needs_background": "light"
     },
     "output_type": "display_data"
    },
    {
     "name": "stdout",
     "output_type": "stream",
     "text": [
      "Corresponding metrics:\n",
      "Pearson R- 1723 (0.7322537295734074, 1.9967276661636006e-289)\n"
     ]
    }
   ],
   "source": [
    "fig,ax = plt.subplots(1,1, figsize = (1.5,1.5))\n",
    "\n",
    "sns.scatterplot(data = clin_filt_xte, x = 'deltaClassification', y = 'deltaStrength',\n",
    "                color = 'dimgray', s = 2, alpha = 0.5, rasterized = True, ax = ax)\n",
    "\n",
    "ax.set_xlabel(\"delta PolyaID classification\")\n",
    "ax.set_ylabel(\"delta PolyaStrength score\")\n",
    "\n",
    "ax.set_xlim(-1,1)\n",
    "ax.set_xticks(np.arange(-1,1.01,0.25))\n",
    "ax.set_xticklabels(['-1.0','','-0.5','','0','','0.5','','1.0'])\n",
    "\n",
    "ax.set_ylim(-15,15)\n",
    "ax.yaxis.set_major_locator(MultipleLocator(5))\n",
    "\n",
    "ax.spines['right'].set_visible(False)\n",
    "ax.spines['top'].set_visible(False)\n",
    "\n",
    "plt.savefig(os.path.join(OUTDIR, 'clinvar.xte.scatter.polyaid_vs_polyastrength.delta.svg'), format = 'svg', dpi = 600, transparent = True)\n",
    "plt.show()\n",
    "\n",
    "\n",
    "print(\"Corresponding metrics:\")\n",
    "print(\"Pearson R-\", len(clin_filt_xte), st.pearsonr(clin_filt_xte['deltaClassification'], clin_filt_xte['deltaStrength']))\n"
   ]
  },
  {
   "cell_type": "markdown",
   "metadata": {},
   "source": [
    "#### Visualize the distribution of variants around the representative test sites"
   ]
  },
  {
   "cell_type": "code",
   "execution_count": 16,
   "metadata": {},
   "outputs": [],
   "source": [
    "paper_examples = ['617462','617458','617463',\n",
    "                  '896666','302582','196038','1043148',\n",
    "                  '35555','329889','1106650','344948']\n",
    "\n",
    "extreme_values = []\n",
    "\n",
    "clin_filt_xte['examples'] = np.nan\n",
    "clin_filt_xte.loc[clin_filt_xte['variantID'].isin(extreme_values), 'examples'] = 'extreme'\n",
    "clin_filt_xte.loc[clin_filt_xte['variantID'].isin(paper_examples), 'examples'] = 'paper'\n"
   ]
  },
  {
   "cell_type": "code",
   "execution_count": 17,
   "metadata": {},
   "outputs": [
    {
     "data": {
      "image/png": "[encoded data removed]",
      "text/plain": [
       "<Figure size 216x108 with 1 Axes>"
      ]
     },
     "metadata": {
      "needs_background": "light"
     },
     "output_type": "display_data"
    }
   ],
   "source": [
    "fig,ax = plt.subplots(1,1, figsize = (3,1.5))\n",
    "\n",
    "ax.axhline(y = -1, color = 'black', linestyle = 'dashed', linewidth = 1)\n",
    "ax.axhline(y = +1, color = 'black', linestyle = 'dashed', linewidth = 1)\n",
    "\n",
    "sns.scatterplot(data = clin_filt_xte, x = 'testSiteDistStranded', y = 'deltaStrength', \n",
    "                color = 'gray', edgecolor = None, s = 1, alpha = 0.75, ax = ax)\n",
    "\n",
    "sns.scatterplot(data = clin_filt_xte.loc[(clin_filt_xte['examples'] == 'extreme')], \n",
    "                x = 'testSiteDistStranded', y = 'deltaStrength', \n",
    "                color = 'red', edgecolor = None, s = 5, alpha = 1, ax = ax)\n",
    "\n",
    "sns.scatterplot(data = clin_filt_xte.loc[(clin_filt_xte['examples'] == 'paper')],\n",
    "                x = 'testSiteDistStranded', y = 'deltaStrength', \n",
    "                color = 'red', edgecolor = 'black', linewidth = 0.5, s = 7, alpha = 1, ax = ax)\n",
    "\n",
    "ax.set_xlim(-120,120)\n",
    "ax.set_xticks(np.arange(-120,121,10))\n",
    "ax.set_xticklabels(['-120','','','-90','','','-60','','','-30','','','0','','','30','','','60','','','90','','','120'])\n",
    "\n",
    "ax.set_ylim(-15,15)\n",
    "ax.yaxis.set_major_locator(MultipleLocator(3))\n",
    "\n",
    "ax.set_xlabel(\"Distance to max cleavage site (nt)\")\n",
    "ax.set_ylabel(\"delta PolyaStrength score\")\n",
    "\n",
    "ax.spines['right'].set_visible(False)\n",
    "ax.spines['top'].set_visible(False)\n",
    "\n",
    "plt.savefig(os.path.join(OUTDIR, 'clinvar.xte.change_strength_by_position.prob.repr.highlight.svg'), format = 'svg', dpi = 600, transparent = True)\n",
    "plt.show()\n"
   ]
  },
  {
   "cell_type": "code",
   "execution_count": 18,
   "metadata": {},
   "outputs": [
    {
     "data": {
      "text/html": [
       "<div>\n",
       "<style scoped>\n",
       "    .dataframe tbody tr th:only-of-type {\n",
       "        vertical-align: middle;\n",
       "    }\n",
       "\n",
       "    .dataframe tbody tr th {\n",
       "        vertical-align: top;\n",
       "    }\n",
       "\n",
       "    .dataframe thead th {\n",
       "        text-align: right;\n",
       "    }\n",
       "</style>\n",
       "<table border=\"1\" class=\"dataframe\">\n",
       "  <thead>\n",
       "    <tr style=\"text-align: right;\">\n",
       "      <th></th>\n",
       "      <th>variantID</th>\n",
       "      <th>gene</th>\n",
       "      <th>affectedMotifs</th>\n",
       "      <th>testSiteDistStranded</th>\n",
       "      <th>deltaClassification</th>\n",
       "      <th>deltaStrength</th>\n",
       "      <th>examples</th>\n",
       "    </tr>\n",
       "  </thead>\n",
       "  <tbody>\n",
       "    <tr>\n",
       "      <td>229</td>\n",
       "      <td>896666</td>\n",
       "      <td>LRPPRC</td>\n",
       "      <td>created_TGTA-Rich|TTGTAT,ATTGTA,TGTATT</td>\n",
       "      <td>-86</td>\n",
       "      <td>0.000004</td>\n",
       "      <td>2.263144</td>\n",
       "      <td>paper</td>\n",
       "    </tr>\n",
       "    <tr>\n",
       "      <td>1604</td>\n",
       "      <td>302582</td>\n",
       "      <td>SCN4B</td>\n",
       "      <td>disrupted_TGTA-Rich|TTGTAT,ATTGTA,TGTATT</td>\n",
       "      <td>-37</td>\n",
       "      <td>-0.000119</td>\n",
       "      <td>-3.271526</td>\n",
       "      <td>paper</td>\n",
       "    </tr>\n",
       "    <tr>\n",
       "      <td>2638</td>\n",
       "      <td>617462</td>\n",
       "      <td>NAA10</td>\n",
       "      <td>disrupted_AATAAA|AATAAA</td>\n",
       "      <td>-25</td>\n",
       "      <td>-0.646313</td>\n",
       "      <td>-3.792884</td>\n",
       "      <td>paper</td>\n",
       "    </tr>\n",
       "    <tr>\n",
       "      <td>2637</td>\n",
       "      <td>617458</td>\n",
       "      <td>NAA10</td>\n",
       "      <td>disrupted_AATAAA|AATAAA</td>\n",
       "      <td>-24</td>\n",
       "      <td>-0.251476</td>\n",
       "      <td>-3.444041</td>\n",
       "      <td>paper</td>\n",
       "    </tr>\n",
       "    <tr>\n",
       "      <td>510</td>\n",
       "      <td>344948</td>\n",
       "      <td>ACVR2B</td>\n",
       "      <td>created_AATAAA|AATAAA</td>\n",
       "      <td>-23</td>\n",
       "      <td>0.510231</td>\n",
       "      <td>6.541848</td>\n",
       "      <td>paper</td>\n",
       "    </tr>\n",
       "    <tr>\n",
       "      <td>363</td>\n",
       "      <td>196038</td>\n",
       "      <td>SCN2A</td>\n",
       "      <td>created_AATAAA|AATAAA</td>\n",
       "      <td>-21</td>\n",
       "      <td>0.965398</td>\n",
       "      <td>5.263720</td>\n",
       "      <td>paper</td>\n",
       "    </tr>\n",
       "    <tr>\n",
       "      <td>2419</td>\n",
       "      <td>329889</td>\n",
       "      <td>PNKP</td>\n",
       "      <td>disrupted_AATAAA|AATAAA</td>\n",
       "      <td>-21</td>\n",
       "      <td>-0.231629</td>\n",
       "      <td>-10.270095</td>\n",
       "      <td>paper</td>\n",
       "    </tr>\n",
       "    <tr>\n",
       "      <td>2636</td>\n",
       "      <td>617463</td>\n",
       "      <td>NAA10</td>\n",
       "      <td>disrupted_AATAAA|AATAAA</td>\n",
       "      <td>-21</td>\n",
       "      <td>-0.897948</td>\n",
       "      <td>-4.735051</td>\n",
       "      <td>paper</td>\n",
       "    </tr>\n",
       "    <tr>\n",
       "      <td>1285</td>\n",
       "      <td>1043148</td>\n",
       "      <td>PLEC</td>\n",
       "      <td>created_AATAAA|AATAAA</td>\n",
       "      <td>-20</td>\n",
       "      <td>0.898700</td>\n",
       "      <td>11.911484</td>\n",
       "      <td>paper</td>\n",
       "    </tr>\n",
       "    <tr>\n",
       "      <td>149</td>\n",
       "      <td>1106650</td>\n",
       "      <td>TNNT2</td>\n",
       "      <td>created_AATAAA|AATAAA</td>\n",
       "      <td>-19</td>\n",
       "      <td>0.643895</td>\n",
       "      <td>10.966815</td>\n",
       "      <td>paper</td>\n",
       "    </tr>\n",
       "    <tr>\n",
       "      <td>2178</td>\n",
       "      <td>35555</td>\n",
       "      <td>TP53</td>\n",
       "      <td>disrupted_AATAAA|AATAAA</td>\n",
       "      <td>-14</td>\n",
       "      <td>-0.184303</td>\n",
       "      <td>-10.303949</td>\n",
       "      <td>paper</td>\n",
       "    </tr>\n",
       "  </tbody>\n",
       "</table>\n",
       "</div>"
      ],
      "text/plain": [
       "     variantID    gene                            affectedMotifs  \\\n",
       "229     896666  LRPPRC    created_TGTA-Rich|TTGTAT,ATTGTA,TGTATT   \n",
       "1604    302582   SCN4B  disrupted_TGTA-Rich|TTGTAT,ATTGTA,TGTATT   \n",
       "2638    617462   NAA10                   disrupted_AATAAA|AATAAA   \n",
       "2637    617458   NAA10                   disrupted_AATAAA|AATAAA   \n",
       "510     344948  ACVR2B                     created_AATAAA|AATAAA   \n",
       "363     196038   SCN2A                     created_AATAAA|AATAAA   \n",
       "2419    329889    PNKP                   disrupted_AATAAA|AATAAA   \n",
       "2636    617463   NAA10                   disrupted_AATAAA|AATAAA   \n",
       "1285   1043148    PLEC                     created_AATAAA|AATAAA   \n",
       "149    1106650   TNNT2                     created_AATAAA|AATAAA   \n",
       "2178     35555    TP53                   disrupted_AATAAA|AATAAA   \n",
       "\n",
       "      testSiteDistStranded  deltaClassification  deltaStrength examples  \n",
       "229                    -86             0.000004       2.263144    paper  \n",
       "1604                   -37            -0.000119      -3.271526    paper  \n",
       "2638                   -25            -0.646313      -3.792884    paper  \n",
       "2637                   -24            -0.251476      -3.444041    paper  \n",
       "510                    -23             0.510231       6.541848    paper  \n",
       "363                    -21             0.965398       5.263720    paper  \n",
       "2419                   -21            -0.231629     -10.270095    paper  \n",
       "2636                   -21            -0.897948      -4.735051    paper  \n",
       "1285                   -20             0.898700      11.911484    paper  \n",
       "149                    -19             0.643895      10.966815    paper  \n",
       "2178                   -14            -0.184303     -10.303949    paper  "
      ]
     },
     "execution_count": 18,
     "metadata": {},
     "output_type": "execute_result"
    }
   ],
   "source": [
    "preview_cols = ['variantID','gene','affectedMotifs','testSiteDistStranded','deltaClassification','deltaStrength','examples']\n",
    "clin_filt_xte.loc[clin_filt_xte['variantID'].isin(paper_examples), preview_cols].sort_values('testSiteDistStranded')\n"
   ]
  },
  {
   "cell_type": "markdown",
   "metadata": {},
   "source": [
    "#### Summarize the motifs affected by variants"
   ]
  },
  {
   "cell_type": "code",
   "execution_count": 19,
   "metadata": {},
   "outputs": [
    {
     "name": "stdout",
     "output_type": "stream",
     "text": [
      "(1358, 3)\n",
      "1346\n",
      "1358\n"
     ]
    }
   ],
   "source": [
    "clin_sum_dt = (\n",
    "    assoc_xte.loc[assoc_xte['affectedMotifDirection'] != 'retained']\n",
    "    [['variantID','affectedMotifDirection','affectedMotifFamily']]\n",
    "    .drop_duplicates()\n",
    ")\n",
    "\n",
    "clin_sum = (clin_sum_dt\n",
    "    .groupby(['affectedMotifFamily','affectedMotifDirection']).size()\n",
    "    .reset_index().rename(columns = {0:'Count'})\n",
    ")\n",
    "\n",
    "clin_sum['Proportion'] = clin_sum['Count'] / clin_sum.groupby(['affectedMotifFamily'])['Count'].transform('sum')\n",
    "\n",
    "print(clin_sum_dt.shape)\n",
    "print(clin_sum_dt.variantID.nunique())\n",
    "print(clin_sum['Count'].sum())\n"
   ]
  },
  {
   "cell_type": "code",
   "execution_count": 20,
   "metadata": {},
   "outputs": [
    {
     "name": "stderr",
     "output_type": "stream",
     "text": [
      "/home/esk863/.local/lib/python3.6/site-packages/pandas/core/indexing.py:961: FutureWarning: \n",
      "Passing list-likes to .loc or [] with any missing label will raise\n",
      "KeyError in the future, you can use .reindex() as an alternative.\n",
      "\n",
      "See the documentation here:\n",
      "https://pandas.pydata.org/pandas-docs/stable/user_guide/indexing.html#deprecate-loc-reindex-listlike\n",
      "  return getattr(section, self.name)[new_key]\n",
      "notebook_setup.py:13: UserWarning: FixedFormatter should only be used together with FixedLocator\n",
      "  from sklearn.decomposition import PCA\n"
     ]
    },
    {
     "data": {
      "image/png": "[encoded data removed]",
      "text/plain": [
       "<Figure size 90x108 with 1 Axes>"
      ]
     },
     "metadata": {
      "needs_background": "light"
     },
     "output_type": "display_data"
    }
   ],
   "source": [
    "ordering = ['AATAAA','ATTAAA','PAS Variant','A-Rich','T-Rich','TGTA-Rich','GT/CT-Rich','G-Rich']\n",
    "\n",
    "modified_props  = clin_sum.loc[clin_sum['affectedMotifDirection'] == 'modified',  ['affectedMotifFamily','Count']].set_index('affectedMotifFamily').loc[ordering, 'Count'].fillna(0)\n",
    "disrupted_props = clin_sum.loc[clin_sum['affectedMotifDirection'] == 'disrupted', ['affectedMotifFamily','Count']].set_index('affectedMotifFamily').loc[ordering, 'Count'].fillna(0)\n",
    "created_props   = clin_sum.loc[clin_sum['affectedMotifDirection'] == 'created',   ['affectedMotifFamily','Count']].set_index('affectedMotifFamily').loc[ordering, 'Count'].fillna(0)\n",
    "\n",
    "fig,ax = plt.subplots(1,1, figsize = (1.25,1.5))\n",
    "\n",
    "plt.bar(ordering, modified_props, label = 'Modified', color = 'gray', edgecolor = 'black', linewidth = 0.5)\n",
    "plt.bar(ordering, disrupted_props, bottom = modified_props, label = 'Disrupted', color = '#B3589A', edgecolor = 'black', linewidth = 0.5)\n",
    "plt.bar(ordering, created_props, bottom = modified_props + disrupted_props, label = 'Created', color = 'seagreen', edgecolor = 'black', linewidth = 0.5)\n",
    "\n",
    "ax.set_xticklabels(ordering, rotation = 45, ha = 'right', va = 'top')\n",
    "ax.set_xlabel(\"Motif family\")\n",
    "ax.set_ylabel(\"Number of significant variants\")\n",
    "\n",
    "ax.set_ylim(0,600)\n",
    "ax.yaxis.set_major_locator(MultipleLocator(100))\n",
    "\n",
    "ax.legend(bbox_to_anchor = (1.05,1))\n",
    "\n",
    "ax.spines['right'].set_visible(False)\n",
    "ax.spines['top'].set_visible(False)\n",
    "\n",
    "plt.savefig(os.path.join(OUTDIR, 'clinvar.xte.effect_by_family_by_direction.count.svg'), format = 'svg', dpi = 600, transparent = True)\n",
    "plt.show()\n"
   ]
  },
  {
   "cell_type": "markdown",
   "metadata": {},
   "source": [
    "#### Summarize the clinical significance of significant variants"
   ]
  },
  {
   "cell_type": "code",
   "execution_count": 21,
   "metadata": {},
   "outputs": [
    {
     "name": "stdout",
     "output_type": "stream",
     "text": [
      "(1405, 3)\n",
      "1405\n",
      "1405\n"
     ]
    }
   ],
   "source": [
    "sig_ordering = ['Benign','Benign/Likely_benign','Likely_benign',\n",
    "                'Uncertain_significance',\n",
    "                'Likely_pathogenic','Pathogenic/Likely_pathogenic','Pathogenic',\n",
    "                'Conflicting_interpretations_of_pathogenicity','Other']\n",
    "\n",
    "clin_sig = assoc_xte[['variantID','clinical_significance']].drop_duplicates()\n",
    "\n",
    "clin_sig['clin_sig'] = 'Other'\n",
    "clin_sig.loc[clin_sig['clinical_significance'].isin(sig_ordering), 'clin_sig'] = clin_sig['clinical_significance']\n",
    "\n",
    "clin_sig_sum = clin_sig.groupby(['clin_sig']).size().loc[sig_ordering].reset_index().rename(columns = {0:'count'})\n",
    "clin_sig_sum['prop']  = clin_sig_sum['count'] / clin_sig_sum['count'].sum()\n",
    "clin_sig_sum['label'] = clin_sig_sum['clin_sig'] + \" (\" + (clin_sig_sum['prop']*100).round(2).astype(str) + \"%)\"\n",
    "\n",
    "print(clin_sig.shape)\n",
    "print(clin_sig.variantID.nunique())\n",
    "print(clin_sig_sum['count'].sum())\n"
   ]
  },
  {
   "cell_type": "code",
   "execution_count": 22,
   "metadata": {},
   "outputs": [
    {
     "data": {
      "image/png": "[encoded data removed]",
      "text/plain": [
       "<Figure size 108x108 with 1 Axes>"
      ]
     },
     "metadata": {},
     "output_type": "display_data"
    }
   ],
   "source": [
    "fig,ax = plt.subplots(1,1, figsize = (1.5,1.5))\n",
    "\n",
    "wedges, texts = plt.pie(clin_sig_sum['prop'], \n",
    "                        labels = clin_sig_sum['clin_sig'],\n",
    "                        startangle = 90, counterclock = False,\n",
    "                        wedgeprops = {'linewidth' : 0.5, 'edgecolor' : 'black'}\n",
    "                       )\n",
    "\n",
    "ax.legend(wedges, clin_sig_sum['label'],\n",
    "          title=\"\",\n",
    "          loc=\"center left\",\n",
    "          bbox_to_anchor=(1, 0, 0.5, 1))\n",
    "\n",
    "plt.savefig(os.path.join(OUTDIR, f'clinvar.xte.clinical_significance.percent_test_sites.svg'), format = 'svg', dpi = 600, transparent = True)\n",
    "plt.show()\n"
   ]
  },
  {
   "cell_type": "markdown",
   "metadata": {},
   "source": [
    "#### Does the distribution of clinical effects change if we use more stringent cutoffs?"
   ]
  },
  {
   "cell_type": "code",
   "execution_count": 23,
   "metadata": {},
   "outputs": [
    {
     "name": "stdout",
     "output_type": "stream",
     "text": [
      "(1419, 5)\n",
      "1419\n",
      "                                       clin_sig  count      prop  \\\n",
      "0                                        Benign    197  0.138830   \n",
      "1                          Benign/Likely_benign     34  0.023961   \n",
      "2                                 Likely_benign    175  0.123326   \n",
      "3                        Uncertain_significance    840  0.591966   \n",
      "4                             Likely_pathogenic     27  0.019027   \n",
      "5                  Pathogenic/Likely_pathogenic      6  0.004228   \n",
      "6                                    Pathogenic     79  0.055673   \n",
      "7  Conflicting_interpretations_of_pathogenicity     46  0.032417   \n",
      "8                                         Other     15  0.010571   \n",
      "\n",
      "                                               label  \n",
      "0                                    Benign (13.88%)  \n",
      "1                        Benign/Likely_benign (2.4%)  \n",
      "2                             Likely_benign (12.33%)  \n",
      "3                     Uncertain_significance (59.2%)  \n",
      "4                           Likely_pathogenic (1.9%)  \n",
      "5               Pathogenic/Likely_pathogenic (0.42%)  \n",
      "6                                 Pathogenic (5.57%)  \n",
      "7  Conflicting_interpretations_of_pathogenicity (...  \n",
      "8                                      Other (1.06%)  \n"
     ]
    }
   ],
   "source": [
    "sig_ordering = ['Benign','Benign/Likely_benign','Likely_benign',\n",
    "                'Uncertain_significance',\n",
    "                'Likely_pathogenic','Pathogenic/Likely_pathogenic','Pathogenic',\n",
    "                'Conflicting_interpretations_of_pathogenicity','Other']\n",
    "\n",
    "clin_sig = assoc_xte[['variantID','deltaStrength','directionEffect','clinical_significance']].drop_duplicates()\n",
    "\n",
    "clin_sig['clin_sig'] = 'Other'\n",
    "clin_sig.loc[clin_sig['clinical_significance'].isin(sig_ordering), 'clin_sig'] = clin_sig['clinical_significance']\n",
    "\n",
    "clin_sig_sum = clin_sig.groupby(['clin_sig']).size().loc[sig_ordering].reset_index().rename(columns = {0:'count'})\n",
    "clin_sig_sum['prop']  = clin_sig_sum['count'] / clin_sig_sum['count'].sum()\n",
    "clin_sig_sum['label'] = clin_sig_sum['clin_sig'] + \" (\" + (clin_sig_sum['prop']*100).round(2).astype(str) + \"%)\"\n",
    "\n",
    "print(clin_sig.shape)\n",
    "print(clin_sig_sum['count'].sum())\n",
    "print(clin_sig_sum)\n"
   ]
  },
  {
   "cell_type": "markdown",
   "metadata": {},
   "source": [
    "### Variants affecting intronic sites"
   ]
  },
  {
   "cell_type": "markdown",
   "metadata": {},
   "source": [
    "#### Visualize the distribution of variants around the representative test sites"
   ]
  },
  {
   "cell_type": "code",
   "execution_count": 24,
   "metadata": {},
   "outputs": [],
   "source": [
    "paper_examples = ['1248002']\n",
    "extreme_values = ['1281655','125744','1243139','1271412',\n",
    "                  '746304','1126993','915624','335197']\n",
    "\n",
    "clin_filt_int['examples'] = np.nan\n",
    "clin_filt_int.loc[clin_filt_int['variantID'].isin(extreme_values), 'examples'] = 'extreme'\n",
    "clin_filt_int.loc[clin_filt_int['variantID'].isin(paper_examples), 'examples'] = 'paper'\n"
   ]
  },
  {
   "cell_type": "code",
   "execution_count": 25,
   "metadata": {},
   "outputs": [
    {
     "data": {
      "image/png": "[encoded data removed]",
      "text/plain": [
       "<Figure size 216x108 with 1 Axes>"
      ]
     },
     "metadata": {
      "needs_background": "light"
     },
     "output_type": "display_data"
    }
   ],
   "source": [
    "fig,ax = plt.subplots(1,1, figsize = (3,1.5))\n",
    "\n",
    "ax.axhline(y = -1, color = 'black', linestyle = 'dashed', linewidth = 1)\n",
    "ax.axhline(y = +1, color = 'black', linestyle = 'dashed', linewidth = 1)\n",
    "\n",
    "sns.scatterplot(data = clin_filt_int, x = 'testSiteDistStranded', y = 'deltaStrength', \n",
    "                color = 'gray', edgecolor = None, s = 1, alpha = 0.75, ax = ax)\n",
    "\n",
    "sns.scatterplot(data = clin_filt_int.loc[(clin_filt_int['examples'] == 'extreme')], \n",
    "                x = 'testSiteDistStranded', y = 'deltaStrength', \n",
    "                color = 'red', edgecolor = None, s = 5, alpha = 1, ax = ax)\n",
    "\n",
    "sns.scatterplot(data = clin_filt_int.loc[(clin_filt_int['examples'] == 'paper')],\n",
    "                x = 'testSiteDistStranded', y = 'deltaStrength', \n",
    "                color = 'red', edgecolor = 'black', linewidth = 0.5, s = 7, alpha = 1, ax = ax)\n",
    "\n",
    "ax.set_xlim(-120,120)\n",
    "ax.set_xticks(np.arange(-120,121,10))\n",
    "ax.set_xticklabels(['-120','','','-90','','','-60','','','-30','','','0','','','30','','','60','','','90','','','120'])\n",
    "\n",
    "ax.set_ylim(-15,15)\n",
    "ax.yaxis.set_major_locator(MultipleLocator(3))\n",
    "\n",
    "ax.set_xlabel(\"Distance to max cleavage site (nt)\")\n",
    "ax.set_ylabel(\"delta PolyaStrength score\")\n",
    "\n",
    "ax.spines['right'].set_visible(False)\n",
    "ax.spines['top'].set_visible(False)\n",
    "\n",
    "plt.savefig(os.path.join(OUTDIR, 'clinvar.int.change_strength_by_position.prob.repr.highlight.svg'), format = 'svg', dpi = 600, transparent = True)\n",
    "plt.show()\n"
   ]
  },
  {
   "cell_type": "code",
   "execution_count": 26,
   "metadata": {},
   "outputs": [
    {
     "data": {
      "text/html": [
       "<div>\n",
       "<style scoped>\n",
       "    .dataframe tbody tr th:only-of-type {\n",
       "        vertical-align: middle;\n",
       "    }\n",
       "\n",
       "    .dataframe tbody tr th {\n",
       "        vertical-align: top;\n",
       "    }\n",
       "\n",
       "    .dataframe thead th {\n",
       "        text-align: right;\n",
       "    }\n",
       "</style>\n",
       "<table border=\"1\" class=\"dataframe\">\n",
       "  <thead>\n",
       "    <tr style=\"text-align: right;\">\n",
       "      <th></th>\n",
       "      <th>variantID</th>\n",
       "      <th>gene</th>\n",
       "      <th>affectedMotifs</th>\n",
       "      <th>testSiteDistStranded</th>\n",
       "      <th>deltaClassification</th>\n",
       "      <th>deltaStrength</th>\n",
       "      <th>examples</th>\n",
       "    </tr>\n",
       "  </thead>\n",
       "  <tbody>\n",
       "    <tr>\n",
       "      <td>3874</td>\n",
       "      <td>1248002</td>\n",
       "      <td>RUNX1</td>\n",
       "      <td>disrupted_AATAAA|AATAAA</td>\n",
       "      <td>-21</td>\n",
       "      <td>-0.091454</td>\n",
       "      <td>-2.742887</td>\n",
       "      <td>paper</td>\n",
       "    </tr>\n",
       "  </tbody>\n",
       "</table>\n",
       "</div>"
      ],
      "text/plain": [
       "     variantID   gene           affectedMotifs  testSiteDistStranded  \\\n",
       "3874   1248002  RUNX1  disrupted_AATAAA|AATAAA                   -21   \n",
       "\n",
       "      deltaClassification  deltaStrength examples  \n",
       "3874            -0.091454      -2.742887    paper  "
      ]
     },
     "execution_count": 26,
     "metadata": {},
     "output_type": "execute_result"
    }
   ],
   "source": [
    "preview_cols = ['variantID','gene','affectedMotifs','testSiteDistStranded','deltaClassification','deltaStrength','examples']\n",
    "clin_filt_int.loc[clin_filt_int['variantID'].isin(paper_examples), preview_cols].sort_values('deltaStrength')\n"
   ]
  },
  {
   "cell_type": "code",
   "execution_count": 27,
   "metadata": {},
   "outputs": [
    {
     "data": {
      "text/html": [
       "<div>\n",
       "<style scoped>\n",
       "    .dataframe tbody tr th:only-of-type {\n",
       "        vertical-align: middle;\n",
       "    }\n",
       "\n",
       "    .dataframe tbody tr th {\n",
       "        vertical-align: top;\n",
       "    }\n",
       "\n",
       "    .dataframe thead th {\n",
       "        text-align: right;\n",
       "    }\n",
       "</style>\n",
       "<table border=\"1\" class=\"dataframe\">\n",
       "  <thead>\n",
       "    <tr style=\"text-align: right;\">\n",
       "      <th></th>\n",
       "      <th>variantID</th>\n",
       "      <th>gene</th>\n",
       "      <th>affectedMotifs</th>\n",
       "      <th>testSiteDistStranded</th>\n",
       "      <th>deltaClassification</th>\n",
       "      <th>deltaStrength</th>\n",
       "    </tr>\n",
       "  </thead>\n",
       "  <tbody>\n",
       "    <tr>\n",
       "      <td>2926</td>\n",
       "      <td>335197</td>\n",
       "      <td>NDUFA10</td>\n",
       "      <td>disrupted_AATAAA|AATAAA</td>\n",
       "      <td>-17</td>\n",
       "      <td>-0.443446</td>\n",
       "      <td>-10.610773</td>\n",
       "    </tr>\n",
       "    <tr>\n",
       "      <td>3710</td>\n",
       "      <td>1281655</td>\n",
       "      <td>VPS13C</td>\n",
       "      <td>modified_GT/CT-Rich|TGTGTG,GTGTGT,TGTGTT,GTGTTT</td>\n",
       "      <td>59</td>\n",
       "      <td>-0.000005</td>\n",
       "      <td>-4.287687</td>\n",
       "    </tr>\n",
       "    <tr>\n",
       "      <td>2842</td>\n",
       "      <td>746304</td>\n",
       "      <td>LRP2</td>\n",
       "      <td>modified_T-Rich|TCTTTT,TTTTTC,TTTTCT,TTTCTT,TT...</td>\n",
       "      <td>54</td>\n",
       "      <td>-0.000212</td>\n",
       "      <td>5.194747</td>\n",
       "    </tr>\n",
       "    <tr>\n",
       "      <td>3782</td>\n",
       "      <td>125744</td>\n",
       "      <td>BRCA1</td>\n",
       "      <td>disrupted_GT/CT-Rich|CTCTGC,TCTGCT</td>\n",
       "      <td>26</td>\n",
       "      <td>0.288328</td>\n",
       "      <td>5.485169</td>\n",
       "    </tr>\n",
       "    <tr>\n",
       "      <td>3693</td>\n",
       "      <td>915624</td>\n",
       "      <td>FBN1</td>\n",
       "      <td>created_AATAAA|AATAAA</td>\n",
       "      <td>-24</td>\n",
       "      <td>0.202596</td>\n",
       "      <td>6.974662</td>\n",
       "    </tr>\n",
       "    <tr>\n",
       "      <td>3133</td>\n",
       "      <td>1243139</td>\n",
       "      <td>PKHD1</td>\n",
       "      <td>created_AATAAA|AATAAA</td>\n",
       "      <td>-4</td>\n",
       "      <td>0.966113</td>\n",
       "      <td>8.523729</td>\n",
       "    </tr>\n",
       "    <tr>\n",
       "      <td>2937</td>\n",
       "      <td>1271412</td>\n",
       "      <td>KAT2B</td>\n",
       "      <td>created_AATAAA|AATAAA</td>\n",
       "      <td>-17</td>\n",
       "      <td>0.897484</td>\n",
       "      <td>10.965422</td>\n",
       "    </tr>\n",
       "  </tbody>\n",
       "</table>\n",
       "</div>"
      ],
      "text/plain": [
       "     variantID     gene                                     affectedMotifs  \\\n",
       "2926    335197  NDUFA10                            disrupted_AATAAA|AATAAA   \n",
       "3710   1281655   VPS13C    modified_GT/CT-Rich|TGTGTG,GTGTGT,TGTGTT,GTGTTT   \n",
       "2842    746304     LRP2  modified_T-Rich|TCTTTT,TTTTTC,TTTTCT,TTTCTT,TT...   \n",
       "3782    125744    BRCA1                 disrupted_GT/CT-Rich|CTCTGC,TCTGCT   \n",
       "3693    915624     FBN1                              created_AATAAA|AATAAA   \n",
       "3133   1243139    PKHD1                              created_AATAAA|AATAAA   \n",
       "2937   1271412    KAT2B                              created_AATAAA|AATAAA   \n",
       "\n",
       "      testSiteDistStranded  deltaClassification  deltaStrength  \n",
       "2926                   -17            -0.443446     -10.610773  \n",
       "3710                    59            -0.000005      -4.287687  \n",
       "2842                    54            -0.000212       5.194747  \n",
       "3782                    26             0.288328       5.485169  \n",
       "3693                   -24             0.202596       6.974662  \n",
       "3133                    -4             0.966113       8.523729  \n",
       "2937                   -17             0.897484      10.965422  "
      ]
     },
     "execution_count": 27,
     "metadata": {},
     "output_type": "execute_result"
    }
   ],
   "source": [
    "preview_cols = ['variantID','gene','affectedMotifs','testSiteDistStranded','deltaClassification','deltaStrength']\n",
    "clin_filt_int.loc[clin_filt_int['variantID'].isin(extreme_values), preview_cols].sort_values('deltaStrength')\n"
   ]
  },
  {
   "cell_type": "markdown",
   "metadata": {},
   "source": [
    "#### Summarize the motifs affected by variants"
   ]
  },
  {
   "cell_type": "code",
   "execution_count": 37,
   "metadata": {},
   "outputs": [
    {
     "name": "stdout",
     "output_type": "stream",
     "text": [
      "(297, 3)\n",
      "297\n",
      "297\n"
     ]
    }
   ],
   "source": [
    "clin_sum_dt = (\n",
    "    assoc_int.loc[assoc_int['affectedMotifDirection'] != 'retained']\n",
    "    [['variantID','affectedMotifDirection','affectedMotifFamily']]\n",
    "    .drop_duplicates()\n",
    ")\n",
    "\n",
    "clin_sum = (clin_sum_dt\n",
    "    .groupby(['affectedMotifFamily','affectedMotifDirection']).size()\n",
    "    .reset_index().rename(columns = {0:'Count'})\n",
    ")\n",
    "\n",
    "clin_sum['Proportion'] = clin_sum['Count'] / clin_sum.groupby(['affectedMotifFamily'])['Count'].transform('sum')\n",
    "\n",
    "print(clin_sum_dt.shape)\n",
    "print(clin_sum_dt.variantID.nunique())\n",
    "print(clin_sum['Count'].sum())\n"
   ]
  },
  {
   "cell_type": "code",
   "execution_count": 38,
   "metadata": {},
   "outputs": [
    {
     "name": "stderr",
     "output_type": "stream",
     "text": [
      "notebook_setup.py:13: UserWarning: FixedFormatter should only be used together with FixedLocator\n",
      "  from sklearn.decomposition import PCA\n"
     ]
    },
    {
     "data": {
      "image/png": "[encoded data removed]",
      "text/plain": [
       "<Figure size 90x108 with 1 Axes>"
      ]
     },
     "metadata": {
      "needs_background": "light"
     },
     "output_type": "display_data"
    }
   ],
   "source": [
    "ordering = ['AATAAA','ATTAAA','PAS Variant','A-Rich','T-Rich','TGTA-Rich','GT/CT-Rich','G-Rich']\n",
    "\n",
    "modified_props  = clin_sum.loc[clin_sum['affectedMotifDirection'] == 'modified',  ['affectedMotifFamily','Count']].set_index('affectedMotifFamily').loc[ordering, 'Count'].fillna(0)\n",
    "disrupted_props = clin_sum.loc[clin_sum['affectedMotifDirection'] == 'disrupted', ['affectedMotifFamily','Count']].set_index('affectedMotifFamily').loc[ordering, 'Count'].fillna(0)\n",
    "created_props   = clin_sum.loc[clin_sum['affectedMotifDirection'] == 'created',   ['affectedMotifFamily','Count']].set_index('affectedMotifFamily').loc[ordering, 'Count'].fillna(0)\n",
    "\n",
    "fig,ax = plt.subplots(1,1, figsize = (1.25,1.5))\n",
    "\n",
    "plt.bar(ordering, modified_props, label = 'Modified', color = 'gray', edgecolor = 'black', linewidth = 0.5)\n",
    "plt.bar(ordering, disrupted_props, bottom = modified_props, label = 'Disrupted', color = '#B3589A', edgecolor = 'black', linewidth = 0.5)\n",
    "plt.bar(ordering, created_props, bottom = modified_props + disrupted_props, label = 'Created', color = 'seagreen', edgecolor = 'black', linewidth = 0.5)\n",
    "\n",
    "ax.set_xticklabels(ordering, rotation = 45, ha = 'right', va = 'top')\n",
    "ax.set_xlabel(\"Motif family\")\n",
    "ax.set_ylabel(\"Number of significant variants\")\n",
    "\n",
    "ax.set_ylim(0,None)\n",
    "ax.yaxis.set_major_locator(MultipleLocator(50))\n",
    "\n",
    "ax.legend(bbox_to_anchor = (1.05,1))\n",
    "\n",
    "ax.spines['right'].set_visible(False)\n",
    "ax.spines['top'].set_visible(False)\n",
    "\n",
    "plt.savefig(os.path.join(OUTDIR, 'clinvar.int.effect_by_family_by_direction.count.svg'), format = 'svg', dpi = 600, transparent = True)\n",
    "plt.show()\n"
   ]
  },
  {
   "cell_type": "markdown",
   "metadata": {},
   "source": [
    "#### Summarize the clinical significance of significant variants"
   ]
  },
  {
   "cell_type": "code",
   "execution_count": 30,
   "metadata": {},
   "outputs": [
    {
     "name": "stdout",
     "output_type": "stream",
     "text": [
      "(306, 3)\n",
      "306\n"
     ]
    }
   ],
   "source": [
    "sig_ordering = ['Benign','Benign/Likely_benign','Likely_benign',\n",
    "                'Uncertain_significance',\n",
    "                'Likely_pathogenic','Pathogenic/Likely_pathogenic','Pathogenic',\n",
    "                'Conflicting_interpretations_of_pathogenicity','Other']\n",
    "\n",
    "clin_sig = assoc_int[['variantID','clinical_significance']].drop_duplicates()\n",
    "\n",
    "clin_sig['clin_sig'] = 'Other'\n",
    "clin_sig.loc[clin_sig['clinical_significance'].isin(sig_ordering), 'clin_sig'] = clin_sig['clinical_significance']\n",
    "\n",
    "clin_sig_sum = clin_sig.groupby(['clin_sig']).size().loc[sig_ordering].reset_index().rename(columns = {0:'count'})\n",
    "clin_sig_sum['prop']  = clin_sig_sum['count'] / clin_sig_sum['count'].sum()\n",
    "clin_sig_sum['label'] = clin_sig_sum['clin_sig'] + \" (\" + (clin_sig_sum['prop']*100).round(2).astype(str) + \"%)\"\n",
    "\n",
    "print(clin_sig.shape)\n",
    "print(clin_sig_sum['count'].sum())\n"
   ]
  },
  {
   "cell_type": "code",
   "execution_count": 31,
   "metadata": {},
   "outputs": [
    {
     "data": {
      "image/png": "[encoded data removed]",
      "text/plain": [
       "<Figure size 108x108 with 1 Axes>"
      ]
     },
     "metadata": {},
     "output_type": "display_data"
    },
    {
     "name": "stdout",
     "output_type": "stream",
     "text": [
      "Corresponding data:\n",
      "                                       clin_sig  count      prop\n",
      "0                                        Benign     32  0.104575\n",
      "1                          Benign/Likely_benign     13  0.042484\n",
      "2                                 Likely_benign     67  0.218954\n",
      "3                        Uncertain_significance    139  0.454248\n",
      "4                             Likely_pathogenic      7  0.022876\n",
      "5                  Pathogenic/Likely_pathogenic      6  0.019608\n",
      "6                                    Pathogenic     22  0.071895\n",
      "7  Conflicting_interpretations_of_pathogenicity     15  0.049020\n",
      "8                                         Other      5  0.016340\n"
     ]
    }
   ],
   "source": [
    "fig,ax = plt.subplots(1,1, figsize = (1.5,1.5))\n",
    "\n",
    "wedges, texts = plt.pie(clin_sig_sum['prop'], \n",
    "                        labels = clin_sig_sum['clin_sig'],\n",
    "                        startangle = 90, counterclock = False,\n",
    "                        wedgeprops = {'linewidth' : 0.5, 'edgecolor' : 'black'}\n",
    "                       )\n",
    "\n",
    "ax.legend(wedges, clin_sig_sum['label'],\n",
    "          title=\"\",\n",
    "          loc=\"center left\",\n",
    "          bbox_to_anchor=(1, 0, 0.5, 1))\n",
    "\n",
    "plt.savefig(os.path.join(OUTDIR, f'clinvar.int.clinical_significance.percent_test_sites.svg'), format = 'svg', dpi = 600, transparent = True)\n",
    "plt.show()\n",
    "\n",
    "\n",
    "print(\"Corresponding data:\")\n",
    "print(clin_sig_sum[['clin_sig','count','prop']])\n"
   ]
  },
  {
   "cell_type": "markdown",
   "metadata": {},
   "source": [
    "#### Examples of disease-relevant variants and genes"
   ]
  },
  {
   "cell_type": "code",
   "execution_count": 32,
   "metadata": {
    "scrolled": false
   },
   "outputs": [
    {
     "name": "stdout",
     "output_type": "stream",
     "text": [
      "\n",
      "##########\n",
      "NAA10\n",
      "\n",
      "Associated conditions-\t Microphthalmia_syndromic_1 \n",
      "\n",
      "1\n",
      "variantID                                    617462\n",
      "chrom                                             X\n",
      "position                                  153929948\n",
      "strand                                            -\n",
      "reference                                         T\n",
      "alternate                                         C\n",
      "gene                                          NAA10\n",
      "geneStrand                                        -\n",
      "affectedMotif                disrupted_AATAAA_NAA10\n",
      "positionTest                              153929923\n",
      "testSiteDistStranded                            -25\n",
      "referenceFeature                      terminal_exon\n",
      "referenceClassprob                         0.999049\n",
      "alternateClassprob                         0.352736\n",
      "deltaClassification                       -0.646313\n",
      "referenceStrength                         0.0148703\n",
      "alternateStrength                          -3.77801\n",
      "deltaStrength                              -3.79288\n",
      "referenceStrengthProb                      0.502577\n",
      "alternateStrengthProb                     0.0679433\n",
      "deltaStrengthProb                         -0.434633\n",
      "referenceICprob                                 NaN\n",
      "alternateICprob                                 NaN\n",
      "referenceISprob                                 NaN\n",
      "alternateISprob                                 NaN\n",
      "affectedMotifs              disrupted_AATAAA|AATAAA\n",
      "clinical_condition       Microphthalmia_syndromic_1\n",
      "clinical_significance             Likely_pathogenic\n",
      "Name: 2428, dtype: object\n"
     ]
    },
    {
     "data": {
      "image/png": "[encoded data removed]",
      "text/plain": [
       "<Figure size 51.48x14.4 with 2 Axes>"
      ]
     },
     "metadata": {
      "needs_background": "light"
     },
     "output_type": "display_data"
    },
    {
     "name": "stdout",
     "output_type": "stream",
     "text": [
      "\n",
      "##########\n",
      "NAA10\n",
      "\n",
      "Associated conditions-\t Microphthalmia_syndromic_1 \n",
      "\n",
      "2\n",
      "variantID                                                      617458\n",
      "chrom                                                               X\n",
      "position                                                    153929947\n",
      "strand                                                              -\n",
      "reference                                                           T\n",
      "alternate                                                           C\n",
      "gene                                                            NAA10\n",
      "geneStrand                                                          -\n",
      "affectedMotif                                  disrupted_AATAAA_NAA10\n",
      "positionTest                                                153929923\n",
      "testSiteDistStranded                                              -24\n",
      "referenceFeature                                        terminal_exon\n",
      "referenceClassprob                                           0.999049\n",
      "alternateClassprob                                           0.747574\n",
      "deltaClassification                                         -0.251476\n",
      "referenceStrength                                           0.0148703\n",
      "alternateStrength                                            -3.42917\n",
      "deltaStrength                                                -3.44404\n",
      "referenceStrengthProb                                        0.502577\n",
      "alternateStrengthProb                                       0.0849497\n",
      "deltaStrengthProb                                           -0.417627\n",
      "referenceICprob                                                   NaN\n",
      "alternateICprob                                                   NaN\n",
      "referenceISprob                                                   NaN\n",
      "alternateISprob                                                   NaN\n",
      "affectedMotifs                                disrupted_AATAAA|AATAAA\n",
      "clinical_condition                         Microphthalmia_syndromic_1\n",
      "clinical_significance    Conflicting_interpretations_of_pathogenicity\n",
      "Name: 2426, dtype: object\n"
     ]
    },
    {
     "data": {
      "image/png": "[encoded data removed]",
      "text/plain": [
       "<Figure size 51.48x14.4 with 2 Axes>"
      ]
     },
     "metadata": {
      "needs_background": "light"
     },
     "output_type": "display_data"
    },
    {
     "name": "stdout",
     "output_type": "stream",
     "text": [
      "\n",
      "##########\n",
      "NAA10\n",
      "\n",
      "Associated conditions-\t Microphthalmia_syndromic_1 \n",
      "\n",
      "1\n",
      "variantID                                    617463\n",
      "chrom                                             X\n",
      "position                                  153929944\n",
      "strand                                            -\n",
      "reference                                         T\n",
      "alternate                                         C\n",
      "gene                                          NAA10\n",
      "geneStrand                                        -\n",
      "affectedMotif                disrupted_AATAAA_NAA10\n",
      "positionTest                              153929923\n",
      "testSiteDistStranded                            -21\n",
      "referenceFeature                      terminal_exon\n",
      "referenceClassprob                         0.999049\n",
      "alternateClassprob                         0.101102\n",
      "deltaClassification                       -0.897948\n",
      "referenceStrength                         0.0148703\n",
      "alternateStrength                          -4.72018\n",
      "deltaStrength                              -4.73505\n",
      "referenceStrengthProb                      0.502577\n",
      "alternateStrengthProb                     0.0365521\n",
      "deltaStrengthProb                         -0.466025\n",
      "referenceICprob                                 NaN\n",
      "alternateICprob                                 NaN\n",
      "referenceISprob                                 NaN\n",
      "alternateISprob                                 NaN\n",
      "affectedMotifs              disrupted_AATAAA|AATAAA\n",
      "clinical_condition       Microphthalmia_syndromic_1\n",
      "clinical_significance             Likely_pathogenic\n",
      "Name: 2425, dtype: object\n"
     ]
    },
    {
     "data": {
      "image/png": "[encoded data removed]",
      "text/plain": [
       "<Figure size 51.48x14.4 with 2 Axes>"
      ]
     },
     "metadata": {
      "needs_background": "light"
     },
     "output_type": "display_data"
    },
    {
     "name": "stdout",
     "output_type": "stream",
     "text": [
      "\n",
      "##########\n",
      "LRPPRC\n",
      "\n",
      "Associated conditions-\t Congenital_lactic_acidosis_Saguenay-Lac-Saint-Jean_type \n",
      "\n",
      "1\n",
      "variantID                                                           896666\n",
      "chrom                                                                    2\n",
      "position                                                          43886311\n",
      "strand                                                                   -\n",
      "reference                                                                T\n",
      "alternate                                                                A\n",
      "gene                                                                LRPPRC\n",
      "geneStrand                                                               -\n",
      "affectedMotif                                        created_TTGTAT_LRPPRC\n",
      "positionTest                                                      43886225\n",
      "testSiteDistStranded                                                   -86\n",
      "referenceFeature                                             terminal_exon\n",
      "referenceClassprob                                                0.999976\n",
      "alternateClassprob                                                 0.99998\n",
      "deltaClassification                                            3.69549e-06\n",
      "referenceStrength                                                 -2.19365\n",
      "alternateStrength                                                0.0694971\n",
      "deltaStrength                                                      2.26314\n",
      "referenceStrengthProb                                             0.179385\n",
      "alternateStrengthProb                                             0.512041\n",
      "deltaStrengthProb                                                 0.332656\n",
      "referenceICprob                                                        NaN\n",
      "alternateICprob                                                        NaN\n",
      "referenceISprob                                                        NaN\n",
      "alternateISprob                                                        NaN\n",
      "affectedMotifs                      created_TGTA-Rich|TTGTAT,ATTGTA,TGTATT\n",
      "clinical_condition       Congenital_lactic_acidosis_Saguenay-Lac-Saint-...\n",
      "clinical_significance                               Uncertain_significance\n",
      "Name: 227, dtype: object\n"
     ]
    },
    {
     "data": {
      "image/png": "[encoded data removed]",
      "text/plain": [
       "<Figure size 51.48x14.4 with 2 Axes>"
      ]
     },
     "metadata": {
      "needs_background": "light"
     },
     "output_type": "display_data"
    },
    {
     "name": "stdout",
     "output_type": "stream",
     "text": [
      "\n",
      "##########\n",
      "SCN4B\n",
      "\n",
      "Associated conditions-\t Congenital_long_QT_syndrome\n",
      "\t\t\tLong_QT_syndrome \n",
      "\n",
      "2\n",
      "variantID                                                  302582\n",
      "chrom                                                          11\n",
      "position                                                118133415\n",
      "strand                                                          -\n",
      "reference                                                  AAATAC\n",
      "alternate                                                       A\n",
      "gene                                                        SCN4B\n",
      "geneStrand                                                      -\n",
      "affectedMotif                              disrupted_TTGTAT_SCN4B\n",
      "positionTest                                            118133378\n",
      "testSiteDistStranded                                          -37\n",
      "referenceFeature                                    terminal_exon\n",
      "referenceClassprob                                       0.999498\n",
      "alternateClassprob                                       0.999379\n",
      "deltaClassification                                  -0.000118971\n",
      "referenceStrength                                      -0.0827107\n",
      "alternateStrength                                        -3.35424\n",
      "deltaStrength                                            -3.27153\n",
      "referenceStrengthProb                                    0.485671\n",
      "alternateStrengthProb                                   0.0890752\n",
      "deltaStrengthProb                                       -0.396596\n",
      "referenceICprob                                               NaN\n",
      "alternateICprob                                               NaN\n",
      "referenceISprob                                               NaN\n",
      "alternateISprob                                               NaN\n",
      "affectedMotifs           disrupted_TGTA-Rich|TTGTAT,ATTGTA,TGTATT\n",
      "clinical_condition                               Long_QT_syndrome\n",
      "clinical_significance                               Likely_benign\n",
      "Name: 1541, dtype: object\n"
     ]
    },
    {
     "data": {
      "image/png": "[encoded data removed]",
      "text/plain": [
       "<Figure size 51.48x14.4 with 2 Axes>"
      ]
     },
     "metadata": {
      "needs_background": "light"
     },
     "output_type": "display_data"
    },
    {
     "name": "stdout",
     "output_type": "stream",
     "text": [
      "\n",
      "##########\n",
      "SCN2A\n",
      "\n",
      "Associated conditions-\t Early_infantile_epileptic_encephalopathy_11\n",
      "\t\t\tSeizures_benign_familial_infantile_3 \n",
      "\n",
      "4\n",
      "variantID                                                      196038\n",
      "chrom                                                               2\n",
      "position                                                    165389311\n",
      "strand                                                              +\n",
      "reference                                                           C\n",
      "alternate                                                           T\n",
      "gene                                                            SCN2A\n",
      "geneStrand                                                          +\n",
      "affectedMotif                                    created_AATAAA_SCN2A\n",
      "positionTest                                                165389333\n",
      "testSiteDistStranded                                              -21\n",
      "referenceFeature                                        terminal_exon\n",
      "referenceClassprob                                          0.0323485\n",
      "alternateClassprob                                           0.997746\n",
      "deltaClassification                                          0.965398\n",
      "referenceStrength                                            -6.15209\n",
      "alternateStrength                                           -0.888374\n",
      "deltaStrength                                                 5.26372\n",
      "referenceStrengthProb                                       0.0138666\n",
      "alternateStrengthProb                                        0.350743\n",
      "deltaStrengthProb                                            0.336877\n",
      "referenceICprob                                                   NaN\n",
      "alternateICprob                                                   NaN\n",
      "referenceISprob                                                   NaN\n",
      "alternateISprob                                                   NaN\n",
      "affectedMotifs                                  created_AATAAA|AATAAA\n",
      "clinical_condition               Seizures_benign_familial_infantile_3\n",
      "clinical_significance    Conflicting_interpretations_of_pathogenicity\n",
      "Name: 328, dtype: object\n"
     ]
    },
    {
     "data": {
      "image/png": "[encoded data removed]",
      "text/plain": [
       "<Figure size 51.48x14.4 with 2 Axes>"
      ]
     },
     "metadata": {
      "needs_background": "light"
     },
     "output_type": "display_data"
    },
    {
     "name": "stdout",
     "output_type": "stream",
     "text": [
      "\n",
      "##########\n",
      "PLEC\n",
      "\n",
      "Associated conditions-\t Epidermolysis_bullosa_simplex_Ogna_type\n",
      "\t\t\tEpidermolysis_bullosa_simplex_with_muscular_dystrophy\n",
      "\t\t\tEpidermolysis_bullosa_simplex_with_nail_dystrophy\n",
      "\t\t\tEpidermolysis_bullosa_simplex_with_pyloric_atresia\n",
      "\t\t\tLimb-girdle_muscular_dystrophy_type_2Q \n",
      "\n",
      "5\n",
      "variantID                                                1043148\n",
      "chrom                                                          8\n",
      "position                                               143920686\n",
      "strand                                                         -\n",
      "reference                                                      C\n",
      "alternate                                                      A\n",
      "gene                                                        PLEC\n",
      "geneStrand                                                     -\n",
      "affectedMotif                                created_AATAAA_PLEC\n",
      "positionTest                                           143920666\n",
      "testSiteDistStranded                                         -20\n",
      "referenceFeature                                   terminal_exon\n",
      "referenceClassprob                                      0.101102\n",
      "alternateClassprob                                      0.999801\n",
      "deltaClassification                                       0.8987\n",
      "referenceStrength                                       -13.2661\n",
      "alternateStrength                                       -1.35466\n",
      "deltaStrength                                            11.9115\n",
      "referenceStrengthProb                                0.000101496\n",
      "alternateStrengthProb                                   0.281107\n",
      "deltaStrengthProb                                       0.281006\n",
      "referenceICprob                                              NaN\n",
      "alternateICprob                                              NaN\n",
      "referenceISprob                                              NaN\n",
      "alternateISprob                                              NaN\n",
      "affectedMotifs                             created_AATAAA|AATAAA\n",
      "clinical_condition       Epidermolysis_bullosa_simplex_Ogna_type\n",
      "clinical_significance                     Uncertain_significance\n",
      "Name: 1248, dtype: object\n"
     ]
    },
    {
     "data": {
      "image/png": "[encoded data removed]",
      "text/plain": [
       "<Figure size 51.48x14.4 with 2 Axes>"
      ]
     },
     "metadata": {
      "needs_background": "light"
     },
     "output_type": "display_data"
    },
    {
     "name": "stdout",
     "output_type": "stream",
     "text": [
      "\n",
      "##########\n",
      "TP53\n",
      "\n",
      "Associated conditions-\t Basal_cell_carcinoma_susceptibility_to_7\n",
      "\t\t\tHereditary_cancer-predisposing_syndrome\n",
      "\t\t\tLi-Fraumeni_syndrome_1 \n",
      "\n",
      "3\n",
      "variantID                                                       35555\n",
      "chrom                                                              17\n",
      "position                                                      7668434\n",
      "strand                                                              -\n",
      "reference                                                           T\n",
      "alternate                                                           G\n",
      "gene                                                             TP53\n",
      "geneStrand                                                          -\n",
      "affectedMotif                                   disrupted_AATAAA_TP53\n",
      "positionTest                                                  7668420\n",
      "testSiteDistStranded                                              -14\n",
      "referenceFeature                                        terminal_exon\n",
      "referenceClassprob                                           0.999963\n",
      "alternateClassprob                                           0.815661\n",
      "deltaClassification                                         -0.184303\n",
      "referenceStrength                                             2.83575\n",
      "alternateStrength                                             -7.4682\n",
      "deltaStrength                                                -10.3039\n",
      "referenceStrengthProb                                        0.877137\n",
      "alternateStrengthProb                                      0.00561567\n",
      "deltaStrengthProb                                           -0.871521\n",
      "referenceICprob                                                   NaN\n",
      "alternateICprob                                                   NaN\n",
      "referenceISprob                                                   NaN\n",
      "alternateISprob                                                   NaN\n",
      "affectedMotifs                                disrupted_AATAAA|AATAAA\n",
      "clinical_condition                             Li-Fraumeni_syndrome_1\n",
      "clinical_significance    Conflicting_interpretations_of_pathogenicity\n",
      "Name: 2018, dtype: object\n"
     ]
    },
    {
     "data": {
      "image/png": "[encoded data removed]",
      "text/plain": [
       "<Figure size 51.48x14.4 with 2 Axes>"
      ]
     },
     "metadata": {
      "needs_background": "light"
     },
     "output_type": "display_data"
    },
    {
     "name": "stdout",
     "output_type": "stream",
     "text": [
      "\n",
      "##########\n",
      "PNKP\n",
      "\n",
      "Associated conditions-\t Early_infantile_epileptic_encephalopathy_10 \n",
      "\n",
      "1\n",
      "variantID                                                     329889\n",
      "chrom                                                             19\n",
      "position                                                    49861225\n",
      "strand                                                             -\n",
      "reference                                                          T\n",
      "alternate                                                          G\n",
      "gene                                                            PNKP\n",
      "geneStrand                                                         -\n",
      "affectedMotif                                 disrupted_TTTATT_PTOV1\n",
      "positionTest                                                49861204\n",
      "testSiteDistStranded                                             -21\n",
      "referenceFeature                                       terminal_exon\n",
      "referenceClassprob                                          0.999944\n",
      "alternateClassprob                                          0.768315\n",
      "deltaClassification                                        -0.231629\n",
      "referenceStrength                                            8.21557\n",
      "alternateStrength                                           -2.05452\n",
      "deltaStrength                                               -10.2701\n",
      "referenceStrengthProb                                       0.996647\n",
      "alternateStrengthProb                                       0.194022\n",
      "deltaStrengthProb                                          -0.802626\n",
      "referenceICprob                                                  NaN\n",
      "alternateICprob                                                  NaN\n",
      "referenceISprob                                                  NaN\n",
      "alternateISprob                                                  NaN\n",
      "affectedMotifs                               disrupted_AATAAA|AATAAA\n",
      "clinical_condition       Early_infantile_epileptic_encephalopathy_10\n",
      "clinical_significance                         Uncertain_significance\n",
      "Name: 2247, dtype: object\n"
     ]
    },
    {
     "data": {
      "image/png": "[encoded data removed]",
      "text/plain": [
       "<Figure size 51.48x14.4 with 2 Axes>"
      ]
     },
     "metadata": {
      "needs_background": "light"
     },
     "output_type": "display_data"
    },
    {
     "name": "stdout",
     "output_type": "stream",
     "text": [
      "\n",
      "##########\n",
      "RUNX1\n",
      "\n",
      "Associated conditions-\t Familial_platelet_disorder_with_associated_myeloid_malignancy \n",
      "\n",
      "1\n",
      "variantID                                                           934627\n",
      "chrom                                                                   21\n",
      "position                                                          34892925\n",
      "strand                                                                   -\n",
      "reference                                                                C\n",
      "alternate                                                                A\n",
      "gene                                                                 RUNX1\n",
      "geneStrand                                                               -\n",
      "affectedMotif                                         created_CTGTAT_RUNX1\n",
      "positionTest                                                      34892876\n",
      "testSiteDistStranded                                                   -49\n",
      "referenceFeature                                          intron:composite\n",
      "referenceClassprob                                                0.855298\n",
      "alternateClassprob                                                0.990353\n",
      "deltaClassification                                               0.135054\n",
      "referenceStrength                                                -0.498173\n",
      "alternateStrength                                                 0.804659\n",
      "deltaStrength                                                      1.30283\n",
      "referenceStrengthProb                                             0.414521\n",
      "alternateStrengthProb                                             0.635931\n",
      "deltaStrengthProb                                                  0.22141\n",
      "referenceICprob                                                   0.987303\n",
      "alternateICprob                                                   0.994406\n",
      "referenceISprob                                                        NaN\n",
      "alternateISprob                                                        NaN\n",
      "affectedMotifs                      created_TGTA-Rich|CTGTAT,TGTATG,ACTGTA\n",
      "clinical_condition       Familial_platelet_disorder_with_associated_mye...\n",
      "clinical_significance                               Uncertain_significance\n",
      "Name: 3301, dtype: object\n"
     ]
    },
    {
     "data": {
      "image/png": "[encoded data removed]",
      "text/plain": [
       "<Figure size 51.48x14.4 with 2 Axes>"
      ]
     },
     "metadata": {
      "needs_background": "light"
     },
     "output_type": "display_data"
    },
    {
     "name": "stdout",
     "output_type": "stream",
     "text": [
      "\n",
      "##########\n",
      "TNNT2\n",
      "\n",
      "Associated conditions-\t Familial_hypertrophic_cardiomyopathy_2\n",
      "\t\t\tFamilial_restrictive_cardiomyopathy_3\n",
      "\t\t\tLeft_ventricular_noncompaction_6 \n",
      "\n",
      "3\n",
      "variantID                                               1106650\n",
      "chrom                                                         1\n",
      "position                                              201359210\n",
      "strand                                                        -\n",
      "reference                                                     C\n",
      "alternate                                                     T\n",
      "gene                                                      TNNT2\n",
      "geneStrand                                                    -\n",
      "affectedMotif                              created_AATAAA_TNNT2\n",
      "positionTest                                          201359191\n",
      "testSiteDistStranded                                        -19\n",
      "referenceFeature                                  terminal_exon\n",
      "referenceClassprob                                     0.355098\n",
      "alternateClassprob                                     0.998994\n",
      "deltaClassification                                    0.643895\n",
      "referenceStrength                                      -6.60657\n",
      "alternateStrength                                       4.36024\n",
      "deltaStrength                                           10.9668\n",
      "referenceStrengthProb                                 0.0101576\n",
      "alternateStrengthProb                                  0.953571\n",
      "deltaStrengthProb                                      0.943413\n",
      "referenceICprob                                             NaN\n",
      "alternateICprob                                             NaN\n",
      "referenceISprob                                             NaN\n",
      "alternateISprob                                             NaN\n",
      "affectedMotifs                            created_AATAAA|AATAAA\n",
      "clinical_condition       Familial_hypertrophic_cardiomyopathy_2\n",
      "clinical_significance                             Likely_benign\n",
      "Name: 146, dtype: object\n"
     ]
    },
    {
     "data": {
      "image/png": "[encoded data removed]",
      "text/plain": [
       "<Figure size 51.48x14.4 with 2 Axes>"
      ]
     },
     "metadata": {
      "needs_background": "light"
     },
     "output_type": "display_data"
    },
    {
     "name": "stdout",
     "output_type": "stream",
     "text": [
      "\n",
      "##########\n",
      "ACVR2B\n",
      "\n",
      "Associated conditions-\t Heterotaxia \n",
      "\n",
      "1\n",
      "variantID                                344948\n",
      "chrom                                         3\n",
      "position                               38484904\n",
      "strand                                        +\n",
      "reference                               TAGAGAA\n",
      "alternate                                     T\n",
      "gene                                     ACVR2B\n",
      "geneStrand                                    +\n",
      "affectedMotif             created_AATAAA_ACVR2B\n",
      "positionTest                           38484933\n",
      "testSiteDistStranded                        -23\n",
      "referenceFeature                  terminal_exon\n",
      "referenceClassprob                     0.488345\n",
      "alternateClassprob                     0.998576\n",
      "deltaClassification                    0.510231\n",
      "referenceStrength                      -6.48093\n",
      "alternateStrength                     0.0609201\n",
      "deltaStrength                           6.54185\n",
      "referenceStrengthProb                 0.0110716\n",
      "alternateStrengthProb                  0.510555\n",
      "deltaStrengthProb                      0.499483\n",
      "referenceICprob                             NaN\n",
      "alternateICprob                             NaN\n",
      "referenceISprob                             NaN\n",
      "alternateISprob                             NaN\n",
      "affectedMotifs            created_AATAAA|AATAAA\n",
      "clinical_condition                  Heterotaxia\n",
      "clinical_significance    Uncertain_significance\n",
      "Name: 493, dtype: object\n"
     ]
    },
    {
     "data": {
      "image/png": "[encoded data removed]",
      "text/plain": [
       "<Figure size 51.48x14.4 with 2 Axes>"
      ]
     },
     "metadata": {
      "needs_background": "light"
     },
     "output_type": "display_data"
    }
   ],
   "source": [
    "example_cols = ['variantID', 'chrom', 'position', 'strand', 'reference', 'alternate',\n",
    "                'gene', 'geneStrand', 'affectedMotif', 'positionTest', 'testSiteDistStranded','referenceFeature',\n",
    "                'referenceClassprob', 'alternateClassprob','deltaClassification',\n",
    "                'referenceStrength', 'alternateStrength', 'deltaStrength',\n",
    "                'referenceStrengthProb', 'alternateStrengthProb', 'deltaStrengthProb',\n",
    "                'referenceICprob', 'alternateICprob', 'referenceISprob', 'alternateISprob',\n",
    "                'affectedMotifs', 'clinical_condition',\n",
    "                'clinical_significance']\n",
    "\n",
    "example_ids = ['617462','617458','617463','896666','302582','196038','1043148','35555','329889','934627','1106650','344948']\n",
    "example_gene = ['NAA10','NAA10','NAA10','LRPPRC','SCN4B','SCN2A','PLEC','TP53','PNKP','RUNX1','TNNT2','ACVR2B']\n",
    "example_range = [(120-27,120-17+1),(120-27,120-17+1),(120-27,120-17+1),(120-90,120-80+1),(120-45, 120-35+1),(120-25, 120-15+1),(120-25, 120-15+1),(120-20, 120-10+1),(120-25, 120-15+1),(120-55, 120-45+1),(120-25, 120-15+1),(120-30, 120-20+1)]\n",
    "\n",
    "for eid, egene, erange in zip(example_ids, example_gene, example_range):\n",
    "    print(f\"\\n##########\\n{egene}\")\n",
    "    print(\"\\nAssociated conditions-\\t\", \"\\n\\t\\t\\t\".join(sorted(set(clin_filt_long.loc[(clin_filt_long['variantID'] == eid) & (~clin_filt_long['clinical_condition'].isin(['not_provided','not_specified'])), 'clinical_condition'].tolist()))), \"\\n\")\n",
    "    print((clin_filt_long['variantID'] == eid).sum())\n",
    "    print(clin_filt_long.loc[clin_filt_long['variantID'] == eid].iloc[0][example_cols])\n",
    "    \n",
    "    e_name = f'clinvar.{eid}.{egene}'\n",
    "    e_data = clin_filt_long.loc[(clin_filt_long['variantID'] == eid) & (clin_filt_long['gene'] == egene)].iloc[0]\n",
    "\n",
    "    genetics.plot_variant_logo(os.path.join(OUTDIR, f'variant_examples.clinvar.{e_name}.svg'),\n",
    "                               e_data['referenceSequence'], e_data['alternateSequence'], \n",
    "                               erange, [120+e_data['testSiteDistStranded']])\n",
    "    "
   ]
  },
  {
   "cell_type": "markdown",
   "metadata": {},
   "source": [
    "## Benchmark Examples"
   ]
  },
  {
   "cell_type": "code",
   "execution_count": 33,
   "metadata": {
    "scrolled": false
   },
   "outputs": [
    {
     "name": "stdout",
     "output_type": "stream",
     "text": [
      "\n",
      "##########\n",
      "TP53\n",
      "\n",
      "Associated conditions-\t Basal_cell_carcinoma_susceptibility_to_7\n",
      "\t\t\tHereditary_cancer-predisposing_syndrome\n",
      "\t\t\tLi-Fraumeni_syndrome_1 \n",
      "\n",
      "variantID                                                       35555\n",
      "chrom                                                              17\n",
      "position                                                      7668434\n",
      "strand                                                              -\n",
      "reference                                                           T\n",
      "alternate                                                           G\n",
      "gene                                                             TP53\n",
      "geneStrand                                                          -\n",
      "affectedMotif                                   disrupted_AATAAA_TP53\n",
      "positionTest                                                  7668420\n",
      "testSiteDistStranded                                              -14\n",
      "referenceFeature                                        terminal_exon\n",
      "referenceClassprob                                           0.999963\n",
      "alternateClassprob                                           0.815661\n",
      "deltaClassification                                         -0.184303\n",
      "referenceStrength                                             2.83575\n",
      "alternateStrength                                             -7.4682\n",
      "deltaStrength                                                -10.3039\n",
      "referenceStrengthProb                                        0.877137\n",
      "alternateStrengthProb                                      0.00561567\n",
      "deltaStrengthProb                                           -0.871521\n",
      "referenceICprob                                                   NaN\n",
      "alternateICprob                                                   NaN\n",
      "referenceISprob                                                   NaN\n",
      "alternateISprob                                                   NaN\n",
      "readsExact                                                        NaN\n",
      "readsSlop                                                         NaN\n",
      "directionEffect                                              weakened\n",
      "affectedMotifs                                disrupted_AATAAA|AATAAA\n",
      "clinical_condition                             Li-Fraumeni_syndrome_1\n",
      "clinical_significance    Conflicting_interpretations_of_pathogenicity\n",
      "Name: 2018, dtype: object\n",
      "\n",
      "##########\n",
      "HBA2v1\n",
      "\n",
      "Associated conditions-\t alpha_Thalassemia\n",
      "\t\t\tnot_provided \n",
      "\n",
      "variantID                                 375749\n",
      "chrom                                         16\n",
      "position                                  173694\n",
      "strand                                         +\n",
      "reference                                      A\n",
      "alternate                                      G\n",
      "gene                                        HBA2\n",
      "geneStrand                                     +\n",
      "affectedMotif              disrupted_AATAAA_HBA2\n",
      "positionTest                              173709\n",
      "testSiteDistStranded                         -14\n",
      "referenceFeature                   terminal_exon\n",
      "referenceClassprob                      0.999342\n",
      "alternateClassprob                      0.382265\n",
      "deltaClassification                    -0.617077\n",
      "referenceStrength                        4.98886\n",
      "alternateStrength                       -5.80437\n",
      "deltaStrength                           -10.7932\n",
      "referenceStrengthProb                   0.969469\n",
      "alternateStrengthProb                  0.0175795\n",
      "deltaStrengthProb                       -0.95189\n",
      "referenceICprob                              NaN\n",
      "alternateICprob                              NaN\n",
      "referenceISprob                              NaN\n",
      "alternateISprob                              NaN\n",
      "readsExact                                   NaN\n",
      "readsSlop                                    NaN\n",
      "directionEffect                         weakened\n",
      "affectedMotifs           disrupted_AATAAA|AATAAA\n",
      "clinical_condition             alpha_Thalassemia\n",
      "clinical_significance                 Pathogenic\n",
      "Name: 1896, dtype: object\n",
      "\n",
      "##########\n",
      "HBA2v2\n",
      "\n",
      "Associated conditions-\t Alpha-thalassemia-2_nondeletional\n",
      "\t\t\tHemoglobin_H_disease_nondeletional\n",
      "\t\t\talpha_Thalassemia\n",
      "\t\t\tnot_provided \n",
      "\n",
      "variantID                                  15647\n",
      "chrom                                         16\n",
      "position                                  173692\n",
      "strand                                         +\n",
      "reference                                      A\n",
      "alternate                                      G\n",
      "gene                                        HBA2\n",
      "geneStrand                                     +\n",
      "affectedMotif              disrupted_AATAAA_HBA2\n",
      "positionTest                              173709\n",
      "testSiteDistStranded                         -16\n",
      "referenceFeature                   terminal_exon\n",
      "referenceClassprob                      0.999342\n",
      "alternateClassprob                      0.611796\n",
      "deltaClassification                    -0.387546\n",
      "referenceStrength                        4.98886\n",
      "alternateStrength                       -6.45093\n",
      "deltaStrength                           -11.4398\n",
      "referenceStrengthProb                   0.969469\n",
      "alternateStrengthProb                  0.0113016\n",
      "deltaStrengthProb                      -0.958168\n",
      "referenceICprob                              NaN\n",
      "alternateICprob                              NaN\n",
      "referenceISprob                              NaN\n",
      "alternateISprob                              NaN\n",
      "readsExact                                   NaN\n",
      "readsSlop                                    NaN\n",
      "directionEffect                         weakened\n",
      "affectedMotifs           disrupted_AATAAA|AATAAA\n",
      "clinical_condition             alpha_Thalassemia\n",
      "clinical_significance                 Pathogenic\n",
      "Name: 1892, dtype: object\n",
      "\n",
      "##########\n",
      "INS\n",
      "\n",
      "Associated conditions-\t Permanent_neonatal_diabetes_mellitus \n",
      "\n",
      "variantID                                               65581\n",
      "chrom                                                      11\n",
      "position                                              2159793\n",
      "strand                                                      -\n",
      "reference                                                   T\n",
      "alternate                                                   C\n",
      "gene                                                      INS\n",
      "geneStrand                                                  -\n",
      "affectedMotif                       disrupted_AATAAA_INS-IGF2\n",
      "positionTest                                          2159779\n",
      "testSiteDistStranded                                      -14\n",
      "referenceFeature                                terminal_exon\n",
      "referenceClassprob                                   0.999864\n",
      "alternateClassprob                                   0.362821\n",
      "deltaClassification                                 -0.637043\n",
      "referenceStrength                                     6.53953\n",
      "alternateStrength                                    -1.98711\n",
      "deltaStrength                                        -8.52665\n",
      "referenceStrengthProb                                0.989364\n",
      "alternateStrengthProb                                0.201433\n",
      "deltaStrengthProb                                   -0.787932\n",
      "referenceICprob                                           NaN\n",
      "alternateICprob                                           NaN\n",
      "referenceISprob                                           NaN\n",
      "alternateISprob                                           NaN\n",
      "readsExact                                                NaN\n",
      "readsSlop                                                 NaN\n",
      "directionEffect                                      weakened\n",
      "affectedMotifs                        disrupted_AATAAA|AATAAA\n",
      "clinical_condition       Permanent_neonatal_diabetes_mellitus\n",
      "clinical_significance                              Pathogenic\n",
      "Name: 1411, dtype: object\n"
     ]
    },
    {
     "name": "stderr",
     "output_type": "stream",
     "text": [
      "/home/esk863/.local/lib/python3.6/site-packages/pandas/core/series.py:1152: FutureWarning: \n",
      "Passing list-likes to .loc or [] with any missing label will raise\n",
      "KeyError in the future, you can use .reindex() as an alternative.\n",
      "\n",
      "See the documentation here:\n",
      "https://pandas.pydata.org/pandas-docs/stable/user_guide/indexing.html#deprecate-loc-reindex-listlike\n",
      "  return self.loc[key]\n"
     ]
    }
   ],
   "source": [
    "benchmark_cols = ['variantID', 'chrom', 'position', 'strand', 'reference', 'alternate',\n",
    "                  'gene', 'geneStrand', 'affectedMotif', 'positionTest', 'testSiteDistStranded','referenceFeature',\n",
    "                  'referenceClassprob', 'alternateClassprob','deltaClassification',\n",
    "                  'referenceStrength', 'alternateStrength', 'deltaStrength',\n",
    "                  'referenceStrengthProb', 'alternateStrengthProb', 'deltaStrengthProb',\n",
    "                  'referenceICprob', 'alternateICprob', 'referenceISprob', 'alternateISprob',\n",
    "                  'readsExact', 'readsSlop', 'directionEffect', 'affectedMotifs', 'clinical_condition',\n",
    "                  'clinical_significance']\n",
    "\n",
    "benchmark_ids = ['35555', '375749', '15647','65581']\n",
    "benchmark_gene = ['TP53','HBA2v1','HBA2v2','INS']\n",
    "\n",
    "for bid, bgene in zip(benchmark_ids, benchmark_gene):\n",
    "    print(f\"\\n##########\\n{bgene}\")\n",
    "    print(\"\\nAssociated conditions-\\t\", \"\\n\\t\\t\\t\".join(sorted(set(clin_filt_long.loc[clin_filt_long['variantID'] == bid, 'clinical_condition'].tolist()))), \"\\n\")\n",
    "    print(clin_filt_long.loc[clin_filt_long['variantID'] == bid].iloc[0][benchmark_cols])\n",
    "    "
   ]
  }
 ],
 "metadata": {
  "kernelspec": {
   "display_name": "Python (tf-train)",
   "language": "python",
   "name": "tf-train"
  },
  "language_info": {
   "codemirror_mode": {
    "name": "ipython",
    "version": 3
   },
   "file_extension": ".py",
   "mimetype": "text/x-python",
   "name": "python",
   "nbconvert_exporter": "python",
   "pygments_lexer": "ipython3",
   "version": "3.6.12"
  }
 },
 "nbformat": 4,
 "nbformat_minor": 2
}
