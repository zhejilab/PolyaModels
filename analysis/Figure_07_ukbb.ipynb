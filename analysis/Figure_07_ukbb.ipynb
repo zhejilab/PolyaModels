{
 "cells": [
  {
   "cell_type": "markdown",
   "metadata": {},
   "source": [
    "# Figure 7: Genetics analysis of fine-mapped variants from UKBB"
   ]
  },
  {
   "cell_type": "code",
   "execution_count": 1,
   "metadata": {},
   "outputs": [],
   "source": [
    "%load_ext autoreload"
   ]
  },
  {
   "cell_type": "code",
   "execution_count": 2,
   "metadata": {},
   "outputs": [],
   "source": [
    "%autoreload 2"
   ]
  },
  {
   "cell_type": "code",
   "execution_count": 3,
   "metadata": {},
   "outputs": [
    {
     "name": "stderr",
     "output_type": "stream",
     "text": [
      "Using TensorFlow backend.\n"
     ]
    }
   ],
   "source": [
    "%run -i notebook_setup.py"
   ]
  },
  {
   "cell_type": "markdown",
   "metadata": {},
   "source": [
    "## IMPORTS AND SETUP"
   ]
  },
  {
   "cell_type": "code",
   "execution_count": 4,
   "metadata": {},
   "outputs": [],
   "source": [
    "import utilities\n",
    "from utilities import preprocessing, sequence, model_builder, classification_cleavage, motifs, relative_strength, genomic_context, genetics\n",
    "\n",
    "import vcf\n"
   ]
  },
  {
   "cell_type": "code",
   "execution_count": 5,
   "metadata": {},
   "outputs": [],
   "source": [
    "PROJECT = \"/projects/b1080/eks/polyadenylation\"\n",
    "UKBBDIR = os.path.join(PROJECT, 'genetics', 'ukbb')\n",
    "DATADIR = os.path.join(PROJECT, \"manuscripts\", \"01_development\", \"data\")\n",
    "RESDIR  = os.path.join(PROJECT, \"manuscripts\", \"01_development\", \"analysis\", \"resources\")\n",
    "OUTDIR  = os.path.join(PROJECT, \"manuscripts\", \"01_development\", \"figures\", \"Figure_07\", \"ukbb\")\n",
    "os.makedirs(OUTDIR, exist_ok = True)\n"
   ]
  },
  {
   "cell_type": "markdown",
   "metadata": {},
   "source": [
    "## IMPORT DATA"
   ]
  },
  {
   "cell_type": "code",
   "execution_count": 6,
   "metadata": {},
   "outputs": [
    {
     "name": "stdout",
     "output_type": "stream",
     "text": [
      "(63248, 45)\n",
      "(63190, 45)\n",
      "(17392, 45)\n",
      "(44902, 45)\n"
     ]
    }
   ],
   "source": [
    "with open(os.path.join(RESDIR, \"ukbb.representative_sites.pickle\"), mode = 'rb') as handle:\n",
    "    ukbb_repr = pickle.load(handle)\n",
    "\n",
    "print(ukbb_repr.shape)\n",
    "    \n",
    "ukbb_repr = ukbb_repr.loc[ukbb_repr['referenceFeature'] == ukbb_repr['alternateFeature']].copy()\n",
    "ukbb_repr_xte = ukbb_repr.loc[ukbb_repr['referenceFeature'].str.contains(\"terminal_exon\")].copy()\n",
    "ukbb_repr_int = ukbb_repr.loc[ukbb_repr['referenceFeature'].str.contains(\"intron\")].copy()\n",
    "\n",
    "print(ukbb_repr.shape)\n",
    "print(ukbb_repr_xte.shape)\n",
    "print(ukbb_repr_int.shape)\n"
   ]
  },
  {
   "cell_type": "code",
   "execution_count": 7,
   "metadata": {},
   "outputs": [
    {
     "name": "stdout",
     "output_type": "stream",
     "text": [
      "\n",
      "### Extended/terminal exonic:\n",
      "Number of variant-pA test sites              17392\n",
      "Number of unique variants                    16539\n",
      "Number of variants evaluated more than once    691\n",
      "\n",
      "### Intronic:\n",
      "Number of variant-pA test sites              44902\n",
      "Number of unique variants                    44171\n",
      "Number of variants evaluated more than once    547\n"
     ]
    }
   ],
   "source": [
    "print(\"\\n### Extended/terminal exonic:\")\n",
    "print(f\"Number of variant-pA test sites             {ukbb_repr_xte.shape[0]:6}\")\n",
    "print(f\"Number of unique variants                   {ukbb_repr_xte.variantID.nunique():6}\")\n",
    "print(f\"Number of variants evaluated more than once {(ukbb_repr_xte.variantID.value_counts() > 1).sum():6}\")\n",
    "\n",
    "print(\"\\n### Intronic:\")\n",
    "print(f\"Number of variant-pA test sites             {ukbb_repr_int.shape[0]:6}\")\n",
    "print(f\"Number of unique variants                   {ukbb_repr_int.variantID.nunique():6}\")\n",
    "print(f\"Number of variants evaluated more than once {(ukbb_repr_int.variantID.value_counts() > 1).sum():6}\")\n"
   ]
  },
  {
   "cell_type": "code",
   "execution_count": 8,
   "metadata": {},
   "outputs": [
    {
     "data": {
      "image/png": "[encoded data removed]",
      "text/plain": [
       "<Figure size 576x216 with 8 Axes>"
      ]
     },
     "metadata": {
      "needs_background": "light"
     },
     "output_type": "display_data"
    }
   ],
   "source": [
    "fig,ax = plt.subplots(2,4, figsize = (8,3))\n",
    "ax = ax.T\n",
    "\n",
    "for a in ax[0]:\n",
    "    a.hist(ukbb_repr[['referenceClassprob','alternateClassprob']].max(axis = 1), color = 'gray', bins = 30)\n",
    "    a.axvline(x = 0.5, color = 'black', linestyle = 'dashed', linewidth = 0.5)\n",
    "    a.xaxis.set_major_locator(MultipleLocator(0.5))\n",
    "\n",
    "for a in ax[1]:\n",
    "    a.hist(ukbb_repr['deltaClassification'], color = 'gray', bins = 30)\n",
    "    a.xaxis.set_major_locator(MultipleLocator(0.5))\n",
    "\n",
    "for a in ax[2]:\n",
    "    a.hist(ukbb_repr[['referenceStrength','alternateStrength']].max(axis = 1), color = 'gray', bins = 30)\n",
    "    a.axvline(x = -9, color = 'black', linestyle = 'dashed', linewidth = 0.5)\n",
    "    a.xaxis.set_major_locator(MultipleLocator(5))\n",
    "\n",
    "for a in ax[3]:\n",
    "    a.hist(ukbb_repr['deltaStrength'], color = 'gray', bins = 30)\n",
    "    a.axvline(x = -0.5, color = 'black', linestyle = 'dashed', linewidth = 0.5)\n",
    "    a.axvline(x = +0.5, color = 'black', linestyle = 'dashed', linewidth = 0.5)\n",
    "    a.xaxis.set_major_locator(MultipleLocator(5))\n",
    "    \n",
    "for a in ax[:,1]:\n",
    "    a.set_yscale('log')\n",
    "\n",
    "ax[0][0].set_ylabel(\"Frequency\")\n",
    "ax[0][1].set_ylabel(\"Frequency (Log Scale)\")\n",
    "\n",
    "plt.suptitle(f\"UKBB variants representative test sites, N = {len(ukbb_repr):,d})\")\n",
    "plt.tight_layout()\n",
    "plt.show()\n"
   ]
  },
  {
   "cell_type": "markdown",
   "metadata": {},
   "source": [
    "#### Filter representative test sites that have a significant effect on either PolyaID classification or PolyaStrength predictions"
   ]
  },
  {
   "cell_type": "code",
   "execution_count": 9,
   "metadata": {},
   "outputs": [
    {
     "name": "stdout",
     "output_type": "stream",
     "text": [
      "Representative sites-\tCount = 63190\n",
      "\n",
      "Individual criteria:\n",
      "Within +/- 120 nt of variant   63190 (100.0%)\n",
      "PolyaID classification >= 0.5  63190 (100.0%)\n",
      "PolyaStrength score >= -9      52086 ( 82.4%)\n",
      "delta(PolyaStrength) >= 1       3339 (  5.3%)\n",
      "In extended/terminal exon      17392 ( 27.5%)\n",
      "Intronic usage >= 0.8            262 (  0.4%)\n",
      "\n",
      "Combined criteria:              1228 (  1.9%)\n"
     ]
    }
   ],
   "source": [
    "thresh_class = 0.5\n",
    "thresh_strength = -9\n",
    "thresh_delta = 1\n",
    "\n",
    "condDIST     = (ukbb_repr['testSiteDistStranded'].between(-120,120))\n",
    "condCLASS    = ((ukbb_repr['referenceClassprob'] >= thresh_class) | (ukbb_repr['alternateClassprob'] >= thresh_class))\n",
    "condSTRENGTH = ((ukbb_repr['referenceStrength'] >= thresh_strength) | (ukbb_repr['alternateStrength'] >= thresh_strength))\n",
    "condDELTA    = (np.abs(ukbb_repr['deltaStrength']) >= thresh_delta)\n",
    "\n",
    "condXTE      = (ukbb_repr['referenceFeature'].str.contains('terminal_exon'))\n",
    "condINT      = (ukbb_repr['referenceFeature'].str.contains('intron'))\n",
    "condIC       = ((ukbb_repr['referenceFeature'] == 'intron:composite') & ((ukbb_repr['referenceICprob'] >= 0.8) | (ukbb_repr['alternateICprob'] >= 0.8)))\n",
    "condIS       = ((ukbb_repr['referenceFeature'] == 'intron:skipped') & ((ukbb_repr['referenceISprob'] >= 0.8) | (ukbb_repr['alternateISprob'] >= 0.8)))\n",
    "condFEATURE  = (condXTE | condIC | condIS)\n",
    "\n",
    "condCOMB     = (condDIST & condCLASS & condSTRENGTH & condDELTA & condFEATURE)\n",
    "\n",
    "print(\"Representative sites-\\tCount =\", len(ukbb_repr))\n",
    "\n",
    "print(\"\\nIndividual criteria:\")\n",
    "print(f\"Within +/- 120 nt of variant  {condDIST.sum():6} ({condDIST.sum() / len(ukbb_repr):6.01%})\")\n",
    "print(f\"PolyaID classification >= 0.5 {condCLASS.sum():6} ({condCLASS.sum() / len(ukbb_repr):6.01%})\")\n",
    "print(f\"PolyaStrength score >= -9     {condSTRENGTH.sum():6} ({condSTRENGTH.sum() / len(ukbb_repr):6.01%})\")\n",
    "print(f\"delta(PolyaStrength) >= 1     {condDELTA.sum():6} ({condDELTA.sum() / len(ukbb_repr):6.01%})\")\n",
    "print(f\"In extended/terminal exon     {condXTE.sum():6} ({condXTE.sum() / len(ukbb_repr):6.01%})\")\n",
    "print(f\"Intronic usage >= 0.8         {(condIC | condIS).sum():6} ({(condIC | condIS).sum() / len(ukbb_repr):6.01%})\")\n",
    "\n",
    "print(f\"\\nCombined criteria:            {condCOMB.sum():6} ({condCOMB.sum() / len(ukbb_repr):6.01%})\")\n"
   ]
  },
  {
   "cell_type": "code",
   "execution_count": 10,
   "metadata": {},
   "outputs": [
    {
     "name": "stdout",
     "output_type": "stream",
     "text": [
      "(63190, 45)\n",
      "(1228, 45)\n",
      "(966, 45)\n",
      "(262, 45)\n"
     ]
    }
   ],
   "source": [
    "ukbb_filt = ukbb_repr.loc[condCOMB].copy()\n",
    "ukbb_filt_xte = ukbb_repr.loc[condCOMB & condXTE].copy()\n",
    "ukbb_filt_int = ukbb_repr.loc[condCOMB & condINT].copy()\n",
    "\n",
    "print(ukbb_repr.shape)\n",
    "print(ukbb_filt.shape)\n",
    "print(ukbb_filt_xte.shape)\n",
    "print(ukbb_filt_int.shape)\n"
   ]
  },
  {
   "cell_type": "code",
   "execution_count": 11,
   "metadata": {},
   "outputs": [],
   "source": [
    "# (ukbb_repr\n",
    "#  .loc[condDIST & condCLASS & condSTRENGTH & condDELTA & condINT,['variantID','gene']]\n",
    "#  .drop_duplicates()\n",
    "#  .to_csv(os.path.join(RESDIR, 'ukbb.variant_gene_combinations.intronic.txt'), sep = \"\\t\", index = False, header = True)\n",
    "# )\n"
   ]
  },
  {
   "cell_type": "markdown",
   "metadata": {},
   "source": [
    "#### Summarize significant variants"
   ]
  },
  {
   "cell_type": "code",
   "execution_count": 12,
   "metadata": {},
   "outputs": [
    {
     "name": "stdout",
     "output_type": "stream",
     "text": [
      "\n",
      "### Extended/terminal exonic:\n",
      "Number of variant-pA test sites                966\n",
      "Number of unique variants                      920\n",
      "Number of variants evaluated more than once     22\n",
      "\n",
      "Number of types of sites-\n",
      "extended_terminal_exon    589\n",
      "terminal_exon             377\n",
      "Name: referenceFeature, dtype: int64\n",
      "\n",
      "Direction of effects on strength-\n",
      "weakened        505\n",
      "strengthened    461\n",
      "Name: directionEffect, dtype: int64\n",
      "\n",
      "\n",
      "### Intronic:\n",
      "Number of variant-pA test sites                262\n",
      "Number of unique variants                      257\n",
      "Number of variants evaluated more than once      5\n",
      "\n",
      "Number of types of sites-\n",
      "intron:composite    256\n",
      "intron:skipped        6\n",
      "Name: referenceFeature, dtype: int64\n",
      "\n",
      "Direction of effects on strength-\n",
      "strengthened    133\n",
      "weakened        129\n",
      "Name: directionEffect, dtype: int64\n"
     ]
    }
   ],
   "source": [
    "print(\"\\n### Extended/terminal exonic:\")\n",
    "print(f\"Number of variant-pA test sites             {ukbb_filt_xte.shape[0]:6}\")\n",
    "print(f\"Number of unique variants                   {ukbb_filt_xte.variantID.nunique():6}\")\n",
    "print(f\"Number of variants evaluated more than once {(ukbb_filt_xte.variantID.value_counts() > 1).sum():6}\")\n",
    "\n",
    "print(f\"\\nNumber of types of sites-\\n{ukbb_filt_xte.referenceFeature.value_counts()}\")\n",
    "print(f\"\\nDirection of effects on strength-\\n{ukbb_filt_xte.directionEffect.value_counts()}\")\n",
    "\n",
    "\n",
    "print(\"\\n\\n### Intronic:\")\n",
    "print(f\"Number of variant-pA test sites             {ukbb_filt_int.shape[0]:6}\")\n",
    "print(f\"Number of unique variants                   {ukbb_filt_int.variantID.nunique():6}\")\n",
    "print(f\"Number of variants evaluated more than once {(ukbb_filt_int.variantID.value_counts() > 1).sum():6}\")\n",
    "\n",
    "print(f\"\\nNumber of types of sites-\\n{ukbb_filt_int.referenceFeature.value_counts()}\")\n",
    "print(f\"\\nDirection of effects on strength-\\n{ukbb_filt_int.directionEffect.value_counts()}\")\n"
   ]
  },
  {
   "cell_type": "markdown",
   "metadata": {},
   "source": [
    "#### Split variant representative sites by their effect on APA activity and save to BED files"
   ]
  },
  {
   "cell_type": "code",
   "execution_count": 13,
   "metadata": {},
   "outputs": [],
   "source": [
    "test_bed_cols = ['chrom', 'positionTest', 'positionTest+1', 'label', 'deltaStrength', 'strand']\n",
    "\n",
    "ukbb_filt['positionTest+1'] = ukbb_filt['positionTest']+1\n",
    "\n",
    "ukbb_filt['label'] = ukbb_filt['variantID']\n",
    "ukbb_filt['label'] = ukbb_filt['label'] + \"|\" + ukbb_filt['reference'] + \">\" + ukbb_filt['alternate']\n",
    "ukbb_filt['label'] = ukbb_filt['label'] + \"|\" + ukbb_filt['affectedMotif']\n",
    "ukbb_filt['label'] = ukbb_filt['label'] + \"|dID=\" + ukbb_filt['deltaClassification'].round(3).astype(str) + \"(\" + ukbb_filt['referenceClassprob'].round(3).astype(str) + \">\" + ukbb_filt['alternateClassprob'].round(3).astype(str) + \")\"\n",
    "ukbb_filt['label'] = ukbb_filt['label'] + \"|dSTR=\" + ukbb_filt['deltaStrengthProb'].round(3).astype(str) + \"(\" + ukbb_filt['referenceStrengthProb'].round(3).astype(str) + \">\" + ukbb_filt['alternateStrengthProb'].round(3).astype(str) + \")\"\n",
    "\n",
    "ukbb_filt.loc[ukbb_filt['referenceFeature'] == 'intron:composite', 'label'] = ukbb_filt['label'] + \"|dIC=\" + (ukbb_filt['alternateICprob'] - ukbb_filt['referenceICprob']).round(3).astype(str) + \"(\" + ukbb_filt['referenceICprob'].round(3).astype(str) + \">\" + ukbb_filt['alternateICprob'].round(3).astype(str) + \")\"\n",
    "ukbb_filt.loc[ukbb_filt['referenceFeature'] == 'intron:skipped', 'label'] = ukbb_filt['label'] + \"|dIS=\" + (ukbb_filt['alternateISprob'] - ukbb_filt['referenceISprob']).round(3).astype(str) + \"(\" + ukbb_filt['referenceISprob'].round(3).astype(str) + \">\" + ukbb_filt['alternateISprob'].round(3).astype(str) + \")\"\n",
    "\n",
    "ukbb_filt['label'] = ukbb_filt['label'] + \"|\" + ukbb_filt['directionEffect']\n",
    "\n",
    "for strand in ['+','-']:\n",
    "    strand_str = \"fwd\" if (strand == \"+\") else \"rev\"\n",
    "    \n",
    "    for direction in ['strengthened','weakened','mixed']:\n",
    "\n",
    "        (ukbb_filt.loc[(ukbb_filt['strand'] == strand) & (ukbb_filt['directionEffect'] == direction), test_bed_cols]\n",
    "         .drop_duplicates()\n",
    "         .to_csv(os.path.join(OUTDIR, f'ukbb.representative_sites.significant_pc.{direction}.{strand_str}.bed'), sep = \"\\t\", index = False, header = False)\n",
    "        )\n"
   ]
  },
  {
   "cell_type": "markdown",
   "metadata": {},
   "source": [
    "#### Annotate clinical associations to variants and remove those with no disease relevance"
   ]
  },
  {
   "cell_type": "code",
   "execution_count": 14,
   "metadata": {},
   "outputs": [
    {
     "name": "stdout",
     "output_type": "stream",
     "text": [
      "\n",
      "Dataset\t\tShape\t\tGenes Variants Combinations\n",
      "ukbb_filt      \t(1228, 47)\t 1122     1176         1228\n",
      "ukbb_filt_long \t(3586, 47)\t 1122     1176         1228\n",
      "ukbb_filt_assoc\t(3586, 47)\t 1122     1176         1228\n",
      "\n",
      "Split by genomic feature:\n",
      "Feature\t\tShape\t\tGenes Variants Combinations\n",
      "intronic       \t(748, 47)\t  235      257          262\n",
      "terminal exonic\t(2838, 47)\t  902      920          966\n"
     ]
    }
   ],
   "source": [
    "ukbb_filt_long = ukbb_filt.explode('condition').reset_index(drop = True)\n",
    "ukbb_filt_long['label'] = ukbb_filt_long['label'] + \"|\" + ukbb_filt_long['condition']\n",
    "\n",
    "ukbb_filt_assoc = ukbb_filt_long.loc[~ukbb_filt_long['condition'].isin(['not_provided','not_specified','NA'])].copy()\n",
    "assoc_int = ukbb_filt_assoc.loc[ukbb_filt_assoc.referenceFeature.str.contains('intron')]\n",
    "assoc_xte = ukbb_filt_assoc.loc[ukbb_filt_assoc.referenceFeature.str.contains('terminal_exon')]\n",
    "\n",
    "print(\"\\nDataset\\t\\tShape\\t\\tGenes Variants Combinations\")\n",
    "print(f\"ukbb_filt      \\t{ukbb_filt.shape}\\t{ukbb_filt.gene.nunique():5} {ukbb_filt.variantID.nunique():8} {ukbb_filt.groupby(['variantID','gene']).size().shape[0]:12}\")\n",
    "print(f\"ukbb_filt_long \\t{ukbb_filt_long.shape}\\t{ukbb_filt_long.gene.nunique():5} {ukbb_filt_long.variantID.nunique():8} {ukbb_filt_long.groupby(['variantID','gene']).size().shape[0]:12}\")\n",
    "print(f\"ukbb_filt_assoc\\t{ukbb_filt_assoc.shape}\\t{ukbb_filt_assoc.gene.nunique():5} {ukbb_filt_assoc.variantID.nunique():8} {ukbb_filt_assoc.groupby(['variantID','gene']).size().shape[0]:12}\")\n",
    "\n",
    "print(\"\\nSplit by genomic feature:\")\n",
    "print(\"Feature\\t\\tShape\\t\\tGenes Variants Combinations\")\n",
    "print(f\"intronic       \\t{assoc_int.shape}\\t{assoc_int.gene.nunique():5} {assoc_int.variantID.nunique():8} {assoc_int.groupby(['variantID','gene']).size().shape[0]:12}\")\n",
    "print(f\"terminal exonic\\t{assoc_xte.shape}\\t{assoc_xte.gene.nunique():5} {assoc_xte.variantID.nunique():8} {assoc_xte.groupby(['variantID','gene']).size().shape[0]:12}\")\n"
   ]
  },
  {
   "cell_type": "code",
   "execution_count": 15,
   "metadata": {},
   "outputs": [
    {
     "data": {
      "text/plain": [
       "Plt            128\n",
       "Height         122\n",
       "BW             120\n",
       "IGF1           111\n",
       "RBC            106\n",
       "              ... \n",
       "Risk_Taking      2\n",
       "LipoA            2\n",
       "Tense            2\n",
       "Loneliness       1\n",
       "Asthma           1\n",
       "Name: condition, Length: 78, dtype: int64"
      ]
     },
     "execution_count": 15,
     "metadata": {},
     "output_type": "execute_result"
    }
   ],
   "source": [
    "ukbb_filt_assoc['condition'].value_counts()"
   ]
  },
  {
   "cell_type": "markdown",
   "metadata": {},
   "source": [
    "#### Create annotated VCF file of significant variants"
   ]
  },
  {
   "cell_type": "code",
   "execution_count": 16,
   "metadata": {},
   "outputs": [
    {
     "name": "stdout",
     "output_type": "stream",
     "text": [
      "# Included IDs: 1176\n"
     ]
    },
    {
     "name": "stderr",
     "output_type": "stream",
     "text": [
      "48928it [00:22, 2149.01it/s]\n",
      "396459it [00:25, 15291.47it/s]\n"
     ]
    }
   ],
   "source": [
    "### annotate vcf with representative site info\n",
    "\n",
    "filtered_ids = list(set([x.replace(\"clinvarID:\", \"\") for x in ukbb_filt_long['variantID']]))\n",
    "print(\"# Included IDs:\", len(filtered_ids))\n",
    "\n",
    "annotation_to_add = {\n",
    "    'representative_test_position': 'positionTest',\n",
    "    'representative_test_position_feature': 'referenceFeature',\n",
    "    'variant_distance_to_test_position': 'testSiteDistStranded',\n",
    "    'variant_affected_motif_details': 'affectedMotifs',\n",
    "    'variant_clinical_associations': 'condition',\n",
    "    'ref_classification': 'referenceClassprob',\n",
    "    'alt_classification': 'alternateClassprob',\n",
    "    'ref_strength': 'referenceStrength',\n",
    "    'alt_strength': 'alternateStrength',\n",
    "    'ref_strength_probability' : 'referenceStrengthProb',\n",
    "    'alt_strength_probability' : 'alternateStrengthProb',\n",
    "    'ref_peak_clv_profile': 'referenceNormClvProfile',\n",
    "    'alt_peak_clv_profile': 'alternateNormClvProfile',\n",
    "    'ref_intron_composite_usage': 'referenceICprob',\n",
    "    'alt_intron_composite_usage': 'alternateICprob',\n",
    "    'ref_intron_skipped_usage': 'referenceISprob',\n",
    "    'alt_intron_skipped_usage': 'alternateISprob',\n",
    "    'delta_probability_classification': 'deltaClassification',\n",
    "    'delta_probability_strength': 'deltaStrengthProb',\n",
    "    'delta_logit_strength': 'deltaStrength',\n",
    "}\n",
    "\n",
    "vcf_te = os.path.join(UKBBDIR, 'UKBB_94traits_release1.pc.max_100.fully_within_xte.affected_motifs_sig_complete2.vcf')\n",
    "vcf_int = os.path.join(UKBBDIR, 'UKBB_94traits_release1.pc.max_100.fully_within_intron.affected_motifs_sig_complete2.vcf')\n",
    "\n",
    "vcf_te_reader  = vcf.Reader(open(vcf_te, 'r'))\n",
    "vcf_int_reader = vcf.Reader(open(vcf_int, 'r'))\n",
    "\n",
    "vcf_out1 = os.path.join(UKBBDIR, 'UKBB_94traits_release1.pc.max_100.fully_within_intron_or_terminal_exon.affected_motifs_sig_complete2.significant_pc.vcf')\n",
    "vcf_out1_writer = vcf.Writer(open(vcf_out1, 'w'), vcf_te_reader)\n",
    "\n",
    "vcf_out2 = os.path.join(OUTDIR, 'ukbb.significant_pc.vcf')\n",
    "vcf_out2_writer = vcf.Writer(open(vcf_out2, 'w'), vcf_te_reader)\n",
    "\n",
    "for record in tqdm.tqdm(vcf_te_reader):\n",
    "    if (record.ID in filtered_ids):\n",
    "        \n",
    "        if (list(annotation_to_add.keys())[0] not in record.INFO.keys()):\n",
    "            for k in annotation_to_add.keys():\n",
    "                record.INFO[k] = []\n",
    "            \n",
    "        for k,dk in annotation_to_add.items():\n",
    "            values = genetics.find_clinvar_attribute_value(ukbb_filt_long, record.ID, dk)\n",
    "            genetics.add_annotation_attribute(record.INFO, k, values)\n",
    "        \n",
    "        vcf_out1_writer.write_record(record); vcf_out1_writer.flush()\n",
    "        vcf_out2_writer.write_record(record); vcf_out2_writer.flush()\n",
    "        \n",
    "        \n",
    "for record in tqdm.tqdm(vcf_int_reader):\n",
    "    if (record.ID in filtered_ids):\n",
    "        \n",
    "        if (list(annotation_to_add.keys())[0] not in record.INFO.keys()):\n",
    "            for k in annotation_to_add.keys():\n",
    "                record.INFO[k] = []\n",
    "            \n",
    "        for k,dk in annotation_to_add.items():\n",
    "            values = genetics.find_clinvar_attribute_value(ukbb_filt_long, record.ID, dk)\n",
    "            genetics.add_annotation_attribute(record.INFO, k, values)\n",
    "        \n",
    "        vcf_out1_writer.write_record(record); vcf_out1_writer.flush()\n",
    "        vcf_out2_writer.write_record(record); vcf_out2_writer.flush()\n",
    "\n",
    "        \n",
    "vcf_out1_writer.close()\n",
    "vcf_out2_writer.close()\n",
    "    "
   ]
  },
  {
   "cell_type": "markdown",
   "metadata": {},
   "source": [
    "#### Save overall table"
   ]
  },
  {
   "cell_type": "code",
   "execution_count": 17,
   "metadata": {},
   "outputs": [
    {
     "name": "stdout",
     "output_type": "stream",
     "text": [
      "(1228, 22)\n"
     ]
    }
   ],
   "source": [
    "out_cols = [\n",
    "    'variantID',\n",
    "    'chrom', 'position', 'reference', 'alternate',\n",
    "    'gene', 'geneStrand', 'positionTest', 'testSiteDistStranded',\n",
    "    'referenceFeature',\n",
    "    'referenceClassprob', 'alternateClassprob', 'deltaClassification',\n",
    "    'referenceStrength', 'alternateStrength', 'deltaStrength', \n",
    "    'referenceICprob', 'alternateICprob', \n",
    "    'referenceISprob', 'alternateISprob', \n",
    "    'affectedMotifs', 'condition']\n",
    "\n",
    "out_data = (ukbb_filt[out_cols]\n",
    "            .drop_duplicates(subset = out_cols[:9])\n",
    "            .sort_values(['chrom','positionTest'])\n",
    ")\n",
    "\n",
    "out_data.to_csv(os.path.join(OUTDIR, f'ukbb.representative_sites.significant_pc.txt'), sep = \"\\t\", index = False)\n",
    "print(out_data.shape)\n"
   ]
  },
  {
   "cell_type": "markdown",
   "metadata": {},
   "source": [
    "#### Make accompanying tracks"
   ]
  },
  {
   "cell_type": "code",
   "execution_count": 18,
   "metadata": {},
   "outputs": [],
   "source": [
    "bed_cols = ['chrom', 'positionTest', 'positionTest+1', 'label', 'deltaStrength', 'strand']\n",
    "bedgraph_cols = ['chrom','positionTest','positionTest+1']\n",
    "\n",
    "for strand in ['+','-']:\n",
    "    strand_str = \"fwd\" if (strand == \"+\") else \"rev\"\n",
    "    \n",
    "    strand_data = ukbb_filt_long.loc[ukbb_filt_long['strand'] == strand]\n",
    "    \n",
    "    (strand_data[bed_cols]\n",
    "     .drop_duplicates()\n",
    "     .sort_values(['chrom','positionTest'])\n",
    "     .to_csv(os.path.join(OUTDIR, f'ukbb.significant_pc.disease_assoc.{strand_str}.bed'), sep = \"\\t\", index = False, header = False)\n",
    "    )\n",
    "    \n",
    "    for score in ['referenceClassprob','alternateClassprob','referenceStrength','alternateStrength', 'referenceStrengthProb', 'alternateStrengthProb']:\n",
    "        \n",
    "        (strand_data[bedgraph_cols + [score]]\n",
    "         .drop_duplicates()\n",
    "         .sort_values(['chrom','positionTest'])\n",
    "         .groupby(['chrom','positionTest','positionTest+1']).agg('max').reset_index()\n",
    "         .to_csv(os.path.join(OUTDIR, f'ukbb.significant_pc.disease_assoc.{score}.{strand_str}.bedgraph'), sep = \"\\t\", index = False, header = False)\n",
    "        )\n",
    "        \n",
    "    for direction in ['strengthened','weakened','mixed']:\n",
    "\n",
    "        (strand_data.loc[strand_data['directionEffect'] == direction, bed_cols]\n",
    "         .drop_duplicates()\n",
    "         .to_csv(os.path.join(OUTDIR, f'ukbb.significant_pc.disease_assoc.{direction}.{strand_str}.bed'), sep = \"\\t\", index = False, header = False)\n",
    "        )\n"
   ]
  },
  {
   "cell_type": "markdown",
   "metadata": {},
   "source": [
    "## Analyze significant variants"
   ]
  },
  {
   "cell_type": "markdown",
   "metadata": {},
   "source": [
    "#### Visualize the distribution of variants around the representative test sites"
   ]
  },
  {
   "cell_type": "code",
   "execution_count": 19,
   "metadata": {},
   "outputs": [],
   "source": [
    "paper_examples = ['rs11548104']\n",
    "extreme_values = ['rs10954213','rs78378222','19:2754703_AAGAC_A','rs549823870',\n",
    "                  'rs3759937','rs78865465','9:139942576_A_G','rs139900407','rs57884364']\n",
    "\n",
    "ukbb_repr_xte['examples'] = np.nan\n",
    "ukbb_repr_xte.loc[ukbb_repr_xte['variantID'].isin(extreme_values), 'examples'] = 'extreme'\n",
    "ukbb_repr_xte.loc[ukbb_repr_xte['variantID'].isin(paper_examples), 'examples'] = 'paper'\n"
   ]
  },
  {
   "cell_type": "code",
   "execution_count": 20,
   "metadata": {},
   "outputs": [
    {
     "data": {
      "image/png": "[encoded data removed]",
      "text/plain": [
       "<Figure size 216x108 with 1 Axes>"
      ]
     },
     "metadata": {
      "needs_background": "light"
     },
     "output_type": "display_data"
    }
   ],
   "source": [
    "fig,ax = plt.subplots(1,1, figsize = (3,1.5))\n",
    "\n",
    "ax.axhline(y = -thresh_delta, color = 'black', linestyle = 'dashed', linewidth = 1)\n",
    "ax.axhline(y = +thresh_delta, color = 'black', linestyle = 'dashed', linewidth = 1)\n",
    "\n",
    "sns.scatterplot(data = ukbb_repr_xte, x = 'testSiteDistStranded', y = 'deltaStrength', \n",
    "                color = 'gray', edgecolor = None, s = 1, alpha = 0.75, \n",
    "                rasterized = True, ax = ax)\n",
    "\n",
    "sns.scatterplot(data = ukbb_repr_xte.loc[(ukbb_repr_xte['variantID'].isin(extreme_values)) & (np.abs(ukbb_repr_xte['deltaStrength']) >= thresh_delta)], \n",
    "                x = 'testSiteDistStranded', y = 'deltaStrength', \n",
    "                color = 'red', edgecolor = None, s = 5, alpha = 1, \n",
    "                rasterized = True, ax = ax)\n",
    "\n",
    "sns.scatterplot(data = ukbb_repr_xte.loc[(ukbb_repr_xte['variantID'].isin(paper_examples)) & (np.abs(ukbb_repr_xte['deltaStrength']) >= thresh_delta)], \n",
    "                x = 'testSiteDistStranded', y = 'deltaStrength', \n",
    "                color = 'red', edgecolor = 'black', linewidth = 0.5, s = 7, alpha = 1, \n",
    "                rasterized = True, ax = ax)\n",
    "\n",
    "ax.set_xlim(-120,120)\n",
    "ax.set_xticks(np.arange(-120,121,10))\n",
    "ax.set_xticklabels(['-120','','','-90','','','-60','','','-30','','','0','','','30','','','60','','','90','','','120'])\n",
    "\n",
    "ax.set_ylim(-15,15)\n",
    "ax.yaxis.set_major_locator(MultipleLocator(3))\n",
    "\n",
    "ax.set_xlabel(\"Distance to max cleavage site (nt)\")\n",
    "ax.set_ylabel(\"delta PolyaStrength score\")\n",
    "\n",
    "ax.spines['right'].set_visible(False)\n",
    "ax.spines['top'].set_visible(False)\n",
    "\n",
    "plt.savefig(os.path.join(OUTDIR, 'ukbb.xte.change_strength_by_position.prob.repr.highlight.svg'), format = 'svg', dpi = 600, transparent = True)\n",
    "plt.show()\n"
   ]
  },
  {
   "cell_type": "code",
   "execution_count": 21,
   "metadata": {},
   "outputs": [
    {
     "data": {
      "text/html": [
       "<div>\n",
       "<style scoped>\n",
       "    .dataframe tbody tr th:only-of-type {\n",
       "        vertical-align: middle;\n",
       "    }\n",
       "\n",
       "    .dataframe tbody tr th {\n",
       "        vertical-align: top;\n",
       "    }\n",
       "\n",
       "    .dataframe thead th {\n",
       "        text-align: right;\n",
       "    }\n",
       "</style>\n",
       "<table border=\"1\" class=\"dataframe\">\n",
       "  <thead>\n",
       "    <tr style=\"text-align: right;\">\n",
       "      <th></th>\n",
       "      <th>variantID</th>\n",
       "      <th>gene</th>\n",
       "      <th>affectedMotifs</th>\n",
       "      <th>testSiteDistStranded</th>\n",
       "      <th>referenceClassprob</th>\n",
       "      <th>alternateClassprob</th>\n",
       "      <th>deltaClassification</th>\n",
       "      <th>referenceStrength</th>\n",
       "      <th>alternateStrength</th>\n",
       "      <th>deltaStrength</th>\n",
       "    </tr>\n",
       "  </thead>\n",
       "  <tbody>\n",
       "    <tr>\n",
       "      <td>98203</td>\n",
       "      <td>rs11548104</td>\n",
       "      <td>S100A14</td>\n",
       "      <td>created_AATAAA|AATAAA</td>\n",
       "      <td>-24</td>\n",
       "      <td>0.770492</td>\n",
       "      <td>0.999902</td>\n",
       "      <td>0.22941</td>\n",
       "      <td>-10.860615</td>\n",
       "      <td>2.156391</td>\n",
       "      <td>13.017006</td>\n",
       "    </tr>\n",
       "  </tbody>\n",
       "</table>\n",
       "</div>"
      ],
      "text/plain": [
       "        variantID     gene         affectedMotifs  testSiteDistStranded  \\\n",
       "98203  rs11548104  S100A14  created_AATAAA|AATAAA                   -24   \n",
       "\n",
       "       referenceClassprob  alternateClassprob  deltaClassification  \\\n",
       "98203            0.770492            0.999902              0.22941   \n",
       "\n",
       "       referenceStrength  alternateStrength  deltaStrength  \n",
       "98203         -10.860615           2.156391      13.017006  "
      ]
     },
     "execution_count": 21,
     "metadata": {},
     "output_type": "execute_result"
    }
   ],
   "source": [
    "preview_cols = ['variantID','gene','affectedMotifs','testSiteDistStranded','referenceClassprob','alternateClassprob','deltaClassification','referenceStrength','alternateStrength','deltaStrength']\n",
    "ukbb_repr_xte.loc[(np.abs(ukbb_repr_xte['deltaStrength']) >= thresh_delta) & (ukbb_repr_xte['variantID'].isin(paper_examples)), preview_cols].sort_values('testSiteDistStranded')\n"
   ]
  },
  {
   "cell_type": "code",
   "execution_count": 22,
   "metadata": {},
   "outputs": [
    {
     "data": {
      "text/html": [
       "<div>\n",
       "<style scoped>\n",
       "    .dataframe tbody tr th:only-of-type {\n",
       "        vertical-align: middle;\n",
       "    }\n",
       "\n",
       "    .dataframe tbody tr th {\n",
       "        vertical-align: top;\n",
       "    }\n",
       "\n",
       "    .dataframe thead th {\n",
       "        text-align: right;\n",
       "    }\n",
       "</style>\n",
       "<table border=\"1\" class=\"dataframe\">\n",
       "  <thead>\n",
       "    <tr style=\"text-align: right;\">\n",
       "      <th></th>\n",
       "      <th>variantID</th>\n",
       "      <th>gene</th>\n",
       "      <th>affectedMotifs</th>\n",
       "      <th>testSiteDistStranded</th>\n",
       "      <th>referenceClassprob</th>\n",
       "      <th>alternateClassprob</th>\n",
       "      <th>deltaClassification</th>\n",
       "      <th>referenceStrength</th>\n",
       "      <th>alternateStrength</th>\n",
       "      <th>deltaStrength</th>\n",
       "    </tr>\n",
       "  </thead>\n",
       "  <tbody>\n",
       "    <tr>\n",
       "      <td>1334808</td>\n",
       "      <td>rs139900407</td>\n",
       "      <td>RPUSD1</td>\n",
       "      <td>disrupted_AATAAA|AATAAA</td>\n",
       "      <td>-23</td>\n",
       "      <td>0.999296</td>\n",
       "      <td>0.665517</td>\n",
       "      <td>-0.333779</td>\n",
       "      <td>3.004667</td>\n",
       "      <td>-7.616665</td>\n",
       "      <td>-10.621332</td>\n",
       "    </tr>\n",
       "    <tr>\n",
       "      <td>1335484</td>\n",
       "      <td>rs3759937</td>\n",
       "      <td>UBE2I</td>\n",
       "      <td>created_ATTAAA|ATTAAA</td>\n",
       "      <td>-22</td>\n",
       "      <td>0.873768</td>\n",
       "      <td>0.993775</td>\n",
       "      <td>0.120006</td>\n",
       "      <td>-3.216384</td>\n",
       "      <td>6.034833</td>\n",
       "      <td>9.251217</td>\n",
       "    </tr>\n",
       "    <tr>\n",
       "      <td>1132234</td>\n",
       "      <td>rs78865465</td>\n",
       "      <td>IKZF4</td>\n",
       "      <td>created_AATAAA|AATAAA</td>\n",
       "      <td>-19</td>\n",
       "      <td>0.571645</td>\n",
       "      <td>0.999665</td>\n",
       "      <td>0.428020</td>\n",
       "      <td>-8.319536</td>\n",
       "      <td>0.816896</td>\n",
       "      <td>9.136433</td>\n",
       "    </tr>\n",
       "    <tr>\n",
       "      <td>889562</td>\n",
       "      <td>9:139942576_A_G</td>\n",
       "      <td>ENTPD2</td>\n",
       "      <td>disrupted_AATAAA|AATAAA</td>\n",
       "      <td>-18</td>\n",
       "      <td>0.999900</td>\n",
       "      <td>0.807037</td>\n",
       "      <td>-0.192863</td>\n",
       "      <td>8.091455</td>\n",
       "      <td>-3.668818</td>\n",
       "      <td>-11.760272</td>\n",
       "    </tr>\n",
       "    <tr>\n",
       "      <td>755674</td>\n",
       "      <td>rs10954213</td>\n",
       "      <td>IRF5</td>\n",
       "      <td>created_AATAAA|AATAAA</td>\n",
       "      <td>-14</td>\n",
       "      <td>0.621215</td>\n",
       "      <td>0.999979</td>\n",
       "      <td>0.378763</td>\n",
       "      <td>-6.491376</td>\n",
       "      <td>1.592399</td>\n",
       "      <td>8.083775</td>\n",
       "    </tr>\n",
       "    <tr>\n",
       "      <td>1423600</td>\n",
       "      <td>rs78378222</td>\n",
       "      <td>TP53</td>\n",
       "      <td>disrupted_AATAAA|AATAAA</td>\n",
       "      <td>-14</td>\n",
       "      <td>0.999963</td>\n",
       "      <td>0.815661</td>\n",
       "      <td>-0.184303</td>\n",
       "      <td>2.835746</td>\n",
       "      <td>-7.468203</td>\n",
       "      <td>-10.303949</td>\n",
       "    </tr>\n",
       "    <tr>\n",
       "      <td>1555434</td>\n",
       "      <td>19:2754703_AAGAC_A</td>\n",
       "      <td>SGTA</td>\n",
       "      <td>modified_GT/CT-Rich|TCTGTC,GTCTTC,TCGTGT,GTCTG...</td>\n",
       "      <td>8</td>\n",
       "      <td>0.999056</td>\n",
       "      <td>0.998600</td>\n",
       "      <td>-0.000456</td>\n",
       "      <td>4.355872</td>\n",
       "      <td>0.662661</td>\n",
       "      <td>-3.693211</td>\n",
       "    </tr>\n",
       "    <tr>\n",
       "      <td>1302410</td>\n",
       "      <td>rs549823870</td>\n",
       "      <td>TPM1</td>\n",
       "      <td>retained_T-Rich|TTGTTT,TGTTTT,TTTGTT,TTTTGT</td>\n",
       "      <td>9</td>\n",
       "      <td>0.483825</td>\n",
       "      <td>0.507219</td>\n",
       "      <td>0.023394</td>\n",
       "      <td>-7.871271</td>\n",
       "      <td>-10.678263</td>\n",
       "      <td>-2.806992</td>\n",
       "    </tr>\n",
       "    <tr>\n",
       "      <td>1335007</td>\n",
       "      <td>rs57884364</td>\n",
       "      <td>SSTR5</td>\n",
       "      <td>modified_GT/CT-Rich|TCTGTC,GTCTGT,TGTCTG,TTGTC...</td>\n",
       "      <td>23</td>\n",
       "      <td>0.999980</td>\n",
       "      <td>0.999982</td>\n",
       "      <td>0.000002</td>\n",
       "      <td>-3.148207</td>\n",
       "      <td>0.175684</td>\n",
       "      <td>3.323890</td>\n",
       "    </tr>\n",
       "  </tbody>\n",
       "</table>\n",
       "</div>"
      ],
      "text/plain": [
       "                  variantID    gene  \\\n",
       "1334808         rs139900407  RPUSD1   \n",
       "1335484           rs3759937   UBE2I   \n",
       "1132234          rs78865465   IKZF4   \n",
       "889562      9:139942576_A_G  ENTPD2   \n",
       "755674           rs10954213    IRF5   \n",
       "1423600          rs78378222    TP53   \n",
       "1555434  19:2754703_AAGAC_A    SGTA   \n",
       "1302410         rs549823870    TPM1   \n",
       "1335007          rs57884364   SSTR5   \n",
       "\n",
       "                                            affectedMotifs  \\\n",
       "1334808                            disrupted_AATAAA|AATAAA   \n",
       "1335484                              created_ATTAAA|ATTAAA   \n",
       "1132234                              created_AATAAA|AATAAA   \n",
       "889562                             disrupted_AATAAA|AATAAA   \n",
       "755674                               created_AATAAA|AATAAA   \n",
       "1423600                            disrupted_AATAAA|AATAAA   \n",
       "1555434  modified_GT/CT-Rich|TCTGTC,GTCTTC,TCGTGT,GTCTG...   \n",
       "1302410        retained_T-Rich|TTGTTT,TGTTTT,TTTGTT,TTTTGT   \n",
       "1335007  modified_GT/CT-Rich|TCTGTC,GTCTGT,TGTCTG,TTGTC...   \n",
       "\n",
       "         testSiteDistStranded  referenceClassprob  alternateClassprob  \\\n",
       "1334808                   -23            0.999296            0.665517   \n",
       "1335484                   -22            0.873768            0.993775   \n",
       "1132234                   -19            0.571645            0.999665   \n",
       "889562                    -18            0.999900            0.807037   \n",
       "755674                    -14            0.621215            0.999979   \n",
       "1423600                   -14            0.999963            0.815661   \n",
       "1555434                     8            0.999056            0.998600   \n",
       "1302410                     9            0.483825            0.507219   \n",
       "1335007                    23            0.999980            0.999982   \n",
       "\n",
       "         deltaClassification  referenceStrength  alternateStrength  \\\n",
       "1334808            -0.333779           3.004667          -7.616665   \n",
       "1335484             0.120006          -3.216384           6.034833   \n",
       "1132234             0.428020          -8.319536           0.816896   \n",
       "889562             -0.192863           8.091455          -3.668818   \n",
       "755674              0.378763          -6.491376           1.592399   \n",
       "1423600            -0.184303           2.835746          -7.468203   \n",
       "1555434            -0.000456           4.355872           0.662661   \n",
       "1302410             0.023394          -7.871271         -10.678263   \n",
       "1335007             0.000002          -3.148207           0.175684   \n",
       "\n",
       "         deltaStrength  \n",
       "1334808     -10.621332  \n",
       "1335484       9.251217  \n",
       "1132234       9.136433  \n",
       "889562      -11.760272  \n",
       "755674        8.083775  \n",
       "1423600     -10.303949  \n",
       "1555434      -3.693211  \n",
       "1302410      -2.806992  \n",
       "1335007       3.323890  "
      ]
     },
     "execution_count": 22,
     "metadata": {},
     "output_type": "execute_result"
    }
   ],
   "source": [
    "ukbb_repr_xte.loc[(np.abs(ukbb_repr_xte['deltaStrength']) >= thresh_delta) & (ukbb_repr_xte['variantID'].isin(extreme_values)), preview_cols].sort_values('testSiteDistStranded')\n"
   ]
  },
  {
   "cell_type": "markdown",
   "metadata": {},
   "source": [
    "#### Summarize the motifs affected by variants"
   ]
  },
  {
   "cell_type": "code",
   "execution_count": 23,
   "metadata": {},
   "outputs": [
    {
     "name": "stdout",
     "output_type": "stream",
     "text": [
      "(892, 3)\n",
      "890\n",
      "892\n"
     ]
    }
   ],
   "source": [
    "ukbb_sum_dt = (\n",
    "    assoc_xte.loc[assoc_xte['affectedMotifDirection'] != 'retained']\n",
    "    [['variantID','affectedMotifDirection','affectedMotifFamily']]\n",
    "    .drop_duplicates()\n",
    ")\n",
    "\n",
    "ukbb_sum = (ukbb_sum_dt\n",
    "    .groupby(['affectedMotifFamily','affectedMotifDirection']).size()\n",
    "    .reset_index().rename(columns = {0:'Count'})\n",
    ")\n",
    "\n",
    "ukbb_sum['Proportion'] = ukbb_sum['Count'] / ukbb_sum.groupby(['affectedMotifFamily'])['Count'].transform('sum')\n",
    "\n",
    "print(ukbb_sum_dt.shape)\n",
    "print(ukbb_sum_dt.variantID.nunique())\n",
    "print(ukbb_sum['Count'].sum())\n"
   ]
  },
  {
   "cell_type": "code",
   "execution_count": 24,
   "metadata": {},
   "outputs": [
    {
     "name": "stderr",
     "output_type": "stream",
     "text": [
      "/home/esk863/.local/lib/python3.6/site-packages/pandas/core/indexing.py:961: FutureWarning: \n",
      "Passing list-likes to .loc or [] with any missing label will raise\n",
      "KeyError in the future, you can use .reindex() as an alternative.\n",
      "\n",
      "See the documentation here:\n",
      "https://pandas.pydata.org/pandas-docs/stable/user_guide/indexing.html#deprecate-loc-reindex-listlike\n",
      "  return getattr(section, self.name)[new_key]\n",
      "notebook_setup.py:13: UserWarning: FixedFormatter should only be used together with FixedLocator\n",
      "  from sklearn.decomposition import PCA\n"
     ]
    },
    {
     "data": {
      "image/png": "[encoded data removed]",
      "text/plain": [
       "<Figure size 90x108 with 1 Axes>"
      ]
     },
     "metadata": {
      "needs_background": "light"
     },
     "output_type": "display_data"
    }
   ],
   "source": [
    "ordering = ['AATAAA','ATTAAA','PAS Variant','A-Rich','T-Rich','TGTA','TGTA-Rich','GT/CT-Rich','G-Rich']\n",
    "\n",
    "modified_props  = ukbb_sum.loc[ukbb_sum['affectedMotifDirection'] == 'modified',  ['affectedMotifFamily','Count']].set_index('affectedMotifFamily').loc[ordering, 'Count'].fillna(0)\n",
    "disrupted_props = ukbb_sum.loc[ukbb_sum['affectedMotifDirection'] == 'disrupted', ['affectedMotifFamily','Count']].set_index('affectedMotifFamily').loc[ordering, 'Count'].fillna(0)\n",
    "created_props   = ukbb_sum.loc[ukbb_sum['affectedMotifDirection'] == 'created',   ['affectedMotifFamily','Count']].set_index('affectedMotifFamily').loc[ordering, 'Count'].fillna(0)\n",
    "\n",
    "fig,ax = plt.subplots(1,1, figsize = (1.25,1.5))\n",
    "\n",
    "plt.bar(ordering, modified_props, label = 'Modified', color = 'gray', edgecolor = 'black', linewidth = 0.5)\n",
    "plt.bar(ordering, disrupted_props, bottom = modified_props, label = 'Disrupted', color = '#B3589A', edgecolor = 'black', linewidth = 0.5)\n",
    "plt.bar(ordering, created_props, bottom = modified_props + disrupted_props, label = 'Created', color = 'seagreen', edgecolor = 'black', linewidth = 0.5)\n",
    "\n",
    "ax.set_xticklabels(ordering, rotation = 45, ha = 'right', va = 'top')\n",
    "ax.set_xlabel(\"Motif family\")\n",
    "ax.set_ylabel(\"Number of significant variants\")\n",
    "\n",
    "ax.set_ylim(0,400)\n",
    "ax.yaxis.set_major_locator(MultipleLocator(100))\n",
    "\n",
    "ax.legend(bbox_to_anchor = (1.05,1))\n",
    "\n",
    "ax.spines['right'].set_visible(False)\n",
    "ax.spines['top'].set_visible(False)\n",
    "\n",
    "plt.savefig(os.path.join(OUTDIR, 'ukbb.xte.effect_by_family_by_direction.count.svg'), format = 'svg', dpi = 600, transparent = True)\n",
    "plt.show()\n"
   ]
  },
  {
   "cell_type": "markdown",
   "metadata": {},
   "source": [
    "#### Examples of disease-related variants and gene"
   ]
  },
  {
   "cell_type": "code",
   "execution_count": 25,
   "metadata": {},
   "outputs": [
    {
     "name": "stdout",
     "output_type": "stream",
     "text": [
      "\n",
      "##########\n",
      "S100A14\n",
      "\n",
      "Associated conditions-\t AG\n",
      "\t\t\tGGT\n",
      "\t\t\tPlt\n",
      "\t\t\tTBil \n",
      "\n",
      "variantID                            rs11548104\n",
      "chrom                                      chr1\n",
      "position                              153587308\n",
      "strand                                        -\n",
      "reference                                     C\n",
      "alternate                                     T\n",
      "gene                                    S100A14\n",
      "geneStrand                                    -\n",
      "affectedMotif            created_AATAAA_S100A14\n",
      "positionTest                          153587284\n",
      "testSiteDistStranded                        -24\n",
      "referenceFeature                  terminal_exon\n",
      "referenceClassprob                     0.770492\n",
      "alternateClassprob                     0.999902\n",
      "deltaClassification                     0.22941\n",
      "referenceStrength                      -10.8606\n",
      "alternateStrength                       2.15639\n",
      "deltaStrength                            13.017\n",
      "referenceStrengthProb               0.000537521\n",
      "alternateStrengthProb                  0.816782\n",
      "deltaStrengthProb                      0.816245\n",
      "referenceICprob                             NaN\n",
      "alternateICprob                             NaN\n",
      "referenceISprob                             NaN\n",
      "alternateISprob                             NaN\n",
      "readsExact                                  NaN\n",
      "readsSlop                                   NaN\n",
      "directionEffect                    strengthened\n",
      "affectedMotifs            created_AATAAA|AATAAA\n",
      "condition                                    AG\n",
      "clinical_significance                       NaN\n",
      "codingEffect                                NaN\n",
      "Name: 221, dtype: object\n"
     ]
    },
    {
     "name": "stderr",
     "output_type": "stream",
     "text": [
      "/home/esk863/.local/lib/python3.6/site-packages/pandas/core/series.py:1152: FutureWarning: \n",
      "Passing list-likes to .loc or [] with any missing label will raise\n",
      "KeyError in the future, you can use .reindex() as an alternative.\n",
      "\n",
      "See the documentation here:\n",
      "https://pandas.pydata.org/pandas-docs/stable/user_guide/indexing.html#deprecate-loc-reindex-listlike\n",
      "  return self.loc[key]\n"
     ]
    },
    {
     "data": {
      "image/png": "[encoded data removed]",
      "text/plain": [
       "<Figure size 51.48x14.4 with 2 Axes>"
      ]
     },
     "metadata": {
      "needs_background": "light"
     },
     "output_type": "display_data"
    }
   ],
   "source": [
    "example_cols = ['variantID', 'chrom', 'position', 'strand', 'reference', 'alternate',\n",
    "                'gene', 'geneStrand', 'affectedMotif', 'positionTest', 'testSiteDistStranded','referenceFeature',\n",
    "                'referenceClassprob', 'alternateClassprob','deltaClassification',\n",
    "                'referenceStrength', 'alternateStrength', 'deltaStrength',\n",
    "                'referenceStrengthProb', 'alternateStrengthProb', 'deltaStrengthProb',\n",
    "                'referenceICprob', 'alternateICprob', 'referenceISprob', 'alternateISprob',\n",
    "                'readsExact', 'readsSlop', 'directionEffect', 'affectedMotifs', 'condition',\n",
    "                'clinical_significance', 'codingEffect']\n",
    "\n",
    "example_ids = ['rs11548104']\n",
    "example_gene = ['S100A14']\n",
    "example_range = [(120-25,120-15+1)]\n",
    "\n",
    "for eid, egene, erange in zip(example_ids, example_gene, example_range):\n",
    "    \n",
    "    if (eid == ''):\n",
    "        continue\n",
    "    \n",
    "    print(f\"\\n##########\\n{egene}\")\n",
    "    print(\"\\nAssociated conditions-\\t\", \"\\n\\t\\t\\t\".join(sorted(set(ukbb_filt_long.loc[(ukbb_filt_long['variantID'] == eid) & (~ukbb_filt_long['condition'].isin(['not_provided','not_specified','NA'])), 'condition'].tolist()))), \"\\n\")\n",
    "    print(ukbb_filt_long.loc[ukbb_filt_long['variantID'] == eid].iloc[0][example_cols])\n",
    "    \n",
    "    e_name = f'ukbb.{eid}.{egene}'\n",
    "    e_data = ukbb_filt_long.loc[(ukbb_filt_long['variantID'] == eid) & (ukbb_filt_long['gene'] == egene)].iloc[0]\n",
    "\n",
    "    genetics.plot_variant_logo(os.path.join(OUTDIR, f'variant_examples.ukbb.{e_name}.svg'),\n",
    "                               e_data['referenceSequence'], e_data['alternateSequence'], \n",
    "                               erange, [120+e_data['testSiteDistStranded']])\n",
    "    "
   ]
  }
 ],
 "metadata": {
  "kernelspec": {
   "display_name": "Python (tf-train)",
   "language": "python",
   "name": "tf-train"
  },
  "language_info": {
   "codemirror_mode": {
    "name": "ipython",
    "version": 3
   },
   "file_extension": ".py",
   "mimetype": "text/x-python",
   "name": "python",
   "nbconvert_exporter": "python",
   "pygments_lexer": "ipython3",
   "version": "3.6.12"
  }
 },
 "nbformat": 4,
 "nbformat_minor": 2
}
