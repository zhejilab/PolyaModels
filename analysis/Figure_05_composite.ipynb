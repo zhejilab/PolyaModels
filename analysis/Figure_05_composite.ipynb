{
 "cells": [
  {
   "cell_type": "markdown",
   "metadata": {},
   "source": [
    "# Figure 5: Composite intronic site analysis\n",
    "\n",
    "**Description:** Genomic context model development for intron sites.\n",
    "\n",
    "&rarr; Run this notebook with the `tf-train` kernel\n"
   ]
  },
  {
   "cell_type": "code",
   "execution_count": 1,
   "metadata": {},
   "outputs": [],
   "source": [
    "%load_ext autoreload"
   ]
  },
  {
   "cell_type": "code",
   "execution_count": 2,
   "metadata": {},
   "outputs": [],
   "source": [
    "%autoreload 2"
   ]
  },
  {
   "cell_type": "code",
   "execution_count": 3,
   "metadata": {},
   "outputs": [
    {
     "name": "stderr",
     "output_type": "stream",
     "text": [
      "Using TensorFlow backend.\n"
     ]
    }
   ],
   "source": [
    "%run -i notebook_setup.py"
   ]
  },
  {
   "cell_type": "markdown",
   "metadata": {},
   "source": [
    "## IMPORTS AND SETUP"
   ]
  },
  {
   "cell_type": "code",
   "execution_count": 4,
   "metadata": {},
   "outputs": [],
   "source": [
    "import utilities\n",
    "from utilities import genomic_context\n",
    "\n",
    "import statsmodels.formula.api as smf\n",
    "from sklearn.preprocessing import StandardScaler\n",
    "from statsmodels.stats.proportion import test_proportions_2indep\n"
   ]
  },
  {
   "cell_type": "markdown",
   "metadata": {},
   "source": [
    "## IMPORT DATA"
   ]
  },
  {
   "cell_type": "code",
   "execution_count": 5,
   "metadata": {},
   "outputs": [],
   "source": [
    "PROJECT = \"/projects/b1080/eks/polyadenylation\"\n",
    "\n",
    "DATADIR = os.path.join(PROJECT, \"manuscripts\", \"01_development\", \"data\")\n",
    "RESDIR  = os.path.join(PROJECT, \"manuscripts\", \"01_development\", \"analysis\", \"resources\")\n",
    "OUTDIR  = os.path.join(PROJECT, \"manuscripts\", \"01_development\", \"figures\", \"Figure_05\")\n",
    "os.makedirs(OUTDIR, exist_ok = True)\n",
    "\n",
    "ENCODE_DIR = os.path.join(PROJECT, \"model\", \"rna_validation\", \"encode_project\")\n"
   ]
  },
  {
   "cell_type": "markdown",
   "metadata": {},
   "source": [
    "## Data loading and preparation"
   ]
  },
  {
   "cell_type": "code",
   "execution_count": 11,
   "metadata": {},
   "outputs": [
    {
     "name": "stdout",
     "output_type": "stream",
     "text": [
      "(2314614, 44)\n"
     ]
    }
   ],
   "source": [
    "ic_data = pd.read_csv(os.path.join(RESDIR, '20220121-215928.denom.all.intron_composite.transformed.txt'), sep = \"\\t\")\n",
    "print(ic_data.shape)\n",
    "\n",
    "ic_features = [\n",
    "    'intron_pos_3', \n",
    "    'up_exon_log10', \n",
    "    'down_exon_log10', \n",
    "    'distance_upstream5ss_log10', \n",
    "    'score_upstream5ss', \n",
    "    'score_downstream3ss',\n",
    "    'predicted_logit',\n",
    "    'ratio_size_distance'\n",
    "]\n",
    "\n",
    "ic_data['feature_size']           = 10 ** ic_data['feature_size_log10']\n",
    "ic_data['distance_upstream5ss']   = 10 ** ic_data['distance_upstream5ss_log10']\n",
    "ic_data['distance_downstream3ss'] = ic_data['feature_size'] - ic_data['distance_upstream5ss']\n",
    "\n",
    "ic_data['position_upstream5ss']   = ic_data.apply(lambda row: (row['start'] - row['distance_upstream5ss']) if (row['strand'] == '+') else (row['start'] + row['distance_upstream5ss']), axis = 1)\n",
    "ic_data['position_downstream3ss'] = ic_data.apply(lambda row: (row['start'] + row['distance_downstream3ss']) if (row['strand'] == '+') else (row['start'] - row['distance_downstream3ss']), axis = 1)\n",
    "\n",
    "ic_data['ratio_size_distance'] = np.log2((ic_data['feature_size'] + 100) / (ic_data['distance_upstream5ss'] + 100))\n"
   ]
  },
  {
   "cell_type": "markdown",
   "metadata": {},
   "source": [
    "#### Identify positive sites"
   ]
  },
  {
   "cell_type": "code",
   "execution_count": 12,
   "metadata": {},
   "outputs": [],
   "source": [
    "ic_pos = ic_data.loc[ic_data['cluster_reads_slop'] > 0].copy()\n",
    "\n",
    "ic_site_dict = {}\n",
    "\n",
    "for i,row in ic_pos.iterrows():\n",
    "    ic_site_dict[(row['chrom'], row['start'], row['strand'], row['gene'])] = row['cluster_reads_slop']\n"
   ]
  },
  {
   "cell_type": "code",
   "execution_count": 39,
   "metadata": {},
   "outputs": [
    {
     "name": "stdout",
     "output_type": "stream",
     "text": [
      "POSITIVES: (7432, 50)\n",
      "NEGATIVES: (2230356, 50)\n"
     ]
    }
   ],
   "source": [
    "ic_positives = ic_data.loc[ic_data['cluster_reads_slop'] >= 100].copy()\n",
    "ic_negatives = ic_data.loc[ic_data['cluster_reads_slop'] == 0].copy()\n",
    "\n",
    "print(\"POSITIVES:\", ic_positives.shape)\n",
    "print(\"NEGATIVES:\", ic_negatives.shape)\n"
   ]
  },
  {
   "cell_type": "markdown",
   "metadata": {},
   "source": [
    "#### Sample negative sites from introns with no used polyA sites"
   ]
  },
  {
   "cell_type": "code",
   "execution_count": 41,
   "metadata": {},
   "outputs": [
    {
     "name": "stdout",
     "output_type": "stream",
     "text": [
      "ELIGIBLE NCs: 16614\n"
     ]
    }
   ],
   "source": [
    "ic_negatives_samp = ic_negatives.sample(n = 40000, replace = False, random_state = 5678)\n",
    "ic_negatives_samp['nc_eligible'] = ic_negatives_samp.apply(genomic_context.check_sites_in_intron, args = (ic_pos, ic_site_dict), axis = 1)\n",
    "print(\"ELIGIBLE NCs:\", ic_negatives_samp.nc_eligible.sum())\n"
   ]
  },
  {
   "cell_type": "code",
   "execution_count": 42,
   "metadata": {},
   "outputs": [
    {
     "name": "stdout",
     "output_type": "stream",
     "text": [
      "DOWNSAMPLED NCs: (15917, 51)\n"
     ]
    }
   ],
   "source": [
    "ic_negatives_maxpergene = genomic_context.downsample_sites_per_gene(ic_negatives_samp.loc[ic_negatives_samp['nc_eligible'] == True], \n",
    "                                                                    ic_positives['gene'].value_counts().max())\n",
    "print(\"DOWNSAMPLED NCs:\", ic_negatives_maxpergene.shape)\n"
   ]
  },
  {
   "cell_type": "markdown",
   "metadata": {},
   "source": [
    "#### Partition data into training/testing splits"
   ]
  },
  {
   "cell_type": "code",
   "execution_count": 212,
   "metadata": {},
   "outputs": [
    {
     "name": "stdout",
     "output_type": "stream",
     "text": [
      "\n",
      "BINARY CLASS:\n",
      " 1    7432\n",
      "0    7432\n",
      "Name: score_binary, dtype: int64\n",
      "\n",
      "SPLIT:\n",
      " train    13378\n",
      "test      1486\n",
      "Name: split, dtype: int64\n"
     ]
    }
   ],
   "source": [
    "random_state = 3080301303\n",
    "\n",
    "ic_positives = ic_data.loc[ic_data['cluster_reads_slop'] >= 100].copy()\n",
    "ic_positives['split'] = 'train'\n",
    "ic_positives.loc[ic_positives.sample(frac = 0.1, replace = False, random_state = random_state).index, 'split'] = 'test'\n",
    "\n",
    "ic_negatives = ic_negatives_maxpergene.loc[ic_negatives_maxpergene['nc_eligible'] == 1].copy().sample(n = len(ic_positives), replace = False, random_state = random_state)\n",
    "ic_negatives['split'] = 'train'\n",
    "ic_negatives.loc[ic_negatives.sample(frac = 0.1, replace = False, random_state = random_state).index, 'split'] = 'test'\n",
    "\n",
    "new_ic_data = pd.concat([ic_positives, ic_negatives], sort = False, ignore_index = True)\n",
    "print(\"\\nBINARY CLASS:\\n\", new_ic_data.score_binary.value_counts())\n",
    "print(\"\\nSPLIT:\\n\", new_ic_data.split.value_counts())\n",
    "\n",
    "with open(os.path.join(RESDIR, 'ic_data.pickle'), mode = 'wb') as handle:\n",
    "    pickle.dump(new_ic_data, handle)\n"
   ]
  },
  {
   "cell_type": "markdown",
   "metadata": {},
   "source": [
    "#### Scale data to normalize mean and standard deviation"
   ]
  },
  {
   "cell_type": "code",
   "execution_count": 213,
   "metadata": {},
   "outputs": [],
   "source": [
    "scaler_ic = StandardScaler().fit(new_ic_data.loc[new_ic_data['split'] == 'train', ic_features[1:]])\n",
    "\n",
    "# with open(os.path.join(RESDIR, 'ic_scaler_ratio.pickle'), mode = 'wb') as handle:\n",
    "#     pickle.dump(scaler_ic, handle)\n",
    "\n",
    "Xall_scaled = pd.DataFrame(scaler_ic.transform(new_ic_data[ic_features[1:]]), index = new_ic_data.index, columns = new_ic_data[ic_features[1:]].columns)\n",
    "Xall_scaled[ic_features[0]] = new_ic_data[ic_features[0]]\n",
    "Yall_c = new_ic_data['score_binary']\n",
    "\n",
    "Xtr_scaled = Xall_scaled.loc[new_ic_data['split'] == 'train'].copy()\n",
    "Ytr_c = new_ic_data.loc[new_ic_data['split'] == 'train', 'score_binary'].copy()\n",
    "\n",
    "Xte_scaled = Xall_scaled.loc[new_ic_data['split'] == 'test'].copy()\n",
    "Yte_c = new_ic_data.loc[new_ic_data['split'] == 'test', 'score_binary'].copy()\n",
    "\n",
    "ic_all_data = {\n",
    "    'train' : {\n",
    "        'X' : Xtr_scaled,\n",
    "        'Y' : Ytr_c,\n",
    "    },\n",
    "    'test' : {\n",
    "        'X' : Xte_scaled,\n",
    "        'Y' : Yte_c,\n",
    "    }\n",
    "}\n"
   ]
  },
  {
   "cell_type": "markdown",
   "metadata": {},
   "source": [
    "#### Fit logistic regression model"
   ]
  },
  {
   "cell_type": "code",
   "execution_count": 214,
   "metadata": {},
   "outputs": [
    {
     "name": "stdout",
     "output_type": "stream",
     "text": [
      "Optimization terminated successfully.\n",
      "         Current function value: 0.375236\n",
      "         Iterations 7\n",
      "                           Logit Regression Results                           \n",
      "==============================================================================\n",
      "Dep. Variable:           score_binary   No. Observations:                13378\n",
      "Model:                          Logit   Df Residuals:                    13370\n",
      "Method:                           MLE   Df Model:                            7\n",
      "Date:                Sat, 15 Jul 2023   Pseudo R-squ.:                  0.4586\n",
      "Time:                        01:16:58   Log-Likelihood:                -5019.9\n",
      "converged:                       True   LL-Null:                       -9272.9\n",
      "Covariance Type:            nonrobust   LLR p-value:                     0.000\n",
      "==============================================================================================\n",
      "                                 coef    std err          z      P>|z|      [0.025      0.975]\n",
      "----------------------------------------------------------------------------------------------\n",
      "intron_pos_3                   1.1052      0.100     11.029      0.000       0.909       1.302\n",
      "up_exon_log10                  0.4359      0.027     16.425      0.000       0.384       0.488\n",
      "down_exon_log10                0.1601      0.030      5.383      0.000       0.102       0.218\n",
      "distance_upstream5ss_log10    -0.7002      0.032    -21.693      0.000      -0.764      -0.637\n",
      "score_upstream5ss             -0.5964      0.030    -19.721      0.000      -0.656      -0.537\n",
      "score_downstream3ss           -0.1345      0.026     -5.178      0.000      -0.185      -0.084\n",
      "predicted_logit                1.9604      0.038     51.517      0.000       1.886       2.035\n",
      "ratio_size_distance            0.4585      0.031     14.749      0.000       0.398       0.519\n",
      "==============================================================================================\n"
     ]
    }
   ],
   "source": [
    "ic_model = sm.Logit(Ytr_c, Xtr_scaled[ic_features]).fit()\n",
    "print(ic_model.summary())\n",
    "\n",
    "# with open(os.path.join(RESDIR, 'ic_model_ratio.pickle'), mode = 'wb') as handle:\n",
    "#     pickle.dump(ic_model, handle)\n"
   ]
  },
  {
   "cell_type": "code",
   "execution_count": 190,
   "metadata": {},
   "outputs": [],
   "source": [
    "ic_all_data['train']['Ypred'] = {}\n",
    "ic_all_data['test']['Ypred']  = {}\n",
    "    \n",
    "new_preds = ic_model.predict(ic_all_data['train']['X'][ic_features])\n",
    "ic_all_data['train']['Ypred'] = new_preds\n",
    "\n",
    "new_preds = ic_model.predict(ic_all_data['test']['X'][ic_features])\n",
    "ic_all_data['test']['Ypred'] = new_preds\n"
   ]
  },
  {
   "cell_type": "code",
   "execution_count": 191,
   "metadata": {},
   "outputs": [],
   "source": [
    "ic_feature_dict = {\n",
    "    'distance_upstream5ss_log10' : \"1. Distance to 5'SS (log10)\",\n",
    "    'up_exon_log10'              : \"2. Upstream exon size (log10)\",\n",
    "    'down_exon_log10'            : \"3. Downstream exon size (log10)\",\n",
    "    'score_upstream5ss'          : \"4. Upstream 5'SS strength\",\n",
    "    'score_downstream3ss'        : \"5. Downstream 3'SS strength\",\n",
    "    'intron_pos_3'               : \"6. Site in last intron?\",\n",
    "    'predicted_logit'            : \"7. PolyaStrength score\",\n",
    "    'ratio_size_distance'        : \"8. Ratio of intron size to 5'SS distance (log2)\"\n",
    "}\n"
   ]
  },
  {
   "cell_type": "markdown",
   "metadata": {},
   "source": [
    "## Classification Performance"
   ]
  },
  {
   "cell_type": "code",
   "execution_count": 192,
   "metadata": {},
   "outputs": [
    {
     "data": {
      "image/png": "[encoded data removed]",
      "text/plain": [
       "<Figure size 72x72 with 1 Axes>"
      ]
     },
     "metadata": {
      "needs_background": "light"
     },
     "output_type": "display_data"
    },
    {
     "name": "stdout",
     "output_type": "stream",
     "text": [
      "Corresponding metrics:\n",
      "\tTest AUROC = 0.9121183083385715\n"
     ]
    }
   ],
   "source": [
    "fig,axes = plt.subplots(1,1, figsize = (1,1))\n",
    "\n",
    "ic_filt_auc = genomic_context.plot_roc(axes, \n",
    "                                       ic_all_data['test']['Y'],\n",
    "                                       ic_all_data['test']['Ypred'],\n",
    "                                       'Test')\n",
    "\n",
    "axes.xaxis.set_major_locator(MultipleLocator(0.5))\n",
    "axes.yaxis.set_major_locator(MultipleLocator(0.5))\n",
    "\n",
    "axes.get_legend().remove()\n",
    "\n",
    "plt.savefig(os.path.join(OUTDIR, 'ic.classification_roc.svg'), format = 'svg', dpi = 600, transparent = True)\n",
    "plt.show()\n",
    "\n",
    "\n",
    "print(\"Corresponding metrics:\")\n",
    "print(f\"\\tTest AUROC = {ic_filt_auc}\")\n"
   ]
  },
  {
   "cell_type": "markdown",
   "metadata": {},
   "source": [
    "## Validation of site usage predictions using ENCODE RNA-seq"
   ]
  },
  {
   "cell_type": "code",
   "execution_count": 206,
   "metadata": {},
   "outputs": [
    {
     "name": "stdout",
     "output_type": "stream",
     "text": [
      "(2635557, 53)\n",
      "(74306, 53)\n"
     ]
    }
   ],
   "source": [
    "## load site data with genomic context fields\n",
    "\n",
    "ic_site_data = pd.read_csv(os.path.join(PROJECT, \"model\", \"relative_usage\", \"dataset\", \"20220121-215928.denom.all.intron_comp_all.txt\"), sep = \"\\t\")\n",
    "\n",
    "ic_site_data['distance_downstream3ss'] = ic_site_data['feature_size'] - ic_site_data['distance_upstream5ss']\n",
    "\n",
    "ic_site_data['intron_pos_3']               = (ic_site_data['feature_score'] == 3).astype(int)\n",
    "ic_site_data['up_exon_log10']              = np.log10(ic_site_data['up_exon'] + 1)\n",
    "ic_site_data['down_exon_log10']            = np.log10(ic_site_data['down_exon'] + 1)\n",
    "ic_site_data['feature_size_log10']         = np.log10(ic_site_data['feature_size'] + 1)\n",
    "ic_site_data['distance_upstream5ss_log10'] = np.log10(ic_site_data['distance_upstream5ss'] + 1)\n",
    "\n",
    "ic_site_data['ratio_size_distance']        = np.log2((ic_site_data['feature_size'] + 100) / (ic_site_data['distance_upstream5ss'] + 100))\n",
    "\n",
    "ic_site_data_scaled = pd.DataFrame(scaler_ic.transform(ic_site_data[ic_features[1:]]), index = ic_site_data.index, columns = ic_site_data[ic_features[1:]].columns)\n",
    "ic_site_data_scaled['intron_pos_3'] = ic_site_data['intron_pos_3']\n",
    "\n",
    "ic_site_data['pred_prob'] = ic_model.predict(ic_site_data_scaled[ic_features])\n",
    "print(ic_site_data.shape)\n",
    "\n",
    "\n",
    "## filter sites with sufficient reads\n",
    "\n",
    "ic_site_pos = ic_site_data.loc[ic_site_data['cluster_reads_slop'] >= 10].copy()\n",
    "ic_site_neg = ic_site_data.loc[ic_site_data['cluster_reads_slop'] == 0].copy().sample(n = ic_site_pos.shape[0], replace = False)\n",
    "\n",
    "ic_site_filt = pd.concat([ic_site_pos, ic_site_neg], sort = False, ignore_index = True)\n",
    "print(ic_site_filt.shape)\n"
   ]
  },
  {
   "cell_type": "code",
   "execution_count": 216,
   "metadata": {
    "scrolled": true
   },
   "outputs": [
    {
     "name": "stdout",
     "output_type": "stream",
     "text": [
      "Original data shape: (74306, 53)\n",
      "Filtered data shape: (73434, 53)\n",
      "Output results shape: (73434, 2)\n"
     ]
    },
    {
     "data": {
      "image/png": "[encoded data removed]",
      "text/plain": [
       "<Figure size 90x72 with 1 Axes>"
      ]
     },
     "metadata": {
      "needs_background": "light"
     },
     "output_type": "display_data"
    }
   ],
   "source": [
    "fig, ax = plt.subplots(1,1, figsize = (1.25,1))\n",
    "\n",
    "distance = 20\n",
    "ic_a172_res = genomic_context.quantify_reads_around(ic_site_filt, ENCODE_DIR, 'A172', distance = distance, subset = [('distance_upstream5ss', distance+5), ('distance_downstream3ss', distance+5)])\n",
    "genomic_context.make_read_plots(ax, ic_a172_res, 'composite_intron', 'A172', distance)\n",
    "\n",
    "ax.axhline(y = 0, color = 'black', linestyle = 'dashed', linewidth = 0.75)\n",
    "ax.set_xlim((-distance,distance))\n",
    "ax.xaxis.set_major_locator(MultipleLocator(10))\n",
    "\n",
    "# ax.set_ylim(-0.15,0.2)\n",
    "ax.yaxis.set_major_locator(MultipleLocator(0.1))\n",
    "\n",
    "ax.spines['right'].set_visible(False)\n",
    "ax.spines['top'].set_visible(False)\n",
    "\n",
    "ax.get_legend().remove()\n",
    "\n",
    "plt.savefig(os.path.join(OUTDIR, 'ic.rna_validation.icomp.svg'), format = 'svg', dpi = 600, transparent = True)\n",
    "plt.show()\n"
   ]
  },
  {
   "cell_type": "markdown",
   "metadata": {},
   "source": [
    "## AUROC for individual predictors"
   ]
  },
  {
   "cell_type": "code",
   "execution_count": 195,
   "metadata": {},
   "outputs": [
    {
     "data": {
      "image/png": "[encoded data removed]",
      "text/plain": [
       "<Figure size 72x108 with 1 Axes>"
      ]
     },
     "metadata": {
      "needs_background": "light"
     },
     "output_type": "display_data"
    },
    {
     "name": "stdout",
     "output_type": "stream",
     "text": [
      "Corresponding data:\n",
      "                                            labels     auroc     auprc\n",
      "3                      1. Distance to 5'SS (log10)  0.289184  0.372237\n",
      "4                        4. Upstream 5'SS strength  0.343245  0.409716\n",
      "5                      5. Downstream 3'SS strength  0.490697  0.499407\n",
      "0                          6. Site in last intron?  0.553163  0.673892\n",
      "1                    2. Upstream exon size (log10)  0.573228  0.584009\n",
      "2                  3. Downstream exon size (log10)  0.583001  0.581287\n",
      "7  8. Ratio of intron size to 5'SS distance (log2)  0.663946  0.663792\n",
      "6                           7. PolyaStrength score  0.848619  0.845205\n"
     ]
    }
   ],
   "source": [
    "ic_test_data = new_ic_data.loc[new_ic_data['split'] == 'test']\n",
    "\n",
    "ic_features = [\n",
    "    'intron_pos_3', \n",
    "    'up_exon_log10', \n",
    "    'down_exon_log10', \n",
    "    'distance_upstream5ss_log10', \n",
    "    'score_upstream5ss', \n",
    "    'score_downstream3ss',\n",
    "    'predicted_logit',\n",
    "    'ratio_size_distance'\n",
    "]\n",
    "\n",
    "ic_labels = [ic_feature_dict.get(_) for _ in ic_features]\n",
    "ic_aurocs = []\n",
    "ic_auprcs = []\n",
    "\n",
    "for icf,icl in zip(ic_features, ic_labels):\n",
    "    auroc, auprc = genomic_context.calculate_auc(ic_test_data['score_binary'], ic_test_data[icf])\n",
    "    ic_aurocs.append(auroc)\n",
    "    ic_auprcs.append(auprc)\n",
    "    \n",
    "ic_aurocs_df = pd.DataFrame.from_dict({'labels' : ic_labels, 'auroc' : ic_aurocs, 'auprc' : ic_auprcs}, orient = 'columns')\n",
    "\n",
    "fig,ax = plt.subplots(1,1, figsize = (1, 1.5))\n",
    "\n",
    "sns.barplot(data = ic_aurocs_df.sort_values('auroc'),\n",
    "            x = 'auroc', y = 'labels', color = 'dimgray',\n",
    "            edgecolor = 'black', linewidth = 0.5,\n",
    "            ax = ax)\n",
    "\n",
    "ax.set_xlim(0,1)\n",
    "ax.xaxis.set_major_locator(MultipleLocator(0.25))\n",
    "\n",
    "ax.spines['right'].set_visible(False)\n",
    "ax.spines['top'].set_visible(False)\n",
    "\n",
    "plt.savefig(os.path.join(OUTDIR, 'ic.individual_predictor_auroc.svg'), format = 'svg', dpi = 600, transparent = True)\n",
    "plt.show()\n",
    "\n",
    "\n",
    "print(\"Corresponding data:\")\n",
    "print(ic_aurocs_df.sort_values('auroc'))\n"
   ]
  },
  {
   "cell_type": "markdown",
   "metadata": {},
   "source": [
    "## Confirmatory boxplots for model predictors\n"
   ]
  },
  {
   "cell_type": "code",
   "execution_count": 196,
   "metadata": {},
   "outputs": [
    {
     "name": "stdout",
     "output_type": "stream",
     "text": [
      "(14864, 56)\n"
     ]
    }
   ],
   "source": [
    "class_names = {0:'Not Used', 1:'Highly Used'}\n",
    "class_order = ['Highly Used', 'Not Used']\n",
    "\n",
    "ic_pred = new_ic_data.copy()\n",
    "ic_pred['pred_prob'] = ic_all_data['train']['Ypred']\n",
    "ic_pred.loc[ic_pred['split'] == 'test', 'pred_prob'] = ic_all_data['test']['Ypred']\n",
    "\n",
    "ic_pred['class'] = ic_pred['score_binary'].apply(lambda x : class_names[x])\n",
    "ic_pred['pred_prob_clip'] = np.clip(ic_pred['pred_prob'], 1e-6, 1 - 1e-6)\n",
    "ic_pred['pred_prob_or'] = np.log2(ic_pred['pred_prob_clip'] / (1 - ic_pred['pred_prob_clip']))\n",
    "\n",
    "print(ic_pred.shape)\n"
   ]
  },
  {
   "cell_type": "code",
   "execution_count": 197,
   "metadata": {
    "scrolled": false
   },
   "outputs": [],
   "source": [
    "selected_features = ['distance_upstream5ss_log10', 'score_upstream5ss', 'score_downstream3ss',\n",
    "                     'down_exon_log10','up_exon_log10','feature_size_log10', 'ratio_size_distance']\n",
    "selected_labels = [ic_feature_dict.get(sf) for sf in selected_features]\n"
   ]
  },
  {
   "cell_type": "markdown",
   "metadata": {},
   "source": [
    "#### PolyaStrength by site usage"
   ]
  },
  {
   "cell_type": "code",
   "execution_count": 198,
   "metadata": {},
   "outputs": [
    {
     "name": "stdout",
     "output_type": "stream",
     "text": [
      "7. PolyaStrength score:\n",
      "N_Highly Used\tN=7432\n",
      "N_Not Used\tN=7432\n",
      "Baseline\tWRS P-val = 0.000E+00\n"
     ]
    },
    {
     "data": {
      "image/png": "[encoded data removed]",
      "text/plain": [
       "<Figure size 28.8x90 with 1 Axes>"
      ]
     },
     "metadata": {
      "needs_background": "light"
     },
     "output_type": "display_data"
    }
   ],
   "source": [
    "genomic_context.boxplot_features_outcome(OUTDIR, ic_pred, 'ic', \n",
    "                                         ['predicted_logit'], [ic_feature_dict.get(\"predicted_logit\")], \n",
    "                                         'class', class_order, ['#337e3d','#f2f2f2'],\n",
    "                                         figsize = (0.4,1.25), ylims_main=(-15,5), ytickint_main = 5)\n"
   ]
  },
  {
   "cell_type": "markdown",
   "metadata": {},
   "source": [
    "#### Genomic features after controlling for PolyaStrength via quantile sampling"
   ]
  },
  {
   "cell_type": "code",
   "execution_count": 199,
   "metadata": {},
   "outputs": [
    {
     "name": "stdout",
     "output_type": "stream",
     "text": [
      "\n",
      "\n",
      "1. Distance to 5'SS (log10)\n",
      "Defining quantiles for variable predicted_logit with 10 groups, sampling 75.0% of available sites.\n"
     ]
    },
    {
     "data": {
      "image/png": "[encoded data removed]",
      "text/plain": [
       "<Figure size 28.8x90 with 1 Axes>"
      ]
     },
     "metadata": {
      "needs_background": "light"
     },
     "output_type": "display_data"
    },
    {
     "data": {
      "image/png": "[encoded data removed]",
      "text/plain": [
       "<Figure size 28.8x90 with 1 Axes>"
      ]
     },
     "metadata": {
      "needs_background": "light"
     },
     "output_type": "display_data"
    },
    {
     "name": "stdout",
     "output_type": "stream",
     "text": [
      "1. Distance to 5'SS (log10):\n",
      "N_Highly Used\tN=2657\n",
      "N_Not Used\tN=2657\n",
      "Baseline\tWRS P-val = 4.159E-236\n",
      "predicted_logit\tWRS P-val = 5.405E-01\n"
     ]
    }
   ],
   "source": [
    "genomic_context.boxplot_features_outcome_with_quantile_sampling(OUTDIR, ic_pred, 'ic', \n",
    "                                                                [selected_features[0]], [selected_labels[0]], \n",
    "                                                                'class', class_order, ['#337e3d','#f2f2f2'],\n",
    "                                                                sample = ['predicted_logit'],\n",
    "                                                                figsize = (0.4,1.25), \n",
    "                                                                ylims_main=(0,6), ytickint_main = 2, \n",
    "                                                                ylims_sample=(-12,0), ytickint_sample = 6)\n"
   ]
  },
  {
   "cell_type": "code",
   "execution_count": 200,
   "metadata": {},
   "outputs": [
    {
     "name": "stdout",
     "output_type": "stream",
     "text": [
      "\n",
      "\n",
      "4. Upstream 5'SS strength\n",
      "Defining quantiles for variable predicted_logit with 10 groups, sampling 75.0% of available sites.\n"
     ]
    },
    {
     "data": {
      "image/png": "[encoded data removed]",
      "text/plain": [
       "<Figure size 28.8x90 with 1 Axes>"
      ]
     },
     "metadata": {
      "needs_background": "light"
     },
     "output_type": "display_data"
    },
    {
     "data": {
      "image/png": "[encoded data removed]",
      "text/plain": [
       "<Figure size 28.8x90 with 1 Axes>"
      ]
     },
     "metadata": {
      "needs_background": "light"
     },
     "output_type": "display_data"
    },
    {
     "name": "stdout",
     "output_type": "stream",
     "text": [
      "4. Upstream 5'SS strength:\n",
      "N_Highly Used\tN=2657\n",
      "N_Not Used\tN=2657\n",
      "Baseline\tWRS P-val = 1.374E-117\n",
      "predicted_logit\tWRS P-val = 5.405E-01\n"
     ]
    }
   ],
   "source": [
    "genomic_context.boxplot_features_outcome_with_quantile_sampling(OUTDIR, ic_pred, 'ic', \n",
    "                                                                [selected_features[1]], [selected_labels[1]], \n",
    "                                                                'class', class_order, ['#337e3d','#f2f2f2'],\n",
    "                                                                sample = ['predicted_logit'],\n",
    "                                                                figsize = (0.4,1.25), \n",
    "                                                                ylims_main=(-1,12), ytickint_main = 6, \n",
    "                                                                ylims_sample=(-12,0), ytickint_sample = 6)\n"
   ]
  },
  {
   "cell_type": "code",
   "execution_count": 201,
   "metadata": {},
   "outputs": [
    {
     "name": "stdout",
     "output_type": "stream",
     "text": [
      "\n",
      "\n",
      "5. Downstream 3'SS strength\n",
      "Defining quantiles for variable predicted_logit with 10 groups, sampling 75.0% of available sites.\n"
     ]
    },
    {
     "data": {
      "image/png": "[encoded data removed]",
      "text/plain": [
       "<Figure size 28.8x90 with 1 Axes>"
      ]
     },
     "metadata": {
      "needs_background": "light"
     },
     "output_type": "display_data"
    },
    {
     "data": {
      "image/png": "[encoded data removed]",
      "text/plain": [
       "<Figure size 28.8x90 with 1 Axes>"
      ]
     },
     "metadata": {
      "needs_background": "light"
     },
     "output_type": "display_data"
    },
    {
     "name": "stdout",
     "output_type": "stream",
     "text": [
      "5. Downstream 3'SS strength:\n",
      "N_Highly Used\tN=2657\n",
      "N_Not Used\tN=2657\n",
      "Baseline\tWRS P-val = 9.633E-05\n",
      "predicted_logit\tWRS P-val = 5.405E-01\n"
     ]
    }
   ],
   "source": [
    "genomic_context.boxplot_features_outcome_with_quantile_sampling(OUTDIR, ic_pred, 'ic', \n",
    "                                                                [selected_features[2]], [selected_labels[2]], \n",
    "                                                                'class', class_order, ['#337e3d','#f2f2f2'],\n",
    "                                                                sample = ['predicted_logit'],\n",
    "                                                                figsize = (0.4,1.25), \n",
    "                                                                ylims_main=(0,16), ytickint_main = 4, \n",
    "                                                                ylims_sample=(-12,0), ytickint_sample = 6)\n"
   ]
  },
  {
   "cell_type": "code",
   "execution_count": 202,
   "metadata": {},
   "outputs": [
    {
     "name": "stdout",
     "output_type": "stream",
     "text": [
      "\n",
      "\n",
      "3. Downstream exon size (log10)\n",
      "Defining quantiles for variable predicted_logit with 10 groups, sampling 75.0% of available sites.\n"
     ]
    },
    {
     "data": {
      "image/png": "[encoded data removed]",
      "text/plain": [
       "<Figure size 28.8x90 with 1 Axes>"
      ]
     },
     "metadata": {
      "needs_background": "light"
     },
     "output_type": "display_data"
    },
    {
     "data": {
      "image/png": "[encoded data removed]",
      "text/plain": [
       "<Figure size 28.8x90 with 1 Axes>"
      ]
     },
     "metadata": {
      "needs_background": "light"
     },
     "output_type": "display_data"
    },
    {
     "name": "stdout",
     "output_type": "stream",
     "text": [
      "3. Downstream exon size (log10):\n",
      "N_Highly Used\tN=2657\n",
      "N_Not Used\tN=2657\n",
      "Baseline\tWRS P-val = 6.857E-26\n",
      "predicted_logit\tWRS P-val = 5.405E-01\n"
     ]
    }
   ],
   "source": [
    "genomic_context.boxplot_features_outcome_with_quantile_sampling(OUTDIR, ic_pred, 'ic', \n",
    "                                                                [selected_features[3]], [selected_labels[3]], \n",
    "                                                                'class', class_order, ['#337e3d','#f2f2f2'],\n",
    "                                                                sample = ['predicted_logit'],\n",
    "                                                                figsize = (0.4,1.25), \n",
    "                                                                ylims_main = (1,4), ytickint_main = 1, \n",
    "                                                                ylims_sample=(-12,0), ytickint_sample = 6)\n"
   ]
  },
  {
   "cell_type": "code",
   "execution_count": 203,
   "metadata": {},
   "outputs": [
    {
     "name": "stdout",
     "output_type": "stream",
     "text": [
      "\n",
      "\n",
      "2. Upstream exon size (log10)\n",
      "Defining quantiles for variable predicted_logit with 10 groups, sampling 75.0% of available sites.\n"
     ]
    },
    {
     "data": {
      "image/png": "[encoded data removed]",
      "text/plain": [
       "<Figure size 28.8x90 with 1 Axes>"
      ]
     },
     "metadata": {
      "needs_background": "light"
     },
     "output_type": "display_data"
    },
    {
     "data": {
      "image/png": "[encoded data removed]",
      "text/plain": [
       "<Figure size 28.8x90 with 1 Axes>"
      ]
     },
     "metadata": {
      "needs_background": "light"
     },
     "output_type": "display_data"
    },
    {
     "name": "stdout",
     "output_type": "stream",
     "text": [
      "2. Upstream exon size (log10):\n",
      "N_Highly Used\tN=2657\n",
      "N_Not Used\tN=2657\n",
      "Baseline\tWRS P-val = 1.101E-34\n",
      "predicted_logit\tWRS P-val = 5.405E-01\n"
     ]
    }
   ],
   "source": [
    "genomic_context.boxplot_features_outcome_with_quantile_sampling(OUTDIR, ic_pred, 'ic', \n",
    "                                                                [selected_features[4]], [selected_labels[4]], \n",
    "                                                                'class', class_order, ['#337e3d','#f2f2f2'],\n",
    "                                                                sample = ['predicted_logit'],\n",
    "                                                                figsize = (0.4,1.25), \n",
    "                                                                ylims_main = (1,3), ytickint_main = 1, \n",
    "                                                                ylims_sample=(-12,0), ytickint_sample = 6)\n"
   ]
  },
  {
   "cell_type": "code",
   "execution_count": 204,
   "metadata": {},
   "outputs": [
    {
     "name": "stdout",
     "output_type": "stream",
     "text": [
      "\n",
      "\n",
      "8. Ratio of intron size to 5'SS distance (log2)\n",
      "Defining quantiles for variable predicted_logit with 10 groups, sampling 75.0% of available sites.\n"
     ]
    },
    {
     "data": {
      "image/png": "[encoded data removed]",
      "text/plain": [
       "<Figure size 28.8x90 with 1 Axes>"
      ]
     },
     "metadata": {
      "needs_background": "light"
     },
     "output_type": "display_data"
    },
    {
     "data": {
      "image/png": "[encoded data removed]",
      "text/plain": [
       "<Figure size 28.8x90 with 1 Axes>"
      ]
     },
     "metadata": {
      "needs_background": "light"
     },
     "output_type": "display_data"
    },
    {
     "name": "stdout",
     "output_type": "stream",
     "text": [
      "8. Ratio of intron size to 5'SS distance (log2):\n",
      "N_Highly Used\tN=2657\n",
      "N_Not Used\tN=2657\n",
      "Baseline\tWRS P-val = 7.598E-141\n",
      "predicted_logit\tWRS P-val = 5.405E-01\n"
     ]
    }
   ],
   "source": [
    "genomic_context.boxplot_features_outcome_with_quantile_sampling(OUTDIR, ic_pred, 'ic', \n",
    "                                                                [selected_features[6]], [selected_labels[6]], \n",
    "                                                                'class', class_order, ['#337e3d','#f2f2f2'],\n",
    "                                                                sample = ['predicted_logit'],\n",
    "                                                                figsize = (0.4,1.25), \n",
    "                                                                ylims_main = (-1,8), ytickint_main = 2, \n",
    "                                                                ylims_sample=(-12,0), ytickint_sample = 6)\n"
   ]
  },
  {
   "cell_type": "code",
   "execution_count": 205,
   "metadata": {},
   "outputs": [
    {
     "name": "stdout",
     "output_type": "stream",
     "text": [
      "\n",
      "\n",
      "6. Site in last intron?\n",
      "Defining quantiles for variable predicted_logit with 10 groups, sampling 75.0% of available sites.\n"
     ]
    },
    {
     "data": {
      "image/png": "[encoded data removed]",
      "text/plain": [
       "<Figure size 28.8x90 with 1 Axes>"
      ]
     },
     "metadata": {
      "needs_background": "light"
     },
     "output_type": "display_data"
    },
    {
     "name": "stdout",
     "output_type": "stream",
     "text": [
      "Corresponding Statistics:\n",
      "statistic = 15.381847906076723\n",
      "pvalue = 2.166743178101698e-53\n",
      "compare = diff\n",
      "method = agresti-caffo\n",
      "diff = 0.13210387655250283\n",
      "ratio = 3.679389312977099\n",
      "odds_ratio = 4.273166622795472\n",
      "variance = 7.364792795277442e-05\n",
      "alternative = two-sided\n",
      "value = 0\n",
      "tuple = (15.381847906076723, 2.166743178101698e-53)\n"
     ]
    }
   ],
   "source": [
    "ic_ip3_sampled = genomic_context.quantile_sampling(ic_pred, 'ic', \n",
    "                                                   ['intron_pos_3'], [ic_feature_dict.get('intron_pos_3')], \n",
    "                                                   'class', class_order, sample = ['predicted_logit'])\n",
    "\n",
    "ic_sum = (ic_ip3_sampled\n",
    "          .groupby(['class','intron_pos_3']).size()\n",
    "          .reset_index().rename(columns = {0:'count'}))\n",
    "\n",
    "ic_sum['prop'] = ic_sum['count'] / ic_sum.groupby('class')['count'].transform('sum')\n",
    "\n",
    "ic_test = test_proportions_2indep(ic_sum.loc[(ic_sum['class'] == 'Highly Used') & (ic_sum['intron_pos_3'] == 1), 'count'].iloc[0],\n",
    "                                  ic_sum.loc[(ic_sum['class'] == 'Highly Used'), 'count'].sum(),\n",
    "                                  ic_sum.loc[(ic_sum['class'] == 'Not Used') & (ic_sum['intron_pos_3'] == 1), 'count'].iloc[0],\n",
    "                                  ic_sum.loc[(ic_sum['class'] == 'Not Used'), 'count'].sum())\n",
    "\n",
    "ic_sum = ic_sum.loc[ic_sum['intron_pos_3'] == 1]\n",
    "\n",
    "\n",
    "fig,ax = plt.subplots(1,1, figsize = (0.4, 1.25))\n",
    "\n",
    "sns.barplot(data = ic_sum, x = 'class', y = 'prop', order = class_order,\n",
    "            hue = 'class', hue_order = class_order, dodge = False, palette = ['#337e3d','#f2f2f2'],\n",
    "            edgecolor = 'black', linewidth = 0.5)\n",
    "\n",
    "ax.get_legend().remove()\n",
    "ax.set_xlabel(\"\")\n",
    "ax.set_ylabel(\"\")\n",
    "ax.set_ylim(0,0.2)\n",
    "ax.yaxis.set_major_locator(MultipleLocator(0.05))\n",
    "ax.set_xticks([])\n",
    "\n",
    "ax.spines['right'].set_visible(False)\n",
    "ax.spines['top'].set_visible(False)\n",
    "\n",
    "plt.savefig(os.path.join(OUTDIR, 'ic.intron_pos_3_by_usage.quantile_sampling.controlling_predicted_logit.svg'), format = 'svg', dpi = 600, transparent = True)\n",
    "plt.show()\n",
    "\n",
    "\n",
    "print(\"Corresponding Statistics:\")\n",
    "print(ic_test)\n"
   ]
  },
  {
   "cell_type": "code",
   "execution_count": null,
   "metadata": {},
   "outputs": [],
   "source": []
  }
 ],
 "metadata": {
  "kernelspec": {
   "display_name": "Python (tf-train)",
   "language": "python",
   "name": "tf-train"
  },
  "language_info": {
   "codemirror_mode": {
    "name": "ipython",
    "version": 3
   },
   "file_extension": ".py",
   "mimetype": "text/x-python",
   "name": "python",
   "nbconvert_exporter": "python",
   "pygments_lexer": "ipython3",
   "version": "3.6.12"
  },
  "vscode": {
   "interpreter": {
    "hash": "425115ae6637ada2b959655b34e22bdfbab2786b72fd7a6ba9076b4d899c9624"
   }
  }
 },
 "nbformat": 4,
 "nbformat_minor": 2
}
