{
 "cells": [
  {
   "cell_type": "markdown",
   "metadata": {},
   "source": [
    "# Figure 5: Composite intronic site analysis\n",
    "\n",
    "**Description:** Genomic context model development for intron sites.\n",
    "\n",
    "&rarr; Run this notebook with the `tf-train` kernel\n"
   ]
  },
  {
   "cell_type": "code",
   "execution_count": 1,
   "metadata": {},
   "outputs": [],
   "source": [
    "%load_ext autoreload"
   ]
  },
  {
   "cell_type": "code",
   "execution_count": 2,
   "metadata": {},
   "outputs": [],
   "source": [
    "%autoreload 2"
   ]
  },
  {
   "cell_type": "code",
   "execution_count": 3,
   "metadata": {},
   "outputs": [
    {
     "name": "stderr",
     "output_type": "stream",
     "text": [
      "Using TensorFlow backend.\n"
     ]
    }
   ],
   "source": [
    "%run -i notebook_setup.py"
   ]
  },
  {
   "cell_type": "markdown",
   "metadata": {},
   "source": [
    "## IMPORTS AND SETUP"
   ]
  },
  {
   "cell_type": "code",
   "execution_count": 4,
   "metadata": {},
   "outputs": [],
   "source": [
    "import utilities\n",
    "from utilities import genomic_context\n",
    "\n",
    "import statsmodels.formula.api as smf\n",
    "from sklearn.preprocessing import StandardScaler\n",
    "from statsmodels.stats.proportion import test_proportions_2indep\n"
   ]
  },
  {
   "cell_type": "markdown",
   "metadata": {},
   "source": [
    "## IMPORT DATA"
   ]
  },
  {
   "cell_type": "code",
   "execution_count": 5,
   "metadata": {},
   "outputs": [],
   "source": [
    "PROJECT = \"/projects/b1080/eks/polyadenylation\"\n",
    "\n",
    "DATADIR = os.path.join(PROJECT, \"manuscripts\", \"01_development\", \"data\")\n",
    "RESDIR  = os.path.join(PROJECT, \"manuscripts\", \"01_development\", \"analysis\", \"resources\")\n",
    "OUTDIR  = os.path.join(PROJECT, \"manuscripts\", \"01_development\", \"figures\", \"Figure_05\")\n",
    "os.makedirs(OUTDIR, exist_ok = True)\n",
    "\n",
    "ENCODE_DIR = os.path.join(PROJECT, \"model\", \"rna_validation\", \"encode_project\")\n"
   ]
  },
  {
   "cell_type": "markdown",
   "metadata": {},
   "source": [
    "## Data loading and preparation"
   ]
  },
  {
   "cell_type": "code",
   "execution_count": 6,
   "metadata": {},
   "outputs": [
    {
     "name": "stdout",
     "output_type": "stream",
     "text": [
      "(2555604, 33)\n"
     ]
    }
   ],
   "source": [
    "ic_data = pd.read_csv(os.path.join(RESDIR, 'ic_rawdata.txt'), sep = \"\\t\")\n",
    "print(ic_data.shape)\n"
   ]
  },
  {
   "cell_type": "markdown",
   "metadata": {},
   "source": [
    "#### Define features"
   ]
  },
  {
   "cell_type": "code",
   "execution_count": 7,
   "metadata": {},
   "outputs": [],
   "source": [
    "ic_feature_dict = {\n",
    "    'intron_pos_3'               : \"6. Site in last intron?\",\n",
    "    'up_exon_log10'              : \"2. Upstream exon size (log10)\",\n",
    "    'down_exon_log10'            : \"3. Downstream exon size (log10)\",\n",
    "    'distance_upstream5ss_log10' : \"1. Distance to 5'SS (log10)\",\n",
    "    'score_upstream5ss'          : \"4. Upstream 5'SS strength\",\n",
    "    'score_downstream3ss'        : \"5. Downstream 3'SS strength\",\n",
    "    'ratio_size_distance'        : \"8. Ratio of intron size to 5'SS distance (log2)\",\n",
    "    'strength'                   : \"7. PolyaStrength score\",\n",
    "}\n",
    "\n",
    "ic_features = list(ic_feature_dict.keys())\n",
    "ic_labels = [ic_feature_dict.get(_) for _ in ic_features]\n"
   ]
  },
  {
   "cell_type": "markdown",
   "metadata": {},
   "source": [
    "#### Transform features"
   ]
  },
  {
   "cell_type": "code",
   "execution_count": 8,
   "metadata": {},
   "outputs": [],
   "source": [
    "ic_data['gene'] = ic_data['feature_gene']\n",
    "ic_data['intron_pos_3'] = (ic_data['feature_score'] == 3).astype(int)\n",
    "\n",
    "ic_data['feature_size_log10']         = np.log10(ic_data['feature_size'] + 1)\n",
    "ic_data['distance_upstream5ss_log10'] = np.log10(ic_data['distance_upstream5ss'] + 1)\n",
    "ic_data['up_exon_log10']              = np.log10(ic_data['up_exon'] + 1)\n",
    "ic_data['down_exon_log10']            = np.log10(ic_data['down_exon'] + 1)\n",
    "\n",
    "ic_data['distance_downstream3ss'] = ic_data['feature_size'] - ic_data['distance_upstream5ss']\n",
    "ic_data['position_upstream5ss']   = ic_data.apply(lambda row: (row['start'] - row['distance_upstream5ss']) if (row['strand'] == '+') else (row['start'] + row['distance_upstream5ss']), axis = 1)\n",
    "ic_data['position_downstream3ss'] = ic_data.apply(lambda row: (row['start'] + row['distance_downstream3ss']) if (row['strand'] == '+') else (row['start'] - row['distance_downstream3ss']), axis = 1)\n",
    "\n",
    "ic_data['ratio_size_distance'] = np.log2((ic_data['feature_size'] + 100) / (ic_data['distance_upstream5ss'] + 100))\n"
   ]
  },
  {
   "cell_type": "markdown",
   "metadata": {},
   "source": [
    "#### Subset sites in well-expressed genes"
   ]
  },
  {
   "cell_type": "code",
   "execution_count": 9,
   "metadata": {},
   "outputs": [],
   "source": [
    "try:\n",
    "    with open(os.path.join(RESDIR, 'refseq.hg38.genes.minUn.agg.reads.pickle'), mode = 'rb') as handle:\n",
    "        gene_reads = pickle.load(handle)\n",
    "        \n",
    "except FileNotFoundError:\n",
    "    \n",
    "    with open(os.path.join(DATADIR, \"reads3_scoring_dictionary.pickle\"), mode = 'rb') as handle:\n",
    "        reads_dict = pickle.load(handle)\n",
    "        \n",
    "    gene_reads = {}\n",
    "        \n",
    "    with open(os.path.join(RESDIR, 'refseq.hg38.genes.minUn.agg.bed'), mode = 'r') as handle:\n",
    "        for line in handle:\n",
    "            \n",
    "            chrom, start, end, gene, score, strand = line.strip().split(\"\\t\")\n",
    "            \n",
    "            start = int(float(start))\n",
    "            end   = int(float(end))\n",
    "            \n",
    "            gene_reads[gene] = np.sum([reads_dict.get((strand,chrom,x),0) for x in range(start,end)])\n",
    "\n",
    "    with open(os.path.join(RESDIR, 'refseq.hg38.genes.minUn.agg.reads.pickle'), mode = 'wb') as handle:\n",
    "        pickle.dump(gene_reads, handle)\n",
    "\n",
    "ic_data['gene_reads'] = ic_data['gene'].apply(lambda x : gene_reads[x])\n"
   ]
  },
  {
   "cell_type": "code",
   "execution_count": 10,
   "metadata": {},
   "outputs": [
    {
     "name": "stdout",
     "output_type": "stream",
     "text": [
      "2352172 2555604\n",
      "(2352172, 43)\n"
     ]
    }
   ],
   "source": [
    "condWELLEXP   = (ic_data['gene_reads'] >= 100)\n",
    "condNOMISSING = ~(ic_data[ic_features].isnull().any(axis = 1))\n",
    "print(condWELLEXP.sum(), condNOMISSING.sum())\n",
    "\n",
    "ic_filt = ic_data.loc[condWELLEXP & condNOMISSING].copy()\n",
    "print(ic_filt.shape)\n"
   ]
  },
  {
   "cell_type": "markdown",
   "metadata": {},
   "source": [
    "#### Identify positive sites"
   ]
  },
  {
   "cell_type": "code",
   "execution_count": 11,
   "metadata": {},
   "outputs": [],
   "source": [
    "ic_pos = ic_filt.loc[ic_filt['cluster_reads_slop'] > 0].copy()\n",
    "\n",
    "ic_site_dict = {}\n",
    "\n",
    "for i,row in ic_pos.iterrows():\n",
    "    ic_site_dict[(row['chrom'], row['start'], row['strand'], row['gene'])] = row['cluster_reads_slop']\n"
   ]
  },
  {
   "cell_type": "code",
   "execution_count": 12,
   "metadata": {},
   "outputs": [
    {
     "name": "stdout",
     "output_type": "stream",
     "text": [
      "POSITIVES: (7720, 43)\n",
      "NEGATIVES: (2266501, 43)\n"
     ]
    }
   ],
   "source": [
    "ic_positives = ic_filt.loc[ic_filt['cluster_reads_slop'] >= 100].copy()\n",
    "ic_negatives = ic_filt.loc[ic_filt['cluster_reads_slop'] == 0].copy()\n",
    "\n",
    "print(\"POSITIVES:\", ic_positives.shape)\n",
    "print(\"NEGATIVES:\", ic_negatives.shape)\n"
   ]
  },
  {
   "cell_type": "markdown",
   "metadata": {},
   "source": [
    "#### Sample negative sites from introns with no used polyA sites"
   ]
  },
  {
   "cell_type": "code",
   "execution_count": 13,
   "metadata": {},
   "outputs": [
    {
     "name": "stdout",
     "output_type": "stream",
     "text": [
      "2918177320\n",
      "ELIGIBLE NCs: 16415\n"
     ]
    }
   ],
   "source": [
    "# random_state = np.random.randint(0, 2**32 - 1)\n",
    "random_state = 2918177320\n",
    "print(random_state)\n",
    "\n",
    "ic_negatives_samp = ic_negatives.sample(n = 40000, replace = False, random_state = random_state)\n",
    "ic_negatives_samp['nc_eligible'] = ic_negatives_samp.apply(genomic_context.check_sites_in_intron, args = (ic_pos, ic_site_dict), axis = 1)\n",
    "print(\"ELIGIBLE NCs:\", ic_negatives_samp.nc_eligible.sum())\n"
   ]
  },
  {
   "cell_type": "code",
   "execution_count": 14,
   "metadata": {},
   "outputs": [
    {
     "name": "stdout",
     "output_type": "stream",
     "text": [
      "DOWNSAMPLED NCs: (15693, 44)\n"
     ]
    }
   ],
   "source": [
    "ic_negatives_maxpergene = genomic_context.downsample_sites_per_gene(ic_negatives_samp.loc[ic_negatives_samp['nc_eligible'] == True], \n",
    "                                                                    ic_positives['gene'].value_counts().max(),\n",
    "                                                                    random_state = random_state\n",
    "                                                                   )\n",
    "print(\"DOWNSAMPLED NCs:\", ic_negatives_maxpergene.shape)\n"
   ]
  },
  {
   "cell_type": "markdown",
   "metadata": {},
   "source": [
    "#### Partition data into training/testing splits"
   ]
  },
  {
   "cell_type": "code",
   "execution_count": 17,
   "metadata": {},
   "outputs": [
    {
     "name": "stdout",
     "output_type": "stream",
     "text": [
      "\n",
      "BINARY CLASS:\n",
      " 1    7720\n",
      "0    7720\n",
      "Name: score_binary, dtype: int64\n",
      "\n",
      "SPLIT:\n",
      " train    13896\n",
      "test      1544\n",
      "Name: split, dtype: int64\n"
     ]
    }
   ],
   "source": [
    "ic_positives = ic_filt.loc[ic_filt['cluster_reads_slop'] >= 100].copy()\n",
    "ic_positives['split'] = 'train'\n",
    "ic_positives.loc[ic_positives.sample(frac = 0.1, replace = False, random_state = random_state).index, 'split'] = 'test'\n",
    "\n",
    "ic_negatives = ic_negatives_maxpergene.loc[ic_negatives_maxpergene['nc_eligible'] == 1].copy().sample(n = len(ic_positives), replace = False, random_state = random_state)\n",
    "ic_negatives['split'] = 'train'\n",
    "ic_negatives.loc[ic_negatives.sample(frac = 0.1, replace = False, random_state = random_state).index, 'split'] = 'test'\n",
    "\n",
    "new_ic_data = pd.concat([ic_positives, ic_negatives], sort = False, ignore_index = True)\n",
    "print(\"\\nBINARY CLASS:\\n\", new_ic_data.score_binary.value_counts())\n",
    "print(\"\\nSPLIT:\\n\", new_ic_data.split.value_counts())\n",
    "\n",
    "with open(os.path.join(RESDIR, 'ic_data.pickle'), mode = 'wb') as handle:\n",
    "    pickle.dump(new_ic_data, handle)\n"
   ]
  },
  {
   "cell_type": "markdown",
   "metadata": {},
   "source": [
    "#### Scale data to normalize mean and standard deviation"
   ]
  },
  {
   "cell_type": "code",
   "execution_count": 18,
   "metadata": {},
   "outputs": [],
   "source": [
    "scaler_ic = StandardScaler().fit(new_ic_data.loc[new_ic_data['split'] == 'train', ic_features[1:]])\n",
    "\n",
    "with open(os.path.join(RESDIR, 'ic_scaler_ratio.pickle'), mode = 'wb') as handle:\n",
    "    pickle.dump(scaler_ic, handle)\n",
    "\n",
    "Xall_scaled = pd.DataFrame(scaler_ic.transform(new_ic_data[ic_features[1:]]), index = new_ic_data.index, columns = new_ic_data[ic_features[1:]].columns)\n",
    "Xall_scaled[ic_features[0]] = new_ic_data[ic_features[0]]\n",
    "Yall_c = new_ic_data['score_binary']\n",
    "\n",
    "Xtr_scaled = Xall_scaled.loc[new_ic_data['split'] == 'train'].copy()\n",
    "Ytr_c = new_ic_data.loc[new_ic_data['split'] == 'train', 'score_binary'].copy()\n",
    "\n",
    "Xte_scaled = Xall_scaled.loc[new_ic_data['split'] == 'test'].copy()\n",
    "Yte_c = new_ic_data.loc[new_ic_data['split'] == 'test', 'score_binary'].copy()\n",
    "\n",
    "ic_all_data = {\n",
    "    'train' : {\n",
    "        'X' : Xtr_scaled,\n",
    "        'Y' : Ytr_c,\n",
    "    },\n",
    "    'test' : {\n",
    "        'X' : Xte_scaled,\n",
    "        'Y' : Yte_c,\n",
    "    }\n",
    "}\n"
   ]
  },
  {
   "cell_type": "markdown",
   "metadata": {},
   "source": [
    "#### Fit logistic regression model"
   ]
  },
  {
   "cell_type": "code",
   "execution_count": 19,
   "metadata": {},
   "outputs": [
    {
     "name": "stdout",
     "output_type": "stream",
     "text": [
      "Optimization terminated successfully.\n",
      "         Current function value: 0.393957\n",
      "         Iterations 7\n",
      "                           Logit Regression Results                           \n",
      "==============================================================================\n",
      "Dep. Variable:           score_binary   No. Observations:                13896\n",
      "Model:                          Logit   Df Residuals:                    13888\n",
      "Method:                           MLE   Df Model:                            7\n",
      "Date:                Thu, 19 Oct 2023   Pseudo R-squ.:                  0.4316\n",
      "Time:                        09:37:30   Log-Likelihood:                -5474.4\n",
      "converged:                       True   LL-Null:                       -9632.0\n",
      "Covariance Type:            nonrobust   LLR p-value:                     0.000\n",
      "==============================================================================================\n",
      "                                 coef    std err          z      P>|z|      [0.025      0.975]\n",
      "----------------------------------------------------------------------------------------------\n",
      "intron_pos_3                   1.2588      0.098     12.797      0.000       1.066       1.452\n",
      "up_exon_log10                  0.3017      0.025     12.271      0.000       0.253       0.350\n",
      "down_exon_log10                0.1364      0.029      4.683      0.000       0.079       0.193\n",
      "distance_upstream5ss_log10    -0.6451      0.031    -21.065      0.000      -0.705      -0.585\n",
      "score_upstream5ss             -0.5249      0.028    -18.572      0.000      -0.580      -0.470\n",
      "score_downstream3ss           -0.1138      0.025     -4.618      0.000      -0.162      -0.065\n",
      "ratio_size_distance            0.4136      0.030     13.924      0.000       0.355       0.472\n",
      "strength                       1.8861      0.036     52.604      0.000       1.816       1.956\n",
      "==============================================================================================\n"
     ]
    }
   ],
   "source": [
    "ic_model = sm.Logit(Ytr_c, Xtr_scaled[ic_features]).fit()\n",
    "print(ic_model.summary())\n",
    "\n",
    "with open(os.path.join(RESDIR, 'ic_model_ratio.pickle'), mode = 'wb') as handle:\n",
    "    pickle.dump(ic_model, handle)\n"
   ]
  },
  {
   "cell_type": "code",
   "execution_count": 20,
   "metadata": {},
   "outputs": [],
   "source": [
    "ic_all_data['train']['Ypred'] = {}\n",
    "ic_all_data['test']['Ypred']  = {}\n",
    "\n",
    "new_preds = ic_model.predict(ic_all_data['train']['X'][ic_features])\n",
    "ic_all_data['train']['Ypred'] = new_preds\n",
    "\n",
    "new_preds = ic_model.predict(ic_all_data['test']['X'][ic_features])\n",
    "ic_all_data['test']['Ypred'] = new_preds\n"
   ]
  },
  {
   "cell_type": "markdown",
   "metadata": {},
   "source": [
    "## Classification Performance"
   ]
  },
  {
   "cell_type": "code",
   "execution_count": 21,
   "metadata": {},
   "outputs": [
    {
     "data": {
      "image/png": "[encoded data removed]",
      "text/plain": [
       "<Figure size 72x72 with 1 Axes>"
      ]
     },
     "metadata": {
      "needs_background": "light"
     },
     "output_type": "display_data"
    },
    {
     "name": "stdout",
     "output_type": "stream",
     "text": [
      "Corresponding metrics:\n",
      "\tTest AUROC = 0.915893715267524\n"
     ]
    }
   ],
   "source": [
    "fig,axes = plt.subplots(1,1, figsize = (1,1))\n",
    "\n",
    "ic_filt_auc = genomic_context.plot_roc(axes, \n",
    "                                       ic_all_data['test']['Y'],\n",
    "                                       ic_all_data['test']['Ypred'],\n",
    "                                       'Test')\n",
    "\n",
    "axes.xaxis.set_major_locator(MultipleLocator(0.5))\n",
    "axes.yaxis.set_major_locator(MultipleLocator(0.5))\n",
    "\n",
    "axes.get_legend().remove()\n",
    "\n",
    "plt.savefig(os.path.join(OUTDIR, 'ic.classification_roc.svg'), format = 'svg', dpi = 600, transparent = True)\n",
    "plt.show()\n",
    "\n",
    "\n",
    "print(\"Corresponding metrics:\")\n",
    "print(f\"\\tTest AUROC = {ic_filt_auc}\")\n"
   ]
  },
  {
   "cell_type": "markdown",
   "metadata": {},
   "source": [
    "## Validation of site usage predictions using ENCODE RNA-seq"
   ]
  },
  {
   "cell_type": "code",
   "execution_count": 22,
   "metadata": {},
   "outputs": [
    {
     "name": "stdout",
     "output_type": "stream",
     "text": [
      "(2352172, 44)\n",
      "(72440, 44)\n"
     ]
    }
   ],
   "source": [
    "## load site data with genomic context fields\n",
    "\n",
    "ic_site_data = ic_filt\n",
    "\n",
    "ic_site_data_scaled = pd.DataFrame(scaler_ic.transform(ic_site_data[ic_features[1:]]), index = ic_site_data.index, columns = ic_site_data[ic_features[1:]].columns)\n",
    "ic_site_data_scaled['intron_pos_3'] = ic_site_data['intron_pos_3']\n",
    "\n",
    "ic_site_data['pred_prob'] = ic_model.predict(ic_site_data_scaled[ic_features])\n",
    "print(ic_site_data.shape)\n",
    "\n",
    "\n",
    "## filter sites with sufficient reads\n",
    "\n",
    "ic_site_pos = ic_site_data.loc[ic_site_data['cluster_reads_slop'] >= 10].copy()\n",
    "ic_site_neg = ic_site_data.loc[ic_site_data['cluster_reads_slop'] == 0].copy().sample(n = ic_site_pos.shape[0], replace = False, random_state = random_state)\n",
    "\n",
    "ic_site_filt = pd.concat([ic_site_pos, ic_site_neg], sort = False, ignore_index = True)\n",
    "print(ic_site_filt.shape)\n"
   ]
  },
  {
   "cell_type": "code",
   "execution_count": 23,
   "metadata": {},
   "outputs": [
    {
     "name": "stdout",
     "output_type": "stream",
     "text": [
      "Original data shape: (72440, 44)\n",
      "Filtered data shape: (71607, 44)\n",
      "Output results shape: (71607, 2)\n"
     ]
    },
    {
     "data": {
      "image/png": "[encoded data removed]",
      "text/plain": [
       "<Figure size 90x72 with 1 Axes>"
      ]
     },
     "metadata": {
      "needs_background": "light"
     },
     "output_type": "display_data"
    }
   ],
   "source": [
    "fig, ax = plt.subplots(1,1, figsize = (1.25,1))\n",
    "\n",
    "distance = 20\n",
    "ic_a172_res = genomic_context.quantify_reads_around(ic_site_filt, ENCODE_DIR, 'A172', distance = distance, subset = [('distance_upstream5ss', distance+5), ('distance_downstream3ss', distance+5)])\n",
    "genomic_context.make_read_plots(ax, ic_a172_res, 'composite_intron', 'A172', distance)\n",
    "\n",
    "ax.axhline(y = 0, color = 'black', linestyle = 'dashed', linewidth = 0.75)\n",
    "ax.set_xlim((-distance,distance))\n",
    "ax.xaxis.set_major_locator(MultipleLocator(10))\n",
    "\n",
    "ax.yaxis.set_major_locator(MultipleLocator(0.1))\n",
    "\n",
    "ax.spines['right'].set_visible(False)\n",
    "ax.spines['top'].set_visible(False)\n",
    "\n",
    "ax.get_legend().remove()\n",
    "\n",
    "plt.savefig(os.path.join(OUTDIR, 'ic.rna_validation.icomp.svg'), format = 'svg', dpi = 600, transparent = True)\n",
    "plt.show()\n"
   ]
  },
  {
   "cell_type": "markdown",
   "metadata": {},
   "source": [
    "## AUROC for individual predictors"
   ]
  },
  {
   "cell_type": "code",
   "execution_count": 24,
   "metadata": {},
   "outputs": [
    {
     "data": {
      "image/png": "[encoded data removed]",
      "text/plain": [
       "<Figure size 72x108 with 1 Axes>"
      ]
     },
     "metadata": {
      "needs_background": "light"
     },
     "output_type": "display_data"
    },
    {
     "name": "stdout",
     "output_type": "stream",
     "text": [
      "Corresponding data:\n",
      "                                            labels     auroc     auprc\n",
      "3                      1. Distance to 5'SS (log10)  0.280273  0.371377\n",
      "4                        4. Upstream 5'SS strength  0.347808  0.414483\n",
      "5                      5. Downstream 3'SS strength  0.439091  0.462746\n",
      "0                          6. Site in last intron?  0.556347  0.671366\n",
      "2                  3. Downstream exon size (log10)  0.575569  0.583479\n",
      "1                    2. Upstream exon size (log10)  0.599094  0.585749\n",
      "6  8. Ratio of intron size to 5'SS distance (log2)  0.675357  0.689684\n",
      "7                           7. PolyaStrength score  0.838351  0.827676\n"
     ]
    }
   ],
   "source": [
    "ic_test_data = new_ic_data.loc[new_ic_data['split'] == 'test']\n",
    "\n",
    "ic_aurocs = []\n",
    "ic_auprcs = []\n",
    "\n",
    "for icf,icl in zip(ic_features, ic_labels):\n",
    "    auroc, auprc = genomic_context.calculate_auc(ic_test_data['score_binary'], ic_test_data[icf])\n",
    "    ic_aurocs.append(auroc)\n",
    "    ic_auprcs.append(auprc)\n",
    "    \n",
    "ic_aurocs_df = pd.DataFrame.from_dict({'labels' : ic_labels, 'auroc' : ic_aurocs, 'auprc' : ic_auprcs}, orient = 'columns')\n",
    "\n",
    "fig,ax = plt.subplots(1,1, figsize = (1, 1.5))\n",
    "\n",
    "sns.barplot(data = ic_aurocs_df.sort_values('auroc'),\n",
    "            x = 'auroc', y = 'labels', color = 'dimgray',\n",
    "            edgecolor = 'black', linewidth = 0.5,\n",
    "            ax = ax)\n",
    "\n",
    "ax.set_xlim(0,1)\n",
    "ax.xaxis.set_major_locator(MultipleLocator(0.25))\n",
    "\n",
    "ax.spines['right'].set_visible(False)\n",
    "ax.spines['top'].set_visible(False)\n",
    "\n",
    "plt.savefig(os.path.join(OUTDIR, 'ic.individual_predictor_auroc.svg'), format = 'svg', dpi = 600, transparent = True)\n",
    "plt.show()\n",
    "\n",
    "\n",
    "print(\"Corresponding data:\")\n",
    "print(ic_aurocs_df.sort_values('auroc'))\n"
   ]
  },
  {
   "cell_type": "markdown",
   "metadata": {},
   "source": [
    "## Confirmatory boxplots for model predictors\n"
   ]
  },
  {
   "cell_type": "code",
   "execution_count": 25,
   "metadata": {},
   "outputs": [
    {
     "name": "stdout",
     "output_type": "stream",
     "text": [
      "(15440, 49)\n"
     ]
    }
   ],
   "source": [
    "class_names = {0:'Not Used', 1:'Highly Used'}\n",
    "class_order = ['Highly Used', 'Not Used']\n",
    "\n",
    "ic_pred = new_ic_data.copy()\n",
    "ic_pred['pred_prob'] = ic_all_data['train']['Ypred']\n",
    "ic_pred.loc[ic_pred['split'] == 'test', 'pred_prob'] = ic_all_data['test']['Ypred']\n",
    "\n",
    "ic_pred['class'] = ic_pred['score_binary'].apply(lambda x : class_names[x])\n",
    "ic_pred['pred_prob_clip'] = np.clip(ic_pred['pred_prob'], 1e-6, 1 - 1e-6)\n",
    "ic_pred['pred_prob_or'] = np.log2(ic_pred['pred_prob_clip'] / (1 - ic_pred['pred_prob_clip']))\n",
    "\n",
    "print(ic_pred.shape)\n"
   ]
  },
  {
   "cell_type": "code",
   "execution_count": 26,
   "metadata": {
    "scrolled": false
   },
   "outputs": [],
   "source": [
    "selected_features = ['distance_upstream5ss_log10', 'score_upstream5ss', 'score_downstream3ss',\n",
    "                     'down_exon_log10','up_exon_log10','feature_size_log10', 'ratio_size_distance']\n",
    "selected_labels = [ic_feature_dict.get(sf) for sf in selected_features]\n"
   ]
  },
  {
   "cell_type": "markdown",
   "metadata": {},
   "source": [
    "#### PolyaStrength by site usage"
   ]
  },
  {
   "cell_type": "code",
   "execution_count": 27,
   "metadata": {},
   "outputs": [
    {
     "name": "stdout",
     "output_type": "stream",
     "text": [
      "7. PolyaStrength score:\n",
      "N_Highly Used\tN=7720\n",
      "N_Not Used\tN=7720\n",
      "Baseline\tWRS P-val = 0.000E+00\n"
     ]
    },
    {
     "data": {
      "image/png": "[encoded data removed]",
      "text/plain": [
       "<Figure size 28.8x90 with 1 Axes>"
      ]
     },
     "metadata": {
      "needs_background": "light"
     },
     "output_type": "display_data"
    }
   ],
   "source": [
    "genomic_context.boxplot_features_outcome(OUTDIR, ic_pred, 'ic', \n",
    "                                         ['strength'], [ic_feature_dict.get('strength')], \n",
    "                                         'class', class_order, ['#337e3d','#f2f2f2'],\n",
    "                                         figsize = (0.4,1.25), ylims_main=(-15,5), ytickint_main = 5)\n"
   ]
  },
  {
   "cell_type": "markdown",
   "metadata": {},
   "source": [
    "#### Genomic features after controlling for PolyaStrength via quantile sampling"
   ]
  },
  {
   "cell_type": "code",
   "execution_count": 28,
   "metadata": {},
   "outputs": [
    {
     "name": "stdout",
     "output_type": "stream",
     "text": [
      "\n",
      "\n",
      "1. Distance to 5'SS (log10)\n",
      "Defining quantiles for variable strength with 10 groups, sampling 75.0% of available sites.\n"
     ]
    },
    {
     "data": {
      "image/png": "[encoded data removed]",
      "text/plain": [
       "<Figure size 28.8x90 with 1 Axes>"
      ]
     },
     "metadata": {
      "needs_background": "light"
     },
     "output_type": "display_data"
    },
    {
     "data": {
      "image/png": "[encoded data removed]",
      "text/plain": [
       "<Figure size 28.8x90 with 1 Axes>"
      ]
     },
     "metadata": {
      "needs_background": "light"
     },
     "output_type": "display_data"
    },
    {
     "name": "stdout",
     "output_type": "stream",
     "text": [
      "1. Distance to 5'SS (log10):\n",
      "N_Highly Used\tN=2812\n",
      "N_Not Used\tN=2812\n",
      "Baseline\tWRS P-val = 3.280E-225\n",
      "strength\tWRS P-val = 4.559E-01\n"
     ]
    }
   ],
   "source": [
    "genomic_context.boxplot_features_outcome_with_quantile_sampling(OUTDIR, ic_pred, 'ic', \n",
    "                                                                [selected_features[0]], [selected_labels[0]], \n",
    "                                                                'class', class_order, ['#337e3d','#f2f2f2'],\n",
    "                                                                sample = ['strength'], random_state = random_state,\n",
    "                                                                figsize = (0.4,1.25), \n",
    "                                                                ylims_main=(0,6), ytickint_main = 2, \n",
    "                                                                ylims_sample=(-12,0), ytickint_sample = 6)\n"
   ]
  },
  {
   "cell_type": "code",
   "execution_count": 29,
   "metadata": {},
   "outputs": [
    {
     "name": "stdout",
     "output_type": "stream",
     "text": [
      "\n",
      "\n",
      "4. Upstream 5'SS strength\n",
      "Defining quantiles for variable strength with 10 groups, sampling 75.0% of available sites.\n"
     ]
    },
    {
     "data": {
      "image/png": "[encoded data removed]",
      "text/plain": [
       "<Figure size 28.8x90 with 1 Axes>"
      ]
     },
     "metadata": {
      "needs_background": "light"
     },
     "output_type": "display_data"
    },
    {
     "data": {
      "image/png": "[encoded data removed]",
      "text/plain": [
       "<Figure size 28.8x90 with 1 Axes>"
      ]
     },
     "metadata": {
      "needs_background": "light"
     },
     "output_type": "display_data"
    },
    {
     "name": "stdout",
     "output_type": "stream",
     "text": [
      "4. Upstream 5'SS strength:\n",
      "N_Highly Used\tN=2812\n",
      "N_Not Used\tN=2812\n",
      "Baseline\tWRS P-val = 3.610E-110\n",
      "strength\tWRS P-val = 4.559E-01\n"
     ]
    }
   ],
   "source": [
    "genomic_context.boxplot_features_outcome_with_quantile_sampling(OUTDIR, ic_pred, 'ic', \n",
    "                                                                [selected_features[1]], [selected_labels[1]], \n",
    "                                                                'class', class_order, ['#337e3d','#f2f2f2'],\n",
    "                                                                sample = ['strength'], random_state = random_state,\n",
    "                                                                figsize = (0.4,1.25), \n",
    "                                                                ylims_main=(-1,12), ytickint_main = 6, \n",
    "                                                                ylims_sample=(-12,0), ytickint_sample = 6)\n"
   ]
  },
  {
   "cell_type": "code",
   "execution_count": 30,
   "metadata": {},
   "outputs": [
    {
     "name": "stdout",
     "output_type": "stream",
     "text": [
      "\n",
      "\n",
      "5. Downstream 3'SS strength\n",
      "Defining quantiles for variable strength with 10 groups, sampling 75.0% of available sites.\n"
     ]
    },
    {
     "data": {
      "image/png": "[encoded data removed]",
      "text/plain": [
       "<Figure size 28.8x90 with 1 Axes>"
      ]
     },
     "metadata": {
      "needs_background": "light"
     },
     "output_type": "display_data"
    },
    {
     "data": {
      "image/png": "[encoded data removed]",
      "text/plain": [
       "<Figure size 28.8x90 with 1 Axes>"
      ]
     },
     "metadata": {
      "needs_background": "light"
     },
     "output_type": "display_data"
    },
    {
     "name": "stdout",
     "output_type": "stream",
     "text": [
      "5. Downstream 3'SS strength:\n",
      "N_Highly Used\tN=2812\n",
      "N_Not Used\tN=2812\n",
      "Baseline\tWRS P-val = 1.307E-04\n",
      "strength\tWRS P-val = 4.559E-01\n"
     ]
    }
   ],
   "source": [
    "genomic_context.boxplot_features_outcome_with_quantile_sampling(OUTDIR, ic_pred, 'ic', \n",
    "                                                                [selected_features[2]], [selected_labels[2]], \n",
    "                                                                'class', class_order, ['#337e3d','#f2f2f2'],\n",
    "                                                                sample = ['strength'], random_state = random_state,\n",
    "                                                                figsize = (0.4,1.25), \n",
    "                                                                ylims_main=(0,16), ytickint_main = 4, \n",
    "                                                                ylims_sample=(-12,0), ytickint_sample = 6)\n"
   ]
  },
  {
   "cell_type": "code",
   "execution_count": 31,
   "metadata": {},
   "outputs": [
    {
     "name": "stdout",
     "output_type": "stream",
     "text": [
      "\n",
      "\n",
      "3. Downstream exon size (log10)\n",
      "Defining quantiles for variable strength with 10 groups, sampling 75.0% of available sites.\n"
     ]
    },
    {
     "data": {
      "image/png": "[encoded data removed]",
      "text/plain": [
       "<Figure size 28.8x90 with 1 Axes>"
      ]
     },
     "metadata": {
      "needs_background": "light"
     },
     "output_type": "display_data"
    },
    {
     "data": {
      "image/png": "[encoded data removed]",
      "text/plain": [
       "<Figure size 28.8x90 with 1 Axes>"
      ]
     },
     "metadata": {
      "needs_background": "light"
     },
     "output_type": "display_data"
    },
    {
     "name": "stdout",
     "output_type": "stream",
     "text": [
      "3. Downstream exon size (log10):\n",
      "N_Highly Used\tN=2812\n",
      "N_Not Used\tN=2812\n",
      "Baseline\tWRS P-val = 1.526E-26\n",
      "strength\tWRS P-val = 4.559E-01\n"
     ]
    }
   ],
   "source": [
    "genomic_context.boxplot_features_outcome_with_quantile_sampling(OUTDIR, ic_pred, 'ic', \n",
    "                                                                [selected_features[3]], [selected_labels[3]], \n",
    "                                                                'class', class_order, ['#337e3d','#f2f2f2'],\n",
    "                                                                sample = ['strength'], random_state = random_state,\n",
    "                                                                figsize = (0.4,1.25), \n",
    "                                                                ylims_main = (1,4), ytickint_main = 1, \n",
    "                                                                ylims_sample=(-12,0), ytickint_sample = 6)\n"
   ]
  },
  {
   "cell_type": "code",
   "execution_count": 32,
   "metadata": {},
   "outputs": [
    {
     "name": "stdout",
     "output_type": "stream",
     "text": [
      "\n",
      "\n",
      "2. Upstream exon size (log10)\n",
      "Defining quantiles for variable strength with 10 groups, sampling 75.0% of available sites.\n"
     ]
    },
    {
     "data": {
      "image/png": "[encoded data removed]",
      "text/plain": [
       "<Figure size 28.8x90 with 1 Axes>"
      ]
     },
     "metadata": {
      "needs_background": "light"
     },
     "output_type": "display_data"
    },
    {
     "data": {
      "image/png": "[encoded data removed]",
      "text/plain": [
       "<Figure size 28.8x90 with 1 Axes>"
      ]
     },
     "metadata": {
      "needs_background": "light"
     },
     "output_type": "display_data"
    },
    {
     "name": "stdout",
     "output_type": "stream",
     "text": [
      "2. Upstream exon size (log10):\n",
      "N_Highly Used\tN=2812\n",
      "N_Not Used\tN=2812\n",
      "Baseline\tWRS P-val = 1.145E-26\n",
      "strength\tWRS P-val = 4.559E-01\n"
     ]
    }
   ],
   "source": [
    "genomic_context.boxplot_features_outcome_with_quantile_sampling(OUTDIR, ic_pred, 'ic', \n",
    "                                                                [selected_features[4]], [selected_labels[4]], \n",
    "                                                                'class', class_order, ['#337e3d','#f2f2f2'],\n",
    "                                                                sample = ['strength'], random_state = random_state,\n",
    "                                                                figsize = (0.4,1.25), \n",
    "                                                                ylims_main = (1,3), ytickint_main = 1, \n",
    "                                                                ylims_sample=(-12,0), ytickint_sample = 6)\n"
   ]
  },
  {
   "cell_type": "code",
   "execution_count": 33,
   "metadata": {},
   "outputs": [
    {
     "name": "stdout",
     "output_type": "stream",
     "text": [
      "\n",
      "\n",
      "8. Ratio of intron size to 5'SS distance (log2)\n",
      "Defining quantiles for variable strength with 10 groups, sampling 75.0% of available sites.\n"
     ]
    },
    {
     "data": {
      "image/png": "[encoded data removed]",
      "text/plain": [
       "<Figure size 28.8x90 with 1 Axes>"
      ]
     },
     "metadata": {
      "needs_background": "light"
     },
     "output_type": "display_data"
    },
    {
     "data": {
      "image/png": "[encoded data removed]",
      "text/plain": [
       "<Figure size 28.8x90 with 1 Axes>"
      ]
     },
     "metadata": {
      "needs_background": "light"
     },
     "output_type": "display_data"
    },
    {
     "name": "stdout",
     "output_type": "stream",
     "text": [
      "8. Ratio of intron size to 5'SS distance (log2):\n",
      "N_Highly Used\tN=2812\n",
      "N_Not Used\tN=2812\n",
      "Baseline\tWRS P-val = 1.447E-130\n",
      "strength\tWRS P-val = 4.559E-01\n"
     ]
    }
   ],
   "source": [
    "genomic_context.boxplot_features_outcome_with_quantile_sampling(OUTDIR, ic_pred, 'ic', \n",
    "                                                                [selected_features[6]], [selected_labels[6]], \n",
    "                                                                'class', class_order, ['#337e3d','#f2f2f2'],\n",
    "                                                                sample = ['strength'], random_state = random_state,\n",
    "                                                                figsize = (0.4,1.25), \n",
    "                                                                ylims_main = (-0.5,8), ytickint_main = 2, \n",
    "                                                                ylims_sample=(-12,0), ytickint_sample = 6)\n"
   ]
  },
  {
   "cell_type": "code",
   "execution_count": 34,
   "metadata": {},
   "outputs": [
    {
     "name": "stdout",
     "output_type": "stream",
     "text": [
      "\n",
      "\n",
      "6. Site in last intron?\n",
      "Defining quantiles for variable strength with 10 groups, sampling 75.0% of available sites.\n"
     ]
    },
    {
     "data": {
      "image/png": "[encoded data removed]",
      "text/plain": [
       "<Figure size 28.8x90 with 1 Axes>"
      ]
     },
     "metadata": {
      "needs_background": "light"
     },
     "output_type": "display_data"
    },
    {
     "name": "stdout",
     "output_type": "stream",
     "text": [
      "Corresponding Statistics:\n",
      "statistic = 16.58178285594218\n",
      "pvalue = 9.438659198735828e-62\n",
      "compare = diff\n",
      "method = agresti-caffo\n",
      "diff = 0.13833570412517782\n",
      "ratio = 3.969465648854962\n",
      "odds_ratio = 4.643166406884883\n",
      "variance = 6.950060245634284e-05\n",
      "alternative = two-sided\n",
      "value = 0\n",
      "tuple = (16.58178285594218, 9.438659198735828e-62)\n"
     ]
    }
   ],
   "source": [
    "ic_ip3_sampled = genomic_context.quantile_sampling(ic_pred, 'ic', \n",
    "                                                   ['intron_pos_3'], [ic_feature_dict.get('intron_pos_3')], \n",
    "                                                   'class', class_order, sample = ['strength'], random_state = random_state)\n",
    "\n",
    "ic_sum = (ic_ip3_sampled\n",
    "          .groupby(['class','intron_pos_3']).size()\n",
    "          .reset_index().rename(columns = {0:'count'}))\n",
    "\n",
    "ic_sum['prop'] = ic_sum['count'] / ic_sum.groupby('class')['count'].transform('sum')\n",
    "\n",
    "ic_test = test_proportions_2indep(ic_sum.loc[(ic_sum['class'] == 'Highly Used') & (ic_sum['intron_pos_3'] == 1), 'count'].iloc[0],\n",
    "                                  ic_sum.loc[(ic_sum['class'] == 'Highly Used'), 'count'].sum(),\n",
    "                                  ic_sum.loc[(ic_sum['class'] == 'Not Used') & (ic_sum['intron_pos_3'] == 1), 'count'].iloc[0],\n",
    "                                  ic_sum.loc[(ic_sum['class'] == 'Not Used'), 'count'].sum())\n",
    "\n",
    "ic_sum = ic_sum.loc[ic_sum['intron_pos_3'] == 1]\n",
    "\n",
    "\n",
    "fig,ax = plt.subplots(1,1, figsize = (0.4, 1.25))\n",
    "\n",
    "sns.barplot(data = ic_sum, x = 'class', y = 'prop', order = class_order,\n",
    "            hue = 'class', hue_order = class_order, dodge = False, palette = ['#337e3d','#f2f2f2'],\n",
    "            edgecolor = 'black', linewidth = 0.5)\n",
    "\n",
    "ax.get_legend().remove()\n",
    "ax.set_xlabel(\"\")\n",
    "ax.set_ylabel(\"\")\n",
    "ax.set_ylim(0,0.2)\n",
    "ax.yaxis.set_major_locator(MultipleLocator(0.05))\n",
    "ax.set_xticks([])\n",
    "\n",
    "ax.spines['right'].set_visible(False)\n",
    "ax.spines['top'].set_visible(False)\n",
    "\n",
    "plt.savefig(os.path.join(OUTDIR, 'ic.intron_pos_3_by_usage.quantile_sampling.controlling_predicted_logit.svg'), format = 'svg', dpi = 600, transparent = True)\n",
    "plt.show()\n",
    "\n",
    "\n",
    "print(\"Corresponding Statistics:\")\n",
    "print(ic_test)\n"
   ]
  },
  {
   "cell_type": "code",
   "execution_count": null,
   "metadata": {},
   "outputs": [],
   "source": []
  }
 ],
 "metadata": {
  "kernelspec": {
   "display_name": "Python (tf-train)",
   "language": "python",
   "name": "tf-train"
  },
  "language_info": {
   "codemirror_mode": {
    "name": "ipython",
    "version": 3
   },
   "file_extension": ".py",
   "mimetype": "text/x-python",
   "name": "python",
   "nbconvert_exporter": "python",
   "pygments_lexer": "ipython3",
   "version": "3.6.12"
  },
  "vscode": {
   "interpreter": {
    "hash": "425115ae6637ada2b959655b34e22bdfbab2786b72fd7a6ba9076b4d899c9624"
   }
  }
 },
 "nbformat": 4,
 "nbformat_minor": 2
}
