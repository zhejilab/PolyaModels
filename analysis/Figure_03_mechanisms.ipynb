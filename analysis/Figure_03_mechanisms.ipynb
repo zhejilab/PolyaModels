{
 "cells": [
  {
   "cell_type": "markdown",
   "metadata": {},
   "source": [
    "# Cleavage heterogeneity analysis\n",
    "\n",
    "**Description:** Analyzing drivers of different cleavage profiles, particularly high versus low entropy sites.\n",
    "\n",
    "&rarr; Run this notebook with the `tf-train` kernel\n"
   ]
  },
  {
   "cell_type": "code",
   "execution_count": 1,
   "metadata": {},
   "outputs": [],
   "source": [
    "%load_ext autoreload"
   ]
  },
  {
   "cell_type": "code",
   "execution_count": 2,
   "metadata": {},
   "outputs": [],
   "source": [
    "%autoreload 2"
   ]
  },
  {
   "cell_type": "code",
   "execution_count": 3,
   "metadata": {},
   "outputs": [
    {
     "name": "stderr",
     "output_type": "stream",
     "text": [
      "Using TensorFlow backend.\n"
     ]
    }
   ],
   "source": [
    "%run -i notebook_setup.py"
   ]
  },
  {
   "cell_type": "markdown",
   "metadata": {},
   "source": [
    "## IMPORTS AND SETUP"
   ]
  },
  {
   "cell_type": "code",
   "execution_count": 4,
   "metadata": {},
   "outputs": [],
   "source": [
    "import utilities\n",
    "from utilities import classification_cleavage, cleavage_heterogeneity\n",
    "\n",
    "from statsmodels.stats.multitest import multipletests\n",
    "from statsmodels.stats.proportion import test_proportions_2indep\n"
   ]
  },
  {
   "cell_type": "code",
   "execution_count": 5,
   "metadata": {},
   "outputs": [],
   "source": [
    "## specify working directories\n",
    "\n",
    "PROJECT = \"/projects/b1080/eks/polyadenylation\"\n",
    "DATADIR = os.path.join(PROJECT, \"manuscripts\", \"01_development\", \"data\")\n",
    "RESDIR  = os.path.join(PROJECT, \"manuscripts\", \"01_development\", \"analysis\", \"resources\")\n",
    "OUTDIR  = os.path.join(PROJECT, \"manuscripts\", \"01_development\", \"figures\", \"Figure_03\")\n",
    "os.makedirs(OUTDIR, exist_ok = True)\n",
    "\n",
    "CLVMOTDIR = os.path.join(PROJECT,'model','motif_analysis','cleavage_motifs')\n"
   ]
  },
  {
   "cell_type": "markdown",
   "metadata": {},
   "source": [
    "## IMPORT DATA"
   ]
  },
  {
   "cell_type": "code",
   "execution_count": 6,
   "metadata": {},
   "outputs": [
    {
     "name": "stdout",
     "output_type": "stream",
     "text": [
      "2322\n"
     ]
    }
   ],
   "source": [
    "all_hexamers = [\"\".join(x) for x in list(itertools.product('ACGT', repeat = 6))]\n",
    "all_data = pd.DataFrame.from_dict({'hexamer' : all_hexamers}, orient = 'columns')\n",
    "\n",
    "with open(os.path.join(RESDIR, 'motif_list_negative.median_then_mean.cutoff_background.pickle'), mode = 'rb') as handle:\n",
    "    final_background_list = pickle.load(handle)\n",
    "    \n",
    "print(len(final_background_list))\n"
   ]
  },
  {
   "cell_type": "code",
   "execution_count": 7,
   "metadata": {},
   "outputs": [],
   "source": [
    "variants_patterns = ['TATAAA', 'AGTAAA', 'TTTAAA', 'AATACA', 'CATAAA', 'GATAAA', 'AATATA', 'AATGAA', 'AAGAAA']\n",
    "\n",
    "a_patterns = ['AAAAAA','AAAAA[C|G|T]','AAAA[C|G|T]A','AAA[C|G|T]AA','AA[C|G|T]AAA','A[C|G|T]AAAA']\n",
    "t_patterns = ['TTTTTT','TTTTT[A|C|G]','TTTT[A|C|G]T','TTT[A|C|G]TT','TT[A|C|G]TTT','T[A|C|G]TTTT']\n",
    "g_patterns = ['GGGGGG','GGGGG[A|C|T]','GGGG[A|C|T]G','GGG[A|C|T]GG','GG[A|C|T]GGG','G[A|C|T]GGGG']\n",
    "\n",
    "pas = [x for x in ['AATAAA','ATTAAA']+variants_patterns if x in final_background_list]\n",
    "variants = [x for x in variants_patterns if x in final_background_list]\n",
    "a_rich = list(set([x for x in final_background_list if (re.search(\"|\".join(a_patterns), x) is not None) and (x not in ['AATAAA','ATTAAA'])]))\n",
    "t_rich = list(set([x for x in final_background_list if (re.search(\"|\".join(t_patterns), x) is not None)]))\n",
    "g_rich = list(set([x for x in final_background_list if (re.search(\"|\".join(g_patterns), x) is not None)]))\n",
    "\n",
    "gt_patterns = ['GTGT','TGTG','GTCT','CTGT','TCTG','TGTC']\n",
    "gt_rich = list(set([x for x in final_background_list for gt in gt_patterns if (gt in x) and (\"TGTA\" not in x) and ((x.count(\"T\") >= 3) or (x.count(\"G\") >= 3) or (x.count(\"C\") >= 3))]))\n",
    "\n",
    "tgta_rich = list(set([x for x in final_background_list if (\"TGTA\" in x)]))\n"
   ]
  },
  {
   "cell_type": "code",
   "execution_count": null,
   "metadata": {},
   "outputs": [],
   "source": []
  },
  {
   "cell_type": "code",
   "execution_count": 8,
   "metadata": {},
   "outputs": [],
   "source": [
    "scoring_file = os.path.join(PROJECT, \"data/data_preparation/scoring_dictionary/human.exclude_4.all.adj_var.comb.filt.scoring_dictionary.pickle\")\n",
    "with open(scoring_file, mode = 'rb') as handle:\n",
    "    reads_dict = pickle.load(handle)\n"
   ]
  },
  {
   "cell_type": "code",
   "execution_count": null,
   "metadata": {},
   "outputs": [],
   "source": []
  },
  {
   "cell_type": "code",
   "execution_count": 9,
   "metadata": {},
   "outputs": [
    {
     "name": "stdout",
     "output_type": "stream",
     "text": [
      "(32682, 36)\n"
     ]
    }
   ],
   "source": [
    "with open(os.path.join(DATADIR, 'comprehensive_predictions', 'golden_exhaustive.with_predictions.processed.pickle'), mode = 'rb') as handle:\n",
    "    golden_data = pickle.load(handle)\n",
    "\n",
    "golden_data['pasID']              = golden_data.apply(lambda row: f'{row.name:06d}:{row.chrom}:{row.start}:{row.strand}', axis = 1)\n",
    "golden_data['classificationCLIP'] = golden_data['classification'].clip(lower = 1e-6, upper = 1 - 1e-6)\n",
    "golden_data['classificationLO']   = np.log2(golden_data['classificationCLIP'] / (1 - golden_data['classificationCLIP']))\n",
    "golden_data['ru_overallCLIP']     = golden_data['ru_overall'].clip(lower = 1e-6, upper = 1 - 1e-6)\n",
    "golden_data['ru_overallLO']       = np.log2(golden_data['ru_overallCLIP'] / (1 - golden_data['ru_overallCLIP']))\n",
    "\n",
    "print(golden_data.shape)\n"
   ]
  },
  {
   "cell_type": "code",
   "execution_count": 10,
   "metadata": {},
   "outputs": [
    {
     "name": "stdout",
     "output_type": "stream",
     "text": [
      "(21131, 36)\n"
     ]
    }
   ],
   "source": [
    "cond1 = (golden_data['supporting_reads'] >= 100)\n",
    "cond2 = (golden_data['classification'] > 0.9)\n",
    "cond3 = (golden_data['cleavage_profile'].apply(lambda x : any(x > 0.02)))\n",
    "\n",
    "gold_tpdata = golden_data.loc[cond1 & cond2 & cond3].copy()\n",
    "print(gold_tpdata.shape)\n"
   ]
  },
  {
   "cell_type": "markdown",
   "metadata": {},
   "source": [
    "## High and low entropy examples\n",
    "\n",
    "Example of high and low entropy sites with the 3'READS data and individual renormalized cleavage vector predictions shown to illustrate difference.\n"
   ]
  },
  {
   "cell_type": "code",
   "execution_count": 10,
   "metadata": {},
   "outputs": [],
   "source": [
    "preview_cols = ['chrom','start','strand','gene','supporting_reads','entropy_observed','entropy_redist','entropy_renorm']\n"
   ]
  },
  {
   "cell_type": "markdown",
   "metadata": {},
   "source": [
    "#### Low entropy site in USP30"
   ]
  },
  {
   "cell_type": "code",
   "execution_count": 12,
   "metadata": {},
   "outputs": [
    {
     "data": {
      "text/html": [
       "<div>\n",
       "<style scoped>\n",
       "    .dataframe tbody tr th:only-of-type {\n",
       "        vertical-align: middle;\n",
       "    }\n",
       "\n",
       "    .dataframe tbody tr th {\n",
       "        vertical-align: top;\n",
       "    }\n",
       "\n",
       "    .dataframe thead th {\n",
       "        text-align: right;\n",
       "    }\n",
       "</style>\n",
       "<table border=\"1\" class=\"dataframe\">\n",
       "  <thead>\n",
       "    <tr style=\"text-align: right;\">\n",
       "      <th></th>\n",
       "      <th>chrom</th>\n",
       "      <th>start</th>\n",
       "      <th>strand</th>\n",
       "      <th>gene</th>\n",
       "      <th>supporting_reads</th>\n",
       "      <th>entropy_observed</th>\n",
       "      <th>entropy_redist</th>\n",
       "      <th>entropy_renorm</th>\n",
       "    </tr>\n",
       "  </thead>\n",
       "  <tbody>\n",
       "    <tr>\n",
       "      <td>7922</td>\n",
       "      <td>chr12</td>\n",
       "      <td>109088016</td>\n",
       "      <td>+</td>\n",
       "      <td>USP30</td>\n",
       "      <td>1203</td>\n",
       "      <td>0.141845</td>\n",
       "      <td>2.184201</td>\n",
       "      <td>1.07501</td>\n",
       "    </tr>\n",
       "  </tbody>\n",
       "</table>\n",
       "</div>"
      ],
      "text/plain": [
       "      chrom      start strand   gene  supporting_reads  entropy_observed  \\\n",
       "7922  chr12  109088016      +  USP30              1203          0.141845   \n",
       "\n",
       "      entropy_redist  entropy_renorm  \n",
       "7922        2.184201         1.07501  "
      ]
     },
     "execution_count": 12,
     "metadata": {},
     "output_type": "execute_result"
    }
   ],
   "source": [
    "gold_tpdata.loc[gold_tpdata['gene'] == 'USP30', preview_cols].sort_values(['entropy_renorm']).tail(20)"
   ]
  },
  {
   "cell_type": "code",
   "execution_count": 13,
   "metadata": {},
   "outputs": [
    {
     "name": "stdout",
     "output_type": "stream",
     "text": [
      "chrom                   chr12\n",
      "start               109088016\n",
      "strand                      +\n",
      "gene                    USP30\n",
      "supporting_reads         1203\n",
      "entropy_observed     0.141845\n",
      "entropy_redist         2.1842\n",
      "entropy_renorm        1.07501\n",
      "Name: 7922, dtype: object\n"
     ]
    },
    {
     "data": {
      "image/png": "[encoded data removed]",
      "text/plain": [
       "<Figure size 144x46.8 with 2 Axes>"
      ]
     },
     "metadata": {
      "needs_background": "light"
     },
     "output_type": "display_data"
    }
   ],
   "source": [
    "fig,ax = plt.subplots(2,1, figsize = (2, 0.65), sharex = True)\n",
    "\n",
    "test_idx = 7922\n",
    "test_pos = golden_data.loc[test_idx, 'start']\n",
    "\n",
    "print(golden_data.loc[test_idx, preview_cols])\n",
    "\n",
    "xs = np.arange(-25,25,1)\n",
    "reads_vec = [reads_dict.get((golden_data.loc[test_idx, 'strand'], golden_data.loc[test_idx, 'chrom'], p), 0) for p in np.arange(test_pos-25, test_pos+25, 1)]\n",
    "\n",
    "\n",
    "ax[0].bar(xs, reads_vec, color = 'gray', width = 1)\n",
    "ax[0].text(x = 1.05, y = 0.5, s = round(golden_data.loc[test_idx, 'entropy_observed'],2), \n",
    "           ha = 'left', va = 'center', transform = ax[0].transAxes)\n",
    "\n",
    "ax[0].set_xlim(-25,25)\n",
    "ax[0].xaxis.set_major_locator(MultipleLocator(25))\n",
    "\n",
    "ax[0].set_ylim(0,1205)\n",
    "ax[0].yaxis.set_major_locator(MultipleLocator(1200))\n",
    "\n",
    "ax[0].spines['right'].set_visible(False)\n",
    "ax[0].spines['top'].set_visible(False)\n",
    "\n",
    "\n",
    "ax[1].bar(xs, golden_data.loc[test_idx, 'cleavage_norm'], color = 'gray', width = 1)\n",
    "ax[1].text(x = 1.05, y = 0.5, s = round(golden_data.loc[test_idx, 'entropy_renorm'],2), \n",
    "           ha = 'left', va = 'center', transform = ax[1].transAxes)\n",
    "\n",
    "ax[1].set_ylim(0,0.5)\n",
    "ax[1].yaxis.set_major_locator(MultipleLocator(0.5))\n",
    "\n",
    "ax[1].spines['right'].set_visible(False)\n",
    "ax[1].spines['top'].set_visible(False)\n",
    "\n",
    "plt.savefig(os.path.join(OUTDIR, 'entropy_examples.low.svg'), format = 'svg', dpi = 600, transparent = True)\n",
    "plt.show()\n"
   ]
  },
  {
   "cell_type": "markdown",
   "metadata": {},
   "source": [
    "#### High entropy site in RGMB"
   ]
  },
  {
   "cell_type": "code",
   "execution_count": 14,
   "metadata": {},
   "outputs": [
    {
     "data": {
      "text/html": [
       "<div>\n",
       "<style scoped>\n",
       "    .dataframe tbody tr th:only-of-type {\n",
       "        vertical-align: middle;\n",
       "    }\n",
       "\n",
       "    .dataframe tbody tr th {\n",
       "        vertical-align: top;\n",
       "    }\n",
       "\n",
       "    .dataframe thead th {\n",
       "        text-align: right;\n",
       "    }\n",
       "</style>\n",
       "<table border=\"1\" class=\"dataframe\">\n",
       "  <thead>\n",
       "    <tr style=\"text-align: right;\">\n",
       "      <th></th>\n",
       "      <th>chrom</th>\n",
       "      <th>start</th>\n",
       "      <th>strand</th>\n",
       "      <th>gene</th>\n",
       "      <th>supporting_reads</th>\n",
       "      <th>entropy_observed</th>\n",
       "      <th>entropy_redist</th>\n",
       "      <th>entropy_renorm</th>\n",
       "    </tr>\n",
       "  </thead>\n",
       "  <tbody>\n",
       "    <tr>\n",
       "      <td>25119</td>\n",
       "      <td>chr5</td>\n",
       "      <td>98796492</td>\n",
       "      <td>+</td>\n",
       "      <td>RGMB</td>\n",
       "      <td>12960</td>\n",
       "      <td>1.053026</td>\n",
       "      <td>1.824244</td>\n",
       "      <td>1.846660</td>\n",
       "    </tr>\n",
       "    <tr>\n",
       "      <td>25118</td>\n",
       "      <td>chr5</td>\n",
       "      <td>98794063</td>\n",
       "      <td>+</td>\n",
       "      <td>RGMB</td>\n",
       "      <td>914</td>\n",
       "      <td>2.120370</td>\n",
       "      <td>2.410344</td>\n",
       "      <td>2.869005</td>\n",
       "    </tr>\n",
       "  </tbody>\n",
       "</table>\n",
       "</div>"
      ],
      "text/plain": [
       "      chrom     start strand  gene  supporting_reads  entropy_observed  \\\n",
       "25119  chr5  98796492      +  RGMB             12960          1.053026   \n",
       "25118  chr5  98794063      +  RGMB               914          2.120370   \n",
       "\n",
       "       entropy_redist  entropy_renorm  \n",
       "25119        1.824244        1.846660  \n",
       "25118        2.410344        2.869005  "
      ]
     },
     "execution_count": 14,
     "metadata": {},
     "output_type": "execute_result"
    }
   ],
   "source": [
    "gold_tpdata.loc[gold_tpdata['gene'] == 'RGMB', preview_cols].sort_values(['entropy_renorm']).tail(20)"
   ]
  },
  {
   "cell_type": "code",
   "execution_count": 15,
   "metadata": {},
   "outputs": [
    {
     "name": "stdout",
     "output_type": "stream",
     "text": [
      "chrom                   chr5\n",
      "start               98794063\n",
      "strand                     +\n",
      "gene                    RGMB\n",
      "supporting_reads         914\n",
      "entropy_observed     2.12037\n",
      "entropy_redist       2.41034\n",
      "entropy_renorm       2.86901\n",
      "Name: 25118, dtype: object\n"
     ]
    },
    {
     "data": {
      "image/png": "[encoded data removed]",
      "text/plain": [
       "<Figure size 144x46.8 with 2 Axes>"
      ]
     },
     "metadata": {
      "needs_background": "light"
     },
     "output_type": "display_data"
    }
   ],
   "source": [
    "fig,ax = plt.subplots(2,1, figsize = (2, 0.65), sharex = True)\n",
    "\n",
    "test_idx = 25118\n",
    "test_pos = golden_data.loc[test_idx, 'start']\n",
    "\n",
    "print(golden_data.loc[test_idx, preview_cols])\n",
    "\n",
    "xs = np.arange(-25,25,1)\n",
    "reads_vec = [reads_dict.get((golden_data.loc[test_idx, 'strand'], golden_data.loc[test_idx, 'chrom'], p), 0) for p in np.arange(test_pos-25, test_pos+25, 1)]\n",
    "\n",
    "\n",
    "ax[0].bar(xs, reads_vec, color = 'gray', width = 1)\n",
    "ax[0].text(x = 1.05, y = 0.5, s = round(golden_data.loc[test_idx, 'entropy_observed'],2), \n",
    "           ha = 'left', va = 'center', transform = ax[0].transAxes)\n",
    "\n",
    "ax[0].set_xlim(-25,25)\n",
    "ax[0].xaxis.set_major_locator(MultipleLocator(25))\n",
    "\n",
    "ax[0].set_ylim(0,100)\n",
    "ax[0].yaxis.set_major_locator(MultipleLocator(100))\n",
    "\n",
    "ax[0].spines['right'].set_visible(False)\n",
    "ax[0].spines['top'].set_visible(False)\n",
    "\n",
    "\n",
    "ax[1].bar(xs, golden_data.loc[test_idx, 'cleavage_norm'], color = 'gray', width = 1)\n",
    "ax[1].text(x = 1.05, y = 0.5, s = round(golden_data.loc[test_idx, 'entropy_renorm'],2), \n",
    "           ha = 'left', va = 'center', transform = ax[1].transAxes)\n",
    "\n",
    "ax[1].set_ylim(0,0.12)\n",
    "ax[1].yaxis.set_major_locator(MultipleLocator(0.12))\n",
    "\n",
    "ax[1].spines['right'].set_visible(False)\n",
    "ax[1].spines['top'].set_visible(False)\n",
    "\n",
    "plt.savefig(os.path.join(OUTDIR, 'entropy_examples.high.svg'), format = 'svg', dpi = 600, transparent = True)\n",
    "plt.show()\n"
   ]
  },
  {
   "cell_type": "markdown",
   "metadata": {},
   "source": [
    "#### Compare the observed and predicted cleavage vector entropy values"
   ]
  },
  {
   "cell_type": "code",
   "execution_count": 11,
   "metadata": {},
   "outputs": [
    {
     "name": "stdout",
     "output_type": "stream",
     "text": [
      "NA      17317\n",
      "Low      2031\n",
      "High     1783\n",
      "Name: entropy_group, dtype: int64\n",
      "1    4227\n",
      "5    4226\n",
      "4    4226\n",
      "3    4226\n",
      "2    4226\n",
      "Name: entropy_observed_bins, dtype: int64\n"
     ]
    },
    {
     "data": {
      "image/png": "[encoded data removed]",
      "text/plain": [
       "<Figure size 54x72 with 1 Axes>"
      ]
     },
     "metadata": {
      "needs_background": "light"
     },
     "output_type": "display_data"
    }
   ],
   "source": [
    "x = 'entropy_observed' ## observed\n",
    "y = 'entropy_renorm'   ## predicted\n",
    "\n",
    "cm_ent_lo, cm_ent_hi = np.percentile(gold_tpdata[x], [20,80])\n",
    "cp_ent_lo, cp_ent_hi = np.percentile(gold_tpdata[y], [20,80])\n",
    "\n",
    "gold_tpdata['entropy_group'] = 'NA'\n",
    "gold_tpdata.loc[(gold_tpdata[x] <= cm_ent_lo) & (gold_tpdata[y] <= cp_ent_lo), 'entropy_group'] = 'Low'\n",
    "gold_tpdata.loc[(gold_tpdata[x] >= cm_ent_hi) & (gold_tpdata[y] >= cp_ent_hi), 'entropy_group'] = 'High'\n",
    "print(gold_tpdata['entropy_group'].value_counts())\n",
    "\n",
    "gold_tpdata[f'{x}_bins'] = pd.qcut(gold_tpdata[x], 5, labels = [1,2,3,4,5])\n",
    "gold_tpdata[f'{y}_bins'] = pd.qcut(gold_tpdata[y], 5, labels = [1,2,3,4,5])\n",
    "print(gold_tpdata[f'{x}_bins'].value_counts())\n",
    "\n",
    "\n",
    "fig,ax = plt.subplots(1,1, figsize = (0.75,1))\n",
    "\n",
    "sns.boxplot(data = gold_tpdata, x = f'{x}_bins', y = y, color = 'gray',\n",
    "            boxprops = {'edgecolor' : 'black', 'linewidth' : 0.5},\n",
    "            medianprops = {'color' : 'black', 'linewidth' : 0.5},\n",
    "            whiskerprops = {'color' : 'black', 'linewidth' : 0.5},\n",
    "            capprops = {'color' : 'black', 'linewidth' : 0.5},\n",
    "            flierprops = {'color' : 'black'},\n",
    "            ax = ax, showfliers = False)\n",
    "        \n",
    "ax.set_xlabel(\"Observed Cleavage\\nEntropy Quintiles\")\n",
    "ax.set_ylabel(\"Normalized Predicted\\nCleavage Entropy\")\n",
    "\n",
    "ax.set_ylim( 0.9, 3.1)\n",
    "ax.yaxis.set_major_locator(MultipleLocator(1))\n",
    "\n",
    "ax.spines['right'].set_visible(False)\n",
    "ax.spines['top'].set_visible(False)\n",
    "\n",
    "plt.savefig(os.path.join(OUTDIR, 'entropy_boxplots.svg'), format = 'svg', dpi = 600, transparent = True)\n",
    "plt.show()\n"
   ]
  },
  {
   "cell_type": "markdown",
   "metadata": {},
   "source": [
    "#### Partitioning sites into high and low entropy groups"
   ]
  },
  {
   "cell_type": "code",
   "execution_count": 12,
   "metadata": {},
   "outputs": [
    {
     "name": "stdout",
     "output_type": "stream",
     "text": [
      "NA      17317\n",
      "Low      2031\n",
      "High     1783\n",
      "Name: entropy_group, dtype: int64\n",
      "3814\n"
     ]
    }
   ],
   "source": [
    "cm_ent_lo, cm_ent_hi = np.percentile(gold_tpdata['entropy_observed'], [20,80])\n",
    "cp_ent_lo, cp_ent_hi = np.percentile(gold_tpdata['entropy_renorm'], [20,80])\n",
    "\n",
    "gold_tpdata['entropy_group'] = 'NA'\n",
    "gold_tpdata.loc[(gold_tpdata['entropy_observed'] <= cm_ent_lo) & (gold_tpdata['entropy_renorm'] <= cp_ent_lo), 'entropy_group'] = 'Low'\n",
    "gold_tpdata.loc[(gold_tpdata['entropy_observed'] >= cm_ent_hi) & (gold_tpdata['entropy_renorm'] >= cp_ent_hi), 'entropy_group'] = 'High'\n",
    "\n",
    "print(gold_tpdata['entropy_group'].value_counts())\n",
    "\n",
    "gold_hilo = gold_tpdata.loc[gold_tpdata['entropy_group'].isin(['Low','High']), ['pasID','entropy_group']].copy()\n",
    "\n",
    "with open(os.path.join(CLVMOTDIR, 'cleavage_motifs.entropy_groups.v2.pickle'), mode = 'wb') as handle:\n",
    "    pickle.dump(dict(zip(gold_hilo['pasID'], gold_hilo['entropy_group'])), handle)\n",
    "    \n",
    "print(len(dict(zip(gold_hilo['pasID'], gold_hilo['entropy_group']))))\n",
    "    "
   ]
  },
  {
   "cell_type": "markdown",
   "metadata": {},
   "source": [
    "#### Sites with multiple AAUAAA signals"
   ]
  },
  {
   "cell_type": "code",
   "execution_count": 13,
   "metadata": {},
   "outputs": [
    {
     "name": "stdout",
     "output_type": "stream",
     "text": [
      "AATAAA\tCount\tFraction\n",
      "0\t2473\t0.11703184894231224\n",
      "1\t17152\t0.8116984525105295\n",
      "2\t1416\t0.06701055321565473\n",
      "3\t80\t0.0037859069613364253\n",
      "4\t7\t0.0003312668591169372\n",
      "5\t3\t0.00014197151105011595\n"
     ]
    }
   ],
   "source": [
    "gold_tpdata['count_aataaa'] = gold_tpdata.apply(lambda row: classification_cleavage.count_motifs(row['sequence'][:row['max_cleavage']], ['AATAAA'], method = 'priority', overlapping = False, preference = 'max', count_only = True), axis = 1)\n",
    "gold_tpdata['multiple_aataaa'] = (gold_tpdata['count_aataaa'] > 1)\n",
    "\n",
    "print(\"AATAAA\\tCount\\tFraction\")\n",
    "for z in zip(gold_tpdata['count_aataaa'].value_counts(sort = False).index, gold_tpdata['count_aataaa'].value_counts(sort = False).values, gold_tpdata['count_aataaa'].value_counts(sort = False) / len(gold_tpdata)):\n",
    "    print(\"\\t\".join([str(_) for _ in z]))\n"
   ]
  },
  {
   "cell_type": "code",
   "execution_count": 14,
   "metadata": {},
   "outputs": [
    {
     "data": {
      "text/html": [
       "<div>\n",
       "<style scoped>\n",
       "    .dataframe tbody tr th:only-of-type {\n",
       "        vertical-align: middle;\n",
       "    }\n",
       "\n",
       "    .dataframe tbody tr th {\n",
       "        vertical-align: top;\n",
       "    }\n",
       "\n",
       "    .dataframe thead th {\n",
       "        text-align: right;\n",
       "    }\n",
       "</style>\n",
       "<table border=\"1\" class=\"dataframe\">\n",
       "  <thead>\n",
       "    <tr style=\"text-align: right;\">\n",
       "      <th></th>\n",
       "      <th>entropy_group</th>\n",
       "      <th>count_aataaa</th>\n",
       "      <th>count</th>\n",
       "      <th>prop</th>\n",
       "    </tr>\n",
       "  </thead>\n",
       "  <tbody>\n",
       "    <tr>\n",
       "      <td>0</td>\n",
       "      <td>High</td>\n",
       "      <td>0</td>\n",
       "      <td>185</td>\n",
       "      <td>0.103758</td>\n",
       "    </tr>\n",
       "    <tr>\n",
       "      <td>1</td>\n",
       "      <td>High</td>\n",
       "      <td>1</td>\n",
       "      <td>1383</td>\n",
       "      <td>0.775659</td>\n",
       "    </tr>\n",
       "    <tr>\n",
       "      <td>2</td>\n",
       "      <td>High</td>\n",
       "      <td>2</td>\n",
       "      <td>198</td>\n",
       "      <td>0.111049</td>\n",
       "    </tr>\n",
       "    <tr>\n",
       "      <td>3</td>\n",
       "      <td>High</td>\n",
       "      <td>3</td>\n",
       "      <td>13</td>\n",
       "      <td>0.007291</td>\n",
       "    </tr>\n",
       "    <tr>\n",
       "      <td>4</td>\n",
       "      <td>High</td>\n",
       "      <td>4</td>\n",
       "      <td>3</td>\n",
       "      <td>0.001683</td>\n",
       "    </tr>\n",
       "    <tr>\n",
       "      <td>5</td>\n",
       "      <td>High</td>\n",
       "      <td>5</td>\n",
       "      <td>1</td>\n",
       "      <td>0.000561</td>\n",
       "    </tr>\n",
       "    <tr>\n",
       "      <td>6</td>\n",
       "      <td>Low</td>\n",
       "      <td>0</td>\n",
       "      <td>252</td>\n",
       "      <td>0.124077</td>\n",
       "    </tr>\n",
       "    <tr>\n",
       "      <td>7</td>\n",
       "      <td>Low</td>\n",
       "      <td>1</td>\n",
       "      <td>1687</td>\n",
       "      <td>0.830625</td>\n",
       "    </tr>\n",
       "    <tr>\n",
       "      <td>8</td>\n",
       "      <td>Low</td>\n",
       "      <td>2</td>\n",
       "      <td>89</td>\n",
       "      <td>0.043821</td>\n",
       "    </tr>\n",
       "    <tr>\n",
       "      <td>9</td>\n",
       "      <td>Low</td>\n",
       "      <td>3</td>\n",
       "      <td>3</td>\n",
       "      <td>0.001477</td>\n",
       "    </tr>\n",
       "  </tbody>\n",
       "</table>\n",
       "</div>"
      ],
      "text/plain": [
       "  entropy_group  count_aataaa  count      prop\n",
       "0          High             0    185  0.103758\n",
       "1          High             1   1383  0.775659\n",
       "2          High             2    198  0.111049\n",
       "3          High             3     13  0.007291\n",
       "4          High             4      3  0.001683\n",
       "5          High             5      1  0.000561\n",
       "6           Low             0    252  0.124077\n",
       "7           Low             1   1687  0.830625\n",
       "8           Low             2     89  0.043821\n",
       "9           Low             3      3  0.001477"
      ]
     },
     "execution_count": 14,
     "metadata": {},
     "output_type": "execute_result"
    }
   ],
   "source": [
    "aataaa_counts = (gold_tpdata.loc[gold_tpdata['entropy_group'] != 'NA']\n",
    "                 .groupby(['entropy_group','count_aataaa']).size()\n",
    "                 .reset_index().rename(columns = {0 : 'count'}))\n",
    "\n",
    "aataaa_counts['prop'] = aataaa_counts['count'] / aataaa_counts.groupby('entropy_group')['count'].transform('sum')\n",
    "\n",
    "aataaa_counts\n"
   ]
  },
  {
   "cell_type": "code",
   "execution_count": 18,
   "metadata": {},
   "outputs": [],
   "source": [
    "# gold_tpdata['aataaa_idx'] = gold_tpdata.apply(lambda row: classification_cleavage.count_motifs(row['sequence'][:row['max_cleavage']], ['AATAAA'], method = 'priority', overlapping = False, preference = 'max', count_only = False, index_only = True), axis = 1)\n",
    "gold_tpdata['aataaa_dist'] = gold_tpdata['aataaa_idx'].apply(lambda x : np.abs(np.max(x) - np.min(x)) if (len(x)) else np.nan)\n"
   ]
  },
  {
   "cell_type": "code",
   "execution_count": 30,
   "metadata": {},
   "outputs": [
    {
     "data": {
      "text/plain": [
       "count    1416.000000\n",
       "mean       45.153955\n",
       "std        28.226174\n",
       "min         6.000000\n",
       "25%        18.000000\n",
       "50%        43.000000\n",
       "75%        69.000000\n",
       "max       107.000000\n",
       "Name: aataaa_dist, dtype: float64"
      ]
     },
     "execution_count": 30,
     "metadata": {},
     "output_type": "execute_result"
    }
   ],
   "source": [
    "gold_tpdata.loc[gold_tpdata['count_aataaa'] == 2, 'aataaa_dist'].describe()"
   ]
  },
  {
   "cell_type": "markdown",
   "metadata": {},
   "source": [
    "#### Characterizing high and low entropy sites by motifs present"
   ]
  },
  {
   "cell_type": "code",
   "execution_count": 19,
   "metadata": {},
   "outputs": [
    {
     "name": "stdout",
     "output_type": "stream",
     "text": [
      "Low     2031\n",
      "High    1783\n",
      "Name: entropy_group, dtype: int64\n"
     ]
    }
   ],
   "source": [
    "groups = 'entropy_group'\n",
    "gold_ent_data = gold_tpdata.loc[gold_tpdata[groups] != 'NA'].copy()\n",
    "print(gold_ent_data.entropy_group.value_counts())\n"
   ]
  },
  {
   "cell_type": "code",
   "execution_count": 20,
   "metadata": {},
   "outputs": [
    {
     "name": "stdout",
     "output_type": "stream",
     "text": [
      "               multiple_aataaa  count       prop\n",
      "entropy_group                                   \n",
      "High                     215.0   1783  12.058329\n",
      "Low                       92.0   2031   4.529788\n"
     ]
    },
    {
     "data": {
      "image/png": "[encoded data removed]",
      "text/plain": [
       "<Figure size 54x108 with 1 Axes>"
      ]
     },
     "metadata": {
      "needs_background": "light"
     },
     "output_type": "display_data"
    },
    {
     "name": "stdout",
     "output_type": "stream",
     "text": [
      "Hypothesis test comparing two independent proportions, two-sided, assuming binomial samples:\n",
      "statistic = 8.359459237001975\n",
      "pvalue = 6.300639107554736e-17\n",
      "compare = diff\n",
      "method = agresti-caffo\n",
      "diff = 0.07528540377927873\n",
      "ratio = 2.6620071203882074\n",
      "odds_ratio = 2.8898971273291925\n",
      "variance = 8.106044457565763e-05\n",
      "alternative = two-sided\n",
      "value = 0\n",
      "tuple = (8.359459237001975, 6.300639107554736e-17)\n",
      "               multiple_aataaa  count       prop\n",
      "entropy_group                                   \n",
      "High                     215.0   1783  12.058329\n",
      "Low                       92.0   2031   4.529788\n"
     ]
    }
   ],
   "source": [
    "gold_ent_data['count_aataaa'] = gold_ent_data.apply(lambda row: classification_cleavage.count_motifs(row['sequence'][:row['max_cleavage']], ['AATAAA'], method = 'priority', overlapping = False, preference = 'max', count_only = True), axis = 1)\n",
    "gold_ent_data['multiple_aataaa'] = (gold_ent_data['count_aataaa'] > 1)\n",
    "\n",
    "gold_aataaa_sum = gold_ent_data[['entropy_group', 'multiple_aataaa']].groupby('entropy_group').agg('sum')\n",
    "gold_aataaa_sum['count'] = gold_ent_data.groupby('entropy_group').size()\n",
    "gold_aataaa_sum['prop'] = gold_aataaa_sum['multiple_aataaa'] / gold_aataaa_sum['count'] * 100\n",
    "print(gold_aataaa_sum)\n",
    "\n",
    "\n",
    "fig,ax = plt.subplots(1,1, figsize = (0.75,1.5))\n",
    "\n",
    "sns.barplot(data = gold_aataaa_sum.reset_index(), \n",
    "            x = 'entropy_group', y = 'prop', order = ['Low','High'],\n",
    "            hue = 'entropy_group', hue_order = ['Low','High'], \n",
    "            dodge = False, edgecolor = 'black',\n",
    "            linewidth = 0.5)\n",
    "\n",
    "ax.set_xticklabels(ax.get_xticklabels(), rotation = 45, ha = 'right')\n",
    "\n",
    "ax.set_xlabel(\"Entropy\\ngroup\")\n",
    "ax.set_ylabel(\"Fraction of sites with\\nmultiple AAUAAA (%)\")\n",
    "ax.set_ylim(0,15)\n",
    "\n",
    "ax.yaxis.set_major_locator(MultipleLocator(5))\n",
    "\n",
    "ax.spines['right'].set_visible(False)\n",
    "ax.spines['top'].set_visible(False)\n",
    "\n",
    "ax.get_legend().remove()\n",
    "\n",
    "plt.savefig(os.path.join(OUTDIR, 'upstream_multiple_aataaa_prop.svg'), format = 'svg', dpi = 600, transparent = True)\n",
    "plt.show()\n",
    "\n",
    "\n",
    "\n",
    "## test difference in proportions in region\n",
    "\n",
    "prop_test = test_proportions_2indep(count1 = gold_aataaa_sum.loc['High', 'multiple_aataaa'], nobs1 = gold_aataaa_sum.loc['High', 'count'],\n",
    "                                    count2 = gold_aataaa_sum.loc['Low',  'multiple_aataaa'], nobs2 = gold_aataaa_sum.loc['Low',  'count'])\n",
    "\n",
    "print(\"Hypothesis test comparing two independent proportions, two-sided, assuming binomial samples:\")\n",
    "print(prop_test)\n",
    "print(gold_aataaa_sum)\n"
   ]
  },
  {
   "cell_type": "code",
   "execution_count": 21,
   "metadata": {},
   "outputs": [
    {
     "name": "stdout",
     "output_type": "stream",
     "text": [
      "               multiple_attaaa  count      prop\n",
      "entropy_group                                  \n",
      "High                      18.0   1783  1.009534\n",
      "Low                       16.0   2031  0.787789\n"
     ]
    },
    {
     "data": {
      "image/png": "[encoded data removed]",
      "text/plain": [
       "<Figure size 54x108 with 1 Axes>"
      ]
     },
     "metadata": {
      "needs_background": "light"
     },
     "output_type": "display_data"
    },
    {
     "name": "stdout",
     "output_type": "stream",
     "text": [
      "Hypothesis test comparing two independent proportions, two-sided, assuming binomial samples:\n",
      "statistic = 0.7224838168260356\n",
      "pvalue = 0.46999707148619374\n",
      "compare = diff\n",
      "method = agresti-caffo\n",
      "diff = 0.002217452260572456\n",
      "ratio = 1.281477846326416\n",
      "odds_ratio = 1.2843484419263456\n",
      "variance = 9.978448194471006e-06\n",
      "alternative = two-sided\n",
      "value = 0\n",
      "tuple = (0.7224838168260356, 0.46999707148619374)\n",
      "               multiple_attaaa  count      prop\n",
      "entropy_group                                  \n",
      "High                      18.0   1783  1.009534\n",
      "Low                       16.0   2031  0.787789\n"
     ]
    }
   ],
   "source": [
    "gold_ent_data['count_attaaa'] = gold_ent_data.apply(lambda row: classification_cleavage.count_motifs(row['sequence'][:row['max_cleavage']], ['ATTAAA'], method = 'priority', overlapping = False, preference = 'max', count_only = True), axis = 1)\n",
    "gold_ent_data['multiple_attaaa'] = (gold_ent_data['count_attaaa'] > 1)\n",
    "\n",
    "gold_attaaa_sum = gold_ent_data[['entropy_group', 'multiple_attaaa']].groupby('entropy_group').agg('sum')\n",
    "gold_attaaa_sum['count'] = gold_ent_data.groupby('entropy_group').size()\n",
    "gold_attaaa_sum['prop'] = gold_attaaa_sum['multiple_attaaa'] / gold_attaaa_sum['count'] * 100\n",
    "print(gold_attaaa_sum)\n",
    "\n",
    "\n",
    "fig,ax = plt.subplots(1,1, figsize = (0.75,1.5))\n",
    "\n",
    "sns.barplot(data = gold_attaaa_sum.reset_index(), \n",
    "            x = 'entropy_group', y = 'prop', order = ['Low','High'],\n",
    "            hue = 'entropy_group', hue_order = ['Low','High'], \n",
    "            dodge = False, edgecolor = 'black',\n",
    "            linewidth = 0.5)\n",
    "\n",
    "ax.set_xticklabels(ax.get_xticklabels(), rotation = 45, ha = 'right')\n",
    "\n",
    "ax.set_xlabel(\"Entropy\\ngroup\")\n",
    "ax.set_ylabel(\"Fraction of sites with\\nmultiple AUUAAA (%)\")\n",
    "ax.set_ylim(0,1.2)\n",
    "\n",
    "ax.yaxis.set_major_locator(MultipleLocator(0.4))\n",
    "\n",
    "ax.spines['right'].set_visible(False)\n",
    "ax.spines['top'].set_visible(False)\n",
    "\n",
    "ax.get_legend().remove()\n",
    "\n",
    "plt.savefig(os.path.join(OUTDIR, 'upstream_multiple_attaaa_prop.svg'), format = 'svg', dpi = 600, transparent = True)\n",
    "plt.show()\n",
    "\n",
    "\n",
    "\n",
    "## test difference in proportions in region\n",
    "\n",
    "prop_test = test_proportions_2indep(count1 = gold_attaaa_sum.loc['High', 'multiple_attaaa'], nobs1 = gold_attaaa_sum.loc['High', 'count'],\n",
    "                                    count2 = gold_attaaa_sum.loc['Low',  'multiple_attaaa'], nobs2 = gold_attaaa_sum.loc['Low',  'count'])\n",
    "\n",
    "print(\"Hypothesis test comparing two independent proportions, two-sided, assuming binomial samples:\")\n",
    "print(prop_test)\n",
    "print(gold_attaaa_sum)\n"
   ]
  },
  {
   "cell_type": "code",
   "execution_count": 22,
   "metadata": {},
   "outputs": [
    {
     "name": "stdout",
     "output_type": "stream",
     "text": [
      "               multiple_variants  count       prop\n",
      "entropy_group                                     \n",
      "High                       307.0   1783  17.218172\n",
      "Low                        371.0   2031  18.266864\n"
     ]
    },
    {
     "data": {
      "image/png": "[encoded data removed]",
      "text/plain": [
       "<Figure size 54x108 with 1 Axes>"
      ]
     },
     "metadata": {
      "needs_background": "light"
     },
     "output_type": "display_data"
    },
    {
     "name": "stdout",
     "output_type": "stream",
     "text": [
      "Hypothesis test comparing two independent proportions, two-sided, assuming binomial samples:\n",
      "statistic = -0.8419242918438303\n",
      "pvalue = 0.39983033209024677\n",
      "compare = diff\n",
      "method = agresti-caffo\n",
      "diff = -0.010486919931195465\n",
      "ratio = 0.9425904733685768\n",
      "odds_ratio = 0.9306496029919867\n",
      "variance = 0.00015352254707931106\n",
      "alternative = two-sided\n",
      "value = 0\n",
      "tuple = (-0.8419242918438303, 0.39983033209024677)\n",
      "               multiple_attaaa  count      prop\n",
      "entropy_group                                  \n",
      "High                      18.0   1783  1.009534\n",
      "Low                       16.0   2031  0.787789\n"
     ]
    }
   ],
   "source": [
    "gold_ent_data['count_variants'] = gold_ent_data.apply(lambda row: classification_cleavage.count_motifs(row['sequence'][:row['max_cleavage']], variants, method = 'priority', overlapping = False, preference = 'max', count_only = True), axis = 1)\n",
    "gold_ent_data['multiple_variants'] = (gold_ent_data['count_variants'] > 1)\n",
    "\n",
    "gold_variant_sum = gold_ent_data[['entropy_group', 'multiple_variants']].groupby('entropy_group').agg('sum')\n",
    "gold_variant_sum['count'] = gold_ent_data.groupby('entropy_group').size()\n",
    "gold_variant_sum['prop'] = gold_variant_sum['multiple_variants'] / gold_variant_sum['count'] * 100\n",
    "print(gold_variant_sum)\n",
    "\n",
    "\n",
    "fig,ax = plt.subplots(1,1, figsize = (0.75,1.5))\n",
    "\n",
    "sns.barplot(data = gold_variant_sum.reset_index(), \n",
    "            x = 'entropy_group', y = 'prop', order = ['Low','High'],\n",
    "            hue = 'entropy_group', hue_order = ['Low','High'], \n",
    "            dodge = False, edgecolor = 'black',\n",
    "            linewidth = 0.5)\n",
    "\n",
    "ax.set_xticklabels(ax.get_xticklabels(), rotation = 45, ha = 'right')\n",
    "\n",
    "ax.set_xlabel(\"Entropy\\ngroup\")\n",
    "ax.set_ylabel(\"Fraction of sites with\\nmultiple variant PAS (%)\")\n",
    "ax.set_ylim(0,20)\n",
    "\n",
    "ax.yaxis.set_major_locator(MultipleLocator(5))\n",
    "\n",
    "ax.spines['right'].set_visible(False)\n",
    "ax.spines['top'].set_visible(False)\n",
    "\n",
    "ax.get_legend().remove()\n",
    "\n",
    "plt.savefig(os.path.join(OUTDIR, 'upstream_multiple_variant_prop.svg'), format = 'svg', dpi = 600, transparent = True)\n",
    "plt.show()\n",
    "\n",
    "\n",
    "\n",
    "## test difference in proportions in region\n",
    "\n",
    "prop_test = test_proportions_2indep(count1 = gold_variant_sum.loc['High', 'multiple_variants'], nobs1 = gold_variant_sum.loc['High', 'count'],\n",
    "                                    count2 = gold_variant_sum.loc['Low',  'multiple_variants'], nobs2 = gold_variant_sum.loc['Low',  'count'])\n",
    "\n",
    "print(\"Hypothesis test comparing two independent proportions, two-sided, assuming binomial samples:\")\n",
    "print(prop_test)\n",
    "print(gold_attaaa_sum)\n"
   ]
  },
  {
   "cell_type": "code",
   "execution_count": 23,
   "metadata": {},
   "outputs": [
    {
     "name": "stdout",
     "output_type": "stream",
     "text": [
      "               multiple_arich  count       prop\n",
      "entropy_group                                  \n",
      "High                    727.0   1783  40.773976\n",
      "Low                     737.0   2031  36.287543\n"
     ]
    },
    {
     "data": {
      "image/png": "[encoded data removed]",
      "text/plain": [
       "<Figure size 54x108 with 1 Axes>"
      ]
     },
     "metadata": {
      "needs_background": "light"
     },
     "output_type": "display_data"
    },
    {
     "name": "stdout",
     "output_type": "stream",
     "text": [
      "Hypothesis test comparing two independent proportions, two-sided, assuming binomial samples:\n",
      "statistic = 2.840945240088234\n",
      "pvalue = 0.004498003528199852\n",
      "compare = diff\n",
      "method = agresti-caffo\n",
      "diff = 0.04486433361969672\n",
      "ratio = 1.1236356330822308\n",
      "odds_ratio = 1.208752210024259\n",
      "variance = 0.00024903830409186994\n",
      "alternative = two-sided\n",
      "value = 0\n",
      "tuple = (2.840945240088234, 0.004498003528199852)\n",
      "               multiple_arich  count       prop\n",
      "entropy_group                                  \n",
      "High                    727.0   1783  40.773976\n",
      "Low                     737.0   2031  36.287543\n"
     ]
    }
   ],
   "source": [
    "gold_ent_data['count_arich']  = gold_ent_data.apply(lambda row: classification_cleavage.count_motifs(row['sequence'][:row['max_cleavage']], a_rich,  method = 'sequential', overlapping = False, preference = 'max', count_only = True), axis = 1)\n",
    "gold_ent_data['multiple_arich'] = (gold_ent_data['count_arich'] > 1)\n",
    "\n",
    "gold_arich_sum = gold_ent_data[['entropy_group', 'multiple_arich']].groupby('entropy_group').agg('sum')\n",
    "gold_arich_sum['count'] = gold_ent_data.groupby('entropy_group').size()\n",
    "gold_arich_sum['prop'] = gold_arich_sum['multiple_arich'] / gold_arich_sum['count'] * 100\n",
    "print(gold_arich_sum)\n",
    "\n",
    "\n",
    "fig,ax = plt.subplots(1,1, figsize = (0.75,1.5))\n",
    "\n",
    "sns.barplot(data = gold_arich_sum.reset_index(), \n",
    "            x = 'entropy_group', y = 'prop', order = ['Low','High'],\n",
    "            hue = 'entropy_group', hue_order = ['Low','High'], \n",
    "            dodge = False, edgecolor = 'black',\n",
    "            linewidth = 0.5)\n",
    "\n",
    "ax.set_xticklabels(ax.get_xticklabels(), rotation = 45, ha = 'right')\n",
    "\n",
    "ax.set_xlabel(\"Entropy\\ngroup\")\n",
    "ax.set_ylabel(\"Fraction of sites with\\nmultiple A-rich motifs (%)\")\n",
    "ax.set_ylim(0,50)\n",
    "\n",
    "ax.yaxis.set_major_locator(MultipleLocator(10))\n",
    "\n",
    "ax.spines['right'].set_visible(False)\n",
    "ax.spines['top'].set_visible(False)\n",
    "\n",
    "ax.get_legend().remove()\n",
    "\n",
    "plt.savefig(os.path.join(OUTDIR, 'upstream_multiple_arich_prop.svg'), format = 'svg', dpi = 600, transparent = True)\n",
    "plt.show()\n",
    "\n",
    "\n",
    "\n",
    "## test difference in proportions in region\n",
    "\n",
    "prop_test = test_proportions_2indep(count1 = gold_arich_sum.loc['High', 'multiple_arich'], nobs1 = gold_arich_sum.loc['High', 'count'],\n",
    "                                    count2 = gold_arich_sum.loc['Low',  'multiple_arich'], nobs2 = gold_arich_sum.loc['Low',  'count'])\n",
    "\n",
    "print(\"Hypothesis test comparing two independent proportions, two-sided, assuming binomial samples:\")\n",
    "print(prop_test)\n",
    "print(gold_arich_sum)\n"
   ]
  },
  {
   "cell_type": "code",
   "execution_count": 52,
   "metadata": {},
   "outputs": [
    {
     "name": "stdout",
     "output_type": "stream",
     "text": [
      "               multiple_pas  count       prop\n",
      "entropy_group                                \n",
      "High                  981.0   1783  55.019630\n",
      "Low                  1007.0   2031  49.581487\n"
     ]
    },
    {
     "data": {
      "image/png": "[encoded data removed]",
      "text/plain": [
       "<Figure size 54x108 with 1 Axes>"
      ]
     },
     "metadata": {
      "needs_background": "light"
     },
     "output_type": "display_data"
    },
    {
     "name": "stdout",
     "output_type": "stream",
     "text": [
      "Hypothesis test comparing two independent proportions, two-sided, assuming binomial samples:\n",
      "statistic = 3.358467517698506\n",
      "pvalue = 0.0007837593195968228\n",
      "compare = diff\n",
      "method = agresti-caffo\n",
      "diff = 0.05438142885112501\n",
      "ratio = 1.1096809155875222\n",
      "odds_ratio = 1.243841736275003\n",
      "variance = 0.0002616099852091278\n",
      "alternative = two-sided\n",
      "value = 0\n",
      "tuple = (3.358467517698506, 0.0007837593195968228)\n",
      "               multiple_pas  count       prop\n",
      "entropy_group                                \n",
      "High                  981.0   1783  55.019630\n",
      "Low                  1007.0   2031  49.581487\n"
     ]
    }
   ],
   "source": [
    "gold_ent_data['count_pas'] = gold_ent_data.apply(lambda row: classification_cleavage.count_motifs(row['sequence'][:row['max_cleavage']], ['AATAAA','ATTAAA']+variants, method = 'priority', overlapping = False, preference = 'max', count_only = True), axis = 1)\n",
    "gold_ent_data['multiple_pas'] = (gold_ent_data['count_pas'] > 1)\n",
    "\n",
    "gold_pas_sum = gold_ent_data[['entropy_group', 'multiple_pas']].groupby('entropy_group').agg('sum')\n",
    "gold_pas_sum['count'] = gold_ent_data.groupby('entropy_group').size()\n",
    "gold_pas_sum['prop'] = gold_pas_sum['multiple_pas'] / gold_pas_sum['count'] * 100\n",
    "print(gold_pas_sum)\n",
    "\n",
    "\n",
    "fig,ax = plt.subplots(1,1, figsize = (0.75,1.5))\n",
    "\n",
    "sns.barplot(data = gold_pas_sum.reset_index(), \n",
    "            x = 'entropy_group', y = 'prop', order = ['Low','High'],\n",
    "            hue = 'entropy_group', hue_order = ['Low','High'], \n",
    "            dodge = False, edgecolor = 'black',\n",
    "            linewidth = 0.5)\n",
    "\n",
    "ax.set_xticklabels(ax.get_xticklabels(), rotation = 45, ha = 'right')\n",
    "\n",
    "ax.set_xlabel(\"Entropy\\ngroup\")\n",
    "ax.set_ylabel(\"Fraction of sites with\\nmultiple PAS (%)\")\n",
    "ax.set_ylim(0,60)\n",
    "\n",
    "ax.yaxis.set_major_locator(MultipleLocator(20))\n",
    "\n",
    "ax.spines['right'].set_visible(False)\n",
    "ax.spines['top'].set_visible(False)\n",
    "\n",
    "ax.get_legend().remove()\n",
    "\n",
    "plt.savefig(os.path.join(OUTDIR, 'upstream_multiple_pas_prop.svg'), format = 'svg', dpi = 600, transparent = True)\n",
    "plt.show()\n",
    "\n",
    "\n",
    "\n",
    "## test difference in proportions in region\n",
    "\n",
    "prop_test = test_proportions_2indep(count1 = gold_pas_sum.loc['High', 'multiple_pas'], nobs1 = gold_pas_sum.loc['High', 'count'],\n",
    "                                    count2 = gold_pas_sum.loc['Low',  'multiple_pas'], nobs2 = gold_pas_sum.loc['Low',  'count'])\n",
    "\n",
    "print(\"Hypothesis test comparing two independent proportions, two-sided, assuming binomial samples:\")\n",
    "print(prop_test)\n",
    "print(gold_pas_sum)\n"
   ]
  },
  {
   "cell_type": "code",
   "execution_count": 25,
   "metadata": {},
   "outputs": [
    {
     "name": "stdout",
     "output_type": "stream",
     "text": [
      "               multiple_trich  count       prop\n",
      "entropy_group                                  \n",
      "High                    791.0   1783  44.363432\n",
      "Low                     867.0   2031  42.688331\n"
     ]
    },
    {
     "data": {
      "image/png": "[encoded data removed]",
      "text/plain": [
       "<Figure size 54x108 with 1 Axes>"
      ]
     },
     "metadata": {
      "needs_background": "light"
     },
     "output_type": "display_data"
    },
    {
     "name": "stdout",
     "output_type": "stream",
     "text": [
      "Hypothesis test comparing two independent proportions, two-sided, assuming binomial samples:\n",
      "statistic = 1.0410628402354205\n",
      "pvalue = 0.2978463843538085\n",
      "compare = diff\n",
      "method = agresti-caffo\n",
      "diff = 0.016751015457823815\n",
      "ratio = 1.0392402680447983\n",
      "odds_ratio = 1.0705296350039066\n",
      "variance = 0.00025862664061586296\n",
      "alternative = two-sided\n",
      "value = 0\n",
      "tuple = (1.0410628402354205, 0.2978463843538085)\n",
      "               multiple_trich  count       prop\n",
      "entropy_group                                  \n",
      "High                    791.0   1783  44.363432\n",
      "Low                     867.0   2031  42.688331\n"
     ]
    }
   ],
   "source": [
    "gold_ent_data['count_trich']  = gold_ent_data.apply(lambda row: classification_cleavage.count_motifs(row['sequence'][row['max_cleavage']:], t_rich,  method = 'sequential', overlapping = False, preference = 'min', count_only = True), axis = 1)\n",
    "gold_ent_data['multiple_trich'] = (gold_ent_data['count_trich'] > 1)\n",
    "\n",
    "gold_trich_sum = gold_ent_data[['entropy_group', 'multiple_trich']].groupby('entropy_group').agg('sum')\n",
    "gold_trich_sum['count'] = gold_ent_data.groupby('entropy_group').size()\n",
    "gold_trich_sum['prop'] = gold_trich_sum['multiple_trich'] / gold_trich_sum['count'] * 100\n",
    "print(gold_trich_sum)\n",
    "\n",
    "\n",
    "fig,ax = plt.subplots(1,1, figsize = (0.75,1.5))\n",
    "\n",
    "sns.barplot(data = gold_trich_sum.reset_index(), \n",
    "            x = 'entropy_group', y = 'prop', order = ['Low','High'],\n",
    "            hue = 'entropy_group', hue_order = ['Low','High'], \n",
    "            dodge = False, edgecolor = 'black',\n",
    "            linewidth = 0.5)\n",
    "\n",
    "ax.set_xticklabels(ax.get_xticklabels(), rotation = 45, ha = 'right')\n",
    "\n",
    "ax.set_xlabel(\"Entropy\\ngroup\")\n",
    "ax.set_ylabel(\"Fraction of sites with\\nmultiple U-rich motifs (%)\")\n",
    "ax.set_ylim(0,50)\n",
    "\n",
    "ax.yaxis.set_major_locator(MultipleLocator(10))\n",
    "\n",
    "ax.spines['right'].set_visible(False)\n",
    "ax.spines['top'].set_visible(False)\n",
    "\n",
    "ax.get_legend().remove()\n",
    "\n",
    "plt.savefig(os.path.join(OUTDIR, 'upstream_multiple_trich_prop.svg'), format = 'svg', dpi = 600, transparent = True)\n",
    "plt.show()\n",
    "\n",
    "\n",
    "\n",
    "## test difference in proportions in region\n",
    "\n",
    "prop_test = test_proportions_2indep(count1 = gold_trich_sum.loc['High', 'multiple_trich'], nobs1 = gold_trich_sum.loc['High', 'count'],\n",
    "                                    count2 = gold_trich_sum.loc['Low',  'multiple_trich'], nobs2 = gold_trich_sum.loc['Low',  'count'])\n",
    "\n",
    "print(\"Hypothesis test comparing two independent proportions, two-sided, assuming binomial samples:\")\n",
    "print(prop_test)\n",
    "print(gold_trich_sum)\n"
   ]
  },
  {
   "cell_type": "code",
   "execution_count": 26,
   "metadata": {},
   "outputs": [
    {
     "name": "stdout",
     "output_type": "stream",
     "text": [
      "               multiple_gtrich  count       prop\n",
      "entropy_group                                   \n",
      "High                    1231.0   1783  69.040942\n",
      "Low                     1412.0   2031  69.522403\n"
     ]
    },
    {
     "data": {
      "image/png": "[encoded data removed]",
      "text/plain": [
       "<Figure size 54x108 with 1 Axes>"
      ]
     },
     "metadata": {
      "needs_background": "light"
     },
     "output_type": "display_data"
    },
    {
     "name": "stdout",
     "output_type": "stream",
     "text": [
      "Hypothesis test comparing two independent proportions, two-sided, assuming binomial samples:\n",
      "statistic = -0.3230748917160838\n",
      "pvalue = 0.7466385249875609\n",
      "compare = diff\n",
      "method = agresti-caffo\n",
      "diff = -0.004814605250694992\n",
      "ratio = 0.9930747427307638\n",
      "odds_ratio = 0.9776309171901301\n",
      "variance = 0.00022405112808339896\n",
      "alternative = two-sided\n",
      "value = 0\n",
      "tuple = (-0.3230748917160838, 0.7466385249875609)\n",
      "               multiple_gtrich  count       prop\n",
      "entropy_group                                   \n",
      "High                    1231.0   1783  69.040942\n",
      "Low                     1412.0   2031  69.522403\n"
     ]
    }
   ],
   "source": [
    "gold_ent_data['count_gtrich'] = gold_ent_data.apply(lambda row: classification_cleavage.count_motifs(row['sequence'][row['max_cleavage']:], gt_rich, method = 'sequential', overlapping = False, preference = 'min', count_only = True), axis = 1)\n",
    "gold_ent_data['multiple_gtrich'] = (gold_ent_data['count_gtrich'] > 1)\n",
    "\n",
    "gold_gtrich_sum = gold_ent_data[['entropy_group', 'multiple_gtrich']].groupby('entropy_group').agg('sum')\n",
    "gold_gtrich_sum['count'] = gold_ent_data.groupby('entropy_group').size()\n",
    "gold_gtrich_sum['prop'] = gold_gtrich_sum['multiple_gtrich'] / gold_gtrich_sum['count'] * 100\n",
    "print(gold_gtrich_sum)\n",
    "\n",
    "\n",
    "fig,ax = plt.subplots(1,1, figsize = (0.75,1.5))\n",
    "\n",
    "sns.barplot(data = gold_gtrich_sum.reset_index(), \n",
    "            x = 'entropy_group', y = 'prop', order = ['Low','High'],\n",
    "            hue = 'entropy_group', hue_order = ['Low','High'], \n",
    "            dodge = False, edgecolor = 'black',\n",
    "            linewidth = 0.5)\n",
    "\n",
    "ax.set_xticklabels(ax.get_xticklabels(), rotation = 45, ha = 'right')\n",
    "\n",
    "ax.set_xlabel(\"Entropy\\ngroup\")\n",
    "ax.set_ylabel(\"Fraction of sites with\\nmultiple GU/CU-rich motifs (%)\")\n",
    "ax.set_ylim(0,75)\n",
    "\n",
    "ax.yaxis.set_major_locator(MultipleLocator(25))\n",
    "\n",
    "ax.spines['right'].set_visible(False)\n",
    "ax.spines['top'].set_visible(False)\n",
    "\n",
    "ax.get_legend().remove()\n",
    "\n",
    "plt.savefig(os.path.join(OUTDIR, 'upstream_multiple_gtrich_prop.svg'), format = 'svg', dpi = 600, transparent = True)\n",
    "plt.show()\n",
    "\n",
    "\n",
    "\n",
    "## test difference in proportions in region\n",
    "\n",
    "prop_test = test_proportions_2indep(count1 = gold_gtrich_sum.loc['High', 'multiple_gtrich'], nobs1 = gold_gtrich_sum.loc['High', 'count'],\n",
    "                                    count2 = gold_gtrich_sum.loc['Low',  'multiple_gtrich'], nobs2 = gold_gtrich_sum.loc['Low',  'count'])\n",
    "\n",
    "print(\"Hypothesis test comparing two independent proportions, two-sided, assuming binomial samples:\")\n",
    "print(prop_test)\n",
    "print(gold_gtrich_sum)\n"
   ]
  },
  {
   "cell_type": "code",
   "execution_count": 51,
   "metadata": {},
   "outputs": [
    {
     "name": "stdout",
     "output_type": "stream",
     "text": [
      "               multiple_grich  count      prop\n",
      "entropy_group                                 \n",
      "High                    161.0   1783  9.029725\n",
      "Low                     200.0   2031  9.847366\n"
     ]
    },
    {
     "data": {
      "image/png": "[encoded data removed]",
      "text/plain": [
       "<Figure size 54x108 with 1 Axes>"
      ]
     },
     "metadata": {
      "needs_background": "light"
     },
     "output_type": "display_data"
    },
    {
     "name": "stdout",
     "output_type": "stream",
     "text": [
      "Hypothesis test comparing two independent proportions, two-sided, assuming binomial samples:\n",
      "statistic = -0.854865671441338\n",
      "pvalue = 0.3926255169804663\n",
      "compare = diff\n",
      "method = agresti-caffo\n",
      "diff = -0.0081764064736351\n",
      "ratio = 0.9169685922602355\n",
      "odds_ratio = 0.9087268803945746\n",
      "variance = 9.005320079721147e-05\n",
      "alternative = two-sided\n",
      "value = 0\n",
      "tuple = (-0.854865671441338, 0.3926255169804663)\n",
      "               multiple_grich  count      prop\n",
      "entropy_group                                 \n",
      "High                    161.0   1783  9.029725\n",
      "Low                     200.0   2031  9.847366\n"
     ]
    }
   ],
   "source": [
    "gold_ent_data['count_grich'] = gold_ent_data.apply(lambda row: classification_cleavage.count_motifs(row['sequence'][row['max_cleavage']:], g_rich, method = 'sequential', overlapping = False, preference = 'min', count_only = True), axis = 1)\n",
    "gold_ent_data['multiple_grich'] = (gold_ent_data['count_grich'] > 1)\n",
    "\n",
    "gold_grich_sum = gold_ent_data[['entropy_group', 'multiple_grich']].groupby('entropy_group').agg('sum')\n",
    "gold_grich_sum['count'] = gold_ent_data.groupby('entropy_group').size()\n",
    "gold_grich_sum['prop'] = gold_grich_sum['multiple_grich'] / gold_grich_sum['count'] * 100\n",
    "print(gold_grich_sum)\n",
    "\n",
    "\n",
    "fig,ax = plt.subplots(1,1, figsize = (0.75,1.5))\n",
    "\n",
    "sns.barplot(data = gold_grich_sum.reset_index(), \n",
    "            x = 'entropy_group', y = 'prop', order = ['Low','High'],\n",
    "            hue = 'entropy_group', hue_order = ['Low','High'], \n",
    "            dodge = False, edgecolor = 'black',\n",
    "            linewidth = 0.5)\n",
    "\n",
    "ax.set_xticklabels(ax.get_xticklabels(), rotation = 45, ha = 'right')\n",
    "\n",
    "ax.set_xlabel(\"Entropy\\ngroup\")\n",
    "ax.set_ylabel(\"Fraction of sites with\\nmultiple G-rich motifs (%)\")\n",
    "ax.set_ylim(0,10)\n",
    "\n",
    "ax.yaxis.set_major_locator(MultipleLocator(5))\n",
    "\n",
    "ax.spines['right'].set_visible(False)\n",
    "ax.spines['top'].set_visible(False)\n",
    "\n",
    "ax.get_legend().remove()\n",
    "\n",
    "plt.savefig(os.path.join(OUTDIR, 'upstream_multiple_grich_prop.svg'), format = 'svg', dpi = 600, transparent = True)\n",
    "plt.show()\n",
    "\n",
    "\n",
    "\n",
    "## test difference in proportions in region\n",
    "\n",
    "prop_test = test_proportions_2indep(count1 = gold_grich_sum.loc['High', 'multiple_grich'], nobs1 = gold_grich_sum.loc['High', 'count'],\n",
    "                                    count2 = gold_grich_sum.loc['Low',  'multiple_grich'], nobs2 = gold_grich_sum.loc['Low',  'count'])\n",
    "\n",
    "print(\"Hypothesis test comparing two independent proportions, two-sided, assuming binomial samples:\")\n",
    "print(prop_test)\n",
    "print(gold_grich_sum)\n"
   ]
  },
  {
   "cell_type": "markdown",
   "metadata": {},
   "source": [
    "#### Splitting sites by entropy and the presence of multiple AAUAAA signals"
   ]
  },
  {
   "cell_type": "code",
   "execution_count": 28,
   "metadata": {},
   "outputs": [
    {
     "data": {
      "text/plain": [
       "Low              2031\n",
       "High_single      1383\n",
       "High_multiple     215\n",
       "High_none         185\n",
       "Name: category_aataaa, dtype: int64"
      ]
     },
     "execution_count": 28,
     "metadata": {},
     "output_type": "execute_result"
    }
   ],
   "source": [
    "gold_ent_data['category_aataaa'] = 'NA'\n",
    "\n",
    "gold_ent_data.loc[gold_ent_data['entropy_group'] == 'Low', 'category_aataaa'] = 'Low'\n",
    "gold_ent_data.loc[(gold_ent_data['entropy_group'] == 'High') & (gold_ent_data['count_aataaa'] == 0), 'category_aataaa'] = 'High_none'\n",
    "gold_ent_data.loc[(gold_ent_data['entropy_group'] == 'High') & (gold_ent_data['count_aataaa'] == 1), 'category_aataaa'] = 'High_single'\n",
    "gold_ent_data.loc[(gold_ent_data['entropy_group'] == 'High') & (gold_ent_data['count_aataaa'] > 1), 'category_aataaa'] = 'High_multiple'\n",
    "\n",
    "gold_ent_data['category_aataaa'].value_counts()\n"
   ]
  },
  {
   "cell_type": "code",
   "execution_count": 29,
   "metadata": {},
   "outputs": [
    {
     "data": {
      "text/plain": [
       "Low              2031\n",
       "High_single      1383\n",
       "High_multiple     215\n",
       "High_none         185\n",
       "Name: category_aataaa, dtype: int64"
      ]
     },
     "execution_count": 29,
     "metadata": {},
     "output_type": "execute_result"
    }
   ],
   "source": [
    "gold_ent_data['category_aataaa'] = 'NA'\n",
    "\n",
    "gold_ent_data.loc[gold_ent_data['entropy_group'] == 'Low', 'category_aataaa'] = 'Low'\n",
    "gold_ent_data.loc[(gold_ent_data['entropy_group'] == 'High') & (gold_ent_data['count_aataaa'] == 0), 'category_aataaa'] = 'High_none'\n",
    "gold_ent_data.loc[(gold_ent_data['entropy_group'] == 'High') & (gold_ent_data['count_aataaa'] == 1), 'category_aataaa'] = 'High_single'\n",
    "gold_ent_data.loc[(gold_ent_data['entropy_group'] == 'High') & (gold_ent_data['count_aataaa'] > 1), 'category_aataaa'] = 'High_multiple'\n",
    "\n",
    "gold_ent_data['category_aataaa'].value_counts()\n"
   ]
  },
  {
   "cell_type": "markdown",
   "metadata": {},
   "source": [
    "#### PolyaID classification by entropy group"
   ]
  },
  {
   "cell_type": "code",
   "execution_count": 30,
   "metadata": {},
   "outputs": [
    {
     "data": {
      "image/png": "[encoded data removed]",
      "text/plain": [
       "<Figure size 54x108 with 1 Axes>"
      ]
     },
     "metadata": {
      "needs_background": "light"
     },
     "output_type": "display_data"
    },
    {
     "name": "stdout",
     "output_type": "stream",
     "text": [
      "Corresponding statistics:\n",
      "Low vs High (single)-\t RanksumsResult(statistic=-0.6681303115930599, pvalue=0.5040504146004375)\n"
     ]
    }
   ],
   "source": [
    "fig,ax = plt.subplots(1,1, figsize = (0.75,1.5))\n",
    "\n",
    "sns.boxplot(data = gold_ent_data, x = 'category_aataaa', y = 'classificationLO', \n",
    "            order = ['Low','High_single'],\n",
    "            fliersize = 0.2,\n",
    "            boxprops = {'edgecolor' : 'black', 'linewidth' : 0.5},\n",
    "            medianprops = {'color' : 'black', 'linewidth' : 0.5},\n",
    "            whiskerprops = {'color' : 'black', 'linewidth' : 0.5},\n",
    "            capprops = {'color' : 'black', 'linewidth' : 0.5},\n",
    "            flierprops = {'color' : 'black'},\n",
    "            ax = ax)\n",
    "\n",
    "ax.set_xlabel(\"Entropy\\nGroup\")\n",
    "ax.set_ylabel(\"Log-Odds Classification\")\n",
    "\n",
    "ax.set_ylim((0,20))\n",
    "\n",
    "ax.set_xticklabels(ax.get_xticklabels(), rotation = 45, ha = 'right')\n",
    "\n",
    "ax.spines['right'].set_visible(False)\n",
    "ax.spines['top'].set_visible(False)\n",
    "\n",
    "plt.savefig(os.path.join(OUTDIR, 'classification_logodds_boxplot.svg'), format = 'svg', dpi = 600, transparent = True)\n",
    "plt.show()\n",
    "\n",
    "\n",
    "print(\"Corresponding statistics:\")\n",
    "print(\"Low vs High (single)-\\t\",\n",
    "      st.ranksums(gold_ent_data.loc[gold_ent_data['category_aataaa'] == 'Low', 'classificationLO'],\n",
    "                  gold_ent_data.loc[gold_ent_data['category_aataaa'] == 'High_single', 'classificationLO']))\n"
   ]
  },
  {
   "cell_type": "markdown",
   "metadata": {},
   "source": [
    "#### PolyaStrength score by entropy group"
   ]
  },
  {
   "cell_type": "code",
   "execution_count": 31,
   "metadata": {},
   "outputs": [
    {
     "data": {
      "image/png": "[encoded data removed]",
      "text/plain": [
       "<Figure size 54x108 with 1 Axes>"
      ]
     },
     "metadata": {
      "needs_background": "light"
     },
     "output_type": "display_data"
    },
    {
     "name": "stdout",
     "output_type": "stream",
     "text": [
      "Corresponding statistics:\n",
      "Low vs High (single)-\t RanksumsResult(statistic=21.27662568896687, pvalue=1.86920196365014e-100)\n"
     ]
    }
   ],
   "source": [
    "fig,ax = plt.subplots(1,1, figsize = (0.75,1.5))\n",
    "\n",
    "sns.boxplot(data = gold_ent_data, x = 'category_aataaa', y = 'strength', \n",
    "            order = ['Low','High_single'],\n",
    "            fliersize = 0.2,\n",
    "            boxprops = {'edgecolor' : 'black', 'linewidth' : 0.5},\n",
    "            medianprops = {'color' : 'black', 'linewidth' : 0.5},\n",
    "            whiskerprops = {'color' : 'black', 'linewidth' : 0.5},\n",
    "            capprops = {'color' : 'black', 'linewidth' : 0.5},\n",
    "            flierprops = {'color' : 'black'},\n",
    "            ax = ax)\n",
    "\n",
    "ax.set_xlabel(\"Entropy\\nGroup\")\n",
    "ax.set_ylabel(\"Predicted Strength\")\n",
    "\n",
    "ax.set_ylim((-12,12))\n",
    "ax.yaxis.set_major_locator(MultipleLocator(6))\n",
    "\n",
    "ax.set_xticklabels(ax.get_xticklabels(), rotation = 45, ha = 'right')\n",
    "\n",
    "ax.spines['right'].set_visible(False)\n",
    "ax.spines['top'].set_visible(False)\n",
    "\n",
    "plt.savefig(os.path.join(OUTDIR, 'strength_boxplot.svg'), format = 'svg', dpi = 600, transparent = True)\n",
    "plt.show()\n",
    "\n",
    "\n",
    "print(\"Corresponding statistics:\")\n",
    "print(\"Low vs High (single)-\\t\",\n",
    "      st.ranksums(gold_ent_data.loc[gold_ent_data['category_aataaa'] == 'Low', 'strength'],\n",
    "                  gold_ent_data.loc[gold_ent_data['category_aataaa'] == 'High_single', 'strength']))\n"
   ]
  },
  {
   "cell_type": "markdown",
   "metadata": {},
   "source": [
    "### Motif Enrichment by Region"
   ]
  },
  {
   "cell_type": "markdown",
   "metadata": {},
   "source": [
    "#### Prepare Data for Enrichment"
   ]
  },
  {
   "cell_type": "code",
   "execution_count": 32,
   "metadata": {},
   "outputs": [
    {
     "name": "stdout",
     "output_type": "stream",
     "text": [
      "Low     1687\n",
      "High    1383\n",
      "Name: entropy_group, dtype: int64\n",
      "3070\n"
     ]
    }
   ],
   "source": [
    "gold_hilo_single = gold_ent_data.loc[gold_ent_data['count_aataaa'] == 1, ['pasID','entropy_group']].copy()\n",
    "print(gold_hilo_single.entropy_group.value_counts())\n",
    "\n",
    "with open(os.path.join(PROJECT,'model','motif_analysis','cleavage_motifs','cleavage_motifs.single.entropy_groups.v2.pickle'), mode = 'wb') as handle:\n",
    "    pickle.dump(dict(zip(gold_hilo_single['pasID'], gold_hilo_single['entropy_group'])), handle)\n",
    "    \n",
    "print(len(dict(zip(gold_hilo_single['pasID'], gold_hilo_single['entropy_group']))))\n",
    "    "
   ]
  },
  {
   "cell_type": "markdown",
   "metadata": {},
   "source": [
    "#### Enrichment Results"
   ]
  },
  {
   "cell_type": "code",
   "execution_count": 33,
   "metadata": {
    "scrolled": false
   },
   "outputs": [
    {
     "name": "stdout",
     "output_type": "stream",
     "text": [
      "\n",
      "Region: (-120, -30)\n"
     ]
    },
    {
     "name": "stderr",
     "output_type": "stream",
     "text": [
      "/home/esk863/.local/lib/python3.6/site-packages/pandas/core/series.py:853: RuntimeWarning: divide by zero encountered in log2\n",
      "  result = getattr(ufunc, method)(*inputs, **kwargs)\n"
     ]
    },
    {
     "name": "stdout",
     "output_type": "stream",
     "text": [
      "     testMotif  odds_ratio_log2  pvalue_minlog10        qvalue\n",
      "9       AATAAA         5.450367        88.986007  4.225994e-86\n",
      "224     AAATAA         1.760402        24.198217  1.296250e-21\n",
      "58      CAATAA         2.611538        18.504153  4.272296e-16\n",
      "578     TAATAA         1.884156        17.086309  8.386234e-15\n",
      "463     ATAAAT         1.259074         9.101635  6.476351e-07\n",
      "1229    GAATAA         1.497863         8.703409  1.341600e-06\n",
      "39      ATAAAA         1.094703         8.639214  1.341600e-06\n",
      "258     ATAAAG         1.258760         6.219031  3.088976e-04\n",
      "2376    TCAATA         1.347922         5.544374  1.298134e-03\n",
      "1482    TAAATA         0.773075         5.231868  2.399205e-03\n",
      "2340    ATAAAC         1.248329         4.676349  7.837791e-03\n",
      "1334    ATTAAA         0.796123         4.393408  1.378308e-02\n",
      "2069    ATAATA         0.928141         4.030075  2.937093e-02\n",
      "1729    AAAATA         0.558566         3.302967  1.454924e-01\n",
      "1662    CTAATA         1.229928         3.241653  1.563835e-01\n",
      "3134    TTACCC        -1.789751         3.200585  1.611502e-01\n",
      "1617    TGGTCT         1.153898         3.136987  1.755901e-01\n"
     ]
    },
    {
     "data": {
      "image/png": "[encoded data removed]",
      "text/plain": [
       "<Figure size 90x90 with 1 Axes>"
      ]
     },
     "metadata": {
      "needs_background": "light"
     },
     "output_type": "display_data"
    },
    {
     "name": "stderr",
     "output_type": "stream",
     "text": [
      "/home/esk863/.local/lib/python3.6/site-packages/pandas/core/series.py:853: RuntimeWarning: divide by zero encountered in log2\n",
      "  result = getattr(ufunc, method)(*inputs, **kwargs)\n"
     ]
    },
    {
     "name": "stdout",
     "output_type": "stream",
     "text": [
      "\n",
      "Region: (-30, 0)\n",
      "     testMotif  odds_ratio_log2  pvalue_minlog10    qvalue\n",
      "212     TTTAAA        -1.195133         9.424109  0.000001\n",
      "989     CTTAAT        -1.924299         6.460617  0.000676\n",
      "58      CAATAA        -0.586586         6.120779  0.000790\n",
      "1770    CTAAAA        -2.352014         6.092027  0.000790\n",
      "9       AATAAA        -0.258072         5.401544  0.003098\n",
      "1056    TTAAAA        -0.893871         5.169944  0.004401\n",
      "154     TAAACT        -1.005917         4.983553  0.005794\n",
      "578     TAATAA        -0.482480         4.820852  0.007374\n",
      "1072    TTTTAA        -0.784471         4.726852  0.008138\n",
      "1804    TGAAAC        -2.640221         4.674851  0.008256\n",
      "49      ATGTGT         1.872576         4.578881  0.009362\n",
      "2376    TCAATA        -0.792436         4.346907  0.014640\n",
      "1400    TCTAAA        -1.458679         4.253053  0.016774\n",
      "3       AAACTT        -0.993208         4.139633  0.020224\n",
      "2077    CAAACT        -2.714090         4.063451  0.022495\n",
      "424     TGTGTC         2.346228         3.845752  0.034814\n",
      "104     CTTTAA        -1.260483         3.818543  0.034871\n",
      "1864    GTTAAA        -1.562324         3.790664  0.034871\n",
      "1976    TTGAAA        -1.192599         3.770405  0.034871\n",
      "760     AATGAA        -0.974973         3.679079  0.039513\n",
      "77      CCAGGG              inf         3.672666  0.039513\n",
      "639     CATTCT         2.287301         3.606229  0.043951\n",
      "2680    GAAACT        -1.866145         3.516056  0.051741\n",
      "1078    TTTTTT         0.593970         3.470812  0.055030\n",
      "1673    GAATGA        -2.173482         3.436047  0.057231\n",
      "3322    GTGTAC              inf         3.391309  0.061001\n",
      "2688    TCAAAC        -2.521334         3.370892  0.061569\n",
      "1966    TGAAAA        -1.004066         3.326960  0.065691\n",
      "1842    CTGAAA        -1.324356         3.299942  0.067496\n",
      "1207    CATGTG         1.872282         3.243400  0.074153\n",
      "920     AAATTT        -0.696353         3.230130  0.074153\n",
      "1257    TAAATT        -0.612586         3.205241  0.076073\n",
      "2982    AGCACA         2.535115         3.189365  0.076514\n",
      "3183    GCTAAA        -2.250026         3.146553  0.081957\n",
      "155     TACAAT        -1.612223         3.053079  0.095264\n",
      "2675    CTCAAT        -1.151733         3.051423  0.095264\n",
      "1872    TGGAAA        -1.027014         3.044491  0.095264\n"
     ]
    },
    {
     "data": {
      "image/png": "[encoded data removed]",
      "text/plain": [
       "<Figure size 90x90 with 1 Axes>"
      ]
     },
     "metadata": {
      "needs_background": "light"
     },
     "output_type": "display_data"
    },
    {
     "name": "stderr",
     "output_type": "stream",
     "text": [
      "/home/esk863/.local/lib/python3.6/site-packages/pandas/core/series.py:853: RuntimeWarning: divide by zero encountered in log2\n",
      "  result = getattr(ufunc, method)(*inputs, **kwargs)\n"
     ]
    },
    {
     "name": "stdout",
     "output_type": "stream",
     "text": [
      "\n",
      "Region: (0, 30)\n",
      "     testMotif  odds_ratio_log2  pvalue_minlog10    qvalue\n",
      "1297    AAAAAA        -1.037961         7.048985  0.000356\n",
      "149     GTGTCT        -1.299582         4.222250  0.119350\n",
      "1728    AAAAAT        -0.954651         3.820408  0.191998\n",
      "2239    GAAATT         1.828001         3.697942  0.191998\n",
      "1078    TTTTTT        -0.392212         3.617834  0.191998\n",
      "1731    AAACTG        -1.714185         3.495992  0.197737\n",
      "2791    ATATAT         1.208236         3.458915  0.197737\n",
      "1092    ACAAAT         1.823412         3.362869  0.215845\n",
      "424     TGTGTC        -1.074353         3.237743  0.248317\n",
      "1002    GCAGCA         2.535115         3.189365  0.248317\n",
      "632     ATGAAA         1.772752         3.148433  0.248317\n",
      "2627    GAAAAT         1.931136         3.125914  0.248317\n",
      "239     AGAAAT         1.685881         3.063248  0.264795\n",
      "622     AGCATG         2.003447         3.011096  0.277254\n"
     ]
    },
    {
     "data": {
      "image/png": "[encoded data removed]",
      "text/plain": [
       "<Figure size 90x90 with 1 Axes>"
      ]
     },
     "metadata": {
      "needs_background": "light"
     },
     "output_type": "display_data"
    },
    {
     "name": "stderr",
     "output_type": "stream",
     "text": [
      "/home/esk863/.local/lib/python3.6/site-packages/pandas/core/series.py:853: RuntimeWarning: divide by zero encountered in log2\n",
      "  result = getattr(ufunc, method)(*inputs, **kwargs)\n"
     ]
    },
    {
     "name": "stdout",
     "output_type": "stream",
     "text": [
      "\n",
      "Region: (30, 120)\n",
      "     testMotif  odds_ratio_log2  pvalue_minlog10    qvalue\n",
      "206     TTATTT         0.730220         5.512453  0.012568\n",
      "972     CAGATA        -1.712751         4.364993  0.088247\n",
      "2284    AGCTGG        -1.172222         3.641000  0.244806\n",
      "1261    TATATA         0.752187         3.620842  0.244806\n",
      "823     CTTTTC         0.787290         3.473290  0.270639\n",
      "1160    TATTTT         0.539947         3.401182  0.270639\n",
      "219     TTTTAT         0.590587         3.287273  0.271793\n",
      "307     CGGGGA        -1.882548         3.216989  0.271793\n",
      "1075    TTTTGT         0.559634         3.199369  0.271793\n",
      "2791    ATATAT         0.683503         3.150458  0.271793\n",
      "1269    TCTGTC         0.988477         3.136092  0.271793\n"
     ]
    },
    {
     "data": {
      "image/png": "[encoded data removed]",
      "text/plain": [
       "<Figure size 90x90 with 1 Axes>"
      ]
     },
     "metadata": {
      "needs_background": "light"
     },
     "output_type": "display_data"
    }
   ],
   "source": [
    "region_results = []\n",
    "regions = [(-120,-30), (-30,0), (0,30), (30,120)]\n",
    "label_threshs = [99.95, 99.95, 99.99, 99.99]\n",
    "ylims = [100,10,8,6]\n",
    "yints = [25,2,2,2]\n",
    "group = 'entropy'\n",
    "kmer = 6\n",
    "\n",
    "for region,label_thresh,ylim_up,yint_up in zip(regions,label_threshs,ylims,yints):\n",
    "\n",
    "    dt = pd.read_csv(os.path.join(CLVMOTDIR, f'cleavage_motifs.{kmer}mers.redist.{group}_groups.enrichment_{region[0]}_{region[1]}.txt'), sep = \"\\t\")\n",
    "    dt = dt.dropna()\n",
    "    \n",
    "    dt['odds_ratio_log2'] = -1 * np.log2(dt['odds_ratio'])\n",
    "    dt['pvalue_minlog10'] = -1 * np.log10(dt['pvalue'])\n",
    "    \n",
    "    dt['qvalue'] = multipletests(dt['pvalue'], alpha = 0.05, method = 'fdr_bh')[1]\n",
    "    dt['qvalue_minlog10']  = -1 * np.log10(dt['qvalue'])\n",
    "    \n",
    "    region_results.append(dt)\n",
    "    \n",
    "    \n",
    "    ## make plot\n",
    "    \n",
    "    fig,ax = plt.subplots(1,1, figsize = (1.25,1.25))\n",
    "    \n",
    "    sns.scatterplot(data = dt,  x = 'odds_ratio_log2', y = 'pvalue_minlog10', \n",
    "                    s = 10, color = 'gray', alpha = 0.25, rasterized = True,\n",
    "                    ax = ax)\n",
    "    \n",
    "    ax.set_xlim((-6,6))\n",
    "    ax.set_xticks(np.arange(-6,7,6))\n",
    "    ax.set_ylim((0,ylim_up))\n",
    "    ax.set_yticks(np.arange(0,ylim_up+1,yint_up))\n",
    "    \n",
    "    ax.set_xlabel(\"Log2(Odds Ratio)\")\n",
    "    ax.set_ylabel(\"-Log10(P-value)\")\n",
    "\n",
    "    ## annotate plots\n",
    "    \n",
    "    print(\"\\nRegion:\", region)\n",
    "    print(dt.loc[dt['pvalue'] < 0.001, ['testMotif','odds_ratio_log2', 'pvalue_minlog10', 'qvalue']].sort_values('pvalue_minlog10', ascending = False))\n",
    "    \n",
    "    for i,dtrow in dt.loc[dt['pvalue'] < 0.001].iterrows():\n",
    "        \n",
    "        if (dtrow['odds_ratio_log2'] > 0):\n",
    "            ax.scatter(x = dtrow['odds_ratio_log2'], y = dtrow['pvalue_minlog10'], s = 10, color = 'C1', edgecolor = 'black', linewidths = 0.5)\n",
    "        else:\n",
    "            ax.scatter(x = dtrow['odds_ratio_log2'], y = dtrow['pvalue_minlog10'], s = 10, color = 'C0', edgecolor = 'black', linewidths = 0.5)\n",
    "        \n",
    "    plt.savefig(os.path.join(OUTDIR, f'region_scatter_{region}.svg'), format = 'svg', dpi = 600, transparent = True)\n",
    "    plt.show()\n"
   ]
  },
  {
   "cell_type": "code",
   "execution_count": 34,
   "metadata": {},
   "outputs": [],
   "source": [
    "region_results = pd.concat(region_results, sort = False, ignore_index = True)\n",
    "region_results.to_csv(os.path.join(OUTDIR, 'results.region_enrichment.txt'), sep = \"\\t\", index = False)\n"
   ]
  },
  {
   "cell_type": "code",
   "execution_count": 35,
   "metadata": {},
   "outputs": [
    {
     "data": {
      "text/html": [
       "<div>\n",
       "<style scoped>\n",
       "    .dataframe tbody tr th:only-of-type {\n",
       "        vertical-align: middle;\n",
       "    }\n",
       "\n",
       "    .dataframe tbody tr th {\n",
       "        vertical-align: top;\n",
       "    }\n",
       "\n",
       "    .dataframe thead th {\n",
       "        text-align: right;\n",
       "    }\n",
       "</style>\n",
       "<table border=\"1\" class=\"dataframe\">\n",
       "  <thead>\n",
       "    <tr style=\"text-align: right;\">\n",
       "      <th></th>\n",
       "      <th>testMotif</th>\n",
       "      <th>region</th>\n",
       "      <th>odds_ratio_log2</th>\n",
       "      <th>pvalue</th>\n",
       "      <th>qvalue</th>\n",
       "    </tr>\n",
       "  </thead>\n",
       "  <tbody>\n",
       "    <tr>\n",
       "      <td>9</td>\n",
       "      <td>AATAAA</td>\n",
       "      <td>(-120, -30)</td>\n",
       "      <td>5.450367</td>\n",
       "      <td>1.032745e-89</td>\n",
       "      <td>4.225994e-86</td>\n",
       "    </tr>\n",
       "    <tr>\n",
       "      <td>224</td>\n",
       "      <td>AAATAA</td>\n",
       "      <td>(-120, -30)</td>\n",
       "      <td>1.760402</td>\n",
       "      <td>6.335535e-25</td>\n",
       "      <td>1.296250e-21</td>\n",
       "    </tr>\n",
       "    <tr>\n",
       "      <td>58</td>\n",
       "      <td>CAATAA</td>\n",
       "      <td>(-120, -30)</td>\n",
       "      <td>2.611538</td>\n",
       "      <td>3.132181e-19</td>\n",
       "      <td>4.272296e-16</td>\n",
       "    </tr>\n",
       "    <tr>\n",
       "      <td>578</td>\n",
       "      <td>TAATAA</td>\n",
       "      <td>(-120, -30)</td>\n",
       "      <td>1.884156</td>\n",
       "      <td>8.197687e-18</td>\n",
       "      <td>8.386234e-15</td>\n",
       "    </tr>\n",
       "    <tr>\n",
       "      <td>463</td>\n",
       "      <td>ATAAAT</td>\n",
       "      <td>(-120, -30)</td>\n",
       "      <td>1.259074</td>\n",
       "      <td>7.913429e-10</td>\n",
       "      <td>6.476351e-07</td>\n",
       "    </tr>\n",
       "    <tr>\n",
       "      <td>1229</td>\n",
       "      <td>GAATAA</td>\n",
       "      <td>(-120, -30)</td>\n",
       "      <td>1.497863</td>\n",
       "      <td>1.979661e-09</td>\n",
       "      <td>1.341600e-06</td>\n",
       "    </tr>\n",
       "    <tr>\n",
       "      <td>39</td>\n",
       "      <td>ATAAAA</td>\n",
       "      <td>(-120, -30)</td>\n",
       "      <td>1.094703</td>\n",
       "      <td>2.295015e-09</td>\n",
       "      <td>1.341600e-06</td>\n",
       "    </tr>\n",
       "    <tr>\n",
       "      <td>4302</td>\n",
       "      <td>TTTAAA</td>\n",
       "      <td>(-30, 0)</td>\n",
       "      <td>-1.195133</td>\n",
       "      <td>3.766092e-10</td>\n",
       "      <td>1.470659e-06</td>\n",
       "    </tr>\n",
       "    <tr>\n",
       "      <td>258</td>\n",
       "      <td>ATAAAG</td>\n",
       "      <td>(-120, -30)</td>\n",
       "      <td>1.258760</td>\n",
       "      <td>6.039054e-07</td>\n",
       "      <td>3.088976e-04</td>\n",
       "    </tr>\n",
       "    <tr>\n",
       "      <td>9287</td>\n",
       "      <td>AAAAAA</td>\n",
       "      <td>(0, 30)</td>\n",
       "      <td>-1.037961</td>\n",
       "      <td>8.933358e-08</td>\n",
       "      <td>3.557263e-04</td>\n",
       "    </tr>\n",
       "    <tr>\n",
       "      <td>5064</td>\n",
       "      <td>CTTAAT</td>\n",
       "      <td>(-30, 0)</td>\n",
       "      <td>-1.924299</td>\n",
       "      <td>3.462445e-07</td>\n",
       "      <td>6.760424e-04</td>\n",
       "    </tr>\n",
       "    <tr>\n",
       "      <td>4149</td>\n",
       "      <td>CAATAA</td>\n",
       "      <td>(-30, 0)</td>\n",
       "      <td>-0.586586</td>\n",
       "      <td>7.572181e-07</td>\n",
       "      <td>7.898302e-04</td>\n",
       "    </tr>\n",
       "    <tr>\n",
       "      <td>5837</td>\n",
       "      <td>CTAAAA</td>\n",
       "      <td>(-30, 0)</td>\n",
       "      <td>-2.352014</td>\n",
       "      <td>8.090451e-07</td>\n",
       "      <td>7.898302e-04</td>\n",
       "    </tr>\n",
       "    <tr>\n",
       "      <td>2376</td>\n",
       "      <td>TCAATA</td>\n",
       "      <td>(-120, -30)</td>\n",
       "      <td>1.347922</td>\n",
       "      <td>2.855132e-06</td>\n",
       "      <td>1.298134e-03</td>\n",
       "    </tr>\n",
       "    <tr>\n",
       "      <td>1482</td>\n",
       "      <td>TAAATA</td>\n",
       "      <td>(-120, -30)</td>\n",
       "      <td>0.773075</td>\n",
       "      <td>5.863161e-06</td>\n",
       "      <td>2.399205e-03</td>\n",
       "    </tr>\n",
       "    <tr>\n",
       "      <td>4101</td>\n",
       "      <td>AATAAA</td>\n",
       "      <td>(-30, 0)</td>\n",
       "      <td>-0.258072</td>\n",
       "      <td>3.966942e-06</td>\n",
       "      <td>3.098182e-03</td>\n",
       "    </tr>\n",
       "    <tr>\n",
       "      <td>5131</td>\n",
       "      <td>TTAAAA</td>\n",
       "      <td>(-30, 0)</td>\n",
       "      <td>-0.893871</td>\n",
       "      <td>6.761704e-06</td>\n",
       "      <td>4.400742e-03</td>\n",
       "    </tr>\n",
       "    <tr>\n",
       "      <td>4244</td>\n",
       "      <td>TAAACT</td>\n",
       "      <td>(-30, 0)</td>\n",
       "      <td>-1.005917</td>\n",
       "      <td>1.038598e-05</td>\n",
       "      <td>5.793892e-03</td>\n",
       "    </tr>\n",
       "    <tr>\n",
       "      <td>4657</td>\n",
       "      <td>TAATAA</td>\n",
       "      <td>(-30, 0)</td>\n",
       "      <td>-0.482480</td>\n",
       "      <td>1.510596e-05</td>\n",
       "      <td>7.373596e-03</td>\n",
       "    </tr>\n",
       "    <tr>\n",
       "      <td>2340</td>\n",
       "      <td>ATAAAC</td>\n",
       "      <td>(-120, -30)</td>\n",
       "      <td>1.248329</td>\n",
       "      <td>2.106933e-05</td>\n",
       "      <td>7.837791e-03</td>\n",
       "    </tr>\n",
       "    <tr>\n",
       "      <td>5147</td>\n",
       "      <td>TTTTAA</td>\n",
       "      <td>(-30, 0)</td>\n",
       "      <td>-0.784471</td>\n",
       "      <td>1.875631e-05</td>\n",
       "      <td>8.138157e-03</td>\n",
       "    </tr>\n",
       "    <tr>\n",
       "      <td>5871</td>\n",
       "      <td>TGAAAC</td>\n",
       "      <td>(-30, 0)</td>\n",
       "      <td>-2.640221</td>\n",
       "      <td>2.114212e-05</td>\n",
       "      <td>8.255998e-03</td>\n",
       "    </tr>\n",
       "    <tr>\n",
       "      <td>4140</td>\n",
       "      <td>ATGTGT</td>\n",
       "      <td>(-30, 0)</td>\n",
       "      <td>1.872576</td>\n",
       "      <td>2.637055e-05</td>\n",
       "      <td>9.361544e-03</td>\n",
       "    </tr>\n",
       "    <tr>\n",
       "      <td>12185</td>\n",
       "      <td>TTATTT</td>\n",
       "      <td>(30, 120)</td>\n",
       "      <td>0.730220</td>\n",
       "      <td>3.072892e-06</td>\n",
       "      <td>1.256813e-02</td>\n",
       "    </tr>\n",
       "    <tr>\n",
       "      <td>1334</td>\n",
       "      <td>ATTAAA</td>\n",
       "      <td>(-120, -30)</td>\n",
       "      <td>0.796123</td>\n",
       "      <td>4.041958e-05</td>\n",
       "      <td>1.378308e-02</td>\n",
       "    </tr>\n",
       "    <tr>\n",
       "      <td>6432</td>\n",
       "      <td>TCAATA</td>\n",
       "      <td>(-30, 0)</td>\n",
       "      <td>-0.792436</td>\n",
       "      <td>4.498765e-05</td>\n",
       "      <td>1.463973e-02</td>\n",
       "    </tr>\n",
       "    <tr>\n",
       "      <td>5470</td>\n",
       "      <td>TCTAAA</td>\n",
       "      <td>(-30, 0)</td>\n",
       "      <td>-1.458679</td>\n",
       "      <td>5.584020e-05</td>\n",
       "      <td>1.677354e-02</td>\n",
       "    </tr>\n",
       "    <tr>\n",
       "      <td>4095</td>\n",
       "      <td>AAACTT</td>\n",
       "      <td>(-30, 0)</td>\n",
       "      <td>-0.993208</td>\n",
       "      <td>7.250478e-05</td>\n",
       "      <td>2.022366e-02</td>\n",
       "    </tr>\n",
       "    <tr>\n",
       "      <td>6139</td>\n",
       "      <td>CAAACT</td>\n",
       "      <td>(-30, 0)</td>\n",
       "      <td>-2.714090</td>\n",
       "      <td>8.640703e-05</td>\n",
       "      <td>2.249463e-02</td>\n",
       "    </tr>\n",
       "    <tr>\n",
       "      <td>2069</td>\n",
       "      <td>ATAATA</td>\n",
       "      <td>(-120, -30)</td>\n",
       "      <td>0.928141</td>\n",
       "      <td>9.330941e-05</td>\n",
       "      <td>2.937093e-02</td>\n",
       "    </tr>\n",
       "    <tr>\n",
       "      <td>4504</td>\n",
       "      <td>TGTGTC</td>\n",
       "      <td>(-30, 0)</td>\n",
       "      <td>2.346228</td>\n",
       "      <td>1.426422e-04</td>\n",
       "      <td>3.481361e-02</td>\n",
       "    </tr>\n",
       "    <tr>\n",
       "      <td>5927</td>\n",
       "      <td>GTTAAA</td>\n",
       "      <td>(-30, 0)</td>\n",
       "      <td>-1.562324</td>\n",
       "      <td>1.619332e-04</td>\n",
       "      <td>3.487081e-02</td>\n",
       "    </tr>\n",
       "    <tr>\n",
       "      <td>6038</td>\n",
       "      <td>TTGAAA</td>\n",
       "      <td>(-30, 0)</td>\n",
       "      <td>-1.192599</td>\n",
       "      <td>1.696659e-04</td>\n",
       "      <td>3.487081e-02</td>\n",
       "    </tr>\n",
       "    <tr>\n",
       "      <td>4195</td>\n",
       "      <td>CTTTAA</td>\n",
       "      <td>(-30, 0)</td>\n",
       "      <td>-1.260483</td>\n",
       "      <td>1.518649e-04</td>\n",
       "      <td>3.487081e-02</td>\n",
       "    </tr>\n",
       "    <tr>\n",
       "      <td>4836</td>\n",
       "      <td>AATGAA</td>\n",
       "      <td>(-30, 0)</td>\n",
       "      <td>-0.974973</td>\n",
       "      <td>2.093733e-04</td>\n",
       "      <td>3.951262e-02</td>\n",
       "    </tr>\n",
       "    <tr>\n",
       "      <td>4168</td>\n",
       "      <td>CCAGGG</td>\n",
       "      <td>(-30, 0)</td>\n",
       "      <td>inf</td>\n",
       "      <td>2.124878e-04</td>\n",
       "      <td>3.951262e-02</td>\n",
       "    </tr>\n",
       "    <tr>\n",
       "      <td>4717</td>\n",
       "      <td>CATTCT</td>\n",
       "      <td>(-30, 0)</td>\n",
       "      <td>2.287301</td>\n",
       "      <td>2.476116e-04</td>\n",
       "      <td>4.395105e-02</td>\n",
       "    </tr>\n",
       "  </tbody>\n",
       "</table>\n",
       "</div>"
      ],
      "text/plain": [
       "      testMotif       region  odds_ratio_log2        pvalue        qvalue\n",
       "9        AATAAA  (-120, -30)         5.450367  1.032745e-89  4.225994e-86\n",
       "224      AAATAA  (-120, -30)         1.760402  6.335535e-25  1.296250e-21\n",
       "58       CAATAA  (-120, -30)         2.611538  3.132181e-19  4.272296e-16\n",
       "578      TAATAA  (-120, -30)         1.884156  8.197687e-18  8.386234e-15\n",
       "463      ATAAAT  (-120, -30)         1.259074  7.913429e-10  6.476351e-07\n",
       "1229     GAATAA  (-120, -30)         1.497863  1.979661e-09  1.341600e-06\n",
       "39       ATAAAA  (-120, -30)         1.094703  2.295015e-09  1.341600e-06\n",
       "4302     TTTAAA     (-30, 0)        -1.195133  3.766092e-10  1.470659e-06\n",
       "258      ATAAAG  (-120, -30)         1.258760  6.039054e-07  3.088976e-04\n",
       "9287     AAAAAA      (0, 30)        -1.037961  8.933358e-08  3.557263e-04\n",
       "5064     CTTAAT     (-30, 0)        -1.924299  3.462445e-07  6.760424e-04\n",
       "4149     CAATAA     (-30, 0)        -0.586586  7.572181e-07  7.898302e-04\n",
       "5837     CTAAAA     (-30, 0)        -2.352014  8.090451e-07  7.898302e-04\n",
       "2376     TCAATA  (-120, -30)         1.347922  2.855132e-06  1.298134e-03\n",
       "1482     TAAATA  (-120, -30)         0.773075  5.863161e-06  2.399205e-03\n",
       "4101     AATAAA     (-30, 0)        -0.258072  3.966942e-06  3.098182e-03\n",
       "5131     TTAAAA     (-30, 0)        -0.893871  6.761704e-06  4.400742e-03\n",
       "4244     TAAACT     (-30, 0)        -1.005917  1.038598e-05  5.793892e-03\n",
       "4657     TAATAA     (-30, 0)        -0.482480  1.510596e-05  7.373596e-03\n",
       "2340     ATAAAC  (-120, -30)         1.248329  2.106933e-05  7.837791e-03\n",
       "5147     TTTTAA     (-30, 0)        -0.784471  1.875631e-05  8.138157e-03\n",
       "5871     TGAAAC     (-30, 0)        -2.640221  2.114212e-05  8.255998e-03\n",
       "4140     ATGTGT     (-30, 0)         1.872576  2.637055e-05  9.361544e-03\n",
       "12185    TTATTT    (30, 120)         0.730220  3.072892e-06  1.256813e-02\n",
       "1334     ATTAAA  (-120, -30)         0.796123  4.041958e-05  1.378308e-02\n",
       "6432     TCAATA     (-30, 0)        -0.792436  4.498765e-05  1.463973e-02\n",
       "5470     TCTAAA     (-30, 0)        -1.458679  5.584020e-05  1.677354e-02\n",
       "4095     AAACTT     (-30, 0)        -0.993208  7.250478e-05  2.022366e-02\n",
       "6139     CAAACT     (-30, 0)        -2.714090  8.640703e-05  2.249463e-02\n",
       "2069     ATAATA  (-120, -30)         0.928141  9.330941e-05  2.937093e-02\n",
       "4504     TGTGTC     (-30, 0)         2.346228  1.426422e-04  3.481361e-02\n",
       "5927     GTTAAA     (-30, 0)        -1.562324  1.619332e-04  3.487081e-02\n",
       "6038     TTGAAA     (-30, 0)        -1.192599  1.696659e-04  3.487081e-02\n",
       "4195     CTTTAA     (-30, 0)        -1.260483  1.518649e-04  3.487081e-02\n",
       "4836     AATGAA     (-30, 0)        -0.974973  2.093733e-04  3.951262e-02\n",
       "4168     CCAGGG     (-30, 0)              inf  2.124878e-04  3.951262e-02\n",
       "4717     CATTCT     (-30, 0)         2.287301  2.476116e-04  4.395105e-02"
      ]
     },
     "execution_count": 35,
     "metadata": {},
     "output_type": "execute_result"
    }
   ],
   "source": [
    "region_results.loc[region_results['qvalue'] < 0.05].sort_values('qvalue_minlog10', ascending = False)[['testMotif','region','odds_ratio_log2','pvalue','qvalue']]\n"
   ]
  },
  {
   "cell_type": "markdown",
   "metadata": {},
   "source": [
    "#### Altered motif arrangement around high entropy sites"
   ]
  },
  {
   "cell_type": "code",
   "execution_count": 36,
   "metadata": {},
   "outputs": [
    {
     "name": "stdout",
     "output_type": "stream",
     "text": [
      "(3814, 56)\n",
      "(3070, 56)\n"
     ]
    }
   ],
   "source": [
    "gold_ent_single = gold_ent_data.loc[gold_ent_data['count_aataaa'] == 1].copy()\n",
    "print(gold_ent_data.shape)\n",
    "print(gold_ent_single.shape)\n"
   ]
  },
  {
   "cell_type": "code",
   "execution_count": 56,
   "metadata": {},
   "outputs": [
    {
     "name": "stdout",
     "output_type": "stream",
     "text": [
      "\n",
      "\n",
      "Results for AATAAA in region (-120, -30)\n"
     ]
    },
    {
     "data": {
      "image/png": "[encoded data removed]",
      "text/plain": [
       "<Figure size 36x72 with 1 Axes>"
      ]
     },
     "metadata": {
      "needs_background": "light"
     },
     "output_type": "display_data"
    },
    {
     "name": "stdout",
     "output_type": "stream",
     "text": [
      "  entropy_group  count  matches      prop\n",
      "0          High   1383    119.0  0.086045\n",
      "1           Low   1687      9.0  0.005335\n",
      "Hypothesis test comparing two independent proportions, two-sided, assuming binomial samples:\n",
      "statistic = 10.367528907154497\n",
      "pvalue = 3.484180800444075e-25\n",
      "compare = diff\n",
      "method = agresti-caffo\n",
      "diff = 0.08070991603093025\n",
      "ratio = 16.12862537157548\n",
      "odds_ratio = 17.55291842475387\n",
      "variance = 6.062233085129576e-05\n",
      "alternative = two-sided\n",
      "value = 0\n",
      "tuple = (10.367528907154497, 3.484180800444075e-25)\n",
      "\n",
      "\n",
      "Results for AATAAA in region (-30, 0)\n"
     ]
    },
    {
     "data": {
      "image/png": "[encoded data removed]",
      "text/plain": [
       "<Figure size 36x72 with 1 Axes>"
      ]
     },
     "metadata": {
      "needs_background": "light"
     },
     "output_type": "display_data"
    },
    {
     "name": "stdout",
     "output_type": "stream",
     "text": [
      "  entropy_group  count  matches      prop\n",
      "0          High   1383   1075.0  0.777296\n",
      "1           Low   1687   1678.0  0.994665\n",
      "Hypothesis test comparing two independent proportions, two-sided, assuming binomial samples:\n",
      "statistic = -19.14932420713803\n",
      "pvalue = 9.805087159842254e-82\n",
      "compare = diff\n",
      "method = agresti-caffo\n",
      "diff = -0.21736935203960706\n",
      "ratio = 0.781464781352314\n",
      "odds_ratio = 0.018720105877435965\n",
      "variance = 0.00012863195523469807\n",
      "alternative = two-sided\n",
      "value = 0\n",
      "tuple = (-19.14932420713803, 9.805087159842254e-82)\n"
     ]
    }
   ],
   "source": [
    "cleavage_heterogeneity.proportion_sites_with_motif(OUTDIR, gold_ent_single, ['AATAAA'], 'aataaa', (-120,-30), ylims = (0,0.1), ytickints=0.05)\n",
    "cleavage_heterogeneity.proportion_sites_with_motif(OUTDIR, gold_ent_single, ['AATAAA'], 'aataaa', (-30,0), ylims = (0,1.0), ytickints=0.25)\n"
   ]
  },
  {
   "cell_type": "code",
   "execution_count": 37,
   "metadata": {},
   "outputs": [
    {
     "name": "stdout",
     "output_type": "stream",
     "text": [
      "\n",
      "\n",
      "Results for TTATTT,TTTTTC,TTTTCT,TTTCTT,TATTTT,TTTTAT,TTTTTA,TTCTTT,TTTTTT,TTTTGT,TTTATT,TTTGTT,TTTTTG,TGTTTT,TCTTTT,TTGTTT in region (0, 30)\n"
     ]
    },
    {
     "data": {
      "image/png": "[encoded data removed]",
      "text/plain": [
       "<Figure size 36x72 with 1 Axes>"
      ]
     },
     "metadata": {
      "needs_background": "light"
     },
     "output_type": "display_data"
    },
    {
     "name": "stdout",
     "output_type": "stream",
     "text": [
      "  entropy_group  count  matches      prop\n",
      "0          High   1383    550.0  0.397686\n",
      "1           Low   1687    811.0  0.480735\n",
      "Hypothesis test comparing two independent proportions, two-sided, assuming binomial samples:\n",
      "statistic = -4.630046458744256\n",
      "pvalue = 3.6558369809245345e-06\n",
      "compare = diff\n",
      "method = agresti-caffo\n",
      "diff = -0.08304884315901317\n",
      "ratio = 0.8272461178677494\n",
      "odds_ratio = 0.713182930385471\n",
      "variance = 0.00032076638084883695\n",
      "alternative = two-sided\n",
      "value = 0\n",
      "tuple = (-4.630046458744256, 3.6558369809245345e-06)\n",
      "\n",
      "\n",
      "Results for TTATTT,TTTTTC,TTTTCT,TTTCTT,TATTTT,TTTTAT,TTTTTA,TTCTTT,TTTTTT,TTTTGT,TTTATT,TTTGTT,TTTTTG,TGTTTT,TCTTTT,TTGTTT in region (30, 50)\n"
     ]
    },
    {
     "data": {
      "image/png": "[encoded data removed]",
      "text/plain": [
       "<Figure size 36x72 with 1 Axes>"
      ]
     },
     "metadata": {
      "needs_background": "light"
     },
     "output_type": "display_data"
    },
    {
     "name": "stdout",
     "output_type": "stream",
     "text": [
      "  entropy_group  count  matches      prop\n",
      "0          High   1383    317.0  0.229212\n",
      "1           Low   1687    225.0  0.133373\n",
      "Hypothesis test comparing two independent proportions, two-sided, assuming binomial samples:\n",
      "statistic = 6.836686652364079\n",
      "pvalue = 8.104574304564821e-12\n",
      "compare = diff\n",
      "method = agresti-caffo\n",
      "diff = 0.09583900706392853\n",
      "ratio = 1.7185795774082109\n",
      "odds_ratio = 1.9322659995830729\n",
      "variance = 0.00019633716192638852\n",
      "alternative = two-sided\n",
      "value = 0\n",
      "tuple = (6.836686652364079, 8.104574304564821e-12)\n"
     ]
    }
   ],
   "source": [
    "cleavage_heterogeneity.proportion_sites_with_motif(OUTDIR, gold_ent_single, t_rich, 't_rich', (0,30), ylims = (0,0.5), ytickints=0.1)\n",
    "cleavage_heterogeneity.proportion_sites_with_motif(OUTDIR, gold_ent_single, t_rich, 't_rich', (30,50), ylims = (0,0.25), ytickints=0.05)\n"
   ]
  },
  {
   "cell_type": "code",
   "execution_count": 38,
   "metadata": {},
   "outputs": [
    {
     "name": "stdout",
     "output_type": "stream",
     "text": [
      "\n",
      "\n",
      "Results for TTCTGG,TGTCCT,TGTGTC,GTTGTG,GTTGTC,GTGTTA,TCTGTC,TTTGTG,CCGTCT,ATTCTG,CTGTCT,ATGTCT,ATGTGG,CCCTGT,TGTGAG,GGTGTG,CTGTTC,TGTGGG,GGTGTT,CGTCTC,TTCTGC,CGTCTT,GTGTCT,CTGTCC,AGTGTG,TCTGGG,TGTCTT,GTCTTT,GTGTGT,GTGTTC,TAGTGT,AGTGTT,GTCTGT,AGTCTT,TGTCGT,GTGTTG,ATTGTC,CCTGTT,GTCTAT,TCTGCC,TCTGGT,GTCTGG,TGTGCG,TGTGTT,CTTGTG,TGTGAT,GTCTTA,GTGTGA,TTGTGG,TTGTGA,GTTCTG,TGTCCC,CTGTGT,GCTGTG,TTGTCC,GAGTGT,CGTGTG,TGGTCT,TTGTGC,GTCTCC,TGTGGA,CTTGTC,GTCTTG,CCTCTG,TATCTG,TGTGTG,TACTGT,TATGTG,TTCTGT,CCTGTC,GGTCTG,GCGTGT,GGCTGT,ATTGTG,TCTGAT,CTGTTT,TGTCTA,GATGTG,TTGTGT,CGTGTT,TTTGTC,TCTCTG,GTGTTT,CTGTGG,GTCTTC,ACTGTT,GGTCTT,GTGTGC,GTGTGG,CTGTTG,TGTGGC,TGCTGT,TGGTGT,TTCTGA,TCTGTG,CTCTGC,GTCTCT,TCTGTT,TCCTGT,CTCTGT,TGTGGT,GGTGTC,ATGTGT,TGTCAT,GGGTCT,TTTCTG,GCTGTT,AGGTGT,TCGTGT,TGTCTG,CTTCTG,TAGTCT,TTGTCA,ATCTGT,TCGTCT,TCTGCT,TTGTCT,TGTCTC,GGGTGT,TATGTC,CTGTTA,TGTGCT in region (0, 20)\n"
     ]
    },
    {
     "data": {
      "image/png": "[encoded data removed]",
      "text/plain": [
       "<Figure size 36x72 with 1 Axes>"
      ]
     },
     "metadata": {
      "needs_background": "light"
     },
     "output_type": "display_data"
    },
    {
     "name": "stdout",
     "output_type": "stream",
     "text": [
      "  entropy_group  count  matches      prop\n",
      "0          High   1383    538.0  0.389009\n",
      "1           Low   1687    886.0  0.525193\n",
      "Hypothesis test comparing two independent proportions, two-sided, assuming binomial samples:\n",
      "statistic = -7.610835501647213\n",
      "pvalue = 2.7232966254320202e-14\n",
      "compare = diff\n",
      "method = agresti-caffo\n",
      "diff = -0.13618324981859065\n",
      "ratio = 0.7406984848262276\n",
      "odds_ratio = 0.5756047390706185\n",
      "variance = 0.00031927826326984537\n",
      "alternative = two-sided\n",
      "value = 0\n",
      "tuple = (-7.610835501647213, 2.7232966254320202e-14)\n",
      "\n",
      "\n",
      "Results for TTCTGG,TGTCCT,TGTGTC,GTTGTG,GTTGTC,GTGTTA,TCTGTC,TTTGTG,CCGTCT,ATTCTG,CTGTCT,ATGTCT,ATGTGG,CCCTGT,TGTGAG,GGTGTG,CTGTTC,TGTGGG,GGTGTT,CGTCTC,TTCTGC,CGTCTT,GTGTCT,CTGTCC,AGTGTG,TCTGGG,TGTCTT,GTCTTT,GTGTGT,GTGTTC,TAGTGT,AGTGTT,GTCTGT,AGTCTT,TGTCGT,GTGTTG,ATTGTC,CCTGTT,GTCTAT,TCTGCC,TCTGGT,GTCTGG,TGTGCG,TGTGTT,CTTGTG,TGTGAT,GTCTTA,GTGTGA,TTGTGG,TTGTGA,GTTCTG,TGTCCC,CTGTGT,GCTGTG,TTGTCC,GAGTGT,CGTGTG,TGGTCT,TTGTGC,GTCTCC,TGTGGA,CTTGTC,GTCTTG,CCTCTG,TATCTG,TGTGTG,TACTGT,TATGTG,TTCTGT,CCTGTC,GGTCTG,GCGTGT,GGCTGT,ATTGTG,TCTGAT,CTGTTT,TGTCTA,GATGTG,TTGTGT,CGTGTT,TTTGTC,TCTCTG,GTGTTT,CTGTGG,GTCTTC,ACTGTT,GGTCTT,GTGTGC,GTGTGG,CTGTTG,TGTGGC,TGCTGT,TGGTGT,TTCTGA,TCTGTG,CTCTGC,GTCTCT,TCTGTT,TCCTGT,CTCTGT,TGTGGT,GGTGTC,ATGTGT,TGTCAT,GGGTCT,TTTCTG,GCTGTT,AGGTGT,TCGTGT,TGTCTG,CTTCTG,TAGTCT,TTGTCA,ATCTGT,TCGTCT,TCTGCT,TTGTCT,TGTCTC,GGGTGT,TATGTC,CTGTTA,TGTGCT in region (20, 40)\n"
     ]
    },
    {
     "data": {
      "image/png": "[encoded data removed]",
      "text/plain": [
       "<Figure size 36x72 with 1 Axes>"
      ]
     },
     "metadata": {
      "needs_background": "light"
     },
     "output_type": "display_data"
    },
    {
     "name": "stdout",
     "output_type": "stream",
     "text": [
      "  entropy_group  count  matches      prop\n",
      "0          High   1383    493.0  0.356471\n",
      "1           Low   1687    418.0  0.247777\n",
      "Hypothesis test comparing two independent proportions, two-sided, assuming binomial samples:\n",
      "statistic = 6.535766080295528\n",
      "pvalue = 6.328476173621912e-11\n",
      "compare = diff\n",
      "method = agresti-caffo\n",
      "diff = 0.1086943197545262\n",
      "ratio = 1.438677792884894\n",
      "odds_ratio = 1.6816757163593357\n",
      "variance = 0.00027611498150587044\n",
      "alternative = two-sided\n",
      "value = 0\n",
      "tuple = (6.535766080295528, 6.328476173621912e-11)\n"
     ]
    }
   ],
   "source": [
    "cleavage_heterogeneity.proportion_sites_with_motif(OUTDIR, gold_ent_single, gt_rich, 'gt_rich', (0,20), ylims = (0,0.6), ytickints=0.1)\n",
    "cleavage_heterogeneity.proportion_sites_with_motif(OUTDIR, gold_ent_single, gt_rich, 'gt_rich', (20,40), ylims = (0,0.4), ytickints=0.1)\n"
   ]
  },
  {
   "cell_type": "markdown",
   "metadata": {},
   "source": [
    "## AAUAAA - U-rich and GU/CU-rich distances by entropy group\n"
   ]
  },
  {
   "cell_type": "code",
   "execution_count": 39,
   "metadata": {},
   "outputs": [],
   "source": [
    "gold_aataaa = gold_ent_single.copy()\n",
    "gold_aataaa['aataaa_idx'] = gold_aataaa.apply(lambda row: np.max(classification_cleavage.count_motifs(row['sequence'][:row['max_cleavage']], ['AATAAA'], method = 'priority', overlapping = False, preference = 'max', count_only = False, index_only = True)), axis = 1)\n"
   ]
  },
  {
   "cell_type": "markdown",
   "metadata": {},
   "source": [
    "### Measure Existing Distances\n"
   ]
  },
  {
   "cell_type": "markdown",
   "metadata": {},
   "source": [
    "#### U-Rich Motifs"
   ]
  },
  {
   "cell_type": "code",
   "execution_count": 40,
   "metadata": {},
   "outputs": [
    {
     "name": "stdout",
     "output_type": "stream",
     "text": [
      "(3070, 57)\n",
      "(2208, 59)\n"
     ]
    }
   ],
   "source": [
    "gold_aataaa_trich = gold_aataaa.loc[gold_aataaa.apply(lambda row: any([m in row['sequence'][row['max_cleavage']:] for m in t_rich]), axis = 1)].copy()\n",
    "gold_aataaa_trich['trich_idx'] = gold_aataaa_trich.apply(lambda row: row['max_cleavage'] + np.min(classification_cleavage.count_motifs(row['sequence'][row['max_cleavage']:], t_rich, method = 'sequential', preference = 'min', overlapping = False, count_only = False, index_only = True)), axis = 1)\n",
    "gold_aataaa_trich['trich_distance'] = gold_aataaa_trich['trich_idx'] - gold_aataaa_trich['aataaa_idx']\n",
    "\n",
    "print(gold_aataaa.shape)\n",
    "print(gold_aataaa_trich.shape)\n"
   ]
  },
  {
   "cell_type": "code",
   "execution_count": 41,
   "metadata": {},
   "outputs": [
    {
     "data": {
      "image/png": "[encoded data removed]",
      "text/plain": [
       "<Figure size 72x126 with 1 Axes>"
      ]
     },
     "metadata": {
      "needs_background": "light"
     },
     "output_type": "display_data"
    },
    {
     "name": "stdout",
     "output_type": "stream",
     "text": [
      "Low     1178\n",
      "High    1030\n",
      "Name: entropy_group, dtype: int64\n",
      "               count       mean  median        std\n",
      "entropy_group                                     \n",
      "High            1030  57.419417      51  27.847858\n",
      "Low             1178  49.668081      38  28.377106\n",
      "\n",
      "Wilcoxon Rank Sum Test Comparing Low vs High Groups:\n",
      "RanksumsResult(statistic=-9.680638528742996, pvalue=3.6443269836148453e-22)\n"
     ]
    }
   ],
   "source": [
    "fig,ax = plt.subplots(1,1, figsize = (1,1.75))\n",
    "\n",
    "sns.boxplot(data = gold_aataaa_trich, \n",
    "            x = 'entropy_group', y = 'trich_distance', showfliers = False,\n",
    "            boxprops = {'edgecolor' : 'black', 'linewidth' : 0.5},\n",
    "            medianprops = {'color' : 'black', 'linewidth' : 0.5},\n",
    "            whiskerprops = {'color' : 'black', 'linewidth' : 0.5},\n",
    "            capprops = {'color' : 'black', 'linewidth' : 0.5},\n",
    "            flierprops = {'color' : 'black'},\n",
    "            ax = ax)\n",
    "\n",
    "ax.set_xticklabels(ax.get_xticklabels(), rotation = 45, ha = 'right')\n",
    "\n",
    "ax.set_xlabel(\"Entropy\\nGroup\")\n",
    "ax.set_ylabel(\"AATAAA - T-Rich\\n IntermotifDistance\")\n",
    "\n",
    "ax.set_ylim(0,125)\n",
    "\n",
    "ax.spines['right'].set_visible(False)\n",
    "ax.spines['top'].set_visible(False)\n",
    "\n",
    "plt.savefig(os.path.join(OUTDIR, 'aataaa_trich_distance_boxplot.svg'), format = 'svg', dpi = 600, transparent = True)    \n",
    "plt.show()\n",
    "\n",
    "\n",
    "print(gold_aataaa_trich.entropy_group.value_counts())\n",
    "\n",
    "print(gold_aataaa_trich.groupby('entropy_group')['trich_distance'].agg(['count','mean','median','std']))\n",
    "\n",
    "print(f\"\\nWilcoxon Rank Sum Test Comparing Low vs High Groups:\")\n",
    "print(st.ranksums(gold_aataaa_trich.loc[gold_aataaa_trich['entropy_group'] == 'Low', 'trich_distance'],\n",
    "                  gold_aataaa_trich.loc[gold_aataaa_trich['entropy_group'] == 'High', 'trich_distance']))\n",
    "\n"
   ]
  },
  {
   "cell_type": "markdown",
   "metadata": {},
   "source": [
    "#### GU/CU-Rich Motifs"
   ]
  },
  {
   "cell_type": "code",
   "execution_count": 42,
   "metadata": {},
   "outputs": [
    {
     "name": "stdout",
     "output_type": "stream",
     "text": [
      "(3070, 57)\n",
      "(2774, 59)\n"
     ]
    }
   ],
   "source": [
    "gold_aataaa_gtrich = gold_aataaa.loc[gold_aataaa.apply(lambda row: any([m in row['sequence'][row['max_cleavage']:] for m in gt_rich]), axis = 1)].copy()\n",
    "gold_aataaa_gtrich['gtrich_idx'] = gold_aataaa_gtrich.apply(lambda row: row['max_cleavage'] + np.min(classification_cleavage.count_motifs(row['sequence'][row['max_cleavage']:], gt_rich, method = 'sequential', preference = 'min', overlapping = False, count_only = False, index_only = True)), axis = 1)\n",
    "gold_aataaa_gtrich['gtrich_distance'] = gold_aataaa_gtrich['gtrich_idx'] - gold_aataaa_gtrich['aataaa_idx']\n",
    "\n",
    "print(gold_aataaa.shape)\n",
    "print(gold_aataaa_gtrich.shape)\n"
   ]
  },
  {
   "cell_type": "code",
   "execution_count": 43,
   "metadata": {},
   "outputs": [
    {
     "data": {
      "image/png": "[encoded data removed]",
      "text/plain": [
       "<Figure size 72x126 with 1 Axes>"
      ]
     },
     "metadata": {
      "needs_background": "light"
     },
     "output_type": "display_data"
    },
    {
     "name": "stdout",
     "output_type": "stream",
     "text": [
      "Low     1528\n",
      "High    1246\n",
      "Name: entropy_group, dtype: int64\n",
      "               count       mean  median        std\n",
      "entropy_group                                     \n",
      "High            1246  53.968700    45.0  28.963705\n",
      "Low             1528  45.475785    31.5  28.698362\n",
      "\n",
      "Wilcoxon Rank Sum Test Comparing Low vs High Groups:\n",
      "RanksumsResult(statistic=-11.860694131223966, pvalue=1.8939841887326663e-32)\n"
     ]
    }
   ],
   "source": [
    "fig,ax = plt.subplots(1,1, figsize = (1,1.75))\n",
    "\n",
    "sns.boxplot(data = gold_aataaa_gtrich, \n",
    "            x = 'entropy_group', y = 'gtrich_distance', showfliers = False,\n",
    "            boxprops = {'edgecolor' : 'black', 'linewidth' : 0.5},\n",
    "            medianprops = {'color' : 'black', 'linewidth' : 0.5},\n",
    "            whiskerprops = {'color' : 'black', 'linewidth' : 0.5},\n",
    "            capprops = {'color' : 'black', 'linewidth' : 0.5},\n",
    "            flierprops = {'color' : 'black'},\n",
    "            ax = ax)\n",
    "\n",
    "ax.set_xticklabels(ax.get_xticklabels(), rotation = 45, ha = 'right')\n",
    "\n",
    "ax.set_xlabel(\"Entropy\\nGroup\")\n",
    "ax.set_ylabel(\"AATAAA - GT/CT-Rich\\nIntermotif Distance\")\n",
    "\n",
    "ax.set_ylim(0,125)\n",
    "\n",
    "ax.spines['right'].set_visible(False)\n",
    "ax.spines['top'].set_visible(False)\n",
    "\n",
    "plt.savefig(os.path.join(OUTDIR, 'aataaa_gtrich_distance_boxplot.svg'), format = 'svg', dpi = 600, transparent = True)    \n",
    "plt.show()\n",
    "\n",
    "\n",
    "print(gold_aataaa_gtrich.entropy_group.value_counts())\n",
    "\n",
    "print(gold_aataaa_gtrich.groupby('entropy_group')['gtrich_distance'].agg(['count','mean','median','std']))\n",
    "\n",
    "print(f\"\\nWilcoxon Rank Sum Test Comparing Low vs High Groups:\")\n",
    "print(st.ranksums(gold_aataaa_gtrich.loc[gold_aataaa_gtrich['entropy_group'] == 'Low', 'gtrich_distance'],\n",
    "                  gold_aataaa_gtrich.loc[gold_aataaa_gtrich['entropy_group'] == 'High', 'gtrich_distance']))\n"
   ]
  },
  {
   "cell_type": "markdown",
   "metadata": {},
   "source": [
    "## Alter Distances and Observe Effect on Cleavage Entropy"
   ]
  },
  {
   "cell_type": "code",
   "execution_count": 44,
   "metadata": {},
   "outputs": [],
   "source": [
    "MOTDIR = os.path.join(PROJECT,'model','motif_removal')"
   ]
  },
  {
   "cell_type": "markdown",
   "metadata": {},
   "source": [
    "#### Subset Sites with Various AATAAA - Rich Distances"
   ]
  },
  {
   "cell_type": "code",
   "execution_count": 57,
   "metadata": {},
   "outputs": [
    {
     "name": "stdout",
     "output_type": "stream",
     "text": [
      "(676, 59)\n",
      "(635, 59)\n"
     ]
    }
   ],
   "source": [
    "gold_aataaa_trich['pasID'] = gold_aataaa_trich.apply(lambda row: f'{int(row.name):06d}:{row.chrom}:{row.start}:{row.strand}', axis = 1)\n",
    "\n",
    "condL1 = (gold_aataaa_trich['entropy_group'] == 'Low')\n",
    "condL2 = (gold_aataaa_trich['trich_distance'].between(20,40))\n",
    "\n",
    "condH1 = (gold_aataaa_trich['entropy_group'] == 'High')\n",
    "condH2 = (gold_aataaa_trich['trich_distance'].between(40,100))\n",
    "\n",
    "gold_aataaa_trich_close = gold_aataaa_trich.loc[condL1 & condL2].copy()\n",
    "gold_aataaa_trich_far   = gold_aataaa_trich.loc[condH1 & condH2].copy()\n",
    "\n",
    "print(gold_aataaa_trich_close.shape)\n",
    "print(gold_aataaa_trich_far.shape)\n",
    "\n",
    "outcol = ['pasID','sequence','entropy_group','aataaa_idx','trich_idx','trich_distance']\n",
    "\n",
    "gold_aataaa_trich_close[outcol].to_csv(os.path.join(MOTDIR, 'cleavage_distances_redist', 'aataaa_trich_close.txt'), sep = \"\\t\", index = False)\n",
    "gold_aataaa_trich_far[outcol].to_csv(os.path.join(MOTDIR, 'cleavage_distances_redist', 'aataaa_trich_far.txt'), sep = \"\\t\", index = False)\n"
   ]
  },
  {
   "cell_type": "code",
   "execution_count": 58,
   "metadata": {},
   "outputs": [
    {
     "name": "stdout",
     "output_type": "stream",
     "text": [
      "(949, 59)\n",
      "(658, 59)\n"
     ]
    }
   ],
   "source": [
    "gold_aataaa_gtrich['pasID'] = gold_aataaa_gtrich.apply(lambda row: f'{int(row.name):06d}:{row.chrom}:{row.start}:{row.strand}', axis = 1)\n",
    "\n",
    "condL1 = (gold_aataaa_gtrich['entropy_group'] == 'Low')\n",
    "condL2 = (gold_aataaa_gtrich['gtrich_distance'].between(20,40))\n",
    "\n",
    "condH1 = (gold_aataaa_gtrich['entropy_group'] == 'High')\n",
    "condH2 = (gold_aataaa_gtrich['gtrich_distance'].between(40,100))\n",
    "\n",
    "gold_aataaa_gtrich_close = gold_aataaa_gtrich.loc[condL1 & condL2].copy()\n",
    "gold_aataaa_gtrich_far   = gold_aataaa_gtrich.loc[condH1 & condH2].copy()\n",
    "\n",
    "print(gold_aataaa_gtrich_close.shape)\n",
    "print(gold_aataaa_gtrich_far.shape)\n",
    "\n",
    "outcol = ['pasID','sequence','entropy_group','aataaa_idx','gtrich_idx','gtrich_distance']\n",
    "\n",
    "gold_aataaa_gtrich_close[outcol].to_csv(os.path.join(MOTDIR, 'cleavage_distances_redist', 'aataaa_gtrich_close.txt'), sep = \"\\t\", index = False)\n",
    "gold_aataaa_gtrich_far[outcol].to_csv(os.path.join(MOTDIR, 'cleavage_distances_redist', 'aataaa_gtrich_far.txt'), sep = \"\\t\", index = False)\n"
   ]
  },
  {
   "cell_type": "markdown",
   "metadata": {},
   "source": [
    "#### Load Results from Modulating Distances"
   ]
  },
  {
   "cell_type": "code",
   "execution_count": 47,
   "metadata": {
    "scrolled": false
   },
   "outputs": [
    {
     "name": "stdout",
     "output_type": "stream",
     "text": [
      "Parameters:\n",
      "\tMotif group = T-Rich\n",
      "\tDistance group = close\n",
      "\tMoving = both\n",
      "(676, 6)\n"
     ]
    },
    {
     "data": {
      "image/png": "[encoded data removed]",
      "text/plain": [
       "<Figure size 90x90 with 1 Axes>"
      ]
     },
     "metadata": {
      "needs_background": "light"
     },
     "output_type": "display_data"
    },
    {
     "name": "stdout",
     "output_type": "stream",
     "text": [
      "Kruskal-Wallis H-Test for Independent Samples for Classification Probability:\n",
      "KruskalResult(statistic=24.057836111598842, pvalue=0.007448347205729629)\n"
     ]
    },
    {
     "data": {
      "image/png": "[encoded data removed]",
      "text/plain": [
       "<Figure size 90x90 with 1 Axes>"
      ]
     },
     "metadata": {
      "needs_background": "light"
     },
     "output_type": "display_data"
    },
    {
     "name": "stdout",
     "output_type": "stream",
     "text": [
      "Kruskal-Wallis H-Test for Independent Samples for Cleavage Vector Entropy:\n",
      "KruskalResult(statistic=3386.677330278409, pvalue=0.0)\n"
     ]
    }
   ],
   "source": [
    "cleavage_heterogeneity.process_cleavage_distances(MOTDIR, OUTDIR, 'T-Rich', 'close', 'both', class_ylims = (0.95,1), entropy_ylims = (0.95,1.55))\n"
   ]
  },
  {
   "cell_type": "code",
   "execution_count": 48,
   "metadata": {
    "scrolled": false
   },
   "outputs": [
    {
     "name": "stdout",
     "output_type": "stream",
     "text": [
      "Parameters:\n",
      "\tMotif group = T-Rich\n",
      "\tDistance group = far\n",
      "\tMoving = both\n",
      "(635, 6)\n"
     ]
    },
    {
     "data": {
      "image/png": "[encoded data removed]",
      "text/plain": [
       "<Figure size 90x90 with 1 Axes>"
      ]
     },
     "metadata": {
      "needs_background": "light"
     },
     "output_type": "display_data"
    },
    {
     "name": "stdout",
     "output_type": "stream",
     "text": [
      "Kruskal-Wallis H-Test for Independent Samples for Classification Probability:\n",
      "KruskalResult(statistic=2.1444671843776613, pvalue=0.995108173502705)\n"
     ]
    },
    {
     "data": {
      "image/png": "[encoded data removed]",
      "text/plain": [
       "<Figure size 90x90 with 1 Axes>"
      ]
     },
     "metadata": {
      "needs_background": "light"
     },
     "output_type": "display_data"
    },
    {
     "name": "stdout",
     "output_type": "stream",
     "text": [
      "Kruskal-Wallis H-Test for Independent Samples for Cleavage Vector Entropy:\n",
      "KruskalResult(statistic=1737.3342339082203, pvalue=0.0)\n"
     ]
    }
   ],
   "source": [
    "cleavage_heterogeneity.process_cleavage_distances(MOTDIR, OUTDIR, 'T-Rich', 'far', 'both', class_ylims = (0.95,1), entropy_ylims = (0.8,1.05))\n"
   ]
  },
  {
   "cell_type": "code",
   "execution_count": 49,
   "metadata": {},
   "outputs": [
    {
     "name": "stdout",
     "output_type": "stream",
     "text": [
      "Parameters:\n",
      "\tMotif group = GT-Rich\n",
      "\tDistance group = close\n",
      "\tMoving = both\n",
      "(949, 6)\n"
     ]
    },
    {
     "data": {
      "image/png": "[encoded data removed]",
      "text/plain": [
       "<Figure size 90x90 with 1 Axes>"
      ]
     },
     "metadata": {
      "needs_background": "light"
     },
     "output_type": "display_data"
    },
    {
     "name": "stdout",
     "output_type": "stream",
     "text": [
      "Kruskal-Wallis H-Test for Independent Samples for Classification Probability:\n",
      "KruskalResult(statistic=58.30264402888573, pvalue=7.581294955073928e-09)\n"
     ]
    },
    {
     "data": {
      "image/png": "[encoded data removed]",
      "text/plain": [
       "<Figure size 90x90 with 1 Axes>"
      ]
     },
     "metadata": {
      "needs_background": "light"
     },
     "output_type": "display_data"
    },
    {
     "name": "stdout",
     "output_type": "stream",
     "text": [
      "Kruskal-Wallis H-Test for Independent Samples for Cleavage Vector Entropy:\n",
      "KruskalResult(statistic=4474.621491155153, pvalue=0.0)\n"
     ]
    }
   ],
   "source": [
    "cleavage_heterogeneity.process_cleavage_distances(MOTDIR, OUTDIR, 'GT-Rich', 'close', 'both', class_ylims = (0.95,1), entropy_ylims = (0.9,1.5))\n"
   ]
  },
  {
   "cell_type": "code",
   "execution_count": 50,
   "metadata": {},
   "outputs": [
    {
     "name": "stdout",
     "output_type": "stream",
     "text": [
      "Parameters:\n",
      "\tMotif group = GT-Rich\n",
      "\tDistance group = far\n",
      "\tMoving = both\n",
      "(658, 6)\n"
     ]
    },
    {
     "data": {
      "image/png": "[encoded data removed]",
      "text/plain": [
       "<Figure size 90x90 with 1 Axes>"
      ]
     },
     "metadata": {
      "needs_background": "light"
     },
     "output_type": "display_data"
    },
    {
     "name": "stdout",
     "output_type": "stream",
     "text": [
      "Kruskal-Wallis H-Test for Independent Samples for Classification Probability:\n",
      "KruskalResult(statistic=2.30044222211374, pvalue=0.993475825848273)\n"
     ]
    },
    {
     "data": {
      "image/png": "[encoded data removed]",
      "text/plain": [
       "<Figure size 90x90 with 1 Axes>"
      ]
     },
     "metadata": {
      "needs_background": "light"
     },
     "output_type": "display_data"
    },
    {
     "name": "stdout",
     "output_type": "stream",
     "text": [
      "Kruskal-Wallis H-Test for Independent Samples for Cleavage Vector Entropy:\n",
      "KruskalResult(statistic=1852.2054058057215, pvalue=0.0)\n"
     ]
    }
   ],
   "source": [
    "cleavage_heterogeneity.process_cleavage_distances(MOTDIR, OUTDIR, 'GT-Rich', 'far', 'both', class_ylims = (0.95,1), entropy_ylims = (0.8,1.05))\n"
   ]
  }
 ],
 "metadata": {
  "kernelspec": {
   "display_name": "Python (tf-train)",
   "language": "python",
   "name": "tf-train"
  },
  "language_info": {
   "codemirror_mode": {
    "name": "ipython",
    "version": 3
   },
   "file_extension": ".py",
   "mimetype": "text/x-python",
   "name": "python",
   "nbconvert_exporter": "python",
   "pygments_lexer": "ipython3",
   "version": "3.6.12"
  },
  "vscode": {
   "interpreter": {
    "hash": "425115ae6637ada2b959655b34e22bdfbab2786b72fd7a6ba9076b4d899c9624"
   }
  }
 },
 "nbformat": 4,
 "nbformat_minor": 2
}
