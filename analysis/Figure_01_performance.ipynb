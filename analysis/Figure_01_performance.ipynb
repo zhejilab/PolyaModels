{
 "cells": [
  {
   "cell_type": "markdown",
   "metadata": {},
   "source": [
    "# Figure 1: Model performance\n",
    "\n",
    "**Description:** Classification and cleavage deep learning model can accurately predict the location of polyA sites genome-wide and the cleavage probabilities surrounding them. Additionally, the development of a sequence strength models helps discriminate strong and weak sites.\n",
    "\n",
    "&rarr; Run this notebook with the `tf-train` kernel\n"
   ]
  },
  {
   "cell_type": "code",
   "execution_count": 1,
   "metadata": {},
   "outputs": [],
   "source": [
    "%load_ext autoreload"
   ]
  },
  {
   "cell_type": "code",
   "execution_count": 2,
   "metadata": {},
   "outputs": [],
   "source": [
    "%autoreload 2"
   ]
  },
  {
   "cell_type": "code",
   "execution_count": 3,
   "metadata": {},
   "outputs": [
    {
     "name": "stderr",
     "output_type": "stream",
     "text": [
      "Using TensorFlow backend.\n"
     ]
    }
   ],
   "source": [
    "%run -i notebook_setup.py"
   ]
  },
  {
   "cell_type": "markdown",
   "metadata": {},
   "source": [
    "## IMPORTS AND SETUP"
   ]
  },
  {
   "cell_type": "code",
   "execution_count": 4,
   "metadata": {},
   "outputs": [],
   "source": [
    "import utilities\n",
    "from utilities import classification_cleavage, relative_strength, sequence, model_builder, genomic_context\n"
   ]
  },
  {
   "cell_type": "code",
   "execution_count": 5,
   "metadata": {},
   "outputs": [],
   "source": [
    "## specify working directories\n",
    "\n",
    "PROJECT = \"/projects/b1080/eks/polyadenylation\"\n",
    "DATADIR = os.path.join(PROJECT, \"manuscripts\", \"01_development\", \"data\")\n",
    "RESDIR  = os.path.join(PROJECT, \"manuscripts\", \"01_development\", \"analysis\", \"resources\")\n",
    "OUTDIR  = os.path.join(PROJECT, \"manuscripts\", \"01_development\", \"figures\", \"Figure_01\")\n",
    "os.makedirs(OUTDIR, exist_ok = True)\n"
   ]
  },
  {
   "cell_type": "markdown",
   "metadata": {},
   "source": [
    "## IMPORT DATA"
   ]
  },
  {
   "cell_type": "code",
   "execution_count": 6,
   "metadata": {},
   "outputs": [
    {
     "name": "stdout",
     "output_type": "stream",
     "text": [
      "Train: (1683371, 21)\n",
      "Valid: (208165, 21)\n",
      "Test:  (210225, 38)\n"
     ]
    }
   ],
   "source": [
    "with open(os.path.join(DATADIR, \"comprehensive_predictions\", \"polyaid_train_data.processed.pickle\"), mode = \"rb\") as handle:\n",
    "    polyaid_train_data = pickle.load(handle)\n",
    "    \n",
    "with open(os.path.join(DATADIR, \"comprehensive_predictions\", \"polyaid_val_data.processed.pickle\"), mode = \"rb\") as handle:\n",
    "    polyaid_val_data = pickle.load(handle)\n",
    "    \n",
    "with open(os.path.join(DATADIR, \"comprehensive_predictions\", \"polyaid_test_data.processed.pickle\"), mode = \"rb\") as handle:\n",
    "    polyaid_test_data = pickle.load(handle)\n",
    "    \n",
    "print(\"Train:\", polyaid_train_data.shape)\n",
    "print(\"Valid:\", polyaid_val_data.shape)\n",
    "print(\"Test: \", polyaid_test_data.shape)\n"
   ]
  },
  {
   "cell_type": "code",
   "execution_count": 7,
   "metadata": {},
   "outputs": [
    {
     "name": "stdout",
     "output_type": "stream",
     "text": [
      "(210225, 38)\n",
      "(91297, 38)\n",
      "(10771, 38)\n"
     ]
    }
   ],
   "source": [
    "cond1 = (polyaid_test_data['predclass'] == 'True Positive')\n",
    "cond2 = (polyaid_test_data['our-models_classification'] > 0.9)\n",
    "cond3 = (polyaid_test_data['our-models_cleavage_norm'].apply(lambda x : x[25] > 0.02))\n",
    "\n",
    "polyaid_tpdata  = polyaid_test_data.loc[cond1].copy()\n",
    "polyaid_posdata = polyaid_test_data.loc[cond1 & cond2 & cond3].copy()\n",
    "\n",
    "print(polyaid_test_data.shape)\n",
    "print(polyaid_tpdata.shape)\n",
    "print(polyaid_posdata.shape)\n"
   ]
  },
  {
   "cell_type": "code",
   "execution_count": null,
   "metadata": {},
   "outputs": [],
   "source": []
  },
  {
   "cell_type": "code",
   "execution_count": 8,
   "metadata": {},
   "outputs": [],
   "source": [
    "with open(os.path.join(DATADIR, \"comprehensive_predictions\", \"polyastrength_test_data.processed.pickle\"), mode = \"rb\") as handle:\n",
    "    polyastrength_test_data = pickle.load(handle)\n",
    "    \n",
    "with open(os.path.join(DATADIR, \"comprehensive_predictions\", \"polyastrength_pairs.processed.pickle\"), mode = \"rb\") as handle:\n",
    "    polyastrength_pairs_data = pickle.load(handle)\n",
    "    \n",
    "with open(os.path.join(RESDIR, 'polyastrength_pairs.wide.pickle'), mode = 'rb') as handle:\n",
    "    polyastrength_pairs_wide = pickle.load(handle)\n",
    "    "
   ]
  },
  {
   "cell_type": "markdown",
   "metadata": {},
   "source": [
    "## Model Performance"
   ]
  },
  {
   "cell_type": "markdown",
   "metadata": {},
   "source": [
    "### Classification"
   ]
  },
  {
   "cell_type": "markdown",
   "metadata": {},
   "source": [
    "#### Test split"
   ]
  },
  {
   "cell_type": "code",
   "execution_count": 9,
   "metadata": {},
   "outputs": [
    {
     "data": {
      "image/png": "[encoded data removed]",
      "text/plain": [
       "<Figure size 72x72 with 1 Axes>"
      ]
     },
     "metadata": {
      "needs_background": "light"
     },
     "output_type": "display_data"
    },
    {
     "name": "stdout",
     "output_type": "stream",
     "text": [
      "Corresponding metrics:\n",
      "\tTest AUROC = 0.9743700885169959\n"
     ]
    }
   ],
   "source": [
    "fig,axes = plt.subplots(1,1, figsize = (1,1))\n",
    "\n",
    "test_auc = classification_cleavage.plot_roc(axes, \n",
    "                                            polyaid_test_data['binary_score'],\n",
    "                                            polyaid_test_data['our-models_classification'],\n",
    "                                            label = 'Test')\n",
    "\n",
    "plt.savefig(os.path.join(OUTDIR, 'classification_performance.test_auroc.svg'), format = 'svg', dpi = 600, transparent = True)\n",
    "plt.show()\n",
    "\n",
    "\n",
    "print(\"Corresponding metrics:\")\n",
    "print(f\"\\tTest AUROC = {test_auc}\")\n"
   ]
  },
  {
   "cell_type": "markdown",
   "metadata": {},
   "source": [
    "#### All splits"
   ]
  },
  {
   "cell_type": "code",
   "execution_count": 10,
   "metadata": {},
   "outputs": [],
   "source": [
    "labels = ['Training','Validation','Testing']\n",
    "aurocs, auprcs = zip(*[classification_cleavage.calculate_auc(pdata['binary_score'], pdata['our-models_classification']) for pdata in [polyaid_train_data, polyaid_val_data, polyaid_test_data]])\n"
   ]
  },
  {
   "cell_type": "code",
   "execution_count": 11,
   "metadata": {},
   "outputs": [
    {
     "data": {
      "image/png": "[encoded data removed]",
      "text/plain": [
       "<Figure size 36x108 with 1 Axes>"
      ]
     },
     "metadata": {
      "needs_background": "light"
     },
     "output_type": "display_data"
    },
    {
     "name": "stdout",
     "output_type": "stream",
     "text": [
      "Corresponding metrics:\n",
      "\tTraining\tAUROC = 0.9739820169753732\n",
      "\tValidation\tAUROC = 0.9741499302736149\n",
      "\tTesting\tAUROC = 0.9743700885169959\n"
     ]
    }
   ],
   "source": [
    "fig,ax = plt.subplots(1, 1, figsize = (0.5,1.5))\n",
    "\n",
    "ax.bar(x = np.arange(len(aurocs)), height = aurocs, color = 'gray', edgecolor = 'black', linewidth = 0.5)\n",
    "\n",
    "for (i,a) in enumerate(aurocs):\n",
    "    ax.text(x = i, y = a+0.01, s = str(round(a,2)), fontsize = 5, ha = 'center', va = 'bottom')\n",
    "\n",
    "ax.set_xticks(np.arange(len(aurocs)))\n",
    "ax.set_xticklabels(labels, rotation = 45, ha = 'right')\n",
    "\n",
    "ax.set_ylabel(\"Area under the\\nreceiver-operating\\ncharacteristic curve\")\n",
    "ax.set_ylim((0,1.05))\n",
    "ax.yaxis.set_major_locator(MultipleLocator(0.5))\n",
    " \n",
    "ax.spines['right'].set_visible(False)\n",
    "ax.spines['top'].set_visible(False)\n",
    "\n",
    "plt.savefig(os.path.join(OUTDIR, 'classification_performance.auroc_by_split.svg'), format = 'svg', dpi = 600, transparent = True)\n",
    "plt.show()\n",
    "\n",
    "\n",
    "print(\"Corresponding metrics:\")\n",
    "for p,p_auroc in zip(labels, aurocs): print(f\"\\t{p}\\tAUROC = {p_auroc}\")\n",
    "    "
   ]
  },
  {
   "cell_type": "code",
   "execution_count": 12,
   "metadata": {},
   "outputs": [
    {
     "data": {
      "image/png": "[encoded data removed]",
      "text/plain": [
       "<Figure size 36x108 with 1 Axes>"
      ]
     },
     "metadata": {
      "needs_background": "light"
     },
     "output_type": "display_data"
    },
    {
     "name": "stdout",
     "output_type": "stream",
     "text": [
      "Corresponding metrics:\n",
      "\tTraining\tAUPRC = 0.9801795603370609\n",
      "\tValidation\tAUPRC = 0.9803972785764126\n",
      "\tTesting\tAUPRC = 0.9804936651406256\n"
     ]
    }
   ],
   "source": [
    "fig,ax = plt.subplots(1, 1, figsize = (0.5,1.5))\n",
    "\n",
    "ax.bar(x = np.arange(len(auprcs)), height = auprcs, color = 'gray', edgecolor = 'black', linewidth = 0.5)\n",
    "\n",
    "for (i,a) in enumerate(auprcs):\n",
    "    ax.text(x = i, y = a+0.01, s = str(round(a,2)), fontsize = 5, ha = 'center', va = 'bottom')\n",
    "\n",
    "ax.set_xticks(np.arange(len(aurocs)))\n",
    "ax.set_xticklabels(labels, rotation = 45, ha = 'right')\n",
    "\n",
    "ax.set_ylabel(\"Area under the\\nprecision-recall curve\")\n",
    "ax.set_ylim((0,1.05))\n",
    "ax.yaxis.set_major_locator(MultipleLocator(0.5))\n",
    " \n",
    "ax.spines['right'].set_visible(False)\n",
    "ax.spines['top'].set_visible(False)\n",
    "\n",
    "plt.savefig(os.path.join(OUTDIR, 'classification_performance.auprc_by_split.svg'), format = 'svg', dpi = 600, transparent = True)\n",
    "plt.show()\n",
    "\n",
    "\n",
    "print(\"Corresponding metrics:\")\n",
    "for p,p_auprc in zip(labels, auprcs): print(f\"\\t{p}\\tAUPRC = {p_auprc}\")\n",
    "    "
   ]
  },
  {
   "cell_type": "markdown",
   "metadata": {},
   "source": [
    "#### As a function of overall relative usage"
   ]
  },
  {
   "cell_type": "code",
   "execution_count": 13,
   "metadata": {},
   "outputs": [
    {
     "data": {
      "image/png": "[encoded data removed]",
      "text/plain": [
       "<Figure size 72x72 with 1 Axes>"
      ]
     },
     "metadata": {
      "needs_background": "light"
     },
     "output_type": "display_data"
    },
    {
     "name": "stdout",
     "output_type": "stream",
     "text": [
      "Corresponding metrics:\n",
      "Number of sites in each usage bin-\n",
      "ru_bins3\n",
      "(0.0, 0.2]    3886\n",
      "(0.2, 0.8]     887\n",
      "(0.8, 1.0]     504\n",
      "Name: count, dtype: int64\n"
     ]
    }
   ],
   "source": [
    "fig,ax = plt.subplots(1,1, figsize = (1, 1))\n",
    "\n",
    "plot_data = polyastrength_test_data.copy()\n",
    "\n",
    "plot_data['classification_bin'] = pd.cut(plot_data['our-models_classification'], bins = [0,0.5,0.9,1])\n",
    "plot_data['ru_bins3'] = pd.cut(plot_data['relative_usage'], bins = [0,0.2,0.8,1.0])\n",
    "plot_data = plot_data.groupby(['classification_bin','ru_bins3']).size().reset_index().rename(columns = {0:'count'})\n",
    "plot_data['ru_bins3_frac'] = plot_data['count'] / plot_data.groupby('classification_bin')['count'].transform('sum') * 100\n",
    "plot_data['class_bins_frac'] = plot_data['count'] / plot_data.groupby('ru_bins3')['count'].transform('sum') * 100\n",
    "\n",
    "class1_data = plot_data.loc[plot_data['classification_bin'] == plot_data['classification_bin'].unique()[0], 'class_bins_frac'].to_numpy()\n",
    "class2_data = plot_data.loc[plot_data['classification_bin'] == plot_data['classification_bin'].unique()[1], 'class_bins_frac'].to_numpy()\n",
    "class3_data = plot_data.loc[plot_data['classification_bin'] == plot_data['classification_bin'].unique()[2], 'class_bins_frac'].to_numpy()\n",
    "\n",
    "ax.bar([1,2,3], class3_data, edgecolor = 'black', linewidth = 0.5, color = 'C7', label = plot_data['classification_bin'].unique()[2])\n",
    "ax.bar([1,2,3], class2_data, bottom = class3_data, edgecolor = 'black', linewidth = 0.5, color = 'C9', label = plot_data['classification_bin'].unique()[1])\n",
    "ax.bar([1,2,3], class1_data, bottom = class3_data+class2_data, edgecolor = 'black', linewidth = 0.5, color = 'C6', label = plot_data['classification_bin'].unique()[0])\n",
    "\n",
    "ax.set_ylim(0,101)\n",
    "ax.legend(bbox_to_anchor = (1.05,1))\n",
    "\n",
    "ax.set_xlabel(\"Relative Usage\")\n",
    "ax.set_ylabel(\"Fraction of\\nSites (%)\")\n",
    "\n",
    "ax.spines['right'].set_visible(False)\n",
    "ax.spines['top'].set_visible(False)\n",
    "\n",
    "plt.savefig(os.path.join(OUTDIR, 'classification_performance.stackedbar_by_ru.flipped.svg'), format = 'svg', dpi = 600)\n",
    "plt.show()\n",
    "\n",
    "\n",
    "print(\"Corresponding metrics:\")\n",
    "print(\"Number of sites in each usage bin-\")\n",
    "print(plot_data.groupby('ru_bins3')['count'].sum())\n"
   ]
  },
  {
   "cell_type": "code",
   "execution_count": 14,
   "metadata": {},
   "outputs": [
    {
     "data": {
      "image/png": "[encoded data removed]",
      "text/plain": [
       "<Figure size 72x108 with 1 Axes>"
      ]
     },
     "metadata": {
      "needs_background": "light"
     },
     "output_type": "display_data"
    },
    {
     "name": "stdout",
     "output_type": "stream",
     "text": [
      "Corresponding metrics:\n",
      "Number of sites in each usage bin-\n",
      "             count      mean       std        min       25%       50%  \\\n",
      "ru_bins3                                                                \n",
      "(0.0, 0.2]  3886.0 -5.664141  2.381193 -13.190360 -7.233835 -5.945035   \n",
      "(0.2, 0.8]   887.0 -3.458875  2.629775  -8.952475 -5.459996 -3.815488   \n",
      "(0.8, 1.0]   504.0 -1.557789  3.190232 -10.708541 -3.884048 -1.779701   \n",
      "\n",
      "                 75%       max  \n",
      "ru_bins3                        \n",
      "(0.0, 0.2] -4.434760  7.200404  \n",
      "(0.2, 0.8] -1.783391  6.722204  \n",
      "(0.8, 1.0]  0.432313  9.978630  \n"
     ]
    }
   ],
   "source": [
    "fig,ax = plt.subplots(1,1, figsize = (1, 1.5))\n",
    "\n",
    "plot_data = polyastrength_test_data.copy()\n",
    "plot_data['ru_bins3'] = pd.cut(plot_data['relative_usage'], bins = [0,0.2,0.8,1.0])\n",
    "\n",
    "sns.boxplot(data = plot_data, x = 'ru_bins3', y = 'our-models_strength',\n",
    "            boxprops = {'edgecolor' : 'black', 'linewidth' : 0.5},\n",
    "            medianprops = {'color' : 'black', 'linewidth' : 0.5},\n",
    "            whiskerprops = {'color' : 'black', 'linewidth' : 0.5},\n",
    "            capprops = {'color' : 'black', 'linewidth' : 0.5},\n",
    "            flierprops = {'color' : 'black', 'markersize': 1},\n",
    "            ax = ax, showfliers = True)\n",
    "\n",
    "ax.set_ylabel(\"PolyaStrength score (log-odds)\")\n",
    "ax.set_ylim(-15,10)\n",
    "ax.yaxis.set_major_locator(MultipleLocator(5))\n",
    "\n",
    "ax.spines['right'].set_visible(False)\n",
    "ax.spines['top'].set_visible(False)\n",
    "\n",
    "plt.savefig(os.path.join(OUTDIR, 'strength_performance.correlation_boxplots.svg'), format = 'svg', dpi = 600)\n",
    "plt.show()\n",
    "\n",
    "print(\"Corresponding metrics:\")\n",
    "print(\"Number of sites in each usage bin-\")\n",
    "print(plot_data.groupby('ru_bins3')['our-models_strength'].describe())\n"
   ]
  },
  {
   "cell_type": "markdown",
   "metadata": {},
   "source": [
    "#### Partitioning highly and lowly used sites"
   ]
  },
  {
   "cell_type": "code",
   "execution_count": 15,
   "metadata": {},
   "outputs": [
    {
     "data": {
      "image/png": "[encoded data removed]",
      "text/plain": [
       "<Figure size 72x72 with 1 Axes>"
      ]
     },
     "metadata": {
      "needs_background": "light"
     },
     "output_type": "display_data"
    },
    {
     "name": "stdout",
     "output_type": "stream",
     "text": [
      "Corresponding metrics:\n",
      "Number of pairs- 8167\n"
     ]
    }
   ],
   "source": [
    "fig,ax = plt.subplots(1, 1, figsize = (1,1))\n",
    "\n",
    "pairs_auc = classification_cleavage.plot_roc(ax, \n",
    "                                             polyastrength_pairs_wide['random_class'],\n",
    "                                             polyastrength_pairs_wide['random_difference'],\n",
    "                                             label = 'Pairs')\n",
    "\n",
    "plt.savefig(os.path.join(OUTDIR, 'strength_performance.pairs_roc.svg'), format = 'svg', dpi = 600)\n",
    "plt.show()\n",
    "\n",
    "\n",
    "print(\"Corresponding metrics:\")\n",
    "print(\"Number of pairs-\", len(polyastrength_pairs_wide))\n"
   ]
  },
  {
   "cell_type": "markdown",
   "metadata": {},
   "source": [
    "### Cleavage Probabilities"
   ]
  },
  {
   "cell_type": "code",
   "execution_count": 16,
   "metadata": {},
   "outputs": [],
   "source": [
    "xs = np.arange(-25,25,1)\n",
    "polyaid_tpdata['scorevec_mcp'] = polyaid_tpdata['scorevec'].apply(lambda y : np.dot(xs, y/np.sum(y)))\n"
   ]
  },
  {
   "cell_type": "code",
   "execution_count": 17,
   "metadata": {},
   "outputs": [
    {
     "data": {
      "image/png": "[encoded data removed]",
      "text/plain": [
       "<Figure size 126x144 with 2 Axes>"
      ]
     },
     "metadata": {
      "needs_background": "light"
     },
     "output_type": "display_data"
    },
    {
     "name": "stdout",
     "output_type": "stream",
     "text": [
      "Corresponding metrics:\n",
      "\tSpearman correlation = 0.9627477983006325\n"
     ]
    }
   ],
   "source": [
    "fig,ax = plt.subplots(1, 1, figsize = (1.75, 2))\n",
    "\n",
    "pcorr = classification_cleavage.plot_cleavage_evaluation(fig, ax, polyaid_tpdata['scorevec_mcp'], polyaid_tpdata['our-models_mcp-raw'], corr = False)\n",
    "\n",
    "ax.set_xlabel(\"Observed mean\\ncleavage position\")\n",
    "ax.set_ylabel(\"Predicted mean\\ncleavage position\")\n",
    "\n",
    "ax.set_xlim(-25,25)\n",
    "ax.xaxis.set_major_locator(MultipleLocator(25))\n",
    "\n",
    "ax.set_ylim(-25,25)\n",
    "ax.yaxis.set_major_locator(MultipleLocator(25))\n",
    "\n",
    "plt.tight_layout(rect = [0, 0.03, 1, 0.97])\n",
    "plt.savefig(os.path.join(OUTDIR, 'cleavage_probabilities.correlation_mcp.svg'), format = 'svg', dpi = 600, transparent = True)\n",
    "plt.show()\n",
    "\n",
    "print(f\"Corresponding metrics:\\n\\tSpearman correlation = {pcorr}\")\n"
   ]
  },
  {
   "cell_type": "markdown",
   "metadata": {},
   "source": [
    "## Cleavage Profile Consolidation"
   ]
  },
  {
   "cell_type": "code",
   "execution_count": 18,
   "metadata": {},
   "outputs": [],
   "source": [
    "genome = sequence.loadgenome(os.path.join(DATADIR, \"hg38.genome.fa\"))\n",
    "\n",
    "with open(os.path.join(DATADIR, \"reads3_scoring_dictionary.pickle\"), mode = 'rb') as handle:\n",
    "    reads_dict = pickle.load(handle)\n"
   ]
  },
  {
   "cell_type": "markdown",
   "metadata": {},
   "source": [
    "### Simple Example: HBA2"
   ]
  },
  {
   "cell_type": "code",
   "execution_count": 19,
   "metadata": {},
   "outputs": [],
   "source": [
    "example = {\n",
    "    'gene' : 'HBA2',\n",
    "    'transcript' : 'ENST00000251595',\n",
    "    'chrom' : 'chr16',\n",
    "    'strand' : '+',\n",
    "    'start' : 172775,\n",
    "    'end' : 173910,\n",
    "    'gene_start' : 172875,\n",
    "    'gene_end' : 173710,\n",
    "    'coding_start' : 172912,\n",
    "    'coding_end' : 173600,\n",
    "    'exon_starts' : [172875,173124,173471],\n",
    "    'exon_ends' : [173007,173329,173710],\n",
    "}\n",
    "\n",
    "with open(os.path.join(RESDIR, 'prediction_inputs.simple_hba2.pickle'), mode = 'rb') as handle:\n",
    "    inputs = pickle.load(handle)\n"
   ]
  },
  {
   "cell_type": "code",
   "execution_count": 20,
   "metadata": {},
   "outputs": [
    {
     "data": {
      "image/png": "[encoded data removed]",
      "text/plain": [
       "<Figure size 576x144 with 3 Axes>"
      ]
     },
     "metadata": {
      "needs_background": "light"
     },
     "output_type": "display_data"
    }
   ],
   "source": [
    "fig,axes = plt.subplots(3, 1, figsize = (8,2), sharex = True, gridspec_kw = {'height_ratios' : [1,1,0.25]})\n",
    "\n",
    "classification_cleavage.whole_gene_classification(axes, example, inputs, reads_dict, nbins = 300)\n",
    "\n",
    "axes[0].set_ylabel(\"\\n\".join(wrap(\"Observed 3'READS Distribution\", 25)), rotation = 0, ha = 'right', va = 'center')\n",
    "axes[1].set_ylabel(\"\\n\".join(wrap(\"Classification Prediction (0.5 Threshold)\", 25)), rotation = 0, ha = 'right', va = 'center')\n",
    "\n",
    "plt.savefig(os.path.join(OUTDIR, 'whole_gene_classification.simple_hba2.pdf'), format = 'pdf', dpi = 600, transparent = True)\n",
    "plt.show()\n"
   ]
  },
  {
   "cell_type": "code",
   "execution_count": 21,
   "metadata": {},
   "outputs": [
    {
     "data": {
      "image/png": "[encoded data removed]",
      "text/plain": [
       "<Figure size 180x180 with 5 Axes>"
      ]
     },
     "metadata": {
      "needs_background": "light"
     },
     "output_type": "display_data"
    }
   ],
   "source": [
    "fig,axes = plt.subplots(5, 1, figsize = (2.5,2.5), sharex = True)\n",
    "\n",
    "classification_cleavage.cleavage_profile_explanation(axes, example, inputs, reads_dict, genome, \n",
    "                                                     visible_region = (173709-100, 173709+100), visible_labels = 'relative',\n",
    "                                                     cutoff_class = 0.5, cutoff_clv = 0.05, normalize = True,\n",
    "                                                     ylims_3reads = (0,10000), ylims_clv = (0,0.4))\n",
    "\n",
    "axes[0].set_ylabel(\"Observed\\n3'READS\",             rotation = 0, ha = 'right', va = 'center')\n",
    "axes[1].set_ylabel(\"PolyaID\\nclassification\",       rotation = 0, ha = 'right', va = 'center')\n",
    "axes[2].set_ylabel(\"Positive\\ncleavage\\nvectors\",   rotation = 0, ha = 'right', va = 'center')\n",
    "axes[3].set_ylabel(\"Normalized\\ncleavage\\nprofile\", rotation = 0, ha = 'right', va = 'center')\n",
    "axes[4].set_ylabel(\"Representative\\ncleavage site\", rotation = 0, ha = 'right', va = 'center')\n",
    "\n",
    "plt.tight_layout()\n",
    "plt.savefig(os.path.join(OUTDIR, 'cleavage_profile_explanation.simple_hba2.svg'), format = 'svg', dpi = 600, transparent = True)\n",
    "plt.show()\n"
   ]
  },
  {
   "cell_type": "markdown",
   "metadata": {},
   "source": [
    "### Complex Example: GPATCH11"
   ]
  },
  {
   "cell_type": "code",
   "execution_count": 22,
   "metadata": {},
   "outputs": [],
   "source": [
    "example = {\n",
    "    'gene' : 'GPATCH11',\n",
    "    'transcript' : 'NM_001278505.2',\n",
    "    'chrom' : 'chr2',\n",
    "    'strand' : '+',\n",
    "    'start' : 37084517-100,\n",
    "    'end' : 37099244+100,\n",
    "    'gene_start' : 37084517,\n",
    "    'gene_end' : 37099244,\n",
    "    'coding_start' : 37088433,\n",
    "    'coding_end' : 37096263,\n",
    "    'exon_starts' : [37084517,37088368,37091915,37092164,37094081,37095436,37096207],\n",
    "    'exon_ends' : [37084570,37088440,37092036,37092255,37094195,37095518,37099244],\n",
    "}\n",
    "\n",
    "with open(os.path.join(RESDIR, 'prediction_inputs.complex_gpatch11.pickle'), mode = 'rb') as handle:\n",
    "    inputs = pickle.load(handle)\n"
   ]
  },
  {
   "cell_type": "code",
   "execution_count": 23,
   "metadata": {},
   "outputs": [
    {
     "data": {
      "image/png": "[encoded data removed]",
      "text/plain": [
       "<Figure size 576x144 with 3 Axes>"
      ]
     },
     "metadata": {
      "needs_background": "light"
     },
     "output_type": "display_data"
    }
   ],
   "source": [
    "fig,axes = plt.subplots(3, 1, figsize = (8,2), sharex = True, gridspec_kw = {'height_ratios' : [1,1,0.25]})\n",
    "\n",
    "classification_cleavage.whole_gene_classification(axes, example, inputs, reads_dict, nbins = 300, arrow_int = 1000)\n",
    "\n",
    "axes[0].set_ylabel(\"\\n\".join(wrap(\"Observed 3'READS Distribution\", 25)), rotation = 0, ha = 'right', va = 'center')\n",
    "axes[1].set_ylabel(\"\\n\".join(wrap(\"Classification Prediction (0.5 Threshold)\", 25)), rotation = 0, ha = 'right', va = 'center')\n",
    "\n",
    "plt.savefig(os.path.join(OUTDIR, 'whole_gene_classification.complex_gpatch11.svg'), format = 'svg', dpi = 600, transparent = True)\n",
    "plt.show()\n"
   ]
  },
  {
   "cell_type": "code",
   "execution_count": 24,
   "metadata": {
    "scrolled": true
   },
   "outputs": [
    {
     "data": {
      "image/png": "[encoded data removed]",
      "text/plain": [
       "<Figure size 180x180 with 5 Axes>"
      ]
     },
     "metadata": {
      "needs_background": "light"
     },
     "output_type": "display_data"
    }
   ],
   "source": [
    "fig,axes = plt.subplots(5, 1, figsize = (2.5,2.5), sharex = True)\n",
    "\n",
    "classification_cleavage.cleavage_profile_explanation(axes, example, inputs, reads_dict, genome, \n",
    "                                                     visible_region = (37099205-100, 37099205+100), visible_labels = 'relative',\n",
    "                                                     cutoff_class = 0.5, cutoff_clv = 0.05, normalize = True, ylims_3reads = (0,10), ylims_clv = (0,0.2))\n",
    "\n",
    "axes[0].set_ylabel(\"Observed\\n3'READS\", rotation = 0, ha = 'right', va = 'center')\n",
    "axes[1].set_ylabel(\"Classification\\nPrediction\", rotation = 0, ha = 'right', va = 'center')\n",
    "axes[2].set_ylabel(\"Positive\\nCleavage\\nVectors\", rotation = 0, ha = 'right', va = 'center')\n",
    "axes[3].set_ylabel(\"Normalized\\nCleavage\\nProfile\", rotation = 0, ha = 'right', va = 'center')\n",
    "axes[4].set_ylabel(\"Maximum\\nSite\", rotation = 0, ha = 'right', va = 'center')\n",
    "\n",
    "plt.tight_layout()\n",
    "plt.savefig(os.path.join(OUTDIR, 'cleavage_profile_explanation.complex_gpatch11.svg'), format = 'svg', dpi = 600, transparent = True)\n",
    "plt.show()\n"
   ]
  },
  {
   "cell_type": "markdown",
   "metadata": {},
   "source": [
    "## 3'READS Sites"
   ]
  },
  {
   "cell_type": "markdown",
   "metadata": {},
   "source": [
    "### By signal"
   ]
  },
  {
   "cell_type": "markdown",
   "metadata": {},
   "source": [
    "#### Number of sites"
   ]
  },
  {
   "cell_type": "code",
   "execution_count": 25,
   "metadata": {},
   "outputs": [
    {
     "name": "stdout",
     "output_type": "stream",
     "text": [
      "(109814, 19) 22457\n"
     ]
    }
   ],
   "source": [
    "reads3_sites_clust = pd.read_csv(os.path.join(DATADIR, 'reads3_polya_sites.annotated.clust_assoc.txt'))\n",
    "print(reads3_sites_clust.shape, reads3_sites_clust['gene'].nunique())\n"
   ]
  },
  {
   "cell_type": "code",
   "execution_count": 26,
   "metadata": {},
   "outputs": [
    {
     "data": {
      "image/png": "[encoded data removed]",
      "text/plain": [
       "<Figure size 108x108 with 1 Axes>"
      ]
     },
     "metadata": {},
     "output_type": "display_data"
    },
    {
     "name": "stdout",
     "output_type": "stream",
     "text": [
      "Corresponding data:\n",
      "        count      prop            label\n",
      "signal                                  \n",
      "AATAAA  48551  0.442120  AATAAA (44.21%)\n",
      "ATTAAA  16405  0.149389  ATTAAA (14.94%)\n",
      "Others  44858  0.408491  Others (40.85%)\n"
     ]
    }
   ],
   "source": [
    "fig,ax = plt.subplots(1,1, figsize = (1.5,1.5))\n",
    "\n",
    "signal_ordering = ['AATAAA','ATTAAA','Others']\n",
    "\n",
    "plot_data = (reads3_sites_clust\n",
    "             ['signal2']\n",
    "             .value_counts()\n",
    "             .reset_index()\n",
    "             .rename(columns = {'signal2': 'count', 'index' : 'signal'})\n",
    "            )\n",
    "\n",
    "plot_data['prop'] = plot_data['count'] / plot_data['count'].sum()\n",
    "plot_data['label'] = plot_data['signal'] + \" (\" + (plot_data['prop']*100).round(2).astype(str) + \"%)\"\n",
    "plot_data = plot_data.set_index('signal')\n",
    "plot_data = plot_data.loc[signal_ordering]\n",
    "\n",
    "wedges, texts = plt.pie(plot_data['prop'], \n",
    "                        labels = plot_data['label'],\n",
    "                        startangle = 90, counterclock = False,\n",
    "                        wedgeprops = {'linewidth' : 0.5, 'edgecolor' : 'black'}\n",
    "                       )\n",
    "\n",
    "ax.legend(wedges, plot_data['label'],\n",
    "          title=\"\",\n",
    "          loc=\"center left\",\n",
    "          bbox_to_anchor=(1, 0, 0.5, 1))\n",
    "\n",
    "plt.savefig(os.path.join(OUTDIR, 'sites_by_upstream_signal.clust.pie.svg'), format = 'svg', dpi = 600, transparent = True)\n",
    "plt.show()\n",
    "\n",
    "\n",
    "print(\"Corresponding data:\")\n",
    "print(plot_data)\n"
   ]
  },
  {
   "cell_type": "markdown",
   "metadata": {},
   "source": [
    "### Nucleotide density"
   ]
  },
  {
   "cell_type": "markdown",
   "metadata": {},
   "source": [
    "#### Overall"
   ]
  },
  {
   "cell_type": "code",
   "execution_count": 27,
   "metadata": {},
   "outputs": [],
   "source": [
    "with open(os.path.join(RESDIR, 'reads3_polya_sites.nucleotide_density.clust.pickle'), mode = 'rb') as handle:\n",
    "    nt_dict = pickle.load(handle)\n",
    "    "
   ]
  },
  {
   "cell_type": "code",
   "execution_count": 28,
   "metadata": {},
   "outputs": [
    {
     "data": {
      "image/png": "[encoded data removed]",
      "text/plain": [
       "<Figure size 72x72 with 1 Axes>"
      ]
     },
     "metadata": {
      "needs_background": "light"
     },
     "output_type": "display_data"
    }
   ],
   "source": [
    "fig,ax = plt.subplots(1,1, figsize = (1,1))\n",
    "\n",
    "xs = np.arange(-120,120,1)\n",
    "plot_data = nt_dict['all']\n",
    "\n",
    "ax.plot(xs, plot_data[:,0]*100, linewidth = 1, label = 'A')\n",
    "ax.plot(xs, plot_data[:,1]*100, linewidth = 1, label = 'C')\n",
    "ax.plot(xs, plot_data[:,2]*100, linewidth = 1, label = 'G')\n",
    "ax.plot(xs, plot_data[:,3]*100, linewidth = 1, label = 'T')\n",
    "\n",
    "ax.legend(bbox_to_anchor = (1.05,1.0))\n",
    "\n",
    "ax.spines['right'].set_visible(False)\n",
    "ax.spines['top'].set_visible(False)\n",
    "\n",
    "ax.set_xlabel(\"Position relative to max cleavage site\")\n",
    "ax.set_xlim(-120,120)\n",
    "ax.xaxis.set_major_locator(MultipleLocator(30))\n",
    "\n",
    "ax.set_ylabel(\"Nucleotide frequency (%)\")\n",
    "ax.set_ylim(0,100)\n",
    "ax.yaxis.set_major_locator(MultipleLocator(20))\n",
    "\n",
    "plt.savefig(os.path.join(OUTDIR, '01.supp.nucleotide_density.overall.clust.svg'), format = 'svg', dpi = 600)\n",
    "plt.show()\n"
   ]
  },
  {
   "cell_type": "code",
   "execution_count": 29,
   "metadata": {},
   "outputs": [
    {
     "name": "stdout",
     "output_type": "stream",
     "text": [
      "AATAAA\t0.76\t89.83\n"
     ]
    },
    {
     "data": {
      "image/png": "[encoded data removed]",
      "text/plain": [
       "<Figure size 72x72 with 1 Axes>"
      ]
     },
     "metadata": {
      "needs_background": "light"
     },
     "output_type": "display_data"
    },
    {
     "name": "stdout",
     "output_type": "stream",
     "text": [
      "ATTAAA\t0.78\t89.84\n"
     ]
    },
    {
     "data": {
      "image/png": "[encoded data removed]",
      "text/plain": [
       "<Figure size 72x72 with 1 Axes>"
      ]
     },
     "metadata": {
      "needs_background": "light"
     },
     "output_type": "display_data"
    },
    {
     "name": "stdout",
     "output_type": "stream",
     "text": [
      "Others\t4.30\t79.53\n"
     ]
    },
    {
     "data": {
      "image/png": "[encoded data removed]",
      "text/plain": [
       "<Figure size 72x72 with 1 Axes>"
      ]
     },
     "metadata": {
      "needs_background": "light"
     },
     "output_type": "display_data"
    }
   ],
   "source": [
    "for signal in ['AATAAA','ATTAAA','Others']:\n",
    "\n",
    "    fig,ax = plt.subplots(1,1, figsize = (1,1))\n",
    "\n",
    "    xs = np.arange(-120,120,1)\n",
    "    plot_data = nt_dict[signal]\n",
    "\n",
    "    ax.plot(xs, plot_data[:,0]*100, linewidth = 1, label = 'A')\n",
    "    ax.plot(xs, plot_data[:,1]*100, linewidth = 1, label = 'C')\n",
    "    ax.plot(xs, plot_data[:,2]*100, linewidth = 1, label = 'G')\n",
    "    ax.plot(xs, plot_data[:,3]*100, linewidth = 1, label = 'T')\n",
    "    \n",
    "    print(f'{signal}\\t{np.min(plot_data*100):.02f}\\t{np.max(plot_data*100):.02f}')\n",
    "\n",
    "    ax.legend(bbox_to_anchor = (1.05,1.0))\n",
    "\n",
    "    ax.spines['right'].set_visible(False)\n",
    "    ax.spines['top'].set_visible(False)\n",
    "\n",
    "    ax.set_xlabel(\"Position relative to max cleavage site (nt)\")\n",
    "    ax.set_xlim(-120,120)\n",
    "    ax.xaxis.set_major_locator(MultipleLocator(30))\n",
    "\n",
    "    ax.set_ylabel(\"Nucleotide frequency (%)\")\n",
    "    ax.set_ylim(0,100)\n",
    "    ax.yaxis.set_major_locator(MultipleLocator(20))\n",
    "\n",
    "    plt.savefig(os.path.join(OUTDIR, f'01.supp.nucleotide_density.clust.{signal.lower()}.svg'), format = 'svg', dpi = 600)\n",
    "    plt.show()\n"
   ]
  },
  {
   "cell_type": "code",
   "execution_count": null,
   "metadata": {},
   "outputs": [],
   "source": []
  }
 ],
 "metadata": {
  "kernelspec": {
   "display_name": "Python (tf-train)",
   "language": "python",
   "name": "tf-train"
  },
  "language_info": {
   "codemirror_mode": {
    "name": "ipython",
    "version": 3
   },
   "file_extension": ".py",
   "mimetype": "text/x-python",
   "name": "python",
   "nbconvert_exporter": "python",
   "pygments_lexer": "ipython3",
   "version": "3.6.12"
  },
  "vscode": {
   "interpreter": {
    "hash": "425115ae6637ada2b959655b34e22bdfbab2786b72fd7a6ba9076b4d899c9624"
   }
  }
 },
 "nbformat": 4,
 "nbformat_minor": 2
}
