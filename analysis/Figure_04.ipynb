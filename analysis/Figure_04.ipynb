{
 "cells": [
  {
   "cell_type": "markdown",
   "metadata": {},
   "source": [
    "# Figure 4\n",
    "\n",
    "**Description:** Distribution and characteristics of putative polyA sites across the genome.\n",
    "\n",
    "&rarr; Run this notebook with the `tf-train` kernel\n"
   ]
  },
  {
   "cell_type": "code",
   "execution_count": 1,
   "metadata": {},
   "outputs": [],
   "source": [
    "%load_ext autoreload"
   ]
  },
  {
   "cell_type": "code",
   "execution_count": 2,
   "metadata": {},
   "outputs": [],
   "source": [
    "%autoreload 2"
   ]
  },
  {
   "cell_type": "code",
   "execution_count": 3,
   "metadata": {},
   "outputs": [
    {
     "name": "stderr",
     "output_type": "stream",
     "text": [
      "Using TensorFlow backend.\n"
     ]
    }
   ],
   "source": [
    "%run -i notebook_setup.py"
   ]
  },
  {
   "cell_type": "markdown",
   "metadata": {},
   "source": [
    "## IMPORTS AND SETUP"
   ]
  },
  {
   "cell_type": "code",
   "execution_count": 4,
   "metadata": {},
   "outputs": [],
   "source": [
    "PROJECT = \"/projects/b1080/eks/polyadenylation\"\n",
    "DATADIR = os.path.join(PROJECT, \"manuscripts\", \"01_development\", \"data\")\n",
    "RESDIR  = os.path.join(PROJECT, \"manuscripts\", \"01_development\", \"analysis\", \"resources\")\n",
    "OUTDIR  = os.path.join(PROJECT, \"manuscripts\", \"01_development\", \"figures\", \"Figure_04\")\n",
    "\n",
    "os.makedirs(OUTDIR, exist_ok = True)\n",
    "os.makedirs(os.path.join(os.path.dirname(RESDIR), 'site_density'), exist_ok = True)\n"
   ]
  },
  {
   "cell_type": "markdown",
   "metadata": {},
   "source": [
    "## IMPORT DATA"
   ]
  },
  {
   "cell_type": "code",
   "execution_count": 5,
   "metadata": {},
   "outputs": [],
   "source": [
    "included_features = ['intron:composite','intron:skipped','upstream_exon','terminal_exon','extended_terminal_exon']\n",
    "\n",
    "try:\n",
    "    with open(os.path.join(RESDIR, 'putative_sites.pickle'), mode = 'rb') as handle:\n",
    "        putative_sites = pickle.load(handle)\n",
    "        \n",
    "except FileNotFoundError:\n",
    "    \n",
    "    putative_sites = pd.read_csv(os.path.join(RESDIR, \"putative_cleavage_sites.annotated.with_predictions.txt\"), sep = \"\\t\")\n",
    "    putative_sites = putative_sites.loc[putative_sites['feature'].isin(included_features) & (putative_sites['classification'] >= 0.5)].copy()\n",
    "\n",
    "    with open(os.path.join(RESDIR, 'putative_sites.pickle'), mode = 'wb') as handle:\n",
    "        pickle.dump(putative_sites, handle)\n",
    "        "
   ]
  },
  {
   "cell_type": "code",
   "execution_count": 6,
   "metadata": {},
   "outputs": [
    {
     "name": "stdout",
     "output_type": "stream",
     "text": [
      "Putative sites: 3591660\n",
      "Putative genes: 32014 (112.190)\n"
     ]
    }
   ],
   "source": [
    "print(f\"Putative sites: {len(putative_sites)}\")\n",
    "print(f\"Putative genes: {putative_sites['feature_gene'].nunique()} ({len(putative_sites) / putative_sites['feature_gene'].nunique():.03f})\")\n"
   ]
  },
  {
   "cell_type": "markdown",
   "metadata": {},
   "source": [
    "## Analyzing the distribution of genome-wide putative sites"
   ]
  },
  {
   "cell_type": "markdown",
   "metadata": {},
   "source": [
    "#### Identifying expressed putative sites"
   ]
  },
  {
   "cell_type": "code",
   "execution_count": 7,
   "metadata": {},
   "outputs": [
    {
     "name": "stdout",
     "output_type": "stream",
     "text": [
      "Expressed sites: 109193 (3.04%)\n",
      "Expressed genes: 21642 (5.045)\n"
     ]
    }
   ],
   "source": [
    "putative_sites['cluster_slop_binary'] = (putative_sites['cluster_reads_slop'] >= 10).astype(int)\n",
    "print(f\"Expressed sites: {(putative_sites.cluster_reads_slop >= 10).sum()} ({(putative_sites.cluster_reads_slop >= 10).sum() / len(putative_sites):.02%})\")\n",
    "print(f\"Expressed genes: {putative_sites.loc[putative_sites.cluster_slop_binary == True, 'feature_gene'].nunique()} ({(putative_sites.cluster_reads_slop >= 10).sum() / putative_sites.loc[putative_sites.cluster_slop_binary == True, 'feature_gene'].nunique():.03f})\")\n"
   ]
  },
  {
   "cell_type": "markdown",
   "metadata": {},
   "source": [
    "#### Number of putative sites per feature"
   ]
  },
  {
   "cell_type": "code",
   "execution_count": 8,
   "metadata": {},
   "outputs": [],
   "source": [
    "putative_sites_per_feature = (putative_sites['feature'].value_counts()\n",
    "                              .loc[included_features]\n",
    "                              .reset_index().rename(columns = {'index' : 'feature', 'feature' : 'count'})\n",
    "                             )\n",
    "\n",
    "putative_sites_per_feature['count_log10'] = np.log10(putative_sites_per_feature['count'])\n",
    "putative_sites_per_feature['prop'] = putative_sites_per_feature['count'] / putative_sites_per_feature['count'].sum()\n",
    "putative_sites_per_feature['label'] = putative_sites_per_feature['feature'] + \" (\" + (putative_sites_per_feature['prop']*100).round(2).astype(str) + \"%)\"\n"
   ]
  },
  {
   "cell_type": "code",
   "execution_count": 9,
   "metadata": {},
   "outputs": [
    {
     "data": {
      "image/png": "[encoded data removed]",
      "text/plain": [
       "<Figure size 108x108 with 1 Axes>"
      ]
     },
     "metadata": {},
     "output_type": "display_data"
    },
    {
     "name": "stdout",
     "output_type": "stream",
     "text": [
      "Corresponding data:\n"
     ]
    },
    {
     "data": {
      "text/html": [
       "<div>\n",
       "<style scoped>\n",
       "    .dataframe tbody tr th:only-of-type {\n",
       "        vertical-align: middle;\n",
       "    }\n",
       "\n",
       "    .dataframe tbody tr th {\n",
       "        vertical-align: top;\n",
       "    }\n",
       "\n",
       "    .dataframe thead th {\n",
       "        text-align: right;\n",
       "    }\n",
       "</style>\n",
       "<table border=\"1\" class=\"dataframe\">\n",
       "  <thead>\n",
       "    <tr style=\"text-align: right;\">\n",
       "      <th></th>\n",
       "      <th>feature</th>\n",
       "      <th>count</th>\n",
       "      <th>count_log10</th>\n",
       "      <th>prop</th>\n",
       "      <th>label</th>\n",
       "    </tr>\n",
       "  </thead>\n",
       "  <tbody>\n",
       "    <tr>\n",
       "      <td>0</td>\n",
       "      <td>intron:composite</td>\n",
       "      <td>2967045</td>\n",
       "      <td>6.472324</td>\n",
       "      <td>0.826093</td>\n",
       "      <td>intron:composite (82.61%)</td>\n",
       "    </tr>\n",
       "    <tr>\n",
       "      <td>1</td>\n",
       "      <td>intron:skipped</td>\n",
       "      <td>235061</td>\n",
       "      <td>5.371181</td>\n",
       "      <td>0.065446</td>\n",
       "      <td>intron:skipped (6.54%)</td>\n",
       "    </tr>\n",
       "    <tr>\n",
       "      <td>2</td>\n",
       "      <td>upstream_exon</td>\n",
       "      <td>31960</td>\n",
       "      <td>4.504607</td>\n",
       "      <td>0.008898</td>\n",
       "      <td>upstream_exon (0.89%)</td>\n",
       "    </tr>\n",
       "    <tr>\n",
       "      <td>3</td>\n",
       "      <td>terminal_exon</td>\n",
       "      <td>113985</td>\n",
       "      <td>5.056848</td>\n",
       "      <td>0.031736</td>\n",
       "      <td>terminal_exon (3.17%)</td>\n",
       "    </tr>\n",
       "    <tr>\n",
       "      <td>4</td>\n",
       "      <td>extended_terminal_exon</td>\n",
       "      <td>243609</td>\n",
       "      <td>5.386693</td>\n",
       "      <td>0.067826</td>\n",
       "      <td>extended_terminal_exon (6.78%)</td>\n",
       "    </tr>\n",
       "  </tbody>\n",
       "</table>\n",
       "</div>"
      ],
      "text/plain": [
       "                  feature    count  count_log10      prop  \\\n",
       "0        intron:composite  2967045     6.472324  0.826093   \n",
       "1          intron:skipped   235061     5.371181  0.065446   \n",
       "2           upstream_exon    31960     4.504607  0.008898   \n",
       "3           terminal_exon   113985     5.056848  0.031736   \n",
       "4  extended_terminal_exon   243609     5.386693  0.067826   \n",
       "\n",
       "                            label  \n",
       "0       intron:composite (82.61%)  \n",
       "1          intron:skipped (6.54%)  \n",
       "2           upstream_exon (0.89%)  \n",
       "3           terminal_exon (3.17%)  \n",
       "4  extended_terminal_exon (6.78%)  "
      ]
     },
     "execution_count": 9,
     "metadata": {},
     "output_type": "execute_result"
    }
   ],
   "source": [
    "fig,ax = plt.subplots(1,1, figsize = (1.5,1.5))\n",
    "\n",
    "wedges, texts = plt.pie(putative_sites_per_feature['prop'], \n",
    "                        labels = putative_sites_per_feature['label'],\n",
    "                        startangle = 90, counterclock = False, normalize = True,\n",
    "                        wedgeprops = {'linewidth' : 0.5, 'edgecolor' : 'black'}\n",
    "                       )\n",
    "\n",
    "ax.legend(wedges, putative_sites_per_feature['label'],\n",
    "          title=\"\",\n",
    "          loc=\"center left\",\n",
    "          bbox_to_anchor=(1, 0, 0.5, 1))\n",
    "\n",
    "plt.savefig(os.path.join(OUTDIR, 'percent_sites_in_feature.pie.svg'), format = 'svg', dpi = 600, transparent = True)\n",
    "plt.show()\n",
    "\n",
    "\n",
    "print(\"Corresponding data:\")\n",
    "putative_sites_per_feature\n"
   ]
  },
  {
   "cell_type": "markdown",
   "metadata": {},
   "source": [
    "#### Number of expressed sites per feature"
   ]
  },
  {
   "cell_type": "code",
   "execution_count": 10,
   "metadata": {},
   "outputs": [],
   "source": [
    "putative_sites_percent_expressed_by_feature = (putative_sites\n",
    "                                               .groupby(['feature','cluster_slop_binary']).size()\n",
    "                                               .loc[included_features]\n",
    "                                               .reset_index().rename(columns = {0 : 'count'})\n",
    "                                              )\n",
    "\n",
    "putative_sites_percent_expressed_by_feature = putative_sites_percent_expressed_by_feature.loc[putative_sites_percent_expressed_by_feature['cluster_slop_binary'] == 1]\n",
    "putative_sites_percent_expressed_by_feature['prop'] = putative_sites_percent_expressed_by_feature['count'] / putative_sites_percent_expressed_by_feature['count'].sum()\n",
    "putative_sites_percent_expressed_by_feature['label'] = putative_sites_percent_expressed_by_feature['feature'] + \" (\" + (putative_sites_percent_expressed_by_feature['prop']*100).round(2).astype(str) + \"%)\"\n",
    "\n",
    "putative_sites_percent_expressed_by_feature = putative_sites_percent_expressed_by_feature.set_index('feature').loc[putative_sites_per_feature['feature']]\n"
   ]
  },
  {
   "cell_type": "code",
   "execution_count": 11,
   "metadata": {},
   "outputs": [
    {
     "data": {
      "image/png": "[encoded data removed]",
      "text/plain": [
       "<Figure size 108x108 with 1 Axes>"
      ]
     },
     "metadata": {},
     "output_type": "display_data"
    }
   ],
   "source": [
    "fig,ax = plt.subplots(1,1, figsize = (1.5,1.5))\n",
    "\n",
    "wedges, texts = plt.pie(putative_sites_percent_expressed_by_feature['prop'], \n",
    "                        labels = putative_sites_percent_expressed_by_feature['label'],\n",
    "                        startangle = 90, counterclock = False, normalize = True,\n",
    "                        wedgeprops = {'linewidth' : 0.5, 'edgecolor' : 'black'}\n",
    "                       )\n",
    "\n",
    "ax.legend(wedges, putative_sites_percent_expressed_by_feature['label'],\n",
    "          title=\"\",\n",
    "          loc=\"center left\",\n",
    "          bbox_to_anchor=(1, 0, 0.5, 1))\n",
    "\n",
    "plt.savefig(os.path.join(OUTDIR, 'percent_sites_expressed_in_feature.pie.svg'), format = 'svg', dpi = 600, transparent = True)\n",
    "plt.show()\n"
   ]
  },
  {
   "cell_type": "markdown",
   "metadata": {},
   "source": [
    "#### Data summary"
   ]
  },
  {
   "cell_type": "code",
   "execution_count": 12,
   "metadata": {},
   "outputs": [
    {
     "data": {
      "text/html": [
       "<div>\n",
       "<style scoped>\n",
       "    .dataframe tbody tr th:only-of-type {\n",
       "        vertical-align: middle;\n",
       "    }\n",
       "\n",
       "    .dataframe tbody tr th {\n",
       "        vertical-align: top;\n",
       "    }\n",
       "\n",
       "    .dataframe thead th {\n",
       "        text-align: right;\n",
       "    }\n",
       "</style>\n",
       "<table border=\"1\" class=\"dataframe\">\n",
       "  <thead>\n",
       "    <tr style=\"text-align: right;\">\n",
       "      <th></th>\n",
       "      <th>category</th>\n",
       "      <th>feature</th>\n",
       "      <th>prop</th>\n",
       "    </tr>\n",
       "  </thead>\n",
       "  <tbody>\n",
       "    <tr>\n",
       "      <td>0</td>\n",
       "      <td>putative_sites</td>\n",
       "      <td>intron:composite</td>\n",
       "      <td>0.826093</td>\n",
       "    </tr>\n",
       "    <tr>\n",
       "      <td>1</td>\n",
       "      <td>putative_sites</td>\n",
       "      <td>intron:skipped</td>\n",
       "      <td>0.065446</td>\n",
       "    </tr>\n",
       "    <tr>\n",
       "      <td>2</td>\n",
       "      <td>putative_sites</td>\n",
       "      <td>upstream_exon</td>\n",
       "      <td>0.008898</td>\n",
       "    </tr>\n",
       "    <tr>\n",
       "      <td>3</td>\n",
       "      <td>putative_sites</td>\n",
       "      <td>terminal_exon</td>\n",
       "      <td>0.031736</td>\n",
       "    </tr>\n",
       "    <tr>\n",
       "      <td>4</td>\n",
       "      <td>putative_sites</td>\n",
       "      <td>extended_terminal_exon</td>\n",
       "      <td>0.067826</td>\n",
       "    </tr>\n",
       "    <tr>\n",
       "      <td>5</td>\n",
       "      <td>expressed_sites</td>\n",
       "      <td>intron:composite</td>\n",
       "      <td>0.362029</td>\n",
       "    </tr>\n",
       "    <tr>\n",
       "      <td>6</td>\n",
       "      <td>expressed_sites</td>\n",
       "      <td>intron:skipped</td>\n",
       "      <td>0.079529</td>\n",
       "    </tr>\n",
       "    <tr>\n",
       "      <td>7</td>\n",
       "      <td>expressed_sites</td>\n",
       "      <td>upstream_exon</td>\n",
       "      <td>0.015798</td>\n",
       "    </tr>\n",
       "    <tr>\n",
       "      <td>8</td>\n",
       "      <td>expressed_sites</td>\n",
       "      <td>terminal_exon</td>\n",
       "      <td>0.408991</td>\n",
       "    </tr>\n",
       "    <tr>\n",
       "      <td>9</td>\n",
       "      <td>expressed_sites</td>\n",
       "      <td>extended_terminal_exon</td>\n",
       "      <td>0.133653</td>\n",
       "    </tr>\n",
       "  </tbody>\n",
       "</table>\n",
       "</div>"
      ],
      "text/plain": [
       "          category                 feature      prop\n",
       "0   putative_sites        intron:composite  0.826093\n",
       "1   putative_sites          intron:skipped  0.065446\n",
       "2   putative_sites           upstream_exon  0.008898\n",
       "3   putative_sites           terminal_exon  0.031736\n",
       "4   putative_sites  extended_terminal_exon  0.067826\n",
       "5  expressed_sites        intron:composite  0.362029\n",
       "6  expressed_sites          intron:skipped  0.079529\n",
       "7  expressed_sites           upstream_exon  0.015798\n",
       "8  expressed_sites           terminal_exon  0.408991\n",
       "9  expressed_sites  extended_terminal_exon  0.133653"
      ]
     },
     "execution_count": 12,
     "metadata": {},
     "output_type": "execute_result"
    }
   ],
   "source": [
    "putative_sites_per_feature['category'] = 'putative_sites'\n",
    "putative_sites_percent_expressed_by_feature['category'] = 'expressed_sites'\n",
    "\n",
    "putative_sites_comb = (pd.concat([putative_sites_per_feature.reset_index()[['category','feature','prop']],\n",
    "                                 putative_sites_percent_expressed_by_feature.reset_index()[['category','feature','prop']]\n",
    "                                ], ignore_index = True, sort = False)\n",
    "                      )\n",
    "\n",
    "putative_sites_comb"
   ]
  },
  {
   "cell_type": "markdown",
   "metadata": {},
   "source": [
    "## Visualize fraction of putative sites expressed"
   ]
  },
  {
   "cell_type": "code",
   "execution_count": 13,
   "metadata": {},
   "outputs": [],
   "source": [
    "putative_sites_expressed = (putative_sites\n",
    "                            .groupby(['feature','cluster_slop_binary']).size()\n",
    "                            .loc[included_features]\n",
    "                            .reset_index().rename(columns = {0 : 'count'})\n",
    "                            )\n",
    "\n",
    "putative_sites_expressed['prop'] = putative_sites_expressed['count'] / putative_sites_expressed.groupby('feature')['count'].transform('sum') * 100\n",
    "putative_sites_expressed = putative_sites_expressed.loc[putative_sites_expressed['cluster_slop_binary'] == 1]\n",
    "putative_sites_expressed['label'] = putative_sites_expressed['feature'] + \" (\" + (putative_sites_expressed['prop']).round(2).astype(str) + \"%)\"\n",
    "putative_sites_expressed = putative_sites_expressed.set_index('feature').loc[putative_sites_expressed['feature']].reset_index()\n"
   ]
  },
  {
   "cell_type": "code",
   "execution_count": 14,
   "metadata": {},
   "outputs": [
    {
     "data": {
      "image/png": "[encoded data removed]",
      "text/plain": [
       "<Figure size 72x108 with 1 Axes>"
      ]
     },
     "metadata": {
      "needs_background": "light"
     },
     "output_type": "display_data"
    },
    {
     "name": "stdout",
     "output_type": "stream",
     "text": [
      "Corresponding data:\n",
      "                  feature  cluster_slop_binary  count       prop  \\\n",
      "0  extended_terminal_exon                    1  14594   5.990747   \n",
      "1        intron:composite                    1  39531   1.332336   \n",
      "2          intron:skipped                    1   8684   3.694360   \n",
      "3           terminal_exon                    1  44659  39.179717   \n",
      "4           upstream_exon                    1   1725   5.397372   \n",
      "\n",
      "                            label  \n",
      "0  extended_terminal_exon (5.99%)  \n",
      "1        intron:composite (1.33%)  \n",
      "2          intron:skipped (3.69%)  \n",
      "3          terminal_exon (39.18%)  \n",
      "4            upstream_exon (5.4%)  \n"
     ]
    }
   ],
   "source": [
    "fig,ax = plt.subplots(1,1, figsize = (1,1.5))\n",
    "\n",
    "sns.barplot(data = putative_sites_expressed, \n",
    "            x = 'prop', y = 'feature', order = included_features,\n",
    "            color = 'gray', edgecolor = 'black', linewidth = 0.5, ax = ax\n",
    "           )\n",
    "\n",
    "ax.set_xlim(0,40)\n",
    "ax.xaxis.set_major_locator(MultipleLocator(10))\n",
    "\n",
    "ax.set_xlabel(\"Fraction of putative polyA\\nsites expressed (%)\")\n",
    "ax.set_ylabel(\"\")\n",
    "\n",
    "ax.spines['right'].set_visible(False)\n",
    "ax.spines['top'].set_visible(False)\n",
    "\n",
    "plt.savefig(os.path.join(OUTDIR, 'percent_expressed_sites.vertical.svg'), format = 'svg', dpi = 600, transparent = True)\n",
    "plt.show()\n",
    "\n",
    "\n",
    "print(\"Corresponding data:\")\n",
    "print(putative_sites_expressed)\n"
   ]
  },
  {
   "cell_type": "markdown",
   "metadata": {},
   "source": [
    "### Expressed Putative Site Usage by Feature"
   ]
  },
  {
   "cell_type": "code",
   "execution_count": 15,
   "metadata": {},
   "outputs": [
    {
     "name": "stdout",
     "output_type": "stream",
     "text": [
      "31658\n"
     ]
    }
   ],
   "source": [
    "gene_counts = putative_sites['feature_gene'].value_counts()\n",
    "gene_multiples = gene_counts[gene_counts >= 2].index\n",
    "print(len(gene_multiples))\n"
   ]
  },
  {
   "cell_type": "code",
   "execution_count": 16,
   "metadata": {},
   "outputs": [
    {
     "name": "stdout",
     "output_type": "stream",
     "text": [
      "\n",
      "Gene multiples\n",
      "(109020, 38)\n",
      "terminal_exon             44521\n",
      "intron:composite          39526\n",
      "extended_terminal_exon    14567\n",
      "intron:skipped             8683\n",
      "upstream_exon              1723\n",
      "Name: feature, dtype: int64\n"
     ]
    }
   ],
   "source": [
    "print(\"\\nGene multiples\")\n",
    "putative_exp = putative_sites.loc[putative_sites['feature_gene'].isin(gene_multiples) & (putative_sites['cluster_slop_binary'] == True) & (putative_sites['feature'].isin(included_features))]\n",
    "print(putative_exp.shape)\n",
    "print(putative_exp['feature'].value_counts())\n"
   ]
  },
  {
   "cell_type": "code",
   "execution_count": 17,
   "metadata": {},
   "outputs": [
    {
     "data": {
      "image/png": "[encoded data removed]",
      "text/plain": [
       "<Figure size 108x108 with 1 Axes>"
      ]
     },
     "metadata": {
      "needs_background": "light"
     },
     "output_type": "display_data"
    }
   ],
   "source": [
    "fig,ax = plt.subplots(1,1, figsize = (1.5, 1.5))\n",
    "\n",
    "sns.kdeplot(data = putative_exp, \n",
    "            x = 'cluster_slop_score_denom', hue = 'feature', \n",
    "            hue_order = included_features,\n",
    "            cumulative = True, common_norm = False, common_grid = False,\n",
    "            ax = ax\n",
    "           )\n",
    "\n",
    "ax.set_xlim(-0.05,1.05)\n",
    "ax.xaxis.set_major_locator(MultipleLocator(0.5))\n",
    "\n",
    "ax.set_ylim(-0.05,1.05)\n",
    "ax.yaxis.set_major_locator(MultipleLocator(0.5))\n",
    "\n",
    "ax.set_xlabel(\"Relative Usage\")\n",
    "ax.set_ylabel(\"Fraction of\\nPutative Sites (%)\")\n",
    "\n",
    "ax.spines['right'].set_visible(False)\n",
    "ax.spines['top'].set_visible(False)\n",
    "\n",
    "plt.savefig(os.path.join(OUTDIR, f'05.supp.usage_by_feature.svg'), format = 'svg', dpi = 600, transparent = True)\n",
    "plt.show()\n"
   ]
  },
  {
   "cell_type": "markdown",
   "metadata": {},
   "source": [
    "### Site Count and Density"
   ]
  },
  {
   "cell_type": "markdown",
   "metadata": {},
   "source": [
    "#### Expression definition: 3'READS >= 10"
   ]
  },
  {
   "cell_type": "code",
   "execution_count": 18,
   "metadata": {},
   "outputs": [
    {
     "name": "stdout",
     "output_type": "stream",
     "text": [
      "CompositeIntronic         2967045\n",
      "ExtendedTerminalExonic     243609\n",
      "SkippedIntronic            235061\n",
      "TerminalExonic             113985\n",
      "UpstreamExonic              31960\n",
      "Name: new_feature, dtype: int64\n"
     ]
    }
   ],
   "source": [
    "convert_feature = {\n",
    "    'terminal_exon' : 'TerminalExonic',\n",
    "    'extended_terminal_exon' : 'ExtendedTerminalExonic',\n",
    "    'intron:composite' : 'CompositeIntronic',\n",
    "    'intron:skipped' : 'SkippedIntronic',\n",
    "    'upstream_exon' : 'UpstreamExonic',\n",
    "}\n",
    "\n",
    "putative_sites['new_score'] = int(1)\n",
    "\n",
    "putative_sites['new_feature'] = putative_sites['feature'].apply(lambda x : convert_feature[x])\n",
    "print(putative_sites['new_feature'].value_counts())\n",
    "\n",
    "putative_sites['new_label'] = \"PolyaIDclassification_\" + putative_sites['classification'].round(3).astype(str)\n",
    "putative_sites['new_label'] = putative_sites['new_label'] + \"|PolyaStrength_\" + putative_sites['strength'].round(3).astype(str)\n",
    "putative_sites['new_label'] = putative_sites['new_label'] + \"|\" + putative_sites['feature_gene']\n",
    "putative_sites['new_label'] = putative_sites['new_label'] + \",\" + putative_sites['new_feature']\n",
    "\n",
    "bed_cols = ['chrom', 'start', 'end', 'new_label', 'new_score', 'strand']\n",
    "\n",
    "for s in ['+','-']:\n",
    "    (putative_sites.loc[(putative_sites['strand'] == s), bed_cols]\n",
    "     .to_csv(os.path.join(os.path.dirname(RESDIR), 'site_density', f'putative_sites.{s}.bed'), sep = \"\\t\", index = False, header = False))\n"
   ]
  },
  {
   "cell_type": "code",
   "execution_count": 19,
   "metadata": {},
   "outputs": [
    {
     "name": "stderr",
     "output_type": "stream",
     "text": [
      "/home/esk863/.local/lib/python3.6/site-packages/pandas/core/indexing.py:1418: FutureWarning: \n",
      "Passing list-likes to .loc or [] with any missing label will raise\n",
      "KeyError in the future, you can use .reindex() as an alternative.\n",
      "\n",
      "See the documentation here:\n",
      "https://pandas.pydata.org/pandas-docs/stable/user_guide/indexing.html#deprecate-loc-reindex-listlike\n",
      "  return self._getitem_tuple(key)\n"
     ]
    }
   ],
   "source": [
    "putative_sites['new_label'] = putative_sites['feature_gene'] + \"|\" + putative_sites['feature']\n",
    "putative_sites['new_label'] = putative_sites['new_label'] + \"|polyaIDclassification_\" + putative_sites['classification'].round(3).astype(str)\n",
    "putative_sites['new_label'] = putative_sites['new_label'] + \"|polyaIDcleavageprofile_\" + putative_sites['score'].round(3).astype(str)\n",
    "\n",
    "putative_sites['new_label'] = putative_sites['new_label'] + \"|reads_\" + putative_sites['cluster_reads_slop'].astype(str)\n",
    "putative_sites['new_label'] = putative_sites['new_label'] + \"|ru_\" + putative_sites['cluster_slop_score_denom'].round(3).astype(str)\n",
    "\n",
    "putative_sites['new_score'] = int(1)\n",
    "\n",
    "expressed_sites = putative_sites.loc[putative_sites['cluster_slop_binary'] == 1].copy()\n",
    "\n",
    "bed_cols      = ['chrom', 'start', 'end', 'new_label', 'new_score', 'strand']\n",
    "bedgraph_cols = ['chrom', 'start', 'end', 'cluster_binprob']\n",
    "\n",
    "for s in ['+','-']:\n",
    "    \n",
    "    (putative_sites.loc[(putative_sites['strand'] == s), bed_cols]\n",
    "     .to_csv(os.path.join(os.path.dirname(RESDIR), 'site_density', f'putative_sites.{s}.bed'), sep = \"\\t\", index = False, header = False))\n",
    "    \n",
    "    (putative_sites.loc[(putative_sites['strand'] == s), bedgraph_cols]\n",
    "     .to_csv(os.path.join(os.path.dirname(RESDIR), 'site_density', f'putative_sites.{s}.bedgraph'), sep = \"\\t\", index = False, header = False))\n",
    "             \n",
    "    (expressed_sites.loc[(expressed_sites['strand'] == s), bed_cols]\n",
    "     .to_csv(os.path.join(os.path.dirname(RESDIR), 'site_density', f'expressed_sites.{s}.bed'), sep = \"\\t\", index = False, header = False))\n",
    "    \n",
    "    (expressed_sites.loc[(expressed_sites['strand'] == s), bedgraph_cols]\n",
    "     .to_csv(os.path.join(os.path.dirname(RESDIR), 'site_density', f'expressed_sites.{s}.bedgraph'), sep = \"\\t\", index = False, header = False))\n",
    "    \n",
    "for f in included_features:\n",
    "    \n",
    "    (putative_sites.loc[(putative_sites['feature'] == f), bed_cols]\n",
    "     .to_csv(os.path.join(os.path.dirname(RESDIR), 'site_density', f'putative_sites.{f.replace(\":\",\"_\")}.bed'), sep = \"\\t\", index = False, header = False))\n",
    "             \n",
    "    (expressed_sites.loc[(expressed_sites['feature'] == f), bed_cols]\n",
    "     .to_csv(os.path.join(os.path.dirname(RESDIR), 'site_density', f'expressed_sites.{f.replace(\":\",\"_\")}.bed'), sep = \"\\t\", index = False, header = False))\n"
   ]
  },
  {
   "cell_type": "markdown",
   "metadata": {},
   "source": [
    "#### Summarize sites per gene"
   ]
  },
  {
   "cell_type": "code",
   "execution_count": 20,
   "metadata": {},
   "outputs": [
    {
     "name": "stdout",
     "output_type": "stream",
     "text": [
      "# unique putative sites:\t\t 3591660\n",
      "# unique genes with putative sites:\t 32014\n",
      "# putative sites per gene overall:\t 112.19029174736053\n",
      "\n",
      "# unique expressed sites:\t\t 109193\n",
      "# unique genes with expressed sites:\t 21642\n",
      "# expressed sites per gene overall:\t 5.04542094076333\n"
     ]
    }
   ],
   "source": [
    "print(\"# unique putative sites:\\t\\t\", len(putative_sites))\n",
    "print(\"# unique genes with putative sites:\\t\", putative_sites['feature_gene'].nunique())\n",
    "print(\"# putative sites per gene overall:\\t\", len(putative_sites) / putative_sites['feature_gene'].nunique())\n",
    "\n",
    "print(\"\\n# unique expressed sites:\\t\\t\", len(expressed_sites))\n",
    "print(\"# unique genes with expressed sites:\\t\", expressed_sites['feature_gene'].nunique())\n",
    "print(\"# expressed sites per gene overall:\\t\", len(expressed_sites) / expressed_sites['feature_gene'].nunique())\n"
   ]
  },
  {
   "cell_type": "code",
   "execution_count": 21,
   "metadata": {},
   "outputs": [
    {
     "name": "stdout",
     "output_type": "stream",
     "text": [
      "\n",
      "#####\n",
      "intron:composite\n",
      "# unique putative sites:\t\t 2967045\n",
      "# unique genes with putative sites:\t 28157\n",
      "# putative sites per gene overall:\t 105.37503995454061\n",
      "\n",
      "# unique expressed sites:\t\t 39531\n",
      "# unique genes with expressed sites:\t 11789\n",
      "# expressed sites per gene overall:\t 3.3532106200695564\n",
      "\n",
      "#####\n",
      "intron:skipped\n",
      "# unique putative sites:\t\t 235061\n",
      "# unique genes with putative sites:\t 7157\n",
      "# putative sites per gene overall:\t 32.84350985049602\n",
      "\n",
      "# unique expressed sites:\t\t 8684\n",
      "# unique genes with expressed sites:\t 2774\n",
      "# expressed sites per gene overall:\t 3.1304974765681326\n",
      "\n",
      "#####\n",
      "upstream_exon\n",
      "# unique putative sites:\t\t 31960\n",
      "# unique genes with putative sites:\t 12237\n",
      "# putative sites per gene overall:\t 2.611751246220479\n",
      "\n",
      "# unique expressed sites:\t\t 1725\n",
      "# unique genes with expressed sites:\t 1277\n",
      "# expressed sites per gene overall:\t 1.350822239624119\n",
      "\n",
      "#####\n",
      "terminal_exon\n",
      "# unique putative sites:\t\t 113985\n",
      "# unique genes with putative sites:\t 25021\n",
      "# putative sites per gene overall:\t 4.5555733184125335\n",
      "\n",
      "# unique expressed sites:\t\t 44659\n",
      "# unique genes with expressed sites:\t 16956\n",
      "# expressed sites per gene overall:\t 2.6338169379570653\n",
      "\n",
      "#####\n",
      "extended_terminal_exon\n",
      "# unique putative sites:\t\t 243609\n",
      "# unique genes with putative sites:\t 29006\n",
      "# putative sites per gene overall:\t 8.39857270909467\n",
      "\n",
      "# unique expressed sites:\t\t 14594\n",
      "# unique genes with expressed sites:\t 9474\n",
      "# expressed sites per gene overall:\t 1.5404264302301034\n"
     ]
    }
   ],
   "source": [
    "for f in included_features:\n",
    "    print(f'\\n#####\\n{f}')\n",
    "    \n",
    "    putative_sites_f = putative_sites.loc[putative_sites['feature'] == f]\n",
    "    expressed_sites_f = expressed_sites.loc[expressed_sites['feature'] == f]\n",
    "    \n",
    "    print(\"# unique putative sites:\\t\\t\", len(putative_sites_f))\n",
    "    print(\"# unique genes with putative sites:\\t\", putative_sites_f['feature_gene'].nunique())\n",
    "    print(\"# putative sites per gene overall:\\t\", len(putative_sites_f) / putative_sites_f['feature_gene'].nunique())\n",
    "\n",
    "    print(\"\\n# unique expressed sites:\\t\\t\", len(expressed_sites_f))\n",
    "    print(\"# unique genes with expressed sites:\\t\", expressed_sites_f['feature_gene'].nunique())\n",
    "    print(\"# expressed sites per gene overall:\\t\", len(expressed_sites_f) / expressed_sites_f['feature_gene'].nunique())\n",
    "    "
   ]
  },
  {
   "cell_type": "markdown",
   "metadata": {},
   "source": [
    "#### Summarize site density"
   ]
  },
  {
   "cell_type": "code",
   "execution_count": 22,
   "metadata": {},
   "outputs": [],
   "source": [
    "site_counts = {}\n",
    "\n",
    "for f in included_features:\n",
    "    site_counts[f] = {'putative' : {}, 'expressed' : {}}\n"
   ]
  },
  {
   "cell_type": "code",
   "execution_count": 23,
   "metadata": {},
   "outputs": [
    {
     "name": "stdout",
     "output_type": "stream",
     "text": [
      "Putative sites by feature\n",
      "intron:composite        2967045\n",
      "intron:skipped          235061\n",
      "upstream_exon           31960\n",
      "terminal_exon           113985\n",
      "extended_terminal_exon  243609\n"
     ]
    }
   ],
   "source": [
    "putative_site_counts = putative_sites['feature'].value_counts().loc[included_features].to_dict()\n",
    "\n",
    "print(\"Putative sites by feature\")\n",
    "for k,v in putative_site_counts.items():\n",
    "    print(f'{k:23} {v}')\n",
    "\n",
    "for f in included_features: site_counts[f]['putative']['num_sites'] = putative_site_counts[f]\n"
   ]
  },
  {
   "cell_type": "code",
   "execution_count": 24,
   "metadata": {},
   "outputs": [
    {
     "name": "stdout",
     "output_type": "stream",
     "text": [
      "Genes containing putative sites by feature\n",
      "intron:composite        28157\n",
      "intron:skipped          7157\n",
      "upstream_exon           12237\n",
      "terminal_exon           25021\n",
      "extended_terminal_exon  29006\n"
     ]
    }
   ],
   "source": [
    "putative_site_genes = putative_sites.groupby('feature')['feature_gene'].nunique().loc[included_features].to_dict()\n",
    "\n",
    "print(\"Genes containing putative sites by feature\")\n",
    "for k,v in putative_site_genes.items():\n",
    "    print(f'{k:23} {v}')\n",
    "\n",
    "for f in included_features: site_counts[f]['putative']['num_genes'] = putative_site_genes[f]\n"
   ]
  },
  {
   "cell_type": "code",
   "execution_count": 25,
   "metadata": {},
   "outputs": [
    {
     "name": "stdout",
     "output_type": "stream",
     "text": [
      "Expressed sites by feature\n",
      "intron:composite        39531\n",
      "intron:skipped          8684\n",
      "upstream_exon           1725\n",
      "terminal_exon           44659\n",
      "extended_terminal_exon  14594\n"
     ]
    }
   ],
   "source": [
    "expressed_site_counts = expressed_sites['feature'].value_counts().loc[included_features].to_dict()\n",
    "\n",
    "print(\"Expressed sites by feature\")\n",
    "for k,v in expressed_site_counts.items():\n",
    "    print(f'{k:23} {v}')\n",
    "\n",
    "for f in included_features: site_counts[f]['expressed']['num_sites'] = expressed_site_counts[f]\n"
   ]
  },
  {
   "cell_type": "code",
   "execution_count": 26,
   "metadata": {},
   "outputs": [
    {
     "name": "stdout",
     "output_type": "stream",
     "text": [
      "Genes containing expressed sites by feature\n",
      "intron:composite        11789\n",
      "intron:skipped          2774\n",
      "upstream_exon           1277\n",
      "terminal_exon           16956\n",
      "extended_terminal_exon  9474\n"
     ]
    }
   ],
   "source": [
    "expressed_site_genes = expressed_sites.groupby('feature')['feature_gene'].nunique().loc[included_features].to_dict()\n",
    "\n",
    "print(\"Genes containing expressed sites by feature\")\n",
    "for k,v in expressed_site_genes.items():\n",
    "    print(f'{k:23} {v}')\n",
    "\n",
    "for f in included_features: site_counts[f]['expressed']['num_genes'] = expressed_site_genes[f]\n"
   ]
  },
  {
   "cell_type": "code",
   "execution_count": 27,
   "metadata": {},
   "outputs": [
    {
     "name": "stdout",
     "output_type": "stream",
     "text": [
      "feature\t\t\tputative_bases\texpressed_bases\n",
      "intron:composite\t1458620756\t533436068\n",
      "intron:skipped\t\t261856252\t110801019\n",
      "upstream_exon\t\t12933826\t2408671\n",
      "terminal_exon\t\t47708149\t36867033\n",
      "extended_terminal_exon\t136938966\t44503377\n"
     ]
    }
   ],
   "source": [
    "#### RUN SITE DENSITY SCRIPT BEFORE THIS CELL\n",
    "\n",
    "print(\"feature\\t\\t\\tputative_bases\\texpressed_bases\")\n",
    "\n",
    "for f in included_features:\n",
    "    \n",
    "    fsum_put = 0\n",
    "    fsum_exp = 0\n",
    "    \n",
    "    fput_list = glob.glob(os.path.join(os.path.dirname(RESDIR), 'site_density', f'putative_sites.' + f.replace(\":\",\"_\") + '.overlapping_*.merged.bed'))[0]\n",
    "    fexp_list = glob.glob(os.path.join(os.path.dirname(RESDIR), 'site_density', f'expressed_sites.' + f.replace(\":\",\"_\") + '.overlapping_*.merged.bed'))[0]\n",
    "\n",
    "    with open(fput_list, mode = 'r') as handle:\n",
    "        for line in handle:\n",
    "            llist = line.strip().split(\"\\t\")\n",
    "            fsum_put += (int(llist[2]) - int(llist[1]))\n",
    "            \n",
    "    with open(fexp_list, mode = 'r') as handle:\n",
    "        for line in handle:\n",
    "            llist = line.strip().split(\"\\t\")\n",
    "            fsum_exp += (int(llist[2]) - int(llist[1]))\n",
    "            \n",
    "    if (len(f) < 16):\n",
    "        print(f'{f}\\t\\t{fsum_put}\\t{fsum_exp}')\n",
    "    else:\n",
    "        print(f'{f}\\t{fsum_put}\\t{fsum_exp}')\n",
    "    \n",
    "    site_counts[f]['putative']['occ_bases'] = fsum_put\n",
    "    site_counts[f]['expressed']['occ_bases'] = fsum_exp\n"
   ]
  },
  {
   "cell_type": "code",
   "execution_count": 28,
   "metadata": {},
   "outputs": [],
   "source": [
    "for f in included_features:\n",
    "    \n",
    "    site_counts[f]['putative']['sites_per_gene'] = site_counts[f]['putative']['num_sites'] / site_counts[f]['putative']['num_genes']\n",
    "    site_counts[f]['putative']['sites_per_1kb']  = site_counts[f]['putative']['num_sites'] / site_counts[f]['putative']['occ_bases'] * 1000\n",
    "    site_counts[f]['putative']['sites_per_10kb'] = site_counts[f]['putative']['num_sites'] / site_counts[f]['putative']['occ_bases'] * 10000\n",
    "    \n",
    "    site_counts[f]['expressed']['sites_per_gene'] = site_counts[f]['expressed']['num_sites'] / site_counts[f]['expressed']['num_genes']\n",
    "    site_counts[f]['expressed']['sites_per_1kb']  = site_counts[f]['expressed']['num_sites'] / site_counts[f]['expressed']['occ_bases'] * 1000\n",
    "    site_counts[f]['expressed']['sites_per_10kb'] = site_counts[f]['expressed']['num_sites'] / site_counts[f]['expressed']['occ_bases'] * 10000\n",
    "    "
   ]
  },
  {
   "cell_type": "code",
   "execution_count": null,
   "metadata": {},
   "outputs": [],
   "source": []
  },
  {
   "cell_type": "code",
   "execution_count": 29,
   "metadata": {},
   "outputs": [
    {
     "name": "stdout",
     "output_type": "stream",
     "text": [
      "\n",
      "#####\n",
      "intron:composite\n",
      "\t putative\n",
      "\t\tnum_sites\t2967045.000\n",
      "\t\tnum_genes\t28157.000\n",
      "\t\tsites_per_gene\t105.375\n",
      "\t\tocc_bases\t1458620756.000\n",
      "\t\tsites_per_1kb\t2.034\n",
      "\t\tsites_per_10kb\t20.341\n",
      "\t expressed\n",
      "\t\tnum_sites\t39531.000\n",
      "\t\tnum_genes\t11789.000\n",
      "\t\tsites_per_gene\t3.353\n",
      "\t\tocc_bases\t533436068.000\n",
      "\t\tsites_per_1kb\t0.074\n",
      "\t\tsites_per_10kb\t0.741\n",
      "\n",
      "#####\n",
      "intron:skipped\n",
      "\t putative\n",
      "\t\tnum_sites\t235061.000\n",
      "\t\tnum_genes\t7157.000\n",
      "\t\tsites_per_gene\t32.844\n",
      "\t\tocc_bases\t261856252.000\n",
      "\t\tsites_per_1kb\t0.898\n",
      "\t\tsites_per_10kb\t8.977\n",
      "\t expressed\n",
      "\t\tnum_sites\t8684.000\n",
      "\t\tnum_genes\t2774.000\n",
      "\t\tsites_per_gene\t3.130\n",
      "\t\tocc_bases\t110801019.000\n",
      "\t\tsites_per_1kb\t0.078\n",
      "\t\tsites_per_10kb\t0.784\n",
      "\n",
      "#####\n",
      "upstream_exon\n",
      "\t putative\n",
      "\t\tnum_sites\t31960.000\n",
      "\t\tnum_genes\t12237.000\n",
      "\t\tsites_per_gene\t2.612\n",
      "\t\tocc_bases\t12933826.000\n",
      "\t\tsites_per_1kb\t2.471\n",
      "\t\tsites_per_10kb\t24.710\n",
      "\t expressed\n",
      "\t\tnum_sites\t1725.000\n",
      "\t\tnum_genes\t1277.000\n",
      "\t\tsites_per_gene\t1.351\n",
      "\t\tocc_bases\t2408671.000\n",
      "\t\tsites_per_1kb\t0.716\n",
      "\t\tsites_per_10kb\t7.162\n",
      "\n",
      "#####\n",
      "terminal_exon\n",
      "\t putative\n",
      "\t\tnum_sites\t113985.000\n",
      "\t\tnum_genes\t25021.000\n",
      "\t\tsites_per_gene\t4.556\n",
      "\t\tocc_bases\t47708149.000\n",
      "\t\tsites_per_1kb\t2.389\n",
      "\t\tsites_per_10kb\t23.892\n",
      "\t expressed\n",
      "\t\tnum_sites\t44659.000\n",
      "\t\tnum_genes\t16956.000\n",
      "\t\tsites_per_gene\t2.634\n",
      "\t\tocc_bases\t36867033.000\n",
      "\t\tsites_per_1kb\t1.211\n",
      "\t\tsites_per_10kb\t12.114\n",
      "\n",
      "#####\n",
      "extended_terminal_exon\n",
      "\t putative\n",
      "\t\tnum_sites\t243609.000\n",
      "\t\tnum_genes\t29006.000\n",
      "\t\tsites_per_gene\t8.399\n",
      "\t\tocc_bases\t136938966.000\n",
      "\t\tsites_per_1kb\t1.779\n",
      "\t\tsites_per_10kb\t17.790\n",
      "\t expressed\n",
      "\t\tnum_sites\t14594.000\n",
      "\t\tnum_genes\t9474.000\n",
      "\t\tsites_per_gene\t1.540\n",
      "\t\tocc_bases\t44503377.000\n",
      "\t\tsites_per_1kb\t0.328\n",
      "\t\tsites_per_10kb\t3.279\n"
     ]
    }
   ],
   "source": [
    "values = ['num_sites','num_genes','sites_per_gene','occ_bases','sites_per_1kb','sites_per_10kb']\n",
    "\n",
    "for fkey1,fdict1 in site_counts.items():\n",
    "    print(f\"\\n#####\\n{fkey1}\")\n",
    "    \n",
    "    for fkey2,fdict2 in fdict1.items():\n",
    "        print(\"\\t\", fkey2)\n",
    "        \n",
    "        for fkey3 in values:\n",
    "            print(f\"\\t\\t{fkey3}\\t{fdict2[fkey3]:.03f}\")\n",
    "    "
   ]
  },
  {
   "cell_type": "code",
   "execution_count": null,
   "metadata": {},
   "outputs": [],
   "source": []
  },
  {
   "cell_type": "code",
   "execution_count": 30,
   "metadata": {},
   "outputs": [
    {
     "data": {
      "image/png": "[encoded data removed]",
      "text/plain": [
       "<Figure size 72x108 with 1 Axes>"
      ]
     },
     "metadata": {
      "needs_background": "light"
     },
     "output_type": "display_data"
    }
   ],
   "source": [
    "fig,ax = plt.subplots(1,1, figsize = (1,1.5))\n",
    "\n",
    "yvar = 'sites_per_1kb'\n",
    "yfilt = 'putative'\n",
    "\n",
    "ys = [site_counts[f][yfilt][yvar] for f in included_features]\n",
    "\n",
    "sns.barplot(x = included_features, y = ys,\n",
    "            order = included_features,\n",
    "            color = 'gray', edgecolor = 'black',\n",
    "            linewidth = 0.5, ax = ax\n",
    "           )\n",
    "\n",
    "ax.set_xticklabels(included_features, rotation = 45, ha = 'right', fontsize = 5)\n",
    "\n",
    "ax.set_ylim(0,3)\n",
    "ax.yaxis.set_major_locator(MultipleLocator(1))\n",
    "\n",
    "ax.set_ylabel(f'{yfilt.capitalize()} {yvar.replace(\"_\", \" \")}')\n",
    "\n",
    "ax.spines['right'].set_visible(False)\n",
    "ax.spines['top'].set_visible(False)\n",
    "\n",
    "plt.savefig(os.path.join(OUTDIR, f'site_density.{yfilt}.{yvar}.svg'), format = 'svg', dpi = 600, transparent = True)\n",
    "plt.show()\n",
    "\n"
   ]
  },
  {
   "cell_type": "code",
   "execution_count": 31,
   "metadata": {},
   "outputs": [
    {
     "data": {
      "image/png": "[encoded data removed]",
      "text/plain": [
       "<Figure size 72x108 with 1 Axes>"
      ]
     },
     "metadata": {
      "needs_background": "light"
     },
     "output_type": "display_data"
    }
   ],
   "source": [
    "fig,ax = plt.subplots(1,1, figsize = (1,1.5))\n",
    "\n",
    "yvar = 'sites_per_1kb'\n",
    "yfilt = 'expressed'\n",
    "\n",
    "ys = [site_counts[f][yfilt][yvar] for f in included_features]\n",
    "\n",
    "sns.barplot(x = included_features, y = ys,\n",
    "            order = included_features,\n",
    "            color = 'gray', edgecolor = 'black',\n",
    "            linewidth = 0.5, ax = ax\n",
    "           )\n",
    "\n",
    "ax.set_xticklabels(included_features, rotation = 45, ha = 'right', fontsize = 5)\n",
    "\n",
    "ax.set_ylim(0,None)\n",
    "ax.yaxis.set_major_locator(MultipleLocator(0.25))\n",
    "\n",
    "ax.set_ylabel(f'{yfilt.capitalize()} {yvar.replace(\"_\", \" \")}')\n",
    "\n",
    "ax.spines['right'].set_visible(False)\n",
    "ax.spines['top'].set_visible(False)\n",
    "\n",
    "plt.savefig(os.path.join(OUTDIR, f'site_density.{yfilt}.{yvar}.svg'), format = 'svg', dpi = 600, transparent = True)\n",
    "plt.show()\n",
    "\n"
   ]
  }
 ],
 "metadata": {
  "kernelspec": {
   "display_name": "Python (tf-train)",
   "language": "python",
   "name": "tf-train"
  },
  "language_info": {
   "codemirror_mode": {
    "name": "ipython",
    "version": 3
   },
   "file_extension": ".py",
   "mimetype": "text/x-python",
   "name": "python",
   "nbconvert_exporter": "python",
   "pygments_lexer": "ipython3",
   "version": "3.6.12"
  },
  "vscode": {
   "interpreter": {
    "hash": "425115ae6637ada2b959655b34e22bdfbab2786b72fd7a6ba9076b4d899c9624"
   }
  }
 },
 "nbformat": 4,
 "nbformat_minor": 2
}
