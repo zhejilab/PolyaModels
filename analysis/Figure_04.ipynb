{
 "cells": [
  {
   "cell_type": "markdown",
   "metadata": {},
   "source": [
    "# Figure 4\n",
    "\n",
    "**Description:** Distribution and characteristics of putative polyA sites across the genome.\n",
    "\n",
    "&rarr; Run this notebook with the `tf-train` kernel\n"
   ]
  },
  {
   "cell_type": "code",
   "execution_count": 1,
   "metadata": {},
   "outputs": [],
   "source": [
    "%load_ext autoreload"
   ]
  },
  {
   "cell_type": "code",
   "execution_count": 2,
   "metadata": {},
   "outputs": [],
   "source": [
    "%autoreload 2"
   ]
  },
  {
   "cell_type": "code",
   "execution_count": 3,
   "metadata": {},
   "outputs": [
    {
     "name": "stderr",
     "output_type": "stream",
     "text": [
      "Using TensorFlow backend.\n"
     ]
    }
   ],
   "source": [
    "%run -i notebook_setup.py"
   ]
  },
  {
   "cell_type": "markdown",
   "metadata": {},
   "source": [
    "## IMPORTS AND SETUP"
   ]
  },
  {
   "cell_type": "code",
   "execution_count": 4,
   "metadata": {},
   "outputs": [],
   "source": [
    "PROJECT = \"/projects/b1080/eks/polyadenylation\"\n",
    "DATADIR = os.path.join(PROJECT, \"manuscripts\", \"01_development\", \"data\")\n",
    "RESDIR  = os.path.join(PROJECT, \"manuscripts\", \"01_development\", \"analysis\", \"resources\")\n",
    "OUTDIR  = os.path.join(PROJECT, \"manuscripts\", \"01_development\", \"figures\", \"Figure_04\")\n",
    "\n",
    "os.makedirs(OUTDIR, exist_ok = True)\n",
    "os.makedirs(os.path.join(os.path.dirname(RESDIR), 'site_density'), exist_ok = True)\n"
   ]
  },
  {
   "cell_type": "markdown",
   "metadata": {},
   "source": [
    "## IMPORT DATA"
   ]
  },
  {
   "cell_type": "code",
   "execution_count": 5,
   "metadata": {},
   "outputs": [
    {
     "name": "stdout",
     "output_type": "stream",
     "text": [
      "Putative sites: 4133468\n",
      "Putative genes: 30760 (134.378)\n"
     ]
    }
   ],
   "source": [
    "included_features = ['intron:composite','intron:skipped','upstream_exon','terminal_exon','extended_terminal_exon']\n",
    "\n",
    "try:\n",
    "    with open(os.path.join(RESDIR, 'putative_sites.pickle'), mode = 'rb') as handle:\n",
    "        putative_sites = pickle.load(handle)\n",
    "        \n",
    "except FileNotFoundError:\n",
    "    \n",
    "    putative_sites = pd.read_csv(os.path.join(RESDIR, \"putative_cleavage_sites.annotated.with_predictions.txt\"), sep = \"\\t\")\n",
    "    putative_sites = putative_sites.loc[putative_sites['feature'].isin(included_features)].copy()\n",
    "\n",
    "    with open(os.path.join(RESDIR, 'putative_sites.pickle'), mode = 'wb') as handle:\n",
    "        pickle.dump(putative_sites, handle)\n",
    "\n",
    "print(f\"Putative sites: {len(putative_sites)}\")\n",
    "print(f\"Putative genes: {putative_sites['gene'].nunique()} ({len(putative_sites) / putative_sites['gene'].nunique():.03f})\")\n"
   ]
  },
  {
   "cell_type": "markdown",
   "metadata": {},
   "source": [
    "## Analyzing the distribution of genome-wide putative sites"
   ]
  },
  {
   "cell_type": "markdown",
   "metadata": {},
   "source": [
    "#### Identifying expressed putative sites"
   ]
  },
  {
   "cell_type": "code",
   "execution_count": 6,
   "metadata": {},
   "outputs": [
    {
     "name": "stdout",
     "output_type": "stream",
     "text": [
      "Expressed sites: 115650 (2.80%)\n",
      "Expressed genes: 21400 (5.404)\n"
     ]
    }
   ],
   "source": [
    "putative_sites['cluster_slop_binary'] = (putative_sites['cluster_reads_slop'] >= 10).astype(int)\n",
    "print(f\"Expressed sites: {(putative_sites.cluster_reads_slop >= 10).sum()} ({(putative_sites.cluster_reads_slop >= 10).sum() / len(putative_sites):.02%})\")\n",
    "print(f\"Expressed genes: {putative_sites.loc[putative_sites.cluster_slop_binary == True, 'gene'].nunique()} ({(putative_sites.cluster_reads_slop >= 10).sum() / putative_sites.loc[putative_sites.cluster_slop_binary == True, 'gene'].nunique():.03f})\")\n"
   ]
  },
  {
   "cell_type": "markdown",
   "metadata": {},
   "source": [
    "#### Number of putative sites per feature"
   ]
  },
  {
   "cell_type": "code",
   "execution_count": 7,
   "metadata": {},
   "outputs": [],
   "source": [
    "putative_sites_per_feature = (putative_sites['feature'].value_counts()\n",
    "                              .loc[included_features]\n",
    "                              .reset_index().rename(columns = {'index' : 'feature', 'feature' : 'count'})\n",
    "                             )\n",
    "\n",
    "putative_sites_per_feature['count_log10'] = np.log10(putative_sites_per_feature['count'])\n",
    "putative_sites_per_feature['prop'] = putative_sites_per_feature['count'] / putative_sites_per_feature['count'].sum()\n",
    "putative_sites_per_feature['label'] = putative_sites_per_feature['feature'] + \" (\" + (putative_sites_per_feature['prop']*100).round(2).astype(str) + \"%)\"\n"
   ]
  },
  {
   "cell_type": "code",
   "execution_count": 8,
   "metadata": {},
   "outputs": [
    {
     "data": {
      "image/png": "[encoded data removed]",
      "text/plain": [
       "<Figure size 108x108 with 1 Axes>"
      ]
     },
     "metadata": {},
     "output_type": "display_data"
    },
    {
     "name": "stdout",
     "output_type": "stream",
     "text": [
      "Corresponding data:\n"
     ]
    },
    {
     "data": {
      "text/html": [
       "<div>\n",
       "<style scoped>\n",
       "    .dataframe tbody tr th:only-of-type {\n",
       "        vertical-align: middle;\n",
       "    }\n",
       "\n",
       "    .dataframe tbody tr th {\n",
       "        vertical-align: top;\n",
       "    }\n",
       "\n",
       "    .dataframe thead th {\n",
       "        text-align: right;\n",
       "    }\n",
       "</style>\n",
       "<table border=\"1\" class=\"dataframe\">\n",
       "  <thead>\n",
       "    <tr style=\"text-align: right;\">\n",
       "      <th></th>\n",
       "      <th>feature</th>\n",
       "      <th>count</th>\n",
       "      <th>count_log10</th>\n",
       "      <th>prop</th>\n",
       "      <th>label</th>\n",
       "    </tr>\n",
       "  </thead>\n",
       "  <tbody>\n",
       "    <tr>\n",
       "      <td>0</td>\n",
       "      <td>intron:composite</td>\n",
       "      <td>3340727</td>\n",
       "      <td>6.523841</td>\n",
       "      <td>0.808214</td>\n",
       "      <td>intron:composite (80.82%)</td>\n",
       "    </tr>\n",
       "    <tr>\n",
       "      <td>1</td>\n",
       "      <td>intron:skipped</td>\n",
       "      <td>334919</td>\n",
       "      <td>5.524940</td>\n",
       "      <td>0.081026</td>\n",
       "      <td>intron:skipped (8.1%)</td>\n",
       "    </tr>\n",
       "    <tr>\n",
       "      <td>2</td>\n",
       "      <td>upstream_exon</td>\n",
       "      <td>35092</td>\n",
       "      <td>4.545208</td>\n",
       "      <td>0.008490</td>\n",
       "      <td>upstream_exon (0.85%)</td>\n",
       "    </tr>\n",
       "    <tr>\n",
       "      <td>3</td>\n",
       "      <td>terminal_exon</td>\n",
       "      <td>130944</td>\n",
       "      <td>5.117086</td>\n",
       "      <td>0.031679</td>\n",
       "      <td>terminal_exon (3.17%)</td>\n",
       "    </tr>\n",
       "    <tr>\n",
       "      <td>4</td>\n",
       "      <td>extended_terminal_exon</td>\n",
       "      <td>291786</td>\n",
       "      <td>5.465064</td>\n",
       "      <td>0.070591</td>\n",
       "      <td>extended_terminal_exon (7.06%)</td>\n",
       "    </tr>\n",
       "  </tbody>\n",
       "</table>\n",
       "</div>"
      ],
      "text/plain": [
       "                  feature    count  count_log10      prop  \\\n",
       "0        intron:composite  3340727     6.523841  0.808214   \n",
       "1          intron:skipped   334919     5.524940  0.081026   \n",
       "2           upstream_exon    35092     4.545208  0.008490   \n",
       "3           terminal_exon   130944     5.117086  0.031679   \n",
       "4  extended_terminal_exon   291786     5.465064  0.070591   \n",
       "\n",
       "                            label  \n",
       "0       intron:composite (80.82%)  \n",
       "1           intron:skipped (8.1%)  \n",
       "2           upstream_exon (0.85%)  \n",
       "3           terminal_exon (3.17%)  \n",
       "4  extended_terminal_exon (7.06%)  "
      ]
     },
     "execution_count": 8,
     "metadata": {},
     "output_type": "execute_result"
    }
   ],
   "source": [
    "fig,ax = plt.subplots(1,1, figsize = (1.5,1.5))\n",
    "\n",
    "wedges, texts = plt.pie(putative_sites_per_feature['prop'], \n",
    "                        labels = putative_sites_per_feature['label'],\n",
    "                        startangle = 90, counterclock = False,\n",
    "                        wedgeprops = {'linewidth' : 0.5, 'edgecolor' : 'black'}\n",
    "                       )\n",
    "\n",
    "ax.legend(wedges, putative_sites_per_feature['label'],\n",
    "          title=\"\",\n",
    "          loc=\"center left\",\n",
    "          bbox_to_anchor=(1, 0, 0.5, 1))\n",
    "\n",
    "plt.savefig(os.path.join(OUTDIR, 'percent_sites_in_feature.pie.svg'), format = 'svg', dpi = 600, transparent = True)\n",
    "plt.show()\n",
    "\n",
    "\n",
    "print(\"Corresponding data:\")\n",
    "putative_sites_per_feature\n"
   ]
  },
  {
   "cell_type": "markdown",
   "metadata": {},
   "source": [
    "#### Number of expressed sites per feature"
   ]
  },
  {
   "cell_type": "code",
   "execution_count": 9,
   "metadata": {},
   "outputs": [],
   "source": [
    "putative_sites_percent_expressed_by_feature = (putative_sites\n",
    "                                               .groupby(['feature','cluster_slop_binary']).size()\n",
    "                                               .loc[included_features]\n",
    "                                               .reset_index().rename(columns = {0 : 'count'})\n",
    "                                              )\n",
    "\n",
    "putative_sites_percent_expressed_by_feature = putative_sites_percent_expressed_by_feature.loc[putative_sites_percent_expressed_by_feature['cluster_slop_binary'] == 1]\n",
    "putative_sites_percent_expressed_by_feature['prop'] = putative_sites_percent_expressed_by_feature['count'] / putative_sites_percent_expressed_by_feature['count'].sum()\n",
    "putative_sites_percent_expressed_by_feature['label'] = putative_sites_percent_expressed_by_feature['feature'] + \" (\" + (putative_sites_percent_expressed_by_feature['prop']*100).round(2).astype(str) + \"%)\"\n",
    "\n",
    "putative_sites_percent_expressed_by_feature = putative_sites_percent_expressed_by_feature.set_index('feature').loc[putative_sites_per_feature['feature']]\n"
   ]
  },
  {
   "cell_type": "code",
   "execution_count": 10,
   "metadata": {},
   "outputs": [
    {
     "data": {
      "image/png": "[encoded data removed]",
      "text/plain": [
       "<Figure size 108x108 with 1 Axes>"
      ]
     },
     "metadata": {},
     "output_type": "display_data"
    }
   ],
   "source": [
    "fig,ax = plt.subplots(1,1, figsize = (1.5,1.5))\n",
    "\n",
    "wedges, texts = plt.pie(putative_sites_percent_expressed_by_feature['prop'], \n",
    "                        labels = putative_sites_percent_expressed_by_feature['label'],\n",
    "                        startangle = 90, counterclock = False,\n",
    "                        wedgeprops = {'linewidth' : 0.5, 'edgecolor' : 'black'}\n",
    "                       )\n",
    "\n",
    "ax.legend(wedges, putative_sites_percent_expressed_by_feature['label'],\n",
    "          title=\"\",\n",
    "          loc=\"center left\",\n",
    "          bbox_to_anchor=(1, 0, 0.5, 1))\n",
    "\n",
    "plt.savefig(os.path.join(OUTDIR, 'percent_sites_expressed_in_feature.pie.svg'), format = 'svg', dpi = 600, transparent = True)\n",
    "plt.show()\n"
   ]
  },
  {
   "cell_type": "markdown",
   "metadata": {},
   "source": [
    "#### Data summary"
   ]
  },
  {
   "cell_type": "code",
   "execution_count": 11,
   "metadata": {},
   "outputs": [
    {
     "data": {
      "text/html": [
       "<div>\n",
       "<style scoped>\n",
       "    .dataframe tbody tr th:only-of-type {\n",
       "        vertical-align: middle;\n",
       "    }\n",
       "\n",
       "    .dataframe tbody tr th {\n",
       "        vertical-align: top;\n",
       "    }\n",
       "\n",
       "    .dataframe thead th {\n",
       "        text-align: right;\n",
       "    }\n",
       "</style>\n",
       "<table border=\"1\" class=\"dataframe\">\n",
       "  <thead>\n",
       "    <tr style=\"text-align: right;\">\n",
       "      <th></th>\n",
       "      <th>category</th>\n",
       "      <th>feature</th>\n",
       "      <th>prop</th>\n",
       "    </tr>\n",
       "  </thead>\n",
       "  <tbody>\n",
       "    <tr>\n",
       "      <td>0</td>\n",
       "      <td>putative_sites</td>\n",
       "      <td>intron:composite</td>\n",
       "      <td>0.808214</td>\n",
       "    </tr>\n",
       "    <tr>\n",
       "      <td>1</td>\n",
       "      <td>putative_sites</td>\n",
       "      <td>intron:skipped</td>\n",
       "      <td>0.081026</td>\n",
       "    </tr>\n",
       "    <tr>\n",
       "      <td>2</td>\n",
       "      <td>putative_sites</td>\n",
       "      <td>upstream_exon</td>\n",
       "      <td>0.008490</td>\n",
       "    </tr>\n",
       "    <tr>\n",
       "      <td>3</td>\n",
       "      <td>putative_sites</td>\n",
       "      <td>terminal_exon</td>\n",
       "      <td>0.031679</td>\n",
       "    </tr>\n",
       "    <tr>\n",
       "      <td>4</td>\n",
       "      <td>putative_sites</td>\n",
       "      <td>extended_terminal_exon</td>\n",
       "      <td>0.070591</td>\n",
       "    </tr>\n",
       "    <tr>\n",
       "      <td>5</td>\n",
       "      <td>expressed_sites</td>\n",
       "      <td>intron:composite</td>\n",
       "      <td>0.357933</td>\n",
       "    </tr>\n",
       "    <tr>\n",
       "      <td>6</td>\n",
       "      <td>expressed_sites</td>\n",
       "      <td>intron:skipped</td>\n",
       "      <td>0.083320</td>\n",
       "    </tr>\n",
       "    <tr>\n",
       "      <td>7</td>\n",
       "      <td>expressed_sites</td>\n",
       "      <td>upstream_exon</td>\n",
       "      <td>0.014431</td>\n",
       "    </tr>\n",
       "    <tr>\n",
       "      <td>8</td>\n",
       "      <td>expressed_sites</td>\n",
       "      <td>terminal_exon</td>\n",
       "      <td>0.419351</td>\n",
       "    </tr>\n",
       "    <tr>\n",
       "      <td>9</td>\n",
       "      <td>expressed_sites</td>\n",
       "      <td>extended_terminal_exon</td>\n",
       "      <td>0.124963</td>\n",
       "    </tr>\n",
       "  </tbody>\n",
       "</table>\n",
       "</div>"
      ],
      "text/plain": [
       "          category                 feature      prop\n",
       "0   putative_sites        intron:composite  0.808214\n",
       "1   putative_sites          intron:skipped  0.081026\n",
       "2   putative_sites           upstream_exon  0.008490\n",
       "3   putative_sites           terminal_exon  0.031679\n",
       "4   putative_sites  extended_terminal_exon  0.070591\n",
       "5  expressed_sites        intron:composite  0.357933\n",
       "6  expressed_sites          intron:skipped  0.083320\n",
       "7  expressed_sites           upstream_exon  0.014431\n",
       "8  expressed_sites           terminal_exon  0.419351\n",
       "9  expressed_sites  extended_terminal_exon  0.124963"
      ]
     },
     "execution_count": 11,
     "metadata": {},
     "output_type": "execute_result"
    }
   ],
   "source": [
    "putative_sites_per_feature['category'] = 'putative_sites'\n",
    "putative_sites_percent_expressed_by_feature['category'] = 'expressed_sites'\n",
    "\n",
    "putative_sites_comb = (pd.concat([putative_sites_per_feature.reset_index()[['category','feature','prop']],\n",
    "                                 putative_sites_percent_expressed_by_feature.reset_index()[['category','feature','prop']]\n",
    "                                ], ignore_index = True, sort = False)\n",
    "                      )\n",
    "\n",
    "putative_sites_comb"
   ]
  },
  {
   "cell_type": "markdown",
   "metadata": {},
   "source": [
    "## Visualize fraction of putative sites expressed"
   ]
  },
  {
   "cell_type": "code",
   "execution_count": 12,
   "metadata": {},
   "outputs": [],
   "source": [
    "def calculate_percent_expressed_absolute(putative_sites, cutoff_var, cutoff_val):\n",
    "    \n",
    "    putative_sites_percent_expressed_absolute = (putative_sites\n",
    "                                                 .loc[putative_sites[cutoff_var] > cutoff_val]\n",
    "                                                 .groupby(['feature','cluster_slop_binary']).size()\n",
    "                                                 .loc[included_features]\n",
    "                                                 .reset_index().rename(columns = {0 : 'count'})\n",
    "                                                  )\n",
    "\n",
    "    putative_sites_percent_expressed_absolute['prop'] = putative_sites_percent_expressed_absolute['count'] / putative_sites_percent_expressed_absolute.groupby('feature')['count'].transform('sum')\n",
    "    putative_sites_percent_expressed_absolute = putative_sites_percent_expressed_absolute.loc[putative_sites_percent_expressed_absolute['cluster_slop_binary'] == 1]\n",
    "    putative_sites_percent_expressed_absolute['label'] = putative_sites_percent_expressed_absolute['feature'] + \" (\" + (putative_sites_percent_expressed_absolute['prop']*100).round(2).astype(str) + \"%)\"\n",
    "    putative_sites_percent_expressed_absolute = putative_sites_percent_expressed_absolute.set_index('feature').loc[putative_sites_per_feature['feature']]\n",
    "\n",
    "    return putative_sites_percent_expressed_absolute\n",
    "\n",
    "putative_exp_abs_orig      = calculate_percent_expressed_absolute(putative_sites, 'classification', 0.5)\n",
    "putative_exp_abs_stringent = calculate_percent_expressed_absolute(putative_sites, 'classification', 0.95)\n",
    "putative_exp_abs_super     = calculate_percent_expressed_absolute(putative_sites, 'classification', 0.99)\n",
    "putative_exp_abs_strength  = calculate_percent_expressed_absolute(putative_sites, 'strength', 0)\n",
    "\n",
    "putative_exp_abs_orig['category']      = 'polyaID > 0.5'\n",
    "putative_exp_abs_stringent['category'] = 'polyaID > 0.95'\n",
    "putative_exp_abs_super['category']     = 'polyaID > 0.99'\n",
    "putative_exp_abs_strength['category']  = 'polyaStrength > 0'\n"
   ]
  },
  {
   "cell_type": "markdown",
   "metadata": {},
   "source": [
    "#### Using PolyaID > 0.5"
   ]
  },
  {
   "cell_type": "code",
   "execution_count": 13,
   "metadata": {},
   "outputs": [
    {
     "data": {
      "image/png": "[encoded data removed]",
      "text/plain": [
       "<Figure size 72x108 with 1 Axes>"
      ]
     },
     "metadata": {
      "needs_background": "light"
     },
     "output_type": "display_data"
    },
    {
     "name": "stdout",
     "output_type": "stream",
     "text": [
      "Corresponding data:\n",
      "                  feature  cluster_slop_binary  count       prop  \\\n",
      "0        intron:composite                    1  40656   1.313821   \n",
      "1          intron:skipped                    1   9440   3.031675   \n",
      "2           upstream_exon                    1   1616   5.035052   \n",
      "3           terminal_exon                    1  47183  38.512962   \n",
      "4  extended_terminal_exon                    1  14104   5.197294   \n",
      "\n",
      "                           label       category  \n",
      "0       intron:composite (1.31%)  polyaID > 0.5  \n",
      "1         intron:skipped (3.03%)  polyaID > 0.5  \n",
      "2          upstream_exon (5.04%)  polyaID > 0.5  \n",
      "3         terminal_exon (38.51%)  polyaID > 0.5  \n",
      "4  extended_terminal_exon (5.2%)  polyaID > 0.5  \n"
     ]
    }
   ],
   "source": [
    "fig,ax = plt.subplots(1,1, figsize = (1,1.5))\n",
    "\n",
    "putative_exp_abs = pd.concat([\n",
    "    putative_exp_abs_orig.reset_index(),\n",
    "], ignore_index = True, sort = False)\n",
    "\n",
    "putative_exp_abs['prop'] = putative_exp_abs['prop'] * 100\n",
    "\n",
    "sns.barplot(data = putative_exp_abs, \n",
    "            x = 'prop', y = 'feature', hue = 'category',\n",
    "            order = included_features,\n",
    "            color = 'gray', edgecolor = 'black', linewidth = 0.5, ax = ax\n",
    "           )\n",
    "\n",
    "ax.set_xlim(0,40)\n",
    "ax.xaxis.set_major_locator(MultipleLocator(10))\n",
    "\n",
    "ax.set_xlabel(\"Fraction of putative polyA\\nsites expressed (%)\")\n",
    "ax.set_ylabel(\"\")\n",
    "\n",
    "ax.legend(bbox_to_anchor = (1.05,1))\n",
    "\n",
    "ax.spines['right'].set_visible(False)\n",
    "ax.spines['top'].set_visible(False)\n",
    "\n",
    "plt.savefig(os.path.join(OUTDIR, f'poster_figure.percent_expressed_sites.vertical.svg'), format = 'svg', dpi = 600, transparent = True)\n",
    "plt.show()\n",
    "\n",
    "\n",
    "print(\"Corresponding data:\")\n",
    "print(putative_exp_abs)\n"
   ]
  },
  {
   "cell_type": "markdown",
   "metadata": {},
   "source": [
    "#### By PolyaID cutoff"
   ]
  },
  {
   "cell_type": "code",
   "execution_count": 14,
   "metadata": {},
   "outputs": [
    {
     "data": {
      "image/png": "[encoded data removed]",
      "text/plain": [
       "<Figure size 72x108 with 1 Axes>"
      ]
     },
     "metadata": {
      "needs_background": "light"
     },
     "output_type": "display_data"
    }
   ],
   "source": [
    "fig,ax = plt.subplots(1,1, figsize = (1,1.5))\n",
    "\n",
    "putative_exp_abs = pd.concat([\n",
    "    putative_exp_abs_orig.reset_index(),\n",
    "    putative_exp_abs_super.reset_index(),\n",
    "], ignore_index = True, sort = False)\n",
    "\n",
    "putative_exp_abs['prop'] = putative_exp_abs['prop'] * 100\n",
    "\n",
    "sns.barplot(data = putative_exp_abs, \n",
    "            x = 'prop', y = 'feature', hue = 'category',\n",
    "            order = included_features,\n",
    "            color = 'gray', edgecolor = 'black', linewidth = 0.5, ax = ax\n",
    "           )\n",
    "\n",
    "ax.set_xlim(0,70)\n",
    "ax.xaxis.set_major_locator(MultipleLocator(10))\n",
    "\n",
    "ax.set_xlabel(\"Fraction of putative polyA\\nsites expressed (%)\")\n",
    "ax.set_ylabel(\"\")\n",
    "\n",
    "ax.spines['right'].set_visible(False)\n",
    "ax.spines['top'].set_visible(False)\n",
    "\n",
    "plt.savefig(os.path.join(OUTDIR, f'05.main_figure.percent_expressed_sites.scale.svg'), format = 'svg', dpi = 600, transparent = True)\n",
    "plt.show()\n"
   ]
  },
  {
   "cell_type": "markdown",
   "metadata": {},
   "source": [
    "### Expressed Putative Site Usage by Feature"
   ]
  },
  {
   "cell_type": "code",
   "execution_count": 15,
   "metadata": {},
   "outputs": [
    {
     "name": "stdout",
     "output_type": "stream",
     "text": [
      "30561\n"
     ]
    }
   ],
   "source": [
    "gene_counts = putative_sites['gene'].value_counts()\n",
    "gene_multiples = gene_counts[gene_counts >= 2].index\n",
    "print(len(gene_multiples))\n"
   ]
  },
  {
   "cell_type": "code",
   "execution_count": 16,
   "metadata": {},
   "outputs": [
    {
     "name": "stdout",
     "output_type": "stream",
     "text": [
      "(115543, 39)\n",
      "terminal_exon             48411\n",
      "intron:composite          41391\n",
      "extended_terminal_exon    14438\n",
      "intron:skipped             9636\n",
      "upstream_exon              1667\n",
      "Name: feature, dtype: int64\n"
     ]
    }
   ],
   "source": [
    "putative_exp = putative_sites.loc[putative_sites['gene'].isin(gene_multiples) & (putative_sites['cluster_slop_binary'] == True) & (putative_sites['feature'].isin(included_features))]\n",
    "print(putative_exp.shape)\n",
    "print(putative_exp['feature'].value_counts())\n"
   ]
  },
  {
   "cell_type": "code",
   "execution_count": 17,
   "metadata": {},
   "outputs": [
    {
     "data": {
      "image/png": "[encoded data removed]",
      "text/plain": [
       "<Figure size 108x108 with 1 Axes>"
      ]
     },
     "metadata": {
      "needs_background": "light"
     },
     "output_type": "display_data"
    }
   ],
   "source": [
    "fig,ax = plt.subplots(1,1, figsize = (1.5, 1.5))\n",
    "\n",
    "sns.kdeplot(data = putative_exp, \n",
    "            x = 'cluster_slop_score_denom', hue = 'feature', \n",
    "            hue_order = included_features,\n",
    "            cumulative = True, common_norm = False, common_grid = False,\n",
    "            ax = ax\n",
    "           )\n",
    "\n",
    "ax.set_xlim(-0.05,1.05)\n",
    "ax.xaxis.set_major_locator(MultipleLocator(0.5))\n",
    "\n",
    "ax.set_ylim(-0.05,1.05)\n",
    "ax.yaxis.set_major_locator(MultipleLocator(0.5))\n",
    "\n",
    "ax.set_xlabel(\"Relative Usage\")\n",
    "ax.set_ylabel(\"Fraction of\\nPutative Sites (%)\")\n",
    "\n",
    "ax.spines['right'].set_visible(False)\n",
    "ax.spines['top'].set_visible(False)\n",
    "\n",
    "plt.savefig(os.path.join(OUTDIR, f'05.supp.usage_by_feature.svg'), format = 'svg', dpi = 600, transparent = True)\n",
    "plt.show()\n"
   ]
  },
  {
   "cell_type": "markdown",
   "metadata": {},
   "source": [
    "### Site Count and Density"
   ]
  },
  {
   "cell_type": "markdown",
   "metadata": {},
   "source": [
    "#### Expression definition: 3'READS >= 10"
   ]
  },
  {
   "cell_type": "code",
   "execution_count": 18,
   "metadata": {},
   "outputs": [
    {
     "name": "stdout",
     "output_type": "stream",
     "text": [
      "CompositeIntronic         3340727\n",
      "SkippedIntronic            334919\n",
      "ExtendedTerminalExonic     291786\n",
      "TerminalExonic             130944\n",
      "UpstreamExonic              35092\n",
      "Name: new_feature, dtype: int64\n"
     ]
    },
    {
     "name": "stderr",
     "output_type": "stream",
     "text": [
      "/home/esk863/.local/lib/python3.6/site-packages/pandas/core/indexing.py:1418: FutureWarning: \n",
      "Passing list-likes to .loc or [] with any missing label will raise\n",
      "KeyError in the future, you can use .reindex() as an alternative.\n",
      "\n",
      "See the documentation here:\n",
      "https://pandas.pydata.org/pandas-docs/stable/user_guide/indexing.html#deprecate-loc-reindex-listlike\n",
      "  return self._getitem_tuple(key)\n"
     ]
    }
   ],
   "source": [
    "convert_feature = {\n",
    "    'terminal_exon' : 'TerminalExonic',\n",
    "    'extended_terminal_exon' : 'ExtendedTerminalExonic',\n",
    "    'intron:composite' : 'CompositeIntronic',\n",
    "    'intron:skipped' : 'SkippedIntronic',\n",
    "    'upstream_exon' : 'UpstreamExonic',\n",
    "}\n",
    "\n",
    "putative_sites['new_score'] = int(1)\n",
    "\n",
    "putative_sites['new_feature'] = putative_sites['feature'].apply(lambda x : convert_feature[x])\n",
    "print(putative_sites['new_feature'].value_counts())\n",
    "\n",
    "putative_sites['new_label'] = \"PolyaIDclassification_\" + putative_sites['classification'].round(3).astype(str)\n",
    "putative_sites['new_label'] = putative_sites['new_label'] + \"|PolyaStrength_\" + putative_sites['strength'].round(3).astype(str)\n",
    "putative_sites['new_label'] = putative_sites['new_label'] + \"|\" + putative_sites['gene']\n",
    "putative_sites['new_label'] = putative_sites['new_label'] + \",\" + putative_sites['new_feature']\n",
    "\n",
    "bed_cols = ['chrom', 'start', 'end', 'new_label', 'new_score', 'strand']\n",
    "\n",
    "for s in ['+','-']:\n",
    "    (putative_sites.loc[(putative_sites['strand'] == s), bed_cols]\n",
    "     .to_csv(os.path.join(os.path.dirname(RESDIR), 'site_density', f'putative_sites.{s}.bed'), sep = \"\\t\", index = False, header = False))\n"
   ]
  },
  {
   "cell_type": "code",
   "execution_count": 19,
   "metadata": {},
   "outputs": [],
   "source": [
    "putative_sites['new_label'] = putative_sites['gene'] + \"|\" + putative_sites['feature']\n",
    "putative_sites['new_label'] = putative_sites['new_label'] + \"|polyaIDclassification_\" + putative_sites['classification'].round(3).astype(str)\n",
    "putative_sites['new_label'] = putative_sites['new_label'] + \"|polyaIDcleavageprofile_\" + putative_sites['score'].round(3).astype(str)\n",
    "\n",
    "putative_sites['new_label'] = putative_sites['new_label'] + \"|reads_\" + putative_sites['cluster_reads_slop'].astype(str)\n",
    "putative_sites['new_label'] = putative_sites['new_label'] + \"|ru_\" + putative_sites['cluster_slop_score_denom'].round(3).astype(str)\n",
    "\n",
    "putative_sites['new_score'] = int(1)\n",
    "\n",
    "expressed_sites = putative_sites.loc[putative_sites['cluster_slop_binary'] == 1].copy()\n",
    "\n",
    "bed_cols      = ['chrom', 'start', 'end', 'new_label', 'new_score', 'strand']\n",
    "bedgraph_cols = ['chrom', 'start', 'end', 'cluster_binprob']\n",
    "\n",
    "for s in ['+','-']:\n",
    "    \n",
    "    (putative_sites.loc[(putative_sites['strand'] == s), bed_cols]\n",
    "     .to_csv(os.path.join(os.path.dirname(RESDIR), 'site_density', f'putative_sites.{s}.bed'), sep = \"\\t\", index = False, header = False))\n",
    "    \n",
    "    (putative_sites.loc[(putative_sites['strand'] == s), bedgraph_cols]\n",
    "     .to_csv(os.path.join(os.path.dirname(RESDIR), 'site_density', f'putative_sites.{s}.bedgraph'), sep = \"\\t\", index = False, header = False))\n",
    "             \n",
    "    (expressed_sites.loc[(expressed_sites['strand'] == s), bed_cols]\n",
    "     .to_csv(os.path.join(os.path.dirname(RESDIR), 'site_density', f'expressed_sites.{s}.bed'), sep = \"\\t\", index = False, header = False))\n",
    "    \n",
    "    (expressed_sites.loc[(expressed_sites['strand'] == s), bedgraph_cols]\n",
    "     .to_csv(os.path.join(os.path.dirname(RESDIR), 'site_density', f'expressed_sites.{s}.bedgraph'), sep = \"\\t\", index = False, header = False))\n",
    "    \n",
    "for f in included_features:\n",
    "    \n",
    "    (putative_sites.loc[(putative_sites['feature'] == f), bed_cols]\n",
    "     .to_csv(os.path.join(os.path.dirname(RESDIR), 'site_density', f'putative_sites.{f.replace(\":\",\"_\")}.bed'), sep = \"\\t\", index = False, header = False))\n",
    "             \n",
    "    (expressed_sites.loc[(expressed_sites['feature'] == f), bed_cols]\n",
    "     .to_csv(os.path.join(os.path.dirname(RESDIR), 'site_density', f'expressed_sites.{f.replace(\":\",\"_\")}.bed'), sep = \"\\t\", index = False, header = False))\n"
   ]
  },
  {
   "cell_type": "markdown",
   "metadata": {},
   "source": [
    "#### Summarize sites per gene"
   ]
  },
  {
   "cell_type": "code",
   "execution_count": 20,
   "metadata": {},
   "outputs": [
    {
     "name": "stdout",
     "output_type": "stream",
     "text": [
      "# unique putative sites:\t\t 4133468\n",
      "# unique genes with putative sites:\t 30760\n",
      "# putative sites per gene overall:\t 134.3780234070221\n",
      "\n",
      "# unique expressed sites:\t\t 115650\n",
      "# unique genes with expressed sites:\t 21400\n",
      "# expressed sites per gene overall:\t 5.404205607476635\n"
     ]
    }
   ],
   "source": [
    "print(\"# unique putative sites:\\t\\t\", len(putative_sites))\n",
    "print(\"# unique genes with putative sites:\\t\", putative_sites['gene'].nunique())\n",
    "print(\"# putative sites per gene overall:\\t\", len(putative_sites) / putative_sites['gene'].nunique())\n",
    "\n",
    "print(\"\\n# unique expressed sites:\\t\\t\", len(expressed_sites))\n",
    "print(\"# unique genes with expressed sites:\\t\", expressed_sites['gene'].nunique())\n",
    "print(\"# expressed sites per gene overall:\\t\", len(expressed_sites) / expressed_sites['gene'].nunique())\n"
   ]
  },
  {
   "cell_type": "code",
   "execution_count": 21,
   "metadata": {},
   "outputs": [
    {
     "name": "stdout",
     "output_type": "stream",
     "text": [
      "\n",
      "#####\n",
      "intron:composite\n",
      "# unique putative sites:\t\t 3340727\n",
      "# unique genes with putative sites:\t 27533\n",
      "# putative sites per gene overall:\t 121.33537936294628\n",
      "\n",
      "# unique expressed sites:\t\t 41395\n",
      "# unique genes with expressed sites:\t 12022\n",
      "# expressed sites per gene overall:\t 3.4432706704375313\n",
      "\n",
      "#####\n",
      "intron:skipped\n",
      "# unique putative sites:\t\t 334919\n",
      "# unique genes with putative sites:\t 7876\n",
      "# putative sites per gene overall:\t 42.5239969527679\n",
      "\n",
      "# unique expressed sites:\t\t 9636\n",
      "# unique genes with expressed sites:\t 3099\n",
      "# expressed sites per gene overall:\t 3.1093901258470473\n",
      "\n",
      "#####\n",
      "upstream_exon\n",
      "# unique putative sites:\t\t 35092\n",
      "# unique genes with putative sites:\t 13007\n",
      "# putative sites per gene overall:\t 2.697931882832321\n",
      "\n",
      "# unique expressed sites:\t\t 1669\n",
      "# unique genes with expressed sites:\t 1271\n",
      "# expressed sites per gene overall:\t 1.3131392604248624\n",
      "\n",
      "#####\n",
      "terminal_exon\n",
      "# unique putative sites:\t\t 130944\n",
      "# unique genes with putative sites:\t 25174\n",
      "# putative sites per gene overall:\t 5.201557162151426\n",
      "\n",
      "# unique expressed sites:\t\t 48498\n",
      "# unique genes with expressed sites:\t 17441\n",
      "# expressed sites per gene overall:\t 2.780689180666246\n",
      "\n",
      "#####\n",
      "extended_terminal_exon\n",
      "# unique putative sites:\t\t 291786\n",
      "# unique genes with putative sites:\t 29034\n",
      "# putative sites per gene overall:\t 10.04980367844596\n",
      "\n",
      "# unique expressed sites:\t\t 14452\n",
      "# unique genes with expressed sites:\t 8996\n",
      "# expressed sites per gene overall:\t 1.6064917741218319\n"
     ]
    }
   ],
   "source": [
    "for f in included_features:\n",
    "    print(f'\\n#####\\n{f}')\n",
    "    \n",
    "    putative_sites_f = putative_sites.loc[putative_sites['feature'] == f]\n",
    "    expressed_sites_f = expressed_sites.loc[expressed_sites['feature'] == f]\n",
    "    \n",
    "    print(\"# unique putative sites:\\t\\t\", len(putative_sites_f))\n",
    "    print(\"# unique genes with putative sites:\\t\", putative_sites_f['gene'].nunique())\n",
    "    print(\"# putative sites per gene overall:\\t\", len(putative_sites_f) / putative_sites_f['gene'].nunique())\n",
    "\n",
    "    print(\"\\n# unique expressed sites:\\t\\t\", len(expressed_sites_f))\n",
    "    print(\"# unique genes with expressed sites:\\t\", expressed_sites_f['gene'].nunique())\n",
    "    print(\"# expressed sites per gene overall:\\t\", len(expressed_sites_f) / expressed_sites_f['gene'].nunique())\n",
    "    "
   ]
  },
  {
   "cell_type": "markdown",
   "metadata": {},
   "source": [
    "#### Summarize site density"
   ]
  },
  {
   "cell_type": "code",
   "execution_count": 22,
   "metadata": {},
   "outputs": [],
   "source": [
    "site_counts = {}\n",
    "\n",
    "for f in included_features:\n",
    "    site_counts[f] = {'putative' : {}, 'expressed' : {}}"
   ]
  },
  {
   "cell_type": "code",
   "execution_count": 23,
   "metadata": {},
   "outputs": [
    {
     "name": "stdout",
     "output_type": "stream",
     "text": [
      "{'intron:composite': 3340727, 'intron:skipped': 334919, 'extended_terminal_exon': 291786, 'terminal_exon': 130944, 'upstream_exon': 35092}\n"
     ]
    }
   ],
   "source": [
    "putative_site_counts = putative_sites['feature'].value_counts().to_dict()\n",
    "print(putative_site_counts)\n",
    "\n",
    "for f in included_features: site_counts[f]['putative']['num_sites'] = putative_site_counts[f]\n"
   ]
  },
  {
   "cell_type": "code",
   "execution_count": 24,
   "metadata": {},
   "outputs": [
    {
     "name": "stdout",
     "output_type": "stream",
     "text": [
      "{'intron:composite': 27533, 'intron:skipped': 7876, 'upstream_exon': 13007, 'terminal_exon': 25174, 'extended_terminal_exon': 29034}\n"
     ]
    }
   ],
   "source": [
    "putative_site_genes = putative_sites.groupby('feature')['gene'].nunique().loc[included_features].to_dict()\n",
    "print(putative_site_genes)\n",
    "\n",
    "for f in included_features: site_counts[f]['putative']['num_genes'] = putative_site_genes[f]\n"
   ]
  },
  {
   "cell_type": "code",
   "execution_count": 25,
   "metadata": {},
   "outputs": [
    {
     "name": "stdout",
     "output_type": "stream",
     "text": [
      "{'terminal_exon': 48498, 'intron:composite': 41395, 'extended_terminal_exon': 14452, 'intron:skipped': 9636, 'upstream_exon': 1669}\n"
     ]
    }
   ],
   "source": [
    "expressed_site_counts = expressed_sites['feature'].value_counts().to_dict()\n",
    "print(expressed_site_counts)\n",
    "\n",
    "for f in included_features: site_counts[f]['expressed']['num_sites'] = expressed_site_counts[f]\n"
   ]
  },
  {
   "cell_type": "code",
   "execution_count": 26,
   "metadata": {},
   "outputs": [
    {
     "name": "stdout",
     "output_type": "stream",
     "text": [
      "{'intron:composite': 12022, 'intron:skipped': 3099, 'upstream_exon': 1271, 'terminal_exon': 17441, 'extended_terminal_exon': 8996}\n"
     ]
    }
   ],
   "source": [
    "expressed_site_genes = expressed_sites.groupby('feature')['gene'].nunique().loc[included_features].to_dict()\n",
    "print(expressed_site_genes)\n",
    "\n",
    "for f in included_features: site_counts[f]['expressed']['num_genes'] = expressed_site_genes[f]\n"
   ]
  },
  {
   "cell_type": "code",
   "execution_count": 27,
   "metadata": {},
   "outputs": [
    {
     "name": "stdout",
     "output_type": "stream",
     "text": [
      "feature\t\t\tputative_bases\texpressed_bases\n",
      "intron:composite\t1177202001\t561699664\n",
      "intron:skipped\t\t339036621\t146713355\n",
      "upstream_exon\t\t13102402\t1942178\n",
      "terminal_exon\t\t52329198\t39736505\n",
      "extended_terminal_exon\t155302473\t44124706\n"
     ]
    }
   ],
   "source": [
    "print(\"feature\\t\\t\\tputative_bases\\texpressed_bases\")\n",
    "\n",
    "for f in included_features:\n",
    "    \n",
    "    fsum_put = 0\n",
    "    fsum_exp = 0\n",
    "    \n",
    "    fput_list = glob.glob(os.path.join(os.path.dirname(RESDIR), 'site_density', f'putative_sites.' + f.replace(\":\",\"_\") + '.overlapping_*.merged.bed'))[0]\n",
    "    fexp_list = glob.glob(os.path.join(os.path.dirname(RESDIR), 'site_density', f'expressed_sites.' + f.replace(\":\",\"_\") + '.overlapping_*.merged.bed'))[0]\n",
    "\n",
    "    with open(fput_list, mode = 'r') as handle:\n",
    "        for line in handle:\n",
    "            llist = line.strip().split(\"\\t\")\n",
    "            fsum_put += (int(llist[2]) - int(llist[1]))\n",
    "            \n",
    "    with open(fexp_list, mode = 'r') as handle:\n",
    "        for line in handle:\n",
    "            llist = line.strip().split(\"\\t\")\n",
    "            fsum_exp += (int(llist[2]) - int(llist[1]))\n",
    "            \n",
    "    if (len(f) < 16):\n",
    "        print(f'{f}\\t\\t{fsum_put}\\t{fsum_exp}')\n",
    "    else:\n",
    "        print(f'{f}\\t{fsum_put}\\t{fsum_exp}')\n",
    "    \n",
    "    site_counts[f]['putative']['occ_bases'] = fsum_put\n",
    "    site_counts[f]['expressed']['occ_bases'] = fsum_exp\n",
    "    "
   ]
  },
  {
   "cell_type": "code",
   "execution_count": 28,
   "metadata": {},
   "outputs": [],
   "source": [
    "for f in included_features:\n",
    "    \n",
    "    site_counts[f]['putative']['sites_per_gene'] = site_counts[f]['putative']['num_sites'] / site_counts[f]['putative']['num_genes']\n",
    "    site_counts[f]['putative']['sites_per_1kb']  = site_counts[f]['putative']['num_sites'] / site_counts[f]['putative']['occ_bases'] * 1000\n",
    "    site_counts[f]['putative']['sites_per_10kb'] = site_counts[f]['putative']['num_sites'] / site_counts[f]['putative']['occ_bases'] * 10000\n",
    "    \n",
    "    site_counts[f]['expressed']['sites_per_gene'] = site_counts[f]['expressed']['num_sites'] / site_counts[f]['expressed']['num_genes']\n",
    "    site_counts[f]['expressed']['sites_per_1kb']  = site_counts[f]['expressed']['num_sites'] / site_counts[f]['expressed']['occ_bases'] * 1000\n",
    "    site_counts[f]['expressed']['sites_per_10kb'] = site_counts[f]['expressed']['num_sites'] / site_counts[f]['expressed']['occ_bases'] * 10000\n",
    "    "
   ]
  },
  {
   "cell_type": "code",
   "execution_count": null,
   "metadata": {},
   "outputs": [],
   "source": []
  },
  {
   "cell_type": "code",
   "execution_count": 29,
   "metadata": {},
   "outputs": [
    {
     "name": "stdout",
     "output_type": "stream",
     "text": [
      "\n",
      "#####\n",
      "intron:composite\n",
      "\t putative\n",
      "\t\tnum_sites\t3340727.000\n",
      "\t\tnum_genes\t27533.000\n",
      "\t\tsites_per_gene\t121.335\n",
      "\t\tocc_bases\t1177202001.000\n",
      "\t\tsites_per_1kb\t2.838\n",
      "\t\tsites_per_10kb\t28.379\n",
      "\t expressed\n",
      "\t\tnum_sites\t41395.000\n",
      "\t\tnum_genes\t12022.000\n",
      "\t\tsites_per_gene\t3.443\n",
      "\t\tocc_bases\t561699664.000\n",
      "\t\tsites_per_1kb\t0.074\n",
      "\t\tsites_per_10kb\t0.737\n",
      "\n",
      "#####\n",
      "intron:skipped\n",
      "\t putative\n",
      "\t\tnum_sites\t334919.000\n",
      "\t\tnum_genes\t7876.000\n",
      "\t\tsites_per_gene\t42.524\n",
      "\t\tocc_bases\t339036621.000\n",
      "\t\tsites_per_1kb\t0.988\n",
      "\t\tsites_per_10kb\t9.879\n",
      "\t expressed\n",
      "\t\tnum_sites\t9636.000\n",
      "\t\tnum_genes\t3099.000\n",
      "\t\tsites_per_gene\t3.109\n",
      "\t\tocc_bases\t146713355.000\n",
      "\t\tsites_per_1kb\t0.066\n",
      "\t\tsites_per_10kb\t0.657\n",
      "\n",
      "#####\n",
      "upstream_exon\n",
      "\t putative\n",
      "\t\tnum_sites\t35092.000\n",
      "\t\tnum_genes\t13007.000\n",
      "\t\tsites_per_gene\t2.698\n",
      "\t\tocc_bases\t13102402.000\n",
      "\t\tsites_per_1kb\t2.678\n",
      "\t\tsites_per_10kb\t26.783\n",
      "\t expressed\n",
      "\t\tnum_sites\t1669.000\n",
      "\t\tnum_genes\t1271.000\n",
      "\t\tsites_per_gene\t1.313\n",
      "\t\tocc_bases\t1942178.000\n",
      "\t\tsites_per_1kb\t0.859\n",
      "\t\tsites_per_10kb\t8.593\n",
      "\n",
      "#####\n",
      "terminal_exon\n",
      "\t putative\n",
      "\t\tnum_sites\t130944.000\n",
      "\t\tnum_genes\t25174.000\n",
      "\t\tsites_per_gene\t5.202\n",
      "\t\tocc_bases\t52329198.000\n",
      "\t\tsites_per_1kb\t2.502\n",
      "\t\tsites_per_10kb\t25.023\n",
      "\t expressed\n",
      "\t\tnum_sites\t48498.000\n",
      "\t\tnum_genes\t17441.000\n",
      "\t\tsites_per_gene\t2.781\n",
      "\t\tocc_bases\t39736505.000\n",
      "\t\tsites_per_1kb\t1.220\n",
      "\t\tsites_per_10kb\t12.205\n",
      "\n",
      "#####\n",
      "extended_terminal_exon\n",
      "\t putative\n",
      "\t\tnum_sites\t291786.000\n",
      "\t\tnum_genes\t29034.000\n",
      "\t\tsites_per_gene\t10.050\n",
      "\t\tocc_bases\t155302473.000\n",
      "\t\tsites_per_1kb\t1.879\n",
      "\t\tsites_per_10kb\t18.788\n",
      "\t expressed\n",
      "\t\tnum_sites\t14452.000\n",
      "\t\tnum_genes\t8996.000\n",
      "\t\tsites_per_gene\t1.606\n",
      "\t\tocc_bases\t44124706.000\n",
      "\t\tsites_per_1kb\t0.328\n",
      "\t\tsites_per_10kb\t3.275\n"
     ]
    }
   ],
   "source": [
    "values = ['num_sites','num_genes','sites_per_gene','occ_bases','sites_per_1kb','sites_per_10kb']\n",
    "\n",
    "for fkey1,fdict1 in site_counts.items():\n",
    "    print(f\"\\n#####\\n{fkey1}\")\n",
    "    \n",
    "    for fkey2,fdict2 in fdict1.items():\n",
    "        print(\"\\t\", fkey2)\n",
    "        \n",
    "        for fkey3 in values:\n",
    "            print(f\"\\t\\t{fkey3}\\t{fdict2[fkey3]:.03f}\")\n",
    "    "
   ]
  },
  {
   "cell_type": "code",
   "execution_count": null,
   "metadata": {},
   "outputs": [],
   "source": []
  },
  {
   "cell_type": "code",
   "execution_count": 30,
   "metadata": {},
   "outputs": [
    {
     "data": {
      "image/png": "[encoded data removed]",
      "text/plain": [
       "<Figure size 72x108 with 1 Axes>"
      ]
     },
     "metadata": {
      "needs_background": "light"
     },
     "output_type": "display_data"
    }
   ],
   "source": [
    "fig,ax = plt.subplots(1,1, figsize = (1,1.5))\n",
    "\n",
    "# yvar = 'sites_per_gene'\n",
    "yvar = 'sites_per_1kb'\n",
    "# yvar = 'sites_per_10kb'\n",
    "\n",
    "yfilt = 'putative'\n",
    "# yfilt = 'expressed'\n",
    "\n",
    "ys = [site_counts[f][yfilt][yvar] for f in included_features]\n",
    "\n",
    "sns.barplot(x = included_features, y = ys,\n",
    "            order = included_features,\n",
    "            color = 'gray', edgecolor = 'black',\n",
    "            linewidth = 0.5, ax = ax\n",
    "           )\n",
    "\n",
    "ax.set_xticklabels(included_features, rotation = 45, ha = 'right', fontsize = 5)\n",
    "\n",
    "ax.set_ylim(0,3)\n",
    "ax.yaxis.set_major_locator(MultipleLocator(1))\n",
    "\n",
    "# ax.set_xlabel(\"Fraction of Putative PolyA\\nSites Expressed (%)\")\n",
    "ax.set_ylabel(f'{yfilt.capitalize()} {yvar.replace(\"_\", \" \")}')\n",
    "\n",
    "ax.spines['right'].set_visible(False)\n",
    "ax.spines['top'].set_visible(False)\n",
    "\n",
    "plt.savefig(os.path.join(OUTDIR, f'site_density.{yfilt}.{yvar}.svg'), format = 'svg', dpi = 600, transparent = True)\n",
    "plt.show()\n",
    "\n"
   ]
  }
 ],
 "metadata": {
  "kernelspec": {
   "display_name": "Python (tf-train)",
   "language": "python",
   "name": "tf-train"
  },
  "language_info": {
   "codemirror_mode": {
    "name": "ipython",
    "version": 3
   },
   "file_extension": ".py",
   "mimetype": "text/x-python",
   "name": "python",
   "nbconvert_exporter": "python",
   "pygments_lexer": "ipython3",
   "version": "3.6.12"
  },
  "vscode": {
   "interpreter": {
    "hash": "425115ae6637ada2b959655b34e22bdfbab2786b72fd7a6ba9076b4d899c9624"
   }
  }
 },
 "nbformat": 4,
 "nbformat_minor": 2
}
