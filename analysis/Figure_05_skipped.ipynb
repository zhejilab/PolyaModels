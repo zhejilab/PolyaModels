{
 "cells": [
  {
   "cell_type": "markdown",
   "metadata": {},
   "source": [
    "# Figure 5: Skipped intronic site analysis\n",
    "\n",
    "**Description:** Genomic context model development for intron sites.\n",
    "\n",
    "&rarr; Run this notebook with the `tf-train` kernel\n"
   ]
  },
  {
   "cell_type": "code",
   "execution_count": 1,
   "metadata": {},
   "outputs": [],
   "source": [
    "%load_ext autoreload"
   ]
  },
  {
   "cell_type": "code",
   "execution_count": 2,
   "metadata": {},
   "outputs": [],
   "source": [
    "%autoreload 2"
   ]
  },
  {
   "cell_type": "code",
   "execution_count": 3,
   "metadata": {},
   "outputs": [
    {
     "name": "stderr",
     "output_type": "stream",
     "text": [
      "Using TensorFlow backend.\n"
     ]
    }
   ],
   "source": [
    "%run -i notebook_setup.py"
   ]
  },
  {
   "cell_type": "markdown",
   "metadata": {},
   "source": [
    "## IMPORTS AND SETUP"
   ]
  },
  {
   "cell_type": "code",
   "execution_count": 4,
   "metadata": {},
   "outputs": [],
   "source": [
    "import utilities\n",
    "from utilities import genomic_context\n",
    "\n",
    "import statsmodels.formula.api as smf\n",
    "from sklearn.preprocessing import StandardScaler\n",
    "from statsmodels.stats.proportion import test_proportions_2indep\n"
   ]
  },
  {
   "cell_type": "markdown",
   "metadata": {},
   "source": [
    "## IMPORT DATA"
   ]
  },
  {
   "cell_type": "code",
   "execution_count": 5,
   "metadata": {},
   "outputs": [],
   "source": [
    "PROJECT = \"/projects/b1080/eks/polyadenylation\"\n",
    "\n",
    "DATADIR = os.path.join(PROJECT, \"manuscripts\", \"01_development\", \"data\")\n",
    "RESDIR  = os.path.join(PROJECT, \"manuscripts\", \"01_development\", \"analysis\", \"resources\")\n",
    "OUTDIR  = os.path.join(PROJECT, \"manuscripts\", \"01_development\", \"figures\", \"Figure_05\")\n",
    "os.makedirs(OUTDIR, exist_ok = True)\n",
    "\n",
    "ENCODE_DIR = os.path.join(PROJECT, \"model\", \"rna_validation\", \"encode_project\")\n"
   ]
  },
  {
   "cell_type": "markdown",
   "metadata": {},
   "source": [
    "## Data loading and preparation"
   ]
  },
  {
   "cell_type": "code",
   "execution_count": 6,
   "metadata": {},
   "outputs": [
    {
     "name": "stdout",
     "output_type": "stream",
     "text": [
      "(167013, 45)\n"
     ]
    }
   ],
   "source": [
    "is_data = pd.read_csv(os.path.join(RESDIR, '20220121-215928.denom.all.intron_skipped.transformed.txt'), sep = \"\\t\")\n",
    "print(is_data.shape)\n",
    "\n",
    "is_features = [\n",
    "    'intron_pos_3', \n",
    "    'up_exon_v2_log10', \n",
    "    'down_exon_log10', \n",
    "    'distance_upstream5ss_log10', \n",
    "    'score_first_upstream3ss', \n",
    "    'score_downstream3ss',\n",
    "    'predicted_logit', \n",
    "    'ratio_3ss_to_3ss'\n",
    "]\n",
    "\n",
    "is_data['distance_upstream5ss'] = 10 ** is_data['distance_upstream5ss_log10']\n",
    "is_data['distance_first_upstream3ss'] = 10 ** is_data['distance_first_upstream3ss_log10']\n",
    "is_data['feature_size'] = 10 ** is_data['feature_size_log10']\n",
    "is_data['distance_downstream3ss'] = is_data['feature_size'] - is_data['distance_upstream5ss']\n",
    "\n",
    "is_data['position_upstream5ss']   = is_data.apply(lambda row: (row['start'] - row['distance_upstream5ss']) if (row['strand'] == '+') else (row['start'] + row['distance_upstream5ss']), axis = 1)\n",
    "is_data['position_downstream3ss'] = is_data.apply(lambda row: (row['start'] + row['distance_downstream3ss']) if (row['strand'] == '+') else (row['start'] - row['distance_downstream3ss']), axis = 1)\n",
    "\n",
    "is_data['ratio_3ss_to_3ss'] = np.log2((is_data['distance_downstream3ss'] + 100) / (is_data['distance_first_upstream3ss'] + 100))\n"
   ]
  },
  {
   "cell_type": "markdown",
   "metadata": {},
   "source": [
    "#### Identify positive sites"
   ]
  },
  {
   "cell_type": "code",
   "execution_count": 7,
   "metadata": {},
   "outputs": [],
   "source": [
    "is_pos = is_data.loc[is_data['cluster_reads_slop'] > 0].copy()\n",
    "\n",
    "is_site_dict = {}\n",
    "\n",
    "for i,row in is_pos.iterrows():\n",
    "    is_site_dict[(row['chrom'], row['start'], row['strand'], row['gene'])] = row['cluster_reads_slop']\n"
   ]
  },
  {
   "cell_type": "code",
   "execution_count": 8,
   "metadata": {},
   "outputs": [
    {
     "name": "stdout",
     "output_type": "stream",
     "text": [
      "POSITIVES: (2594, 52)\n",
      "NEGATIVES: (155370, 52)\n"
     ]
    }
   ],
   "source": [
    "is_positives = is_data.loc[is_data['cluster_reads_slop'] >= 100].copy()\n",
    "is_negatives = is_data.loc[is_data['cluster_reads_slop'] == 0].copy()\n",
    "\n",
    "print(\"POSITIVES:\", is_positives.shape)\n",
    "print(\"NEGATIVES:\", is_negatives.shape)\n"
   ]
  },
  {
   "cell_type": "markdown",
   "metadata": {},
   "source": [
    "#### Sample negative sites from introns with no used polyA sites"
   ]
  },
  {
   "cell_type": "code",
   "execution_count": 11,
   "metadata": {},
   "outputs": [
    {
     "name": "stdout",
     "output_type": "stream",
     "text": [
      "ELIGIBLE NCs: 5366\n"
     ]
    }
   ],
   "source": [
    "is_negatives_samp = is_negatives.sample(n = 30000, replace = False, random_state = 1234)\n",
    "is_negatives_samp['nc_eligible'] = is_negatives_samp.apply(genomic_context.check_sites_in_intron, args = (is_pos, is_site_dict), axis = 1)\n",
    "print(\"ELIGIBLE NCs:\", is_negatives_samp.nc_eligible.sum())\n"
   ]
  },
  {
   "cell_type": "code",
   "execution_count": 12,
   "metadata": {},
   "outputs": [
    {
     "name": "stdout",
     "output_type": "stream",
     "text": [
      "DOWNSAMPLED NCs: (3736, 53)\n"
     ]
    }
   ],
   "source": [
    "is_negatives_maxpergene = genomic_context.downsample_sites_per_gene(is_negatives_samp.loc[is_negatives_samp['nc_eligible'] == True], \n",
    "                                                                    is_positives['gene'].value_counts().max())\n",
    "print(\"DOWNSAMPLED NCs:\", is_negatives_maxpergene.shape)\n"
   ]
  },
  {
   "cell_type": "markdown",
   "metadata": {},
   "source": [
    "#### Partition data into training/testing splits"
   ]
  },
  {
   "cell_type": "code",
   "execution_count": 167,
   "metadata": {},
   "outputs": [
    {
     "name": "stdout",
     "output_type": "stream",
     "text": [
      "\n",
      "BINARY CLASS:\n",
      " 1    2594\n",
      "0    2594\n",
      "Name: score_binary, dtype: int64\n",
      "\n",
      "SPLIT:\n",
      " train    4670\n",
      "test      518\n",
      "Name: split, dtype: int64\n"
     ]
    }
   ],
   "source": [
    "random_state = 2774937218\n",
    "\n",
    "is_positives = is_data.loc[is_data['cluster_reads_slop'] >= 100].copy()\n",
    "is_positives['split'] = 'train'\n",
    "is_positives.loc[is_positives.sample(frac = 0.1, replace = False, random_state = random_state).index, 'split'] = 'test'\n",
    "\n",
    "is_negatives = is_negatives_maxpergene.loc[is_negatives_maxpergene['nc_eligible'] == 1].copy().sample(n = len(is_positives), replace = False, random_state = random_state)\n",
    "is_negatives['split'] = 'train'\n",
    "is_negatives.loc[is_negatives.sample(frac = 0.1, replace = False, random_state = random_state).index, 'split'] = 'test'\n",
    "\n",
    "new_is_data = pd.concat([is_positives, is_negatives], sort = False, ignore_index = True)\n",
    "print(\"\\nBINARY CLASS:\\n\", new_is_data.score_binary.value_counts())\n",
    "print(\"\\nSPLIT:\\n\", new_is_data.split.value_counts())\n",
    "\n",
    "with open(os.path.join(RESDIR, 'is_data.pickle'), mode = 'wb') as handle:\n",
    "    pickle.dump(new_is_data, handle)\n"
   ]
  },
  {
   "cell_type": "markdown",
   "metadata": {},
   "source": [
    "#### Scale data to normalize mean and standard deviation"
   ]
  },
  {
   "cell_type": "code",
   "execution_count": 168,
   "metadata": {},
   "outputs": [],
   "source": [
    "scaler_is = StandardScaler().fit(new_is_data.loc[new_is_data['split'] == 'train', is_features[1:]])\n",
    "\n",
    "# with open(os.path.join(RESDIR, 'is_scaler_ratio.pickle'), mode = 'wb') as handle:\n",
    "#     pickle.dump(scaler_is, handle)\n",
    "\n",
    "Xall_scaled = pd.DataFrame(scaler_is.transform(new_is_data[is_features[1:]]), index = new_is_data.index, columns = new_is_data[is_features[1:]].columns)\n",
    "Xall_scaled[is_features[0]] = new_is_data[is_features[0]]\n",
    "Yall_c = new_is_data['score_binary']\n",
    "\n",
    "Xtr_scaled = Xall_scaled.loc[new_is_data['split'] == 'train'].copy()\n",
    "Ytr_c = new_is_data.loc[new_is_data['split'] == 'train', 'score_binary'].copy()\n",
    "\n",
    "Xte_scaled = Xall_scaled.loc[new_is_data['split'] == 'test'].copy()\n",
    "Yte_c = new_is_data.loc[new_is_data['split'] == 'test', 'score_binary'].copy()\n",
    "\n",
    "is_all_data = {\n",
    "    'train' : {\n",
    "        'X' : Xtr_scaled,\n",
    "        'Y' : Ytr_c,\n",
    "    },\n",
    "    'test' : {\n",
    "        'X' : Xte_scaled,\n",
    "        'Y' : Yte_c,\n",
    "    }\n",
    "}\n"
   ]
  },
  {
   "cell_type": "markdown",
   "metadata": {},
   "source": [
    "#### Fit logistic regression model"
   ]
  },
  {
   "cell_type": "code",
   "execution_count": 169,
   "metadata": {},
   "outputs": [
    {
     "name": "stdout",
     "output_type": "stream",
     "text": [
      "Optimization terminated successfully.\n",
      "         Current function value: 0.381680\n",
      "         Iterations 7\n",
      "                           Logit Regression Results                           \n",
      "==============================================================================\n",
      "Dep. Variable:           score_binary   No. Observations:                 4670\n",
      "Model:                          Logit   Df Residuals:                     4662\n",
      "Method:                           MLE   Df Model:                            7\n",
      "Date:                Sat, 15 Jul 2023   Pseudo R-squ.:                  0.4494\n",
      "Time:                        01:16:49   Log-Likelihood:                -1782.4\n",
      "converged:                       True   LL-Null:                       -3237.0\n",
      "Covariance Type:            nonrobust   LLR p-value:                     0.000\n",
      "==============================================================================================\n",
      "                                 coef    std err          z      P>|z|      [0.025      0.975]\n",
      "----------------------------------------------------------------------------------------------\n",
      "intron_pos_3                   1.4245      0.126     11.346      0.000       1.178       1.671\n",
      "up_exon_v2_log10              -0.2967      0.045     -6.568      0.000      -0.385      -0.208\n",
      "down_exon_log10                0.2985      0.046      6.462      0.000       0.208       0.389\n",
      "distance_upstream5ss_log10    -0.8660      0.048    -17.992      0.000      -0.960      -0.772\n",
      "score_first_upstream3ss        0.3268      0.044      7.386      0.000       0.240       0.413\n",
      "score_downstream3ss           -0.1317      0.044     -3.025      0.002      -0.217      -0.046\n",
      "predicted_logit                1.9597      0.065     30.057      0.000       1.832       2.087\n",
      "ratio_3ss_to_3ss               0.3710      0.045      8.333      0.000       0.284       0.458\n",
      "==============================================================================================\n"
     ]
    }
   ],
   "source": [
    "is_model = sm.Logit(Ytr_c, Xtr_scaled[is_features]).fit()\n",
    "print(is_model.summary())\n",
    "\n",
    "# with open(os.path.join(RESDIR, 'is_model_ratio.pickle'), mode = 'wb') as handle:\n",
    "#     pickle.dump(is_model, handle)\n"
   ]
  },
  {
   "cell_type": "code",
   "execution_count": 142,
   "metadata": {},
   "outputs": [],
   "source": [
    "is_all_data['train']['Ypred'] = {}\n",
    "is_all_data['test']['Ypred']  = {}\n",
    "    \n",
    "new_preds = is_model.predict(is_all_data['train']['X'][is_features])\n",
    "is_all_data['train']['Ypred'] = new_preds\n",
    "\n",
    "new_preds = is_model.predict(is_all_data['test']['X'][is_features])\n",
    "is_all_data['test']['Ypred'] = new_preds\n"
   ]
  },
  {
   "cell_type": "code",
   "execution_count": 143,
   "metadata": {},
   "outputs": [],
   "source": [
    "is_feature_dict = {\n",
    "    'distance_upstream5ss_log10'       : \"1. Distance to 5'SS (log10)\",\n",
    "    'up_exon_v2_log10'                 : '2. Upstream exon size (log10)',\n",
    "    'down_exon_log10'                  : '3. Downstream exon size (log10)',\n",
    "    'score_first_upstream3ss'          : \"4. Upstream 3'SS strength\",\n",
    "    'score_downstream3ss'              : \"5. Downstream 3'SS strength\",\n",
    "    'intron_pos_3'                     : '6. Site in last intron?',\n",
    "    'predicted_logit'                  : '7. PolyaStrength score',\n",
    "    'ratio_3ss_to_3ss'                 : \"8. Ratio of downstream vs upstream 3'SS distance (log2)\"\n",
    "}\n"
   ]
  },
  {
   "cell_type": "markdown",
   "metadata": {},
   "source": [
    "## Classification Performance"
   ]
  },
  {
   "cell_type": "code",
   "execution_count": 144,
   "metadata": {},
   "outputs": [
    {
     "data": {
      "image/png": "[encoded data removed]",
      "text/plain": [
       "<Figure size 126x126 with 1 Axes>"
      ]
     },
     "metadata": {
      "needs_background": "light"
     },
     "output_type": "display_data"
    },
    {
     "name": "stdout",
     "output_type": "stream",
     "text": [
      "Corresponding metrics:\n",
      "\tTest AUROC = 0.9105708024626944\n"
     ]
    }
   ],
   "source": [
    "fig,axes = plt.subplots(1,1, figsize = (1.75,1.75))\n",
    "\n",
    "is_filt_auc = genomic_context.plot_roc(axes, \n",
    "                                       is_all_data['test']['Y'],\n",
    "                                       is_all_data['test']['Ypred'],\n",
    "                                       'Test')\n",
    "\n",
    "axes.xaxis.set_major_locator(MultipleLocator(0.5))\n",
    "axes.yaxis.set_major_locator(MultipleLocator(0.5))\n",
    "\n",
    "axes.get_legend().remove()\n",
    "\n",
    "plt.savefig(os.path.join(OUTDIR, 'is.classification_roc.svg'), format = 'svg', dpi = 600, transparent = True)\n",
    "plt.show()\n",
    "\n",
    "\n",
    "print(\"Corresponding metrics:\")\n",
    "print(f\"\\tTest AUROC = {is_filt_auc}\")\n"
   ]
  },
  {
   "cell_type": "markdown",
   "metadata": {},
   "source": [
    "## Validation of site usage predictions using ENCODE RNA-seq"
   ]
  },
  {
   "cell_type": "code",
   "execution_count": 147,
   "metadata": {},
   "outputs": [
    {
     "name": "stderr",
     "output_type": "stream",
     "text": [
      "/home/esk863/.local/lib/python3.6/site-packages/pandas/core/series.py:853: RuntimeWarning: invalid value encountered in log10\n",
      "  result = getattr(ufunc, method)(*inputs, **kwargs)\n",
      "/home/esk863/.local/lib/python3.6/site-packages/pandas/core/series.py:853: RuntimeWarning: invalid value encountered in log2\n",
      "  result = getattr(ufunc, method)(*inputs, **kwargs)\n"
     ]
    },
    {
     "name": "stdout",
     "output_type": "stream",
     "text": [
      "(239006, 54)\n",
      "(17546, 54)\n"
     ]
    }
   ],
   "source": [
    "## load site data with genomic context fields\n",
    "\n",
    "is_site_data = pd.read_csv(os.path.join(PROJECT, \"model\", \"relative_usage\", \"dataset\", \"20220121-215928.denom.all.intron_skip_all.txt\"), sep = \"\\t\")\n",
    "\n",
    "is_site_data['distance_downstream3ss'] = is_site_data['feature_size'] - is_site_data['distance_upstream5ss']\n",
    "\n",
    "is_site_data['intron_pos_3'] = (is_site_data['feature_score'] == 3).astype(int)\n",
    "is_site_data['up_exon_v2_log10'] = np.log10(is_site_data['distance_second_upstream3ss'] - is_site_data['distance_upstream5ss'] + 1)\n",
    "is_site_data['down_exon_log10'] = np.log10(is_site_data['down_exon'] + 1)\n",
    "is_site_data['feature_size_log10'] = np.log10(is_site_data['feature_size'] + 1)\n",
    "is_site_data['distance_upstream5ss_log10'] = np.log10(is_site_data['distance_upstream5ss'] + 1)\n",
    "is_site_data['distance_first_upstream3ss_log10'] = np.log10(is_site_data['distance_first_upstream3ss'] + 1)\n",
    "\n",
    "is_site_data['ratio_3ss_to_3ss'] = np.log2((is_site_data['distance_downstream3ss'] + 100) / (is_site_data['distance_first_upstream3ss'] + 100))\n",
    "\n",
    "is_site_data_scaled = pd.DataFrame(scaler_is.transform(is_site_data[is_features[1:]]), index = is_site_data.index, columns = is_site_data[is_features[1:]].columns)\n",
    "is_site_data_scaled['intron_pos_3'] = is_site_data['intron_pos_3']\n",
    "\n",
    "is_site_data['pred_prob'] = is_model.predict(is_site_data_scaled[is_features])\n",
    "print(is_site_data.shape)\n",
    "\n",
    "\n",
    "## filter sites with sufficient reads\n",
    "\n",
    "is_site_pos = is_site_data.loc[is_site_data['cluster_reads_slop'] >= 10].copy()\n",
    "is_site_neg = is_site_data.loc[is_site_data['cluster_reads_slop'] == 0].copy().sample(n = is_site_pos.shape[0], replace = False)\n",
    "\n",
    "is_site_filt = pd.concat([is_site_pos, is_site_neg], sort = False, ignore_index = True)\n",
    "print(is_site_filt.shape)\n"
   ]
  },
  {
   "cell_type": "code",
   "execution_count": 148,
   "metadata": {
    "scrolled": true
   },
   "outputs": [
    {
     "name": "stdout",
     "output_type": "stream",
     "text": [
      "Original data shape: (17546, 54)\n",
      "Filtered data shape: (17475, 54)\n",
      "Output results shape: (17475, 2)\n"
     ]
    },
    {
     "data": {
      "image/png": "[encoded data removed]",
      "text/plain": [
       "<Figure size 90x72 with 1 Axes>"
      ]
     },
     "metadata": {
      "needs_background": "light"
     },
     "output_type": "display_data"
    }
   ],
   "source": [
    "fig, ax = plt.subplots(1,1, figsize = (1.25,1))\n",
    "\n",
    "distance = 20\n",
    "is_a172_res = genomic_context.quantify_reads_around(is_site_filt, ENCODE_DIR, 'A172', distance = distance, subset = [('distance_upstream5ss', distance+5), ('distance_downstream3ss', distance+5)])\n",
    "genomic_context.make_read_plots(ax, is_a172_res, 'skipped_intron', 'A172', distance)\n",
    "\n",
    "ax.axhline(y = 0, color = 'black', linestyle = 'dashed', linewidth = 0.75)\n",
    "ax.set_xlim((-distance,distance))\n",
    "ax.xaxis.set_major_locator(MultipleLocator(10))\n",
    "\n",
    "ax.set_ylim(-0.6,0.3)\n",
    "ax.yaxis.set_major_locator(MultipleLocator(0.3))\n",
    "\n",
    "ax.spines['right'].set_visible(False)\n",
    "ax.spines['top'].set_visible(False)\n",
    "\n",
    "ax.get_legend().remove()\n",
    "\n",
    "plt.savefig(os.path.join(OUTDIR, 'is.rna_validation.svg'), format = 'svg', dpi = 600, transparent = True)\n",
    "plt.show()\n"
   ]
  },
  {
   "cell_type": "markdown",
   "metadata": {},
   "source": [
    "## AUROC for individual predictors"
   ]
  },
  {
   "cell_type": "code",
   "execution_count": 149,
   "metadata": {},
   "outputs": [
    {
     "data": {
      "image/png": "[encoded data removed]",
      "text/plain": [
       "<Figure size 72x108 with 1 Axes>"
      ]
     },
     "metadata": {
      "needs_background": "light"
     },
     "output_type": "display_data"
    },
    {
     "name": "stdout",
     "output_type": "stream",
     "text": [
      "Corresponding data:\n",
      "                                              labels     auroc     auprc\n",
      "3                        1. Distance to 5'SS (log10)  0.266156  0.363240\n",
      "5                        5. Downstream 3'SS strength  0.438753  0.463059\n",
      "1                      2. Upstream exon size (log10)  0.445655  0.435613\n",
      "0                            6. Site in last intron?  0.594595  0.716839\n",
      "4                          4. Upstream 3'SS strength  0.604821  0.609883\n",
      "7  8. Ratio of downstream vs upstream 3'SS distan...  0.613035  0.573422\n",
      "2                    3. Downstream exon size (log10)  0.649297  0.647805\n",
      "6                             7. PolyaStrength score  0.845128  0.848338\n"
     ]
    }
   ],
   "source": [
    "is_test_data = new_is_data.loc[new_is_data['split'] == 'test']\n",
    "\n",
    "is_features = [\n",
    "    'intron_pos_3', \n",
    "    'up_exon_v2_log10', \n",
    "    'down_exon_log10', \n",
    "    'distance_upstream5ss_log10', \n",
    "    'score_first_upstream3ss', \n",
    "    'score_downstream3ss',\n",
    "    'predicted_logit', \n",
    "    'ratio_3ss_to_3ss'\n",
    "]\n",
    "\n",
    "is_labels = [is_feature_dict.get(_) for _ in is_features]\n",
    "is_aurocs = []\n",
    "is_auprcs = []\n",
    "\n",
    "for icf,icl in zip(is_features, is_labels):\n",
    "    auroc, auprc = genomic_context.calculate_auc(is_test_data['score_binary'], is_test_data[icf])\n",
    "    is_aurocs.append(auroc)\n",
    "    is_auprcs.append(auprc)\n",
    "    \n",
    "is_aurocs_df = pd.DataFrame.from_dict({'labels' : is_labels, 'auroc' : is_aurocs, 'auprc' : is_auprcs}, orient = 'columns')\n",
    "\n",
    "fig,ax = plt.subplots(1,1, figsize = (1, 1.5))\n",
    "\n",
    "sns.barplot(data = is_aurocs_df.sort_values('auroc'),\n",
    "            x = 'auroc', y = 'labels', color = 'dimgray',\n",
    "            edgecolor = 'black', linewidth = 0.5,\n",
    "            ax = ax)\n",
    "\n",
    "ax.set_xlim(0,1)\n",
    "ax.xaxis.set_major_locator(MultipleLocator(0.25))\n",
    "\n",
    "ax.spines['right'].set_visible(False)\n",
    "ax.spines['top'].set_visible(False)\n",
    "\n",
    "plt.savefig(os.path.join(OUTDIR, 'is.individual_predictor_auroc.svg'), format = 'svg', dpi = 600, transparent = True)\n",
    "plt.show()\n",
    "\n",
    "\n",
    "print(\"Corresponding data:\")\n",
    "print(is_aurocs_df.sort_values('auroc'))\n"
   ]
  },
  {
   "cell_type": "markdown",
   "metadata": {},
   "source": [
    "## Confirmatory boxplots for model predictors"
   ]
  },
  {
   "cell_type": "code",
   "execution_count": 150,
   "metadata": {},
   "outputs": [
    {
     "name": "stdout",
     "output_type": "stream",
     "text": [
      "(5188, 58)\n"
     ]
    }
   ],
   "source": [
    "class_names = {0:'Not Used', 1:'Highly Used'}\n",
    "class_order = ['Highly Used', 'Not Used']\n",
    "\n",
    "is_pred = new_is_data.copy()\n",
    "is_pred['pred_prob'] = is_all_data['train']['Ypred']\n",
    "is_pred.loc[is_pred['split'] == 'test', 'pred_prob'] = is_all_data['test']['Ypred']\n",
    "\n",
    "is_pred['class'] = is_pred['score_binary'].apply(lambda x : class_names[x])\n",
    "is_pred['pred_prob_clip'] = np.clip(is_pred['pred_prob'], 1e-6, 1 - 1e-6)\n",
    "is_pred['pred_prob_or'] = np.log2(is_pred['pred_prob_clip'] / (1 - is_pred['pred_prob_clip']))\n",
    "\n",
    "print(is_pred.shape)\n"
   ]
  },
  {
   "cell_type": "code",
   "execution_count": 151,
   "metadata": {},
   "outputs": [],
   "source": [
    "is_feature_dict = {\n",
    "    'distance_upstream5ss_log10'       : \"1. Distance to 5'SS (log10)\",\n",
    "    'up_exon_v2_log10'                 : '2. Upstream exon size (log10)',\n",
    "    'down_exon_log10'                  : '3. Downstream exon size (log10)',\n",
    "    'score_first_upstream3ss'          : \"4. Upstream 3'SS strength\",\n",
    "    'score_downstream3ss'              : \"5. Downstream 3'SS strength\",\n",
    "    'intron_pos_3'                     : '6. Site in last intron?',\n",
    "    'predicted_logit'                  : '7. PolyaStrength score',\n",
    "    'ratio_3ss_to_3ss'                 : \"8. Ratio of downstream vs upstream 3'SS distance (log2)\"\n",
    "}\n"
   ]
  },
  {
   "cell_type": "code",
   "execution_count": 152,
   "metadata": {
    "scrolled": false
   },
   "outputs": [],
   "source": [
    "selected_features = ['distance_upstream5ss_log10', 'up_exon_v2_log10', 'down_exon_log10', \n",
    "                     'score_first_upstream3ss', 'score_downstream3ss', 'ratio_3ss_to_3ss']\n",
    "\n",
    "selected_labels = [is_feature_dict.get(sf) for sf in selected_features]\n"
   ]
  },
  {
   "cell_type": "markdown",
   "metadata": {},
   "source": [
    "#### PolyaStrength by site usage"
   ]
  },
  {
   "cell_type": "code",
   "execution_count": 153,
   "metadata": {},
   "outputs": [
    {
     "name": "stdout",
     "output_type": "stream",
     "text": [
      "7. PolyaStrength score:\n",
      "N_Highly Used\tN=2594\n",
      "N_Not Used\tN=2594\n",
      "Baseline\tWRS P-val = 0.000E+00\n"
     ]
    },
    {
     "data": {
      "image/png": "[encoded data removed]",
      "text/plain": [
       "<Figure size 28.8x90 with 1 Axes>"
      ]
     },
     "metadata": {
      "needs_background": "light"
     },
     "output_type": "display_data"
    }
   ],
   "source": [
    "genomic_context.boxplot_features_outcome(OUTDIR, is_pred, 'is',\n",
    "                                         ['predicted_logit'], [is_feature_dict.get(\"predicted_logit\")],\n",
    "                                         'class', class_order, ['#92278f','#f2f2f2'],\n",
    "                                         figsize = (0.4,1.25), ylims_main=(-15,5), ytickint_main = 5)\n"
   ]
  },
  {
   "cell_type": "markdown",
   "metadata": {},
   "source": [
    "#### Genomic features after controlling for PolyaStrength via quantile sampling"
   ]
  },
  {
   "cell_type": "code",
   "execution_count": 163,
   "metadata": {},
   "outputs": [
    {
     "name": "stdout",
     "output_type": "stream",
     "text": [
      "\n",
      "\n",
      "1. Distance to 5'SS (log10)\n",
      "Defining quantiles for variable predicted_logit with 10 groups, sampling 75.0% of available sites.\n"
     ]
    },
    {
     "data": {
      "image/png": "[encoded data removed]",
      "text/plain": [
       "<Figure size 28.8x90 with 1 Axes>"
      ]
     },
     "metadata": {
      "needs_background": "light"
     },
     "output_type": "display_data"
    },
    {
     "data": {
      "image/png": "[encoded data removed]",
      "text/plain": [
       "<Figure size 28.8x90 with 1 Axes>"
      ]
     },
     "metadata": {
      "needs_background": "light"
     },
     "output_type": "display_data"
    },
    {
     "name": "stdout",
     "output_type": "stream",
     "text": [
      "1. Distance to 5'SS (log10):\n",
      "N_Highly Used\tN=907\n",
      "N_Not Used\tN=907\n",
      "Baseline\tWRS P-val = 5.939E-79\n",
      "predicted_logit\tWRS P-val = 6.879E-01\n"
     ]
    }
   ],
   "source": [
    "genomic_context.boxplot_features_outcome_with_quantile_sampling(OUTDIR, is_pred, 'is',\n",
    "                                                                [selected_features[0]], [selected_labels[0]], \n",
    "                                                                'class', class_order, ['#92278f','#f2f2f2'],\n",
    "                                                                sample = ['predicted_logit'],\n",
    "                                                                figsize = (0.4,1.25), \n",
    "                                                                ylims_main=(2,6), ytickint_main = 2, \n",
    "                                                                ylims_sample=(-12,0), ytickint_sample = 6)\n"
   ]
  },
  {
   "cell_type": "code",
   "execution_count": 155,
   "metadata": {},
   "outputs": [
    {
     "name": "stdout",
     "output_type": "stream",
     "text": [
      "\n",
      "\n",
      "2. Upstream exon size (log10)\n",
      "Defining quantiles for variable predicted_logit with 10 groups, sampling 75.0% of available sites.\n"
     ]
    },
    {
     "data": {
      "image/png": "[encoded data removed]",
      "text/plain": [
       "<Figure size 28.8x90 with 1 Axes>"
      ]
     },
     "metadata": {
      "needs_background": "light"
     },
     "output_type": "display_data"
    },
    {
     "data": {
      "image/png": "[encoded data removed]",
      "text/plain": [
       "<Figure size 28.8x90 with 1 Axes>"
      ]
     },
     "metadata": {
      "needs_background": "light"
     },
     "output_type": "display_data"
    },
    {
     "name": "stdout",
     "output_type": "stream",
     "text": [
      "2. Upstream exon size (log10):\n",
      "N_Highly Used\tN=907\n",
      "N_Not Used\tN=907\n",
      "Baseline\tWRS P-val = 2.443E-09\n",
      "predicted_logit\tWRS P-val = 6.879E-01\n"
     ]
    }
   ],
   "source": [
    "genomic_context.boxplot_features_outcome_with_quantile_sampling(OUTDIR, is_pred, 'is',\n",
    "                                                                [selected_features[1]], [selected_labels[1]], \n",
    "                                                                'class', class_order, ['#92278f','#f2f2f2'],\n",
    "                                                                sample = ['predicted_logit'],\n",
    "                                                                figsize = (0.4,1.25), \n",
    "                                                                ylims_main=(1,3.5), ytickint_main = 0.5, \n",
    "                                                                ylims_sample=(-12,0), ytickint_sample = 6)\n"
   ]
  },
  {
   "cell_type": "code",
   "execution_count": 156,
   "metadata": {},
   "outputs": [
    {
     "name": "stdout",
     "output_type": "stream",
     "text": [
      "\n",
      "\n",
      "3. Downstream exon size (log10)\n",
      "Defining quantiles for variable predicted_logit with 10 groups, sampling 75.0% of available sites.\n"
     ]
    },
    {
     "data": {
      "image/png": "[encoded data removed]",
      "text/plain": [
       "<Figure size 28.8x90 with 1 Axes>"
      ]
     },
     "metadata": {
      "needs_background": "light"
     },
     "output_type": "display_data"
    },
    {
     "data": {
      "image/png": "[encoded data removed]",
      "text/plain": [
       "<Figure size 28.8x90 with 1 Axes>"
      ]
     },
     "metadata": {
      "needs_background": "light"
     },
     "output_type": "display_data"
    },
    {
     "name": "stdout",
     "output_type": "stream",
     "text": [
      "3. Downstream exon size (log10):\n",
      "N_Highly Used\tN=907\n",
      "N_Not Used\tN=907\n",
      "Baseline\tWRS P-val = 7.717E-22\n",
      "predicted_logit\tWRS P-val = 6.879E-01\n"
     ]
    }
   ],
   "source": [
    "genomic_context.boxplot_features_outcome_with_quantile_sampling(OUTDIR, is_pred, 'is',\n",
    "                                                                [selected_features[2]], [selected_labels[2]],\n",
    "                                                                'class', class_order, ['#92278f','#f2f2f2'],\n",
    "                                                                sample = ['predicted_logit'],\n",
    "                                                                figsize = (0.4,1.25), \n",
    "                                                                ylims_main=(1,4), ytickint_main = 1, \n",
    "                                                                ylims_sample=(-12,0), ytickint_sample = 6)\n"
   ]
  },
  {
   "cell_type": "code",
   "execution_count": 157,
   "metadata": {},
   "outputs": [
    {
     "name": "stdout",
     "output_type": "stream",
     "text": [
      "\n",
      "\n",
      "4. Upstream 3'SS strength\n",
      "Defining quantiles for variable predicted_logit with 10 groups, sampling 75.0% of available sites.\n"
     ]
    },
    {
     "data": {
      "image/png": "[encoded data removed]",
      "text/plain": [
       "<Figure size 28.8x90 with 1 Axes>"
      ]
     },
     "metadata": {
      "needs_background": "light"
     },
     "output_type": "display_data"
    },
    {
     "data": {
      "image/png": "[encoded data removed]",
      "text/plain": [
       "<Figure size 28.8x90 with 1 Axes>"
      ]
     },
     "metadata": {
      "needs_background": "light"
     },
     "output_type": "display_data"
    },
    {
     "name": "stdout",
     "output_type": "stream",
     "text": [
      "4. Upstream 3'SS strength:\n",
      "N_Highly Used\tN=907\n",
      "N_Not Used\tN=907\n",
      "Baseline\tWRS P-val = 1.035E-09\n",
      "predicted_logit\tWRS P-val = 6.879E-01\n"
     ]
    }
   ],
   "source": [
    "genomic_context.boxplot_features_outcome_with_quantile_sampling(OUTDIR, is_pred, 'is',\n",
    "                                                                [selected_features[3]], [selected_labels[3]],\n",
    "                                                                'class', class_order, ['#92278f','#f2f2f2'],\n",
    "                                                                sample = ['predicted_logit'],\n",
    "                                                                figsize = (0.4,1.25), \n",
    "                                                                ylims_main=(-1,15), ytickint_main = 5, \n",
    "                                                                ylims_sample=(-12,0), ytickint_sample = 6)\n"
   ]
  },
  {
   "cell_type": "code",
   "execution_count": 158,
   "metadata": {},
   "outputs": [
    {
     "name": "stdout",
     "output_type": "stream",
     "text": [
      "\n",
      "\n",
      "5. Downstream 3'SS strength\n",
      "Defining quantiles for variable predicted_logit with 10 groups, sampling 75.0% of available sites.\n"
     ]
    },
    {
     "data": {
      "image/png": "[encoded data removed]",
      "text/plain": [
       "<Figure size 28.8x90 with 1 Axes>"
      ]
     },
     "metadata": {
      "needs_background": "light"
     },
     "output_type": "display_data"
    },
    {
     "data": {
      "image/png": "[encoded data removed]",
      "text/plain": [
       "<Figure size 28.8x90 with 1 Axes>"
      ]
     },
     "metadata": {
      "needs_background": "light"
     },
     "output_type": "display_data"
    },
    {
     "name": "stdout",
     "output_type": "stream",
     "text": [
      "5. Downstream 3'SS strength:\n",
      "N_Highly Used\tN=907\n",
      "N_Not Used\tN=907\n",
      "Baseline\tWRS P-val = 2.336E-04\n",
      "predicted_logit\tWRS P-val = 6.879E-01\n"
     ]
    }
   ],
   "source": [
    "genomic_context.boxplot_features_outcome_with_quantile_sampling(OUTDIR, is_pred, 'is',\n",
    "                                                                [selected_features[4]], [selected_labels[4]],\n",
    "                                                                'class', class_order, ['#92278f','#f2f2f2'],\n",
    "                                                                sample = ['predicted_logit'],\n",
    "                                                                figsize = (0.4,1.25), \n",
    "                                                                ylims_main=(0,16), ytickint_main = 4,\n",
    "                                                                ylims_sample=(-12,0), ytickint_sample = 6)\n"
   ]
  },
  {
   "cell_type": "code",
   "execution_count": 170,
   "metadata": {},
   "outputs": [
    {
     "name": "stdout",
     "output_type": "stream",
     "text": [
      "\n",
      "\n",
      "8. Ratio of downstream vs upstream 3'SS distance (log2)\n",
      "Defining quantiles for variable predicted_logit with 10 groups, sampling 75.0% of available sites.\n"
     ]
    },
    {
     "data": {
      "image/png": "[encoded data removed]",
      "text/plain": [
       "<Figure size 28.8x90 with 1 Axes>"
      ]
     },
     "metadata": {
      "needs_background": "light"
     },
     "output_type": "display_data"
    },
    {
     "data": {
      "image/png": "[encoded data removed]",
      "text/plain": [
       "<Figure size 28.8x90 with 1 Axes>"
      ]
     },
     "metadata": {
      "needs_background": "light"
     },
     "output_type": "display_data"
    },
    {
     "name": "stdout",
     "output_type": "stream",
     "text": [
      "8. Ratio of downstream vs upstream 3'SS distance (log2):\n",
      "N_Highly Used\tN=907\n",
      "N_Not Used\tN=907\n",
      "Baseline\tWRS P-val = 1.892E-30\n",
      "predicted_logit\tWRS P-val = 6.879E-01\n"
     ]
    }
   ],
   "source": [
    "genomic_context.boxplot_features_outcome_with_quantile_sampling(OUTDIR, is_pred, 'is',\n",
    "                                                                [selected_features[5]], [selected_labels[5]],\n",
    "                                                                'class', class_order, ['#92278f','#f2f2f2'],\n",
    "                                                                sample = ['predicted_logit'],\n",
    "                                                                figsize = (0.4,1.25), \n",
    "                                                                ylims_main=(-6,10), ytickint_main = 5, \n",
    "                                                                ylims_sample=(-12,0), ytickint_sample = 6)\n"
   ]
  },
  {
   "cell_type": "code",
   "execution_count": 160,
   "metadata": {},
   "outputs": [
    {
     "name": "stdout",
     "output_type": "stream",
     "text": [
      "\n",
      "\n",
      "6. Site in last intron?\n",
      "Defining quantiles for variable predicted_logit with 10 groups, sampling 75.0% of available sites.\n"
     ]
    },
    {
     "data": {
      "image/png": "[encoded data removed]",
      "text/plain": [
       "<Figure size 28.8x90 with 1 Axes>"
      ]
     },
     "metadata": {
      "needs_background": "light"
     },
     "output_type": "display_data"
    },
    {
     "name": "stdout",
     "output_type": "stream",
     "text": [
      "Corresponding Statistics:\n",
      "statistic = 12.84692593461641\n",
      "pvalue = 8.949653176776836e-38\n",
      "compare = diff\n",
      "method = agresti-caffo\n",
      "diff = 0.21940463065049615\n",
      "ratio = 4.43103448275862\n",
      "odds_ratio = 5.78761273209549\n",
      "variance = 0.00029038885594540834\n",
      "alternative = two-sided\n",
      "value = 0\n",
      "tuple = (12.84692593461641, 8.949653176776836e-38)\n"
     ]
    }
   ],
   "source": [
    "is_ip3_sampled = genomic_context.quantile_sampling(is_pred, 'is', \n",
    "                                                   ['intron_pos_3'], [is_feature_dict.get('intron_pos_3')], \n",
    "                                                   'class', class_order, sample = ['predicted_logit'])\n",
    "\n",
    "is_sum = (is_ip3_sampled\n",
    "          .groupby(['class','intron_pos_3']).size()\n",
    "          .reset_index().rename(columns = {0:'count'}))\n",
    "\n",
    "is_sum['prop'] = is_sum['count'] / is_sum.groupby('class')['count'].transform('sum')\n",
    "\n",
    "is_test = test_proportions_2indep(is_sum.loc[(is_sum['class'] == 'Highly Used') & (is_sum['intron_pos_3'] == 1), 'count'].iloc[0],\n",
    "                                  is_sum.loc[(is_sum['class'] == 'Highly Used'), 'count'].sum(),\n",
    "                                  is_sum.loc[(is_sum['class'] == 'Not Used') & (is_sum['intron_pos_3'] == 1), 'count'].iloc[0],\n",
    "                                  is_sum.loc[(is_sum['class'] == 'Not Used'), 'count'].sum())\n",
    "\n",
    "is_sum = is_sum.loc[is_sum['intron_pos_3'] == 1]\n",
    "\n",
    "\n",
    "fig,ax = plt.subplots(1,1, figsize = (0.4, 1.25))\n",
    "\n",
    "sns.barplot(data = is_sum, x = 'class', y = 'prop', order = class_order,\n",
    "            hue = 'class', hue_order = class_order, dodge = False, palette = ['#92278f','#f2f2f2'],\n",
    "            edgecolor = 'black', linewidth = 0.5)\n",
    "\n",
    "ax.get_legend().remove()\n",
    "ax.set_xlabel(\"\")\n",
    "ax.set_ylabel(\"\")\n",
    "ax.set_ylim(0,0.3)\n",
    "ax.yaxis.set_major_locator(MultipleLocator(0.1))\n",
    "ax.set_xticks([])\n",
    "\n",
    "ax.spines['right'].set_visible(False)\n",
    "ax.spines['top'].set_visible(False)\n",
    "\n",
    "plt.savefig(os.path.join(OUTDIR, 'is.intron_pos_3_by_usage.quantile_sampling.controlling_predicted_logit.svg'), format = 'svg', dpi = 600, transparent = True)\n",
    "plt.show()\n",
    "\n",
    "\n",
    "print(\"Corresponding Statistics:\")\n",
    "print(is_test)\n"
   ]
  },
  {
   "cell_type": "code",
   "execution_count": null,
   "metadata": {},
   "outputs": [],
   "source": []
  }
 ],
 "metadata": {
  "kernelspec": {
   "display_name": "Python (tf-train)",
   "language": "python",
   "name": "tf-train"
  },
  "language_info": {
   "codemirror_mode": {
    "name": "ipython",
    "version": 3
   },
   "file_extension": ".py",
   "mimetype": "text/x-python",
   "name": "python",
   "nbconvert_exporter": "python",
   "pygments_lexer": "ipython3",
   "version": "3.6.12"
  },
  "vscode": {
   "interpreter": {
    "hash": "425115ae6637ada2b959655b34e22bdfbab2786b72fd7a6ba9076b4d899c9624"
   }
  }
 },
 "nbformat": 4,
 "nbformat_minor": 2
}
