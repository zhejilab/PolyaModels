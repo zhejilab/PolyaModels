{
 "cells": [
  {
   "cell_type": "markdown",
   "metadata": {},
   "source": [
    "# Figure 5: Skipped intronic site analysis\n",
    "\n",
    "**Description:** Genomic context model development for intron sites.\n",
    "\n",
    "&rarr; Run this notebook with the `tf-train` kernel\n"
   ]
  },
  {
   "cell_type": "code",
   "execution_count": 1,
   "metadata": {},
   "outputs": [],
   "source": [
    "%load_ext autoreload"
   ]
  },
  {
   "cell_type": "code",
   "execution_count": 2,
   "metadata": {},
   "outputs": [],
   "source": [
    "%autoreload 2"
   ]
  },
  {
   "cell_type": "code",
   "execution_count": 3,
   "metadata": {},
   "outputs": [
    {
     "name": "stderr",
     "output_type": "stream",
     "text": [
      "Using TensorFlow backend.\n"
     ]
    }
   ],
   "source": [
    "%run -i notebook_setup.py"
   ]
  },
  {
   "cell_type": "markdown",
   "metadata": {},
   "source": [
    "## IMPORTS AND SETUP"
   ]
  },
  {
   "cell_type": "code",
   "execution_count": 4,
   "metadata": {},
   "outputs": [],
   "source": [
    "import utilities\n",
    "from utilities import genomic_context\n",
    "\n",
    "import statsmodels.formula.api as smf\n",
    "from sklearn.preprocessing import StandardScaler\n",
    "from statsmodels.stats.proportion import test_proportions_2indep\n"
   ]
  },
  {
   "cell_type": "markdown",
   "metadata": {},
   "source": [
    "## IMPORT DATA"
   ]
  },
  {
   "cell_type": "code",
   "execution_count": 5,
   "metadata": {},
   "outputs": [],
   "source": [
    "PROJECT = \"/projects/b1080/eks/polyadenylation\"\n",
    "\n",
    "DATADIR = os.path.join(PROJECT, \"manuscripts\", \"01_development\", \"data\")\n",
    "RESDIR  = os.path.join(PROJECT, \"manuscripts\", \"01_development\", \"analysis\", \"resources\")\n",
    "OUTDIR  = os.path.join(PROJECT, \"manuscripts\", \"01_development\", \"figures\", \"Figure_05\")\n",
    "os.makedirs(OUTDIR, exist_ok = True)\n",
    "\n",
    "ENCODE_DIR = os.path.join(PROJECT, \"model\", \"rna_validation\", \"encode_project\")\n"
   ]
  },
  {
   "cell_type": "markdown",
   "metadata": {},
   "source": [
    "## Data loading and preparation"
   ]
  },
  {
   "cell_type": "code",
   "execution_count": 6,
   "metadata": {},
   "outputs": [
    {
     "name": "stdout",
     "output_type": "stream",
     "text": [
      "(182248, 33)\n"
     ]
    }
   ],
   "source": [
    "is_data = pd.read_csv(os.path.join(RESDIR, 'is_rawdata.txt'), sep = \"\\t\")\n",
    "print(is_data.shape)\n"
   ]
  },
  {
   "cell_type": "markdown",
   "metadata": {},
   "source": [
    "#### Define features"
   ]
  },
  {
   "cell_type": "code",
   "execution_count": 7,
   "metadata": {},
   "outputs": [],
   "source": [
    "is_feature_dict = {\n",
    "    'intron_pos_3'               : '6. Site in last intron?',\n",
    "    'up_exon_log10'              : '2. Upstream exon size (log10)',\n",
    "    'down_exon_log10'            : '3. Downstream exon size (log10)',\n",
    "    'distance_upstream5ss_log10' : \"1. Distance to 5'SS (log10)\",\n",
    "    'score_first_upstream3ss'    : \"4. Upstream 3'SS strength\",\n",
    "    'score_downstream3ss'        : \"5. Downstream 3'SS strength\",\n",
    "    'ratio_3ss_to_3ss'           : \"8. Ratio of downstream vs upstream 3'SS distance (log2)\",\n",
    "    'strength'                   : '7. PolyaStrength score',\n",
    "}\n",
    "\n",
    "is_features = list(is_feature_dict.keys())\n",
    "is_labels = [is_feature_dict.get(_) for _ in is_features]\n"
   ]
  },
  {
   "cell_type": "markdown",
   "metadata": {},
   "source": [
    "#### Transform features"
   ]
  },
  {
   "cell_type": "code",
   "execution_count": 8,
   "metadata": {},
   "outputs": [],
   "source": [
    "is_data['gene'] = is_data['feature_gene']\n",
    "is_data['intron_pos_3'] = (is_data['feature_score'] == 3).astype(int)\n",
    "\n",
    "is_data['distance_upstream5ss_log10']       = np.log10(is_data['distance_upstream5ss'] + 1)\n",
    "is_data['distance_first_upstream3ss_log10'] = np.log10(is_data['distance_first_upstream3ss'] + 1)\n",
    "is_data['up_exon_log10']                    = np.log10(is_data['up_exon'] + 1)\n",
    "is_data['down_exon_log10']                  = np.log10(is_data['down_exon'] + 1)\n",
    "\n",
    "is_data['distance_downstream3ss'] = is_data['feature_size'] - is_data['distance_upstream5ss']\n",
    "is_data['position_upstream5ss']   = is_data.apply(lambda row: (row['start'] - row['distance_upstream5ss']) if (row['strand'] == '+') else (row['start'] + row['distance_upstream5ss']), axis = 1)\n",
    "is_data['position_downstream3ss'] = is_data.apply(lambda row: (row['start'] + row['distance_downstream3ss']) if (row['strand'] == '+') else (row['start'] - row['distance_downstream3ss']), axis = 1)\n",
    "\n",
    "is_data['ratio_3ss_to_3ss'] = np.log2((is_data['distance_downstream3ss'] + 100) / (is_data['distance_first_upstream3ss'] + 100))\n"
   ]
  },
  {
   "cell_type": "markdown",
   "metadata": {},
   "source": [
    "#### Subset sites in well-expressed genes"
   ]
  },
  {
   "cell_type": "code",
   "execution_count": 9,
   "metadata": {},
   "outputs": [],
   "source": [
    "try:\n",
    "    with open(os.path.join(RESDIR, 'refseq.hg38.genes.minUn.agg.reads.pickle'), mode = 'rb') as handle:\n",
    "        gene_reads = pickle.load(handle)\n",
    "        \n",
    "except FileNotFoundError:\n",
    "    \n",
    "    with open(os.path.join(DATADIR, \"reads3_scoring_dictionary.pickle\"), mode = 'rb') as handle:\n",
    "        reads_dict = pickle.load(handle)\n",
    "        \n",
    "    gene_reads = {}\n",
    "        \n",
    "    with open(os.path.join(RESDIR, 'refseq.hg38.genes.minUn.agg.bed'), mode = 'r') as handle:\n",
    "        for line in handle:\n",
    "            \n",
    "            chrom, start, end, gene, score, strand = line.strip().split(\"\\t\")\n",
    "            \n",
    "            start = int(float(start))\n",
    "            end   = int(float(end))\n",
    "            \n",
    "            gene_reads[gene] = np.sum([reads_dict.get((strand,chrom,x),0) for x in range(start,end)])\n",
    "\n",
    "    with open(os.path.join(RESDIR, 'refseq.hg38.genes.minUn.agg.reads.pickle'), mode = 'wb') as handle:\n",
    "        pickle.dump(gene_reads, handle)\n",
    "\n",
    "is_data['gene_reads'] = is_data['gene'].apply(lambda x : gene_reads[x])\n"
   ]
  },
  {
   "cell_type": "code",
   "execution_count": 10,
   "metadata": {},
   "outputs": [
    {
     "name": "stdout",
     "output_type": "stream",
     "text": [
      "(182248, 43) 170656 182248\n",
      "(170656, 43)\n"
     ]
    }
   ],
   "source": [
    "condWELLEXP   = (is_data['gene_reads'] >= 100)\n",
    "condNOMISSING = ~(is_data[is_features].isnull().any(axis = 1))\n",
    "print(is_data.shape, condWELLEXP.sum(), condNOMISSING.sum())\n",
    "\n",
    "is_filt = is_data.loc[condWELLEXP & condNOMISSING].copy()\n",
    "print(is_filt.shape)\n"
   ]
  },
  {
   "cell_type": "markdown",
   "metadata": {},
   "source": [
    "#### Identify positive sites"
   ]
  },
  {
   "cell_type": "code",
   "execution_count": 11,
   "metadata": {},
   "outputs": [],
   "source": [
    "is_pos = is_filt.loc[is_filt['cluster_reads_slop'] > 0].copy()\n",
    "\n",
    "is_site_dict = {}\n",
    "\n",
    "for i,row in is_pos.iterrows():\n",
    "    is_site_dict[(row['chrom'], row['start'], row['strand'], row['gene'])] = row['cluster_reads_slop']\n"
   ]
  },
  {
   "cell_type": "code",
   "execution_count": 12,
   "metadata": {},
   "outputs": [
    {
     "name": "stdout",
     "output_type": "stream",
     "text": [
      "POSITIVES: (3284, 43)\n",
      "NEGATIVES: (156564, 43)\n"
     ]
    }
   ],
   "source": [
    "is_positives = is_filt.loc[is_filt['cluster_reads_slop'] >= 100].copy()\n",
    "is_negatives = is_filt.loc[is_filt['cluster_reads_slop'] == 0].copy()\n",
    "\n",
    "print(\"POSITIVES:\", is_positives.shape)\n",
    "print(\"NEGATIVES:\", is_negatives.shape)\n"
   ]
  },
  {
   "cell_type": "markdown",
   "metadata": {},
   "source": [
    "#### Sample negative sites from introns with no used polyA sites"
   ]
  },
  {
   "cell_type": "code",
   "execution_count": 13,
   "metadata": {},
   "outputs": [
    {
     "name": "stdout",
     "output_type": "stream",
     "text": [
      "1963451475\n",
      "ELIGIBLE NCs: 6368\n"
     ]
    }
   ],
   "source": [
    "# random_state = np.random.randint(0, 2**32 - 1)\n",
    "random_state = 1963451475\n",
    "print(random_state)\n",
    "\n",
    "is_negatives_samp = is_negatives.sample(n = 50000, replace = False, random_state = random_state)\n",
    "is_negatives_samp['nc_eligible'] = is_negatives_samp.apply(genomic_context.check_sites_in_intron, args = (is_pos, is_site_dict), axis = 1)\n",
    "print(\"ELIGIBLE NCs:\", is_negatives_samp.nc_eligible.sum())\n"
   ]
  },
  {
   "cell_type": "code",
   "execution_count": 14,
   "metadata": {},
   "outputs": [
    {
     "name": "stdout",
     "output_type": "stream",
     "text": [
      "DOWNSAMPLED NCs: (4209, 44)\n"
     ]
    }
   ],
   "source": [
    "is_negatives_maxpergene = genomic_context.downsample_sites_per_gene(is_negatives_samp.loc[is_negatives_samp['nc_eligible'] == True], \n",
    "                                                                    is_positives['gene'].value_counts().max(),\n",
    "                                                                    random_state = random_state)\n",
    "print(\"DOWNSAMPLED NCs:\", is_negatives_maxpergene.shape)\n"
   ]
  },
  {
   "cell_type": "markdown",
   "metadata": {},
   "source": [
    "#### Partition data into training/testing splits"
   ]
  },
  {
   "cell_type": "code",
   "execution_count": 15,
   "metadata": {},
   "outputs": [
    {
     "name": "stdout",
     "output_type": "stream",
     "text": [
      "\n",
      "BINARY CLASS:\n",
      " 1    3284\n",
      "0    3284\n",
      "Name: score_binary, dtype: int64\n",
      "\n",
      "SPLIT:\n",
      " train    5912\n",
      "test      656\n",
      "Name: split, dtype: int64\n"
     ]
    }
   ],
   "source": [
    "is_positives = is_filt.loc[is_filt['cluster_reads_slop'] >= 100].copy()\n",
    "is_positives['split'] = 'train'\n",
    "is_positives.loc[is_positives.sample(frac = 0.1, replace = False, random_state = random_state).index, 'split'] = 'test'\n",
    "\n",
    "is_negatives = is_negatives_maxpergene.loc[is_negatives_maxpergene['nc_eligible'] == 1].copy().sample(n = len(is_positives), replace = False, random_state = random_state)\n",
    "is_negatives['split'] = 'train'\n",
    "is_negatives.loc[is_negatives.sample(frac = 0.1, replace = False, random_state = random_state).index, 'split'] = 'test'\n",
    "\n",
    "new_is_data = pd.concat([is_positives, is_negatives], sort = False, ignore_index = True)\n",
    "print(\"\\nBINARY CLASS:\\n\", new_is_data.score_binary.value_counts())\n",
    "print(\"\\nSPLIT:\\n\", new_is_data.split.value_counts())\n",
    "\n",
    "with open(os.path.join(RESDIR, 'is_data.pickle'), mode = 'wb') as handle:\n",
    "    pickle.dump(new_is_data, handle)\n"
   ]
  },
  {
   "cell_type": "markdown",
   "metadata": {},
   "source": [
    "#### Scale data to normalize mean and standard deviation"
   ]
  },
  {
   "cell_type": "code",
   "execution_count": 16,
   "metadata": {},
   "outputs": [],
   "source": [
    "scaler_is = StandardScaler().fit(new_is_data.loc[new_is_data['split'] == 'train', is_features[1:]])\n",
    "\n",
    "with open(os.path.join(RESDIR, 'is_scaler_ratio.pickle'), mode = 'wb') as handle:\n",
    "    pickle.dump(scaler_is, handle)\n",
    "\n",
    "Xall_scaled = pd.DataFrame(scaler_is.transform(new_is_data[is_features[1:]]), index = new_is_data.index, columns = new_is_data[is_features[1:]].columns)\n",
    "Xall_scaled[is_features[0]] = new_is_data[is_features[0]]\n",
    "Yall_c = new_is_data['score_binary']\n",
    "\n",
    "Xtr_scaled = Xall_scaled.loc[new_is_data['split'] == 'train'].copy()\n",
    "Ytr_c = new_is_data.loc[new_is_data['split'] == 'train', 'score_binary'].copy()\n",
    "\n",
    "Xte_scaled = Xall_scaled.loc[new_is_data['split'] == 'test'].copy()\n",
    "Yte_c = new_is_data.loc[new_is_data['split'] == 'test', 'score_binary'].copy()\n",
    "\n",
    "is_all_data = {\n",
    "    'train' : {\n",
    "        'X' : Xtr_scaled,\n",
    "        'Y' : Ytr_c,\n",
    "    },\n",
    "    'test' : {\n",
    "        'X' : Xte_scaled,\n",
    "        'Y' : Yte_c,\n",
    "    }\n",
    "}\n"
   ]
  },
  {
   "cell_type": "markdown",
   "metadata": {},
   "source": [
    "#### Fit logistic regression model"
   ]
  },
  {
   "cell_type": "code",
   "execution_count": 17,
   "metadata": {},
   "outputs": [
    {
     "name": "stdout",
     "output_type": "stream",
     "text": [
      "Optimization terminated successfully.\n",
      "         Current function value: 0.411585\n",
      "         Iterations 7\n",
      "                           Logit Regression Results                           \n",
      "==============================================================================\n",
      "Dep. Variable:           score_binary   No. Observations:                 5912\n",
      "Model:                          Logit   Df Residuals:                     5904\n",
      "Method:                           MLE   Df Model:                            7\n",
      "Date:                Thu, 19 Oct 2023   Pseudo R-squ.:                  0.4062\n",
      "Time:                        14:46:56   Log-Likelihood:                -2433.3\n",
      "converged:                       True   LL-Null:                       -4097.9\n",
      "Covariance Type:            nonrobust   LLR p-value:                     0.000\n",
      "==============================================================================================\n",
      "                                 coef    std err          z      P>|z|      [0.025      0.975]\n",
      "----------------------------------------------------------------------------------------------\n",
      "intron_pos_3                   1.6633      0.108     15.387      0.000       1.451       1.875\n",
      "up_exon_log10                 -0.0667      0.035     -1.886      0.059      -0.136       0.003\n",
      "down_exon_log10                0.2868      0.040      7.236      0.000       0.209       0.365\n",
      "distance_upstream5ss_log10    -0.3797      0.037    -10.211      0.000      -0.453      -0.307\n",
      "score_first_upstream3ss        0.1773      0.035      5.009      0.000       0.108       0.247\n",
      "score_downstream3ss           -0.1612      0.038     -4.190      0.000      -0.237      -0.086\n",
      "ratio_3ss_to_3ss               0.5501      0.038     14.540      0.000       0.476       0.624\n",
      "strength                       1.9949      0.057     34.911      0.000       1.883       2.107\n",
      "==============================================================================================\n"
     ]
    }
   ],
   "source": [
    "is_model = sm.Logit(Ytr_c, Xtr_scaled[is_features]).fit()\n",
    "print(is_model.summary())\n",
    "\n",
    "with open(os.path.join(RESDIR, 'is_model_ratio.pickle'), mode = 'wb') as handle:\n",
    "    pickle.dump(is_model, handle)\n"
   ]
  },
  {
   "cell_type": "code",
   "execution_count": 18,
   "metadata": {},
   "outputs": [],
   "source": [
    "is_all_data['train']['Ypred'] = {}\n",
    "is_all_data['test']['Ypred']  = {}\n",
    "    \n",
    "new_preds = is_model.predict(is_all_data['train']['X'][is_features])\n",
    "is_all_data['train']['Ypred'] = new_preds\n",
    "\n",
    "new_preds = is_model.predict(is_all_data['test']['X'][is_features])\n",
    "is_all_data['test']['Ypred'] = new_preds\n"
   ]
  },
  {
   "cell_type": "markdown",
   "metadata": {},
   "source": [
    "## Classification Performance"
   ]
  },
  {
   "cell_type": "code",
   "execution_count": 19,
   "metadata": {},
   "outputs": [
    {
     "data": {
      "image/png": "[encoded data removed]",
      "text/plain": [
       "<Figure size 72x72 with 1 Axes>"
      ]
     },
     "metadata": {
      "needs_background": "light"
     },
     "output_type": "display_data"
    },
    {
     "name": "stdout",
     "output_type": "stream",
     "text": [
      "Corresponding metrics:\n",
      "\tTest AUROC = 0.9107581052944677\n"
     ]
    }
   ],
   "source": [
    "fig,axes = plt.subplots(1,1, figsize = (1,1))\n",
    "\n",
    "is_filt_auc = genomic_context.plot_roc(axes, \n",
    "                                       is_all_data['test']['Y'],\n",
    "                                       is_all_data['test']['Ypred'],\n",
    "                                       'Test')\n",
    "\n",
    "axes.xaxis.set_major_locator(MultipleLocator(0.5))\n",
    "axes.yaxis.set_major_locator(MultipleLocator(0.5))\n",
    "\n",
    "axes.get_legend().remove()\n",
    "\n",
    "plt.savefig(os.path.join(OUTDIR, 'is.classification_roc.svg'), format = 'svg', dpi = 600, transparent = True)\n",
    "plt.show()\n",
    "\n",
    "\n",
    "print(\"Corresponding metrics:\")\n",
    "print(f\"\\tTest AUROC = {is_filt_auc}\")\n"
   ]
  },
  {
   "cell_type": "markdown",
   "metadata": {},
   "source": [
    "## Validation of site usage predictions using ENCODE RNA-seq"
   ]
  },
  {
   "cell_type": "code",
   "execution_count": 20,
   "metadata": {},
   "outputs": [
    {
     "name": "stdout",
     "output_type": "stream",
     "text": [
      "(170656, 44)\n",
      "(16288, 44)\n"
     ]
    }
   ],
   "source": [
    "## load site data with genomic context fields\n",
    "\n",
    "is_site_data = is_filt\n",
    "\n",
    "is_site_data_scaled = pd.DataFrame(scaler_is.transform(is_site_data[is_features[1:]]), index = is_site_data.index, columns = is_site_data[is_features[1:]].columns)\n",
    "is_site_data_scaled['intron_pos_3'] = is_site_data['intron_pos_3']\n",
    "\n",
    "is_site_data['pred_prob'] = is_model.predict(is_site_data_scaled[is_features])\n",
    "print(is_site_data.shape)\n",
    "\n",
    "\n",
    "## filter sites with sufficient reads\n",
    "\n",
    "is_site_pos = is_site_data.loc[is_site_data['cluster_reads_slop'] >= 10].copy()\n",
    "is_site_neg = is_site_data.loc[is_site_data['cluster_reads_slop'] == 0].copy().sample(n = is_site_pos.shape[0], replace = False, random_state = random_state)\n",
    "\n",
    "is_site_filt = pd.concat([is_site_pos, is_site_neg], sort = False, ignore_index = True)\n",
    "print(is_site_filt.shape)\n"
   ]
  },
  {
   "cell_type": "code",
   "execution_count": 28,
   "metadata": {},
   "outputs": [
    {
     "name": "stdout",
     "output_type": "stream",
     "text": [
      "Original data shape: (16288, 44)\n",
      "Filtered data shape: (16178, 44)\n",
      "Output results shape: (16178, 2)\n"
     ]
    },
    {
     "data": {
      "image/png": "[encoded data removed]",
      "text/plain": [
       "<Figure size 90x72 with 1 Axes>"
      ]
     },
     "metadata": {
      "needs_background": "light"
     },
     "output_type": "display_data"
    }
   ],
   "source": [
    "fig, ax = plt.subplots(1,1, figsize = (1.25,1))\n",
    "\n",
    "distance = 20\n",
    "is_a172_res = genomic_context.quantify_reads_around(is_site_filt, ENCODE_DIR, 'A172', distance = distance, subset = [('distance_upstream5ss', distance+5), ('distance_downstream3ss', distance+5)])\n",
    "genomic_context.make_read_plots(ax, is_a172_res, 'skipped_intron', 'A172', distance)\n",
    "\n",
    "ax.axhline(y = 0, color = 'black', linestyle = 'dashed', linewidth = 0.75)\n",
    "ax.set_xlim((-distance,distance))\n",
    "ax.xaxis.set_major_locator(MultipleLocator(10))\n",
    "ax.yaxis.set_major_locator(MultipleLocator(0.2))\n",
    "\n",
    "ax.spines['right'].set_visible(False)\n",
    "ax.spines['top'].set_visible(False)\n",
    "\n",
    "ax.get_legend().remove()\n",
    "\n",
    "plt.savefig(os.path.join(OUTDIR, 'is.rna_validation.svg'), format = 'svg', dpi = 600, transparent = True)\n",
    "plt.show()\n"
   ]
  },
  {
   "cell_type": "markdown",
   "metadata": {},
   "source": [
    "## AUROC for individual predictors"
   ]
  },
  {
   "cell_type": "code",
   "execution_count": 22,
   "metadata": {},
   "outputs": [
    {
     "data": {
      "image/png": "[encoded data removed]",
      "text/plain": [
       "<Figure size 72x108 with 1 Axes>"
      ]
     },
     "metadata": {
      "needs_background": "light"
     },
     "output_type": "display_data"
    },
    {
     "name": "stdout",
     "output_type": "stream",
     "text": [
      "Corresponding data:\n",
      "                                              labels     auroc     auprc\n",
      "3                        1. Distance to 5'SS (log10)  0.409843  0.428766\n",
      "1                      2. Upstream exon size (log10)  0.483274  0.494499\n",
      "5                        5. Downstream 3'SS strength  0.488005  0.481924\n",
      "4                          4. Upstream 3'SS strength  0.589279  0.560606\n",
      "2                    3. Downstream exon size (log10)  0.606024  0.580513\n",
      "0                            6. Site in last intron?  0.612805  0.745720\n",
      "6  8. Ratio of downstream vs upstream 3'SS distan...  0.668594  0.597427\n",
      "7                             7. PolyaStrength score  0.859078  0.865150\n"
     ]
    }
   ],
   "source": [
    "is_test_data = new_is_data.loc[new_is_data['split'] == 'test']\n",
    "\n",
    "is_aurocs = []\n",
    "is_auprcs = []\n",
    "\n",
    "for icf,icl in zip(is_features, is_labels):\n",
    "    auroc, auprc = genomic_context.calculate_auc(is_test_data['score_binary'], is_test_data[icf])\n",
    "    is_aurocs.append(auroc)\n",
    "    is_auprcs.append(auprc)\n",
    "    \n",
    "is_aurocs_df = pd.DataFrame.from_dict({'labels' : is_labels, 'auroc' : is_aurocs, 'auprc' : is_auprcs}, orient = 'columns')\n",
    "\n",
    "fig,ax = plt.subplots(1,1, figsize = (1, 1.5))\n",
    "\n",
    "sns.barplot(data = is_aurocs_df.sort_values('auroc'),\n",
    "            x = 'auroc', y = 'labels', color = 'dimgray',\n",
    "            edgecolor = 'black', linewidth = 0.5,\n",
    "            ax = ax)\n",
    "\n",
    "ax.set_xlim(0,1)\n",
    "ax.xaxis.set_major_locator(MultipleLocator(0.25))\n",
    "\n",
    "ax.spines['right'].set_visible(False)\n",
    "ax.spines['top'].set_visible(False)\n",
    "\n",
    "plt.savefig(os.path.join(OUTDIR, 'is.individual_predictor_auroc.svg'), format = 'svg', dpi = 600, transparent = True)\n",
    "plt.show()\n",
    "\n",
    "\n",
    "print(\"Corresponding data:\")\n",
    "print(is_aurocs_df.sort_values('auroc'))\n"
   ]
  },
  {
   "cell_type": "markdown",
   "metadata": {},
   "source": [
    "## Confirmatory boxplots for model predictors"
   ]
  },
  {
   "cell_type": "code",
   "execution_count": 23,
   "metadata": {},
   "outputs": [
    {
     "name": "stdout",
     "output_type": "stream",
     "text": [
      "(6568, 49)\n"
     ]
    }
   ],
   "source": [
    "class_names = {0:'Not Used', 1:'Highly Used'}\n",
    "class_order = ['Highly Used', 'Not Used']\n",
    "\n",
    "is_pred = new_is_data.copy()\n",
    "is_pred['pred_prob'] = is_all_data['train']['Ypred']\n",
    "is_pred.loc[is_pred['split'] == 'test', 'pred_prob'] = is_all_data['test']['Ypred']\n",
    "\n",
    "is_pred['class'] = is_pred['score_binary'].apply(lambda x : class_names[x])\n",
    "is_pred['pred_prob_clip'] = np.clip(is_pred['pred_prob'], 1e-6, 1 - 1e-6)\n",
    "is_pred['pred_prob_or'] = np.log2(is_pred['pred_prob_clip'] / (1 - is_pred['pred_prob_clip']))\n",
    "\n",
    "print(is_pred.shape)\n"
   ]
  },
  {
   "cell_type": "code",
   "execution_count": 29,
   "metadata": {
    "scrolled": false
   },
   "outputs": [],
   "source": [
    "selected_features = ['distance_upstream5ss_log10', 'up_exon_log10', 'down_exon_log10', \n",
    "                     'score_first_upstream3ss', 'score_downstream3ss', 'ratio_3ss_to_3ss']\n",
    "\n",
    "selected_labels = [is_feature_dict.get(sf) for sf in selected_features]\n"
   ]
  },
  {
   "cell_type": "markdown",
   "metadata": {},
   "source": [
    "#### PolyaStrength by site usage"
   ]
  },
  {
   "cell_type": "code",
   "execution_count": 30,
   "metadata": {},
   "outputs": [
    {
     "name": "stdout",
     "output_type": "stream",
     "text": [
      "7. PolyaStrength score:\n",
      "N_Highly Used\tN=3284\n",
      "N_Not Used\tN=3284\n",
      "Baseline\tWRS P-val = 0.000E+00\n"
     ]
    },
    {
     "data": {
      "image/png": "[encoded data removed]",
      "text/plain": [
       "<Figure size 28.8x90 with 1 Axes>"
      ]
     },
     "metadata": {
      "needs_background": "light"
     },
     "output_type": "display_data"
    }
   ],
   "source": [
    "genomic_context.boxplot_features_outcome(OUTDIR, is_pred, 'is',\n",
    "                                         ['strength'], [is_feature_dict.get('strength')],\n",
    "                                         'class', class_order, ['#92278f','#f2f2f2'],\n",
    "                                         figsize = (0.4,1.25), ylims_main=(-15,5), ytickint_main = 5)\n"
   ]
  },
  {
   "cell_type": "markdown",
   "metadata": {},
   "source": [
    "#### Genomic features after controlling for PolyaStrength via quantile sampling"
   ]
  },
  {
   "cell_type": "code",
   "execution_count": 31,
   "metadata": {},
   "outputs": [
    {
     "name": "stdout",
     "output_type": "stream",
     "text": [
      "\n",
      "\n",
      "1. Distance to 5'SS (log10)\n",
      "Defining quantiles for variable strength with 10 groups, sampling 75.0% of available sites.\n"
     ]
    },
    {
     "data": {
      "image/png": "[encoded data removed]",
      "text/plain": [
       "<Figure size 28.8x90 with 1 Axes>"
      ]
     },
     "metadata": {
      "needs_background": "light"
     },
     "output_type": "display_data"
    },
    {
     "data": {
      "image/png": "[encoded data removed]",
      "text/plain": [
       "<Figure size 28.8x90 with 1 Axes>"
      ]
     },
     "metadata": {
      "needs_background": "light"
     },
     "output_type": "display_data"
    },
    {
     "name": "stdout",
     "output_type": "stream",
     "text": [
      "1. Distance to 5'SS (log10):\n",
      "N_Highly Used\tN=1146\n",
      "N_Not Used\tN=1146\n",
      "Baseline\tWRS P-val = 5.900E-32\n",
      "strength\tWRS P-val = 5.388E-01\n"
     ]
    }
   ],
   "source": [
    "genomic_context.boxplot_features_outcome_with_quantile_sampling(OUTDIR, is_pred, 'is',\n",
    "                                                                [selected_features[0]], [selected_labels[0]], \n",
    "                                                                'class', class_order, ['#92278f','#f2f2f2'],\n",
    "                                                                sample = ['strength'], random_state = random_state,\n",
    "                                                                figsize = (0.4,1.25), \n",
    "                                                                ylims_main=(2,6), ytickint_main = 2, \n",
    "                                                                ylims_sample=(-12,0), ytickint_sample = 6)\n"
   ]
  },
  {
   "cell_type": "code",
   "execution_count": 33,
   "metadata": {},
   "outputs": [
    {
     "name": "stdout",
     "output_type": "stream",
     "text": [
      "\n",
      "\n",
      "2. Upstream exon size (log10)\n",
      "Defining quantiles for variable strength with 10 groups, sampling 75.0% of available sites.\n"
     ]
    },
    {
     "data": {
      "image/png": "[encoded data removed]",
      "text/plain": [
       "<Figure size 28.8x90 with 1 Axes>"
      ]
     },
     "metadata": {
      "needs_background": "light"
     },
     "output_type": "display_data"
    },
    {
     "data": {
      "image/png": "[encoded data removed]",
      "text/plain": [
       "<Figure size 28.8x90 with 1 Axes>"
      ]
     },
     "metadata": {
      "needs_background": "light"
     },
     "output_type": "display_data"
    },
    {
     "name": "stdout",
     "output_type": "stream",
     "text": [
      "2. Upstream exon size (log10):\n",
      "N_Highly Used\tN=1146\n",
      "N_Not Used\tN=1146\n",
      "Baseline\tWRS P-val = 1.080E-03\n",
      "strength\tWRS P-val = 5.388E-01\n"
     ]
    }
   ],
   "source": [
    "genomic_context.boxplot_features_outcome_with_quantile_sampling(OUTDIR, is_pred, 'is',\n",
    "                                                                [selected_features[1]], [selected_labels[1]], \n",
    "                                                                'class', class_order, ['#92278f','#f2f2f2'],\n",
    "                                                                sample = ['strength'], random_state = random_state,\n",
    "                                                                figsize = (0.4,1.25), \n",
    "                                                                ylims_main=(None), ytickint_main = 0.5, \n",
    "                                                                ylims_sample=(-12,0), ytickint_sample = 6)\n"
   ]
  },
  {
   "cell_type": "code",
   "execution_count": 34,
   "metadata": {},
   "outputs": [
    {
     "name": "stdout",
     "output_type": "stream",
     "text": [
      "\n",
      "\n",
      "3. Downstream exon size (log10)\n",
      "Defining quantiles for variable strength with 10 groups, sampling 75.0% of available sites.\n"
     ]
    },
    {
     "data": {
      "image/png": "[encoded data removed]",
      "text/plain": [
       "<Figure size 28.8x90 with 1 Axes>"
      ]
     },
     "metadata": {
      "needs_background": "light"
     },
     "output_type": "display_data"
    },
    {
     "data": {
      "image/png": "[encoded data removed]",
      "text/plain": [
       "<Figure size 28.8x90 with 1 Axes>"
      ]
     },
     "metadata": {
      "needs_background": "light"
     },
     "output_type": "display_data"
    },
    {
     "name": "stdout",
     "output_type": "stream",
     "text": [
      "3. Downstream exon size (log10):\n",
      "N_Highly Used\tN=1146\n",
      "N_Not Used\tN=1146\n",
      "Baseline\tWRS P-val = 2.338E-31\n",
      "strength\tWRS P-val = 5.388E-01\n"
     ]
    }
   ],
   "source": [
    "genomic_context.boxplot_features_outcome_with_quantile_sampling(OUTDIR, is_pred, 'is',\n",
    "                                                                [selected_features[2]], [selected_labels[2]],\n",
    "                                                                'class', class_order, ['#92278f','#f2f2f2'],\n",
    "                                                                sample = ['strength'], random_state = random_state,\n",
    "                                                                figsize = (0.4,1.25), \n",
    "                                                                ylims_main=(1,None), ytickint_main = 1, \n",
    "                                                                ylims_sample=(-12,0), ytickint_sample = 6)\n"
   ]
  },
  {
   "cell_type": "code",
   "execution_count": 35,
   "metadata": {},
   "outputs": [
    {
     "name": "stdout",
     "output_type": "stream",
     "text": [
      "\n",
      "\n",
      "4. Upstream 3'SS strength\n",
      "Defining quantiles for variable strength with 10 groups, sampling 75.0% of available sites.\n"
     ]
    },
    {
     "data": {
      "image/png": "[encoded data removed]",
      "text/plain": [
       "<Figure size 28.8x90 with 1 Axes>"
      ]
     },
     "metadata": {
      "needs_background": "light"
     },
     "output_type": "display_data"
    },
    {
     "data": {
      "image/png": "[encoded data removed]",
      "text/plain": [
       "<Figure size 28.8x90 with 1 Axes>"
      ]
     },
     "metadata": {
      "needs_background": "light"
     },
     "output_type": "display_data"
    },
    {
     "name": "stdout",
     "output_type": "stream",
     "text": [
      "4. Upstream 3'SS strength:\n",
      "N_Highly Used\tN=1146\n",
      "N_Not Used\tN=1146\n",
      "Baseline\tWRS P-val = 3.890E-07\n",
      "strength\tWRS P-val = 5.388E-01\n"
     ]
    }
   ],
   "source": [
    "genomic_context.boxplot_features_outcome_with_quantile_sampling(OUTDIR, is_pred, 'is',\n",
    "                                                                [selected_features[3]], [selected_labels[3]],\n",
    "                                                                'class', class_order, ['#92278f','#f2f2f2'],\n",
    "                                                                sample = ['strength'], random_state = random_state,\n",
    "                                                                figsize = (0.4,1.25), \n",
    "                                                                ylims_main=(-1,15), ytickint_main = 5, \n",
    "                                                                ylims_sample=(-12,0), ytickint_sample = 6)\n"
   ]
  },
  {
   "cell_type": "code",
   "execution_count": 36,
   "metadata": {},
   "outputs": [
    {
     "name": "stdout",
     "output_type": "stream",
     "text": [
      "\n",
      "\n",
      "5. Downstream 3'SS strength\n",
      "Defining quantiles for variable strength with 10 groups, sampling 75.0% of available sites.\n"
     ]
    },
    {
     "data": {
      "image/png": "[encoded data removed]",
      "text/plain": [
       "<Figure size 28.8x90 with 1 Axes>"
      ]
     },
     "metadata": {
      "needs_background": "light"
     },
     "output_type": "display_data"
    },
    {
     "data": {
      "image/png": "[encoded data removed]",
      "text/plain": [
       "<Figure size 28.8x90 with 1 Axes>"
      ]
     },
     "metadata": {
      "needs_background": "light"
     },
     "output_type": "display_data"
    },
    {
     "name": "stdout",
     "output_type": "stream",
     "text": [
      "5. Downstream 3'SS strength:\n",
      "N_Highly Used\tN=1146\n",
      "N_Not Used\tN=1146\n",
      "Baseline\tWRS P-val = 2.017E-01\n",
      "strength\tWRS P-val = 5.388E-01\n"
     ]
    }
   ],
   "source": [
    "genomic_context.boxplot_features_outcome_with_quantile_sampling(OUTDIR, is_pred, 'is',\n",
    "                                                                [selected_features[4]], [selected_labels[4]],\n",
    "                                                                'class', class_order, ['#92278f','#f2f2f2'],\n",
    "                                                                sample = ['strength'], random_state = random_state,\n",
    "                                                                figsize = (0.4,1.25), \n",
    "                                                                ylims_main=(0,16), ytickint_main = 4,\n",
    "                                                                ylims_sample=(-12,0), ytickint_sample = 6)\n"
   ]
  },
  {
   "cell_type": "code",
   "execution_count": 37,
   "metadata": {},
   "outputs": [
    {
     "name": "stdout",
     "output_type": "stream",
     "text": [
      "\n",
      "\n",
      "8. Ratio of downstream vs upstream 3'SS distance (log2)\n",
      "Defining quantiles for variable strength with 10 groups, sampling 75.0% of available sites.\n"
     ]
    },
    {
     "data": {
      "image/png": "[encoded data removed]",
      "text/plain": [
       "<Figure size 28.8x90 with 1 Axes>"
      ]
     },
     "metadata": {
      "needs_background": "light"
     },
     "output_type": "display_data"
    },
    {
     "data": {
      "image/png": "[encoded data removed]",
      "text/plain": [
       "<Figure size 28.8x90 with 1 Axes>"
      ]
     },
     "metadata": {
      "needs_background": "light"
     },
     "output_type": "display_data"
    },
    {
     "name": "stdout",
     "output_type": "stream",
     "text": [
      "8. Ratio of downstream vs upstream 3'SS distance (log2):\n",
      "N_Highly Used\tN=1146\n",
      "N_Not Used\tN=1146\n",
      "Baseline\tWRS P-val = 2.231E-44\n",
      "strength\tWRS P-val = 5.388E-01\n"
     ]
    }
   ],
   "source": [
    "genomic_context.boxplot_features_outcome_with_quantile_sampling(OUTDIR, is_pred, 'is',\n",
    "                                                                [selected_features[5]], [selected_labels[5]],\n",
    "                                                                'class', class_order, ['#92278f','#f2f2f2'],\n",
    "                                                                sample = ['strength'], random_state = random_state,\n",
    "                                                                figsize = (0.4,1.25), \n",
    "                                                                ylims_main=(-7,10), ytickint_main = 5, \n",
    "                                                                ylims_sample=(-12,0), ytickint_sample = 6)\n"
   ]
  },
  {
   "cell_type": "code",
   "execution_count": 38,
   "metadata": {},
   "outputs": [
    {
     "name": "stdout",
     "output_type": "stream",
     "text": [
      "\n",
      "\n",
      "6. Site in last intron?\n",
      "Defining quantiles for variable strength with 10 groups, sampling 75.0% of available sites.\n"
     ]
    },
    {
     "data": {
      "image/png": "[encoded data removed]",
      "text/plain": [
       "<Figure size 28.8x90 with 1 Axes>"
      ]
     },
     "metadata": {
      "needs_background": "light"
     },
     "output_type": "display_data"
    },
    {
     "name": "stdout",
     "output_type": "stream",
     "text": [
      "Corresponding Statistics:\n",
      "statistic = 17.4282273969644\n",
      "pvalue = 5.038372566226599e-68\n",
      "compare = diff\n",
      "method = agresti-caffo\n",
      "diff = 0.26788830715532286\n",
      "ratio = 5.951612903225806\n",
      "odds_ratio = 8.303151077344625\n",
      "variance = 0.0002354434100258364\n",
      "alternative = two-sided\n",
      "value = 0\n",
      "tuple = (17.4282273969644, 5.038372566226599e-68)\n"
     ]
    }
   ],
   "source": [
    "is_ip3_sampled = genomic_context.quantile_sampling(is_pred, 'is', \n",
    "                                                   ['intron_pos_3'], [is_feature_dict.get('intron_pos_3')], \n",
    "                                                   'class', class_order, sample = ['strength'], random_state = random_state)\n",
    "\n",
    "is_sum = (is_ip3_sampled\n",
    "          .groupby(['class','intron_pos_3']).size()\n",
    "          .reset_index().rename(columns = {0:'count'}))\n",
    "\n",
    "is_sum['prop'] = is_sum['count'] / is_sum.groupby('class')['count'].transform('sum')\n",
    "\n",
    "is_test = test_proportions_2indep(is_sum.loc[(is_sum['class'] == 'Highly Used') & (is_sum['intron_pos_3'] == 1), 'count'].iloc[0],\n",
    "                                  is_sum.loc[(is_sum['class'] == 'Highly Used'), 'count'].sum(),\n",
    "                                  is_sum.loc[(is_sum['class'] == 'Not Used') & (is_sum['intron_pos_3'] == 1), 'count'].iloc[0],\n",
    "                                  is_sum.loc[(is_sum['class'] == 'Not Used'), 'count'].sum())\n",
    "\n",
    "is_sum = is_sum.loc[is_sum['intron_pos_3'] == 1]\n",
    "\n",
    "\n",
    "fig,ax = plt.subplots(1,1, figsize = (0.4, 1.25))\n",
    "\n",
    "sns.barplot(data = is_sum, x = 'class', y = 'prop', order = class_order,\n",
    "            hue = 'class', hue_order = class_order, dodge = False, palette = ['#92278f','#f2f2f2'],\n",
    "            edgecolor = 'black', linewidth = 0.5)\n",
    "\n",
    "ax.get_legend().remove()\n",
    "ax.set_xlabel(\"\")\n",
    "ax.set_ylabel(\"\")\n",
    "ax.set_ylim(0,None)\n",
    "ax.yaxis.set_major_locator(MultipleLocator(0.1))\n",
    "ax.set_xticks([])\n",
    "\n",
    "ax.spines['right'].set_visible(False)\n",
    "ax.spines['top'].set_visible(False)\n",
    "\n",
    "plt.savefig(os.path.join(OUTDIR, 'is.intron_pos_3_by_usage.quantile_sampling.controlling_predicted_logit.svg'), format = 'svg', dpi = 600, transparent = True)\n",
    "plt.show()\n",
    "\n",
    "\n",
    "print(\"Corresponding Statistics:\")\n",
    "print(is_test)\n"
   ]
  }
 ],
 "metadata": {
  "kernelspec": {
   "display_name": "Python (tf-train)",
   "language": "python",
   "name": "tf-train"
  },
  "language_info": {
   "codemirror_mode": {
    "name": "ipython",
    "version": 3
   },
   "file_extension": ".py",
   "mimetype": "text/x-python",
   "name": "python",
   "nbconvert_exporter": "python",
   "pygments_lexer": "ipython3",
   "version": "3.6.12"
  },
  "vscode": {
   "interpreter": {
    "hash": "425115ae6637ada2b959655b34e22bdfbab2786b72fd7a6ba9076b4d899c9624"
   }
  }
 },
 "nbformat": 4,
 "nbformat_minor": 2
}
