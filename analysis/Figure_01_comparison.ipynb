{
 "cells": [
  {
   "cell_type": "markdown",
   "metadata": {},
   "source": [
    "# Figure 1: Comparison to published models\n",
    "\n",
    "**Description:** Classification and cleavage deep learning model can accurately predict the location of polyA sites genome-wide and the cleavage probabilities surrounding them. Additionally, the development of a sequence strength models helps discriminate strong and weak sites.\n",
    "\n",
    "&rarr; Run this notebook with the `tf-train` kernel\n"
   ]
  },
  {
   "cell_type": "code",
   "execution_count": 1,
   "metadata": {},
   "outputs": [],
   "source": [
    "%load_ext autoreload"
   ]
  },
  {
   "cell_type": "code",
   "execution_count": 2,
   "metadata": {},
   "outputs": [],
   "source": [
    "%autoreload 2"
   ]
  },
  {
   "cell_type": "code",
   "execution_count": 3,
   "metadata": {},
   "outputs": [
    {
     "name": "stderr",
     "output_type": "stream",
     "text": [
      "Using TensorFlow backend.\n"
     ]
    }
   ],
   "source": [
    "%run -i notebook_setup.py"
   ]
  },
  {
   "cell_type": "markdown",
   "metadata": {},
   "source": [
    "## IMPORTS AND SETUP"
   ]
  },
  {
   "cell_type": "code",
   "execution_count": 4,
   "metadata": {},
   "outputs": [],
   "source": [
    "import utilities\n",
    "from utilities import classification_cleavage, relative_strength, sequence, model_builder, genomic_context, genetics\n"
   ]
  },
  {
   "cell_type": "code",
   "execution_count": 5,
   "metadata": {},
   "outputs": [],
   "source": [
    "## specify working directories\n",
    "\n",
    "PROJECT = \"/projects/b1080/eks/polyadenylation\"\n",
    "DATADIR = os.path.join(PROJECT, \"manuscripts\", \"01_development\", \"data\")\n",
    "RESDIR  = os.path.join(PROJECT, \"manuscripts\", \"01_development\", \"analysis\", \"resources\")\n",
    "OUTDIR  = os.path.join(PROJECT, \"manuscripts\", \"01_development\", \"figures\", \"Figure_01\")\n",
    "os.makedirs(OUTDIR, exist_ok = True)\n"
   ]
  },
  {
   "cell_type": "code",
   "execution_count": 6,
   "metadata": {},
   "outputs": [],
   "source": [
    "palette = {\n",
    "    'PolyaID'         : '#5c9bd3',\n",
    "    'PolyaStrength'   : '#adcce7',\n",
    "    'DeepPASTA'       : '#ec7e30',\n",
    "    'APARENT'         : '#a5a4a4',\n",
    "    'APARENT2'        : '#fec010',\n",
    "    'PolyApredictors' : '#4971b8',\n",
    "}"
   ]
  },
  {
   "cell_type": "markdown",
   "metadata": {},
   "source": [
    "## IMPORT DATA"
   ]
  },
  {
   "cell_type": "code",
   "execution_count": 7,
   "metadata": {},
   "outputs": [],
   "source": [
    "with open(os.path.join(DATADIR, \"comprehensive_predictions\", \"polyaid_test_data.processed.pickle\"), mode = \"rb\") as handle:\n",
    "    polyaid_test_data = pickle.load(handle)\n",
    "\n",
    "with open(os.path.join(DATADIR, \"comprehensive_predictions\", \"polyastrength_test_data.processed.pickle\"), mode = \"rb\") as handle:\n",
    "    polyastrength_test_data = pickle.load(handle)\n",
    "    \n",
    "with open(os.path.join(DATADIR, \"comprehensive_predictions\", \"polyastrength_pairs.processed.pickle\"), mode = \"rb\") as handle:\n",
    "    polyastrength_pairs_data = pickle.load(handle)\n",
    "    \n",
    "with open(os.path.join(RESDIR, \"polyastrength_pairs.wide.pickle\"), mode = \"rb\") as handle:\n",
    "    polyastrength_pairs_wide = pickle.load(handle)\n",
    "    \n",
    "with open(os.path.join(DATADIR, \"comprehensive_predictions\", \"APADB_v2.processed.pickle\"), mode = \"rb\") as handle:\n",
    "    apadb_data = pickle.load(handle)\n",
    "    \n",
    "with open(os.path.join(DATADIR, \"comprehensive_predictions\", \"APADB_v2_shifted.processed.pickle\"), mode = \"rb\") as handle:\n",
    "    apadb_shifted_data = pickle.load(handle)\n",
    "    \n",
    "with open(os.path.join(DATADIR, \"comprehensive_predictions\", \"PolyA_DB_v3.2.processed.pickle\"), mode = \"rb\") as handle:\n",
    "    polyadb_data = pickle.load(handle)\n",
    "    \n",
    "with open(os.path.join(DATADIR, \"comprehensive_predictions\", \"PolyA_DB_v3.2_shifted.processed.pickle\"), mode = \"rb\") as handle:\n",
    "    polyadb_shifted_data = pickle.load(handle)\n",
    "    "
   ]
  },
  {
   "cell_type": "code",
   "execution_count": null,
   "metadata": {},
   "outputs": [],
   "source": []
  },
  {
   "cell_type": "code",
   "execution_count": 8,
   "metadata": {},
   "outputs": [],
   "source": [
    "with open(os.path.join(RESDIR, \"reads3_cluster_usage.pickle\"), mode = 'rb') as handle:\n",
    "    ru_dict = pickle.load(handle)\n",
    "    \n",
    "polyaid_test_data['representative'] = polyaid_test_data.apply(lambda row : ru_dict.get(row['cluster'], {}).get('position', -1) == row['start'], axis = 1)\n",
    "\n",
    "polyaid_test_data.loc[(polyaid_test_data['representative'] == True),  'representative'] = 'representative'\n",
    "polyaid_test_data.loc[(polyaid_test_data['representative'] == False), 'representative'] = 'adjacent'\n",
    "polyaid_test_data.loc[(polyaid_test_data['supporting_reads'] == 0),   'representative'] = 'negative'\n"
   ]
  },
  {
   "cell_type": "code",
   "execution_count": 9,
   "metadata": {},
   "outputs": [
    {
     "name": "stdout",
     "output_type": "stream",
     "text": [
      "(210225, 39)\n",
      "(159087, 39)\n"
     ]
    }
   ],
   "source": [
    "cond1 = ~polyaid_test_data['our-models_mcp-raw'].isna()\n",
    "cond2 = ~polyaid_test_data['aparent_mcp-raw'].isna()\n",
    "cond3 = ~polyaid_test_data['aparent-resnet_mcp-raw'].isna()\n",
    "cond4 = ~polyaid_test_data['polyapredictors_mcp-raw'].isna()\n",
    "\n",
    "polyaid_test_filt = polyaid_test_data.loc[~polyaid_test_data['sequence'].str.contains(\"N\") & cond1 & cond2 & cond3 & cond4].copy()\n",
    "print(polyaid_test_data.shape)\n",
    "print(polyaid_test_filt.shape)\n"
   ]
  },
  {
   "cell_type": "code",
   "execution_count": 10,
   "metadata": {},
   "outputs": [
    {
     "name": "stdout",
     "output_type": "stream",
     "text": [
      "(210225, 39)\n",
      "(90874, 39)\n"
     ]
    }
   ],
   "source": [
    "cond1 = (polyaid_test_filt['predclass'] == 'True Positive')\n",
    "cond2 = (polyaid_test_filt['our-models_classification'] > 0.5)\n",
    "\n",
    "polyaid_posdata = polyaid_test_filt.loc[cond1 & cond2].copy()\n",
    "\n",
    "print(polyaid_test_data.shape)\n",
    "print(polyaid_posdata.shape)\n"
   ]
  },
  {
   "cell_type": "code",
   "execution_count": 11,
   "metadata": {},
   "outputs": [
    {
     "name": "stdout",
     "output_type": "stream",
     "text": [
      "\n",
      "Test data:\n",
      " negative          108548\n",
      "adjacent           99692\n",
      "representative      1985\n",
      "Name: representative, dtype: int64\n",
      "\n",
      "Test filt:\n",
      " adjacent          97817\n",
      "negative          59323\n",
      "representative     1947\n",
      "Name: representative, dtype: int64\n",
      "\n",
      "Center cleavage positive data:\n",
      " adjacent          89092\n",
      "representative     1782\n",
      "Name: representative, dtype: int64\n"
     ]
    }
   ],
   "source": [
    "print(\"\\nTest data:\\n\", polyaid_test_data['representative'].value_counts())\n",
    "print(\"\\nTest filt:\\n\", polyaid_test_filt['representative'].value_counts())\n",
    "print(\"\\nCenter cleavage positive data:\\n\", polyaid_posdata['representative'].value_counts())\n"
   ]
  },
  {
   "cell_type": "markdown",
   "metadata": {},
   "source": [
    "## PolyaID test set comparison"
   ]
  },
  {
   "cell_type": "markdown",
   "metadata": {},
   "source": [
    "### Site identification overall and by signal"
   ]
  },
  {
   "cell_type": "code",
   "execution_count": 12,
   "metadata": {},
   "outputs": [],
   "source": [
    "class_vars = ['our-models_classification','deeppasta_classification','aparent_isoformAbundance', 'aparent-resnet_isoformAbundance','polyapredictors_expression']\n",
    "class_labs = ['PolyaID','DeepPASTA','APARENT','APARENT2','PolyApredictors']\n"
   ]
  },
  {
   "cell_type": "markdown",
   "metadata": {},
   "source": [
    "#### Representative sites"
   ]
  },
  {
   "cell_type": "code",
   "execution_count": 13,
   "metadata": {},
   "outputs": [
    {
     "name": "stdout",
     "output_type": "stream",
     "text": [
      "(159087, 39)\n",
      "(3894, 39)\n",
      "(2380, 39)\n",
      "(632, 39)\n",
      "(882, 39)\n"
     ]
    }
   ],
   "source": [
    "polyaid_repr_pos = polyaid_test_filt.loc[polyaid_test_filt['representative'] == 'representative']\n",
    "\n",
    "polyaid_repr_pos_aataaa  = polyaid_repr_pos.loc[polyaid_repr_pos['signal_pas'] == 'AATAAA']\n",
    "polyaid_repr_pos_attaaa  = polyaid_repr_pos.loc[polyaid_repr_pos['signal_pas'] == 'ATTAAA']\n",
    "polyaid_repr_pos_variant = polyaid_repr_pos.loc[polyaid_repr_pos['signal_pas'].isin(['Variant','Other'])]\n",
    "\n",
    "polyaid_repr_neg_all     = polyaid_test_filt.loc[polyaid_test_filt['representative'] == 'negative'].sample(n = len(polyaid_repr_pos),         replace = False, random_state = 1234)\n",
    "polyaid_repr_neg_aataaa  = polyaid_test_filt.loc[polyaid_test_filt['representative'] == 'negative'].sample(n = len(polyaid_repr_pos_aataaa),  replace = False, random_state = 1234)\n",
    "polyaid_repr_neg_attaaa  = polyaid_test_filt.loc[polyaid_test_filt['representative'] == 'negative'].sample(n = len(polyaid_repr_pos_attaaa),  replace = False, random_state = 1234)\n",
    "polyaid_repr_neg_variant = polyaid_test_filt.loc[polyaid_test_filt['representative'] == 'negative'].sample(n = len(polyaid_repr_pos_variant), replace = False, random_state = 1234)\n",
    "\n",
    "polyaid_repr_all     = pd.concat([polyaid_repr_pos,         polyaid_repr_neg_all],     ignore_index = True, sort = False)\n",
    "polyaid_repr_aataaa  = pd.concat([polyaid_repr_pos_aataaa,  polyaid_repr_neg_aataaa],  ignore_index = True, sort = False)\n",
    "polyaid_repr_attaaa  = pd.concat([polyaid_repr_pos_attaaa,  polyaid_repr_neg_attaaa],  ignore_index = True, sort = False)\n",
    "polyaid_repr_variant = pd.concat([polyaid_repr_pos_variant, polyaid_repr_neg_variant], ignore_index = True, sort = False)\n",
    "\n",
    "print(polyaid_test_filt.shape)\n",
    "print(polyaid_repr_all.shape)\n",
    "print(polyaid_repr_aataaa.shape)\n",
    "print(polyaid_repr_attaaa.shape)\n",
    "print(polyaid_repr_variant.shape)\n"
   ]
  },
  {
   "cell_type": "code",
   "execution_count": 14,
   "metadata": {},
   "outputs": [],
   "source": [
    "class_mods   = []\n",
    "class_sign   = []\n",
    "class_aurocs = []\n",
    "class_auprcs = []\n",
    "\n",
    "for signal,sdata in zip(['All sites','AAUAAA','AUUAAA','Variant'], [polyaid_repr_all, polyaid_repr_aataaa, polyaid_repr_attaaa, polyaid_repr_variant]):\n",
    "    for var,lab in zip(class_vars,class_labs):\n",
    "        \n",
    "        auroc, auprc = classification_cleavage.calculate_auc(sdata['binary_score'], sdata[var])\n",
    "\n",
    "        class_mods.append(lab)\n",
    "        class_sign.append(signal)\n",
    "        class_aurocs.append(auroc)\n",
    "        class_auprcs.append(auprc)\n",
    "\n",
    "    plot_data = pd.DataFrame.from_dict({'model' : class_mods, 'signal' : class_sign, 'auroc' : class_aurocs, 'auprc' : class_auprcs})\n"
   ]
  },
  {
   "cell_type": "code",
   "execution_count": 15,
   "metadata": {},
   "outputs": [
    {
     "data": {
      "image/png": "[encoded data removed]",
      "text/plain": [
       "<Figure size 162x108 with 1 Axes>"
      ]
     },
     "metadata": {
      "needs_background": "light"
     },
     "output_type": "display_data"
    },
    {
     "name": "stdout",
     "output_type": "stream",
     "text": [
      "Corresponding data:\n",
      "       signal            model     auroc\n",
      "0   All sites          PolyaID  0.977517\n",
      "1   All sites        DeepPASTA  0.928419\n",
      "2   All sites          APARENT  0.923664\n",
      "3   All sites         APARENT2  0.941392\n",
      "4   All sites  PolyApredictors  0.744018\n",
      "5      AAUAAA          PolyaID  0.998578\n",
      "6      AAUAAA        DeepPASTA  0.946714\n",
      "7      AAUAAA          APARENT  0.965000\n",
      "8      AAUAAA         APARENT2  0.973062\n",
      "9      AAUAAA  PolyApredictors  0.803810\n",
      "10     AUUAAA          PolyaID  0.988493\n",
      "11     AUUAAA        DeepPASTA  0.962546\n",
      "12     AUUAAA          APARENT  0.958891\n",
      "13     AUUAAA         APARENT2  0.951460\n",
      "14     AUUAAA  PolyApredictors  0.711374\n",
      "15    Variant          PolyaID  0.915406\n",
      "16    Variant        DeepPASTA  0.856428\n",
      "17    Variant          APARENT  0.758629\n",
      "18    Variant         APARENT2  0.817828\n",
      "19    Variant  PolyApredictors  0.588099\n"
     ]
    }
   ],
   "source": [
    "fig,ax = plt.subplots(1,1, figsize = (2.25,1.5))\n",
    "\n",
    "sns.barplot(data = plot_data, x = 'signal', y = 'auroc', \n",
    "            hue = 'model', palette = palette,\n",
    "            edgecolor = 'black', linewidth = 0.5, \n",
    "            saturation = 1, ax = ax)\n",
    "\n",
    "ax.axhline(y = 0, linewidth = 0.5, color = 'black')\n",
    "\n",
    "ax.set_xlabel(\"\")\n",
    "ax.set_ylabel(\"AUROC using predictions\\nanchored at max cleavage sites\")\n",
    "\n",
    "ax.set_ylim(0.5,1)\n",
    "\n",
    "ax.spines['right'].set_visible(False)\n",
    "ax.spines['top'].set_visible(False)\n",
    "\n",
    "ax.legend(bbox_to_anchor = (1.05,1))\n",
    "\n",
    "plt.savefig(os.path.join(OUTDIR, 'benchmark_testset.classification_by_pas_signal.ctr_auroc_barplot.svg'), format = 'svg', dpi = 600, transparent = True)\n",
    "plt.show()\n",
    "\n",
    "\n",
    "print(\"Corresponding data:\")\n",
    "print(plot_data[['signal','model','auroc']])\n",
    "    "
   ]
  },
  {
   "cell_type": "code",
   "execution_count": 16,
   "metadata": {},
   "outputs": [
    {
     "data": {
      "image/png": "[encoded data removed]",
      "text/plain": [
       "<Figure size 162x108 with 1 Axes>"
      ]
     },
     "metadata": {
      "needs_background": "light"
     },
     "output_type": "display_data"
    },
    {
     "name": "stdout",
     "output_type": "stream",
     "text": [
      "Corresponding data:\n",
      "       signal            model     auprc\n",
      "0   All sites          PolyaID  0.982233\n",
      "1   All sites        DeepPASTA  0.949143\n",
      "2   All sites          APARENT  0.923576\n",
      "3   All sites         APARENT2  0.934055\n",
      "4   All sites  PolyApredictors  0.754915\n",
      "5      AAUAAA          PolyaID  0.999107\n",
      "6      AAUAAA        DeepPASTA  0.961318\n",
      "7      AAUAAA          APARENT  0.957351\n",
      "8      AAUAAA         APARENT2  0.958363\n",
      "9      AAUAAA  PolyApredictors  0.813672\n",
      "10     AUUAAA          PolyaID  0.990627\n",
      "11     AUUAAA        DeepPASTA  0.972886\n",
      "12     AUUAAA          APARENT  0.944462\n",
      "13     AUUAAA         APARENT2  0.924191\n",
      "14     AUUAAA  PolyApredictors  0.701425\n",
      "15    Variant          PolyaID  0.922834\n",
      "16    Variant        DeepPASTA  0.894571\n",
      "17    Variant          APARENT  0.731594\n",
      "18    Variant         APARENT2  0.789645\n",
      "19    Variant  PolyApredictors  0.587086\n"
     ]
    }
   ],
   "source": [
    "fig,ax = plt.subplots(1,1, figsize = (2.25,1.5))\n",
    "\n",
    "sns.barplot(data = plot_data, x = 'signal', y = 'auprc', \n",
    "            hue = 'model', palette = palette,\n",
    "            edgecolor = 'black', linewidth = 0.5, \n",
    "            saturation = 1, ax = ax)\n",
    "\n",
    "ax.axhline(y = 0, linewidth = 0.5, color = 'black')\n",
    "\n",
    "ax.set_xlabel(\"\")\n",
    "ax.set_ylabel(\"AUPRC using predictions\\nanchored at max cleavage sites\")\n",
    "\n",
    "ax.set_ylim(0.5,1)\n",
    "\n",
    "ax.spines['right'].set_visible(False)\n",
    "ax.spines['top'].set_visible(False)\n",
    "\n",
    "ax.legend(bbox_to_anchor = (1.05,1))\n",
    "\n",
    "plt.savefig(os.path.join(OUTDIR, 'benchmark_testset.classification_by_pas_signal.ctr_auprc_barplot.svg'), format = 'svg', dpi = 600, transparent = True)\n",
    "plt.show()\n",
    "\n",
    "\n",
    "print(\"Corresponding data:\")\n",
    "print(plot_data[['signal','model','auprc']])\n"
   ]
  },
  {
   "cell_type": "markdown",
   "metadata": {},
   "source": [
    "#### Off center predictions"
   ]
  },
  {
   "cell_type": "code",
   "execution_count": 17,
   "metadata": {},
   "outputs": [
    {
     "name": "stdout",
     "output_type": "stream",
     "text": [
      "(159087, 39)\n",
      "(20000, 39)\n",
      "(20000, 39)\n",
      "(20000, 39)\n",
      "(20000, 39)\n"
     ]
    }
   ],
   "source": [
    "polyaid_off_pos = polyaid_test_filt.loc[polyaid_test_filt['representative'] == 'adjacent']\n",
    "\n",
    "polyaid_off_pos_all     = polyaid_off_pos.sample(n = 10000, replace = False, random_state = 1234)\n",
    "polyaid_off_pos_aataaa  = polyaid_off_pos.loc[polyaid_off_pos['signal_pas'] == 'AATAAA'].sample(n = 10000, replace = False, random_state = 1234)\n",
    "polyaid_off_pos_attaaa  = polyaid_off_pos.loc[polyaid_off_pos['signal_pas'] == 'ATTAAA'].sample(n = 10000, replace = False, random_state = 1234)\n",
    "polyaid_off_pos_variant = polyaid_off_pos.loc[polyaid_off_pos['signal_pas'].isin(['Variant','Other'])].sample(n = 10000, replace = False, random_state = 1234)\n",
    "\n",
    "polyaid_off_neg_all     = polyaid_test_filt.loc[polyaid_test_filt['representative'] == 'negative'].sample(n = len(polyaid_off_pos_all),     replace = False, random_state = 1234)\n",
    "polyaid_off_neg_aataaa  = polyaid_test_filt.loc[polyaid_test_filt['representative'] == 'negative'].sample(n = len(polyaid_off_pos_aataaa),  replace = False, random_state = 1234)\n",
    "polyaid_off_neg_attaaa  = polyaid_test_filt.loc[polyaid_test_filt['representative'] == 'negative'].sample(n = len(polyaid_off_pos_attaaa),  replace = False, random_state = 1234)\n",
    "polyaid_off_neg_variant = polyaid_test_filt.loc[polyaid_test_filt['representative'] == 'negative'].sample(n = len(polyaid_off_pos_variant), replace = False, random_state = 1234)\n",
    "\n",
    "polyaid_off_all     = pd.concat([polyaid_off_pos_all,     polyaid_off_neg_all],     ignore_index = True, sort = False)\n",
    "polyaid_off_aataaa  = pd.concat([polyaid_off_pos_aataaa,  polyaid_off_neg_aataaa],  ignore_index = True, sort = False)\n",
    "polyaid_off_attaaa  = pd.concat([polyaid_off_pos_attaaa,  polyaid_off_neg_attaaa],  ignore_index = True, sort = False)\n",
    "polyaid_off_variant = pd.concat([polyaid_off_pos_variant, polyaid_off_neg_variant], ignore_index = True, sort = False)\n",
    "\n",
    "print(polyaid_test_filt.shape)\n",
    "print(polyaid_off_all.shape)\n",
    "print(polyaid_off_aataaa.shape)\n",
    "print(polyaid_off_attaaa.shape)\n",
    "print(polyaid_off_variant.shape)\n"
   ]
  },
  {
   "cell_type": "code",
   "execution_count": 18,
   "metadata": {},
   "outputs": [],
   "source": [
    "class_mods   = []\n",
    "class_sign   = []\n",
    "class_aurocs = []\n",
    "class_auprcs = []\n",
    "\n",
    "for (signal,sdata) in zip(['All sites','AAUAAA','AUUAAA','Variant'], [polyaid_off_all, polyaid_off_aataaa, polyaid_off_attaaa, polyaid_off_variant]):\n",
    "    for var,lab in zip(class_vars,class_labs):\n",
    "        \n",
    "        auroc, auprc = classification_cleavage.calculate_auc(sdata['binary_score'], sdata[var])\n",
    "\n",
    "        class_mods.append(lab)\n",
    "        class_sign.append(signal)\n",
    "        class_aurocs.append(auroc)\n",
    "        class_auprcs.append(auprc)\n",
    "\n",
    "    plot_data = pd.DataFrame.from_dict({'model' : class_mods, 'signal' : class_sign, 'auroc' : class_aurocs, 'auprc' : class_auprcs})\n"
   ]
  },
  {
   "cell_type": "code",
   "execution_count": 19,
   "metadata": {},
   "outputs": [
    {
     "data": {
      "image/png": "[encoded data removed]",
      "text/plain": [
       "<Figure size 162x108 with 1 Axes>"
      ]
     },
     "metadata": {
      "needs_background": "light"
     },
     "output_type": "display_data"
    },
    {
     "name": "stdout",
     "output_type": "stream",
     "text": [
      "Corresponding data:\n",
      "       signal            model     auroc\n",
      "0   All sites          PolyaID  0.975055\n",
      "1   All sites        DeepPASTA  0.656666\n",
      "2   All sites          APARENT  0.744886\n",
      "3   All sites         APARENT2  0.808161\n",
      "4   All sites  PolyApredictors  0.749977\n",
      "5      AAUAAA          PolyaID  0.999388\n",
      "6      AAUAAA        DeepPASTA  0.680486\n",
      "7      AAUAAA          APARENT  0.765459\n",
      "8      AAUAAA         APARENT2  0.849554\n",
      "9      AAUAAA  PolyApredictors  0.806336\n",
      "10     AUUAAA          PolyaID  0.984787\n",
      "11     AUUAAA        DeepPASTA  0.657588\n",
      "12     AUUAAA          APARENT  0.770233\n",
      "13     AUUAAA         APARENT2  0.817388\n",
      "14     AUUAAA  PolyApredictors  0.746620\n",
      "15    Variant          PolyaID  0.904657\n",
      "16    Variant        DeepPASTA  0.598633\n",
      "17    Variant          APARENT  0.671968\n",
      "18    Variant         APARENT2  0.703505\n",
      "19    Variant  PolyApredictors  0.608517\n"
     ]
    }
   ],
   "source": [
    "fig,ax = plt.subplots(1,1, figsize = (2.25,1.5))\n",
    "\n",
    "sns.barplot(data = plot_data, x = 'signal', y = 'auroc', \n",
    "            hue = 'model', palette = palette,\n",
    "            edgecolor = 'black', linewidth = 0.5, \n",
    "            saturation = 1, ax = ax)\n",
    "\n",
    "ax.axhline(y = 0, linewidth = 0.5, color = 'black')\n",
    "\n",
    "ax.set_xlabel(\"\")\n",
    "ax.set_ylabel(\"AUROC of sequences\\nnearby cleavage sites\")\n",
    "\n",
    "ax.set_ylim(0.5,1)\n",
    "\n",
    "ax.spines['right'].set_visible(False)\n",
    "ax.spines['top'].set_visible(False)\n",
    "\n",
    "ax.legend(bbox_to_anchor = (1.05,1))\n",
    "\n",
    "plt.savefig(os.path.join(OUTDIR, 'benchmark_testset.classification_by_pas_signal.off_auroc_barplot.svg'), format = 'svg', dpi = 600, transparent = True)\n",
    "plt.show()\n",
    "\n",
    "\n",
    "print(\"Corresponding data:\")\n",
    "print(plot_data[['signal','model','auroc']])\n",
    "    "
   ]
  },
  {
   "cell_type": "code",
   "execution_count": 20,
   "metadata": {},
   "outputs": [
    {
     "data": {
      "image/png": "[encoded data removed]",
      "text/plain": [
       "<Figure size 162x108 with 1 Axes>"
      ]
     },
     "metadata": {
      "needs_background": "light"
     },
     "output_type": "display_data"
    },
    {
     "name": "stdout",
     "output_type": "stream",
     "text": [
      "Corresponding data:\n",
      "       signal            model     auprc\n",
      "0   All sites          PolyaID  0.980231\n",
      "1   All sites        DeepPASTA  0.704292\n",
      "2   All sites          APARENT  0.794156\n",
      "3   All sites         APARENT2  0.827373\n",
      "4   All sites  PolyApredictors  0.768506\n",
      "5      AAUAAA          PolyaID  0.999408\n",
      "6      AAUAAA        DeepPASTA  0.730827\n",
      "7      AAUAAA          APARENT  0.817489\n",
      "8      AAUAAA         APARENT2  0.862948\n",
      "9      AAUAAA  PolyApredictors  0.822063\n",
      "10     AUUAAA          PolyaID  0.983481\n",
      "11     AUUAAA        DeepPASTA  0.695988\n",
      "12     AUUAAA          APARENT  0.808330\n",
      "13     AUUAAA         APARENT2  0.828163\n",
      "14     AUUAAA  PolyApredictors  0.747864\n",
      "15    Variant          PolyaID  0.908621\n",
      "16    Variant        DeepPASTA  0.624099\n",
      "17    Variant          APARENT  0.687365\n",
      "18    Variant         APARENT2  0.705557\n",
      "19    Variant  PolyApredictors  0.600162\n"
     ]
    }
   ],
   "source": [
    "fig,ax = plt.subplots(1,1, figsize = (2.25,1.5))\n",
    "\n",
    "sns.barplot(data = plot_data, x = 'signal', y = 'auprc', \n",
    "            hue = 'model', palette = palette,\n",
    "            edgecolor = 'black', linewidth = 0.5, \n",
    "            saturation = 1, ax = ax)\n",
    "\n",
    "ax.axhline(y = 0, linewidth = 0.5, color = 'black')\n",
    "\n",
    "ax.set_xlabel(\"\")\n",
    "ax.set_ylabel(\"AUPRC of sequences\\nnearby cleavage sites\")\n",
    "\n",
    "ax.set_ylim(0.5,1)\n",
    "\n",
    "ax.spines['right'].set_visible(False)\n",
    "ax.spines['top'].set_visible(False)\n",
    "\n",
    "ax.legend(bbox_to_anchor = (1.05,1))\n",
    "\n",
    "plt.savefig(os.path.join(OUTDIR, 'benchmark_testset.classification_by_pas_signal.off_auprc_barplot.svg'), format = 'svg', dpi = 600, transparent = True)\n",
    "plt.show()\n",
    "\n",
    "\n",
    "print(\"Corresponding data:\")\n",
    "print(plot_data[['signal','model','auprc']])\n"
   ]
  },
  {
   "cell_type": "markdown",
   "metadata": {},
   "source": [
    "### Correlation between observed and predicted mean cleavage position"
   ]
  },
  {
   "cell_type": "code",
   "execution_count": 21,
   "metadata": {},
   "outputs": [],
   "source": [
    "mcp_vars = ['our-models_mcp-raw', 'aparent_mcp-raw', 'aparent-resnet_mcp-raw', 'polyapredictors_mcp-raw']\n",
    "mcp_labs = ['PolyaID','APARENT','APARENT2','PolyApredictors']\n",
    "\n",
    "xs = np.arange(-25,25,1)\n",
    "polyaid_posdata['scorevec_mcp'] = polyaid_posdata['scorevec'].apply(lambda y : np.dot(xs, y/np.sum(y)))\n"
   ]
  },
  {
   "cell_type": "code",
   "execution_count": 22,
   "metadata": {},
   "outputs": [
    {
     "name": "stdout",
     "output_type": "stream",
     "text": [
      "(159087, 39)\n",
      "(90874, 40)\n",
      "(60433, 40)\n",
      "(16221, 40)\n",
      "(14220, 40)\n"
     ]
    }
   ],
   "source": [
    "polyaid_mcp_all     = polyaid_posdata\n",
    "polyaid_mcp_aataaa  = polyaid_posdata.loc[polyaid_posdata['signal_pas'] == 'AATAAA']\n",
    "polyaid_mcp_attaaa  = polyaid_posdata.loc[polyaid_posdata['signal_pas'] == 'ATTAAA']\n",
    "polyaid_mcp_variant = polyaid_posdata.loc[polyaid_posdata['signal_pas'].isin(['Variant','Other'])]\n",
    "\n",
    "print(polyaid_test_filt.shape)\n",
    "print(polyaid_mcp_all.shape)\n",
    "print(polyaid_mcp_aataaa.shape)\n",
    "print(polyaid_mcp_attaaa.shape)\n",
    "print(polyaid_mcp_variant.shape)\n"
   ]
  },
  {
   "cell_type": "code",
   "execution_count": 23,
   "metadata": {},
   "outputs": [
    {
     "data": {
      "image/png": "[encoded data removed]",
      "text/plain": [
       "<Figure size 162x108 with 1 Axes>"
      ]
     },
     "metadata": {
      "needs_background": "light"
     },
     "output_type": "display_data"
    },
    {
     "name": "stdout",
     "output_type": "stream",
     "text": [
      "Corresponding data:\n",
      "       signal            model      corr\n",
      "0   All sites          PolyaID  0.963150\n",
      "1   All sites          APARENT  0.957374\n",
      "2   All sites         APARENT2  0.954179\n",
      "3   All sites  PolyApredictors  0.548148\n",
      "4      AAUAAA          PolyaID  0.979863\n",
      "5      AAUAAA          APARENT  0.975634\n",
      "6      AAUAAA         APARENT2  0.969371\n",
      "7      AAUAAA  PolyApredictors  0.570251\n",
      "8      AUUAAA          PolyaID  0.973911\n",
      "9      AUUAAA          APARENT  0.968384\n",
      "10     AUUAAA         APARENT2  0.963494\n",
      "11     AUUAAA  PolyApredictors  0.530465\n",
      "12    Variant          PolyaID  0.875556\n",
      "13    Variant          APARENT  0.855667\n",
      "14    Variant         APARENT2  0.874194\n",
      "15    Variant  PolyApredictors  0.477324\n"
     ]
    }
   ],
   "source": [
    "mcp_mods = []\n",
    "mcp_sign = []\n",
    "mcp_corr = []\n",
    "\n",
    "for (signal,sdata) in zip(['All sites','AAUAAA','AUUAAA','Variant'], [polyaid_mcp_all, polyaid_mcp_aataaa, polyaid_mcp_attaaa, polyaid_mcp_variant]):\n",
    "    for var,lab in zip(mcp_vars,mcp_labs):\n",
    "        \n",
    "        mcp_mods.append(lab)\n",
    "        mcp_sign.append(signal)\n",
    "        mcp_corr.append(st.pearsonr(sdata['scorevec_mcp'], sdata[var])[0])\n",
    "        \n",
    "        \n",
    "fig,ax = plt.subplots(1,1, figsize = (2.25,1.5))\n",
    "\n",
    "plot_data = pd.DataFrame.from_dict({'model' : mcp_mods, 'signal' : mcp_sign, 'corr' : mcp_corr})\n",
    "\n",
    "sns.barplot(data = plot_data, x = 'signal', y = 'corr', \n",
    "            hue = 'model', palette = palette,\n",
    "            edgecolor = 'black', linewidth = 0.5, \n",
    "            saturation = 1, ax = ax)\n",
    "\n",
    "ax.axhline(y = 0, linewidth = 0.5, color = 'black')\n",
    "\n",
    "ax.set_xlabel(\"\")\n",
    "ax.set_ylabel(\"Pearson correlation of\\nobserved vs predicted MCP\")\n",
    "\n",
    "ax.set_ylim(0.4,1)\n",
    "ax.yaxis.set_major_locator(MultipleLocator(0.1))\n",
    "\n",
    "ax.spines['right'].set_visible(False)\n",
    "ax.spines['top'].set_visible(False)\n",
    "\n",
    "ax.legend(bbox_to_anchor = (1.05,1))\n",
    "\n",
    "plt.savefig(os.path.join(OUTDIR, 'benchmark_testset.mcp_by_pas_signal.corr_barplot.svg'), format = 'svg', dpi = 600, transparent = True)\n",
    "plt.show()\n",
    "\n",
    "\n",
    "print(\"Corresponding data:\")\n",
    "print(plot_data[['signal','model','corr']])\n",
    "    "
   ]
  },
  {
   "cell_type": "code",
   "execution_count": 24,
   "metadata": {},
   "outputs": [
    {
     "data": {
      "image/png": "[encoded data removed]",
      "text/plain": [
       "<Figure size 360x108 with 6 Axes>"
      ]
     },
     "metadata": {
      "needs_background": "light"
     },
     "output_type": "display_data"
    }
   ],
   "source": [
    "example_data = polyaid_posdata.loc[(polyaid_posdata['chrom'] == 'chr1') & (polyaid_posdata['start'] == 965711) & (polyaid_posdata['strand'] == '+')].iloc[0]\n",
    "\n",
    "fig,ax = plt.subplots(6,1, figsize = (5,1.5), sharex = True, gridspec_kw = {'height_ratios' : [1,2,2,2,2,2]})\n",
    "\n",
    "xs = np.arange(-25,25,1)\n",
    "example_sequence = example_data['sequence'][95:145]\n",
    "example_encoding = pd.DataFrame(genetics.encode_sequence(example_sequence), index = xs, columns = ['A','C','G','U'])\n",
    "\n",
    "logomaker.Logo(example_encoding, ax = ax[0], width = 0.8, vpad = 0.05, color_scheme = 'classic')\n",
    "\n",
    "ax[1].bar(xs, example_data['scorevec'], width = 0.8, color = 'gray')\n",
    "\n",
    "ax[2].bar(xs, example_data['our-models_cleavage_norm'], width = 0.8, color = 'gray')\n",
    "ax[3].bar(xs, example_data['aparent_cleavageDistribution'][78:128], width = 0.8, color = 'gray')\n",
    "ax[4].bar(xs, example_data['aparent-resnet_cleavageDistribution'][78:128], width = 0.8, color = 'gray')\n",
    "ax[5].bar(xs, example_data['polyapredictors_cleavage_efficiencies'][int(84-25):int(84+25)], width = 0.8, color = 'gray')\n",
    "\n",
    "ax[5].set_xlim(-25,25)\n",
    "ax[5].xaxis.set_major_locator(MultipleLocator(5))\n",
    "ax[0].set_title(\"chr1:965711:+\")\n",
    "\n",
    "for a in ax:\n",
    "    a.set_yticks([])\n",
    "    a.spines['right'].set_visible(False)\n",
    "    a.spines['top'].set_visible(False)\n",
    "\n",
    "plt.savefig(os.path.join(OUTDIR, 'benchmark_testset.cleavage_example.chr1_965711_+.svg'), format = 'svg', dpi = 600, transparent = True)\n",
    "plt.show()\n"
   ]
  },
  {
   "cell_type": "code",
   "execution_count": 25,
   "metadata": {},
   "outputs": [
    {
     "data": {
      "image/png": "[encoded data removed]",
      "text/plain": [
       "<Figure size 360x108 with 6 Axes>"
      ]
     },
     "metadata": {
      "needs_background": "light"
     },
     "output_type": "display_data"
    }
   ],
   "source": [
    "example_data = polyaid_posdata.loc[(polyaid_posdata['chrom'] == 'chr1') & (polyaid_posdata['start'] == 1014529) & (polyaid_posdata['strand'] == '+')].iloc[0]\n",
    "\n",
    "fig,ax = plt.subplots(6,1, figsize = (5,1.5), sharex = True, gridspec_kw = {'height_ratios' : [1,2,2,2,2,2]})\n",
    "\n",
    "xs = np.arange(-25,25,1)\n",
    "example_sequence = example_data['sequence'][95:145]\n",
    "example_encoding = pd.DataFrame(genetics.encode_sequence(example_sequence), index = xs, columns = ['A','C','G','U'])\n",
    "\n",
    "logomaker.Logo(example_encoding, ax = ax[0], width = 0.8, vpad = 0.05, color_scheme = 'classic')\n",
    "\n",
    "ax[1].bar(xs, example_data['scorevec'], width = 0.8, color = 'gray')\n",
    "\n",
    "ax[2].bar(xs, example_data['our-models_cleavage_norm'], width = 0.8, color = 'gray')\n",
    "ax[3].bar(xs, example_data['aparent_cleavageDistribution'][78:128], width = 0.8, color = 'gray')\n",
    "ax[4].bar(xs, example_data['aparent-resnet_cleavageDistribution'][78:128], width = 0.8, color = 'gray')\n",
    "ax[5].bar(xs, example_data['polyapredictors_cleavage_efficiencies'][int(84-25):int(84+25)], width = 0.8, color = 'gray')\n",
    "\n",
    "ax[5].set_xlim(-25,25)\n",
    "ax[5].xaxis.set_major_locator(MultipleLocator(5))\n",
    "ax[0].set_title(\"chr1:1014529:+\")\n",
    "\n",
    "for a in ax:\n",
    "    a.set_yticks([])\n",
    "    a.spines['right'].set_visible(False)\n",
    "    a.spines['top'].set_visible(False)\n",
    "\n",
    "plt.savefig(os.path.join(OUTDIR, 'benchmark_testset.cleavage_example.chr1_1014529_+.svg'), format = 'svg', dpi = 600, transparent = True)\n",
    "plt.show()\n"
   ]
  },
  {
   "cell_type": "markdown",
   "metadata": {},
   "source": [
    "## PolyaStrength test set comparison"
   ]
  },
  {
   "cell_type": "code",
   "execution_count": 26,
   "metadata": {},
   "outputs": [],
   "source": [
    "strength_comp_vars   = ['our-models_strength','deeppasta_classification','aparent_isoformAbundance','aparent-resnet_isoformAbundance','polyapredictors_expression']\n",
    "strength_comp_labs   = ['PolyaStrength','DeepPASTA','APARENT','APARENT2','PolyApredictors']\n"
   ]
  },
  {
   "cell_type": "markdown",
   "metadata": {},
   "source": [
    "### Classification of highly vs lowly used sites (or \"strong\" vs \"weak\")"
   ]
  },
  {
   "cell_type": "code",
   "execution_count": 27,
   "metadata": {},
   "outputs": [
    {
     "name": "stdout",
     "output_type": "stream",
     "text": [
      "(16334, 8)\n"
     ]
    }
   ],
   "source": [
    "##\n",
    "\n",
    "predicted_pairs_keys = {}\n",
    "\n",
    "for i,row in polyastrength_pairs_wide.iterrows():\n",
    "    predicted_pairs_keys[row['label']] = row['random_class']\n",
    "    \n",
    "    \n",
    "predicted_pairs_results = {\n",
    "    'label' : [],\n",
    "    'comptype' : [],\n",
    "    'random_class' : [],\n",
    "    'our-models_strength' : [], \n",
    "    'deeppasta_classification' : [],\n",
    "    'aparent_isoformAbundance' : [],\n",
    "    'aparent-resnet_isoformAbundance' : [],\n",
    "    'polyapredictors_expression' : [],\n",
    "}\n",
    "\n",
    "##\n",
    "\n",
    "for i,row in polyastrength_pairs_data.iterrows():\n",
    "    \n",
    "    predicted_pairs_results['label'].append(row['label'])\n",
    "    predicted_pairs_results['comptype'].append(row['comptype'])\n",
    "    predicted_pairs_results['random_class'].append(predicted_pairs_keys[row['label']])\n",
    "    \n",
    "    for cv in strength_comp_vars:\n",
    "        predicted_pairs_results[cv].append(row[cv])\n",
    "\n",
    "predicted_pairs = pd.DataFrame.from_dict(predicted_pairs_results, orient = 'columns')\n",
    "print(predicted_pairs.shape)\n",
    "\n",
    "##\n",
    "\n",
    "predicted_pairs_strongest = predicted_pairs.loc[predicted_pairs['comptype'] == 'strongest']\n",
    "predicted_pairs_random    = predicted_pairs.loc[predicted_pairs['comptype'] == 'random']\n",
    "\n",
    "predicted_pairs_wide = predicted_pairs_strongest.merge(predicted_pairs_random[['label'] + strength_comp_vars], \n",
    "                                                       how = 'inner', on = 'label',\n",
    "                                                       suffixes = ['_strongest', '_random'])\n",
    "\n",
    "## \n",
    "\n",
    "for pc in strength_comp_vars:\n",
    "    \n",
    "    predicted_pairs_wide.loc[predicted_pairs_wide['random_class'] == 0, f'{pc}_major'] = predicted_pairs_wide[f'{pc}_random']\n",
    "    predicted_pairs_wide.loc[predicted_pairs_wide['random_class'] == 1, f'{pc}_major'] = predicted_pairs_wide[f'{pc}_strongest']\n",
    "\n",
    "    predicted_pairs_wide.loc[predicted_pairs_wide['random_class'] == 0, f'{pc}_minor'] = predicted_pairs_wide[f'{pc}_strongest']\n",
    "    predicted_pairs_wide.loc[predicted_pairs_wide['random_class'] == 1, f'{pc}_minor'] = predicted_pairs_wide[f'{pc}_random']\n",
    "\n",
    "    predicted_pairs_wide[f'{pc}_difference'] = predicted_pairs_wide[f'{pc}_major'] - predicted_pairs_wide[f'{pc}_minor']\n"
   ]
  },
  {
   "cell_type": "code",
   "execution_count": 28,
   "metadata": {},
   "outputs": [],
   "source": [
    "strength_comp_mods   = []\n",
    "strength_comp_aurocs = []\n",
    "strength_comp_auprcs = []\n",
    "\n",
    "for (comp_var,comp_lab) in zip(strength_comp_vars,strength_comp_labs):\n",
    "\n",
    "    auroc, auprc = classification_cleavage.calculate_auc(predicted_pairs_wide['random_class'], predicted_pairs_wide[f'{comp_var}_difference'])\n",
    "\n",
    "    strength_comp_mods.append(comp_lab)\n",
    "    strength_comp_aurocs.append(auroc)\n",
    "    strength_comp_auprcs.append(auprc)\n",
    "    \n",
    "plot_data = pd.DataFrame.from_dict({'model' : strength_comp_mods, 'auroc' : strength_comp_aurocs, 'auprc' : strength_comp_auprcs})\n"
   ]
  },
  {
   "cell_type": "code",
   "execution_count": 29,
   "metadata": {},
   "outputs": [
    {
     "data": {
      "image/png": "[encoded data removed]",
      "text/plain": [
       "<Figure size 54x108 with 1 Axes>"
      ]
     },
     "metadata": {
      "needs_background": "light"
     },
     "output_type": "display_data"
    },
    {
     "name": "stdout",
     "output_type": "stream",
     "text": [
      "Corresponding metrics:\n",
      "             model     auroc     auprc\n",
      "0    PolyaStrength  0.909021  0.907763\n",
      "1        DeepPASTA  0.676664  0.659969\n",
      "2          APARENT  0.752664  0.745517\n",
      "3         APARENT2  0.834045  0.836062\n",
      "4  PolyApredictors  0.605832  0.589019\n"
     ]
    }
   ],
   "source": [
    "fig,ax = plt.subplots(1,1, figsize = (0.75,1.5))\n",
    "\n",
    "sns.barplot(data = plot_data, x = 'model', y = 'auroc', \n",
    "            hue = 'model', palette = palette, \n",
    "            dodge = False, edgecolor = 'black', linewidth = 0.5, \n",
    "            saturation = 1, ax = ax)\n",
    "\n",
    "ax.axhline(y = 0, linewidth = 0.5, color = 'black')\n",
    "\n",
    "ax.set_xticks([])\n",
    "ax.set_xlabel(\"\")\n",
    "\n",
    "ax.set_ylim(0.5,1)\n",
    "ax.yaxis.set_major_locator(MultipleLocator(0.1))\n",
    "ax.set_ylabel(\"AUROC classifying highly vs\\nlowly used terminal exonic sites\")\n",
    "\n",
    "ax.spines['right'].set_visible(False)\n",
    "ax.spines['top'].set_visible(False)\n",
    "\n",
    "ax.legend(bbox_to_anchor = (1.05,1))\n",
    "\n",
    "plt.savefig(os.path.join(OUTDIR, 'benchmark_testset.separating_sites_by_usage_by_model.auroc_barplot.svg'), format = 'svg', dpi = 600, transparent = True)\n",
    "plt.show()\n",
    "\n",
    "\n",
    "print(\"Corresponding metrics:\")\n",
    "print(plot_data)\n",
    "    "
   ]
  },
  {
   "cell_type": "code",
   "execution_count": 30,
   "metadata": {},
   "outputs": [
    {
     "data": {
      "image/png": "[encoded data removed]",
      "text/plain": [
       "<Figure size 54x108 with 1 Axes>"
      ]
     },
     "metadata": {
      "needs_background": "light"
     },
     "output_type": "display_data"
    },
    {
     "name": "stdout",
     "output_type": "stream",
     "text": [
      "Corresponding metrics:\n",
      "             model     auroc     auprc\n",
      "0    PolyaStrength  0.909021  0.907763\n",
      "1        DeepPASTA  0.676664  0.659969\n",
      "2          APARENT  0.752664  0.745517\n",
      "3         APARENT2  0.834045  0.836062\n",
      "4  PolyApredictors  0.605832  0.589019\n"
     ]
    }
   ],
   "source": [
    "fig,ax = plt.subplots(1,1, figsize = (0.75,1.5))\n",
    "\n",
    "sns.barplot(data = plot_data, x = 'model', y = 'auprc', \n",
    "            hue = 'model', palette = palette, \n",
    "            dodge = False, edgecolor = 'black', linewidth = 0.5, \n",
    "            saturation = 1, ax = ax)\n",
    "\n",
    "ax.axhline(y = 0, linewidth = 0.5, color = 'black')\n",
    "\n",
    "ax.set_xticks([])\n",
    "ax.set_xlabel(\"\")\n",
    "\n",
    "ax.set_ylim(0.5,1)\n",
    "ax.yaxis.set_major_locator(MultipleLocator(0.1))\n",
    "ax.set_ylabel(\"AUPRC classifying highly vs\\nlowly used terminal exonic sites\")\n",
    "\n",
    "ax.spines['right'].set_visible(False)\n",
    "ax.spines['top'].set_visible(False)\n",
    "\n",
    "ax.legend(bbox_to_anchor = (1.05,1))\n",
    "\n",
    "plt.savefig(os.path.join(OUTDIR, 'benchmark_testset.separating_sites_by_usage_by_model.auprc_barplot.svg'), format = 'svg', dpi = 600, transparent = True)\n",
    "plt.show()\n",
    "\n",
    "\n",
    "print(\"Corresponding metrics:\")\n",
    "print(plot_data)\n",
    "    "
   ]
  },
  {
   "cell_type": "markdown",
   "metadata": {},
   "source": [
    "## Benchmark database comparison"
   ]
  },
  {
   "cell_type": "markdown",
   "metadata": {},
   "source": [
    "### Selecting qualifying sites based on supporting reads"
   ]
  },
  {
   "cell_type": "code",
   "execution_count": 31,
   "metadata": {},
   "outputs": [],
   "source": [
    "reads_cutoff = 10\n",
    "rpm_cutoff = 3"
   ]
  },
  {
   "cell_type": "code",
   "execution_count": 32,
   "metadata": {},
   "outputs": [
    {
     "data": {
      "image/png": "[encoded data removed]",
      "text/plain": [
       "<Figure size 288x144 with 2 Axes>"
      ]
     },
     "metadata": {
      "needs_background": "light"
     },
     "output_type": "display_data"
    }
   ],
   "source": [
    "fig,ax = plt.subplots(1,2, figsize = (4, 2))\n",
    "\n",
    "(np.log10(1+apadb_data['maceReads'])).hist(ax = ax[0], bins = 30, grid = False)\n",
    "(np.log10(1+polyadb_data['Mean RPM'])).hist(ax = ax[1], bins = 30, grid = False)\n",
    "\n",
    "ax[0].axvline(x = np.log10(reads_cutoff+1), color = 'black', linewidth = 1)\n",
    "ax[1].axvline(x = np.log10(rpm_cutoff+1),   color = 'black', linewidth = 1)\n",
    "\n",
    "ax[0].set_title(\"APADB\")\n",
    "ax[0].set_xlabel(\"log10(maceReads + 1)\")\n",
    "ax[0].xaxis.set_major_locator(MultipleLocator(1))\n",
    "\n",
    "ax[1].set_title(\"Polya_DB\")\n",
    "ax[1].set_xlabel(\"log10(Mean RPM + 1)\")\n",
    "ax[1].xaxis.set_major_locator(MultipleLocator(1))\n",
    "\n",
    "plt.tight_layout(rect=[0, 0.03, 1, 0.95])\n",
    "plt.show()\n"
   ]
  },
  {
   "cell_type": "code",
   "execution_count": 33,
   "metadata": {},
   "outputs": [
    {
     "name": "stdout",
     "output_type": "stream",
     "text": [
      "\n",
      "APADB:\n",
      "(71829, 46)\n",
      "(48860, 46)\n",
      "\n",
      "APADB shifted:\n",
      "(71829, 43)\n",
      "(48860, 43)\n",
      "\n",
      "PolyaDB:\n",
      "(311594, 54)\n",
      "(36701, 54)\n",
      "\n",
      "PolyaDB:\n",
      "(311594, 51)\n",
      "(36701, 51)\n"
     ]
    }
   ],
   "source": [
    "apadb_filt = apadb_data.loc[apadb_data['maceReads'] >= reads_cutoff].copy()\n",
    "print(\"\\nAPADB:\")\n",
    "print(apadb_data.shape)\n",
    "print(apadb_filt.shape)\n",
    "\n",
    "apadb_shifted_filt = apadb_shifted_data.loc[apadb_shifted_data['maceReads'] >= reads_cutoff].copy()\n",
    "print(\"\\nAPADB shifted:\")\n",
    "print(apadb_shifted_data.shape)\n",
    "print(apadb_shifted_filt.shape)\n",
    "\n",
    "polyadb_filt = polyadb_data.loc[polyadb_data['Mean RPM'] >= rpm_cutoff].copy()\n",
    "print(\"\\nPolyaDB:\")\n",
    "print(polyadb_data.shape)\n",
    "print(polyadb_filt.shape)\n",
    "\n",
    "polyadb_shifted_filt = polyadb_shifted_data.loc[polyadb_shifted_data['Mean RPM'] >= rpm_cutoff].copy()\n",
    "print(\"\\nPolyaDB:\")\n",
    "print(polyadb_shifted_data.shape)\n",
    "print(polyadb_shifted_filt.shape)\n"
   ]
  },
  {
   "cell_type": "markdown",
   "metadata": {},
   "source": [
    "### Site identification (classification)"
   ]
  },
  {
   "cell_type": "code",
   "execution_count": 34,
   "metadata": {},
   "outputs": [
    {
     "name": "stdout",
     "output_type": "stream",
     "text": [
      "APADB NCs: (48860, 6)\n",
      "PolyaDB NCs: (36701, 6)\n"
     ]
    }
   ],
   "source": [
    "class_vars = ['our-models_classification','deeppasta_classification','aparent_isoformAbundance', 'aparent-resnet_isoformAbundance','polyapredictors_expression']\n",
    "class_labs = ['PolyaID','DeepPASTA','APARENT','APARENT2','PolyApredictors']\n",
    "\n",
    "nc_all     = (polyaid_test_data.loc[polyaid_test_data['supporting_reads'] == 0, ['supporting_reads']+class_vars].copy())\n",
    "nc_apadb   = nc_all.sample(n = len(apadb_filt),   replace = False, random_state = 1234)\n",
    "nc_polyadb = nc_all.sample(n = len(polyadb_filt), replace = False, random_state = 1234)\n",
    "\n",
    "print(\"APADB NCs:\", nc_apadb.shape)\n",
    "print(\"PolyaDB NCs:\", nc_polyadb.shape)\n"
   ]
  },
  {
   "cell_type": "code",
   "execution_count": 35,
   "metadata": {},
   "outputs": [],
   "source": [
    "apadb_comb_nc = pd.concat([apadb_filt.rename(columns = {'maceReads' : 'supporting_reads'}), nc_apadb], ignore_index = True, sort = False)[['supporting_reads']+class_vars]\n",
    "apadb_comb_nc['binary_class'] = (apadb_comb_nc['supporting_reads'] > 0)\n",
    "\n",
    "apadb_shifted_comb_nc = pd.concat([apadb_shifted_filt.rename(columns = {'maceReads' : 'supporting_reads'}), nc_apadb], ignore_index = True, sort = False)[['supporting_reads']+class_vars]\n",
    "apadb_shifted_comb_nc['binary_class'] = (apadb_shifted_comb_nc['supporting_reads'] > 0)\n",
    "\n",
    "polyadb_comb_nc = pd.concat([polyadb_filt.rename(columns = {'Mean RPM' : 'supporting_reads'}), nc_polyadb], ignore_index = True, sort = False)[['supporting_reads']+class_vars]\n",
    "polyadb_comb_nc['binary_class'] = (polyadb_comb_nc['supporting_reads'] > 0)\n",
    "\n",
    "polyadb_shifted_comb_nc = pd.concat([polyadb_shifted_filt.rename(columns = {'Mean RPM' : 'supporting_reads'}), nc_polyadb], ignore_index = True, sort = False)[['supporting_reads']+class_vars]\n",
    "polyadb_shifted_comb_nc['binary_class'] = (polyadb_shifted_comb_nc['supporting_reads'] > 0)\n"
   ]
  },
  {
   "cell_type": "code",
   "execution_count": 36,
   "metadata": {},
   "outputs": [],
   "source": [
    "class_aurocs_apadb           = []\n",
    "class_aurocs_apadb_shifted   = []\n",
    "class_aurocs_polyadb         = []\n",
    "class_aurocs_polyadb_shifted = []\n",
    "\n",
    "class_auprcs_apadb           = []\n",
    "class_auprcs_apadb_shifted   = []\n",
    "class_auprcs_polyadb         = []\n",
    "class_auprcs_polyadb_shifted = []\n",
    "\n",
    "for (v,l) in zip(class_vars,class_labs):\n",
    "    \n",
    "    auroc, auprc = classification_cleavage.calculate_auc(apadb_comb_nc['binary_class'].ravel(), apadb_comb_nc[v].ravel())\n",
    "    class_aurocs_apadb.append(auroc)\n",
    "    class_auprcs_apadb.append(auprc)\n",
    "    \n",
    "    auroc, auprc = classification_cleavage.calculate_auc(apadb_shifted_comb_nc['binary_class'].ravel(), apadb_shifted_comb_nc[v].ravel())\n",
    "    class_aurocs_apadb_shifted.append(auroc)\n",
    "    class_auprcs_apadb_shifted.append(auprc)\n",
    "    \n",
    "    auroc, auprc = classification_cleavage.calculate_auc(polyadb_comb_nc['binary_class'].ravel(), polyadb_comb_nc[v].ravel())\n",
    "    class_aurocs_polyadb.append(auroc)\n",
    "    class_auprcs_polyadb.append(auprc)\n",
    "    \n",
    "    auroc, auprc = classification_cleavage.calculate_auc(polyadb_shifted_comb_nc['binary_class'].ravel(), polyadb_shifted_comb_nc[v].ravel())\n",
    "    class_aurocs_polyadb_shifted.append(auroc)\n",
    "    class_auprcs_polyadb_shifted.append(auprc)\n"
   ]
  },
  {
   "cell_type": "code",
   "execution_count": 37,
   "metadata": {},
   "outputs": [
    {
     "data": {
      "image/png": "[encoded data removed]",
      "text/plain": [
       "<Figure size 54x108 with 1 Axes>"
      ]
     },
     "metadata": {
      "needs_background": "light"
     },
     "output_type": "display_data"
    },
    {
     "name": "stdout",
     "output_type": "stream",
     "text": [
      "Corresponding AUROCs:\n",
      "\tPolyaID         0.949\n",
      "\tDeepPASTA       0.829\n",
      "\tAPARENT         0.915\n",
      "\tAPARENT2        0.940\n",
      "\tPolyApredictors 0.813\n"
     ]
    },
    {
     "data": {
      "image/png": "[encoded data removed]",
      "text/plain": [
       "<Figure size 54x108 with 1 Axes>"
      ]
     },
     "metadata": {
      "needs_background": "light"
     },
     "output_type": "display_data"
    },
    {
     "name": "stdout",
     "output_type": "stream",
     "text": [
      "Corresponding AURPCs:\n",
      "\tPolyaID         0.964\n",
      "\tDeepPASTA       0.875\n",
      "\tAPARENT         0.914\n",
      "\tAPARENT2        0.937\n",
      "\tPolyApredictors 0.821\n"
     ]
    }
   ],
   "source": [
    "fig,ax = plt.subplots(1,1, figsize = (0.75,1.5))\n",
    "\n",
    "ax.bar(class_labs, class_aurocs_apadb, color = [palette.get(x) for x in class_labs], edgecolor = 'black', linewidth = 0.5)\n",
    "\n",
    "ax.set_xticks(np.arange(len(class_labs)))\n",
    "ax.set_xticklabels(class_labs, rotation = 45, ha = 'right', va = 'top')\n",
    "\n",
    "ax.set_ylim(0.4,1)\n",
    "ax.set_ylabel(\"Classification AUROC on APADB sites\")\n",
    "\n",
    "ax.spines['right'].set_visible(False)\n",
    "ax.spines['top'].set_visible(False)\n",
    "\n",
    "plt.savefig(os.path.join(OUTDIR, 'benchmark_databases.apadb_class.auroc_barplot.svg'), format = 'svg', dpi = 600, transparent = True)\n",
    "plt.show()\n",
    "\n",
    "print(\"Corresponding AUROCs:\")\n",
    "for m,a in zip(class_labs, class_aurocs_apadb):\n",
    "    print(f\"\\t{m:15} {a:.03f}\")\n",
    "\n",
    "\n",
    "    \n",
    "fig,ax = plt.subplots(1,1, figsize = (0.75,1.5))\n",
    "\n",
    "ax.bar(class_labs, class_auprcs_apadb, color = [palette.get(x) for x in class_labs], edgecolor = 'black', linewidth = 0.5)\n",
    "\n",
    "ax.set_xticks(np.arange(len(class_labs)))\n",
    "ax.set_xticklabels(class_labs, rotation = 45, ha = 'right', va = 'top')\n",
    "\n",
    "ax.set_ylim(0.4,1)\n",
    "ax.set_ylabel(\"Classification AUPRC on APADB sites\")\n",
    "\n",
    "ax.spines['right'].set_visible(False)\n",
    "ax.spines['top'].set_visible(False)\n",
    "\n",
    "plt.savefig(os.path.join(OUTDIR, 'benchmark_databases.apadb_class.auprc_barplot.svg'), format = 'svg', dpi = 600, transparent = True)\n",
    "plt.show()\n",
    "\n",
    "print(\"Corresponding AURPCs:\")\n",
    "for m,a in zip(class_labs, class_auprcs_apadb):\n",
    "    print(f\"\\t{m:15} {a:.03f}\")\n"
   ]
  },
  {
   "cell_type": "code",
   "execution_count": 38,
   "metadata": {},
   "outputs": [
    {
     "data": {
      "image/png": "[encoded data removed]",
      "text/plain": [
       "<Figure size 54x108 with 1 Axes>"
      ]
     },
     "metadata": {
      "needs_background": "light"
     },
     "output_type": "display_data"
    },
    {
     "name": "stdout",
     "output_type": "stream",
     "text": [
      "Corresponding AUROCs:\n",
      "\tPolyaID         0.946\n",
      "\tDeepPASTA       0.604\n",
      "\tAPARENT         0.811\n",
      "\tAPARENT2        0.866\n",
      "\tPolyApredictors 0.810\n"
     ]
    },
    {
     "data": {
      "image/png": "[encoded data removed]",
      "text/plain": [
       "<Figure size 54x108 with 1 Axes>"
      ]
     },
     "metadata": {
      "needs_background": "light"
     },
     "output_type": "display_data"
    },
    {
     "name": "stdout",
     "output_type": "stream",
     "text": [
      "Corresponding AUPRCs:\n",
      "\tPolyaID         0.962\n",
      "\tDeepPASTA       0.508\n",
      "\tAPARENT         0.832\n",
      "\tAPARENT2        0.873\n",
      "\tPolyApredictors 0.823\n"
     ]
    }
   ],
   "source": [
    "fig,ax = plt.subplots(1,1, figsize = (0.75,1.5))\n",
    "\n",
    "ax.bar(class_labs, class_aurocs_apadb_shifted, color = [palette.get(x) for x in class_labs], edgecolor = 'black', linewidth = 0.5)\n",
    "\n",
    "ax.set_xticks(np.arange(len(class_labs)))\n",
    "ax.set_xticklabels(class_labs, rotation = 45, ha = 'right', va = 'top')\n",
    "\n",
    "ax.set_ylim(0.4,1)\n",
    "ax.set_ylabel(\"Classification AUROC on APADB sites\")\n",
    "\n",
    "ax.spines['right'].set_visible(False)\n",
    "ax.spines['top'].set_visible(False)\n",
    "\n",
    "plt.savefig(os.path.join(OUTDIR, 'benchmark_databases.apadb_class.auroc_barplot.adjacent.svg'), format = 'svg', dpi = 600, transparent = True)\n",
    "plt.show()\n",
    "\n",
    "print(\"Corresponding AUROCs:\")\n",
    "for m,a in zip(class_labs, class_aurocs_apadb_shifted):\n",
    "    print(f\"\\t{m:15} {a:.03f}\")\n",
    "\n",
    "\n",
    "    \n",
    "fig,ax = plt.subplots(1,1, figsize = (0.75,1.5))\n",
    "\n",
    "ax.bar(class_labs, class_auprcs_apadb_shifted, color = [palette.get(x) for x in class_labs], edgecolor = 'black', linewidth = 0.5)\n",
    "\n",
    "ax.set_xticks(np.arange(len(class_labs)))\n",
    "ax.set_xticklabels(class_labs, rotation = 45, ha = 'right', va = 'top')\n",
    "\n",
    "ax.set_ylim(0.4,1)\n",
    "ax.set_ylabel(\"Classification AUPRC on APADB sites\")\n",
    "\n",
    "ax.spines['right'].set_visible(False)\n",
    "ax.spines['top'].set_visible(False)\n",
    "\n",
    "plt.savefig(os.path.join(OUTDIR, 'benchmark_databases.apadb_class.auprc_barplot.adjacent.svg'), format = 'svg', dpi = 600, transparent = True)\n",
    "plt.show()\n",
    "\n",
    "print(\"Corresponding AUPRCs:\")\n",
    "for m,a in zip(class_labs, class_auprcs_apadb_shifted):\n",
    "    print(f\"\\t{m:15} {a:.03f}\")\n"
   ]
  },
  {
   "cell_type": "code",
   "execution_count": 39,
   "metadata": {},
   "outputs": [
    {
     "data": {
      "image/png": "[encoded data removed]",
      "text/plain": [
       "<Figure size 54x108 with 1 Axes>"
      ]
     },
     "metadata": {
      "needs_background": "light"
     },
     "output_type": "display_data"
    },
    {
     "name": "stdout",
     "output_type": "stream",
     "text": [
      "Corresponding AUROCs:\n",
      "\tPolyaID         0.956\n",
      "\tDeepPASTA       0.914\n",
      "\tAPARENT         0.930\n",
      "\tAPARENT2        0.935\n",
      "\tPolyApredictors 0.794\n"
     ]
    },
    {
     "data": {
      "image/png": "[encoded data removed]",
      "text/plain": [
       "<Figure size 54x108 with 1 Axes>"
      ]
     },
     "metadata": {
      "needs_background": "light"
     },
     "output_type": "display_data"
    },
    {
     "name": "stdout",
     "output_type": "stream",
     "text": [
      "Corresponding AUPRCs:\n",
      "\tPolyaID         0.969\n",
      "\tDeepPASTA       0.935\n",
      "\tAPARENT         0.932\n",
      "\tAPARENT2        0.938\n",
      "\tPolyApredictors 0.801\n"
     ]
    }
   ],
   "source": [
    "fig,ax = plt.subplots(1,1, figsize = (0.75,1.5))\n",
    "\n",
    "ax.bar(class_labs, class_aurocs_polyadb, color = [palette.get(x) for x in class_labs], edgecolor = 'black', linewidth = 0.5)\n",
    "\n",
    "ax.set_xticks(np.arange(len(class_labs)))\n",
    "ax.set_xticklabels(class_labs, rotation = 45, ha = 'right', va = 'top')\n",
    "\n",
    "ax.set_ylim(0.5,1)\n",
    "ax.set_ylabel(\"Classification AUROC on Polya_DB sites\")\n",
    "\n",
    "ax.spines['right'].set_visible(False)\n",
    "ax.spines['top'].set_visible(False)\n",
    "\n",
    "plt.savefig(os.path.join(OUTDIR, 'benchmark_databases.polyadb_class.auroc_barplot.svg'), format = 'svg', dpi = 600, transparent = True)\n",
    "plt.show()\n",
    "\n",
    "print(\"Corresponding AUROCs:\")\n",
    "for m,a in zip(class_labs, class_aurocs_polyadb):\n",
    "    print(f\"\\t{m:15} {a:.03f}\")\n",
    "\n",
    "    \n",
    "    \n",
    "fig,ax = plt.subplots(1,1, figsize = (0.75,1.5))\n",
    "\n",
    "ax.bar(class_labs, class_auprcs_polyadb, color = [palette.get(x) for x in class_labs], edgecolor = 'black', linewidth = 0.5)\n",
    "\n",
    "ax.set_xticks(np.arange(len(class_labs)))\n",
    "ax.set_xticklabels(class_labs, rotation = 45, ha = 'right', va = 'top')\n",
    "\n",
    "ax.set_ylim(0.5,1)\n",
    "ax.set_ylabel(\"Classification AUPRC on Polya_DB sites\")\n",
    "\n",
    "ax.spines['right'].set_visible(False)\n",
    "ax.spines['top'].set_visible(False)\n",
    "\n",
    "plt.savefig(os.path.join(OUTDIR, 'benchmark_databases.polyadb_class.auprc_barplot.svg'), format = 'svg', dpi = 600, transparent = True)\n",
    "plt.show()\n",
    "\n",
    "print(\"Corresponding AUPRCs:\")\n",
    "for m,a in zip(class_labs, class_auprcs_polyadb):\n",
    "    print(f\"\\t{m:15} {a:.03f}\")\n"
   ]
  },
  {
   "cell_type": "code",
   "execution_count": 40,
   "metadata": {},
   "outputs": [
    {
     "data": {
      "image/png": "[encoded data removed]",
      "text/plain": [
       "<Figure size 54x108 with 1 Axes>"
      ]
     },
     "metadata": {
      "needs_background": "light"
     },
     "output_type": "display_data"
    },
    {
     "name": "stdout",
     "output_type": "stream",
     "text": [
      "Corresponding AUROCs:\n",
      "\tPolyaID         0.955\n",
      "\tDeepPASTA       0.609\n",
      "\tAPARENT         0.816\n",
      "\tAPARENT2        0.861\n",
      "\tPolyApredictors 0.796\n"
     ]
    },
    {
     "data": {
      "image/png": "[encoded data removed]",
      "text/plain": [
       "<Figure size 54x108 with 1 Axes>"
      ]
     },
     "metadata": {
      "needs_background": "light"
     },
     "output_type": "display_data"
    },
    {
     "name": "stdout",
     "output_type": "stream",
     "text": [
      "Corresponding AUPRCs:\n",
      "\tPolyaID         0.968\n",
      "\tDeepPASTA       0.511\n",
      "\tAPARENT         0.839\n",
      "\tAPARENT2        0.877\n",
      "\tPolyApredictors 0.809\n"
     ]
    }
   ],
   "source": [
    "fig,ax = plt.subplots(1,1, figsize = (0.75,1.5))\n",
    "\n",
    "ax.bar(class_labs, class_aurocs_polyadb_shifted, color = [palette.get(x) for x in class_labs], edgecolor = 'black', linewidth = 0.5)\n",
    "\n",
    "ax.set_xticks(np.arange(len(class_labs)))\n",
    "ax.set_xticklabels(class_labs, rotation = 45, ha = 'right', va = 'top')\n",
    "\n",
    "ax.set_ylim(0.5,1)\n",
    "ax.set_ylabel(\"Classification AUROC on Polya_DB sites\")\n",
    "\n",
    "ax.spines['right'].set_visible(False)\n",
    "ax.spines['top'].set_visible(False)\n",
    "\n",
    "plt.savefig(os.path.join(OUTDIR, 'benchmark_databases.polyadb_class.auroc_barplot.adjacent.svg'), format = 'svg', dpi = 600, transparent = True)\n",
    "plt.show()\n",
    "\n",
    "print(\"Corresponding AUROCs:\")\n",
    "for m,a in zip(class_labs, class_aurocs_polyadb_shifted):\n",
    "    print(f\"\\t{m:15} {a:.03f}\")\n",
    "\n",
    "    \n",
    "    \n",
    "fig,ax = plt.subplots(1,1, figsize = (0.75,1.5))\n",
    "\n",
    "ax.bar(class_labs, class_auprcs_polyadb_shifted, color = [palette.get(x) for x in class_labs], edgecolor = 'black', linewidth = 0.5)\n",
    "\n",
    "ax.set_xticks(np.arange(len(class_labs)))\n",
    "ax.set_xticklabels(class_labs, rotation = 45, ha = 'right', va = 'top')\n",
    "\n",
    "ax.set_ylim(0.5,1)\n",
    "ax.set_ylabel(\"Classification AUPRC on Polya_DB sites\")\n",
    "\n",
    "ax.spines['right'].set_visible(False)\n",
    "ax.spines['top'].set_visible(False)\n",
    "\n",
    "plt.savefig(os.path.join(OUTDIR, 'benchmark_databases.polyadb_class.auprc_barplot.adjacent.svg'), format = 'svg', dpi = 600, transparent = True)\n",
    "plt.show()\n",
    "\n",
    "print(\"Corresponding AUPRCs:\")\n",
    "for m,a in zip(class_labs, class_auprcs_polyadb_shifted):\n",
    "    print(f\"\\t{m:15} {a:.03f}\")\n"
   ]
  },
  {
   "cell_type": "markdown",
   "metadata": {},
   "source": [
    "### Classification of highly vs lowly used sites (or \"strong\" vs \"weak\")"
   ]
  },
  {
   "cell_type": "code",
   "execution_count": 41,
   "metadata": {},
   "outputs": [
    {
     "name": "stdout",
     "output_type": "stream",
     "text": [
      "APADB pairs: 5023\n",
      "PolyA_DB pairs: 4217\n"
     ]
    }
   ],
   "source": [
    "with open(os.path.join(RESDIR, 'apadb_pairs.wide.pickle'), mode = 'rb') as handle:\n",
    "    pairs_apadb = pickle.load(handle)\n",
    "\n",
    "with open(os.path.join(RESDIR, 'polyadb_pairs.wide.pickle'), mode = 'rb') as handle:\n",
    "    pairs_polyadb = pickle.load(handle)\n",
    "\n",
    "print(\"APADB pairs:\", len(pairs_apadb))\n",
    "print(\"PolyA_DB pairs:\", len(pairs_polyadb))\n"
   ]
  },
  {
   "cell_type": "code",
   "execution_count": 42,
   "metadata": {},
   "outputs": [],
   "source": [
    "strength_vars = ['our-models_strength','deeppasta_classification','aparent_isoformAbundance','aparent-resnet_isoformAbundance','polyapredictors_expression']\n",
    "strength_labs = ['PolyaStrength','DeepPASTA','APARENT','APARENT2','PolyApredictors']\n",
    "\n",
    "strength_aurocs_apadb   = []\n",
    "strength_auprcs_apadb   = []\n",
    "strength_aurocs_polyadb = []\n",
    "strength_auprcs_polyadb = []\n",
    "\n",
    "for (v,l) in zip(strength_vars,strength_labs):\n",
    "\n",
    "    pairs_apadb[f'rd_{l}'] = 0\n",
    "    pairs_apadb.loc[pairs_apadb['random_class'] == 0, f'rd_{l}'] = pairs_apadb[f'{v}_mix'] - pairs_apadb[f'{v}_max']\n",
    "    pairs_apadb.loc[pairs_apadb['random_class'] == 1, f'rd_{l}'] = pairs_apadb[f'{v}_max'] - pairs_apadb[f'{v}_mix']\n",
    "    \n",
    "    pairs_polyadb[f'rd_{l}'] = 0\n",
    "    pairs_polyadb.loc[pairs_polyadb['random_class'] == 0, f'rd_{l}'] = pairs_polyadb[f'{v}_mix'] - pairs_polyadb[f'{v}_max']\n",
    "    pairs_polyadb.loc[pairs_polyadb['random_class'] == 1, f'rd_{l}'] = pairs_polyadb[f'{v}_max'] - pairs_polyadb[f'{v}_mix']\n",
    "    \n",
    "    auroc, auprc = classification_cleavage.calculate_auc(pairs_apadb['random_class'].ravel(), pairs_apadb[f'rd_{l}'].ravel())\n",
    "    strength_aurocs_apadb.append(auroc)\n",
    "    strength_auprcs_apadb.append(auprc)\n",
    "    \n",
    "    auroc, auprc = classification_cleavage.calculate_auc(pairs_polyadb['random_class'].ravel(), pairs_polyadb[f'rd_{l}'].ravel())\n",
    "    strength_aurocs_polyadb.append(auroc)\n",
    "    strength_auprcs_polyadb.append(auprc)\n"
   ]
  },
  {
   "cell_type": "code",
   "execution_count": 43,
   "metadata": {},
   "outputs": [
    {
     "data": {
      "image/png": "[encoded data removed]",
      "text/plain": [
       "<Figure size 54x108 with 1 Axes>"
      ]
     },
     "metadata": {
      "needs_background": "light"
     },
     "output_type": "display_data"
    },
    {
     "name": "stdout",
     "output_type": "stream",
     "text": [
      "Corresponding AUROCs:\n",
      "\tPolyaStrength   0.901\n",
      "\tDeepPASTA       0.689\n",
      "\tAPARENT         0.756\n",
      "\tAPARENT2        0.872\n",
      "\tPolyApredictors 0.654\n"
     ]
    },
    {
     "data": {
      "image/png": "[encoded data removed]",
      "text/plain": [
       "<Figure size 54x108 with 1 Axes>"
      ]
     },
     "metadata": {
      "needs_background": "light"
     },
     "output_type": "display_data"
    },
    {
     "name": "stdout",
     "output_type": "stream",
     "text": [
      "Corresponding AUPRCs:\n",
      "\tPolyaStrength   0.898\n",
      "\tDeepPASTA       0.669\n",
      "\tAPARENT         0.749\n",
      "\tAPARENT2        0.869\n",
      "\tPolyApredictors 0.642\n"
     ]
    }
   ],
   "source": [
    "fig,ax = plt.subplots(1,1, figsize = (0.75,1.5))\n",
    "\n",
    "ax.bar(strength_labs, strength_aurocs_apadb, color = [palette.get(x) for x in strength_labs], edgecolor = 'black', linewidth = 0.5)\n",
    "\n",
    "ax.set_xticks(np.arange(len(strength_labs)))\n",
    "ax.set_xticklabels(strength_labs, rotation = 45, ha = 'right', va = 'top')\n",
    "\n",
    "ax.set_ylim(0.5,1)\n",
    "ax.set_ylabel(\"Pairs AUROC on APADB sites\")\n",
    "\n",
    "ax.spines['right'].set_visible(False)\n",
    "ax.spines['top'].set_visible(False)\n",
    "\n",
    "plt.savefig(os.path.join(OUTDIR, 'benchmark_databases.apadb_pairs.auroc_barplot.svg'), format = 'svg', dpi = 600, transparent = True)\n",
    "plt.show()\n",
    "\n",
    "print(\"Corresponding AUROCs:\")\n",
    "for m,a in zip(strength_labs,strength_aurocs_apadb):\n",
    "    print(f\"\\t{m:15} {a:.03f}\")\n",
    "\n",
    "    \n",
    "    \n",
    "fig,ax = plt.subplots(1,1, figsize = (0.75,1.5))\n",
    "\n",
    "ax.bar(strength_labs, strength_auprcs_apadb, color = [palette.get(x) for x in strength_labs], edgecolor = 'black', linewidth = 0.5)\n",
    "\n",
    "ax.set_xticks(np.arange(len(strength_labs)))\n",
    "ax.set_xticklabels(strength_labs, rotation = 45, ha = 'right', va = 'top')\n",
    "\n",
    "ax.set_ylim(0.5,1)\n",
    "ax.set_ylabel(\"Pairs AUPRC on APADB sites\")\n",
    "\n",
    "ax.spines['right'].set_visible(False)\n",
    "ax.spines['top'].set_visible(False)\n",
    "\n",
    "plt.savefig(os.path.join(OUTDIR, 'benchmark_databases.apadb_pairs.auprc_barplot.svg'), format = 'svg', dpi = 600, transparent = True)\n",
    "plt.show()\n",
    "\n",
    "print(\"Corresponding AUPRCs:\")\n",
    "for m,a in zip(strength_labs,strength_auprcs_apadb):\n",
    "    print(f\"\\t{m:15} {a:.03f}\")\n"
   ]
  },
  {
   "cell_type": "code",
   "execution_count": 44,
   "metadata": {},
   "outputs": [
    {
     "data": {
      "image/png": "[encoded data removed]",
      "text/plain": [
       "<Figure size 54x108 with 1 Axes>"
      ]
     },
     "metadata": {
      "needs_background": "light"
     },
     "output_type": "display_data"
    },
    {
     "name": "stdout",
     "output_type": "stream",
     "text": [
      "Corresponding AUROCs:\n",
      "\tPolyaStrength   0.923\n",
      "\tDeepPASTA       0.755\n",
      "\tAPARENT         0.827\n",
      "\tAPARENT2        0.868\n",
      "\tPolyApredictors 0.683\n"
     ]
    },
    {
     "data": {
      "image/png": "[encoded data removed]",
      "text/plain": [
       "<Figure size 54x108 with 1 Axes>"
      ]
     },
     "metadata": {
      "needs_background": "light"
     },
     "output_type": "display_data"
    },
    {
     "name": "stdout",
     "output_type": "stream",
     "text": [
      "Corresponding AUPRCs:\n",
      "\tPolyaStrength   0.921\n",
      "\tDeepPASTA       0.745\n",
      "\tAPARENT         0.825\n",
      "\tAPARENT2        0.858\n",
      "\tPolyApredictors 0.666\n"
     ]
    }
   ],
   "source": [
    "fig,ax = plt.subplots(1,1, figsize = (0.75,1.5))\n",
    "\n",
    "ax.bar(strength_labs, strength_aurocs_polyadb, color = [palette.get(x) for x in strength_labs], edgecolor = 'black', linewidth = 0.5)\n",
    "\n",
    "ax.set_xticks(np.arange(len(strength_labs)))\n",
    "ax.set_xticklabels(strength_labs, rotation = 45, ha = 'right', va = 'top')\n",
    "\n",
    "ax.set_ylim(0.5,1)\n",
    "ax.set_ylabel(\"Pairs AUROC on PolyA_DB sites\")\n",
    "\n",
    "ax.spines['right'].set_visible(False)\n",
    "ax.spines['top'].set_visible(False)\n",
    "\n",
    "plt.savefig(os.path.join(OUTDIR, 'benchmark_databases.polyadb_pairs.auroc_barplot.svg'), format = 'svg', dpi = 600, transparent = True)\n",
    "plt.show()\n",
    "\n",
    "print(\"Corresponding AUROCs:\")\n",
    "for m,a in zip(strength_labs,strength_aurocs_polyadb):\n",
    "    print(f\"\\t{m:15} {a:.03f}\")\n",
    "\n",
    "    \n",
    "    \n",
    "fig,ax = plt.subplots(1,1, figsize = (0.75,1.5))\n",
    "\n",
    "ax.bar(strength_labs, strength_auprcs_polyadb, color = [palette.get(x) for x in strength_labs], edgecolor = 'black', linewidth = 0.5)\n",
    "\n",
    "ax.set_xticks(np.arange(len(strength_labs)))\n",
    "ax.set_xticklabels(strength_labs, rotation = 45, ha = 'right', va = 'top')\n",
    "\n",
    "ax.set_ylim(0.5,1)\n",
    "ax.set_ylabel(\"Pairs AUPRC on PolyA_DB sites\")\n",
    "\n",
    "ax.spines['right'].set_visible(False)\n",
    "ax.spines['top'].set_visible(False)\n",
    "\n",
    "plt.savefig(os.path.join(OUTDIR, 'benchmark_databases.polyadb_pairs.auprc_barplot.svg'), format = 'svg', dpi = 600, transparent = True)\n",
    "plt.show()\n",
    "\n",
    "print(\"Corresponding AUPRCs:\")\n",
    "for m,a in zip(strength_labs,strength_auprcs_polyadb):\n",
    "    print(f\"\\t{m:15} {a:.03f}\")\n"
   ]
  },
  {
   "cell_type": "code",
   "execution_count": null,
   "metadata": {},
   "outputs": [],
   "source": []
  }
 ],
 "metadata": {
  "kernelspec": {
   "display_name": "Python (tf-train)",
   "language": "python",
   "name": "tf-train"
  },
  "language_info": {
   "codemirror_mode": {
    "name": "ipython",
    "version": 3
   },
   "file_extension": ".py",
   "mimetype": "text/x-python",
   "name": "python",
   "nbconvert_exporter": "python",
   "pygments_lexer": "ipython3",
   "version": "3.6.12"
  },
  "vscode": {
   "interpreter": {
    "hash": "425115ae6637ada2b959655b34e22bdfbab2786b72fd7a6ba9076b4d899c9624"
   }
  }
 },
 "nbformat": 4,
 "nbformat_minor": 2
}
